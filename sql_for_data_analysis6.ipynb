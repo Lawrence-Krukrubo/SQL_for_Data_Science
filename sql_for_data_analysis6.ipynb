{
 "cells": [
  {
   "cell_type": "markdown",
   "id": "paperback-detector",
   "metadata": {},
   "source": [
    "# SQL Data Cleaning 1\n",
    "\n",
    "\n",
    "**In this lesson, you will be learning a number of techniques to**\n",
    "\n",
    "* Clean and re-structure messy data.\n",
    "* Convert columns to different data types.\n",
    "* Tricks for manipulating NULLs.\n",
    "\n",
    "This will give you a robust toolkit to get from raw data to clean data that's useful for analysis.\n"
   ]
  },
  {
   "cell_type": "markdown",
   "id": "trying-tongue",
   "metadata": {},
   "source": [
    "We connect to MySQL server and workbench and make analysis with the parch-and-posey database. This course is the practicals of the course SQL for Data Analysis at Udacity."
   ]
  },
  {
   "cell_type": "code",
   "execution_count": null,
   "id": "dynamic-fraction",
   "metadata": {},
   "outputs": [],
   "source": [
    "# we import some required libraries\n",
    "\n",
    "import pandas as pd\n",
    "import numpy as np\n",
    "import matplotlib.pyplot as plt\n",
    "import seaborn as sns\n",
    "from pprint import pprint\n",
    "import time\n",
    "print('Done!')"
   ]
  },
  {
   "cell_type": "code",
   "execution_count": null,
   "id": "rocky-florist",
   "metadata": {},
   "outputs": [],
   "source": [
    "import mysql\n",
    "from mysql.connector import Error\n",
    "from getpass import getpass\n",
    "\n",
    "db_name = 'parch_and_posey'\n",
    "try:\n",
    "    connection = mysql.connector.connect(host='localhost',\n",
    "                                         database=db_name,\n",
    "                                         user=input('Enter UserName:'),\n",
    "                                         password=getpass('Enter Password:'))\n",
    "    if connection.is_connected():\n",
    "        db_Info = connection.get_server_info()\n",
    "        print(\"Connected to MySQL Server version \", db_Info)\n",
    "        cursor = connection.cursor()\n",
    "        cursor.execute(\"select database();\")\n",
    "        record = cursor.fetchone()\n",
    "        print(\"You're connected to database: \", record)\n",
    "\n",
    "except Error as e:\n",
    "    print(\"Error while connecting to MySQL\", e)"
   ]
  },
  {
   "cell_type": "code",
   "execution_count": null,
   "id": "coordinated-convention",
   "metadata": {},
   "outputs": [],
   "source": [
    "# Let's see the tables in the database\n",
    "\n",
    "# let's run the show tables command \n",
    "\n",
    "cursor.execute('show tables')\n",
    "out = cursor.fetchall()\n",
    "out"
   ]
  },
  {
   "cell_type": "markdown",
   "id": "democratic-shade",
   "metadata": {},
   "source": [
    "**Defining a method that converts the result of a query to a dataframe**"
   ]
  },
  {
   "cell_type": "code",
   "execution_count": null,
   "id": "maritime-boring",
   "metadata": {},
   "outputs": [],
   "source": [
    "def query_to_df(query):\n",
    "    st = time.time()\n",
    "    # Assert Every Query ends with a semi-colon\n",
    "    try:\n",
    "        assert query.endswith(';')\n",
    "    except AssertionError:\n",
    "        return 'ERROR: Query Must End with ;'\n",
    "\n",
    "    # so we never have more than 20 rows displayed\n",
    "    pd.set_option('display.max_rows', 20) \n",
    "    df = None\n",
    "\n",
    "    # Process the query\n",
    "    cursor.execute(query)\n",
    "    columns = cursor.description\n",
    "    result = []\n",
    "    for value in cursor.fetchall():\n",
    "        tmp = {}\n",
    "        for (index,column) in enumerate(value):\n",
    "            tmp[columns[index][0]] = [column]\n",
    "        result.append(tmp)\n",
    "\n",
    "    # Create a DataFrame from all results\n",
    "    for ind, data in enumerate(result):\n",
    "        if ind >= 1:\n",
    "            x = pd.DataFrame(data)\n",
    "            df = pd.concat([df, x], ignore_index=True)\n",
    "        else:\n",
    "            df = pd.DataFrame(data)\n",
    "    print(f'Query ran for {time.time()-st} secs!')\n",
    "    return df"
   ]
  },
  {
   "cell_type": "code",
   "execution_count": null,
   "id": "black-reader",
   "metadata": {},
   "outputs": [],
   "source": [
    "# 1. For the accounts table\n",
    "\n",
    "query = 'SELECT * FROM accounts LIMIT 3;'\n",
    "query_to_df(query)"
   ]
  },
  {
   "cell_type": "code",
   "execution_count": null,
   "id": "renewable-capitol",
   "metadata": {},
   "outputs": [],
   "source": [
    "# 2. For the orders table\n",
    "\n",
    "query = 'SELECT * FROM orders LIMIT 3;'\n",
    "query_to_df(query)"
   ]
  },
  {
   "cell_type": "code",
   "execution_count": null,
   "id": "fewer-legend",
   "metadata": {},
   "outputs": [],
   "source": [
    "# 3. For the sales_reps table\n",
    "\n",
    "query = 'SELECT * FROM sales_reps LIMIT 3;'\n",
    "query_to_df(query)"
   ]
  },
  {
   "cell_type": "code",
   "execution_count": null,
   "id": "existing-barrier",
   "metadata": {},
   "outputs": [],
   "source": [
    "# 4. For the web_events table\n",
    "\n",
    "query = 'SELECT * FROM web_events LIMIT 3;'\n",
    "query_to_df(query)"
   ]
  },
  {
   "cell_type": "code",
   "execution_count": null,
   "id": "intended-nursery",
   "metadata": {},
   "outputs": [],
   "source": [
    "# 5. For the region table\n",
    "\n",
    "query = 'SELECT * FROM region LIMIT 3;'\n",
    "query_to_df(query)"
   ]
  },
  {
   "cell_type": "markdown",
   "id": "broadband-while",
   "metadata": {},
   "source": [
    "### LEFT\n",
    "### RIGHT\n",
    "### LENGTH\n",
    "\n",
    "**LEFT** pulls a specified number of characters for each row in a specified column starting at the beginning (or from the left). As you saw here, you can pull the first three digits of a phone number using LEFT(phone_number, 3).\n",
    "\n",
    "\n",
    "**RIGHT** pulls a specified number of characters for each row in a specified column starting at the end (or from the right). As you saw here, you can pull the last eight digits of a phone number using RIGHT(phone_number, 8).\n",
    "\n",
    "\n",
    "**LENGTH** provides the number of characters for each row of a specified column. Here, you saw that we could use this to get the length of each phone number as LENGTH(phone_number).\n",
    "\n",
    "\n",
    "**LEFT & RIGHT Quizzes**"
   ]
  },
  {
   "cell_type": "markdown",
   "id": "automatic-adams",
   "metadata": {},
   "source": [
    "* In the accounts table, there is a column holding the website for each company. The last three digits specify what type of web address they are using. Pull these extensions and provide how many of each website type exist in the accounts table."
   ]
  },
  {
   "cell_type": "code",
   "execution_count": null,
   "id": "bulgarian-mainstream",
   "metadata": {},
   "outputs": [],
   "source": [
    "query_to_df(\n",
    "\"SELECT RIGHT(website, 3) website_type, COUNT(*) counts FROM accounts GROUP BY 1;\"\n",
    ")"
   ]
  },
  {
   "cell_type": "markdown",
   "id": "intended-fundamentals",
   "metadata": {},
   "source": [
    "* There is much debate about how much the name (or even the first letter of a company name) matters. Use the accounts table to pull the first letter of each company name to see the distribution of company names that begin with each letter (or number)."
   ]
  },
  {
   "cell_type": "code",
   "execution_count": null,
   "id": "caring-filing",
   "metadata": {},
   "outputs": [],
   "source": [
    "query_to_df(\n",
    "\"SELECT LEFT(name, 1) first_char, COUNT(*) counts FROM accounts GROUP BY 1 ORDER BY 2 DESC;\"\n",
    ")"
   ]
  },
  {
   "cell_type": "markdown",
   "id": "fantastic-scanner",
   "metadata": {},
   "source": [
    "* Use the accounts table and a CASE statement to create two groups: one group of company names that start with a number and a second group of those company names that start with a letter. What proportion of company names start with a letter?"
   ]
  },
  {
   "cell_type": "code",
   "execution_count": null,
   "id": "center-alexander",
   "metadata": {},
   "outputs": [],
   "source": [
    "# Let's see the spread of company names starting with either alphabets or numbers\n",
    "\n",
    "query_to_df(\n",
    "\"WITH \\\n",
    "table1 AS (SELECT LEFT(a.name, 1) first_char FROM accounts a), \\\n",
    "table2 AS (SELECT CASE WHEN first_char = first_char*10 THEN 'is_alpha' ELSE 'is_num' END first_char, COUNT(*) counts \\\n",
    "FROM table1 GROUP BY 1) \\\n",
    "SELECT * FROM table2;\"\n",
    ")"
   ]
  },
  {
   "cell_type": "code",
   "execution_count": null,
   "id": "italian-coordinate",
   "metadata": {},
   "outputs": [],
   "source": [
    "# Next, let's calculate the proportion of numbers in the first letters of company names\n",
    "\n",
    "query_to_df(\n",
    "\"WITH \\\n",
    "table1 AS (SELECT LEFT(a.name, 1) first_char FROM accounts a), \\\n",
    "table2 AS (SELECT CASE WHEN first_char = first_char*10 THEN 'is_alpha' ELSE 'is_num' END new_col, COUNT(*) counts \\\n",
    "FROM table1 GROUP BY 1), \\\n",
    "table3 AS (SELECT counts FROM table2 WHERE new_col='is_num'), \\\n",
    "table4 AS (SELECT ((SELECT * FROM table3) / SUM(counts)) letter_prop FROM table2) \\\n",
    "SELECT letter_prop*100 letter_pct FROM table4;\"\n",
    ")"
   ]
  },
  {
   "cell_type": "markdown",
   "id": "north-toddler",
   "metadata": {},
   "source": [
    "* Consider vowels as a, e, i, o, and u. What proportion of company names start with a vowel, and what percent start with anything else?"
   ]
  },
  {
   "cell_type": "code",
   "execution_count": null,
   "id": "grave-discussion",
   "metadata": {},
   "outputs": [],
   "source": [
    "# Let's first see the number of names whose first letter is a vowel or not\n",
    "\n",
    "query_to_df(\n",
    "\"WITH \\\n",
    "table1 AS (SELECT LEFT(a.name, 1) first_char FROM accounts a), \\\n",
    "table2 AS (SELECT CASE WHEN first_char IN ('A', 'E', 'I', 'O', 'U') THEN 'is_vowel' ELSE 'is_not' END vowel_or_not, \\\n",
    "COUNT(*) counts FROM table1 GROUP BY 1) \\\n",
    "SELECT * FROM table2;\"\n",
    ")"
   ]
  },
  {
   "cell_type": "code",
   "execution_count": null,
   "id": "forbidden-signal",
   "metadata": {},
   "outputs": [],
   "source": [
    "# Next, let's calculate the proportion of vowels in the first letters of company names\n",
    "\n",
    "query_to_df(\n",
    "\"WITH \\\n",
    "table1 AS (SELECT LEFT(name, 1) first_char FROM accounts), \\\n",
    "table2 AS (SELECT CASE WHEN first_char IN ('A', 'E', 'I', 'O', 'U') THEN 'is_vowel' ELSE 'is_not' END vowel_or_not, \\\n",
    "COUNT(*) counts FROM table1 GROUP BY 1), \\\n",
    "table3 AS (SELECT counts FROM table2 WHERE vowel_or_not='is_vowel'), \\\n",
    "table4 AS (SELECT ((select * FROM table3)/SUM(counts)) vowel_prop FROM table2) \\\n",
    "SELECT vowel_prop*100 vowel_pct FROM table4;\"\n",
    ")"
   ]
  },
  {
   "cell_type": "markdown",
   "id": "saved-lending",
   "metadata": {},
   "source": [
    "### POSITION\n",
    "### STRPOS\n",
    "### LOWER\n",
    "### UPPER\n",
    "\n",
    "**POSITION** takes a character and a column, and provides the index where that character is for each row. The index of the first position is 1 in SQL. If you come from another programming language, many begin indexing at 0. Here, you saw that you can pull the index of a comma as **`POSITION(',' IN city_state)`**.\n",
    "\n",
    "\n",
    "**STRPOS** provides the same result as POSITION, but the syntax for achieving those results is a bit different as shown here: **`STRPOS(city_state, ',')`**.\n",
    "\n",
    "\n",
    "Note, both POSITION and STRPOS are case sensitive, so looking for A is different than looking for a.\n",
    "\n",
    "\n",
    "Therefore, if you want to pull an index regardless of the case of a letter, you might want to use **LOWER or UPPER** to make all of the characters lower or uppercase.\n",
    "\n",
    "**Position Quizzes**"
   ]
  },
  {
   "cell_type": "markdown",
   "id": "tight-trout",
   "metadata": {},
   "source": [
    "* Use the accounts table to create first and last name columns that hold the first and last names for the primary_poc."
   ]
  },
  {
   "cell_type": "code",
   "execution_count": null,
   "id": "received-polls",
   "metadata": {},
   "outputs": [],
   "source": [
    "query_to_df(\n",
    "\"SELECT LEFT(primary_poc, POSITION(' ' IN primary_poc)-1) first_name, \\\n",
    "RIGHT(primary_poc, LENGTH(primary_poc) - POSITION(' ' IN primary_poc)) last_name FROM accounts;\"\n",
    ")"
   ]
  },
  {
   "cell_type": "markdown",
   "id": "boolean-belfast",
   "metadata": {},
   "source": [
    "* Now see if you can do the same thing for every rep name in the sales_reps table. Again provide first and last name columns."
   ]
  },
  {
   "cell_type": "code",
   "execution_count": null,
   "id": "danish-bottom",
   "metadata": {},
   "outputs": [],
   "source": [
    "query_to_df(\n",
    "\"SELECT LEFT(name, POSITION(' ' IN name)-1) first_name, \\\n",
    "RIGHT(name, LENGTH(name) - POSITION(' ' IN name)+1) last_name FROM sales_reps;\"\n",
    ")"
   ]
  },
  {
   "cell_type": "markdown",
   "id": "finite-stick",
   "metadata": {},
   "source": [
    "### CONCAT or Piping ||\n",
    "### REPLACE\n",
    "\n",
    "Each of **Concat/Piping** will allow you to combine columns together across rows. In this video, you saw how first and last names stored in separate columns could be combined together to create a full name: \n",
    "```\n",
    "CONCAT(first_name, ' ', last_name)\n",
    "````\n",
    "or with piping as \n",
    "```\n",
    "first_name || ' ' || last_name.\n",
    "```\n",
    "\n",
    "**Replace** takes a column and the value to replace as well as the new value to input instead for example\n",
    "```\n",
    "REPLACE(name, ' ', '_')\n",
    "```\n",
    "Where name is the column of interest and we're replacing the spaces with underscores for each row in this column. \n",
    "\n",
    "**Quizzes CONCAT**"
   ]
  },
  {
   "cell_type": "markdown",
   "id": "smooth-parish",
   "metadata": {},
   "source": [
    "* Each company in the accounts table wants to create an email address for each primary_poc. The email address should be the first name of the primary_poc . last name primary_poc @ company name .com."
   ]
  },
  {
   "cell_type": "code",
   "execution_count": null,
   "id": "cooked-chance",
   "metadata": {},
   "outputs": [],
   "source": [
    "query_to_df(\n",
    "\"WITH \\\n",
    "table1 AS (SELECT LEFT(primary_poc, POSITION(' ' IN primary_poc)-1) first_name, \\\n",
    "RIGHT(primary_poc, LENGTH(primary_poc)-POSITION(' ' IN primary_poc)) last_name, \\\n",
    "REPLACE(name, ' ', '') company FROM accounts), \\\n",
    "table2 AS (SELECT *, CONCAT(LOWER(first_name), '.', LOWER(last_name), '@', LOWER(company), '.com') email FROM table1) \\\n",
    "SELECT * FROM table2 LIMIT 20;\"\n",
    ")"
   ]
  },
  {
   "cell_type": "markdown",
   "id": "approved-ancient",
   "metadata": {},
   "source": [
    "* We would also like to create an initial password, which they will change after their first log in. The first password will be<br> \n",
    "a. The first letter of the primary_poc's first name (lowercase), then<br> \n",
    "b. The last letter of their first name (lowercase), <br>\n",
    "c. The first letter of their last name (lowercase), <br>\n",
    "d. The last letter of their last name (lowercase), <br>\n",
    "e. The number of letters in their first name, <br>\n",
    "f. The number of letters in their last name, and then <br> \n",
    "g. The name of the company they are working with, all capitalized with no spaces."
   ]
  },
  {
   "cell_type": "code",
   "execution_count": null,
   "id": "adult-briefs",
   "metadata": {},
   "outputs": [],
   "source": [
    "query_to_df(\n",
    "\"WITH \\\n",
    "table1 AS (SELECT LOWER(LEFT(primary_poc, POSITION(' ' IN primary_poc)-1)) first_name, \\\n",
    "LOWER(RIGHT(primary_poc, LENGTH(primary_poc)-POSITION(' ' IN primary_poc))) last_name, \\\n",
    "UPPER(REPLACE(name, ' ', '')) company FROM accounts), \\\n",
    "\\\n",
    "table2 AS (SELECT *, CONCAT(LEFT(first_name, 1), RIGHT(first_name, 1), \\\n",
    "LEFT(last_name, 1), RIGHT(last_name, 1), LENGTH(first_name), LENGTH(last_name), company) signature FROM table1) \\\n",
    "\\\n",
    "SELECT * FROM table2;\"\n",
    ")"
   ]
  },
  {
   "cell_type": "markdown",
   "id": "innovative-radius",
   "metadata": {},
   "source": [
    "## Cast\n",
    "## Casting with ::\n",
    "\n",
    "You can change a string to a date using CAST. CAST is actually useful to change lots of column types. Commonly you might use CAST to change a string to a Datetime object or number. In the reverse, if we want to change a number to a string, whatever operations\n",
    "\n",
    "**Expert Tip**\n",
    "Most of the functions presented in this lesson are specific to strings. They won’t work with dates, integers or floating-point numbers. However, using any of these functions will automatically change the data to the appropriate type.\n",
    "\n",
    "LEFT, RIGHT, and TRIM are all used to select only certain elements of strings, but using them to select elements of a number or date will treat them as strings for the purpose of the function. Though we didn't cover TRIM in this lesson explicitly, it can be used to remove characters from the beginning and end of a string. This can remove unwanted spaces at the beginning or end of a row that often happen with data being moved from Excel or other storage systems.\n",
    "\n",
    "There are a number of variations of these functions, as well as several other string functions not covered here. Different databases use subtle variations on these functions, so be sure to look up the appropriate database’s syntax if you’re connected to a private database.The Postgres literature contains a lot of the related functions.\n",
    "\n",
    "**CAST Quizzes:**<br>\n",
    "For this set of quiz questions, you are going to be working with a single table from a different database. This is a different database than Parch & Posey. We shall use the San-Francisco crime-data for this exercise"
   ]
  },
  {
   "cell_type": "code",
   "execution_count": null,
   "id": "accurate-parking",
   "metadata": {},
   "outputs": [],
   "source": [
    "# Let's tell MySQL that we want to use a different DataBase, the crime_data Database\n",
    "\n",
    "query_to_df(\n",
    "\"USE crime_data;\"\n",
    ")"
   ]
  },
  {
   "cell_type": "code",
   "execution_count": null,
   "id": "controlled-powder",
   "metadata": {},
   "outputs": [],
   "source": [
    "# Let's see the tables in the crime_data database\n",
    "\n",
    "# let's run the show tables command \n",
    "\n",
    "cursor.execute('show tables')\n",
    "out = cursor.fetchall()\n",
    "out"
   ]
  },
  {
   "cell_type": "code",
   "execution_count": null,
   "id": "effective-blogger",
   "metadata": {
    "scrolled": true
   },
   "outputs": [],
   "source": [
    "# Let's see the first few rows of the sf_crime_data table\n",
    "\n",
    "query_to_df(\n",
    "\"SELECT * FROM sf_crime_data LIMIT 5;\"\n",
    ")"
   ]
  },
  {
   "cell_type": "markdown",
   "id": "black-bridal",
   "metadata": {},
   "source": [
    "**Let's clean the dates column to the format that dates should use in SQL**"
   ]
  },
  {
   "cell_type": "code",
   "execution_count": null,
   "id": "complimentary-affairs",
   "metadata": {},
   "outputs": [],
   "source": [
    "query_to_df(\n",
    "\"WITH \\\n",
    "t1 AS (SELECT dates, SUBSTR(dates, 1, 10) AS date1 FROM sf_crime_data), \\\n",
    "t2 AS (SELECT dates, CONCAT(RIGHT(date1, 4), '-', LEFT(date1, 2), '-', SUBSTR(date1, 4, 2)) new_date FROM t1), \\\n",
    "t3 AS (SELECT dates, CAST(new_date AS date) new_date FROM t2) \\\n",
    "SELECT * FROM t3 LIMIT 5;\"\n",
    ")"
   ]
  },
  {
   "cell_type": "markdown",
   "id": "lucky-plymouth",
   "metadata": {},
   "source": [
    "## COALESCE:\n",
    "\n",
    "In general, COALESCE returns the first non-NULL value passed for each row. It's simply a function to replace NULL values with a certain value for each row."
   ]
  },
  {
   "cell_type": "code",
   "execution_count": null,
   "id": "statistical-nurse",
   "metadata": {},
   "outputs": [],
   "source": [
    "# Let's change back to Parch-and-Posey\n",
    "\n",
    "query_to_df(\n",
    "\"USE parch_and_posey;\"\n",
    ")"
   ]
  },
  {
   "cell_type": "code",
   "execution_count": null,
   "id": "educational-discount",
   "metadata": {},
   "outputs": [],
   "source": [
    "# Let's see the tables again\n",
    "\n",
    "query_to_df(\n",
    "\"SHOW TABLES;\"\n",
    ")"
   ]
  },
  {
   "cell_type": "code",
   "execution_count": null,
   "id": "executive-slide",
   "metadata": {},
   "outputs": [],
   "source": [
    "query_to_df(\n",
    "\"SELECT * FROM accounts a LEFT JOIN orders o ON a.id = o.account_id WHERE o.total IS NULL;\"\n",
    ")"
   ]
  },
  {
   "cell_type": "code",
   "execution_count": null,
   "id": "first-invention",
   "metadata": {},
   "outputs": [],
   "source": [
    "query_to_df(\n",
    "\"SELECT COALESCE(o.id, a.id) filled_id, a.name, a.website, a.lat, a.longs, a.primary_poc, a.sales_rep_id, o.* \\\n",
    "FROM accounts a LEFT JOIN orders o ON a.id = o.account_id WHERE o.total IS NULL;\"\n",
    ")"
   ]
  },
  {
   "cell_type": "code",
   "execution_count": null,
   "id": "hispanic-section",
   "metadata": {},
   "outputs": [],
   "source": [
    "query_to_df(\n",
    "\"SELECT COALESCE(o.id, a.id) id, a.name, a.website, a.lat, a.longs, a.primary_poc, a.sales_rep_id, \\\n",
    "COALESCE(o.account_id, a.id) account_id, o.occurred_at, o.standard_qty, o.gloss_qty, o.poster_qty, o.total, \\\n",
    "o.standard_amt_usd, o.gloss_amt_usd, o.poster_amt_usd, o.total_amt_usd FROM accounts a LEFT JOIN orders o \\\n",
    "ON a.id = o.account_id WHERE o.total IS NULL;\"\n",
    ")"
   ]
  },
  {
   "cell_type": "code",
   "execution_count": null,
   "id": "sufficient-broadcast",
   "metadata": {},
   "outputs": [],
   "source": [
    "query_to_df(\n",
    "\"SELECT COALESCE(o.id, a.id) filled_id, a.name, a.website, a.lat, a.longs, a.primary_poc, a.sales_rep_id, \\\n",
    "COALESCE(o.account_id, a.id) account_id, o.occurred_at, COALESCE(o.standard_qty, 0) standard_qty, \\\n",
    "COALESCE(o.gloss_qty,0) gloss_qty, COALESCE(o.poster_qty,0) poster_qty, COALESCE(o.total,0) total, \\\n",
    "COALESCE(o.standard_amt_usd,0) standard_amt_usd, COALESCE(o.gloss_amt_usd,0) gloss_amt_usd, \\\n",
    "COALESCE(o.poster_amt_usd,0) poster_amt_usd, COALESCE(o.total_amt_usd,0) total_amt_usd FROM accounts a \\\n",
    "LEFT JOIN orders o ON a.id = o.account_id WHERE o.total IS NULL;\"\n",
    ")"
   ]
  },
  {
   "cell_type": "code",
   "execution_count": null,
   "id": "primary-cincinnati",
   "metadata": {},
   "outputs": [],
   "source": [
    "query_to_df(\n",
    "\"SELECT COUNT(*) FROM accounts a LEFT JOIN orders o ON a.id = o.account_id;\"\n",
    ")"
   ]
  },
  {
   "cell_type": "code",
   "execution_count": null,
   "id": "welsh-adaptation",
   "metadata": {},
   "outputs": [],
   "source": [
    "query_to_df(\n",
    "\"SELECT COALESCE(o.id, a.id) filled_id, a.name, a.website, a.lat, a.longs, a.primary_poc, a.sales_rep_id, \\\n",
    "COALESCE(o.account_id, a.id) account_id, o.occurred_at, COALESCE(o.standard_qty, 0) standard_qty, \\\n",
    "COALESCE(o.gloss_qty,0) gloss_qty, COALESCE(o.poster_qty,0) poster_qty, COALESCE(o.total,0) total, \\\n",
    "COALESCE(o.standard_amt_usd,0) standard_amt_usd, COALESCE(o.gloss_amt_usd,0) gloss_amt_usd, \\\n",
    "COALESCE(o.poster_amt_usd,0) poster_amt_usd, COALESCE(o.total_amt_usd,0) total_amt_usd \\\n",
    "FROM accounts a LEFT JOIN orders o ON a.id = o.account_id;\"\n",
    ")"
   ]
  },
  {
   "cell_type": "code",
   "execution_count": null,
   "id": "industrial-eclipse",
   "metadata": {},
   "outputs": [],
   "source": [
    "# Change False to True to end the connection when done.\n",
    "\n",
    "if True and connection.is_connected():\n",
    "    cursor.close()\n",
    "    connection.close()\n",
    "    print(f'Connection to Database: {record} Closed!')"
   ]
  }
 ],
 "metadata": {
  "kernelspec": {
   "display_name": "Python 3",
   "language": "python",
   "name": "python3"
  },
  "language_info": {
   "codemirror_mode": {
    "name": "ipython",
    "version": 3
   },
   "file_extension": ".py",
   "mimetype": "text/x-python",
   "name": "python",
   "nbconvert_exporter": "python",
   "pygments_lexer": "ipython3",
   "version": "3.8.5"
  }
 },
 "nbformat": 4,
 "nbformat_minor": 5
}
