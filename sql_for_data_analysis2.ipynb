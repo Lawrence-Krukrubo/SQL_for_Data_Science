{
  "nbformat": 4,
  "nbformat_minor": 0,
  "metadata": {
    "colab": {
      "name": "sql_for_data_analysis2.ipynb",
      "provenance": [],
      "collapsed_sections": [],
      "authorship_tag": "ABX9TyOElX2NAtuVLgTmuMf0Fz/V",
      "include_colab_link": true
    },
    "kernelspec": {
      "name": "python3",
      "display_name": "Python 3"
    }
  },
  "cells": [
    {
      "cell_type": "markdown",
      "metadata": {
        "id": "view-in-github",
        "colab_type": "text"
      },
      "source": [
        "<a href=\"https://colab.research.google.com/github/Lawrence-Krukrubo/SQL_for_Data_Science/blob/main/sql_for_data_analysis2.ipynb\" target=\"_parent\"><img src=\"https://colab.research.google.com/assets/colab-badge.svg\" alt=\"Open In Colab\"/></a>"
      ]
    },
    {
      "cell_type": "markdown",
      "metadata": {
        "id": "M1zBxAObDtDS"
      },
      "source": [
        "<b><h1>SQL Joins...</h1></b>"
      ]
    },
    {
      "cell_type": "markdown",
      "metadata": {
        "id": "gPxHPGvND7jd"
      },
      "source": [
        "We connect to Google CloudSQL and make analysis with the Patch and Posey Database.<br>\r\n",
        "\r\n",
        "Thanks to this [article](https://towardsdatascience.com/sql-on-the-cloud-with-python-c08a30807661) for making the connection process clearer.\r\n",
        "\r\n",
        "If we want to download the parch-and-posey.sql file to maybe upload to a database, use this [link](https://storage.googleapis.com/kaggle1980/parch.sql) to the updated file from cloud-storage."
      ]
    },
    {
      "cell_type": "code",
      "metadata": {
        "id": "Zhle1krcDgjR",
        "colab": {
          "base_uri": "https://localhost:8080/"
        },
        "outputId": "f2142bca-671f-4ec0-b99a-d7600fca39bc"
      },
      "source": [
        "# Next mount gdrive\r\n",
        "from google.colab import drive\r\n",
        "drive.mount('/content/gdrive')"
      ],
      "execution_count": 1,
      "outputs": [
        {
          "output_type": "stream",
          "text": [
            "Mounted at /content/gdrive\n"
          ],
          "name": "stdout"
        }
      ]
    },
    {
      "cell_type": "code",
      "metadata": {
        "id": "Y3A9IK9fD_3H",
        "colab": {
          "base_uri": "https://localhost:8080/"
        },
        "outputId": "cc96a94f-fa5e-4d61-adff-235b14c85d24"
      },
      "source": [
        "# set working directory to Udacity\r\n",
        "%cd /content/gdrive/MyDrive/Colab_Notebooks/Udacity"
      ],
      "execution_count": 2,
      "outputs": [
        {
          "output_type": "stream",
          "text": [
            "/content/gdrive/MyDrive/Colab_Notebooks/Udacity\n"
          ],
          "name": "stdout"
        }
      ]
    },
    {
      "cell_type": "code",
      "metadata": {
        "id": "fwwHTaXgEEfD",
        "colab": {
          "base_uri": "https://localhost:8080/"
        },
        "outputId": "daff6374-dab5-4fa1-adc3-aa729e85ba33"
      },
      "source": [
        "%ls"
      ],
      "execution_count": 3,
      "outputs": [
        {
          "output_type": "stream",
          "text": [
            " \u001b[0m\u001b[01;34maws_machine_learning_foundations\u001b[0m/   linear_algebra_refresher.ipynb\n",
            " client-cert.pem                    'linear-example-data (1).xlsx'\n",
            " client-key.pem                      Problem_Solving_w_Advanced_Analytics.ipynb\n",
            " \u001b[01;34mcomputer_vision\u001b[0m/                    server-ca.pem\n",
            " intro_to_algorithm.ipynb            \u001b[01;34mstatistics\u001b[0m/\n",
            " \u001b[01;34mintro_to_artificial_intelligence\u001b[0m/   time_series_forecasting.ipynb\n",
            " \u001b[01;34mintro_to_data_analysis\u001b[0m/             \u001b[01;34mUdac_Prog_Foundations_Python\u001b[0m/\n",
            " intro_to_machine_learning.ipynb     \u001b[01;34mversion_control_with_git\u001b[0m/\n"
          ],
          "name": "stdout"
        }
      ]
    },
    {
      "cell_type": "code",
      "metadata": {
        "id": "IaA9fMLMEKHv",
        "colab": {
          "base_uri": "https://localhost:8080/"
        },
        "outputId": "d3d67dbe-4eb2-4d19-a288-54c3ef45d481"
      },
      "source": [
        "!pip install mysql-connector-python"
      ],
      "execution_count": 4,
      "outputs": [
        {
          "output_type": "stream",
          "text": [
            "Collecting mysql-connector-python\n",
            "\u001b[?25l  Downloading https://files.pythonhosted.org/packages/cc/ec/102bf59d0cdeb3b8fc82d6669bf96d57d133e44811ff57ad5e941bd8588d/mysql_connector_python-8.0.23-cp36-cp36m-manylinux1_x86_64.whl (18.0MB)\n",
            "\u001b[K     |████████████████████████████████| 18.1MB 234kB/s \n",
            "\u001b[?25hRequirement already satisfied: protobuf>=3.0.0 in /usr/local/lib/python3.6/dist-packages (from mysql-connector-python) (3.12.4)\n",
            "Requirement already satisfied: six>=1.9 in /usr/local/lib/python3.6/dist-packages (from protobuf>=3.0.0->mysql-connector-python) (1.15.0)\n",
            "Requirement already satisfied: setuptools in /usr/local/lib/python3.6/dist-packages (from protobuf>=3.0.0->mysql-connector-python) (53.0.0)\n",
            "Installing collected packages: mysql-connector-python\n",
            "Successfully installed mysql-connector-python-8.0.23\n"
          ],
          "name": "stdout"
        }
      ]
    },
    {
      "cell_type": "code",
      "metadata": {
        "id": "Tw2zieazEOSV"
      },
      "source": [
        "import mysql.connector\r\n",
        "from mysql.connector.constants import ClientFlag\r\n",
        "import pandas as pd\r\n",
        "import numpy as np\r\n",
        "import matplotlib.pyplot as plt\r\n",
        "import seaborn as sns\r\n",
        "from pprint import pprint\r\n",
        "import time"
      ],
      "execution_count": 5,
      "outputs": []
    },
    {
      "cell_type": "code",
      "metadata": {
        "id": "Cx50ZiGSERgl",
        "colab": {
          "base_uri": "https://localhost:8080/"
        },
        "outputId": "41f165d3-47b6-4a3d-d2a2-86062260b731"
      },
      "source": [
        "config = {\r\n",
        "    'user': 'root',\r\n",
        "    'password': 'root',\r\n",
        "    'host': '35.226.26.66',\r\n",
        "    'client_flags': [ClientFlag.SSL],\r\n",
        "    'ssl_ca': 'server-ca.pem',\r\n",
        "    'ssl_cert': 'client-cert.pem',\r\n",
        "    'ssl_key': 'client-key.pem'\r\n",
        "}\r\n",
        "\r\n",
        "# now we establish our connection\r\n",
        "try:\r\n",
        "    cnxn = mysql.connector.connect(**config)\r\n",
        "    print('Connection to CloudSQL Instance Successful!')\r\n",
        "except Exception as e:\r\n",
        "    print(e)"
      ],
      "execution_count": 6,
      "outputs": [
        {
          "output_type": "stream",
          "text": [
            "Connection to CloudSQL Instance Successful!\n"
          ],
          "name": "stdout"
        }
      ]
    },
    {
      "cell_type": "code",
      "metadata": {
        "id": "p8waSc9HETCq",
        "colab": {
          "base_uri": "https://localhost:8080/"
        },
        "outputId": "e99a895b-25f0-4db2-fd7d-a340b8d6372a"
      },
      "source": [
        "config"
      ],
      "execution_count": 7,
      "outputs": [
        {
          "output_type": "execute_result",
          "data": {
            "text/plain": [
              "{'client_flags': [2048],\n",
              " 'host': '35.226.26.66',\n",
              " 'password': 'root',\n",
              " 'ssl_ca': 'server-ca.pem',\n",
              " 'ssl_cert': 'client-cert.pem',\n",
              " 'ssl_key': 'client-key.pem',\n",
              " 'user': 'root'}"
            ]
          },
          "metadata": {
            "tags": []
          },
          "execution_count": 7
        }
      ]
    },
    {
      "cell_type": "markdown",
      "metadata": {
        "id": "gR5ZaEMGEevt"
      },
      "source": [
        "Now we connect to parch_and_posey_db by adding database: parch_and_posey_db to our config dictionary and connecting just like we did before:"
      ]
    },
    {
      "cell_type": "code",
      "metadata": {
        "id": "Kdx-ZtY6EVcZ"
      },
      "source": [
        "config['database'] = 'parch_and_posey_db'  # add new database to config dict\r\n",
        "cnxn = mysql.connector.connect(**config)\r\n",
        "cursor = cnxn.cursor()"
      ],
      "execution_count": 8,
      "outputs": []
    },
    {
      "cell_type": "markdown",
      "metadata": {
        "id": "5yD0W1GQEpE4"
      },
      "source": [
        "Let's see the first 3 data of the different tables in parch and posey database"
      ]
    },
    {
      "cell_type": "code",
      "metadata": {
        "id": "lP8PdpO6Eh70",
        "colab": {
          "base_uri": "https://localhost:8080/"
        },
        "outputId": "9fac4ed1-c277-47fb-b0fc-d5004b97e5f3"
      },
      "source": [
        "# let's run the show tables command \r\n",
        "\r\n",
        "cursor.execute('show tables')\r\n",
        "out = cursor.fetchall()\r\n",
        "out"
      ],
      "execution_count": 9,
      "outputs": [
        {
          "output_type": "execute_result",
          "data": {
            "text/plain": [
              "[('accounts',), ('orders',), ('region',), ('sales_reps',), ('web_events',)]"
            ]
          },
          "metadata": {
            "tags": []
          },
          "execution_count": 9
        }
      ]
    },
    {
      "cell_type": "markdown",
      "metadata": {
        "id": "q_nPZBX7EwHA"
      },
      "source": [
        "Defining a method that converts a select query to a data frame"
      ]
    },
    {
      "cell_type": "code",
      "metadata": {
        "id": "wRY-g2tCEwhK"
      },
      "source": [
        "def query_to_df(query):\r\n",
        "    st = time.time()\r\n",
        "    # Assert Every Query ends with a semi-colon\r\n",
        "    try:\r\n",
        "        assert query.endswith(';')\r\n",
        "    except AssertionError:\r\n",
        "        return 'ERROR: Query Must End with ;'\r\n",
        "\r\n",
        "    # so we never have more than 20 rows displayed\r\n",
        "    pd.set_option('display.max_rows', 20) \r\n",
        "    df = None\r\n",
        "\r\n",
        "    # Process the query\r\n",
        "    cursor.execute(query)\r\n",
        "    columns = cursor.description\r\n",
        "    result = []\r\n",
        "    for value in cursor.fetchall():\r\n",
        "        tmp = {}\r\n",
        "        for (index,column) in enumerate(value):\r\n",
        "            tmp[columns[index][0]] = [column]\r\n",
        "        result.append(tmp)\r\n",
        "\r\n",
        "    # Create a DataFrame from all results\r\n",
        "    for ind, data in enumerate(result):\r\n",
        "        if ind >= 1:\r\n",
        "            x = pd.DataFrame(data)\r\n",
        "            df = pd.concat([df, x], ignore_index=True)\r\n",
        "        else:\r\n",
        "            df = pd.DataFrame(data)\r\n",
        "    print(f'Query ran for {time.time()-st} secs!')\r\n",
        "    return df"
      ],
      "execution_count": 10,
      "outputs": []
    },
    {
      "cell_type": "code",
      "metadata": {
        "id": "e1bQ19RJE5RC",
        "colab": {
          "base_uri": "https://localhost:8080/",
          "height": 153
        },
        "outputId": "7229d1fb-cb7c-478a-8ebd-a027429ff900"
      },
      "source": [
        "# 1. For the accounts table\r\n",
        "query = 'SELECT * FROM accounts LIMIT 3;'\r\n",
        "query_to_df(query)"
      ],
      "execution_count": 11,
      "outputs": [
        {
          "output_type": "stream",
          "text": [
            "Query ran for 0.030434846878051758 secs!\n"
          ],
          "name": "stdout"
        },
        {
          "output_type": "execute_result",
          "data": {
            "text/html": [
              "<div>\n",
              "<style scoped>\n",
              "    .dataframe tbody tr th:only-of-type {\n",
              "        vertical-align: middle;\n",
              "    }\n",
              "\n",
              "    .dataframe tbody tr th {\n",
              "        vertical-align: top;\n",
              "    }\n",
              "\n",
              "    .dataframe thead th {\n",
              "        text-align: right;\n",
              "    }\n",
              "</style>\n",
              "<table border=\"1\" class=\"dataframe\">\n",
              "  <thead>\n",
              "    <tr style=\"text-align: right;\">\n",
              "      <th></th>\n",
              "      <th>id</th>\n",
              "      <th>name</th>\n",
              "      <th>website</th>\n",
              "      <th>lats</th>\n",
              "      <th>longs</th>\n",
              "      <th>primary_poc</th>\n",
              "      <th>sales_rep_id</th>\n",
              "    </tr>\n",
              "  </thead>\n",
              "  <tbody>\n",
              "    <tr>\n",
              "      <th>0</th>\n",
              "      <td>1001</td>\n",
              "      <td>Walmart</td>\n",
              "      <td>www.walmart.com</td>\n",
              "      <td>40.238496</td>\n",
              "      <td>-75.103297</td>\n",
              "      <td>Tamara Tuma</td>\n",
              "      <td>321500</td>\n",
              "    </tr>\n",
              "    <tr>\n",
              "      <th>1</th>\n",
              "      <td>1011</td>\n",
              "      <td>Exxon Mobil</td>\n",
              "      <td>www.exxonmobil.com</td>\n",
              "      <td>41.169156</td>\n",
              "      <td>-73.849374</td>\n",
              "      <td>Sung Shields</td>\n",
              "      <td>321510</td>\n",
              "    </tr>\n",
              "    <tr>\n",
              "      <th>2</th>\n",
              "      <td>1021</td>\n",
              "      <td>Apple</td>\n",
              "      <td>www.apple.com</td>\n",
              "      <td>42.290495</td>\n",
              "      <td>-76.084009</td>\n",
              "      <td>Jodee Lupo</td>\n",
              "      <td>321520</td>\n",
              "    </tr>\n",
              "  </tbody>\n",
              "</table>\n",
              "</div>"
            ],
            "text/plain": [
              "     id         name             website  ...      longs   primary_poc sales_rep_id\n",
              "0  1001      Walmart     www.walmart.com  ... -75.103297   Tamara Tuma       321500\n",
              "1  1011  Exxon Mobil  www.exxonmobil.com  ... -73.849374  Sung Shields       321510\n",
              "2  1021        Apple       www.apple.com  ... -76.084009    Jodee Lupo       321520\n",
              "\n",
              "[3 rows x 7 columns]"
            ]
          },
          "metadata": {
            "tags": []
          },
          "execution_count": 11
        }
      ]
    },
    {
      "cell_type": "code",
      "metadata": {
        "colab": {
          "base_uri": "https://localhost:8080/",
          "height": 153
        },
        "id": "j3_lGCA7T7sl",
        "outputId": "f1f24e8b-fb6c-4592-fa8a-b8246258b3d1"
      },
      "source": [
        "# 2. For the orders table\r\n",
        "query = 'SELECT * FROM orders LIMIT 3;'\r\n",
        "query_to_df(query)"
      ],
      "execution_count": 12,
      "outputs": [
        {
          "output_type": "stream",
          "text": [
            "Query ran for 0.018934965133666992 secs!\n"
          ],
          "name": "stdout"
        },
        {
          "output_type": "execute_result",
          "data": {
            "text/html": [
              "<div>\n",
              "<style scoped>\n",
              "    .dataframe tbody tr th:only-of-type {\n",
              "        vertical-align: middle;\n",
              "    }\n",
              "\n",
              "    .dataframe tbody tr th {\n",
              "        vertical-align: top;\n",
              "    }\n",
              "\n",
              "    .dataframe thead th {\n",
              "        text-align: right;\n",
              "    }\n",
              "</style>\n",
              "<table border=\"1\" class=\"dataframe\">\n",
              "  <thead>\n",
              "    <tr style=\"text-align: right;\">\n",
              "      <th></th>\n",
              "      <th>id</th>\n",
              "      <th>account_id</th>\n",
              "      <th>occurred_at</th>\n",
              "      <th>standard_qty</th>\n",
              "      <th>gloss_qty</th>\n",
              "      <th>poster_qty</th>\n",
              "      <th>total</th>\n",
              "      <th>standard_amt_usd</th>\n",
              "      <th>gloss_amt_usd</th>\n",
              "      <th>poster_amt_usd</th>\n",
              "      <th>total_amt_usd</th>\n",
              "    </tr>\n",
              "  </thead>\n",
              "  <tbody>\n",
              "    <tr>\n",
              "      <th>0</th>\n",
              "      <td>1</td>\n",
              "      <td>1001</td>\n",
              "      <td>2015-10-06 17:31:14</td>\n",
              "      <td>123</td>\n",
              "      <td>22</td>\n",
              "      <td>24</td>\n",
              "      <td>169</td>\n",
              "      <td>613.77</td>\n",
              "      <td>164.78</td>\n",
              "      <td>194.88</td>\n",
              "      <td>973.43</td>\n",
              "    </tr>\n",
              "    <tr>\n",
              "      <th>1</th>\n",
              "      <td>2</td>\n",
              "      <td>1001</td>\n",
              "      <td>2015-11-05 03:34:33</td>\n",
              "      <td>190</td>\n",
              "      <td>41</td>\n",
              "      <td>57</td>\n",
              "      <td>288</td>\n",
              "      <td>948.10</td>\n",
              "      <td>307.09</td>\n",
              "      <td>462.84</td>\n",
              "      <td>1718.03</td>\n",
              "    </tr>\n",
              "    <tr>\n",
              "      <th>2</th>\n",
              "      <td>3</td>\n",
              "      <td>1001</td>\n",
              "      <td>2015-12-04 04:21:55</td>\n",
              "      <td>85</td>\n",
              "      <td>47</td>\n",
              "      <td>0</td>\n",
              "      <td>132</td>\n",
              "      <td>424.15</td>\n",
              "      <td>352.03</td>\n",
              "      <td>0.00</td>\n",
              "      <td>776.18</td>\n",
              "    </tr>\n",
              "  </tbody>\n",
              "</table>\n",
              "</div>"
            ],
            "text/plain": [
              "   id  account_id  ... poster_amt_usd  total_amt_usd\n",
              "0   1        1001  ...         194.88         973.43\n",
              "1   2        1001  ...         462.84        1718.03\n",
              "2   3        1001  ...           0.00         776.18\n",
              "\n",
              "[3 rows x 11 columns]"
            ]
          },
          "metadata": {
            "tags": []
          },
          "execution_count": 12
        }
      ]
    },
    {
      "cell_type": "code",
      "metadata": {
        "colab": {
          "base_uri": "https://localhost:8080/",
          "height": 153
        },
        "id": "Gy7eSUcwUGIs",
        "outputId": "b3db5b93-bb95-4859-f5e9-a64c6759ed50"
      },
      "source": [
        "# 3. For the region table\r\n",
        "query = 'SELECT * FROM region LIMIT 3;'\r\n",
        "query_to_df(query)"
      ],
      "execution_count": 13,
      "outputs": [
        {
          "output_type": "stream",
          "text": [
            "Query ran for 0.010549545288085938 secs!\n"
          ],
          "name": "stdout"
        },
        {
          "output_type": "execute_result",
          "data": {
            "text/html": [
              "<div>\n",
              "<style scoped>\n",
              "    .dataframe tbody tr th:only-of-type {\n",
              "        vertical-align: middle;\n",
              "    }\n",
              "\n",
              "    .dataframe tbody tr th {\n",
              "        vertical-align: top;\n",
              "    }\n",
              "\n",
              "    .dataframe thead th {\n",
              "        text-align: right;\n",
              "    }\n",
              "</style>\n",
              "<table border=\"1\" class=\"dataframe\">\n",
              "  <thead>\n",
              "    <tr style=\"text-align: right;\">\n",
              "      <th></th>\n",
              "      <th>id</th>\n",
              "      <th>name</th>\n",
              "    </tr>\n",
              "  </thead>\n",
              "  <tbody>\n",
              "    <tr>\n",
              "      <th>0</th>\n",
              "      <td>1</td>\n",
              "      <td>Northeast</td>\n",
              "    </tr>\n",
              "    <tr>\n",
              "      <th>1</th>\n",
              "      <td>2</td>\n",
              "      <td>Midwest</td>\n",
              "    </tr>\n",
              "    <tr>\n",
              "      <th>2</th>\n",
              "      <td>3</td>\n",
              "      <td>Southeast</td>\n",
              "    </tr>\n",
              "  </tbody>\n",
              "</table>\n",
              "</div>"
            ],
            "text/plain": [
              "   id       name\n",
              "0   1  Northeast\n",
              "1   2    Midwest\n",
              "2   3  Southeast"
            ]
          },
          "metadata": {
            "tags": []
          },
          "execution_count": 13
        }
      ]
    },
    {
      "cell_type": "code",
      "metadata": {
        "colab": {
          "base_uri": "https://localhost:8080/",
          "height": 153
        },
        "id": "pFDxWu5yUSmT",
        "outputId": "80e77c66-fb01-4bf1-e08b-697e835c6587"
      },
      "source": [
        "# 4. For the web_events table\r\n",
        "query = 'SELECT * FROM web_events LIMIT 3;'\r\n",
        "query_to_df(query)"
      ],
      "execution_count": 14,
      "outputs": [
        {
          "output_type": "stream",
          "text": [
            "Query ran for 0.014106273651123047 secs!\n"
          ],
          "name": "stdout"
        },
        {
          "output_type": "execute_result",
          "data": {
            "text/html": [
              "<div>\n",
              "<style scoped>\n",
              "    .dataframe tbody tr th:only-of-type {\n",
              "        vertical-align: middle;\n",
              "    }\n",
              "\n",
              "    .dataframe tbody tr th {\n",
              "        vertical-align: top;\n",
              "    }\n",
              "\n",
              "    .dataframe thead th {\n",
              "        text-align: right;\n",
              "    }\n",
              "</style>\n",
              "<table border=\"1\" class=\"dataframe\">\n",
              "  <thead>\n",
              "    <tr style=\"text-align: right;\">\n",
              "      <th></th>\n",
              "      <th>id</th>\n",
              "      <th>account_id</th>\n",
              "      <th>occurred_at</th>\n",
              "      <th>channel</th>\n",
              "    </tr>\n",
              "  </thead>\n",
              "  <tbody>\n",
              "    <tr>\n",
              "      <th>0</th>\n",
              "      <td>1</td>\n",
              "      <td>1001</td>\n",
              "      <td>2015-10-06 17:13:58</td>\n",
              "      <td>direct</td>\n",
              "    </tr>\n",
              "    <tr>\n",
              "      <th>1</th>\n",
              "      <td>2</td>\n",
              "      <td>1001</td>\n",
              "      <td>2015-11-05 03:08:26</td>\n",
              "      <td>direct</td>\n",
              "    </tr>\n",
              "    <tr>\n",
              "      <th>2</th>\n",
              "      <td>3</td>\n",
              "      <td>1001</td>\n",
              "      <td>2015-12-04 03:57:24</td>\n",
              "      <td>direct</td>\n",
              "    </tr>\n",
              "  </tbody>\n",
              "</table>\n",
              "</div>"
            ],
            "text/plain": [
              "   id  account_id         occurred_at channel\n",
              "0   1        1001 2015-10-06 17:13:58  direct\n",
              "1   2        1001 2015-11-05 03:08:26  direct\n",
              "2   3        1001 2015-12-04 03:57:24  direct"
            ]
          },
          "metadata": {
            "tags": []
          },
          "execution_count": 14
        }
      ]
    },
    {
      "cell_type": "code",
      "metadata": {
        "colab": {
          "base_uri": "https://localhost:8080/",
          "height": 153
        },
        "id": "5aNCeIMBlVhb",
        "outputId": "82348546-7c71-4829-d776-7c714069cd70"
      },
      "source": [
        "# 5. For the sales_reps table\r\n",
        "query = 'SELECT * FROM sales_reps LIMIT 3;'\r\n",
        "query_to_df(query)"
      ],
      "execution_count": 15,
      "outputs": [
        {
          "output_type": "stream",
          "text": [
            "Query ran for 0.01857614517211914 secs!\n"
          ],
          "name": "stdout"
        },
        {
          "output_type": "execute_result",
          "data": {
            "text/html": [
              "<div>\n",
              "<style scoped>\n",
              "    .dataframe tbody tr th:only-of-type {\n",
              "        vertical-align: middle;\n",
              "    }\n",
              "\n",
              "    .dataframe tbody tr th {\n",
              "        vertical-align: top;\n",
              "    }\n",
              "\n",
              "    .dataframe thead th {\n",
              "        text-align: right;\n",
              "    }\n",
              "</style>\n",
              "<table border=\"1\" class=\"dataframe\">\n",
              "  <thead>\n",
              "    <tr style=\"text-align: right;\">\n",
              "      <th></th>\n",
              "      <th>id</th>\n",
              "      <th>name</th>\n",
              "      <th>region_id</th>\n",
              "    </tr>\n",
              "  </thead>\n",
              "  <tbody>\n",
              "    <tr>\n",
              "      <th>0</th>\n",
              "      <td>321500</td>\n",
              "      <td>Samuel Racine</td>\n",
              "      <td>1</td>\n",
              "    </tr>\n",
              "    <tr>\n",
              "      <th>1</th>\n",
              "      <td>321510</td>\n",
              "      <td>Eugena Esser</td>\n",
              "      <td>1</td>\n",
              "    </tr>\n",
              "    <tr>\n",
              "      <th>2</th>\n",
              "      <td>321520</td>\n",
              "      <td>Michel Averette</td>\n",
              "      <td>1</td>\n",
              "    </tr>\n",
              "  </tbody>\n",
              "</table>\n",
              "</div>"
            ],
            "text/plain": [
              "       id             name  region_id\n",
              "0  321500    Samuel Racine          1\n",
              "1  321510     Eugena Esser          1\n",
              "2  321520  Michel Averette          1"
            ]
          },
          "metadata": {
            "tags": []
          },
          "execution_count": 15
        }
      ]
    },
    {
      "cell_type": "markdown",
      "metadata": {
        "id": "TbRaFCrIU250"
      },
      "source": [
        "<h3>Overview</h3>\r\n",
        "\r\n",
        "Writing Joins is the real strength and magic of SQL. Joins are used to read data from multiple tables to power your analysis."
      ]
    },
    {
      "cell_type": "markdown",
      "metadata": {
        "id": "IERmXh1XflLj"
      },
      "source": [
        "<h3>Database Normalization</h3>\r\n",
        "\r\n",
        "When creating a database, it is really important to think about how data will be stored. This is known as normalization, and it is a huge part of most SQL classes. If you are in charge of setting up a new database, it is important to have a thorough understanding of database normalization.\r\n",
        "\r\n",
        "There are essentially three ideas that are aimed at database normalization:\r\n",
        "\r\n",
        "* Are the tables storing logical groupings of the data?\r\n",
        "* Can I make changes in a single location, rather than in many tables for the same information?\r\n",
        "* Can I access and manipulate data quickly and efficiently?\r\n",
        "This is discussed in detail [here](https://www.itprotoday.com/sql-server/sql-design-why-you-need-database-normalization)."
      ]
    },
    {
      "cell_type": "markdown",
      "metadata": {
        "id": "JXcMIlpcgZcI"
      },
      "source": [
        "<h3><b>Joins</b></h3>\r\n",
        "\r\n",
        "The whole purpose of `JOIN` statements is to allow us to pull data from more than one table at a time.\r\n",
        "\r\n",
        "Again - `JOINs` are useful for allowing us to pull data from multiple tables. This is both simple and powerful all at the same time.\r\n",
        "\r\n",
        "With the addition of the `JOIN` statement to our toolkit, we will also be adding the `ON` statement.\r\n",
        "\r\n",
        "We use `ON` clause to specify a `JOIN` condition which is a logical statement to combine the table in `FROM` and `JOIN` statements."
      ]
    },
    {
      "cell_type": "markdown",
      "metadata": {
        "id": "2n7dlv3fhNI3"
      },
      "source": [
        "<h3>Join Statement Analysis</h3>\r\n",
        "\r\n",
        "```\r\n",
        "SELECT orders.*\r\n",
        "FROM orders\r\n",
        "JOIN accounts\r\n",
        "ON orders.account_id = accounts.id;\r\n",
        "```\r\n",
        "The `SELECT` clause indicates which column(s) of data you'd like to see in the output (For Example, orders.* gives us all the columns in orders table in the output). The `FROM` clause indicates the first table from which we're pulling data, and the `JOIN` indicates the second table. The `ON` clause specifies the column on which you'd like to merge the two tables together."
      ]
    },
    {
      "cell_type": "code",
      "metadata": {
        "colab": {
          "base_uri": "https://localhost:8080/",
          "height": 418
        },
        "id": "LHPfEORVVDvN",
        "outputId": "d51fda60-a788-46cb-d64b-702e8e6f2752"
      },
      "source": [
        "query = 'SELECT orders.* FROM orders JOIN accounts \\\r\n",
        "        ON orders.account_id = accounts.id;'\r\n",
        "\r\n",
        "query_to_df(query)"
      ],
      "execution_count": 16,
      "outputs": [
        {
          "output_type": "stream",
          "text": [
            "Query ran for 24.39840054512024 secs!\n"
          ],
          "name": "stdout"
        },
        {
          "output_type": "execute_result",
          "data": {
            "text/html": [
              "<div>\n",
              "<style scoped>\n",
              "    .dataframe tbody tr th:only-of-type {\n",
              "        vertical-align: middle;\n",
              "    }\n",
              "\n",
              "    .dataframe tbody tr th {\n",
              "        vertical-align: top;\n",
              "    }\n",
              "\n",
              "    .dataframe thead th {\n",
              "        text-align: right;\n",
              "    }\n",
              "</style>\n",
              "<table border=\"1\" class=\"dataframe\">\n",
              "  <thead>\n",
              "    <tr style=\"text-align: right;\">\n",
              "      <th></th>\n",
              "      <th>id</th>\n",
              "      <th>account_id</th>\n",
              "      <th>occurred_at</th>\n",
              "      <th>standard_qty</th>\n",
              "      <th>gloss_qty</th>\n",
              "      <th>poster_qty</th>\n",
              "      <th>total</th>\n",
              "      <th>standard_amt_usd</th>\n",
              "      <th>gloss_amt_usd</th>\n",
              "      <th>poster_amt_usd</th>\n",
              "      <th>total_amt_usd</th>\n",
              "    </tr>\n",
              "  </thead>\n",
              "  <tbody>\n",
              "    <tr>\n",
              "      <th>0</th>\n",
              "      <td>1</td>\n",
              "      <td>1001</td>\n",
              "      <td>2015-10-06 17:31:14</td>\n",
              "      <td>123</td>\n",
              "      <td>22</td>\n",
              "      <td>24</td>\n",
              "      <td>169</td>\n",
              "      <td>613.77</td>\n",
              "      <td>164.78</td>\n",
              "      <td>194.88</td>\n",
              "      <td>973.43</td>\n",
              "    </tr>\n",
              "    <tr>\n",
              "      <th>1</th>\n",
              "      <td>2</td>\n",
              "      <td>1001</td>\n",
              "      <td>2015-11-05 03:34:33</td>\n",
              "      <td>190</td>\n",
              "      <td>41</td>\n",
              "      <td>57</td>\n",
              "      <td>288</td>\n",
              "      <td>948.10</td>\n",
              "      <td>307.09</td>\n",
              "      <td>462.84</td>\n",
              "      <td>1718.03</td>\n",
              "    </tr>\n",
              "    <tr>\n",
              "      <th>2</th>\n",
              "      <td>3</td>\n",
              "      <td>1001</td>\n",
              "      <td>2015-12-04 04:21:55</td>\n",
              "      <td>85</td>\n",
              "      <td>47</td>\n",
              "      <td>0</td>\n",
              "      <td>132</td>\n",
              "      <td>424.15</td>\n",
              "      <td>352.03</td>\n",
              "      <td>0.00</td>\n",
              "      <td>776.18</td>\n",
              "    </tr>\n",
              "    <tr>\n",
              "      <th>3</th>\n",
              "      <td>4</td>\n",
              "      <td>1001</td>\n",
              "      <td>2016-01-02 01:18:24</td>\n",
              "      <td>144</td>\n",
              "      <td>32</td>\n",
              "      <td>0</td>\n",
              "      <td>176</td>\n",
              "      <td>718.56</td>\n",
              "      <td>239.68</td>\n",
              "      <td>0.00</td>\n",
              "      <td>958.24</td>\n",
              "    </tr>\n",
              "    <tr>\n",
              "      <th>4</th>\n",
              "      <td>5</td>\n",
              "      <td>1001</td>\n",
              "      <td>2016-02-01 19:27:27</td>\n",
              "      <td>108</td>\n",
              "      <td>29</td>\n",
              "      <td>28</td>\n",
              "      <td>165</td>\n",
              "      <td>538.92</td>\n",
              "      <td>217.21</td>\n",
              "      <td>227.36</td>\n",
              "      <td>983.49</td>\n",
              "    </tr>\n",
              "    <tr>\n",
              "      <th>...</th>\n",
              "      <td>...</td>\n",
              "      <td>...</td>\n",
              "      <td>...</td>\n",
              "      <td>...</td>\n",
              "      <td>...</td>\n",
              "      <td>...</td>\n",
              "      <td>...</td>\n",
              "      <td>...</td>\n",
              "      <td>...</td>\n",
              "      <td>...</td>\n",
              "      <td>...</td>\n",
              "    </tr>\n",
              "    <tr>\n",
              "      <th>6907</th>\n",
              "      <td>6908</td>\n",
              "      <td>4501</td>\n",
              "      <td>2016-06-29 04:03:39</td>\n",
              "      <td>11</td>\n",
              "      <td>199</td>\n",
              "      <td>59</td>\n",
              "      <td>269</td>\n",
              "      <td>54.89</td>\n",
              "      <td>1490.51</td>\n",
              "      <td>479.08</td>\n",
              "      <td>2024.48</td>\n",
              "    </tr>\n",
              "    <tr>\n",
              "      <th>6908</th>\n",
              "      <td>6909</td>\n",
              "      <td>4501</td>\n",
              "      <td>2016-07-29 19:58:32</td>\n",
              "      <td>5</td>\n",
              "      <td>91</td>\n",
              "      <td>96</td>\n",
              "      <td>192</td>\n",
              "      <td>24.95</td>\n",
              "      <td>681.59</td>\n",
              "      <td>779.52</td>\n",
              "      <td>1486.06</td>\n",
              "    </tr>\n",
              "    <tr>\n",
              "      <th>6909</th>\n",
              "      <td>6910</td>\n",
              "      <td>4501</td>\n",
              "      <td>2016-08-27 00:58:11</td>\n",
              "      <td>16</td>\n",
              "      <td>94</td>\n",
              "      <td>82</td>\n",
              "      <td>192</td>\n",
              "      <td>79.84</td>\n",
              "      <td>704.06</td>\n",
              "      <td>665.84</td>\n",
              "      <td>1449.74</td>\n",
              "    </tr>\n",
              "    <tr>\n",
              "      <th>6910</th>\n",
              "      <td>6911</td>\n",
              "      <td>4501</td>\n",
              "      <td>2016-11-22 06:52:22</td>\n",
              "      <td>63</td>\n",
              "      <td>67</td>\n",
              "      <td>81</td>\n",
              "      <td>211</td>\n",
              "      <td>314.37</td>\n",
              "      <td>501.83</td>\n",
              "      <td>657.72</td>\n",
              "      <td>1473.92</td>\n",
              "    </tr>\n",
              "    <tr>\n",
              "      <th>6911</th>\n",
              "      <td>6912</td>\n",
              "      <td>4501</td>\n",
              "      <td>2016-12-21 13:30:42</td>\n",
              "      <td>61</td>\n",
              "      <td>150</td>\n",
              "      <td>52</td>\n",
              "      <td>263</td>\n",
              "      <td>304.39</td>\n",
              "      <td>1123.50</td>\n",
              "      <td>422.24</td>\n",
              "      <td>1850.13</td>\n",
              "    </tr>\n",
              "  </tbody>\n",
              "</table>\n",
              "<p>6912 rows × 11 columns</p>\n",
              "</div>"
            ],
            "text/plain": [
              "        id  account_id  ... poster_amt_usd  total_amt_usd\n",
              "0        1        1001  ...         194.88         973.43\n",
              "1        2        1001  ...         462.84        1718.03\n",
              "2        3        1001  ...           0.00         776.18\n",
              "3        4        1001  ...           0.00         958.24\n",
              "4        5        1001  ...         227.36         983.49\n",
              "...    ...         ...  ...            ...            ...\n",
              "6907  6908        4501  ...         479.08        2024.48\n",
              "6908  6909        4501  ...         779.52        1486.06\n",
              "6909  6910        4501  ...         665.84        1449.74\n",
              "6910  6911        4501  ...         657.72        1473.92\n",
              "6911  6912        4501  ...         422.24        1850.13\n",
              "\n",
              "[6912 rows x 11 columns]"
            ]
          },
          "metadata": {
            "tags": []
          },
          "execution_count": 16
        }
      ]
    },
    {
      "cell_type": "markdown",
      "metadata": {
        "id": "GeesnhIfjlCq"
      },
      "source": [
        "**What to Notice**\r\n",
        "\r\n",
        "We are able to pull data from two tables:\r\n",
        "\r\n",
        "* orders\r\n",
        "* accounts\r\n",
        "\r\n",
        "Above, we are only pulling data from the orders table since in the `SELECT` statement we only reference columns from the orders table.\r\n",
        "\r\n",
        "The `ON` statement holds the two columns that get linked across the two tables. \r\n",
        "\r\n",
        "**Additional Information**\r\n",
        "\r\n",
        "If we wanted to only pull individual elements from either the orders or accounts table, we can do this by using the exact same information in the `FROM` and `ON` statements. However, in your `SELECT` statement, you will need to know how to specify tables and columns in the `SELECT` statement:\r\n",
        "\r\n",
        "The table name is always before the period.<br>\r\n",
        "The column you want from that table is always after the period.\r\n",
        "For example, if we want to pull only the account name and the dates in which that account placed an order, but none of the other columns, we can do this with the following query:\r\n",
        "\r\n",
        "```\r\n",
        "SELECT accounts.name, orders.occurred_at\r\n",
        "FROM orders\r\n",
        "JOIN accounts\r\n",
        "ON orders.account_id = accounts.id;\r\n",
        "```"
      ]
    },
    {
      "cell_type": "code",
      "metadata": {
        "colab": {
          "base_uri": "https://localhost:8080/",
          "height": 418
        },
        "id": "_mAs_Jgmh8HS",
        "outputId": "55e74dc2-5ebc-4243-cc8d-6c8e7e0871db"
      },
      "source": [
        "query = 'SELECT accounts.name, orders.occurred_at FROM orders JOIN accounts ON \\\r\n",
        "        orders.account_id = accounts.id;'\r\n",
        "query_to_df(query)"
      ],
      "execution_count": 17,
      "outputs": [
        {
          "output_type": "stream",
          "text": [
            "Query ran for 12.180903911590576 secs!\n"
          ],
          "name": "stdout"
        },
        {
          "output_type": "execute_result",
          "data": {
            "text/html": [
              "<div>\n",
              "<style scoped>\n",
              "    .dataframe tbody tr th:only-of-type {\n",
              "        vertical-align: middle;\n",
              "    }\n",
              "\n",
              "    .dataframe tbody tr th {\n",
              "        vertical-align: top;\n",
              "    }\n",
              "\n",
              "    .dataframe thead th {\n",
              "        text-align: right;\n",
              "    }\n",
              "</style>\n",
              "<table border=\"1\" class=\"dataframe\">\n",
              "  <thead>\n",
              "    <tr style=\"text-align: right;\">\n",
              "      <th></th>\n",
              "      <th>name</th>\n",
              "      <th>occurred_at</th>\n",
              "    </tr>\n",
              "  </thead>\n",
              "  <tbody>\n",
              "    <tr>\n",
              "      <th>0</th>\n",
              "      <td>Walmart</td>\n",
              "      <td>2015-10-06 17:31:14</td>\n",
              "    </tr>\n",
              "    <tr>\n",
              "      <th>1</th>\n",
              "      <td>Walmart</td>\n",
              "      <td>2015-11-05 03:34:33</td>\n",
              "    </tr>\n",
              "    <tr>\n",
              "      <th>2</th>\n",
              "      <td>Walmart</td>\n",
              "      <td>2015-12-04 04:21:55</td>\n",
              "    </tr>\n",
              "    <tr>\n",
              "      <th>3</th>\n",
              "      <td>Walmart</td>\n",
              "      <td>2016-01-02 01:18:24</td>\n",
              "    </tr>\n",
              "    <tr>\n",
              "      <th>4</th>\n",
              "      <td>Walmart</td>\n",
              "      <td>2016-02-01 19:27:27</td>\n",
              "    </tr>\n",
              "    <tr>\n",
              "      <th>...</th>\n",
              "      <td>...</td>\n",
              "      <td>...</td>\n",
              "    </tr>\n",
              "    <tr>\n",
              "      <th>6907</th>\n",
              "      <td>SpartanNash</td>\n",
              "      <td>2016-06-29 04:03:39</td>\n",
              "    </tr>\n",
              "    <tr>\n",
              "      <th>6908</th>\n",
              "      <td>SpartanNash</td>\n",
              "      <td>2016-07-29 19:58:32</td>\n",
              "    </tr>\n",
              "    <tr>\n",
              "      <th>6909</th>\n",
              "      <td>SpartanNash</td>\n",
              "      <td>2016-08-27 00:58:11</td>\n",
              "    </tr>\n",
              "    <tr>\n",
              "      <th>6910</th>\n",
              "      <td>SpartanNash</td>\n",
              "      <td>2016-11-22 06:52:22</td>\n",
              "    </tr>\n",
              "    <tr>\n",
              "      <th>6911</th>\n",
              "      <td>SpartanNash</td>\n",
              "      <td>2016-12-21 13:30:42</td>\n",
              "    </tr>\n",
              "  </tbody>\n",
              "</table>\n",
              "<p>6912 rows × 2 columns</p>\n",
              "</div>"
            ],
            "text/plain": [
              "             name         occurred_at\n",
              "0         Walmart 2015-10-06 17:31:14\n",
              "1         Walmart 2015-11-05 03:34:33\n",
              "2         Walmart 2015-12-04 04:21:55\n",
              "3         Walmart 2016-01-02 01:18:24\n",
              "4         Walmart 2016-02-01 19:27:27\n",
              "...           ...                 ...\n",
              "6907  SpartanNash 2016-06-29 04:03:39\n",
              "6908  SpartanNash 2016-07-29 19:58:32\n",
              "6909  SpartanNash 2016-08-27 00:58:11\n",
              "6910  SpartanNash 2016-11-22 06:52:22\n",
              "6911  SpartanNash 2016-12-21 13:30:42\n",
              "\n",
              "[6912 rows x 2 columns]"
            ]
          },
          "metadata": {
            "tags": []
          },
          "execution_count": 17
        }
      ]
    },
    {
      "cell_type": "markdown",
      "metadata": {
        "id": "q0SBdVddlUtN"
      },
      "source": [
        "This query only pulls two columns, not all the information in these two tables. Alternatively, the below query pulls all the columns from both the accounts and orders table.\r\n",
        "\r\n",
        "```\r\n",
        "SELECT *\r\n",
        "FROM orders\r\n",
        "JOIN accounts\r\n",
        "ON orders.account_id = accounts.id;\r\n",
        "```"
      ]
    },
    {
      "cell_type": "code",
      "metadata": {
        "colab": {
          "base_uri": "https://localhost:8080/",
          "height": 606
        },
        "id": "cchCGINVlXci",
        "outputId": "463f9e9f-7c7a-4259-d3fe-8fe428e2c237"
      },
      "source": [
        "query = 'SELECT * FROM orders JOIN accounts ON orders.account_id = accounts.id;'\r\n",
        "query_to_df(query)"
      ],
      "execution_count": 18,
      "outputs": [
        {
          "output_type": "stream",
          "text": [
            "Query ran for 49.77683067321777 secs!\n"
          ],
          "name": "stdout"
        },
        {
          "output_type": "execute_result",
          "data": {
            "text/html": [
              "<div>\n",
              "<style scoped>\n",
              "    .dataframe tbody tr th:only-of-type {\n",
              "        vertical-align: middle;\n",
              "    }\n",
              "\n",
              "    .dataframe tbody tr th {\n",
              "        vertical-align: top;\n",
              "    }\n",
              "\n",
              "    .dataframe thead th {\n",
              "        text-align: right;\n",
              "    }\n",
              "</style>\n",
              "<table border=\"1\" class=\"dataframe\">\n",
              "  <thead>\n",
              "    <tr style=\"text-align: right;\">\n",
              "      <th></th>\n",
              "      <th>id</th>\n",
              "      <th>account_id</th>\n",
              "      <th>occurred_at</th>\n",
              "      <th>standard_qty</th>\n",
              "      <th>gloss_qty</th>\n",
              "      <th>poster_qty</th>\n",
              "      <th>total</th>\n",
              "      <th>standard_amt_usd</th>\n",
              "      <th>gloss_amt_usd</th>\n",
              "      <th>poster_amt_usd</th>\n",
              "      <th>total_amt_usd</th>\n",
              "      <th>name</th>\n",
              "      <th>website</th>\n",
              "      <th>lats</th>\n",
              "      <th>longs</th>\n",
              "      <th>primary_poc</th>\n",
              "      <th>sales_rep_id</th>\n",
              "    </tr>\n",
              "  </thead>\n",
              "  <tbody>\n",
              "    <tr>\n",
              "      <th>0</th>\n",
              "      <td>1001</td>\n",
              "      <td>1001</td>\n",
              "      <td>2015-10-06 17:31:14</td>\n",
              "      <td>123</td>\n",
              "      <td>22</td>\n",
              "      <td>24</td>\n",
              "      <td>169</td>\n",
              "      <td>613.77</td>\n",
              "      <td>164.78</td>\n",
              "      <td>194.88</td>\n",
              "      <td>973.43</td>\n",
              "      <td>Walmart</td>\n",
              "      <td>www.walmart.com</td>\n",
              "      <td>40.238496</td>\n",
              "      <td>-75.103297</td>\n",
              "      <td>Tamara Tuma</td>\n",
              "      <td>321500</td>\n",
              "    </tr>\n",
              "    <tr>\n",
              "      <th>1</th>\n",
              "      <td>1001</td>\n",
              "      <td>1001</td>\n",
              "      <td>2015-11-05 03:34:33</td>\n",
              "      <td>190</td>\n",
              "      <td>41</td>\n",
              "      <td>57</td>\n",
              "      <td>288</td>\n",
              "      <td>948.10</td>\n",
              "      <td>307.09</td>\n",
              "      <td>462.84</td>\n",
              "      <td>1718.03</td>\n",
              "      <td>Walmart</td>\n",
              "      <td>www.walmart.com</td>\n",
              "      <td>40.238496</td>\n",
              "      <td>-75.103297</td>\n",
              "      <td>Tamara Tuma</td>\n",
              "      <td>321500</td>\n",
              "    </tr>\n",
              "    <tr>\n",
              "      <th>2</th>\n",
              "      <td>1001</td>\n",
              "      <td>1001</td>\n",
              "      <td>2015-12-04 04:21:55</td>\n",
              "      <td>85</td>\n",
              "      <td>47</td>\n",
              "      <td>0</td>\n",
              "      <td>132</td>\n",
              "      <td>424.15</td>\n",
              "      <td>352.03</td>\n",
              "      <td>0.00</td>\n",
              "      <td>776.18</td>\n",
              "      <td>Walmart</td>\n",
              "      <td>www.walmart.com</td>\n",
              "      <td>40.238496</td>\n",
              "      <td>-75.103297</td>\n",
              "      <td>Tamara Tuma</td>\n",
              "      <td>321500</td>\n",
              "    </tr>\n",
              "    <tr>\n",
              "      <th>3</th>\n",
              "      <td>1001</td>\n",
              "      <td>1001</td>\n",
              "      <td>2016-01-02 01:18:24</td>\n",
              "      <td>144</td>\n",
              "      <td>32</td>\n",
              "      <td>0</td>\n",
              "      <td>176</td>\n",
              "      <td>718.56</td>\n",
              "      <td>239.68</td>\n",
              "      <td>0.00</td>\n",
              "      <td>958.24</td>\n",
              "      <td>Walmart</td>\n",
              "      <td>www.walmart.com</td>\n",
              "      <td>40.238496</td>\n",
              "      <td>-75.103297</td>\n",
              "      <td>Tamara Tuma</td>\n",
              "      <td>321500</td>\n",
              "    </tr>\n",
              "    <tr>\n",
              "      <th>4</th>\n",
              "      <td>1001</td>\n",
              "      <td>1001</td>\n",
              "      <td>2016-02-01 19:27:27</td>\n",
              "      <td>108</td>\n",
              "      <td>29</td>\n",
              "      <td>28</td>\n",
              "      <td>165</td>\n",
              "      <td>538.92</td>\n",
              "      <td>217.21</td>\n",
              "      <td>227.36</td>\n",
              "      <td>983.49</td>\n",
              "      <td>Walmart</td>\n",
              "      <td>www.walmart.com</td>\n",
              "      <td>40.238496</td>\n",
              "      <td>-75.103297</td>\n",
              "      <td>Tamara Tuma</td>\n",
              "      <td>321500</td>\n",
              "    </tr>\n",
              "    <tr>\n",
              "      <th>...</th>\n",
              "      <td>...</td>\n",
              "      <td>...</td>\n",
              "      <td>...</td>\n",
              "      <td>...</td>\n",
              "      <td>...</td>\n",
              "      <td>...</td>\n",
              "      <td>...</td>\n",
              "      <td>...</td>\n",
              "      <td>...</td>\n",
              "      <td>...</td>\n",
              "      <td>...</td>\n",
              "      <td>...</td>\n",
              "      <td>...</td>\n",
              "      <td>...</td>\n",
              "      <td>...</td>\n",
              "      <td>...</td>\n",
              "      <td>...</td>\n",
              "    </tr>\n",
              "    <tr>\n",
              "      <th>6907</th>\n",
              "      <td>4501</td>\n",
              "      <td>4501</td>\n",
              "      <td>2016-06-29 04:03:39</td>\n",
              "      <td>11</td>\n",
              "      <td>199</td>\n",
              "      <td>59</td>\n",
              "      <td>269</td>\n",
              "      <td>54.89</td>\n",
              "      <td>1490.51</td>\n",
              "      <td>479.08</td>\n",
              "      <td>2024.48</td>\n",
              "      <td>SpartanNash</td>\n",
              "      <td>www.spartannash.com</td>\n",
              "      <td>45.555651</td>\n",
              "      <td>-122.657145</td>\n",
              "      <td>Jewell Likes</td>\n",
              "      <td>321970</td>\n",
              "    </tr>\n",
              "    <tr>\n",
              "      <th>6908</th>\n",
              "      <td>4501</td>\n",
              "      <td>4501</td>\n",
              "      <td>2016-07-29 19:58:32</td>\n",
              "      <td>5</td>\n",
              "      <td>91</td>\n",
              "      <td>96</td>\n",
              "      <td>192</td>\n",
              "      <td>24.95</td>\n",
              "      <td>681.59</td>\n",
              "      <td>779.52</td>\n",
              "      <td>1486.06</td>\n",
              "      <td>SpartanNash</td>\n",
              "      <td>www.spartannash.com</td>\n",
              "      <td>45.555651</td>\n",
              "      <td>-122.657145</td>\n",
              "      <td>Jewell Likes</td>\n",
              "      <td>321970</td>\n",
              "    </tr>\n",
              "    <tr>\n",
              "      <th>6909</th>\n",
              "      <td>4501</td>\n",
              "      <td>4501</td>\n",
              "      <td>2016-08-27 00:58:11</td>\n",
              "      <td>16</td>\n",
              "      <td>94</td>\n",
              "      <td>82</td>\n",
              "      <td>192</td>\n",
              "      <td>79.84</td>\n",
              "      <td>704.06</td>\n",
              "      <td>665.84</td>\n",
              "      <td>1449.74</td>\n",
              "      <td>SpartanNash</td>\n",
              "      <td>www.spartannash.com</td>\n",
              "      <td>45.555651</td>\n",
              "      <td>-122.657145</td>\n",
              "      <td>Jewell Likes</td>\n",
              "      <td>321970</td>\n",
              "    </tr>\n",
              "    <tr>\n",
              "      <th>6910</th>\n",
              "      <td>4501</td>\n",
              "      <td>4501</td>\n",
              "      <td>2016-11-22 06:52:22</td>\n",
              "      <td>63</td>\n",
              "      <td>67</td>\n",
              "      <td>81</td>\n",
              "      <td>211</td>\n",
              "      <td>314.37</td>\n",
              "      <td>501.83</td>\n",
              "      <td>657.72</td>\n",
              "      <td>1473.92</td>\n",
              "      <td>SpartanNash</td>\n",
              "      <td>www.spartannash.com</td>\n",
              "      <td>45.555651</td>\n",
              "      <td>-122.657145</td>\n",
              "      <td>Jewell Likes</td>\n",
              "      <td>321970</td>\n",
              "    </tr>\n",
              "    <tr>\n",
              "      <th>6911</th>\n",
              "      <td>4501</td>\n",
              "      <td>4501</td>\n",
              "      <td>2016-12-21 13:30:42</td>\n",
              "      <td>61</td>\n",
              "      <td>150</td>\n",
              "      <td>52</td>\n",
              "      <td>263</td>\n",
              "      <td>304.39</td>\n",
              "      <td>1123.50</td>\n",
              "      <td>422.24</td>\n",
              "      <td>1850.13</td>\n",
              "      <td>SpartanNash</td>\n",
              "      <td>www.spartannash.com</td>\n",
              "      <td>45.555651</td>\n",
              "      <td>-122.657145</td>\n",
              "      <td>Jewell Likes</td>\n",
              "      <td>321970</td>\n",
              "    </tr>\n",
              "  </tbody>\n",
              "</table>\n",
              "<p>6912 rows × 17 columns</p>\n",
              "</div>"
            ],
            "text/plain": [
              "        id  account_id  ...   primary_poc  sales_rep_id\n",
              "0     1001        1001  ...   Tamara Tuma        321500\n",
              "1     1001        1001  ...   Tamara Tuma        321500\n",
              "2     1001        1001  ...   Tamara Tuma        321500\n",
              "3     1001        1001  ...   Tamara Tuma        321500\n",
              "4     1001        1001  ...   Tamara Tuma        321500\n",
              "...    ...         ...  ...           ...           ...\n",
              "6907  4501        4501  ...  Jewell Likes        321970\n",
              "6908  4501        4501  ...  Jewell Likes        321970\n",
              "6909  4501        4501  ...  Jewell Likes        321970\n",
              "6910  4501        4501  ...  Jewell Likes        321970\n",
              "6911  4501        4501  ...  Jewell Likes        321970\n",
              "\n",
              "[6912 rows x 17 columns]"
            ]
          },
          "metadata": {
            "tags": []
          },
          "execution_count": 18
        }
      ]
    },
    {
      "cell_type": "markdown",
      "metadata": {
        "id": "9zzr8n5fnSdk"
      },
      "source": [
        "**Quiz Questions**\r\n",
        "\r\n",
        "1. Try pulling all the data from the accounts table, and all the data from the orders table.\r\n",
        "\r\n",
        "2. Try pulling standard_qty, gloss_qty, and poster_qty from the orders table, and the website and the primary_poc from the accounts table."
      ]
    },
    {
      "cell_type": "code",
      "metadata": {
        "colab": {
          "base_uri": "https://localhost:8080/",
          "height": 606
        },
        "id": "TqRckXlUnWzB",
        "outputId": "c5a11314-cb44-4a90-96d2-a7f8c23d1a1d"
      },
      "source": [
        "# Try pulling all the data from the accounts table, and all the data from the orders table.\r\n",
        "\r\n",
        "query = 'SELECT * FROM accounts JOIN orders ON accounts.id = orders.account_id;'\r\n",
        "query_to_df(query)"
      ],
      "execution_count": 19,
      "outputs": [
        {
          "output_type": "stream",
          "text": [
            "Query ran for 50.453455448150635 secs!\n"
          ],
          "name": "stdout"
        },
        {
          "output_type": "execute_result",
          "data": {
            "text/html": [
              "<div>\n",
              "<style scoped>\n",
              "    .dataframe tbody tr th:only-of-type {\n",
              "        vertical-align: middle;\n",
              "    }\n",
              "\n",
              "    .dataframe tbody tr th {\n",
              "        vertical-align: top;\n",
              "    }\n",
              "\n",
              "    .dataframe thead th {\n",
              "        text-align: right;\n",
              "    }\n",
              "</style>\n",
              "<table border=\"1\" class=\"dataframe\">\n",
              "  <thead>\n",
              "    <tr style=\"text-align: right;\">\n",
              "      <th></th>\n",
              "      <th>id</th>\n",
              "      <th>name</th>\n",
              "      <th>website</th>\n",
              "      <th>lats</th>\n",
              "      <th>longs</th>\n",
              "      <th>primary_poc</th>\n",
              "      <th>sales_rep_id</th>\n",
              "      <th>account_id</th>\n",
              "      <th>occurred_at</th>\n",
              "      <th>standard_qty</th>\n",
              "      <th>gloss_qty</th>\n",
              "      <th>poster_qty</th>\n",
              "      <th>total</th>\n",
              "      <th>standard_amt_usd</th>\n",
              "      <th>gloss_amt_usd</th>\n",
              "      <th>poster_amt_usd</th>\n",
              "      <th>total_amt_usd</th>\n",
              "    </tr>\n",
              "  </thead>\n",
              "  <tbody>\n",
              "    <tr>\n",
              "      <th>0</th>\n",
              "      <td>1</td>\n",
              "      <td>Walmart</td>\n",
              "      <td>www.walmart.com</td>\n",
              "      <td>40.238496</td>\n",
              "      <td>-75.103297</td>\n",
              "      <td>Tamara Tuma</td>\n",
              "      <td>321500</td>\n",
              "      <td>1001</td>\n",
              "      <td>2015-10-06 17:31:14</td>\n",
              "      <td>123</td>\n",
              "      <td>22</td>\n",
              "      <td>24</td>\n",
              "      <td>169</td>\n",
              "      <td>613.77</td>\n",
              "      <td>164.78</td>\n",
              "      <td>194.88</td>\n",
              "      <td>973.43</td>\n",
              "    </tr>\n",
              "    <tr>\n",
              "      <th>1</th>\n",
              "      <td>2</td>\n",
              "      <td>Walmart</td>\n",
              "      <td>www.walmart.com</td>\n",
              "      <td>40.238496</td>\n",
              "      <td>-75.103297</td>\n",
              "      <td>Tamara Tuma</td>\n",
              "      <td>321500</td>\n",
              "      <td>1001</td>\n",
              "      <td>2015-11-05 03:34:33</td>\n",
              "      <td>190</td>\n",
              "      <td>41</td>\n",
              "      <td>57</td>\n",
              "      <td>288</td>\n",
              "      <td>948.10</td>\n",
              "      <td>307.09</td>\n",
              "      <td>462.84</td>\n",
              "      <td>1718.03</td>\n",
              "    </tr>\n",
              "    <tr>\n",
              "      <th>2</th>\n",
              "      <td>3</td>\n",
              "      <td>Walmart</td>\n",
              "      <td>www.walmart.com</td>\n",
              "      <td>40.238496</td>\n",
              "      <td>-75.103297</td>\n",
              "      <td>Tamara Tuma</td>\n",
              "      <td>321500</td>\n",
              "      <td>1001</td>\n",
              "      <td>2015-12-04 04:21:55</td>\n",
              "      <td>85</td>\n",
              "      <td>47</td>\n",
              "      <td>0</td>\n",
              "      <td>132</td>\n",
              "      <td>424.15</td>\n",
              "      <td>352.03</td>\n",
              "      <td>0.00</td>\n",
              "      <td>776.18</td>\n",
              "    </tr>\n",
              "    <tr>\n",
              "      <th>3</th>\n",
              "      <td>4</td>\n",
              "      <td>Walmart</td>\n",
              "      <td>www.walmart.com</td>\n",
              "      <td>40.238496</td>\n",
              "      <td>-75.103297</td>\n",
              "      <td>Tamara Tuma</td>\n",
              "      <td>321500</td>\n",
              "      <td>1001</td>\n",
              "      <td>2016-01-02 01:18:24</td>\n",
              "      <td>144</td>\n",
              "      <td>32</td>\n",
              "      <td>0</td>\n",
              "      <td>176</td>\n",
              "      <td>718.56</td>\n",
              "      <td>239.68</td>\n",
              "      <td>0.00</td>\n",
              "      <td>958.24</td>\n",
              "    </tr>\n",
              "    <tr>\n",
              "      <th>4</th>\n",
              "      <td>5</td>\n",
              "      <td>Walmart</td>\n",
              "      <td>www.walmart.com</td>\n",
              "      <td>40.238496</td>\n",
              "      <td>-75.103297</td>\n",
              "      <td>Tamara Tuma</td>\n",
              "      <td>321500</td>\n",
              "      <td>1001</td>\n",
              "      <td>2016-02-01 19:27:27</td>\n",
              "      <td>108</td>\n",
              "      <td>29</td>\n",
              "      <td>28</td>\n",
              "      <td>165</td>\n",
              "      <td>538.92</td>\n",
              "      <td>217.21</td>\n",
              "      <td>227.36</td>\n",
              "      <td>983.49</td>\n",
              "    </tr>\n",
              "    <tr>\n",
              "      <th>...</th>\n",
              "      <td>...</td>\n",
              "      <td>...</td>\n",
              "      <td>...</td>\n",
              "      <td>...</td>\n",
              "      <td>...</td>\n",
              "      <td>...</td>\n",
              "      <td>...</td>\n",
              "      <td>...</td>\n",
              "      <td>...</td>\n",
              "      <td>...</td>\n",
              "      <td>...</td>\n",
              "      <td>...</td>\n",
              "      <td>...</td>\n",
              "      <td>...</td>\n",
              "      <td>...</td>\n",
              "      <td>...</td>\n",
              "      <td>...</td>\n",
              "    </tr>\n",
              "    <tr>\n",
              "      <th>6907</th>\n",
              "      <td>6908</td>\n",
              "      <td>SpartanNash</td>\n",
              "      <td>www.spartannash.com</td>\n",
              "      <td>45.555651</td>\n",
              "      <td>-122.657145</td>\n",
              "      <td>Jewell Likes</td>\n",
              "      <td>321970</td>\n",
              "      <td>4501</td>\n",
              "      <td>2016-06-29 04:03:39</td>\n",
              "      <td>11</td>\n",
              "      <td>199</td>\n",
              "      <td>59</td>\n",
              "      <td>269</td>\n",
              "      <td>54.89</td>\n",
              "      <td>1490.51</td>\n",
              "      <td>479.08</td>\n",
              "      <td>2024.48</td>\n",
              "    </tr>\n",
              "    <tr>\n",
              "      <th>6908</th>\n",
              "      <td>6909</td>\n",
              "      <td>SpartanNash</td>\n",
              "      <td>www.spartannash.com</td>\n",
              "      <td>45.555651</td>\n",
              "      <td>-122.657145</td>\n",
              "      <td>Jewell Likes</td>\n",
              "      <td>321970</td>\n",
              "      <td>4501</td>\n",
              "      <td>2016-07-29 19:58:32</td>\n",
              "      <td>5</td>\n",
              "      <td>91</td>\n",
              "      <td>96</td>\n",
              "      <td>192</td>\n",
              "      <td>24.95</td>\n",
              "      <td>681.59</td>\n",
              "      <td>779.52</td>\n",
              "      <td>1486.06</td>\n",
              "    </tr>\n",
              "    <tr>\n",
              "      <th>6909</th>\n",
              "      <td>6910</td>\n",
              "      <td>SpartanNash</td>\n",
              "      <td>www.spartannash.com</td>\n",
              "      <td>45.555651</td>\n",
              "      <td>-122.657145</td>\n",
              "      <td>Jewell Likes</td>\n",
              "      <td>321970</td>\n",
              "      <td>4501</td>\n",
              "      <td>2016-08-27 00:58:11</td>\n",
              "      <td>16</td>\n",
              "      <td>94</td>\n",
              "      <td>82</td>\n",
              "      <td>192</td>\n",
              "      <td>79.84</td>\n",
              "      <td>704.06</td>\n",
              "      <td>665.84</td>\n",
              "      <td>1449.74</td>\n",
              "    </tr>\n",
              "    <tr>\n",
              "      <th>6910</th>\n",
              "      <td>6911</td>\n",
              "      <td>SpartanNash</td>\n",
              "      <td>www.spartannash.com</td>\n",
              "      <td>45.555651</td>\n",
              "      <td>-122.657145</td>\n",
              "      <td>Jewell Likes</td>\n",
              "      <td>321970</td>\n",
              "      <td>4501</td>\n",
              "      <td>2016-11-22 06:52:22</td>\n",
              "      <td>63</td>\n",
              "      <td>67</td>\n",
              "      <td>81</td>\n",
              "      <td>211</td>\n",
              "      <td>314.37</td>\n",
              "      <td>501.83</td>\n",
              "      <td>657.72</td>\n",
              "      <td>1473.92</td>\n",
              "    </tr>\n",
              "    <tr>\n",
              "      <th>6911</th>\n",
              "      <td>6912</td>\n",
              "      <td>SpartanNash</td>\n",
              "      <td>www.spartannash.com</td>\n",
              "      <td>45.555651</td>\n",
              "      <td>-122.657145</td>\n",
              "      <td>Jewell Likes</td>\n",
              "      <td>321970</td>\n",
              "      <td>4501</td>\n",
              "      <td>2016-12-21 13:30:42</td>\n",
              "      <td>61</td>\n",
              "      <td>150</td>\n",
              "      <td>52</td>\n",
              "      <td>263</td>\n",
              "      <td>304.39</td>\n",
              "      <td>1123.50</td>\n",
              "      <td>422.24</td>\n",
              "      <td>1850.13</td>\n",
              "    </tr>\n",
              "  </tbody>\n",
              "</table>\n",
              "<p>6912 rows × 17 columns</p>\n",
              "</div>"
            ],
            "text/plain": [
              "        id         name  ... poster_amt_usd  total_amt_usd\n",
              "0        1      Walmart  ...         194.88         973.43\n",
              "1        2      Walmart  ...         462.84        1718.03\n",
              "2        3      Walmart  ...           0.00         776.18\n",
              "3        4      Walmart  ...           0.00         958.24\n",
              "4        5      Walmart  ...         227.36         983.49\n",
              "...    ...          ...  ...            ...            ...\n",
              "6907  6908  SpartanNash  ...         479.08        2024.48\n",
              "6908  6909  SpartanNash  ...         779.52        1486.06\n",
              "6909  6910  SpartanNash  ...         665.84        1449.74\n",
              "6910  6911  SpartanNash  ...         657.72        1473.92\n",
              "6911  6912  SpartanNash  ...         422.24        1850.13\n",
              "\n",
              "[6912 rows x 17 columns]"
            ]
          },
          "metadata": {
            "tags": []
          },
          "execution_count": 19
        }
      ]
    },
    {
      "cell_type": "markdown",
      "metadata": {
        "id": "DWkxu2XLrdDj"
      },
      "source": [
        "Another way to select all columns from the two above tables is...\r\n",
        "\r\n",
        "```\r\n",
        "query = \"\"\"SELECT orders.*, accounts.*\r\n",
        "FROM accounts\r\n",
        "JOIN orders\r\n",
        "ON accounts.id = orders.account_id;\"\"\"\r\n",
        "\r\n",
        "query_to_df(query)\r\n",
        "```"
      ]
    },
    {
      "cell_type": "markdown",
      "metadata": {
        "id": "IqDy0fZkr9Mb"
      },
      "source": [
        "Notice this result is the same as if you switched the tables in the `FROM` and `JOIN`. <br>Additionally, which side of the `=` a column is listed doesn't matter.\r\n",
        "\r\n",
        "Personally, I think it makes sense to keep it uniform... <br>Meaning make the table at the left side of the `=` be the first table selected, while that at the right side be the second table."
      ]
    },
    {
      "cell_type": "code",
      "metadata": {
        "colab": {
          "base_uri": "https://localhost:8080/",
          "height": 418
        },
        "id": "f8c10qcwpg72",
        "outputId": "32a86e2e-65c9-4aaa-cbfe-a9bfc7e35fe5"
      },
      "source": [
        "# Try pulling standard_qty, gloss_qty, and poster_qty from the orders table, \r\n",
        "# and the website and the primary_poc from the accounts table.\r\n",
        "\r\n",
        "query = 'SELECT orders.standard_qty, orders.gloss_qty, orders.poster_qty, \\\r\n",
        "        accounts.website, accounts.primary_poc FROM orders JOIN accounts ON \\\r\n",
        "        orders.account_id = accounts.id;'\r\n",
        "\r\n",
        "query_to_df(query)"
      ],
      "execution_count": 20,
      "outputs": [
        {
          "output_type": "stream",
          "text": [
            "Query ran for 12.47115707397461 secs!\n"
          ],
          "name": "stdout"
        },
        {
          "output_type": "execute_result",
          "data": {
            "text/html": [
              "<div>\n",
              "<style scoped>\n",
              "    .dataframe tbody tr th:only-of-type {\n",
              "        vertical-align: middle;\n",
              "    }\n",
              "\n",
              "    .dataframe tbody tr th {\n",
              "        vertical-align: top;\n",
              "    }\n",
              "\n",
              "    .dataframe thead th {\n",
              "        text-align: right;\n",
              "    }\n",
              "</style>\n",
              "<table border=\"1\" class=\"dataframe\">\n",
              "  <thead>\n",
              "    <tr style=\"text-align: right;\">\n",
              "      <th></th>\n",
              "      <th>standard_qty</th>\n",
              "      <th>gloss_qty</th>\n",
              "      <th>poster_qty</th>\n",
              "      <th>website</th>\n",
              "      <th>primary_poc</th>\n",
              "    </tr>\n",
              "  </thead>\n",
              "  <tbody>\n",
              "    <tr>\n",
              "      <th>0</th>\n",
              "      <td>123</td>\n",
              "      <td>22</td>\n",
              "      <td>24</td>\n",
              "      <td>www.walmart.com</td>\n",
              "      <td>Tamara Tuma</td>\n",
              "    </tr>\n",
              "    <tr>\n",
              "      <th>1</th>\n",
              "      <td>190</td>\n",
              "      <td>41</td>\n",
              "      <td>57</td>\n",
              "      <td>www.walmart.com</td>\n",
              "      <td>Tamara Tuma</td>\n",
              "    </tr>\n",
              "    <tr>\n",
              "      <th>2</th>\n",
              "      <td>85</td>\n",
              "      <td>47</td>\n",
              "      <td>0</td>\n",
              "      <td>www.walmart.com</td>\n",
              "      <td>Tamara Tuma</td>\n",
              "    </tr>\n",
              "    <tr>\n",
              "      <th>3</th>\n",
              "      <td>144</td>\n",
              "      <td>32</td>\n",
              "      <td>0</td>\n",
              "      <td>www.walmart.com</td>\n",
              "      <td>Tamara Tuma</td>\n",
              "    </tr>\n",
              "    <tr>\n",
              "      <th>4</th>\n",
              "      <td>108</td>\n",
              "      <td>29</td>\n",
              "      <td>28</td>\n",
              "      <td>www.walmart.com</td>\n",
              "      <td>Tamara Tuma</td>\n",
              "    </tr>\n",
              "    <tr>\n",
              "      <th>...</th>\n",
              "      <td>...</td>\n",
              "      <td>...</td>\n",
              "      <td>...</td>\n",
              "      <td>...</td>\n",
              "      <td>...</td>\n",
              "    </tr>\n",
              "    <tr>\n",
              "      <th>6907</th>\n",
              "      <td>11</td>\n",
              "      <td>199</td>\n",
              "      <td>59</td>\n",
              "      <td>www.spartannash.com</td>\n",
              "      <td>Jewell Likes</td>\n",
              "    </tr>\n",
              "    <tr>\n",
              "      <th>6908</th>\n",
              "      <td>5</td>\n",
              "      <td>91</td>\n",
              "      <td>96</td>\n",
              "      <td>www.spartannash.com</td>\n",
              "      <td>Jewell Likes</td>\n",
              "    </tr>\n",
              "    <tr>\n",
              "      <th>6909</th>\n",
              "      <td>16</td>\n",
              "      <td>94</td>\n",
              "      <td>82</td>\n",
              "      <td>www.spartannash.com</td>\n",
              "      <td>Jewell Likes</td>\n",
              "    </tr>\n",
              "    <tr>\n",
              "      <th>6910</th>\n",
              "      <td>63</td>\n",
              "      <td>67</td>\n",
              "      <td>81</td>\n",
              "      <td>www.spartannash.com</td>\n",
              "      <td>Jewell Likes</td>\n",
              "    </tr>\n",
              "    <tr>\n",
              "      <th>6911</th>\n",
              "      <td>61</td>\n",
              "      <td>150</td>\n",
              "      <td>52</td>\n",
              "      <td>www.spartannash.com</td>\n",
              "      <td>Jewell Likes</td>\n",
              "    </tr>\n",
              "  </tbody>\n",
              "</table>\n",
              "<p>6912 rows × 5 columns</p>\n",
              "</div>"
            ],
            "text/plain": [
              "      standard_qty  gloss_qty  poster_qty              website   primary_poc\n",
              "0              123         22          24      www.walmart.com   Tamara Tuma\n",
              "1              190         41          57      www.walmart.com   Tamara Tuma\n",
              "2               85         47           0      www.walmart.com   Tamara Tuma\n",
              "3              144         32           0      www.walmart.com   Tamara Tuma\n",
              "4              108         29          28      www.walmart.com   Tamara Tuma\n",
              "...            ...        ...         ...                  ...           ...\n",
              "6907            11        199          59  www.spartannash.com  Jewell Likes\n",
              "6908             5         91          96  www.spartannash.com  Jewell Likes\n",
              "6909            16         94          82  www.spartannash.com  Jewell Likes\n",
              "6910            63         67          81  www.spartannash.com  Jewell Likes\n",
              "6911            61        150          52  www.spartannash.com  Jewell Likes\n",
              "\n",
              "[6912 rows x 5 columns]"
            ]
          },
          "metadata": {
            "tags": []
          },
          "execution_count": 20
        }
      ]
    },
    {
      "cell_type": "markdown",
      "metadata": {
        "id": "WdpkXJj7ihQO"
      },
      "source": [
        "<h3>Entity Relationship Diagrams:</h3>\r\n",
        "\r\n",
        "From the last lesson, you might remember that an entity relationship diagram (ERD) is a common way to view data in a database. It is also a key element to understanding how we can pull data from multiple tables.\r\n",
        "\r\n",
        "It will be beneficial to have an idea of what the ERD looks like for Parch & Posey handy,\r\n",
        "\r\n",
        "<img src='https://video.udacity-data.com/topher/2017/October/59e946e7_erd/erd.png'>"
      ]
    },
    {
      "cell_type": "markdown",
      "metadata": {
        "id": "NEiOZbiijzjj"
      },
      "source": [
        "**Tables & Columns**\r\n",
        "\r\n",
        "In the Parch & Posey database there are 5 tables:\r\n",
        "\r\n",
        "* web_events\r\n",
        "* accounts\r\n",
        "* orders\r\n",
        "* sales_reps\r\n",
        "* region\r\n",
        "\r\n",
        "You will notice some of the columns in the tables have PK or FK next to the column name, while other columns don't have a label at all.\r\n",
        "\r\n",
        "If you look a little closer, you might notice that the PK is associated with the first column in every table. The PK here stands for primary key. A primary key exists in every table, and it is a column that has a unique value for every row.\r\n",
        "\r\n",
        "If you look at the first few rows of any of the tables in our database, you will notice that this first, PK, column is always unique. For this database it is always called id, but that is not true of all databases."
      ]
    },
    {
      "cell_type": "markdown",
      "metadata": {
        "id": "srrMSTjkmonb"
      },
      "source": [
        "<h4>Keys</h4>\r\n",
        "\r\n",
        "**Primary Key (PK):**\r\n",
        "\r\n",
        "A primary key is a unique column in a particular table. This is the first column in each of our tables. Here, those columns are all called id, but that doesn't necessarily have to be the name. It is common that the primary key is the first column in our tables in most databases.\r\n",
        "\r\n",
        "**Foreign Key (FK):**\r\n",
        "\r\n",
        "A foreign key is a column in one table that is a primary key in a different table. We can see in the Parch & Posey ERD that the foreign keys are:\r\n",
        "\r\n",
        "* region_id\r\n",
        "* account_id\r\n",
        "* sales_rep_id\r\n",
        "\r\n",
        "Each of these is linked to the primary key of another table. An example is shown in the image below:<br>**Note that a table can have multiple foreign-keys, but one primary-key**\r\n",
        "\r\n",
        "<img src='https://video.udacity-data.com/topher/2017/August/598d2378_screen-shot-2017-08-10-at-8.23.48-pm/screen-shot-2017-08-10-at-8.23.48-pm.png'>"
      ]
    },
    {
      "cell_type": "markdown",
      "metadata": {
        "id": "VWlOIa2fnp75"
      },
      "source": [
        "<h4>Primary - Foreign Key Link</h4>\r\n",
        "\r\n",
        "In the above image you can see that:\r\n",
        "\r\n",
        "* The `region_id` is the foreign key.\r\n",
        "* The `region_id` is linked to `id` - this is the **primary-foreign key link** that connects these two tables.\r\n",
        "* The crow's foot shows that the FK can actually appear in many rows in the sales_reps table.\r\n",
        "* While the single line tells us that the PK id appears only once for each row in the region table.\r\n",
        "* If you look through the rest of the database, you will notice this is always the case for a primary-foreign key relationship. In the next concept, you can make sure you have this down!\r\n",
        "\r\n"
      ]
    },
    {
      "cell_type": "markdown",
      "metadata": {
        "id": "bCUwfCQHt6zE"
      },
      "source": [
        "<h4>JOIN Revisited</h4>\r\n",
        "\r\n",
        "Let's look back at the first JOIN we wrote.\r\n",
        "\r\n",
        "```\r\n",
        "SELECT orders.*\r\n",
        "FROM orders\r\n",
        "JOIN accounts\r\n",
        "ON orders.account_id = accounts.id;\r\n",
        "```\r\n",
        "\r\n",
        "Here is the ERD for these two tables:\r\n",
        "\r\n",
        "\r\n",
        "<img src='https://video.udacity-data.com/topher/2017/August/598dfda7_screen-shot-2017-08-11-at-11.54.30-am/screen-shot-2017-08-11-at-11.54.30-am.png'>\r\n",
        "\r\n",
        "**Notice**\r\n",
        "\r\n",
        "Notice our SQL query has the two tables we would like to join - one in the `FROM` and the other in the `JOIN`. Then in the `ON`, we will ALWAYs have the PK equal to the FK:\r\n",
        "\r\n",
        "The way we join any two tables is in this way: linking the PK and FK (generally in an `ON` statement)."
      ]
    },
    {
      "cell_type": "markdown",
      "metadata": {
        "id": "8NqDzoD2vU_-"
      },
      "source": [
        "<h4>JOIN More than Two Tables</h4>\r\n",
        "\r\n",
        "This same logic can actually assist in joining more than two tables together. Look at the three tables below.\r\n",
        "\r\n",
        "<img src='https://video.udacity-data.com/topher/2017/August/598e2e15_screen-shot-2017-08-11-at-3.21.34-pm/screen-shot-2017-08-11-at-3.21.34-pm.png'>"
      ]
    },
    {
      "cell_type": "markdown",
      "metadata": {
        "id": "Hsc_bCS40iM4"
      },
      "source": [
        "**The Code**\r\n",
        "\r\n",
        "If we wanted to join all three of these tables, we could use the same logic. The code below pulls all of the data from all of the joined tables.\r\n",
        "\r\n",
        "```\r\n",
        "SELECT *\r\n",
        "FROM web_events\r\n",
        "JOIN accounts\r\n",
        "ON web_events.account_id = accounts.id\r\n",
        "JOIN orders\r\n",
        "ON accounts.id = orders.account_id\r\n",
        "```"
      ]
    },
    {
      "cell_type": "markdown",
      "metadata": {
        "id": "hcBGoHBz787a"
      },
      "source": [
        "Alternatively, we can create a `SELECT` statement that could pull specific columns from any of the three tables. <br>Again, our `JOIN` holds a table, and `ON` is a link for our PK to equal the FK.\r\n",
        "\r\n",
        "To pull specific columns, the `SELECT` statement will need to specify the table that you are wishing to pull the column from, as well as the column name."
      ]
    },
    {
      "cell_type": "markdown",
      "metadata": {
        "id": "VgfHARYX9ZS2"
      },
      "source": [
        "<h3>Alias:</h3>\r\n",
        "\r\n",
        "When we `JOIN` tables together, it is nice to give each table an alias. Frequently an alias is just the first letter of the table name. You actually saw something similar for column names in the Arithmetic Operators concept.\r\n",
        "\r\n",
        "Example:\r\n",
        "\r\n",
        "```\r\n",
        "FROM tablename AS t1\r\n",
        "JOIN tablename2 AS t2\r\n",
        "```\r\n",
        "\r\n",
        "Frequently, you might also see these statements without the `AS` statement. Each of the above could be written in the following way instead, and they would still produce the exact same results:\r\n",
        "\r\n",
        "```\r\n",
        "FROM tablename t1\r\n",
        "JOIN tablename2 t2\r\n",
        "```\r\n",
        "\r\n",
        "and\r\n",
        "\r\n",
        "```\r\n",
        "SELECT col1 + col2 total, col3\r\n",
        "```\r\n",
        "\r\n"
      ]
    },
    {
      "cell_type": "markdown",
      "metadata": {
        "id": "DRdPtMNH-lH2"
      },
      "source": [
        "<h3>Aliases for Columns in Resulting Table</h3>\r\n",
        "\r\n",
        "While aliasing tables is the most common use case. It can also be used to alias the columns selected to have the resulting table reflect a more readable name.\r\n",
        "\r\n",
        "Example:\r\n",
        "\r\n",
        "```\r\n",
        "Select t1.column1 aliasname, t2.column2 aliasname2\r\n",
        "FROM tablename AS t1\r\n",
        "JOIN tablename2 AS t2\r\n",
        "```\r\n",
        "\r\n",
        "The alias name fields will be what shows up in the returned table instead of t1.column1 and t2.column2\r\n",
        "\r\n",
        "```\r\n",
        "aliasname\taliasname2\r\n",
        "example row\texample row\r\n",
        "example row\texample row\r\n",
        "```"
      ]
    },
    {
      "cell_type": "markdown",
      "metadata": {
        "id": "fsPKt6M5_h-f"
      },
      "source": [
        "<h4>Questions</h4>\r\n",
        "\r\n",
        "1. Provide a table for all web_events associated with account name of Walmart. There should be three columns. Be sure to include the primary_poc, time of the event, and the channel for each event. Additionally, you might choose to add a fourth column to assure only Walmart events were chosen.\r\n",
        "\r\n",
        "2. Provide a table that provides the region for each sales_rep along with their associated accounts. Your final table should include three columns: the region name, the sales rep name, and the account name. Sort the accounts alphabetically (A-Z) according to account name.\r\n",
        "\r\n",
        "3. Provide the name for each region for every order, as well as the account name and the unit price they paid (total_amt_usd/total) for the order. Your final table should have 3 columns: region name, account name, and unit price. A few accounts have 0 for total, so I divided by (total + 0.01) to assure not dividing by zero."
      ]
    },
    {
      "cell_type": "code",
      "metadata": {
        "colab": {
          "base_uri": "https://localhost:8080/",
          "height": 153
        },
        "id": "OlyAxx_MVN1K",
        "outputId": "6a4795d8-31a8-4a85-fc6f-e29ff339a384"
      },
      "source": [
        "# 1. For the sales_reps table\r\n",
        "query = 'SELECT * FROM sales_reps LIMIT 3;'\r\n",
        "query_to_df(query)"
      ],
      "execution_count": 21,
      "outputs": [
        {
          "output_type": "stream",
          "text": [
            "Query ran for 0.013912200927734375 secs!\n"
          ],
          "name": "stdout"
        },
        {
          "output_type": "execute_result",
          "data": {
            "text/html": [
              "<div>\n",
              "<style scoped>\n",
              "    .dataframe tbody tr th:only-of-type {\n",
              "        vertical-align: middle;\n",
              "    }\n",
              "\n",
              "    .dataframe tbody tr th {\n",
              "        vertical-align: top;\n",
              "    }\n",
              "\n",
              "    .dataframe thead th {\n",
              "        text-align: right;\n",
              "    }\n",
              "</style>\n",
              "<table border=\"1\" class=\"dataframe\">\n",
              "  <thead>\n",
              "    <tr style=\"text-align: right;\">\n",
              "      <th></th>\n",
              "      <th>id</th>\n",
              "      <th>name</th>\n",
              "      <th>region_id</th>\n",
              "    </tr>\n",
              "  </thead>\n",
              "  <tbody>\n",
              "    <tr>\n",
              "      <th>0</th>\n",
              "      <td>321500</td>\n",
              "      <td>Samuel Racine</td>\n",
              "      <td>1</td>\n",
              "    </tr>\n",
              "    <tr>\n",
              "      <th>1</th>\n",
              "      <td>321510</td>\n",
              "      <td>Eugena Esser</td>\n",
              "      <td>1</td>\n",
              "    </tr>\n",
              "    <tr>\n",
              "      <th>2</th>\n",
              "      <td>321520</td>\n",
              "      <td>Michel Averette</td>\n",
              "      <td>1</td>\n",
              "    </tr>\n",
              "  </tbody>\n",
              "</table>\n",
              "</div>"
            ],
            "text/plain": [
              "       id             name  region_id\n",
              "0  321500    Samuel Racine          1\n",
              "1  321510     Eugena Esser          1\n",
              "2  321520  Michel Averette          1"
            ]
          },
          "metadata": {
            "tags": []
          },
          "execution_count": 21
        }
      ]
    },
    {
      "cell_type": "code",
      "metadata": {
        "colab": {
          "base_uri": "https://localhost:8080/",
          "height": 153
        },
        "id": "nrEu7Tv9L9S1",
        "outputId": "5c269bf0-e7d4-46fe-e619-aeca99f56611"
      },
      "source": [
        "# 1. For the orders table\r\n",
        "query = 'SELECT * FROM orders LIMIT 3;'\r\n",
        "query_to_df(query)"
      ],
      "execution_count": 22,
      "outputs": [
        {
          "output_type": "stream",
          "text": [
            "Query ran for 0.019616365432739258 secs!\n"
          ],
          "name": "stdout"
        },
        {
          "output_type": "execute_result",
          "data": {
            "text/html": [
              "<div>\n",
              "<style scoped>\n",
              "    .dataframe tbody tr th:only-of-type {\n",
              "        vertical-align: middle;\n",
              "    }\n",
              "\n",
              "    .dataframe tbody tr th {\n",
              "        vertical-align: top;\n",
              "    }\n",
              "\n",
              "    .dataframe thead th {\n",
              "        text-align: right;\n",
              "    }\n",
              "</style>\n",
              "<table border=\"1\" class=\"dataframe\">\n",
              "  <thead>\n",
              "    <tr style=\"text-align: right;\">\n",
              "      <th></th>\n",
              "      <th>id</th>\n",
              "      <th>account_id</th>\n",
              "      <th>occurred_at</th>\n",
              "      <th>standard_qty</th>\n",
              "      <th>gloss_qty</th>\n",
              "      <th>poster_qty</th>\n",
              "      <th>total</th>\n",
              "      <th>standard_amt_usd</th>\n",
              "      <th>gloss_amt_usd</th>\n",
              "      <th>poster_amt_usd</th>\n",
              "      <th>total_amt_usd</th>\n",
              "    </tr>\n",
              "  </thead>\n",
              "  <tbody>\n",
              "    <tr>\n",
              "      <th>0</th>\n",
              "      <td>1</td>\n",
              "      <td>1001</td>\n",
              "      <td>2015-10-06 17:31:14</td>\n",
              "      <td>123</td>\n",
              "      <td>22</td>\n",
              "      <td>24</td>\n",
              "      <td>169</td>\n",
              "      <td>613.77</td>\n",
              "      <td>164.78</td>\n",
              "      <td>194.88</td>\n",
              "      <td>973.43</td>\n",
              "    </tr>\n",
              "    <tr>\n",
              "      <th>1</th>\n",
              "      <td>2</td>\n",
              "      <td>1001</td>\n",
              "      <td>2015-11-05 03:34:33</td>\n",
              "      <td>190</td>\n",
              "      <td>41</td>\n",
              "      <td>57</td>\n",
              "      <td>288</td>\n",
              "      <td>948.10</td>\n",
              "      <td>307.09</td>\n",
              "      <td>462.84</td>\n",
              "      <td>1718.03</td>\n",
              "    </tr>\n",
              "    <tr>\n",
              "      <th>2</th>\n",
              "      <td>3</td>\n",
              "      <td>1001</td>\n",
              "      <td>2015-12-04 04:21:55</td>\n",
              "      <td>85</td>\n",
              "      <td>47</td>\n",
              "      <td>0</td>\n",
              "      <td>132</td>\n",
              "      <td>424.15</td>\n",
              "      <td>352.03</td>\n",
              "      <td>0.00</td>\n",
              "      <td>776.18</td>\n",
              "    </tr>\n",
              "  </tbody>\n",
              "</table>\n",
              "</div>"
            ],
            "text/plain": [
              "   id  account_id  ... poster_amt_usd  total_amt_usd\n",
              "0   1        1001  ...         194.88         973.43\n",
              "1   2        1001  ...         462.84        1718.03\n",
              "2   3        1001  ...           0.00         776.18\n",
              "\n",
              "[3 rows x 11 columns]"
            ]
          },
          "metadata": {
            "tags": []
          },
          "execution_count": 22
        }
      ]
    },
    {
      "cell_type": "code",
      "metadata": {
        "colab": {
          "base_uri": "https://localhost:8080/",
          "height": 153
        },
        "id": "vDo_dnjKAvqS",
        "outputId": "f1ce420b-1f94-495b-f432-c0163a83c597"
      },
      "source": [
        "# 2. For the accounts table\r\n",
        "query = 'SELECT * FROM accounts LIMIT 3;'\r\n",
        "query_to_df(query)"
      ],
      "execution_count": 23,
      "outputs": [
        {
          "output_type": "stream",
          "text": [
            "Query ran for 0.01897907257080078 secs!\n"
          ],
          "name": "stdout"
        },
        {
          "output_type": "execute_result",
          "data": {
            "text/html": [
              "<div>\n",
              "<style scoped>\n",
              "    .dataframe tbody tr th:only-of-type {\n",
              "        vertical-align: middle;\n",
              "    }\n",
              "\n",
              "    .dataframe tbody tr th {\n",
              "        vertical-align: top;\n",
              "    }\n",
              "\n",
              "    .dataframe thead th {\n",
              "        text-align: right;\n",
              "    }\n",
              "</style>\n",
              "<table border=\"1\" class=\"dataframe\">\n",
              "  <thead>\n",
              "    <tr style=\"text-align: right;\">\n",
              "      <th></th>\n",
              "      <th>id</th>\n",
              "      <th>name</th>\n",
              "      <th>website</th>\n",
              "      <th>lats</th>\n",
              "      <th>longs</th>\n",
              "      <th>primary_poc</th>\n",
              "      <th>sales_rep_id</th>\n",
              "    </tr>\n",
              "  </thead>\n",
              "  <tbody>\n",
              "    <tr>\n",
              "      <th>0</th>\n",
              "      <td>1001</td>\n",
              "      <td>Walmart</td>\n",
              "      <td>www.walmart.com</td>\n",
              "      <td>40.238496</td>\n",
              "      <td>-75.103297</td>\n",
              "      <td>Tamara Tuma</td>\n",
              "      <td>321500</td>\n",
              "    </tr>\n",
              "    <tr>\n",
              "      <th>1</th>\n",
              "      <td>1011</td>\n",
              "      <td>Exxon Mobil</td>\n",
              "      <td>www.exxonmobil.com</td>\n",
              "      <td>41.169156</td>\n",
              "      <td>-73.849374</td>\n",
              "      <td>Sung Shields</td>\n",
              "      <td>321510</td>\n",
              "    </tr>\n",
              "    <tr>\n",
              "      <th>2</th>\n",
              "      <td>1021</td>\n",
              "      <td>Apple</td>\n",
              "      <td>www.apple.com</td>\n",
              "      <td>42.290495</td>\n",
              "      <td>-76.084009</td>\n",
              "      <td>Jodee Lupo</td>\n",
              "      <td>321520</td>\n",
              "    </tr>\n",
              "  </tbody>\n",
              "</table>\n",
              "</div>"
            ],
            "text/plain": [
              "     id         name             website  ...      longs   primary_poc sales_rep_id\n",
              "0  1001      Walmart     www.walmart.com  ... -75.103297   Tamara Tuma       321500\n",
              "1  1011  Exxon Mobil  www.exxonmobil.com  ... -73.849374  Sung Shields       321510\n",
              "2  1021        Apple       www.apple.com  ... -76.084009    Jodee Lupo       321520\n",
              "\n",
              "[3 rows x 7 columns]"
            ]
          },
          "metadata": {
            "tags": []
          },
          "execution_count": 23
        }
      ]
    },
    {
      "cell_type": "code",
      "metadata": {
        "colab": {
          "base_uri": "https://localhost:8080/",
          "height": 153
        },
        "id": "A-Z3G19CAopR",
        "outputId": "d985e6af-7d56-4158-e7a3-89dfb68d60ec"
      },
      "source": [
        "# 1. For the region table\r\n",
        "query = 'SELECT * FROM region LIMIT 3;'\r\n",
        "query_to_df(query)"
      ],
      "execution_count": 24,
      "outputs": [
        {
          "output_type": "stream",
          "text": [
            "Query ran for 0.008010387420654297 secs!\n"
          ],
          "name": "stdout"
        },
        {
          "output_type": "execute_result",
          "data": {
            "text/html": [
              "<div>\n",
              "<style scoped>\n",
              "    .dataframe tbody tr th:only-of-type {\n",
              "        vertical-align: middle;\n",
              "    }\n",
              "\n",
              "    .dataframe tbody tr th {\n",
              "        vertical-align: top;\n",
              "    }\n",
              "\n",
              "    .dataframe thead th {\n",
              "        text-align: right;\n",
              "    }\n",
              "</style>\n",
              "<table border=\"1\" class=\"dataframe\">\n",
              "  <thead>\n",
              "    <tr style=\"text-align: right;\">\n",
              "      <th></th>\n",
              "      <th>id</th>\n",
              "      <th>name</th>\n",
              "    </tr>\n",
              "  </thead>\n",
              "  <tbody>\n",
              "    <tr>\n",
              "      <th>0</th>\n",
              "      <td>1</td>\n",
              "      <td>Northeast</td>\n",
              "    </tr>\n",
              "    <tr>\n",
              "      <th>1</th>\n",
              "      <td>2</td>\n",
              "      <td>Midwest</td>\n",
              "    </tr>\n",
              "    <tr>\n",
              "      <th>2</th>\n",
              "      <td>3</td>\n",
              "      <td>Southeast</td>\n",
              "    </tr>\n",
              "  </tbody>\n",
              "</table>\n",
              "</div>"
            ],
            "text/plain": [
              "   id       name\n",
              "0   1  Northeast\n",
              "1   2    Midwest\n",
              "2   3  Southeast"
            ]
          },
          "metadata": {
            "tags": []
          },
          "execution_count": 24
        }
      ]
    },
    {
      "cell_type": "code",
      "metadata": {
        "colab": {
          "base_uri": "https://localhost:8080/",
          "height": 153
        },
        "id": "Zt0BHTosWIGP",
        "outputId": "901f2440-cd27-4a78-c15a-3cc684c3d12b"
      },
      "source": [
        "# 1. For the web_events table\r\n",
        "query = 'SELECT * FROM web_events LIMIT 3;'\r\n",
        "query_to_df(query)"
      ],
      "execution_count": 25,
      "outputs": [
        {
          "output_type": "stream",
          "text": [
            "Query ran for 0.012680530548095703 secs!\n"
          ],
          "name": "stdout"
        },
        {
          "output_type": "execute_result",
          "data": {
            "text/html": [
              "<div>\n",
              "<style scoped>\n",
              "    .dataframe tbody tr th:only-of-type {\n",
              "        vertical-align: middle;\n",
              "    }\n",
              "\n",
              "    .dataframe tbody tr th {\n",
              "        vertical-align: top;\n",
              "    }\n",
              "\n",
              "    .dataframe thead th {\n",
              "        text-align: right;\n",
              "    }\n",
              "</style>\n",
              "<table border=\"1\" class=\"dataframe\">\n",
              "  <thead>\n",
              "    <tr style=\"text-align: right;\">\n",
              "      <th></th>\n",
              "      <th>id</th>\n",
              "      <th>account_id</th>\n",
              "      <th>occurred_at</th>\n",
              "      <th>channel</th>\n",
              "    </tr>\n",
              "  </thead>\n",
              "  <tbody>\n",
              "    <tr>\n",
              "      <th>0</th>\n",
              "      <td>1</td>\n",
              "      <td>1001</td>\n",
              "      <td>2015-10-06 17:13:58</td>\n",
              "      <td>direct</td>\n",
              "    </tr>\n",
              "    <tr>\n",
              "      <th>1</th>\n",
              "      <td>2</td>\n",
              "      <td>1001</td>\n",
              "      <td>2015-11-05 03:08:26</td>\n",
              "      <td>direct</td>\n",
              "    </tr>\n",
              "    <tr>\n",
              "      <th>2</th>\n",
              "      <td>3</td>\n",
              "      <td>1001</td>\n",
              "      <td>2015-12-04 03:57:24</td>\n",
              "      <td>direct</td>\n",
              "    </tr>\n",
              "  </tbody>\n",
              "</table>\n",
              "</div>"
            ],
            "text/plain": [
              "   id  account_id         occurred_at channel\n",
              "0   1        1001 2015-10-06 17:13:58  direct\n",
              "1   2        1001 2015-11-05 03:08:26  direct\n",
              "2   3        1001 2015-12-04 03:57:24  direct"
            ]
          },
          "metadata": {
            "tags": []
          },
          "execution_count": 25
        }
      ]
    },
    {
      "cell_type": "markdown",
      "metadata": {
        "id": "yYplWvT3ESvq"
      },
      "source": [
        "Provide a table for all web_events associated with account name of Walmart. There should be three columns. Be sure to include the primary_poc, time of the event, and the channel for each event. Additionally, you might choose to add a fourth column to assure only Walmart events were chosen."
      ]
    },
    {
      "cell_type": "code",
      "metadata": {
        "colab": {
          "base_uri": "https://localhost:8080/",
          "height": 418
        },
        "id": "IKv30RZMiu4u",
        "outputId": "2f0edbfe-270e-483a-f7b2-57594b41e88e"
      },
      "source": [
        "query = 'SELECT accounts.primary_poc, web_events.occurred_at, web_events.channel,\\\r\n",
        "        accounts.name FROM accounts JOIN web_events ON \\\r\n",
        "        accounts.id = web_events.account_id WHERE accounts.name LIKE \"Walmart%\";'\r\n",
        "query_to_df(query)"
      ],
      "execution_count": 26,
      "outputs": [
        {
          "output_type": "stream",
          "text": [
            "Query ran for 0.12111759185791016 secs!\n"
          ],
          "name": "stdout"
        },
        {
          "output_type": "execute_result",
          "data": {
            "text/html": [
              "<div>\n",
              "<style scoped>\n",
              "    .dataframe tbody tr th:only-of-type {\n",
              "        vertical-align: middle;\n",
              "    }\n",
              "\n",
              "    .dataframe tbody tr th {\n",
              "        vertical-align: top;\n",
              "    }\n",
              "\n",
              "    .dataframe thead th {\n",
              "        text-align: right;\n",
              "    }\n",
              "</style>\n",
              "<table border=\"1\" class=\"dataframe\">\n",
              "  <thead>\n",
              "    <tr style=\"text-align: right;\">\n",
              "      <th></th>\n",
              "      <th>primary_poc</th>\n",
              "      <th>occurred_at</th>\n",
              "      <th>channel</th>\n",
              "      <th>name</th>\n",
              "    </tr>\n",
              "  </thead>\n",
              "  <tbody>\n",
              "    <tr>\n",
              "      <th>0</th>\n",
              "      <td>Tamara Tuma</td>\n",
              "      <td>2015-10-06 17:13:58</td>\n",
              "      <td>direct</td>\n",
              "      <td>Walmart</td>\n",
              "    </tr>\n",
              "    <tr>\n",
              "      <th>1</th>\n",
              "      <td>Tamara Tuma</td>\n",
              "      <td>2015-11-05 03:08:26</td>\n",
              "      <td>direct</td>\n",
              "      <td>Walmart</td>\n",
              "    </tr>\n",
              "    <tr>\n",
              "      <th>2</th>\n",
              "      <td>Tamara Tuma</td>\n",
              "      <td>2015-12-04 03:57:24</td>\n",
              "      <td>direct</td>\n",
              "      <td>Walmart</td>\n",
              "    </tr>\n",
              "    <tr>\n",
              "      <th>3</th>\n",
              "      <td>Tamara Tuma</td>\n",
              "      <td>2016-01-02 00:55:03</td>\n",
              "      <td>direct</td>\n",
              "      <td>Walmart</td>\n",
              "    </tr>\n",
              "    <tr>\n",
              "      <th>4</th>\n",
              "      <td>Tamara Tuma</td>\n",
              "      <td>2016-02-01 19:02:33</td>\n",
              "      <td>direct</td>\n",
              "      <td>Walmart</td>\n",
              "    </tr>\n",
              "    <tr>\n",
              "      <th>...</th>\n",
              "      <td>...</td>\n",
              "      <td>...</td>\n",
              "      <td>...</td>\n",
              "      <td>...</td>\n",
              "    </tr>\n",
              "    <tr>\n",
              "      <th>34</th>\n",
              "      <td>Tamara Tuma</td>\n",
              "      <td>2016-07-26 11:29:09</td>\n",
              "      <td>direct</td>\n",
              "      <td>Walmart</td>\n",
              "    </tr>\n",
              "    <tr>\n",
              "      <th>35</th>\n",
              "      <td>Tamara Tuma</td>\n",
              "      <td>2016-07-26 21:08:52</td>\n",
              "      <td>banner</td>\n",
              "      <td>Walmart</td>\n",
              "    </tr>\n",
              "    <tr>\n",
              "      <th>36</th>\n",
              "      <td>Tamara Tuma</td>\n",
              "      <td>2016-08-12 09:31:22</td>\n",
              "      <td>organic</td>\n",
              "      <td>Walmart</td>\n",
              "    </tr>\n",
              "    <tr>\n",
              "      <th>37</th>\n",
              "      <td>Tamara Tuma</td>\n",
              "      <td>2016-09-01 18:33:56</td>\n",
              "      <td>direct</td>\n",
              "      <td>Walmart</td>\n",
              "    </tr>\n",
              "    <tr>\n",
              "      <th>38</th>\n",
              "      <td>Tamara Tuma</td>\n",
              "      <td>2016-09-11 17:06:53</td>\n",
              "      <td>adwords</td>\n",
              "      <td>Walmart</td>\n",
              "    </tr>\n",
              "  </tbody>\n",
              "</table>\n",
              "<p>39 rows × 4 columns</p>\n",
              "</div>"
            ],
            "text/plain": [
              "    primary_poc         occurred_at  channel     name\n",
              "0   Tamara Tuma 2015-10-06 17:13:58   direct  Walmart\n",
              "1   Tamara Tuma 2015-11-05 03:08:26   direct  Walmart\n",
              "2   Tamara Tuma 2015-12-04 03:57:24   direct  Walmart\n",
              "3   Tamara Tuma 2016-01-02 00:55:03   direct  Walmart\n",
              "4   Tamara Tuma 2016-02-01 19:02:33   direct  Walmart\n",
              "..          ...                 ...      ...      ...\n",
              "34  Tamara Tuma 2016-07-26 11:29:09   direct  Walmart\n",
              "35  Tamara Tuma 2016-07-26 21:08:52   banner  Walmart\n",
              "36  Tamara Tuma 2016-08-12 09:31:22  organic  Walmart\n",
              "37  Tamara Tuma 2016-09-01 18:33:56   direct  Walmart\n",
              "38  Tamara Tuma 2016-09-11 17:06:53  adwords  Walmart\n",
              "\n",
              "[39 rows x 4 columns]"
            ]
          },
          "metadata": {
            "tags": []
          },
          "execution_count": 26
        }
      ]
    },
    {
      "cell_type": "markdown",
      "metadata": {
        "id": "PySifF6-Ep6v"
      },
      "source": [
        "Provide a table that provides the region for each sales_rep along with their associated accounts. Your final table should include three columns: the region name, the sales rep name, and the account name. Sort the accounts alphabetically (A-Z) according to account name."
      ]
    },
    {
      "cell_type": "code",
      "metadata": {
        "colab": {
          "base_uri": "https://localhost:8080/",
          "height": 35
        },
        "id": "82YUvP72G0gT",
        "outputId": "df6b8b4b-d6f8-4bd4-f9f2-88e0e9d6e47c"
      },
      "source": [
        "query = \"\"\"\r\n",
        "SELECT r.name region, s.name sales_rep, a.name account\r\n",
        "FROM region r JOIN sales_reps s ON r.id = s.region_id \r\n",
        "JOIN accounts a ON a.sales_rep_id = s.id ORDER BY a.name;\r\n",
        "\"\"\"\r\n",
        "\r\n",
        "query_to_df(query)"
      ],
      "execution_count": 27,
      "outputs": [
        {
          "output_type": "execute_result",
          "data": {
            "application/vnd.google.colaboratory.intrinsic+json": {
              "type": "string"
            },
            "text/plain": [
              "'ERROR: Query Must End with ;'"
            ]
          },
          "metadata": {
            "tags": []
          },
          "execution_count": 27
        }
      ]
    },
    {
      "cell_type": "markdown",
      "metadata": {
        "id": "H-GVUWJCFFOh"
      },
      "source": [
        "Provide the name for each region for every order, as well as the account name and the unit price they paid (total_amt_usd/total) for the order. Your final table should have 3 columns: region name, account name, and unit price. A few accounts have 0 for total, so I divided by (total + 0.01) to assure not dividing by zero."
      ]
    },
    {
      "cell_type": "code",
      "metadata": {
        "colab": {
          "base_uri": "https://localhost:8080/",
          "height": 35
        },
        "id": "NPEVXYqMQLEs",
        "outputId": "ff074b88-cccd-469d-af81-a7e75412e68e"
      },
      "source": [
        "query = \"\"\"\r\n",
        "SELECT r.name region_name, a.name acct_name, \r\n",
        "(o.total_amt_usd / (o.total+0.01)) unit_price \r\n",
        "FROM region r JOIN sales_reps s ON r.id = s.region_id\r\n",
        "JOIN accounts a ON a.sales_rep_id = s.id\r\n",
        "JOIN orders o ON o.account_id = a.id;\r\n",
        "\"\"\"\r\n",
        "\r\n",
        "query_to_df(query)"
      ],
      "execution_count": 28,
      "outputs": [
        {
          "output_type": "execute_result",
          "data": {
            "application/vnd.google.colaboratory.intrinsic+json": {
              "type": "string"
            },
            "text/plain": [
              "'ERROR: Query Must End with ;'"
            ]
          },
          "metadata": {
            "tags": []
          },
          "execution_count": 28
        }
      ]
    },
    {
      "cell_type": "markdown",
      "metadata": {
        "id": "w9yOcAYLsSCC"
      },
      "source": [
        "<h3>Inner, Left, Right, Outer Joins</h3>\r\n",
        "\r\n",
        "**JOINs**\r\n",
        "\r\n",
        "The INNER JOIN, which we saw by just using JOIN,\r\n",
        "\r\n",
        "Fro the right and left joins,\r\n",
        "If there is not matching information in the JOINed table, then you will have columns with empty cells. These empty cells introduce a new data type called NULL. You will learn about NULLs in detail in the next lesson, but for now you have a quick introduction as you can consider any cell without data as NULL."
      ]
    },
    {
      "cell_type": "markdown",
      "metadata": {
        "id": "ZQD4YrlJtLk5"
      },
      "source": [
        "<h3>JOIN Check In</h3>\r\n",
        "\r\n",
        "**INNER JOINs** \r\n",
        "\r\n",
        "Notice every JOIN we have done up to this point has been an `INNER JOIN`. That is, we have always pulled rows only if they exist as a match across two tables.\r\n",
        "\r\n",
        "Our new JOINs allow us to pull rows that might only exist in one of the two tables. This will introduce a new data type called NULL. This data type will be discussed in detail in the next lesson.\r\n",
        "\r\n",
        "**Quick Note**\r\n",
        "\r\n",
        "You might see the SQL syntax of\r\n",
        "\r\n",
        "`LEFT OUTER JOIN`\r\n",
        "OR\r\n",
        "\r\n",
        "`RIGHT OUTER JOIN`\r\n",
        "\r\n",
        "These are the exact same commands as the `LEFT JOIN` and `RIGHT JOIN` we learned about in the previous video.\r\n",
        "\r\n",
        "**OUTER JOINS**\r\n",
        "\r\n",
        "The last type of join is a `full outer join`. This will return the `inner join` result set, as well as any unmatched rows from either of the two tables being joined.\r\n",
        "\r\n",
        "Again this returns rows that do not match one another from the two tables. The use cases for a `full outer join` are very rare.\r\n",
        "\r\n",
        "You can see examples of outer joins at the link [here](http://www.w3resource.com/sql/joins/perform-a-full-outer-join.php) and a description of the rare use cases here. We will not spend time on these given the few instances you might need to use them.\r\n",
        "\r\n",
        "Similar to the above, you might see the language `FULL OUTER JOIN`, which is the same as `OUTER JOIN`."
      ]
    },
    {
      "cell_type": "markdown",
      "metadata": {
        "id": "N3gEL203u3Ll"
      },
      "source": [
        "<h3><b>Facts</b></h3>\r\n",
        "\r\n",
        "1. A `LEFT JOIN` and `RIGHT JOIN` do the same thing if we change the tables that are in the `FROM` and `JOIN` statements.\r\n",
        "\r\n",
        "2. A `LEFT JOIN` will at least return all the rows that are in an `INNER JOIN`.\r\n",
        "\r\n",
        "3. `JOIN` and `INNER JOIN` are the same.\r\n",
        "\r\n",
        "4. A `LEFT OUTER JOIN` is the same as `LEFT JOIN`.\r\n",
        "\r\n"
      ]
    },
    {
      "cell_type": "markdown",
      "metadata": {
        "id": "4KOFNI_qbUva"
      },
      "source": [
        "<b><h3>Tip:</h3></b>\r\n",
        "\r\n",
        "If you have two or more columns in your SELECT that have the same name after the table name such as accounts.name and sales_reps.name you will need to alias them. Otherwise it will only show one of the columns. You can alias them like accounts.name AS AcountName, sales_rep.name AS SalesRepName"
      ]
    },
    {
      "cell_type": "markdown",
      "metadata": {
        "id": "y3yJlK4Mcz3d"
      },
      "source": [
        "<h3>Q1</h3>\r\n",
        "\r\n",
        "Provide a table that provides the region for each sales_rep along with their associated accounts. This time only for the Midwest region. Your final table should include three columns: the region name, the sales rep name, and the account name. Sort the accounts alphabetically (A-Z) according to account name."
      ]
    },
    {
      "cell_type": "code",
      "metadata": {
        "colab": {
          "base_uri": "https://localhost:8080/",
          "height": 418
        },
        "id": "p8NEQ4krc5wN",
        "outputId": "ccc9138b-9af7-4533-d0b2-85bd7be57eff"
      },
      "source": [
        "query = 'SELECT r.name region, s.name sales_rep, a.name acct \\\r\n",
        "        FROM region r JOIN sales_reps s ON r.id = s.region_id \\\r\n",
        "        AND r.name LIKE \"Midwest%\" JOIN accounts a on \\\r\n",
        "        a.sales_rep_id = s.id ORDER BY a.name;'\r\n",
        "\r\n",
        "query_to_df(query)"
      ],
      "execution_count": 29,
      "outputs": [
        {
          "output_type": "stream",
          "text": [
            "Query ran for 0.07679629325866699 secs!\n"
          ],
          "name": "stdout"
        },
        {
          "output_type": "execute_result",
          "data": {
            "text/html": [
              "<div>\n",
              "<style scoped>\n",
              "    .dataframe tbody tr th:only-of-type {\n",
              "        vertical-align: middle;\n",
              "    }\n",
              "\n",
              "    .dataframe tbody tr th {\n",
              "        vertical-align: top;\n",
              "    }\n",
              "\n",
              "    .dataframe thead th {\n",
              "        text-align: right;\n",
              "    }\n",
              "</style>\n",
              "<table border=\"1\" class=\"dataframe\">\n",
              "  <thead>\n",
              "    <tr style=\"text-align: right;\">\n",
              "      <th></th>\n",
              "      <th>region</th>\n",
              "      <th>sales_rep</th>\n",
              "      <th>acct</th>\n",
              "    </tr>\n",
              "  </thead>\n",
              "  <tbody>\n",
              "    <tr>\n",
              "      <th>0</th>\n",
              "      <td>Midwest</td>\n",
              "      <td>Chau Rowles</td>\n",
              "      <td>Abbott Laboratories</td>\n",
              "    </tr>\n",
              "    <tr>\n",
              "      <th>1</th>\n",
              "      <td>Midwest</td>\n",
              "      <td>Julie Starr</td>\n",
              "      <td>AbbVie</td>\n",
              "    </tr>\n",
              "    <tr>\n",
              "      <th>2</th>\n",
              "      <td>Midwest</td>\n",
              "      <td>Cliff Meints</td>\n",
              "      <td>Aflac</td>\n",
              "    </tr>\n",
              "    <tr>\n",
              "      <th>3</th>\n",
              "      <td>Midwest</td>\n",
              "      <td>Chau Rowles</td>\n",
              "      <td>Alcoa</td>\n",
              "    </tr>\n",
              "    <tr>\n",
              "      <th>4</th>\n",
              "      <td>Midwest</td>\n",
              "      <td>Charles Bidwell</td>\n",
              "      <td>Altria Group</td>\n",
              "    </tr>\n",
              "    <tr>\n",
              "      <th>...</th>\n",
              "      <td>...</td>\n",
              "      <td>...</td>\n",
              "      <td>...</td>\n",
              "    </tr>\n",
              "    <tr>\n",
              "      <th>43</th>\n",
              "      <td>Midwest</td>\n",
              "      <td>Cliff Meints</td>\n",
              "      <td>Union Pacific</td>\n",
              "    </tr>\n",
              "    <tr>\n",
              "      <th>44</th>\n",
              "      <td>Midwest</td>\n",
              "      <td>Kathleen Lalonde</td>\n",
              "      <td>US Foods Holding</td>\n",
              "    </tr>\n",
              "    <tr>\n",
              "      <th>45</th>\n",
              "      <td>Midwest</td>\n",
              "      <td>Julie Starr</td>\n",
              "      <td>USAA</td>\n",
              "    </tr>\n",
              "    <tr>\n",
              "      <th>46</th>\n",
              "      <td>Midwest</td>\n",
              "      <td>Charles Bidwell</td>\n",
              "      <td>Whirlpool</td>\n",
              "    </tr>\n",
              "    <tr>\n",
              "      <th>47</th>\n",
              "      <td>Midwest</td>\n",
              "      <td>Cliff Meints</td>\n",
              "      <td>Xerox</td>\n",
              "    </tr>\n",
              "  </tbody>\n",
              "</table>\n",
              "<p>48 rows × 3 columns</p>\n",
              "</div>"
            ],
            "text/plain": [
              "     region         sales_rep                 acct\n",
              "0   Midwest       Chau Rowles  Abbott Laboratories\n",
              "1   Midwest       Julie Starr               AbbVie\n",
              "2   Midwest      Cliff Meints                Aflac\n",
              "3   Midwest       Chau Rowles                Alcoa\n",
              "4   Midwest   Charles Bidwell         Altria Group\n",
              "..      ...               ...                  ...\n",
              "43  Midwest      Cliff Meints        Union Pacific\n",
              "44  Midwest  Kathleen Lalonde     US Foods Holding\n",
              "45  Midwest       Julie Starr                 USAA\n",
              "46  Midwest   Charles Bidwell            Whirlpool\n",
              "47  Midwest      Cliff Meints                Xerox\n",
              "\n",
              "[48 rows x 3 columns]"
            ]
          },
          "metadata": {
            "tags": []
          },
          "execution_count": 29
        }
      ]
    },
    {
      "cell_type": "markdown",
      "metadata": {
        "id": "ZSNDRuC0lCMO"
      },
      "source": [
        "<h3>Q2</h3>\r\n",
        "\r\n",
        "Provide a table that provides the region for each sales_rep along with their associated accounts. This time only for accounts where the sales rep has a first name starting with S and in the Midwest region. Your final table should include three columns: the region name, the sales rep name, and the account name. Sort the accounts alphabetically (A-Z) according to account name."
      ]
    },
    {
      "cell_type": "code",
      "metadata": {
        "colab": {
          "base_uri": "https://localhost:8080/",
          "height": 212
        },
        "id": "W4FO5rFBlF1K",
        "outputId": "7f9a112e-226b-4aba-ff1c-94fc2afc3490"
      },
      "source": [
        "query = 'SELECT r.name region_, s.name sales_rep, a.name acct FROM region r \\\r\n",
        "         JOIN sales_reps s ON r.id = s.region_id AND s.name LIKE \"S%\" AND \\\r\n",
        "         r.name LIKE \"Midwest%\" JOIN accounts a ON a.sales_rep_id = s.id \\\r\n",
        "         ORDER BY a.name;'\r\n",
        "\r\n",
        "query_to_df(query)"
      ],
      "execution_count": 30,
      "outputs": [
        {
          "output_type": "stream",
          "text": [
            "Query ran for 0.016788721084594727 secs!\n"
          ],
          "name": "stdout"
        },
        {
          "output_type": "execute_result",
          "data": {
            "text/html": [
              "<div>\n",
              "<style scoped>\n",
              "    .dataframe tbody tr th:only-of-type {\n",
              "        vertical-align: middle;\n",
              "    }\n",
              "\n",
              "    .dataframe tbody tr th {\n",
              "        vertical-align: top;\n",
              "    }\n",
              "\n",
              "    .dataframe thead th {\n",
              "        text-align: right;\n",
              "    }\n",
              "</style>\n",
              "<table border=\"1\" class=\"dataframe\">\n",
              "  <thead>\n",
              "    <tr style=\"text-align: right;\">\n",
              "      <th></th>\n",
              "      <th>region_</th>\n",
              "      <th>sales_rep</th>\n",
              "      <th>acct</th>\n",
              "    </tr>\n",
              "  </thead>\n",
              "  <tbody>\n",
              "    <tr>\n",
              "      <th>0</th>\n",
              "      <td>Midwest</td>\n",
              "      <td>Sherlene Wetherington</td>\n",
              "      <td>Community Health Systems</td>\n",
              "    </tr>\n",
              "    <tr>\n",
              "      <th>1</th>\n",
              "      <td>Midwest</td>\n",
              "      <td>Sherlene Wetherington</td>\n",
              "      <td>Progressive</td>\n",
              "    </tr>\n",
              "    <tr>\n",
              "      <th>2</th>\n",
              "      <td>Midwest</td>\n",
              "      <td>Sherlene Wetherington</td>\n",
              "      <td>Rite Aid</td>\n",
              "    </tr>\n",
              "    <tr>\n",
              "      <th>3</th>\n",
              "      <td>Midwest</td>\n",
              "      <td>Sherlene Wetherington</td>\n",
              "      <td>Time Warner Cable</td>\n",
              "    </tr>\n",
              "    <tr>\n",
              "      <th>4</th>\n",
              "      <td>Midwest</td>\n",
              "      <td>Sherlene Wetherington</td>\n",
              "      <td>U.S. Bancorp</td>\n",
              "    </tr>\n",
              "  </tbody>\n",
              "</table>\n",
              "</div>"
            ],
            "text/plain": [
              "   region_              sales_rep                      acct\n",
              "0  Midwest  Sherlene Wetherington  Community Health Systems\n",
              "1  Midwest  Sherlene Wetherington               Progressive\n",
              "2  Midwest  Sherlene Wetherington                  Rite Aid\n",
              "3  Midwest  Sherlene Wetherington         Time Warner Cable\n",
              "4  Midwest  Sherlene Wetherington              U.S. Bancorp"
            ]
          },
          "metadata": {
            "tags": []
          },
          "execution_count": 30
        }
      ]
    },
    {
      "cell_type": "markdown",
      "metadata": {
        "id": "G5OUaMsjnwdA"
      },
      "source": [
        "<h3>Q3</h3>\r\n",
        "\r\n",
        "Provide a table that provides the region for each sales_rep along with their associated accounts. This time only for accounts where the sales rep has a last name starting with K and in the Midwest region. Your final table should include three columns: the region name, the sales rep name, and the account name. Sort the accounts alphabetically (A-Z) according to account name."
      ]
    },
    {
      "cell_type": "code",
      "metadata": {
        "colab": {
          "base_uri": "https://localhost:8080/",
          "height": 449
        },
        "id": "r-kNM7e9n0Eu",
        "outputId": "3377f867-e0b9-4201-85d1-f967377409cf"
      },
      "source": [
        "query = 'SELECT r.name region, s.name sales_rep, a.name acct FROM region r \\\r\n",
        "         JOIN sales_reps s ON r.id = s.region_id AND s.name LIKE \"% K%\" AND \\\r\n",
        "         r.name LIKE \"Midwest\" JOIN accounts a ON a.sales_rep_id = s.id \\\r\n",
        "        ORDER BY a.name;'\r\n",
        "\r\n",
        "query_to_df(query)"
      ],
      "execution_count": 31,
      "outputs": [
        {
          "output_type": "stream",
          "text": [
            "Query ran for 0.026633024215698242 secs!\n"
          ],
          "name": "stdout"
        },
        {
          "output_type": "execute_result",
          "data": {
            "text/html": [
              "<div>\n",
              "<style scoped>\n",
              "    .dataframe tbody tr th:only-of-type {\n",
              "        vertical-align: middle;\n",
              "    }\n",
              "\n",
              "    .dataframe tbody tr th {\n",
              "        vertical-align: top;\n",
              "    }\n",
              "\n",
              "    .dataframe thead th {\n",
              "        text-align: right;\n",
              "    }\n",
              "</style>\n",
              "<table border=\"1\" class=\"dataframe\">\n",
              "  <thead>\n",
              "    <tr style=\"text-align: right;\">\n",
              "      <th></th>\n",
              "      <th>region</th>\n",
              "      <th>sales_rep</th>\n",
              "      <th>acct</th>\n",
              "    </tr>\n",
              "  </thead>\n",
              "  <tbody>\n",
              "    <tr>\n",
              "      <th>0</th>\n",
              "      <td>Midwest</td>\n",
              "      <td>Delilah Krum</td>\n",
              "      <td>Amgen</td>\n",
              "    </tr>\n",
              "    <tr>\n",
              "      <th>1</th>\n",
              "      <td>Midwest</td>\n",
              "      <td>Delilah Krum</td>\n",
              "      <td>AutoNation</td>\n",
              "    </tr>\n",
              "    <tr>\n",
              "      <th>2</th>\n",
              "      <td>Midwest</td>\n",
              "      <td>Delilah Krum</td>\n",
              "      <td>Capital One Financial</td>\n",
              "    </tr>\n",
              "    <tr>\n",
              "      <th>3</th>\n",
              "      <td>Midwest</td>\n",
              "      <td>Delilah Krum</td>\n",
              "      <td>Cummins</td>\n",
              "    </tr>\n",
              "    <tr>\n",
              "      <th>4</th>\n",
              "      <td>Midwest</td>\n",
              "      <td>Carletta Kosinski</td>\n",
              "      <td>Danaher</td>\n",
              "    </tr>\n",
              "    <tr>\n",
              "      <th>5</th>\n",
              "      <td>Midwest</td>\n",
              "      <td>Carletta Kosinski</td>\n",
              "      <td>Dollar General</td>\n",
              "    </tr>\n",
              "    <tr>\n",
              "      <th>6</th>\n",
              "      <td>Midwest</td>\n",
              "      <td>Delilah Krum</td>\n",
              "      <td>Hartford Financial Services Group</td>\n",
              "    </tr>\n",
              "    <tr>\n",
              "      <th>7</th>\n",
              "      <td>Midwest</td>\n",
              "      <td>Carletta Kosinski</td>\n",
              "      <td>International Paper</td>\n",
              "    </tr>\n",
              "    <tr>\n",
              "      <th>8</th>\n",
              "      <td>Midwest</td>\n",
              "      <td>Delilah Krum</td>\n",
              "      <td>Kimberly-Clark</td>\n",
              "    </tr>\n",
              "    <tr>\n",
              "      <th>9</th>\n",
              "      <td>Midwest</td>\n",
              "      <td>Carletta Kosinski</td>\n",
              "      <td>McDonald's</td>\n",
              "    </tr>\n",
              "    <tr>\n",
              "      <th>10</th>\n",
              "      <td>Midwest</td>\n",
              "      <td>Carletta Kosinski</td>\n",
              "      <td>Northrop Grumman</td>\n",
              "    </tr>\n",
              "    <tr>\n",
              "      <th>11</th>\n",
              "      <td>Midwest</td>\n",
              "      <td>Delilah Krum</td>\n",
              "      <td>Plains GP Holdings</td>\n",
              "    </tr>\n",
              "    <tr>\n",
              "      <th>12</th>\n",
              "      <td>Midwest</td>\n",
              "      <td>Delilah Krum</td>\n",
              "      <td>Southwest Airlines</td>\n",
              "    </tr>\n",
              "  </tbody>\n",
              "</table>\n",
              "</div>"
            ],
            "text/plain": [
              "     region          sales_rep                               acct\n",
              "0   Midwest       Delilah Krum                              Amgen\n",
              "1   Midwest       Delilah Krum                         AutoNation\n",
              "2   Midwest       Delilah Krum              Capital One Financial\n",
              "3   Midwest       Delilah Krum                            Cummins\n",
              "4   Midwest  Carletta Kosinski                            Danaher\n",
              "5   Midwest  Carletta Kosinski                     Dollar General\n",
              "6   Midwest       Delilah Krum  Hartford Financial Services Group\n",
              "7   Midwest  Carletta Kosinski                International Paper\n",
              "8   Midwest       Delilah Krum                     Kimberly-Clark\n",
              "9   Midwest  Carletta Kosinski                         McDonald's\n",
              "10  Midwest  Carletta Kosinski                   Northrop Grumman\n",
              "11  Midwest       Delilah Krum                 Plains GP Holdings\n",
              "12  Midwest       Delilah Krum                 Southwest Airlines"
            ]
          },
          "metadata": {
            "tags": []
          },
          "execution_count": 31
        }
      ]
    },
    {
      "cell_type": "markdown",
      "metadata": {
        "id": "sKOE2RkoqIfu"
      },
      "source": [
        "<h3>Q4</h3>\r\n",
        "\r\n",
        "Provide the name for each region for every order, as well as the account name and the unit price they paid (total_amt_usd/total) for the order. However, you should only provide the results if the standard order quantity exceeds 100. Your final table should have 3 columns: region name, account name, and unit price. In order to avoid a division by zero error, adding .01 to the denominator here is helpful total_amt_usd/(total+0.01)."
      ]
    },
    {
      "cell_type": "code",
      "metadata": {
        "colab": {
          "base_uri": "https://localhost:8080/",
          "height": 418
        },
        "id": "FoMiyi5-qHwB",
        "outputId": "98ec4ce2-4085-457b-9fd8-ad36d57980b1"
      },
      "source": [
        "query = 'SELECT r.name region, a.name acct, (o.total_amt_usd / (o.total+0.001)) \\\r\n",
        "        unit_price FROM region r JOIN sales_reps s ON r.id = s.region_id JOIN \\\r\n",
        "        accounts a ON a.sales_rep_id = s.id JOIN orders o ON a.id = o.account_id \\\r\n",
        "        AND o.standard_qty > 100;'\r\n",
        "query_to_df(query)"
      ],
      "execution_count": 32,
      "outputs": [
        {
          "output_type": "stream",
          "text": [
            "Query ran for 7.537501573562622 secs!\n"
          ],
          "name": "stdout"
        },
        {
          "output_type": "execute_result",
          "data": {
            "text/html": [
              "<div>\n",
              "<style scoped>\n",
              "    .dataframe tbody tr th:only-of-type {\n",
              "        vertical-align: middle;\n",
              "    }\n",
              "\n",
              "    .dataframe tbody tr th {\n",
              "        vertical-align: top;\n",
              "    }\n",
              "\n",
              "    .dataframe thead th {\n",
              "        text-align: right;\n",
              "    }\n",
              "</style>\n",
              "<table border=\"1\" class=\"dataframe\">\n",
              "  <thead>\n",
              "    <tr style=\"text-align: right;\">\n",
              "      <th></th>\n",
              "      <th>region</th>\n",
              "      <th>acct</th>\n",
              "      <th>unit_price</th>\n",
              "    </tr>\n",
              "  </thead>\n",
              "  <tbody>\n",
              "    <tr>\n",
              "      <th>0</th>\n",
              "      <td>Northeast</td>\n",
              "      <td>Walmart</td>\n",
              "      <td>5.759907</td>\n",
              "    </tr>\n",
              "    <tr>\n",
              "      <th>1</th>\n",
              "      <td>Northeast</td>\n",
              "      <td>Walmart</td>\n",
              "      <td>5.965361</td>\n",
              "    </tr>\n",
              "    <tr>\n",
              "      <th>2</th>\n",
              "      <td>Northeast</td>\n",
              "      <td>Walmart</td>\n",
              "      <td>5.444515</td>\n",
              "    </tr>\n",
              "    <tr>\n",
              "      <th>3</th>\n",
              "      <td>Northeast</td>\n",
              "      <td>Walmart</td>\n",
              "      <td>5.960509</td>\n",
              "    </tr>\n",
              "    <tr>\n",
              "      <th>4</th>\n",
              "      <td>Northeast</td>\n",
              "      <td>Walmart</td>\n",
              "      <td>6.169040</td>\n",
              "    </tr>\n",
              "    <tr>\n",
              "      <th>...</th>\n",
              "      <td>...</td>\n",
              "      <td>...</td>\n",
              "      <td>...</td>\n",
              "    </tr>\n",
              "    <tr>\n",
              "      <th>4504</th>\n",
              "      <td>West</td>\n",
              "      <td>KKR</td>\n",
              "      <td>7.467717</td>\n",
              "    </tr>\n",
              "    <tr>\n",
              "      <th>4505</th>\n",
              "      <td>West</td>\n",
              "      <td>KKR</td>\n",
              "      <td>7.265457</td>\n",
              "    </tr>\n",
              "    <tr>\n",
              "      <th>4506</th>\n",
              "      <td>West</td>\n",
              "      <td>KKR</td>\n",
              "      <td>7.082928</td>\n",
              "    </tr>\n",
              "    <tr>\n",
              "      <th>4507</th>\n",
              "      <td>West</td>\n",
              "      <td>PPL</td>\n",
              "      <td>6.565052</td>\n",
              "    </tr>\n",
              "    <tr>\n",
              "      <th>4508</th>\n",
              "      <td>West</td>\n",
              "      <td>PPL</td>\n",
              "      <td>7.067028</td>\n",
              "    </tr>\n",
              "  </tbody>\n",
              "</table>\n",
              "<p>4509 rows × 3 columns</p>\n",
              "</div>"
            ],
            "text/plain": [
              "         region     acct  unit_price\n",
              "0     Northeast  Walmart    5.759907\n",
              "1     Northeast  Walmart    5.965361\n",
              "2     Northeast  Walmart    5.444515\n",
              "3     Northeast  Walmart    5.960509\n",
              "4     Northeast  Walmart    6.169040\n",
              "...         ...      ...         ...\n",
              "4504       West      KKR    7.467717\n",
              "4505       West      KKR    7.265457\n",
              "4506       West      KKR    7.082928\n",
              "4507       West      PPL    6.565052\n",
              "4508       West      PPL    7.067028\n",
              "\n",
              "[4509 rows x 3 columns]"
            ]
          },
          "metadata": {
            "tags": []
          },
          "execution_count": 32
        }
      ]
    },
    {
      "cell_type": "markdown",
      "metadata": {
        "id": "zY4f4GeVqtwF"
      },
      "source": [
        "<h3>Q5</h3>Provide the name for each region for every order, as well as the account name and the unit price they paid (total_amt_usd/total) for the order. However, you should only provide the results if the standard order quantity exceeds 100 and the poster order quantity exceeds 50. Your final table should have 3 columns: region name, account name, and unit price. Sort for the smallest unit price first. In order to avoid a division by zero error, adding .01 to the denominator here is helpful (total_amt_usd/(total+0.01)."
      ]
    },
    {
      "cell_type": "code",
      "metadata": {
        "id": "3beR56ojqy1d",
        "colab": {
          "base_uri": "https://localhost:8080/",
          "height": 418
        },
        "outputId": "4958bd37-3526-4854-f188-37660e631bfe"
      },
      "source": [
        "query = 'SELECT r.name region_name, a.name acct_name, (o.total_amt_usd/(total+0.001)) \\\r\n",
        "         unit_price FROM region r JOIN sales_reps s ON r.id = s.region_id JOIN accounts a ON \\\r\n",
        "         s.id = a.sales_rep_id JOIN orders o ON o.account_id = a.id WHERE \\\r\n",
        "         o.standard_qty > 100 AND o.poster_qty > 50 ORDER BY unit_price;'\r\n",
        "\r\n",
        "query_to_df(query)"
      ],
      "execution_count": 33,
      "outputs": [
        {
          "output_type": "stream",
          "text": [
            "Query ran for 1.406799554824829 secs!\n"
          ],
          "name": "stdout"
        },
        {
          "output_type": "execute_result",
          "data": {
            "text/html": [
              "<div>\n",
              "<style scoped>\n",
              "    .dataframe tbody tr th:only-of-type {\n",
              "        vertical-align: middle;\n",
              "    }\n",
              "\n",
              "    .dataframe tbody tr th {\n",
              "        vertical-align: top;\n",
              "    }\n",
              "\n",
              "    .dataframe thead th {\n",
              "        text-align: right;\n",
              "    }\n",
              "</style>\n",
              "<table border=\"1\" class=\"dataframe\">\n",
              "  <thead>\n",
              "    <tr style=\"text-align: right;\">\n",
              "      <th></th>\n",
              "      <th>region_name</th>\n",
              "      <th>acct_name</th>\n",
              "      <th>unit_price</th>\n",
              "    </tr>\n",
              "  </thead>\n",
              "  <tbody>\n",
              "    <tr>\n",
              "      <th>0</th>\n",
              "      <td>Northeast</td>\n",
              "      <td>State Farm Insurance Cos.</td>\n",
              "      <td>5.119285</td>\n",
              "    </tr>\n",
              "    <tr>\n",
              "      <th>1</th>\n",
              "      <td>Southeast</td>\n",
              "      <td>DISH Network</td>\n",
              "      <td>5.231842</td>\n",
              "    </tr>\n",
              "    <tr>\n",
              "      <th>2</th>\n",
              "      <td>Northeast</td>\n",
              "      <td>Travelers Cos.</td>\n",
              "      <td>5.235187</td>\n",
              "    </tr>\n",
              "    <tr>\n",
              "      <th>3</th>\n",
              "      <td>Northeast</td>\n",
              "      <td>Best Buy</td>\n",
              "      <td>5.260447</td>\n",
              "    </tr>\n",
              "    <tr>\n",
              "      <th>4</th>\n",
              "      <td>West</td>\n",
              "      <td>Stanley Black &amp; Decker</td>\n",
              "      <td>5.266474</td>\n",
              "    </tr>\n",
              "    <tr>\n",
              "      <th>...</th>\n",
              "      <td>...</td>\n",
              "      <td>...</td>\n",
              "      <td>...</td>\n",
              "    </tr>\n",
              "    <tr>\n",
              "      <th>830</th>\n",
              "      <td>West</td>\n",
              "      <td>Fidelity National Financial</td>\n",
              "      <td>7.992809</td>\n",
              "    </tr>\n",
              "    <tr>\n",
              "      <th>831</th>\n",
              "      <td>Northeast</td>\n",
              "      <td>CHS</td>\n",
              "      <td>8.018857</td>\n",
              "    </tr>\n",
              "    <tr>\n",
              "      <th>832</th>\n",
              "      <td>West</td>\n",
              "      <td>Pacific Life</td>\n",
              "      <td>8.063025</td>\n",
              "    </tr>\n",
              "    <tr>\n",
              "      <th>833</th>\n",
              "      <td>West</td>\n",
              "      <td>Mosaic</td>\n",
              "      <td>8.066336</td>\n",
              "    </tr>\n",
              "    <tr>\n",
              "      <th>834</th>\n",
              "      <td>Northeast</td>\n",
              "      <td>IBM</td>\n",
              "      <td>8.089913</td>\n",
              "    </tr>\n",
              "  </tbody>\n",
              "</table>\n",
              "<p>835 rows × 3 columns</p>\n",
              "</div>"
            ],
            "text/plain": [
              "    region_name                    acct_name  unit_price\n",
              "0     Northeast    State Farm Insurance Cos.    5.119285\n",
              "1     Southeast                 DISH Network    5.231842\n",
              "2     Northeast               Travelers Cos.    5.235187\n",
              "3     Northeast                     Best Buy    5.260447\n",
              "4          West       Stanley Black & Decker    5.266474\n",
              "..          ...                          ...         ...\n",
              "830        West  Fidelity National Financial    7.992809\n",
              "831   Northeast                          CHS    8.018857\n",
              "832        West                 Pacific Life    8.063025\n",
              "833        West                       Mosaic    8.066336\n",
              "834   Northeast                          IBM    8.089913\n",
              "\n",
              "[835 rows x 3 columns]"
            ]
          },
          "metadata": {
            "tags": []
          },
          "execution_count": 33
        }
      ]
    },
    {
      "cell_type": "markdown",
      "metadata": {
        "id": "19dzCIGGhiGH"
      },
      "source": [
        "### Q6\r\n",
        "\r\n",
        "Provide the name for each region for every order, as well as the account name and the unit price they paid (total_amt_usd/total) for the order. However, you should only provide the results if the standard order quantity exceeds 100 and the poster order quantity exceeds 50. Your final table should have 3 columns: region name, account name, and unit price. Sort for the largest unit price first. In order to avoid a division by zero error, adding .01 to the denominator here is helpful (total_amt_usd/(total+0.01)."
      ]
    },
    {
      "cell_type": "code",
      "metadata": {
        "colab": {
          "base_uri": "https://localhost:8080/",
          "height": 418
        },
        "id": "BKd1KnNOhmtr",
        "outputId": "cbcf7fd0-407f-4f56-c81c-92ad0559e4b1"
      },
      "source": [
        "query = 'SELECT r.name region_name, a.name acct_name, (o.total_amt_usd/(o.total+0.001)) \\\r\n",
        "        unit_price FROM region r JOIN sales_reps s ON r.id = s.region_id JOIN accounts a \\\r\n",
        "        ON a.sales_rep_id = s.id JOIN orders o ON o.account_id = a.id WHERE \\\r\n",
        "        o.standard_qty > 100 AND o.poster_qty > 50 ORDER BY unit_price Desc;'\r\n",
        "\r\n",
        "query_to_df(query)"
      ],
      "execution_count": 34,
      "outputs": [
        {
          "output_type": "stream",
          "text": [
            "Query ran for 1.3983879089355469 secs!\n"
          ],
          "name": "stdout"
        },
        {
          "output_type": "execute_result",
          "data": {
            "text/html": [
              "<div>\n",
              "<style scoped>\n",
              "    .dataframe tbody tr th:only-of-type {\n",
              "        vertical-align: middle;\n",
              "    }\n",
              "\n",
              "    .dataframe tbody tr th {\n",
              "        vertical-align: top;\n",
              "    }\n",
              "\n",
              "    .dataframe thead th {\n",
              "        text-align: right;\n",
              "    }\n",
              "</style>\n",
              "<table border=\"1\" class=\"dataframe\">\n",
              "  <thead>\n",
              "    <tr style=\"text-align: right;\">\n",
              "      <th></th>\n",
              "      <th>region_name</th>\n",
              "      <th>acct_name</th>\n",
              "      <th>unit_price</th>\n",
              "    </tr>\n",
              "  </thead>\n",
              "  <tbody>\n",
              "    <tr>\n",
              "      <th>0</th>\n",
              "      <td>Northeast</td>\n",
              "      <td>IBM</td>\n",
              "      <td>8.089913</td>\n",
              "    </tr>\n",
              "    <tr>\n",
              "      <th>1</th>\n",
              "      <td>West</td>\n",
              "      <td>Mosaic</td>\n",
              "      <td>8.066336</td>\n",
              "    </tr>\n",
              "    <tr>\n",
              "      <th>2</th>\n",
              "      <td>West</td>\n",
              "      <td>Pacific Life</td>\n",
              "      <td>8.063025</td>\n",
              "    </tr>\n",
              "    <tr>\n",
              "      <th>3</th>\n",
              "      <td>Northeast</td>\n",
              "      <td>CHS</td>\n",
              "      <td>8.018857</td>\n",
              "    </tr>\n",
              "    <tr>\n",
              "      <th>4</th>\n",
              "      <td>West</td>\n",
              "      <td>Fidelity National Financial</td>\n",
              "      <td>7.992809</td>\n",
              "    </tr>\n",
              "    <tr>\n",
              "      <th>...</th>\n",
              "      <td>...</td>\n",
              "      <td>...</td>\n",
              "      <td>...</td>\n",
              "    </tr>\n",
              "    <tr>\n",
              "      <th>830</th>\n",
              "      <td>West</td>\n",
              "      <td>Stanley Black &amp; Decker</td>\n",
              "      <td>5.266474</td>\n",
              "    </tr>\n",
              "    <tr>\n",
              "      <th>831</th>\n",
              "      <td>Northeast</td>\n",
              "      <td>Best Buy</td>\n",
              "      <td>5.260447</td>\n",
              "    </tr>\n",
              "    <tr>\n",
              "      <th>832</th>\n",
              "      <td>Northeast</td>\n",
              "      <td>Travelers Cos.</td>\n",
              "      <td>5.235187</td>\n",
              "    </tr>\n",
              "    <tr>\n",
              "      <th>833</th>\n",
              "      <td>Southeast</td>\n",
              "      <td>DISH Network</td>\n",
              "      <td>5.231842</td>\n",
              "    </tr>\n",
              "    <tr>\n",
              "      <th>834</th>\n",
              "      <td>Northeast</td>\n",
              "      <td>State Farm Insurance Cos.</td>\n",
              "      <td>5.119285</td>\n",
              "    </tr>\n",
              "  </tbody>\n",
              "</table>\n",
              "<p>835 rows × 3 columns</p>\n",
              "</div>"
            ],
            "text/plain": [
              "    region_name                    acct_name  unit_price\n",
              "0     Northeast                          IBM    8.089913\n",
              "1          West                       Mosaic    8.066336\n",
              "2          West                 Pacific Life    8.063025\n",
              "3     Northeast                          CHS    8.018857\n",
              "4          West  Fidelity National Financial    7.992809\n",
              "..          ...                          ...         ...\n",
              "830        West       Stanley Black & Decker    5.266474\n",
              "831   Northeast                     Best Buy    5.260447\n",
              "832   Northeast               Travelers Cos.    5.235187\n",
              "833   Southeast                 DISH Network    5.231842\n",
              "834   Northeast    State Farm Insurance Cos.    5.119285\n",
              "\n",
              "[835 rows x 3 columns]"
            ]
          },
          "metadata": {
            "tags": []
          },
          "execution_count": 34
        }
      ]
    },
    {
      "cell_type": "markdown",
      "metadata": {
        "id": "AHQaXd4Nj0fc"
      },
      "source": [
        "### Q7\r\n",
        "\r\n",
        "What are the different channels used by account id 1001? Your final table should have only 2 columns: account name and the different channels. You can try SELECT DISTINCT to narrow down the results to only the unique values."
      ]
    },
    {
      "cell_type": "code",
      "metadata": {
        "colab": {
          "base_uri": "https://localhost:8080/",
          "height": 242
        },
        "id": "2TcSJ_xsj2fO",
        "outputId": "c92118f0-b9fb-4d99-87df-227adec1c3f1"
      },
      "source": [
        "query = 'SELECT DISTINCT a.name acct_name, w.channel channels FROM accounts a \\\r\n",
        "        JOIN web_events w ON w.account_id = a.id WHERE a.id = 1001;'\r\n",
        "\r\n",
        "query_to_df(query)"
      ],
      "execution_count": 35,
      "outputs": [
        {
          "output_type": "stream",
          "text": [
            "Query ran for 0.017510652542114258 secs!\n"
          ],
          "name": "stdout"
        },
        {
          "output_type": "execute_result",
          "data": {
            "text/html": [
              "<div>\n",
              "<style scoped>\n",
              "    .dataframe tbody tr th:only-of-type {\n",
              "        vertical-align: middle;\n",
              "    }\n",
              "\n",
              "    .dataframe tbody tr th {\n",
              "        vertical-align: top;\n",
              "    }\n",
              "\n",
              "    .dataframe thead th {\n",
              "        text-align: right;\n",
              "    }\n",
              "</style>\n",
              "<table border=\"1\" class=\"dataframe\">\n",
              "  <thead>\n",
              "    <tr style=\"text-align: right;\">\n",
              "      <th></th>\n",
              "      <th>acct_name</th>\n",
              "      <th>channels</th>\n",
              "    </tr>\n",
              "  </thead>\n",
              "  <tbody>\n",
              "    <tr>\n",
              "      <th>0</th>\n",
              "      <td>Walmart</td>\n",
              "      <td>direct</td>\n",
              "    </tr>\n",
              "    <tr>\n",
              "      <th>1</th>\n",
              "      <td>Walmart</td>\n",
              "      <td>facebook</td>\n",
              "    </tr>\n",
              "    <tr>\n",
              "      <th>2</th>\n",
              "      <td>Walmart</td>\n",
              "      <td>organic</td>\n",
              "    </tr>\n",
              "    <tr>\n",
              "      <th>3</th>\n",
              "      <td>Walmart</td>\n",
              "      <td>adwords</td>\n",
              "    </tr>\n",
              "    <tr>\n",
              "      <th>4</th>\n",
              "      <td>Walmart</td>\n",
              "      <td>twitter</td>\n",
              "    </tr>\n",
              "    <tr>\n",
              "      <th>5</th>\n",
              "      <td>Walmart</td>\n",
              "      <td>banner</td>\n",
              "    </tr>\n",
              "  </tbody>\n",
              "</table>\n",
              "</div>"
            ],
            "text/plain": [
              "  acct_name  channels\n",
              "0   Walmart    direct\n",
              "1   Walmart  facebook\n",
              "2   Walmart   organic\n",
              "3   Walmart   adwords\n",
              "4   Walmart   twitter\n",
              "5   Walmart    banner"
            ]
          },
          "metadata": {
            "tags": []
          },
          "execution_count": 35
        }
      ]
    },
    {
      "cell_type": "markdown",
      "metadata": {
        "id": "twusN22Nzkl9"
      },
      "source": [
        "### Q8\r\n",
        "\r\n",
        "Find all the orders that occurred in 2015. Your final table should have 4 columns: occurred_at, account name, order total, and order total_amt_usd."
      ]
    },
    {
      "cell_type": "code",
      "metadata": {
        "colab": {
          "base_uri": "https://localhost:8080/",
          "height": 418
        },
        "id": "rVlIgsTMzxRy",
        "outputId": "c7974e53-77b4-4ec5-ed39-bc80f99fcc4b"
      },
      "source": [
        "query = 'SELECT o.occurred_at occurred_at, a.name acct_name, o.total total_qty, \\\r\n",
        "         o.total_amt_usd total_usd FROM orders o JOIN accounts a ON a.id = \\\r\n",
        "         o.account_id WHERE occurred_at LIKE \"%2015%\" ORDER BY occurred_at DESC;'\r\n",
        "\r\n",
        "query_to_df(query)"
      ],
      "execution_count": 36,
      "outputs": [
        {
          "output_type": "stream",
          "text": [
            "Query ran for 4.1171722412109375 secs!\n"
          ],
          "name": "stdout"
        },
        {
          "output_type": "execute_result",
          "data": {
            "text/html": [
              "<div>\n",
              "<style scoped>\n",
              "    .dataframe tbody tr th:only-of-type {\n",
              "        vertical-align: middle;\n",
              "    }\n",
              "\n",
              "    .dataframe tbody tr th {\n",
              "        vertical-align: top;\n",
              "    }\n",
              "\n",
              "    .dataframe thead th {\n",
              "        text-align: right;\n",
              "    }\n",
              "</style>\n",
              "<table border=\"1\" class=\"dataframe\">\n",
              "  <thead>\n",
              "    <tr style=\"text-align: right;\">\n",
              "      <th></th>\n",
              "      <th>occurred_at</th>\n",
              "      <th>acct_name</th>\n",
              "      <th>total_qty</th>\n",
              "      <th>total_usd</th>\n",
              "    </tr>\n",
              "  </thead>\n",
              "  <tbody>\n",
              "    <tr>\n",
              "      <th>0</th>\n",
              "      <td>2015-12-31 23:21:15</td>\n",
              "      <td>Thermo Fisher Scientific</td>\n",
              "      <td>61</td>\n",
              "      <td>446.97</td>\n",
              "    </tr>\n",
              "    <tr>\n",
              "      <th>1</th>\n",
              "      <td>2015-12-31 23:15:35</td>\n",
              "      <td>Thermo Fisher Scientific</td>\n",
              "      <td>635</td>\n",
              "      <td>3246.90</td>\n",
              "    </tr>\n",
              "    <tr>\n",
              "      <th>2</th>\n",
              "      <td>2015-12-31 20:44:28</td>\n",
              "      <td>Coca-Cola</td>\n",
              "      <td>528</td>\n",
              "      <td>2693.54</td>\n",
              "    </tr>\n",
              "    <tr>\n",
              "      <th>3</th>\n",
              "      <td>2015-12-31 15:12:41</td>\n",
              "      <td>Computer Sciences</td>\n",
              "      <td>164</td>\n",
              "      <td>875.25</td>\n",
              "    </tr>\n",
              "    <tr>\n",
              "      <th>4</th>\n",
              "      <td>2015-12-31 15:11:15</td>\n",
              "      <td>Cameron International</td>\n",
              "      <td>513</td>\n",
              "      <td>2626.82</td>\n",
              "    </tr>\n",
              "    <tr>\n",
              "      <th>...</th>\n",
              "      <td>...</td>\n",
              "      <td>...</td>\n",
              "      <td>...</td>\n",
              "      <td>...</td>\n",
              "    </tr>\n",
              "    <tr>\n",
              "      <th>1720</th>\n",
              "      <td>2015-01-01 14:42:53</td>\n",
              "      <td>Travelers Cos.</td>\n",
              "      <td>195</td>\n",
              "      <td>1233.37</td>\n",
              "    </tr>\n",
              "    <tr>\n",
              "      <th>1721</th>\n",
              "      <td>2015-01-01 14:40:53</td>\n",
              "      <td>Travelers Cos.</td>\n",
              "      <td>1320</td>\n",
              "      <td>8770.30</td>\n",
              "    </tr>\n",
              "    <tr>\n",
              "      <th>1722</th>\n",
              "      <td>2015-01-01 11:17:47</td>\n",
              "      <td>New York Life Insurance</td>\n",
              "      <td>517</td>\n",
              "      <td>2644.89</td>\n",
              "    </tr>\n",
              "    <tr>\n",
              "      <th>1723</th>\n",
              "      <td>2015-01-01 05:53:44</td>\n",
              "      <td>FirstEnergy</td>\n",
              "      <td>529</td>\n",
              "      <td>2737.29</td>\n",
              "    </tr>\n",
              "    <tr>\n",
              "      <th>1724</th>\n",
              "      <td>2015-01-01 05:33:43</td>\n",
              "      <td>FirstEnergy</td>\n",
              "      <td>38</td>\n",
              "      <td>284.62</td>\n",
              "    </tr>\n",
              "  </tbody>\n",
              "</table>\n",
              "<p>1725 rows × 4 columns</p>\n",
              "</div>"
            ],
            "text/plain": [
              "             occurred_at                 acct_name  total_qty  total_usd\n",
              "0    2015-12-31 23:21:15  Thermo Fisher Scientific         61     446.97\n",
              "1    2015-12-31 23:15:35  Thermo Fisher Scientific        635    3246.90\n",
              "2    2015-12-31 20:44:28                 Coca-Cola        528    2693.54\n",
              "3    2015-12-31 15:12:41         Computer Sciences        164     875.25\n",
              "4    2015-12-31 15:11:15     Cameron International        513    2626.82\n",
              "...                  ...                       ...        ...        ...\n",
              "1720 2015-01-01 14:42:53            Travelers Cos.        195    1233.37\n",
              "1721 2015-01-01 14:40:53            Travelers Cos.       1320    8770.30\n",
              "1722 2015-01-01 11:17:47   New York Life Insurance        517    2644.89\n",
              "1723 2015-01-01 05:53:44               FirstEnergy        529    2737.29\n",
              "1724 2015-01-01 05:33:43               FirstEnergy         38     284.62\n",
              "\n",
              "[1725 rows x 4 columns]"
            ]
          },
          "metadata": {
            "tags": []
          },
          "execution_count": 36
        }
      ]
    },
    {
      "cell_type": "markdown",
      "metadata": {
        "id": "c6Le6wswl6WR"
      },
      "source": [
        "### Q9\r\n",
        "\r\n",
        "What are the different channels used by account id 1001? Sort by the count of most frequently used channel descending. Your query should return 4 columns:- account-name, account-id, channels, count."
      ]
    },
    {
      "cell_type": "code",
      "metadata": {
        "colab": {
          "base_uri": "https://localhost:8080/",
          "height": 242
        },
        "id": "SGraeTo3mNdf",
        "outputId": "f49757be-c7b8-4cee-8f5b-a7eb18156c33"
      },
      "source": [
        "query = 'SELECT DISTINCT a.name acct_name, a.id acct_id, w.channel channels, \\\r\n",
        "         COUNT(w.channel) count FROM web_events w JOIN accounts a ON a.id = \\\r\n",
        "         w.account_id WHERE w.account_id = 1001 GROUP BY acct_name,\\\r\n",
        "         channels ORDER BY count DESC;'\r\n",
        "\r\n",
        "query_to_df(query)"
      ],
      "execution_count": 37,
      "outputs": [
        {
          "output_type": "stream",
          "text": [
            "Query ran for 0.024506330490112305 secs!\n"
          ],
          "name": "stdout"
        },
        {
          "output_type": "execute_result",
          "data": {
            "text/html": [
              "<div>\n",
              "<style scoped>\n",
              "    .dataframe tbody tr th:only-of-type {\n",
              "        vertical-align: middle;\n",
              "    }\n",
              "\n",
              "    .dataframe tbody tr th {\n",
              "        vertical-align: top;\n",
              "    }\n",
              "\n",
              "    .dataframe thead th {\n",
              "        text-align: right;\n",
              "    }\n",
              "</style>\n",
              "<table border=\"1\" class=\"dataframe\">\n",
              "  <thead>\n",
              "    <tr style=\"text-align: right;\">\n",
              "      <th></th>\n",
              "      <th>acct_name</th>\n",
              "      <th>acct_id</th>\n",
              "      <th>channels</th>\n",
              "      <th>count</th>\n",
              "    </tr>\n",
              "  </thead>\n",
              "  <tbody>\n",
              "    <tr>\n",
              "      <th>0</th>\n",
              "      <td>Walmart</td>\n",
              "      <td>1001</td>\n",
              "      <td>direct</td>\n",
              "      <td>22</td>\n",
              "    </tr>\n",
              "    <tr>\n",
              "      <th>1</th>\n",
              "      <td>Walmart</td>\n",
              "      <td>1001</td>\n",
              "      <td>organic</td>\n",
              "      <td>6</td>\n",
              "    </tr>\n",
              "    <tr>\n",
              "      <th>2</th>\n",
              "      <td>Walmart</td>\n",
              "      <td>1001</td>\n",
              "      <td>adwords</td>\n",
              "      <td>5</td>\n",
              "    </tr>\n",
              "    <tr>\n",
              "      <th>3</th>\n",
              "      <td>Walmart</td>\n",
              "      <td>1001</td>\n",
              "      <td>banner</td>\n",
              "      <td>3</td>\n",
              "    </tr>\n",
              "    <tr>\n",
              "      <th>4</th>\n",
              "      <td>Walmart</td>\n",
              "      <td>1001</td>\n",
              "      <td>facebook</td>\n",
              "      <td>2</td>\n",
              "    </tr>\n",
              "    <tr>\n",
              "      <th>5</th>\n",
              "      <td>Walmart</td>\n",
              "      <td>1001</td>\n",
              "      <td>twitter</td>\n",
              "      <td>1</td>\n",
              "    </tr>\n",
              "  </tbody>\n",
              "</table>\n",
              "</div>"
            ],
            "text/plain": [
              "  acct_name  acct_id  channels  count\n",
              "0   Walmart     1001    direct     22\n",
              "1   Walmart     1001   organic      6\n",
              "2   Walmart     1001   adwords      5\n",
              "3   Walmart     1001    banner      3\n",
              "4   Walmart     1001  facebook      2\n",
              "5   Walmart     1001   twitter      1"
            ]
          },
          "metadata": {
            "tags": []
          },
          "execution_count": 37
        }
      ]
    },
    {
      "cell_type": "markdown",
      "metadata": {
        "id": "iK2qf-zX7o2h"
      },
      "source": [
        "<h2>Recap</h2>"
      ]
    },
    {
      "cell_type": "markdown",
      "metadata": {
        "id": "8DGTcgq27wzb"
      },
      "source": [
        "### Primary and Foreign Keys\r\n",
        "\r\n",
        "You learned a key element for JOINing tables in a database has to do with primary and foreign keys:\r\n",
        "\r\n",
        "* **primary keys** - are unique for every row in a table. These are generally the first column in our database (like you saw with the id column for every table in the Parch & Posey database).\r\n",
        "\r\n",
        "* **foreign keys** - are the primary key appearing in another table, which allows the rows to be non-unique.\r\n",
        "\r\n",
        "Choosing the set up of data in our database is very important, but not usually the job of a data analyst. This process is known as Database Normalization."
      ]
    },
    {
      "cell_type": "markdown",
      "metadata": {
        "id": "bVfr4lvn8NO7"
      },
      "source": [
        "### JOINs\r\n",
        "\r\n",
        "In this lesson, you learned how to combine data from multiple tables using JOINs. The three JOIN statements you are most likely to use are:\r\n",
        "\r\n",
        "* **JOIN** - an INNER JOIN that only pulls data that exists in both tables.\r\n",
        "* **LEFT JOIN **- pulls all the data that exists in both tables, as well as all of the rows from the table in the FROM even if they do not exist in the JOIN statement.\r\n",
        "* **RIGHT JOIN** - pulls all the data that exists in both tables, as well as all of the rows from the table in the JOIN even if they do not exist in the FROM statement.\r\n",
        "\r\n",
        "There are a few more advanced JOINs that we did not cover here, and they are used in very specific use cases. [UNION and UNION ALL](https://www.w3schools.com/sql/sql_union.asp), [CROSS JOIN](http://www.w3resource.com/sql/joins/cross-join.php), and the tricky [SELF JOIN](https://www.w3schools.com/sql/sql_join_self.asp). These are more advanced than this course will cover, but it is useful to be aware that they exist, as they are useful in special cases."
      ]
    },
    {
      "cell_type": "markdown",
      "metadata": {
        "id": "IES-hrLO9B8U"
      },
      "source": [
        "### Alias\r\n",
        "\r\n",
        "You learned that you can alias tables and columns using AS or not using it. This allows you to be more efficient in the number of characters you need to write, while at the same time you can assure that your column headings are informative of the data in your table.\r\n",
        "\r\n",
        "### Looking Ahead\r\n",
        "The next lesson is aimed at aggregating data. You have already learned a ton, but SQL might still feel a bit disconnected from statistics and using Excel like platforms. Aggregations will allow you to write SQL code that will allow for more complex queries, which assist in answering questions like:\r\n",
        "\r\n",
        "* Which channel generated more revenue?\r\n",
        "* Which account had an order with the most items?\r\n",
        "* Which sales_rep had the most orders? or least orders? How many orders did they have?\r\n"
      ]
    },
    {
      "cell_type": "code",
      "metadata": {
        "id": "6QoxaiAQ7vfK"
      },
      "source": [
        ""
      ],
      "execution_count": 37,
      "outputs": []
    }
  ]
}