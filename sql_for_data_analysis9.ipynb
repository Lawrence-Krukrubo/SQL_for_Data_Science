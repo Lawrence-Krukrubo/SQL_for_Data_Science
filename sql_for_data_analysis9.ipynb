{
 "cells": [
  {
   "cell_type": "markdown",
   "id": "cardiovascular-photograph",
   "metadata": {},
   "source": [
    "# ADVANCED SQL 3: Union, Performance Tuning & Subqueries"
   ]
  },
  {
   "cell_type": "markdown",
   "id": "minor-dryer",
   "metadata": {},
   "source": [
    "We connect to MySQL server and workbench and make analysis with the parch-and-posey database. This course is the practicals of the course SQL for Data Analysis at Udacity."
   ]
  },
  {
   "cell_type": "code",
   "execution_count": 1,
   "id": "precise-color",
   "metadata": {},
   "outputs": [
    {
     "name": "stdout",
     "output_type": "stream",
     "text": [
      "Done!\n"
     ]
    }
   ],
   "source": [
    "# we import some required libraries\n",
    "\n",
    "import pandas as pd\n",
    "import numpy as np\n",
    "import matplotlib.pyplot as plt\n",
    "import seaborn as sns\n",
    "from pprint import pprint\n",
    "import time\n",
    "print('Done!')"
   ]
  },
  {
   "cell_type": "code",
   "execution_count": 2,
   "id": "pleased-nightlife",
   "metadata": {},
   "outputs": [
    {
     "name": "stdout",
     "output_type": "stream",
     "text": [
      "Enter UserName:root\n",
      "Enter Password:········\n",
      "Connected to MySQL Server version  8.0.24\n",
      "You're connected to database:  ('parch_and_posey',)\n"
     ]
    }
   ],
   "source": [
    "import mysql\n",
    "from mysql.connector import Error\n",
    "from getpass import getpass\n",
    "\n",
    "db_name = 'parch_and_posey'\n",
    "try:\n",
    "    connection = mysql.connector.connect(host='localhost',\n",
    "                                         database=db_name,\n",
    "                                         user=input('Enter UserName:'),\n",
    "                                         password=getpass('Enter Password:'))\n",
    "    if connection.is_connected():\n",
    "        db_Info = connection.get_server_info()\n",
    "        print(\"Connected to MySQL Server version \", db_Info)\n",
    "        cursor = connection.cursor()\n",
    "        cursor.execute(\"select database();\")\n",
    "        record = cursor.fetchone()\n",
    "        print(\"You're connected to database: \", record)\n",
    "\n",
    "except Error as e:\n",
    "    print(\"Error while connecting to MySQL\", e)"
   ]
  },
  {
   "cell_type": "code",
   "execution_count": 3,
   "id": "prompt-manhattan",
   "metadata": {},
   "outputs": [],
   "source": [
    "def query_to_df(query):\n",
    "    st = time.time()\n",
    "    # Assert Every Query ends with a semi-colon\n",
    "    try:\n",
    "        assert query.endswith(';')\n",
    "    except AssertionError:\n",
    "        return 'ERROR: Query Must End with ;'\n",
    "\n",
    "    # so we never have more than 20 rows displayed\n",
    "    pd.set_option('display.max_rows', 30) \n",
    "    df = None\n",
    "\n",
    "    # Process the query\n",
    "    cursor.execute(query)\n",
    "    columns = cursor.description\n",
    "    result = []\n",
    "    for value in cursor.fetchall():\n",
    "        tmp = {}\n",
    "        for (index,column) in enumerate(value):\n",
    "            tmp[columns[index][0]] = [column]\n",
    "        result.append(tmp)\n",
    "\n",
    "    # Create a DataFrame from all results\n",
    "    for ind, data in enumerate(result):\n",
    "        if ind >= 1:\n",
    "            x = pd.DataFrame(data)\n",
    "            df = pd.concat([df, x], ignore_index=True)\n",
    "        else:\n",
    "            df = pd.DataFrame(data)\n",
    "    print(f'Query ran for {time.time()-st} secs!')\n",
    "    return df"
   ]
  },
  {
   "cell_type": "code",
   "execution_count": 4,
   "id": "foreign-database",
   "metadata": {},
   "outputs": [
    {
     "name": "stdout",
     "output_type": "stream",
     "text": [
      "Query ran for 0.008973360061645508 secs!\n"
     ]
    },
    {
     "data": {
      "text/html": [
       "<div>\n",
       "<style scoped>\n",
       "    .dataframe tbody tr th:only-of-type {\n",
       "        vertical-align: middle;\n",
       "    }\n",
       "\n",
       "    .dataframe tbody tr th {\n",
       "        vertical-align: top;\n",
       "    }\n",
       "\n",
       "    .dataframe thead th {\n",
       "        text-align: right;\n",
       "    }\n",
       "</style>\n",
       "<table border=\"1\" class=\"dataframe\">\n",
       "  <thead>\n",
       "    <tr style=\"text-align: right;\">\n",
       "      <th></th>\n",
       "      <th>Tables_in_parch_and_posey</th>\n",
       "    </tr>\n",
       "  </thead>\n",
       "  <tbody>\n",
       "    <tr>\n",
       "      <th>0</th>\n",
       "      <td>accounts</td>\n",
       "    </tr>\n",
       "    <tr>\n",
       "      <th>1</th>\n",
       "      <td>orders</td>\n",
       "    </tr>\n",
       "    <tr>\n",
       "      <th>2</th>\n",
       "      <td>region</td>\n",
       "    </tr>\n",
       "    <tr>\n",
       "      <th>3</th>\n",
       "      <td>sales_reps</td>\n",
       "    </tr>\n",
       "    <tr>\n",
       "      <th>4</th>\n",
       "      <td>web_events</td>\n",
       "    </tr>\n",
       "  </tbody>\n",
       "</table>\n",
       "</div>"
      ],
      "text/plain": [
       "  Tables_in_parch_and_posey\n",
       "0                  accounts\n",
       "1                    orders\n",
       "2                    region\n",
       "3                sales_reps\n",
       "4                web_events"
      ]
     },
     "execution_count": 4,
     "metadata": {},
     "output_type": "execute_result"
    }
   ],
   "source": [
    "# Let's see the tables in Parch-and-Posey database\n",
    "\n",
    "query_to_df(\n",
    "'SHOW TABLES;'\n",
    ")"
   ]
  },
  {
   "cell_type": "code",
   "execution_count": 5,
   "id": "first-assist",
   "metadata": {},
   "outputs": [
    {
     "name": "stdout",
     "output_type": "stream",
     "text": [
      "Query ran for 0.011967897415161133 secs!\n"
     ]
    },
    {
     "data": {
      "text/html": [
       "<div>\n",
       "<style scoped>\n",
       "    .dataframe tbody tr th:only-of-type {\n",
       "        vertical-align: middle;\n",
       "    }\n",
       "\n",
       "    .dataframe tbody tr th {\n",
       "        vertical-align: top;\n",
       "    }\n",
       "\n",
       "    .dataframe thead th {\n",
       "        text-align: right;\n",
       "    }\n",
       "</style>\n",
       "<table border=\"1\" class=\"dataframe\">\n",
       "  <thead>\n",
       "    <tr style=\"text-align: right;\">\n",
       "      <th></th>\n",
       "      <th>id</th>\n",
       "      <th>name</th>\n",
       "      <th>website</th>\n",
       "      <th>lat</th>\n",
       "      <th>longs</th>\n",
       "      <th>primary_poc</th>\n",
       "      <th>sales_rep_id</th>\n",
       "    </tr>\n",
       "  </thead>\n",
       "  <tbody>\n",
       "    <tr>\n",
       "      <th>0</th>\n",
       "      <td>1001</td>\n",
       "      <td>Walmart</td>\n",
       "      <td>www.walmart.com</td>\n",
       "      <td>40.23849561</td>\n",
       "      <td>-75.10329704</td>\n",
       "      <td>Tamara Tuma</td>\n",
       "      <td>321500</td>\n",
       "    </tr>\n",
       "    <tr>\n",
       "      <th>1</th>\n",
       "      <td>1011</td>\n",
       "      <td>Exxon Mobil</td>\n",
       "      <td>www.exxonmobil.com</td>\n",
       "      <td>41.16915630</td>\n",
       "      <td>-73.84937379</td>\n",
       "      <td>Sung Shields</td>\n",
       "      <td>321510</td>\n",
       "    </tr>\n",
       "    <tr>\n",
       "      <th>2</th>\n",
       "      <td>1021</td>\n",
       "      <td>Apple</td>\n",
       "      <td>www.apple.com</td>\n",
       "      <td>42.29049481</td>\n",
       "      <td>-76.08400942</td>\n",
       "      <td>Jodee Lupo</td>\n",
       "      <td>321520</td>\n",
       "    </tr>\n",
       "  </tbody>\n",
       "</table>\n",
       "</div>"
      ],
      "text/plain": [
       "     id         name             website          lat         longs  \\\n",
       "0  1001      Walmart     www.walmart.com  40.23849561  -75.10329704   \n",
       "1  1011  Exxon Mobil  www.exxonmobil.com  41.16915630  -73.84937379   \n",
       "2  1021        Apple       www.apple.com  42.29049481  -76.08400942   \n",
       "\n",
       "    primary_poc  sales_rep_id  \n",
       "0   Tamara Tuma        321500  \n",
       "1  Sung Shields        321510  \n",
       "2    Jodee Lupo        321520  "
      ]
     },
     "execution_count": 5,
     "metadata": {},
     "output_type": "execute_result"
    }
   ],
   "source": [
    "# 1. For the accounts table\n",
    "\n",
    "query = 'SELECT * FROM accounts LIMIT 3;'\n",
    "query_to_df(query)"
   ]
  },
  {
   "cell_type": "code",
   "execution_count": 6,
   "id": "wireless-foster",
   "metadata": {},
   "outputs": [
    {
     "name": "stdout",
     "output_type": "stream",
     "text": [
      "Query ran for 0.009974479675292969 secs!\n"
     ]
    },
    {
     "data": {
      "text/html": [
       "<div>\n",
       "<style scoped>\n",
       "    .dataframe tbody tr th:only-of-type {\n",
       "        vertical-align: middle;\n",
       "    }\n",
       "\n",
       "    .dataframe tbody tr th {\n",
       "        vertical-align: top;\n",
       "    }\n",
       "\n",
       "    .dataframe thead th {\n",
       "        text-align: right;\n",
       "    }\n",
       "</style>\n",
       "<table border=\"1\" class=\"dataframe\">\n",
       "  <thead>\n",
       "    <tr style=\"text-align: right;\">\n",
       "      <th></th>\n",
       "      <th>id</th>\n",
       "      <th>account_id</th>\n",
       "      <th>occurred_at</th>\n",
       "      <th>standard_qty</th>\n",
       "      <th>gloss_qty</th>\n",
       "      <th>poster_qty</th>\n",
       "      <th>total</th>\n",
       "      <th>standard_amt_usd</th>\n",
       "      <th>gloss_amt_usd</th>\n",
       "      <th>poster_amt_usd</th>\n",
       "      <th>total_amt_usd</th>\n",
       "    </tr>\n",
       "  </thead>\n",
       "  <tbody>\n",
       "    <tr>\n",
       "      <th>0</th>\n",
       "      <td>1</td>\n",
       "      <td>1001</td>\n",
       "      <td>2015-10-06 17:31:14</td>\n",
       "      <td>123</td>\n",
       "      <td>22</td>\n",
       "      <td>24</td>\n",
       "      <td>169</td>\n",
       "      <td>613.77</td>\n",
       "      <td>164.78</td>\n",
       "      <td>194.88</td>\n",
       "      <td>973.43</td>\n",
       "    </tr>\n",
       "    <tr>\n",
       "      <th>1</th>\n",
       "      <td>2</td>\n",
       "      <td>1001</td>\n",
       "      <td>2015-11-05 03:34:33</td>\n",
       "      <td>190</td>\n",
       "      <td>41</td>\n",
       "      <td>57</td>\n",
       "      <td>288</td>\n",
       "      <td>948.10</td>\n",
       "      <td>307.09</td>\n",
       "      <td>462.84</td>\n",
       "      <td>1718.03</td>\n",
       "    </tr>\n",
       "    <tr>\n",
       "      <th>2</th>\n",
       "      <td>3</td>\n",
       "      <td>1001</td>\n",
       "      <td>2015-12-04 04:21:55</td>\n",
       "      <td>85</td>\n",
       "      <td>47</td>\n",
       "      <td>0</td>\n",
       "      <td>132</td>\n",
       "      <td>424.15</td>\n",
       "      <td>352.03</td>\n",
       "      <td>0.00</td>\n",
       "      <td>776.18</td>\n",
       "    </tr>\n",
       "  </tbody>\n",
       "</table>\n",
       "</div>"
      ],
      "text/plain": [
       "   id  account_id         occurred_at  standard_qty  gloss_qty  poster_qty  \\\n",
       "0   1        1001 2015-10-06 17:31:14           123         22          24   \n",
       "1   2        1001 2015-11-05 03:34:33           190         41          57   \n",
       "2   3        1001 2015-12-04 04:21:55            85         47           0   \n",
       "\n",
       "   total standard_amt_usd gloss_amt_usd poster_amt_usd total_amt_usd  \n",
       "0    169           613.77        164.78         194.88        973.43  \n",
       "1    288           948.10        307.09         462.84       1718.03  \n",
       "2    132           424.15        352.03           0.00        776.18  "
      ]
     },
     "execution_count": 6,
     "metadata": {},
     "output_type": "execute_result"
    }
   ],
   "source": [
    "# 2. For the orders table\n",
    "\n",
    "query = 'SELECT * FROM orders LIMIT 3;'\n",
    "query_to_df(query)"
   ]
  },
  {
   "cell_type": "code",
   "execution_count": 7,
   "id": "ongoing-sullivan",
   "metadata": {},
   "outputs": [
    {
     "name": "stdout",
     "output_type": "stream",
     "text": [
      "Query ran for 0.010972976684570312 secs!\n"
     ]
    },
    {
     "data": {
      "text/html": [
       "<div>\n",
       "<style scoped>\n",
       "    .dataframe tbody tr th:only-of-type {\n",
       "        vertical-align: middle;\n",
       "    }\n",
       "\n",
       "    .dataframe tbody tr th {\n",
       "        vertical-align: top;\n",
       "    }\n",
       "\n",
       "    .dataframe thead th {\n",
       "        text-align: right;\n",
       "    }\n",
       "</style>\n",
       "<table border=\"1\" class=\"dataframe\">\n",
       "  <thead>\n",
       "    <tr style=\"text-align: right;\">\n",
       "      <th></th>\n",
       "      <th>id</th>\n",
       "      <th>name</th>\n",
       "      <th>region_id</th>\n",
       "    </tr>\n",
       "  </thead>\n",
       "  <tbody>\n",
       "    <tr>\n",
       "      <th>0</th>\n",
       "      <td>321500</td>\n",
       "      <td>Samuel Racine</td>\n",
       "      <td>1</td>\n",
       "    </tr>\n",
       "    <tr>\n",
       "      <th>1</th>\n",
       "      <td>321510</td>\n",
       "      <td>Eugena Esser</td>\n",
       "      <td>1</td>\n",
       "    </tr>\n",
       "    <tr>\n",
       "      <th>2</th>\n",
       "      <td>321520</td>\n",
       "      <td>Michel Averette</td>\n",
       "      <td>1</td>\n",
       "    </tr>\n",
       "  </tbody>\n",
       "</table>\n",
       "</div>"
      ],
      "text/plain": [
       "       id             name  region_id\n",
       "0  321500    Samuel Racine          1\n",
       "1  321510     Eugena Esser          1\n",
       "2  321520  Michel Averette          1"
      ]
     },
     "execution_count": 7,
     "metadata": {},
     "output_type": "execute_result"
    }
   ],
   "source": [
    "# 3. For the sales_reps table\n",
    "\n",
    "query = 'SELECT * FROM sales_reps LIMIT 3;'\n",
    "query_to_df(query)"
   ]
  },
  {
   "cell_type": "code",
   "execution_count": 8,
   "id": "foreign-thumb",
   "metadata": {},
   "outputs": [
    {
     "name": "stdout",
     "output_type": "stream",
     "text": [
      "Query ran for 0.010002851486206055 secs!\n"
     ]
    },
    {
     "data": {
      "text/html": [
       "<div>\n",
       "<style scoped>\n",
       "    .dataframe tbody tr th:only-of-type {\n",
       "        vertical-align: middle;\n",
       "    }\n",
       "\n",
       "    .dataframe tbody tr th {\n",
       "        vertical-align: top;\n",
       "    }\n",
       "\n",
       "    .dataframe thead th {\n",
       "        text-align: right;\n",
       "    }\n",
       "</style>\n",
       "<table border=\"1\" class=\"dataframe\">\n",
       "  <thead>\n",
       "    <tr style=\"text-align: right;\">\n",
       "      <th></th>\n",
       "      <th>id</th>\n",
       "      <th>account_id</th>\n",
       "      <th>occurred_at</th>\n",
       "      <th>channel</th>\n",
       "    </tr>\n",
       "  </thead>\n",
       "  <tbody>\n",
       "    <tr>\n",
       "      <th>0</th>\n",
       "      <td>1</td>\n",
       "      <td>1001</td>\n",
       "      <td>2015-10-06 17:13:58</td>\n",
       "      <td>direct</td>\n",
       "    </tr>\n",
       "    <tr>\n",
       "      <th>1</th>\n",
       "      <td>2</td>\n",
       "      <td>1001</td>\n",
       "      <td>2015-11-05 03:08:26</td>\n",
       "      <td>direct</td>\n",
       "    </tr>\n",
       "    <tr>\n",
       "      <th>2</th>\n",
       "      <td>3</td>\n",
       "      <td>1001</td>\n",
       "      <td>2015-12-04 03:57:24</td>\n",
       "      <td>direct</td>\n",
       "    </tr>\n",
       "  </tbody>\n",
       "</table>\n",
       "</div>"
      ],
      "text/plain": [
       "   id  account_id         occurred_at channel\n",
       "0   1        1001 2015-10-06 17:13:58  direct\n",
       "1   2        1001 2015-11-05 03:08:26  direct\n",
       "2   3        1001 2015-12-04 03:57:24  direct"
      ]
     },
     "execution_count": 8,
     "metadata": {},
     "output_type": "execute_result"
    }
   ],
   "source": [
    "# 4. For the web_events table\n",
    "\n",
    "query = 'SELECT * FROM web_events LIMIT 3;'\n",
    "query_to_df(query)"
   ]
  },
  {
   "cell_type": "code",
   "execution_count": 9,
   "id": "different-april",
   "metadata": {},
   "outputs": [
    {
     "name": "stdout",
     "output_type": "stream",
     "text": [
      "Query ran for 0.0069844722747802734 secs!\n"
     ]
    },
    {
     "data": {
      "text/html": [
       "<div>\n",
       "<style scoped>\n",
       "    .dataframe tbody tr th:only-of-type {\n",
       "        vertical-align: middle;\n",
       "    }\n",
       "\n",
       "    .dataframe tbody tr th {\n",
       "        vertical-align: top;\n",
       "    }\n",
       "\n",
       "    .dataframe thead th {\n",
       "        text-align: right;\n",
       "    }\n",
       "</style>\n",
       "<table border=\"1\" class=\"dataframe\">\n",
       "  <thead>\n",
       "    <tr style=\"text-align: right;\">\n",
       "      <th></th>\n",
       "      <th>id</th>\n",
       "      <th>name</th>\n",
       "    </tr>\n",
       "  </thead>\n",
       "  <tbody>\n",
       "    <tr>\n",
       "      <th>0</th>\n",
       "      <td>1</td>\n",
       "      <td>Northeast</td>\n",
       "    </tr>\n",
       "    <tr>\n",
       "      <th>1</th>\n",
       "      <td>2</td>\n",
       "      <td>Midwest</td>\n",
       "    </tr>\n",
       "    <tr>\n",
       "      <th>2</th>\n",
       "      <td>3</td>\n",
       "      <td>Southeast</td>\n",
       "    </tr>\n",
       "  </tbody>\n",
       "</table>\n",
       "</div>"
      ],
      "text/plain": [
       "   id       name\n",
       "0   1  Northeast\n",
       "1   2    Midwest\n",
       "2   3  Southeast"
      ]
     },
     "execution_count": 9,
     "metadata": {},
     "output_type": "execute_result"
    }
   ],
   "source": [
    "# 5. For the region table\n",
    "\n",
    "query = 'SELECT * FROM region LIMIT 3;'\n",
    "query_to_df(query)"
   ]
  },
  {
   "cell_type": "code",
   "execution_count": 30,
   "id": "strong-payroll",
   "metadata": {},
   "outputs": [
    {
     "name": "stdout",
     "output_type": "stream",
     "text": [
      "Connection Terminated: ('parch_and_posey',) Database.\n"
     ]
    }
   ],
   "source": [
    "# Change False to True below and run cell to terminate connection\n",
    "\n",
    "if False and connection.is_connected():\n",
    "    cursor.close()\n",
    "    connection.close()\n",
    "    print(f'Connection Terminated: {record} Database.')"
   ]
  }
 ],
 "metadata": {
  "kernelspec": {
   "display_name": "Python 3",
   "language": "python",
   "name": "python3"
  },
  "language_info": {
   "codemirror_mode": {
    "name": "ipython",
    "version": 3
   },
   "file_extension": ".py",
   "mimetype": "text/x-python",
   "name": "python",
   "nbconvert_exporter": "python",
   "pygments_lexer": "ipython3",
   "version": "3.8.5"
  }
 },
 "nbformat": 4,
 "nbformat_minor": 5
}
