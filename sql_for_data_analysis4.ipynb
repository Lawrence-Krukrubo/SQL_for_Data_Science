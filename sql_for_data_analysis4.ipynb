{
 "cells": [
  {
   "cell_type": "markdown",
   "id": "exempt-seventh",
   "metadata": {},
   "source": [
    "# DATE_TIMES and CASE Statements"
   ]
  },
  {
   "cell_type": "markdown",
   "id": "ready-virtue",
   "metadata": {},
   "source": [
    "We connect to MySQL server and workbench and make analysis with the parch-and-posey database. This course is the practicals of the course SQL for Data Analysis at Udacity."
   ]
  },
  {
   "cell_type": "code",
   "execution_count": null,
   "id": "broke-class",
   "metadata": {},
   "outputs": [],
   "source": [
    "# we import some required libraries\n",
    "\n",
    "import pandas as pd\n",
    "import numpy as np\n",
    "import matplotlib.pyplot as plt\n",
    "import seaborn as sns\n",
    "from pprint import pprint\n",
    "import time\n",
    "print('Done!')"
   ]
  },
  {
   "cell_type": "markdown",
   "id": "impressive-postage",
   "metadata": {},
   "source": [
    "**Next, we create a connection to the parch-and-posey DataBase in MySQL Work-Bench**"
   ]
  },
  {
   "cell_type": "code",
   "execution_count": null,
   "id": "statutory-entertainment",
   "metadata": {},
   "outputs": [],
   "source": [
    "import mysql\n",
    "from mysql.connector import Error\n",
    "from getpass import getpass\n",
    "\n",
    "try:\n",
    "    connection = mysql.connector.connect(host='localhost',\n",
    "                                         database='parch_and_posey',\n",
    "                                         user=input('Enter UserName:'),\n",
    "                                         password=getpass('Enter Password:'))\n",
    "    if connection.is_connected():\n",
    "        db_Info = connection.get_server_info()\n",
    "        print(\"Connected to MySQL Server version \", db_Info)\n",
    "        cursor = connection.cursor()\n",
    "        cursor.execute(\"select database();\")\n",
    "        record = cursor.fetchone()\n",
    "        print(\"You're connected to database: \", record)\n",
    "\n",
    "except Error as e:\n",
    "    print(\"Error while connecting to MySQL\", e)"
   ]
  },
  {
   "cell_type": "code",
   "execution_count": null,
   "id": "figured-ghost",
   "metadata": {},
   "outputs": [],
   "source": [
    "# Let's see the tables in the database\n",
    "\n",
    "# let's run the show tables command \n",
    "\n",
    "cursor.execute('show tables')\n",
    "out = cursor.fetchall()\n",
    "out"
   ]
  },
  {
   "cell_type": "markdown",
   "id": "later-december",
   "metadata": {},
   "source": [
    "**Defining a method that converts the result of a query to a dataframe**"
   ]
  },
  {
   "cell_type": "code",
   "execution_count": null,
   "id": "behind-making",
   "metadata": {},
   "outputs": [],
   "source": [
    "def query_to_df(query):\n",
    "    st = time.time()\n",
    "    # Assert Every Query ends with a semi-colon\n",
    "    try:\n",
    "        assert query.endswith(';')\n",
    "    except AssertionError:\n",
    "        return 'ERROR: Query Must End with ;'\n",
    "\n",
    "    # so we never have more than 20 rows displayed\n",
    "    pd.set_option('display.max_rows', 20) \n",
    "    df = None\n",
    "\n",
    "    # Process the query\n",
    "    cursor.execute(query)\n",
    "    columns = cursor.description\n",
    "    result = []\n",
    "    for value in cursor.fetchall():\n",
    "        tmp = {}\n",
    "        for (index,column) in enumerate(value):\n",
    "            tmp[columns[index][0]] = [column]\n",
    "        result.append(tmp)\n",
    "\n",
    "    # Create a DataFrame from all results\n",
    "    for ind, data in enumerate(result):\n",
    "        if ind >= 1:\n",
    "            x = pd.DataFrame(data)\n",
    "            df = pd.concat([df, x], ignore_index=True)\n",
    "        else:\n",
    "            df = pd.DataFrame(data)\n",
    "    print(f'Query ran for {time.time()-st} secs!')\n",
    "    return df"
   ]
  },
  {
   "cell_type": "code",
   "execution_count": null,
   "id": "diagnostic-operator",
   "metadata": {},
   "outputs": [],
   "source": [
    "# 1. For the accounts table\n",
    "\n",
    "query = 'SELECT * FROM accounts LIMIT 3;'\n",
    "query_to_df(query)"
   ]
  },
  {
   "cell_type": "code",
   "execution_count": null,
   "id": "breathing-cologne",
   "metadata": {},
   "outputs": [],
   "source": [
    "# 2. For the orders table\n",
    "\n",
    "query = 'SELECT * FROM orders LIMIT 3;'\n",
    "query_to_df(query)"
   ]
  },
  {
   "cell_type": "code",
   "execution_count": null,
   "id": "closed-casino",
   "metadata": {},
   "outputs": [],
   "source": [
    "# 3. For the sales_reps table\n",
    "\n",
    "query = 'SELECT * FROM sales_reps LIMIT 3;'\n",
    "query_to_df(query)"
   ]
  },
  {
   "cell_type": "code",
   "execution_count": null,
   "id": "nuclear-christianity",
   "metadata": {},
   "outputs": [],
   "source": [
    "# 4. For the web_events table\n",
    "\n",
    "query = 'SELECT * FROM web_events LIMIT 3;'\n",
    "query_to_df(query)"
   ]
  },
  {
   "cell_type": "code",
   "execution_count": null,
   "id": "continued-deviation",
   "metadata": {},
   "outputs": [],
   "source": [
    "# 5. For the region table\n",
    "\n",
    "query = 'SELECT * FROM region LIMIT 3;'\n",
    "query_to_df(query)"
   ]
  },
  {
   "cell_type": "markdown",
   "id": "million-catch",
   "metadata": {},
   "source": [
    "## Date Functions"
   ]
  },
  {
   "cell_type": "markdown",
   "id": "skilled-transcript",
   "metadata": {},
   "source": [
    "GROUPing BY a date column is not usually very useful in SQL, as these columns tend to have transaction data down to a second. Keeping date information at such a granular data is both a blessing and a curse, as it gives really precise information (a blessing), but it makes grouping information together directly difficult (a curse).\n",
    "\n",
    "Lucky for us, there are a number of built in SQL functions that are aimed at helping us improve our experience in working with dates.<br>\n",
    "**[MySQL Date-Time Functions](https://dev.mysql.com/doc/refman/8.0/en/date-and-time-functions.html#function_extract)**"
   ]
  },
  {
   "cell_type": "markdown",
   "id": "needed-consumption",
   "metadata": {},
   "source": [
    "#### Questions: Working With DATEs"
   ]
  },
  {
   "cell_type": "markdown",
   "id": "beneficial-tradition",
   "metadata": {},
   "source": [
    "**A. Find the sales in terms of total dollars for all orders in each year, ordered from greatest to least. Do you notice any trends in the yearly sales totals?**"
   ]
  },
  {
   "cell_type": "code",
   "execution_count": null,
   "id": "experimental-stephen",
   "metadata": {},
   "outputs": [],
   "source": [
    "query_to_df(\n",
    "\"SELECT EXTRACT(YEAR FROM o.occurred_at) order_year, SUM(o.total_amt_usd) total_spent FROM orders o \\\n",
    "GROUP BY 1 ORDER By 2 DESC;\"\n",
    ")"
   ]
  },
  {
   "cell_type": "markdown",
   "id": "variable-tsunami",
   "metadata": {},
   "source": [
    "**Let's plot the last query at once.**"
   ]
  },
  {
   "cell_type": "code",
   "execution_count": null,
   "id": "competent-demographic",
   "metadata": {},
   "outputs": [],
   "source": [
    "x=query_to_df(\n",
    "    \"SELECT EXTRACT(YEAR FROM occurred_at) order_year, SUM(total_amt_usd) \\\n",
    "    total_spent FROM orders GROUP BY 1 ORDER BY 2 DESC;\"\n",
    ")\n",
    "x['total_spent'] = x['total_spent'].astype('float64')\n",
    "x.set_index('order_year').plot.bar()\n",
    "plt.title(\"Yearly Total Spent\")\n",
    "plt.show()"
   ]
  },
  {
   "cell_type": "markdown",
   "id": "flush-uniform",
   "metadata": {},
   "source": [
    "**B. Which month did Parch & Posey have the greatest sales in terms of total dollars? Are all months evenly represented by the dataset?**"
   ]
  },
  {
   "cell_type": "code",
   "execution_count": null,
   "id": "expensive-remove",
   "metadata": {},
   "outputs": [],
   "source": [
    "query_to_df(\n",
    "\"SELECT EXTRACT(MONTH FROM occurred_at) sales_monthly, SUM(total_amt_usd) total \\\n",
    "FROM orders GROUP BY 1 ORDER BY 2 DESC;\"\n",
    ")"
   ]
  },
  {
   "cell_type": "code",
   "execution_count": null,
   "id": "organic-density",
   "metadata": {},
   "outputs": [],
   "source": [
    "x=query_to_df(\n",
    "\"SELECT EXTRACT(MONTH FROM occurred_at) sales_monthly, SUM(total_amt_usd) total \\\n",
    "FROM orders GROUP BY 1 ORDER BY 2 DESC;\"\n",
    ")\n",
    "# convert total from obj to float \n",
    "x.total = x.total.astype('float64')\n",
    "# set index to monthly sales\n",
    "x.set_index('sales_monthly').plot.bar(color='y')\n",
    "# add title and plot\n",
    "plt.title('Monthly Sales')\n",
    "plt.show()"
   ]
  },
  {
   "cell_type": "markdown",
   "id": "thorough-rapid",
   "metadata": {},
   "source": [
    "**C. Which year did Parch & Posey have the greatest sales in terms of total number of orders? Are all years evenly represented by the dataset?**"
   ]
  },
  {
   "cell_type": "code",
   "execution_count": null,
   "id": "discrete-cathedral",
   "metadata": {},
   "outputs": [],
   "source": [
    "query_to_df(\n",
    "\"SELECT EXTRACT(YEAR FROM occurred_at) order_year, COUNT(*) total_orders FROM orders \\\n",
    "GROUP BY 1 ORDER BY 2 DESC;\"\n",
    ")"
   ]
  },
  {
   "cell_type": "code",
   "execution_count": null,
   "id": "working-vietnamese",
   "metadata": {},
   "outputs": [],
   "source": [
    "x=query_to_df(\n",
    "\"SELECT EXTRACT(YEAR FROM occurred_at) order_year, COUNT(*) total_orders FROM orders \\\n",
    "GROUP BY 1 ORDER BY 2 DESC;\"\n",
    ")\n",
    "# convert total from obj to float \n",
    "x.total_orders = x.total_orders.astype('float64')\n",
    "# set index to order_year\n",
    "x.set_index('order_year').plot.bar(color='r')\n",
    "# add title and plot\n",
    "plt.title('Yearly Orders')\n",
    "plt.show()"
   ]
  },
  {
   "cell_type": "markdown",
   "id": "addressed-broadcast",
   "metadata": {},
   "source": [
    "**D. Which month did Parch & Posey have the greatest sales in terms of total number of orders? Are all months evenly represented by the dataset?**"
   ]
  },
  {
   "cell_type": "code",
   "execution_count": null,
   "id": "applied-graham",
   "metadata": {},
   "outputs": [],
   "source": [
    "query_to_df(\n",
    "\"SELECT EXTRACT(MONTH FROM occurred_at) order_month, COUNT(*) monthly_orders FROM orders \\\n",
    "GROUP BY 1 ORDER BY 2 DESC;\"\n",
    ")"
   ]
  },
  {
   "cell_type": "code",
   "execution_count": null,
   "id": "digital-webster",
   "metadata": {},
   "outputs": [],
   "source": [
    "x=query_to_df(\n",
    "\"SELECT EXTRACT(MONTH FROM occurred_at) order_month, COUNT(*) monthly_orders FROM orders \\\n",
    "GROUP BY 1 ORDER BY 2 DESC;\"\n",
    ")\n",
    "# convert total from obj to float \n",
    "x.monthly_orders = x.monthly_orders.astype('float64')\n",
    "# set index to monthly orders\n",
    "x.set_index('order_month').plot.bar(color='pink')\n",
    "# add title and plot\n",
    "plt.title('Monthly Orders')\n",
    "plt.show()"
   ]
  },
  {
   "cell_type": "markdown",
   "id": "shaped-medication",
   "metadata": {},
   "source": [
    "**E. In which month of which year did Walmart spend the most on gloss paper in terms of dollars?**"
   ]
  },
  {
   "cell_type": "code",
   "execution_count": null,
   "id": "offensive-coverage",
   "metadata": {},
   "outputs": [],
   "source": [
    "query_to_df(\n",
    "\"SELECT EXTRACT(YEAR_MONTH FROM o.occurred_at) yr_month, SUM(o.gloss_amt_usd) gloss_usd_amt, \\\n",
    "a.name acct_name FROM orders o JOIN accounts a ON a.id=o.account_id WHERE a.name LIKE '%Walmart' \\\n",
    "GROUP BY 1, 3 ORDER BY 2 DESC LIMIT 1;\"\n",
    ")"
   ]
  },
  {
   "cell_type": "code",
   "execution_count": null,
   "id": "sixth-object",
   "metadata": {},
   "outputs": [],
   "source": [
    "# Same Query using HAVING\n",
    "\n",
    "query_to_df(\n",
    "    \"SELECT a.name acct_name, EXTRACT(YEAR_MONTH FROM o.occurred_at) year_mnth, \\\n",
    "    SUM(o.gloss_amt_usd) gloss_spent FROM accounts a JOIN orders o ON a.id=o.account_id \\\n",
    "    GROUP BY 1, 2 HAVING acct_name LIKE '%Walmart' ORDER BY 3 DESC LIMIT 1;\"\n",
    ")"
   ]
  },
  {
   "cell_type": "markdown",
   "id": "foreign-scroll",
   "metadata": {},
   "source": [
    "## Case Statements\n",
    "\n",
    "Case statements are SQL's way of handling If-Then logic.\n",
    "\n",
    "We can create derived columns using `CASE` statements to answer interersting questions about the data. \n",
    "* The `CASE` statement is followed by at least one pair of `when` and `then` statements which are SQL's equivalent of If and Else statements.\n",
    "* The `CASE` statement must finish with the word `END`.\n",
    "* We can define a `CASE` statement with many `when`, `then` statements as we like.\n",
    "* Each `when` statement would evaluate in the pattern or format that it's written, one after another.\n",
    "* It's really best to create `when` statements that dont over lap.\n",
    "* We can add `AND` and `OR` to create finer conditions in the `when` statements.\n",
    "* The `CASE` clause allows us to count several different conditions at a time, unlike the `WHERE` clause which allows us count only one condition a time. For example...\n",
    "```\n",
    "SELECT CASE WHEN total > 500 THEN \"Over-500\" ELSE \"500-or-under\" \n",
    "END AS total_group, COUNT(*) as order_count FROM orders GROUP BY 1\n",
    "```\n",
    "* Finally we can combine `CASE` statements with aggregations to produce enhanced results."
   ]
  },
  {
   "cell_type": "code",
   "execution_count": null,
   "id": "sharp-crazy",
   "metadata": {},
   "outputs": [],
   "source": [
    "query_to_df(\n",
    "'SELECT CASE WHEN total > 500 THEN \"Over-500\" ELSE \"500-or-under\" \\\n",
    "END AS total_group, COUNT(*) as order_count FROM orders GROUP BY 1;'\n",
    ")"
   ]
  },
  {
   "cell_type": "markdown",
   "id": "wireless-magnitude",
   "metadata": {},
   "source": [
    "### CASE - Expert Tip\n",
    "* The `CASE` statement always goes in the `SELECT` clause.\n",
    "\n",
    "* `CASE` must include the following components: `WHEN`, `THEN`, and `END`. `ELSE` is an optional component to catch cases that didn’t meet any of the other previous CASE conditions.\n",
    "\n",
    "* You can make any conditional statement using any conditional operator (like `WHERE`) `between` `WHEN` and `THEN`. This includes stringing together multiple conditional statements using `AND` and `OR`.\n",
    "\n",
    "* You can include multiple `WHEN` statements, as well as an `ELSE` statement again, to deal with any unaddressed conditions."
   ]
  },
  {
   "cell_type": "markdown",
   "id": "respected-closing",
   "metadata": {},
   "source": [
    "### Example\n",
    "In a quiz question in the previous Basic SQL lesson, you saw this question:\n",
    "\n",
    "Create a column that divides the standard_amt_usd by the standard_qty to find the unit price for standard paper for each order. Limit the results to the first 10 orders, and include the id and account_id fields. NOTE - you will be thrown an error with the correct solution to this question. This is for a division by zero. You will learn how to get a solution without an error to this query when you learn about CASE statements in a later section.\n",
    "\n",
    "Let's see how we can use the CASE statement to get around this error.\n",
    "\n",
    "```\n",
    "SELECT id, account_id, standard_amt_usd/standard_qty AS unit_price\n",
    "FROM orders\n",
    "LIMIT 10;\n",
    "```\n",
    "Above is the old solution we did before, let's use `CASE` below...\n",
    "```\n",
    "SELECT account_id, CASE WHEN standard_qty = 0 OR standard_qty IS NULL THEN 0\n",
    "                        ELSE standard_amt_usd/standard_qty END AS unit_price\n",
    "FROM orders\n",
    "LIMIT 10;\n",
    "```\n",
    "Now the first part of the statement will catch any of those division by zero values that were causing the error, and the other components will compute the division as necessary"
   ]
  },
  {
   "cell_type": "code",
   "execution_count": null,
   "id": "traditional-smile",
   "metadata": {},
   "outputs": [],
   "source": [
    "query_to_df(\n",
    "    'SELECT CASE WHEN standard_qty=0 OR standard_qty IS NULL THEN 0 \\\n",
    "    ELSE standard_amt_usd/standard_qty END AS unit_price FROM orders LIMIT 1;'\n",
    ")"
   ]
  },
  {
   "cell_type": "markdown",
   "id": "missing-equality",
   "metadata": {},
   "source": [
    "## Case and Aggregations\n",
    "\n",
    "There are some advantages to separating data into separate columns like this depending on what you want to do, but often this level of separation might be easier to do in another programming language - rather than with SQL.\n",
    "\n",
    "### Questions: CASE"
   ]
  },
  {
   "cell_type": "markdown",
   "id": "composite-preliminary",
   "metadata": {},
   "source": [
    "**A. Write a query to display for each order, the account ID, total amount of the order, and the level of the order - `Large` or `Small` - depending on if the order is `$3000` or more, or smaller than `$3000`.**"
   ]
  },
  {
   "cell_type": "code",
   "execution_count": null,
   "id": "enabling-nightlife",
   "metadata": {},
   "outputs": [],
   "source": [
    "query_to_df(\n",
    "\"SELECT account_id acct_id, total_amt_usd total_sum, CASE WHEN total_amt_usd>=3000 THEN 'Large' \\\n",
    "ELSE 'Small' END AS level FROM orders;\"\n",
    ")"
   ]
  },
  {
   "cell_type": "markdown",
   "id": "powerful-outreach",
   "metadata": {},
   "source": [
    "**B. Write a query to display the number of orders in each of three categories, based on the total number of items in each order. The three categories are: 'At Least 2000', 'Between 1000 and 2000' and 'Less than 1000'.**"
   ]
  },
  {
   "cell_type": "code",
   "execution_count": null,
   "id": "affecting-notification",
   "metadata": {},
   "outputs": [],
   "source": [
    "query_to_df(\n",
    "\"SELECT COUNT(*) tot_order_qty, CASE WHEN total<1000 THEN 'Less than 1000' WHEN total>=2000 THEN 'At Least 2000' \\\n",
    "ELSE 'Between 1000 and 2000' END AS category FROM orders GROUP BY 2;\"\n",
    ")"
   ]
  },
  {
   "cell_type": "markdown",
   "id": "criminal-cradle",
   "metadata": {},
   "source": [
    "**C. We would like to understand 3 different levels of customers based on the amount associated with their purchases. The top level includes anyone with a Lifetime Value (total sales of all orders) greater than 200,000 usd. The second level is between 200,000 and 100,000 usd. The lowest level is anyone under 100,000 usd. Provide a table that includes the level associated with each account. You should provide the account name, the total sales of all orders for the customer, and the level. Order with the top spending customers listed first.**"
   ]
  },
  {
   "cell_type": "code",
   "execution_count": null,
   "id": "sealed-partition",
   "metadata": {},
   "outputs": [],
   "source": [
    "query_to_df(\n",
    "\"SELECT acct_name, total_sales_usd, CASE WHEN total_sales_usd>200000 THEN 'Top-Level' WHEN total_sales_usd<100000 \\\n",
    "THEN 'Low-Level' ELSE 'Mid-Level' END AS level FROM (SELECT a.name acct_name, SUM(o.total_amt_usd) total_sales_usd \\\n",
    "FROM orders o JOIN accounts a ON a.id=o.account_id GROUP BY 1) AS T1 ORDER BY 2 DESC;\"\n",
    ")"
   ]
  },
  {
   "cell_type": "markdown",
   "id": "severe-albany",
   "metadata": {},
   "source": [
    "**D. We would now like to perform a similar calculation to the first, but we want to obtain the total amount spent by customers only in 2016 and 2017. Keep the same levels as in the previous question. Order with the top spending customers listed first.**"
   ]
  },
  {
   "cell_type": "code",
   "execution_count": null,
   "id": "latter-marina",
   "metadata": {},
   "outputs": [],
   "source": [
    "query_to_df(\n",
    "\"SELECT account_id acct_id, total_amt_usd total_spent, CASE WHEN total_amt_usd>=3000 THEN 'Top' \\\n",
    "ELSE 'Low' END AS level FROM orders WHERE occurred_at BETWEEN '2016-01-01' AND '2018-01-01' \\\n",
    "GROUP BY 1 ORDER BY 2 DESC;\"\n",
    ")"
   ]
  },
  {
   "cell_type": "markdown",
   "id": "legislative-disposition",
   "metadata": {},
   "source": [
    "**E. We would like to identify top performing sales reps, which are sales reps associated with more than 200 orders. Create a table with the sales rep name, the total number of orders, and a column with top or not depending on if they have more than 200 orders. Place the top sales people first in your final table.**"
   ]
  },
  {
   "cell_type": "code",
   "execution_count": null,
   "id": "photographic-cricket",
   "metadata": {},
   "outputs": [],
   "source": [
    "query_to_df(\n",
    "\"SELECT *, CASE WHEN total_orders>200 THEN 'Top-Performer' ELSE 'Low-Performer' END as category FROM \\\n",
    "(SELECT DISTINCT s.name sales_rep, COUNT(o.id) total_orders FROM sales_reps s JOIN accounts a ON a.sales_rep_id=s.id \\\n",
    "JOIN orders o ON o.account_id=a.id GROUP BY 1) AS T1 ORDER BY 2 DESC;\"\n",
    ")"
   ]
  },
  {
   "cell_type": "markdown",
   "id": "endless-family",
   "metadata": {},
   "source": [
    "**F. The previous didn't account for the middle, nor the dollar amount associated with the sales. Management decides they want to see these characteristics represented as well. We would like to identify top performing sales reps, which are sales reps associated with more than 200 orders or more than 750000 in total sales. The middle group has any rep with more than 150 orders or 500000 in sales. Create a table with the sales rep name, the total number of orders, total sales across all orders, and a column with top, middle, or low depending on this criteria. Place the top sales people based on dollar amount of sales first in your final table. You might see a few upset sales people by this criteria!**"
   ]
  },
  {
   "cell_type": "code",
   "execution_count": null,
   "id": "pointed-auction",
   "metadata": {},
   "outputs": [],
   "source": [
    "query_to_df(\n",
    "\"SELECT *, CASE WHEN total_orders>200 OR total_sales>750000 THEN 'Top-Performer' WHEN total_orders<=150 OR \\\n",
    "total_sales<=500000 THEN 'Low-Performer' ELSE 'Mid-Performer' END AS category FROM \\\n",
    "(SELECT DISTINCT s.name sales_rep, COUNT(o.id) total_orders, SUM(o.total_amt_usd) total_sales FROM sales_reps s \\\n",
    "JOIN accounts a ON a.sales_rep_id=s.id JOIN orders o ON o.account_id=a.id GROUP BY 1) AS T1 \\\n",
    "ORDER BY total_sales DESC, total_orders DESC;\"\n",
    ")"
   ]
  },
  {
   "cell_type": "code",
   "execution_count": null,
   "id": "removable-guest",
   "metadata": {},
   "outputs": [],
   "source": [
    "# Change False to True and Terminate connection at end of notebook\n",
    "\n",
    "if True and connection.is_connected():\n",
    "    cursor.close()\n",
    "    connection.close()\n",
    "    print(f'Terminating Connection to MySQL Database: {record}')"
   ]
  }
 ],
 "metadata": {
  "kernelspec": {
   "display_name": "Python 3",
   "language": "python",
   "name": "python3"
  },
  "language_info": {
   "codemirror_mode": {
    "name": "ipython",
    "version": 3
   },
   "file_extension": ".py",
   "mimetype": "text/x-python",
   "name": "python",
   "nbconvert_exporter": "python",
   "pygments_lexer": "ipython3",
   "version": "3.8.5"
  }
 },
 "nbformat": 4,
 "nbformat_minor": 5
}
