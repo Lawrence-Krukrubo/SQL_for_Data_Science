{
 "cells": [
  {
   "cell_type": "markdown",
   "id": "exempt-seventh",
   "metadata": {},
   "source": [
    "# DATE_TIMES and CASE Statements"
   ]
  },
  {
   "cell_type": "markdown",
   "id": "ready-virtue",
   "metadata": {},
   "source": [
    "We connect to MySQL server and workbench and make analysis with the parch-and-posey database. This course is the practicals of the course SQL for Data Analysis at Udacity."
   ]
  },
  {
   "cell_type": "code",
   "execution_count": 2,
   "id": "broke-class",
   "metadata": {},
   "outputs": [
    {
     "name": "stdout",
     "output_type": "stream",
     "text": [
      "Done!\n"
     ]
    }
   ],
   "source": [
    "# we import some required libraries\n",
    "\n",
    "import pandas as pd\n",
    "import numpy as np\n",
    "import matplotlib.pyplot as plt\n",
    "import seaborn as sns\n",
    "from pprint import pprint\n",
    "import time\n",
    "print('Done!')"
   ]
  },
  {
   "cell_type": "markdown",
   "id": "impressive-postage",
   "metadata": {},
   "source": [
    "**Next, we create a connection to the parch-and-posey DataBase in MySQL Work-Bench**"
   ]
  },
  {
   "cell_type": "code",
   "execution_count": 3,
   "id": "statutory-entertainment",
   "metadata": {},
   "outputs": [
    {
     "name": "stdout",
     "output_type": "stream",
     "text": [
      "Enter UserName:root\n",
      "Enter Password:········\n",
      "Connected to MySQL Server version  8.0.24\n",
      "You're connected to database:  ('parch_and_posey',)\n"
     ]
    }
   ],
   "source": [
    "import mysql\n",
    "from mysql.connector import Error\n",
    "from getpass import getpass\n",
    "\n",
    "try:\n",
    "    connection = mysql.connector.connect(host='localhost',\n",
    "                                         database='parch_and_posey',\n",
    "                                         user=input('Enter UserName:'),\n",
    "                                         password=getpass('Enter Password:'))\n",
    "    if connection.is_connected():\n",
    "        db_Info = connection.get_server_info()\n",
    "        print(\"Connected to MySQL Server version \", db_Info)\n",
    "        cursor = connection.cursor()\n",
    "        cursor.execute(\"select database();\")\n",
    "        record = cursor.fetchone()\n",
    "        print(\"You're connected to database: \", record)\n",
    "\n",
    "except Error as e:\n",
    "    print(\"Error while connecting to MySQL\", e)"
   ]
  },
  {
   "cell_type": "code",
   "execution_count": 4,
   "id": "figured-ghost",
   "metadata": {},
   "outputs": [
    {
     "data": {
      "text/plain": [
       "[('accounts',), ('orders',), ('region',), ('sales_reps',), ('web_events',)]"
      ]
     },
     "execution_count": 4,
     "metadata": {},
     "output_type": "execute_result"
    }
   ],
   "source": [
    "# Let's see the tables in the database\n",
    "\n",
    "# let's run the show tables command \n",
    "\n",
    "cursor.execute('show tables')\n",
    "out = cursor.fetchall()\n",
    "out"
   ]
  },
  {
   "cell_type": "markdown",
   "id": "later-december",
   "metadata": {},
   "source": [
    "**Defining a method that converts the result of a query to a dataframe**"
   ]
  },
  {
   "cell_type": "code",
   "execution_count": 5,
   "id": "behind-making",
   "metadata": {},
   "outputs": [],
   "source": [
    "def query_to_df(query):\n",
    "    st = time.time()\n",
    "    # Assert Every Query ends with a semi-colon\n",
    "    try:\n",
    "        assert query.endswith(';')\n",
    "    except AssertionError:\n",
    "        return 'ERROR: Query Must End with ;'\n",
    "\n",
    "    # so we never have more than 20 rows displayed\n",
    "    pd.set_option('display.max_rows', 20) \n",
    "    df = None\n",
    "\n",
    "    # Process the query\n",
    "    cursor.execute(query)\n",
    "    columns = cursor.description\n",
    "    result = []\n",
    "    for value in cursor.fetchall():\n",
    "        tmp = {}\n",
    "        for (index,column) in enumerate(value):\n",
    "            tmp[columns[index][0]] = [column]\n",
    "        result.append(tmp)\n",
    "\n",
    "    # Create a DataFrame from all results\n",
    "    for ind, data in enumerate(result):\n",
    "        if ind >= 1:\n",
    "            x = pd.DataFrame(data)\n",
    "            df = pd.concat([df, x], ignore_index=True)\n",
    "        else:\n",
    "            df = pd.DataFrame(data)\n",
    "    print(f'Query ran for {time.time()-st} secs!')\n",
    "    return df"
   ]
  },
  {
   "cell_type": "code",
   "execution_count": 6,
   "id": "diagnostic-operator",
   "metadata": {},
   "outputs": [
    {
     "name": "stdout",
     "output_type": "stream",
     "text": [
      "Query ran for 0.005949735641479492 secs!\n"
     ]
    },
    {
     "data": {
      "text/html": [
       "<div>\n",
       "<style scoped>\n",
       "    .dataframe tbody tr th:only-of-type {\n",
       "        vertical-align: middle;\n",
       "    }\n",
       "\n",
       "    .dataframe tbody tr th {\n",
       "        vertical-align: top;\n",
       "    }\n",
       "\n",
       "    .dataframe thead th {\n",
       "        text-align: right;\n",
       "    }\n",
       "</style>\n",
       "<table border=\"1\" class=\"dataframe\">\n",
       "  <thead>\n",
       "    <tr style=\"text-align: right;\">\n",
       "      <th></th>\n",
       "      <th>id</th>\n",
       "      <th>name</th>\n",
       "      <th>website</th>\n",
       "      <th>lat</th>\n",
       "      <th>longs</th>\n",
       "      <th>primary_poc</th>\n",
       "      <th>sales_rep_id</th>\n",
       "    </tr>\n",
       "  </thead>\n",
       "  <tbody>\n",
       "    <tr>\n",
       "      <th>0</th>\n",
       "      <td>1001</td>\n",
       "      <td>Walmart</td>\n",
       "      <td>www.walmart.com</td>\n",
       "      <td>40.23849561</td>\n",
       "      <td>-75.10329704</td>\n",
       "      <td>Tamara Tuma</td>\n",
       "      <td>321500</td>\n",
       "    </tr>\n",
       "    <tr>\n",
       "      <th>1</th>\n",
       "      <td>1011</td>\n",
       "      <td>Exxon Mobil</td>\n",
       "      <td>www.exxonmobil.com</td>\n",
       "      <td>41.16915630</td>\n",
       "      <td>-73.84937379</td>\n",
       "      <td>Sung Shields</td>\n",
       "      <td>321510</td>\n",
       "    </tr>\n",
       "    <tr>\n",
       "      <th>2</th>\n",
       "      <td>1021</td>\n",
       "      <td>Apple</td>\n",
       "      <td>www.apple.com</td>\n",
       "      <td>42.29049481</td>\n",
       "      <td>-76.08400942</td>\n",
       "      <td>Jodee Lupo</td>\n",
       "      <td>321520</td>\n",
       "    </tr>\n",
       "  </tbody>\n",
       "</table>\n",
       "</div>"
      ],
      "text/plain": [
       "     id         name             website          lat         longs  \\\n",
       "0  1001      Walmart     www.walmart.com  40.23849561  -75.10329704   \n",
       "1  1011  Exxon Mobil  www.exxonmobil.com  41.16915630  -73.84937379   \n",
       "2  1021        Apple       www.apple.com  42.29049481  -76.08400942   \n",
       "\n",
       "    primary_poc  sales_rep_id  \n",
       "0   Tamara Tuma        321500  \n",
       "1  Sung Shields        321510  \n",
       "2    Jodee Lupo        321520  "
      ]
     },
     "execution_count": 6,
     "metadata": {},
     "output_type": "execute_result"
    }
   ],
   "source": [
    "# 1. For the accounts table\n",
    "\n",
    "query = 'SELECT * FROM accounts LIMIT 3;'\n",
    "query_to_df(query)"
   ]
  },
  {
   "cell_type": "code",
   "execution_count": 7,
   "id": "breathing-cologne",
   "metadata": {},
   "outputs": [
    {
     "name": "stdout",
     "output_type": "stream",
     "text": [
      "Query ran for 0.009008407592773438 secs!\n"
     ]
    },
    {
     "data": {
      "text/html": [
       "<div>\n",
       "<style scoped>\n",
       "    .dataframe tbody tr th:only-of-type {\n",
       "        vertical-align: middle;\n",
       "    }\n",
       "\n",
       "    .dataframe tbody tr th {\n",
       "        vertical-align: top;\n",
       "    }\n",
       "\n",
       "    .dataframe thead th {\n",
       "        text-align: right;\n",
       "    }\n",
       "</style>\n",
       "<table border=\"1\" class=\"dataframe\">\n",
       "  <thead>\n",
       "    <tr style=\"text-align: right;\">\n",
       "      <th></th>\n",
       "      <th>id</th>\n",
       "      <th>account_id</th>\n",
       "      <th>occurred_at</th>\n",
       "      <th>standard_qty</th>\n",
       "      <th>gloss_qty</th>\n",
       "      <th>poster_qty</th>\n",
       "      <th>total</th>\n",
       "      <th>standard_amt_usd</th>\n",
       "      <th>gloss_amt_usd</th>\n",
       "      <th>poster_amt_usd</th>\n",
       "      <th>total_amt_usd</th>\n",
       "    </tr>\n",
       "  </thead>\n",
       "  <tbody>\n",
       "    <tr>\n",
       "      <th>0</th>\n",
       "      <td>1</td>\n",
       "      <td>1001</td>\n",
       "      <td>2015-10-06 17:31:14</td>\n",
       "      <td>123</td>\n",
       "      <td>22</td>\n",
       "      <td>24</td>\n",
       "      <td>169</td>\n",
       "      <td>613.77</td>\n",
       "      <td>164.78</td>\n",
       "      <td>194.88</td>\n",
       "      <td>973.43</td>\n",
       "    </tr>\n",
       "    <tr>\n",
       "      <th>1</th>\n",
       "      <td>2</td>\n",
       "      <td>1001</td>\n",
       "      <td>2015-11-05 03:34:33</td>\n",
       "      <td>190</td>\n",
       "      <td>41</td>\n",
       "      <td>57</td>\n",
       "      <td>288</td>\n",
       "      <td>948.10</td>\n",
       "      <td>307.09</td>\n",
       "      <td>462.84</td>\n",
       "      <td>1718.03</td>\n",
       "    </tr>\n",
       "    <tr>\n",
       "      <th>2</th>\n",
       "      <td>3</td>\n",
       "      <td>1001</td>\n",
       "      <td>2015-12-04 04:21:55</td>\n",
       "      <td>85</td>\n",
       "      <td>47</td>\n",
       "      <td>0</td>\n",
       "      <td>132</td>\n",
       "      <td>424.15</td>\n",
       "      <td>352.03</td>\n",
       "      <td>0.00</td>\n",
       "      <td>776.18</td>\n",
       "    </tr>\n",
       "  </tbody>\n",
       "</table>\n",
       "</div>"
      ],
      "text/plain": [
       "   id  account_id         occurred_at  standard_qty  gloss_qty  poster_qty  \\\n",
       "0   1        1001 2015-10-06 17:31:14           123         22          24   \n",
       "1   2        1001 2015-11-05 03:34:33           190         41          57   \n",
       "2   3        1001 2015-12-04 04:21:55            85         47           0   \n",
       "\n",
       "   total standard_amt_usd gloss_amt_usd poster_amt_usd total_amt_usd  \n",
       "0    169           613.77        164.78         194.88        973.43  \n",
       "1    288           948.10        307.09         462.84       1718.03  \n",
       "2    132           424.15        352.03           0.00        776.18  "
      ]
     },
     "execution_count": 7,
     "metadata": {},
     "output_type": "execute_result"
    }
   ],
   "source": [
    "# 2. For the orders table\n",
    "\n",
    "query = 'SELECT * FROM orders LIMIT 3;'\n",
    "query_to_df(query)"
   ]
  },
  {
   "cell_type": "code",
   "execution_count": 8,
   "id": "closed-casino",
   "metadata": {},
   "outputs": [
    {
     "name": "stdout",
     "output_type": "stream",
     "text": [
      "Query ran for 0.0 secs!\n"
     ]
    },
    {
     "data": {
      "text/html": [
       "<div>\n",
       "<style scoped>\n",
       "    .dataframe tbody tr th:only-of-type {\n",
       "        vertical-align: middle;\n",
       "    }\n",
       "\n",
       "    .dataframe tbody tr th {\n",
       "        vertical-align: top;\n",
       "    }\n",
       "\n",
       "    .dataframe thead th {\n",
       "        text-align: right;\n",
       "    }\n",
       "</style>\n",
       "<table border=\"1\" class=\"dataframe\">\n",
       "  <thead>\n",
       "    <tr style=\"text-align: right;\">\n",
       "      <th></th>\n",
       "      <th>id</th>\n",
       "      <th>name</th>\n",
       "      <th>region_id</th>\n",
       "    </tr>\n",
       "  </thead>\n",
       "  <tbody>\n",
       "    <tr>\n",
       "      <th>0</th>\n",
       "      <td>321500</td>\n",
       "      <td>Samuel Racine</td>\n",
       "      <td>1</td>\n",
       "    </tr>\n",
       "    <tr>\n",
       "      <th>1</th>\n",
       "      <td>321510</td>\n",
       "      <td>Eugena Esser</td>\n",
       "      <td>1</td>\n",
       "    </tr>\n",
       "    <tr>\n",
       "      <th>2</th>\n",
       "      <td>321520</td>\n",
       "      <td>Michel Averette</td>\n",
       "      <td>1</td>\n",
       "    </tr>\n",
       "  </tbody>\n",
       "</table>\n",
       "</div>"
      ],
      "text/plain": [
       "       id             name  region_id\n",
       "0  321500    Samuel Racine          1\n",
       "1  321510     Eugena Esser          1\n",
       "2  321520  Michel Averette          1"
      ]
     },
     "execution_count": 8,
     "metadata": {},
     "output_type": "execute_result"
    }
   ],
   "source": [
    "# 3. For the sales_reps table\n",
    "\n",
    "query = 'SELECT * FROM sales_reps LIMIT 3;'\n",
    "query_to_df(query)"
   ]
  },
  {
   "cell_type": "code",
   "execution_count": 9,
   "id": "nuclear-christianity",
   "metadata": {},
   "outputs": [
    {
     "name": "stdout",
     "output_type": "stream",
     "text": [
      "Query ran for 0.0 secs!\n"
     ]
    },
    {
     "data": {
      "text/html": [
       "<div>\n",
       "<style scoped>\n",
       "    .dataframe tbody tr th:only-of-type {\n",
       "        vertical-align: middle;\n",
       "    }\n",
       "\n",
       "    .dataframe tbody tr th {\n",
       "        vertical-align: top;\n",
       "    }\n",
       "\n",
       "    .dataframe thead th {\n",
       "        text-align: right;\n",
       "    }\n",
       "</style>\n",
       "<table border=\"1\" class=\"dataframe\">\n",
       "  <thead>\n",
       "    <tr style=\"text-align: right;\">\n",
       "      <th></th>\n",
       "      <th>id</th>\n",
       "      <th>account_id</th>\n",
       "      <th>occurred_at</th>\n",
       "      <th>channel</th>\n",
       "    </tr>\n",
       "  </thead>\n",
       "  <tbody>\n",
       "    <tr>\n",
       "      <th>0</th>\n",
       "      <td>1</td>\n",
       "      <td>1001</td>\n",
       "      <td>2015-10-06 17:13:58</td>\n",
       "      <td>direct</td>\n",
       "    </tr>\n",
       "    <tr>\n",
       "      <th>1</th>\n",
       "      <td>2</td>\n",
       "      <td>1001</td>\n",
       "      <td>2015-11-05 03:08:26</td>\n",
       "      <td>direct</td>\n",
       "    </tr>\n",
       "    <tr>\n",
       "      <th>2</th>\n",
       "      <td>3</td>\n",
       "      <td>1001</td>\n",
       "      <td>2015-12-04 03:57:24</td>\n",
       "      <td>direct</td>\n",
       "    </tr>\n",
       "  </tbody>\n",
       "</table>\n",
       "</div>"
      ],
      "text/plain": [
       "   id  account_id         occurred_at channel\n",
       "0   1        1001 2015-10-06 17:13:58  direct\n",
       "1   2        1001 2015-11-05 03:08:26  direct\n",
       "2   3        1001 2015-12-04 03:57:24  direct"
      ]
     },
     "execution_count": 9,
     "metadata": {},
     "output_type": "execute_result"
    }
   ],
   "source": [
    "# 4. For the web_events table\n",
    "\n",
    "query = 'SELECT * FROM web_events LIMIT 3;'\n",
    "query_to_df(query)"
   ]
  },
  {
   "cell_type": "code",
   "execution_count": 10,
   "id": "continued-deviation",
   "metadata": {},
   "outputs": [
    {
     "name": "stdout",
     "output_type": "stream",
     "text": [
      "Query ran for 0.0 secs!\n"
     ]
    },
    {
     "data": {
      "text/html": [
       "<div>\n",
       "<style scoped>\n",
       "    .dataframe tbody tr th:only-of-type {\n",
       "        vertical-align: middle;\n",
       "    }\n",
       "\n",
       "    .dataframe tbody tr th {\n",
       "        vertical-align: top;\n",
       "    }\n",
       "\n",
       "    .dataframe thead th {\n",
       "        text-align: right;\n",
       "    }\n",
       "</style>\n",
       "<table border=\"1\" class=\"dataframe\">\n",
       "  <thead>\n",
       "    <tr style=\"text-align: right;\">\n",
       "      <th></th>\n",
       "      <th>id</th>\n",
       "      <th>name</th>\n",
       "    </tr>\n",
       "  </thead>\n",
       "  <tbody>\n",
       "    <tr>\n",
       "      <th>0</th>\n",
       "      <td>1</td>\n",
       "      <td>Northeast</td>\n",
       "    </tr>\n",
       "    <tr>\n",
       "      <th>1</th>\n",
       "      <td>2</td>\n",
       "      <td>Midwest</td>\n",
       "    </tr>\n",
       "    <tr>\n",
       "      <th>2</th>\n",
       "      <td>3</td>\n",
       "      <td>Southeast</td>\n",
       "    </tr>\n",
       "  </tbody>\n",
       "</table>\n",
       "</div>"
      ],
      "text/plain": [
       "   id       name\n",
       "0   1  Northeast\n",
       "1   2    Midwest\n",
       "2   3  Southeast"
      ]
     },
     "execution_count": 10,
     "metadata": {},
     "output_type": "execute_result"
    }
   ],
   "source": [
    "# 5. For the region table\n",
    "\n",
    "query = 'SELECT * FROM region LIMIT 3;'\n",
    "query_to_df(query)"
   ]
  },
  {
   "cell_type": "markdown",
   "id": "million-catch",
   "metadata": {},
   "source": [
    "## Date Functions"
   ]
  },
  {
   "cell_type": "markdown",
   "id": "skilled-transcript",
   "metadata": {},
   "source": [
    "GROUPing BY a date column is not usually very useful in SQL, as these columns tend to have transaction data down to a second. Keeping date information at such a granular data is both a blessing and a curse, as it gives really precise information (a blessing), but it makes grouping information together directly difficult (a curse).\n",
    "\n",
    "Lucky for us, there are a number of built in SQL functions that are aimed at helping us improve our experience in working with dates.<br>\n",
    "**[MySQL Date-Time Functions](https://dev.mysql.com/doc/refman/8.0/en/date-and-time-functions.html#function_extract)**"
   ]
  },
  {
   "cell_type": "markdown",
   "id": "needed-consumption",
   "metadata": {},
   "source": [
    "#### Questions: Working With DATEs"
   ]
  },
  {
   "cell_type": "markdown",
   "id": "beneficial-tradition",
   "metadata": {},
   "source": [
    "**A. Find the sales in terms of total dollars for all orders in each year, ordered from greatest to least. Do you notice any trends in the yearly sales totals?**"
   ]
  },
  {
   "cell_type": "code",
   "execution_count": 11,
   "id": "experimental-stephen",
   "metadata": {},
   "outputs": [
    {
     "name": "stdout",
     "output_type": "stream",
     "text": [
      "Query ran for 0.031128406524658203 secs!\n"
     ]
    },
    {
     "data": {
      "text/html": [
       "<div>\n",
       "<style scoped>\n",
       "    .dataframe tbody tr th:only-of-type {\n",
       "        vertical-align: middle;\n",
       "    }\n",
       "\n",
       "    .dataframe tbody tr th {\n",
       "        vertical-align: top;\n",
       "    }\n",
       "\n",
       "    .dataframe thead th {\n",
       "        text-align: right;\n",
       "    }\n",
       "</style>\n",
       "<table border=\"1\" class=\"dataframe\">\n",
       "  <thead>\n",
       "    <tr style=\"text-align: right;\">\n",
       "      <th></th>\n",
       "      <th>order_year</th>\n",
       "      <th>total_spent</th>\n",
       "    </tr>\n",
       "  </thead>\n",
       "  <tbody>\n",
       "    <tr>\n",
       "      <th>0</th>\n",
       "      <td>2016</td>\n",
       "      <td>12864917.92</td>\n",
       "    </tr>\n",
       "    <tr>\n",
       "      <th>1</th>\n",
       "      <td>2015</td>\n",
       "      <td>5752004.94</td>\n",
       "    </tr>\n",
       "    <tr>\n",
       "      <th>2</th>\n",
       "      <td>2014</td>\n",
       "      <td>4069106.54</td>\n",
       "    </tr>\n",
       "    <tr>\n",
       "      <th>3</th>\n",
       "      <td>2013</td>\n",
       "      <td>377331.00</td>\n",
       "    </tr>\n",
       "    <tr>\n",
       "      <th>4</th>\n",
       "      <td>2017</td>\n",
       "      <td>78151.43</td>\n",
       "    </tr>\n",
       "  </tbody>\n",
       "</table>\n",
       "</div>"
      ],
      "text/plain": [
       "   order_year  total_spent\n",
       "0        2016  12864917.92\n",
       "1        2015   5752004.94\n",
       "2        2014   4069106.54\n",
       "3        2013    377331.00\n",
       "4        2017     78151.43"
      ]
     },
     "execution_count": 11,
     "metadata": {},
     "output_type": "execute_result"
    }
   ],
   "source": [
    "query_to_df(\n",
    "\"SELECT EXTRACT(YEAR FROM o.occurred_at) order_year, SUM(o.total_amt_usd) total_spent FROM orders o \\\n",
    "GROUP BY 1 ORDER By 2 DESC;\"\n",
    ")"
   ]
  },
  {
   "cell_type": "markdown",
   "id": "variable-tsunami",
   "metadata": {},
   "source": [
    "**Let's plot the last query at once.**"
   ]
  },
  {
   "cell_type": "code",
   "execution_count": 12,
   "id": "competent-demographic",
   "metadata": {},
   "outputs": [
    {
     "name": "stdout",
     "output_type": "stream",
     "text": [
      "Query ran for 0.020984649658203125 secs!\n"
     ]
    },
    {
     "data": {
      "image/png": "[encoded data removed]",
      "text/plain": [
       "<Figure size 432x288 with 1 Axes>"
      ]
     },
     "metadata": {
      "needs_background": "light"
     },
     "output_type": "display_data"
    }
   ],
   "source": [
    "x=query_to_df(\n",
    "    \"SELECT EXTRACT(YEAR FROM occurred_at) order_year, SUM(total_amt_usd) \\\n",
    "    total_spent FROM orders GROUP BY 1 ORDER BY 2 DESC;\"\n",
    ")\n",
    "x['total_spent'] = x['total_spent'].astype('float64')\n",
    "x.set_index('order_year').plot.bar()\n",
    "plt.title(\"Yearly Total Spent\")\n",
    "plt.show()"
   ]
  },
  {
   "cell_type": "markdown",
   "id": "flush-uniform",
   "metadata": {},
   "source": [
    "**B. Which month did Parch & Posey have the greatest sales in terms of total dollars? Are all months evenly represented by the dataset?**"
   ]
  },
  {
   "cell_type": "code",
   "execution_count": 13,
   "id": "expensive-remove",
   "metadata": {},
   "outputs": [
    {
     "name": "stdout",
     "output_type": "stream",
     "text": [
      "Query ran for 0.04487943649291992 secs!\n"
     ]
    },
    {
     "data": {
      "text/html": [
       "<div>\n",
       "<style scoped>\n",
       "    .dataframe tbody tr th:only-of-type {\n",
       "        vertical-align: middle;\n",
       "    }\n",
       "\n",
       "    .dataframe tbody tr th {\n",
       "        vertical-align: top;\n",
       "    }\n",
       "\n",
       "    .dataframe thead th {\n",
       "        text-align: right;\n",
       "    }\n",
       "</style>\n",
       "<table border=\"1\" class=\"dataframe\">\n",
       "  <thead>\n",
       "    <tr style=\"text-align: right;\">\n",
       "      <th></th>\n",
       "      <th>sales_monthly</th>\n",
       "      <th>total</th>\n",
       "    </tr>\n",
       "  </thead>\n",
       "  <tbody>\n",
       "    <tr>\n",
       "      <th>0</th>\n",
       "      <td>12</td>\n",
       "      <td>3129411.98</td>\n",
       "    </tr>\n",
       "    <tr>\n",
       "      <th>1</th>\n",
       "      <td>10</td>\n",
       "      <td>2427505.97</td>\n",
       "    </tr>\n",
       "    <tr>\n",
       "      <th>2</th>\n",
       "      <td>11</td>\n",
       "      <td>2390033.75</td>\n",
       "    </tr>\n",
       "    <tr>\n",
       "      <th>3</th>\n",
       "      <td>9</td>\n",
       "      <td>2017216.88</td>\n",
       "    </tr>\n",
       "    <tr>\n",
       "      <th>4</th>\n",
       "      <td>7</td>\n",
       "      <td>1978731.15</td>\n",
       "    </tr>\n",
       "    <tr>\n",
       "      <th>5</th>\n",
       "      <td>8</td>\n",
       "      <td>1918107.22</td>\n",
       "    </tr>\n",
       "    <tr>\n",
       "      <th>6</th>\n",
       "      <td>6</td>\n",
       "      <td>1871118.52</td>\n",
       "    </tr>\n",
       "    <tr>\n",
       "      <th>7</th>\n",
       "      <td>3</td>\n",
       "      <td>1659987.88</td>\n",
       "    </tr>\n",
       "    <tr>\n",
       "      <th>8</th>\n",
       "      <td>4</td>\n",
       "      <td>1562037.74</td>\n",
       "    </tr>\n",
       "    <tr>\n",
       "      <th>9</th>\n",
       "      <td>5</td>\n",
       "      <td>1537082.23</td>\n",
       "    </tr>\n",
       "    <tr>\n",
       "      <th>10</th>\n",
       "      <td>1</td>\n",
       "      <td>1337661.87</td>\n",
       "    </tr>\n",
       "    <tr>\n",
       "      <th>11</th>\n",
       "      <td>2</td>\n",
       "      <td>1312616.64</td>\n",
       "    </tr>\n",
       "  </tbody>\n",
       "</table>\n",
       "</div>"
      ],
      "text/plain": [
       "    sales_monthly       total\n",
       "0              12  3129411.98\n",
       "1              10  2427505.97\n",
       "2              11  2390033.75\n",
       "3               9  2017216.88\n",
       "4               7  1978731.15\n",
       "5               8  1918107.22\n",
       "6               6  1871118.52\n",
       "7               3  1659987.88\n",
       "8               4  1562037.74\n",
       "9               5  1537082.23\n",
       "10              1  1337661.87\n",
       "11              2  1312616.64"
      ]
     },
     "execution_count": 13,
     "metadata": {},
     "output_type": "execute_result"
    }
   ],
   "source": [
    "query_to_df(\n",
    "\"SELECT EXTRACT(MONTH FROM occurred_at) sales_monthly, SUM(total_amt_usd) total \\\n",
    "FROM orders GROUP BY 1 ORDER BY 2 DESC;\"\n",
    ")"
   ]
  },
  {
   "cell_type": "code",
   "execution_count": 14,
   "id": "organic-density",
   "metadata": {},
   "outputs": [
    {
     "name": "stdout",
     "output_type": "stream",
     "text": [
      "Query ran for 0.0339055061340332 secs!\n"
     ]
    },
    {
     "data": {
      "image/png": "[encoded data removed]",
      "text/plain": [
       "<Figure size 432x288 with 1 Axes>"
      ]
     },
     "metadata": {
      "needs_background": "light"
     },
     "output_type": "display_data"
    }
   ],
   "source": [
    "x=query_to_df(\n",
    "\"SELECT EXTRACT(MONTH FROM occurred_at) sales_monthly, SUM(total_amt_usd) total \\\n",
    "FROM orders GROUP BY 1 ORDER BY 2 DESC;\"\n",
    ")\n",
    "# convert total from obj to float \n",
    "x.total = x.total.astype('float64')\n",
    "# set index to monthly sales\n",
    "x.set_index('sales_monthly').plot.bar(color='y')\n",
    "# add title and plot\n",
    "plt.title('Monthly Sales')\n",
    "plt.show()"
   ]
  },
  {
   "cell_type": "markdown",
   "id": "thorough-rapid",
   "metadata": {},
   "source": [
    "**C. Which year did Parch & Posey have the greatest sales in terms of total number of orders? Are all years evenly represented by the dataset?**"
   ]
  },
  {
   "cell_type": "code",
   "execution_count": 15,
   "id": "discrete-cathedral",
   "metadata": {},
   "outputs": [
    {
     "name": "stdout",
     "output_type": "stream",
     "text": [
      "Query ran for 0.014958858489990234 secs!\n"
     ]
    },
    {
     "data": {
      "text/html": [
       "<div>\n",
       "<style scoped>\n",
       "    .dataframe tbody tr th:only-of-type {\n",
       "        vertical-align: middle;\n",
       "    }\n",
       "\n",
       "    .dataframe tbody tr th {\n",
       "        vertical-align: top;\n",
       "    }\n",
       "\n",
       "    .dataframe thead th {\n",
       "        text-align: right;\n",
       "    }\n",
       "</style>\n",
       "<table border=\"1\" class=\"dataframe\">\n",
       "  <thead>\n",
       "    <tr style=\"text-align: right;\">\n",
       "      <th></th>\n",
       "      <th>order_year</th>\n",
       "      <th>total_orders</th>\n",
       "    </tr>\n",
       "  </thead>\n",
       "  <tbody>\n",
       "    <tr>\n",
       "      <th>0</th>\n",
       "      <td>2016</td>\n",
       "      <td>3757</td>\n",
       "    </tr>\n",
       "    <tr>\n",
       "      <th>1</th>\n",
       "      <td>2015</td>\n",
       "      <td>1725</td>\n",
       "    </tr>\n",
       "    <tr>\n",
       "      <th>2</th>\n",
       "      <td>2014</td>\n",
       "      <td>1306</td>\n",
       "    </tr>\n",
       "    <tr>\n",
       "      <th>3</th>\n",
       "      <td>2013</td>\n",
       "      <td>99</td>\n",
       "    </tr>\n",
       "    <tr>\n",
       "      <th>4</th>\n",
       "      <td>2017</td>\n",
       "      <td>25</td>\n",
       "    </tr>\n",
       "  </tbody>\n",
       "</table>\n",
       "</div>"
      ],
      "text/plain": [
       "   order_year  total_orders\n",
       "0        2016          3757\n",
       "1        2015          1725\n",
       "2        2014          1306\n",
       "3        2013            99\n",
       "4        2017            25"
      ]
     },
     "execution_count": 15,
     "metadata": {},
     "output_type": "execute_result"
    }
   ],
   "source": [
    "query_to_df(\n",
    "\"SELECT EXTRACT(YEAR FROM occurred_at) order_year, COUNT(*) total_orders FROM orders \\\n",
    "GROUP BY 1 ORDER BY 2 DESC;\"\n",
    ")"
   ]
  },
  {
   "cell_type": "code",
   "execution_count": 16,
   "id": "working-vietnamese",
   "metadata": {},
   "outputs": [
    {
     "name": "stdout",
     "output_type": "stream",
     "text": [
      "Query ran for 0.04345870018005371 secs!\n"
     ]
    },
    {
     "data": {
      "image/png": "[encoded data removed]",
      "text/plain": [
       "<Figure size 432x288 with 1 Axes>"
      ]
     },
     "metadata": {
      "needs_background": "light"
     },
     "output_type": "display_data"
    }
   ],
   "source": [
    "x=query_to_df(\n",
    "\"SELECT EXTRACT(YEAR FROM occurred_at) order_year, COUNT(*) total_orders FROM orders \\\n",
    "GROUP BY 1 ORDER BY 2 DESC;\"\n",
    ")\n",
    "# convert total from obj to float \n",
    "x.total_orders = x.total_orders.astype('float64')\n",
    "# set index to order_year\n",
    "x.set_index('order_year').plot.bar(color='r')\n",
    "# add title and plot\n",
    "plt.title('Yearly Orders')\n",
    "plt.show()"
   ]
  },
  {
   "cell_type": "markdown",
   "id": "addressed-broadcast",
   "metadata": {},
   "source": [
    "**D. Which month did Parch & Posey have the greatest sales in terms of total number of orders? Are all months evenly represented by the dataset?**"
   ]
  },
  {
   "cell_type": "code",
   "execution_count": 17,
   "id": "applied-graham",
   "metadata": {},
   "outputs": [
    {
     "name": "stdout",
     "output_type": "stream",
     "text": [
      "Query ran for 0.021939516067504883 secs!\n"
     ]
    },
    {
     "data": {
      "text/html": [
       "<div>\n",
       "<style scoped>\n",
       "    .dataframe tbody tr th:only-of-type {\n",
       "        vertical-align: middle;\n",
       "    }\n",
       "\n",
       "    .dataframe tbody tr th {\n",
       "        vertical-align: top;\n",
       "    }\n",
       "\n",
       "    .dataframe thead th {\n",
       "        text-align: right;\n",
       "    }\n",
       "</style>\n",
       "<table border=\"1\" class=\"dataframe\">\n",
       "  <thead>\n",
       "    <tr style=\"text-align: right;\">\n",
       "      <th></th>\n",
       "      <th>order_month</th>\n",
       "      <th>monthly_orders</th>\n",
       "    </tr>\n",
       "  </thead>\n",
       "  <tbody>\n",
       "    <tr>\n",
       "      <th>0</th>\n",
       "      <td>12</td>\n",
       "      <td>882</td>\n",
       "    </tr>\n",
       "    <tr>\n",
       "      <th>1</th>\n",
       "      <td>11</td>\n",
       "      <td>713</td>\n",
       "    </tr>\n",
       "    <tr>\n",
       "      <th>2</th>\n",
       "      <td>10</td>\n",
       "      <td>675</td>\n",
       "    </tr>\n",
       "    <tr>\n",
       "      <th>3</th>\n",
       "      <td>8</td>\n",
       "      <td>603</td>\n",
       "    </tr>\n",
       "    <tr>\n",
       "      <th>4</th>\n",
       "      <td>9</td>\n",
       "      <td>602</td>\n",
       "    </tr>\n",
       "    <tr>\n",
       "      <th>5</th>\n",
       "      <td>7</td>\n",
       "      <td>571</td>\n",
       "    </tr>\n",
       "    <tr>\n",
       "      <th>6</th>\n",
       "      <td>6</td>\n",
       "      <td>527</td>\n",
       "    </tr>\n",
       "    <tr>\n",
       "      <th>7</th>\n",
       "      <td>5</td>\n",
       "      <td>518</td>\n",
       "    </tr>\n",
       "    <tr>\n",
       "      <th>8</th>\n",
       "      <td>3</td>\n",
       "      <td>482</td>\n",
       "    </tr>\n",
       "    <tr>\n",
       "      <th>9</th>\n",
       "      <td>4</td>\n",
       "      <td>472</td>\n",
       "    </tr>\n",
       "    <tr>\n",
       "      <th>10</th>\n",
       "      <td>1</td>\n",
       "      <td>458</td>\n",
       "    </tr>\n",
       "    <tr>\n",
       "      <th>11</th>\n",
       "      <td>2</td>\n",
       "      <td>409</td>\n",
       "    </tr>\n",
       "  </tbody>\n",
       "</table>\n",
       "</div>"
      ],
      "text/plain": [
       "    order_month  monthly_orders\n",
       "0            12             882\n",
       "1            11             713\n",
       "2            10             675\n",
       "3             8             603\n",
       "4             9             602\n",
       "5             7             571\n",
       "6             6             527\n",
       "7             5             518\n",
       "8             3             482\n",
       "9             4             472\n",
       "10            1             458\n",
       "11            2             409"
      ]
     },
     "execution_count": 17,
     "metadata": {},
     "output_type": "execute_result"
    }
   ],
   "source": [
    "query_to_df(\n",
    "\"SELECT EXTRACT(MONTH FROM occurred_at) order_month, COUNT(*) monthly_orders FROM orders \\\n",
    "GROUP BY 1 ORDER BY 2 DESC;\"\n",
    ")"
   ]
  },
  {
   "cell_type": "code",
   "execution_count": 18,
   "id": "digital-webster",
   "metadata": {},
   "outputs": [
    {
     "name": "stdout",
     "output_type": "stream",
     "text": [
      "Query ran for 0.029918670654296875 secs!\n"
     ]
    },
    {
     "data": {
      "image/png": "[encoded data removed]",
      "text/plain": [
       "<Figure size 432x288 with 1 Axes>"
      ]
     },
     "metadata": {
      "needs_background": "light"
     },
     "output_type": "display_data"
    }
   ],
   "source": [
    "x=query_to_df(\n",
    "\"SELECT EXTRACT(MONTH FROM occurred_at) order_month, COUNT(*) monthly_orders FROM orders \\\n",
    "GROUP BY 1 ORDER BY 2 DESC;\"\n",
    ")\n",
    "# convert total from obj to float \n",
    "x.monthly_orders = x.monthly_orders.astype('float64')\n",
    "# set index to monthly orders\n",
    "x.set_index('order_month').plot.bar(color='pink')\n",
    "# add title and plot\n",
    "plt.title('Monthly Orders')\n",
    "plt.show()"
   ]
  },
  {
   "cell_type": "markdown",
   "id": "shaped-medication",
   "metadata": {},
   "source": [
    "**E. In which month of which year did Walmart spend the most on gloss paper in terms of dollars?**"
   ]
  },
  {
   "cell_type": "code",
   "execution_count": 19,
   "id": "offensive-coverage",
   "metadata": {},
   "outputs": [
    {
     "name": "stdout",
     "output_type": "stream",
     "text": [
      "Query ran for 0.007978677749633789 secs!\n"
     ]
    },
    {
     "data": {
      "text/html": [
       "<div>\n",
       "<style scoped>\n",
       "    .dataframe tbody tr th:only-of-type {\n",
       "        vertical-align: middle;\n",
       "    }\n",
       "\n",
       "    .dataframe tbody tr th {\n",
       "        vertical-align: top;\n",
       "    }\n",
       "\n",
       "    .dataframe thead th {\n",
       "        text-align: right;\n",
       "    }\n",
       "</style>\n",
       "<table border=\"1\" class=\"dataframe\">\n",
       "  <thead>\n",
       "    <tr style=\"text-align: right;\">\n",
       "      <th></th>\n",
       "      <th>yr_month</th>\n",
       "      <th>gloss_usd_amt</th>\n",
       "      <th>acct_name</th>\n",
       "    </tr>\n",
       "  </thead>\n",
       "  <tbody>\n",
       "    <tr>\n",
       "      <th>0</th>\n",
       "      <td>201605</td>\n",
       "      <td>9257.64</td>\n",
       "      <td>Walmart</td>\n",
       "    </tr>\n",
       "  </tbody>\n",
       "</table>\n",
       "</div>"
      ],
      "text/plain": [
       "   yr_month gloss_usd_amt acct_name\n",
       "0    201605       9257.64   Walmart"
      ]
     },
     "execution_count": 19,
     "metadata": {},
     "output_type": "execute_result"
    }
   ],
   "source": [
    "query_to_df(\n",
    "\"SELECT EXTRACT(YEAR_MONTH FROM o.occurred_at) yr_month, SUM(o.gloss_amt_usd) gloss_usd_amt, \\\n",
    "a.name acct_name FROM orders o JOIN accounts a ON a.id=o.account_id WHERE a.name LIKE '%Walmart' \\\n",
    "GROUP BY 1, 3 ORDER BY 2 DESC LIMIT 1;\"\n",
    ")"
   ]
  },
  {
   "cell_type": "code",
   "execution_count": 20,
   "id": "sixth-object",
   "metadata": {},
   "outputs": [
    {
     "name": "stdout",
     "output_type": "stream",
     "text": [
      "Query ran for 0.02593064308166504 secs!\n"
     ]
    },
    {
     "data": {
      "text/html": [
       "<div>\n",
       "<style scoped>\n",
       "    .dataframe tbody tr th:only-of-type {\n",
       "        vertical-align: middle;\n",
       "    }\n",
       "\n",
       "    .dataframe tbody tr th {\n",
       "        vertical-align: top;\n",
       "    }\n",
       "\n",
       "    .dataframe thead th {\n",
       "        text-align: right;\n",
       "    }\n",
       "</style>\n",
       "<table border=\"1\" class=\"dataframe\">\n",
       "  <thead>\n",
       "    <tr style=\"text-align: right;\">\n",
       "      <th></th>\n",
       "      <th>acct_name</th>\n",
       "      <th>year_mnth</th>\n",
       "      <th>gloss_spent</th>\n",
       "    </tr>\n",
       "  </thead>\n",
       "  <tbody>\n",
       "    <tr>\n",
       "      <th>0</th>\n",
       "      <td>Walmart</td>\n",
       "      <td>201605</td>\n",
       "      <td>9257.64</td>\n",
       "    </tr>\n",
       "  </tbody>\n",
       "</table>\n",
       "</div>"
      ],
      "text/plain": [
       "  acct_name  year_mnth gloss_spent\n",
       "0   Walmart     201605     9257.64"
      ]
     },
     "execution_count": 20,
     "metadata": {},
     "output_type": "execute_result"
    }
   ],
   "source": [
    "# Same Query using HAVING\n",
    "\n",
    "query_to_df(\n",
    "    \"SELECT a.name acct_name, EXTRACT(YEAR_MONTH FROM o.occurred_at) year_mnth, \\\n",
    "    SUM(o.gloss_amt_usd) gloss_spent FROM accounts a JOIN orders o ON a.id=o.account_id \\\n",
    "    GROUP BY 1, 2 HAVING acct_name LIKE '%Walmart' ORDER BY 3 DESC LIMIT 1;\"\n",
    ")"
   ]
  },
  {
   "cell_type": "markdown",
   "id": "foreign-scroll",
   "metadata": {},
   "source": [
    "## Case Statements\n",
    "\n",
    "Case statements are SQL's way of handling If-Then logic.\n",
    "\n",
    "We can create derived columns using `CASE` statements to answer interersting questions about the data. \n",
    "* The `CASE` statement is followed by at least one pair of `when` and `then` statements which are SQL's equivalent of If and Else statements.\n",
    "* The `CASE` statement must finish with the word `END`.\n",
    "* We can define a `CASE` statement with many `when`, `then` statements as we like.\n",
    "* Each `when` statement would evaluate in the pattern or format that it's written, one after another.\n",
    "* It's really best to create `when` statements that dont over lap.\n",
    "* We can add `AND` and `OR` to create finer conditions in the `when` statements.\n",
    "* The `CASE` clause allows us to count several different conditions at a time, unlike the `WHERE` clause which allows us count only one condition a time. For example...\n",
    "```\n",
    "SELECT CASE WHEN total > 500 THEN \"Over-500\" ELSE \"500-or-under\" \n",
    "END AS total_group, COUNT(*) as order_count FROM orders GROUP BY 1\n",
    "```\n",
    "* Finally we can combine `CASE` statements with aggregations to produce enhanced results."
   ]
  },
  {
   "cell_type": "code",
   "execution_count": 21,
   "id": "sharp-crazy",
   "metadata": {},
   "outputs": [
    {
     "name": "stdout",
     "output_type": "stream",
     "text": [
      "Query ran for 0.015958070755004883 secs!\n"
     ]
    },
    {
     "data": {
      "text/html": [
       "<div>\n",
       "<style scoped>\n",
       "    .dataframe tbody tr th:only-of-type {\n",
       "        vertical-align: middle;\n",
       "    }\n",
       "\n",
       "    .dataframe tbody tr th {\n",
       "        vertical-align: top;\n",
       "    }\n",
       "\n",
       "    .dataframe thead th {\n",
       "        text-align: right;\n",
       "    }\n",
       "</style>\n",
       "<table border=\"1\" class=\"dataframe\">\n",
       "  <thead>\n",
       "    <tr style=\"text-align: right;\">\n",
       "      <th></th>\n",
       "      <th>total_group</th>\n",
       "      <th>order_count</th>\n",
       "    </tr>\n",
       "  </thead>\n",
       "  <tbody>\n",
       "    <tr>\n",
       "      <th>0</th>\n",
       "      <td>500-or-under</td>\n",
       "      <td>3716</td>\n",
       "    </tr>\n",
       "    <tr>\n",
       "      <th>1</th>\n",
       "      <td>Over-500</td>\n",
       "      <td>3196</td>\n",
       "    </tr>\n",
       "  </tbody>\n",
       "</table>\n",
       "</div>"
      ],
      "text/plain": [
       "    total_group  order_count\n",
       "0  500-or-under         3716\n",
       "1      Over-500         3196"
      ]
     },
     "execution_count": 21,
     "metadata": {},
     "output_type": "execute_result"
    }
   ],
   "source": [
    "query_to_df(\n",
    "'SELECT CASE WHEN total > 500 THEN \"Over-500\" ELSE \"500-or-under\" \\\n",
    "END AS total_group, COUNT(*) as order_count FROM orders GROUP BY 1;'\n",
    ")"
   ]
  },
  {
   "cell_type": "markdown",
   "id": "wireless-magnitude",
   "metadata": {},
   "source": [
    "### CASE - Expert Tip\n",
    "* The `CASE` statement always goes in the `SELECT` clause.\n",
    "\n",
    "* `CASE` must include the following components: `WHEN`, `THEN`, and `END`. `ELSE` is an optional component to catch cases that didn’t meet any of the other previous CASE conditions.\n",
    "\n",
    "* You can make any conditional statement using any conditional operator (like `WHERE`) `between` `WHEN` and `THEN`. This includes stringing together multiple conditional statements using `AND` and `OR`.\n",
    "\n",
    "* You can include multiple `WHEN` statements, as well as an `ELSE` statement again, to deal with any unaddressed conditions."
   ]
  },
  {
   "cell_type": "markdown",
   "id": "respected-closing",
   "metadata": {},
   "source": [
    "### Example\n",
    "In a quiz question in the previous Basic SQL lesson, you saw this question:\n",
    "\n",
    "Create a column that divides the standard_amt_usd by the standard_qty to find the unit price for standard paper for each order. Limit the results to the first 10 orders, and include the id and account_id fields. NOTE - you will be thrown an error with the correct solution to this question. This is for a division by zero. You will learn how to get a solution without an error to this query when you learn about CASE statements in a later section.\n",
    "\n",
    "Let's see how we can use the CASE statement to get around this error.\n",
    "\n",
    "```\n",
    "SELECT id, account_id, standard_amt_usd/standard_qty AS unit_price\n",
    "FROM orders\n",
    "LIMIT 10;\n",
    "```\n",
    "Above is the old solution we did before, let's use `CASE` below...\n",
    "```\n",
    "SELECT account_id, CASE WHEN standard_qty = 0 OR standard_qty IS NULL THEN 0\n",
    "                        ELSE standard_amt_usd/standard_qty END AS unit_price\n",
    "FROM orders\n",
    "LIMIT 10;\n",
    "```\n",
    "Now the first part of the statement will catch any of those division by zero values that were causing the error, and the other components will compute the division as necessary"
   ]
  },
  {
   "cell_type": "code",
   "execution_count": 22,
   "id": "traditional-smile",
   "metadata": {},
   "outputs": [
    {
     "name": "stdout",
     "output_type": "stream",
     "text": [
      "Query ran for 0.000997781753540039 secs!\n"
     ]
    },
    {
     "data": {
      "text/html": [
       "<div>\n",
       "<style scoped>\n",
       "    .dataframe tbody tr th:only-of-type {\n",
       "        vertical-align: middle;\n",
       "    }\n",
       "\n",
       "    .dataframe tbody tr th {\n",
       "        vertical-align: top;\n",
       "    }\n",
       "\n",
       "    .dataframe thead th {\n",
       "        text-align: right;\n",
       "    }\n",
       "</style>\n",
       "<table border=\"1\" class=\"dataframe\">\n",
       "  <thead>\n",
       "    <tr style=\"text-align: right;\">\n",
       "      <th></th>\n",
       "      <th>unit_price</th>\n",
       "    </tr>\n",
       "  </thead>\n",
       "  <tbody>\n",
       "    <tr>\n",
       "      <th>0</th>\n",
       "      <td>4.990000</td>\n",
       "    </tr>\n",
       "  </tbody>\n",
       "</table>\n",
       "</div>"
      ],
      "text/plain": [
       "  unit_price\n",
       "0   4.990000"
      ]
     },
     "execution_count": 22,
     "metadata": {},
     "output_type": "execute_result"
    }
   ],
   "source": [
    "query_to_df(\n",
    "    'SELECT CASE WHEN standard_qty=0 OR standard_qty IS NULL THEN 0 \\\n",
    "    ELSE standard_amt_usd/standard_qty END AS unit_price FROM orders LIMIT 1;'\n",
    ")"
   ]
  },
  {
   "cell_type": "markdown",
   "id": "missing-equality",
   "metadata": {},
   "source": [
    "## Case and Aggregations\n",
    "\n",
    "There are some advantages to separating data into separate columns like this depending on what you want to do, but often this level of separation might be easier to do in another programming language - rather than with SQL.\n",
    "\n",
    "### Questions: CASE"
   ]
  },
  {
   "cell_type": "markdown",
   "id": "composite-preliminary",
   "metadata": {},
   "source": [
    "**A. Write a query to display for each order, the account ID, total amount of the order, and the level of the order - `Large` or `Small` - depending on if the order is `$3000` or more, or smaller than `$3000`.**"
   ]
  },
  {
   "cell_type": "code",
   "execution_count": 35,
   "id": "enabling-nightlife",
   "metadata": {},
   "outputs": [
    {
     "name": "stdout",
     "output_type": "stream",
     "text": [
      "Query ran for 0.020942211151123047 secs!\n"
     ]
    },
    {
     "data": {
      "text/html": [
       "<div>\n",
       "<style scoped>\n",
       "    .dataframe tbody tr th:only-of-type {\n",
       "        vertical-align: middle;\n",
       "    }\n",
       "\n",
       "    .dataframe tbody tr th {\n",
       "        vertical-align: top;\n",
       "    }\n",
       "\n",
       "    .dataframe thead th {\n",
       "        text-align: right;\n",
       "    }\n",
       "</style>\n",
       "<table border=\"1\" class=\"dataframe\">\n",
       "  <thead>\n",
       "    <tr style=\"text-align: right;\">\n",
       "      <th></th>\n",
       "      <th>acct_id</th>\n",
       "      <th>total_sum</th>\n",
       "      <th>level</th>\n",
       "    </tr>\n",
       "  </thead>\n",
       "  <tbody>\n",
       "    <tr>\n",
       "      <th>0</th>\n",
       "      <td>1001</td>\n",
       "      <td>973.43</td>\n",
       "      <td>Small</td>\n",
       "    </tr>\n",
       "    <tr>\n",
       "      <th>1</th>\n",
       "      <td>1001</td>\n",
       "      <td>1718.03</td>\n",
       "      <td>Small</td>\n",
       "    </tr>\n",
       "    <tr>\n",
       "      <th>2</th>\n",
       "      <td>1001</td>\n",
       "      <td>776.18</td>\n",
       "      <td>Small</td>\n",
       "    </tr>\n",
       "    <tr>\n",
       "      <th>3</th>\n",
       "      <td>1001</td>\n",
       "      <td>958.24</td>\n",
       "      <td>Small</td>\n",
       "    </tr>\n",
       "    <tr>\n",
       "      <th>4</th>\n",
       "      <td>1001</td>\n",
       "      <td>983.49</td>\n",
       "      <td>Small</td>\n",
       "    </tr>\n",
       "    <tr>\n",
       "      <th>5</th>\n",
       "      <td>1001</td>\n",
       "      <td>1067.25</td>\n",
       "      <td>Small</td>\n",
       "    </tr>\n",
       "    <tr>\n",
       "      <th>6</th>\n",
       "      <td>1001</td>\n",
       "      <td>1498.20</td>\n",
       "      <td>Small</td>\n",
       "    </tr>\n",
       "    <tr>\n",
       "      <th>7</th>\n",
       "      <td>1001</td>\n",
       "      <td>2052.20</td>\n",
       "      <td>Small</td>\n",
       "    </tr>\n",
       "    <tr>\n",
       "      <th>8</th>\n",
       "      <td>1001</td>\n",
       "      <td>752.57</td>\n",
       "      <td>Small</td>\n",
       "    </tr>\n",
       "    <tr>\n",
       "      <th>9</th>\n",
       "      <td>1001</td>\n",
       "      <td>878.56</td>\n",
       "      <td>Small</td>\n",
       "    </tr>\n",
       "  </tbody>\n",
       "</table>\n",
       "</div>"
      ],
      "text/plain": [
       "   acct_id total_sum  level\n",
       "0     1001    973.43  Small\n",
       "1     1001   1718.03  Small\n",
       "2     1001    776.18  Small\n",
       "3     1001    958.24  Small\n",
       "4     1001    983.49  Small\n",
       "5     1001   1067.25  Small\n",
       "6     1001   1498.20  Small\n",
       "7     1001   2052.20  Small\n",
       "8     1001    752.57  Small\n",
       "9     1001    878.56  Small"
      ]
     },
     "execution_count": 35,
     "metadata": {},
     "output_type": "execute_result"
    }
   ],
   "source": [
    "query_to_df(\n",
    "\"SELECT account_id acct_id, total_amt_usd total_sum, CASE WHEN total_amt_usd>=3000 THEN 'Large' \\\n",
    "ELSE 'Small' END AS level FROM orders LIMIT 10;\"\n",
    ")"
   ]
  },
  {
   "cell_type": "code",
   "execution_count": 36,
   "id": "removable-guest",
   "metadata": {},
   "outputs": [
    {
     "name": "stdout",
     "output_type": "stream",
     "text": [
      "Terminating Connection to MySQL Database: ('parch_and_posey',)\n"
     ]
    }
   ],
   "source": [
    "# Terminate connection at end of notebook\n",
    "\n",
    "if connection.is_connected():\n",
    "    cursor.close()\n",
    "    connection.close()\n",
    "    print(f'Terminating Connection to MySQL Database: {record}')"
   ]
  }
 ],
 "metadata": {
  "kernelspec": {
   "display_name": "Python 3",
   "language": "python",
   "name": "python3"
  },
  "language_info": {
   "codemirror_mode": {
    "name": "ipython",
    "version": 3
   },
   "file_extension": ".py",
   "mimetype": "text/x-python",
   "name": "python",
   "nbconvert_exporter": "python",
   "pygments_lexer": "ipython3",
   "version": "3.8.5"
  }
 },
 "nbformat": 4,
 "nbformat_minor": 5
}
