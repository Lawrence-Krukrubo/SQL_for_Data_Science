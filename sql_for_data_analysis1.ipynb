{
 "cells": [
  {
   "cell_type": "markdown",
   "metadata": {
    "colab_type": "text",
    "id": "view-in-github"
   },
   "source": [
    "<a href=\"https://colab.research.google.com/github/Lawrence-Krukrubo/SQL_for_Data_Science/blob/main/sql_for_data_analysis1.ipynb\" target=\"_parent\"><img src=\"https://colab.research.google.com/assets/colab-badge.svg\" alt=\"Open In Colab\"/></a>"
   ]
  },
  {
   "cell_type": "markdown",
   "metadata": {
    "id": "rs28nkD03bJD"
   },
   "source": [
    "<b><h1>Welcome To SQL Basics...</h1></b>"
   ]
  },
  {
   "cell_type": "markdown",
   "metadata": {
    "id": "Q446yarrPy1_"
   },
   "source": [
    "We connect to MySQL server and workbench and make analysis with the parch-and-posey database.<br>\n",
    "This course is the practicals of the course **SQL for Data Analysis at Udacity**"
   ]
  },
  {
   "cell_type": "code",
   "execution_count": null,
   "metadata": {
    "colab": {
     "base_uri": "https://localhost:8080/"
    },
    "id": "edyRBaU7fl0x",
    "outputId": "575c3e42-7c3b-43d6-d789-584d414613eb"
   },
   "outputs": [],
   "source": [
    "# First we install mysql-connector for python\n",
    "!pip install mysql-connector-python"
   ]
  },
  {
   "cell_type": "code",
   "execution_count": null,
   "metadata": {
    "id": "N-0tEY-HZtFQ"
   },
   "outputs": [],
   "source": [
    "# we import some required libraries\n",
    "import pandas as pd\n",
    "import numpy as np\n",
    "import matplotlib.pyplot as plt\n",
    "import seaborn as sns\n",
    "from pprint import pprint\n",
    "import time\n",
    "print('Done!')"
   ]
  },
  {
   "cell_type": "markdown",
   "metadata": {},
   "source": [
    "## Parch-and-Posey DataBase Entity Relationship Diagram Schema"
   ]
  },
  {
   "cell_type": "markdown",
   "metadata": {},
   "source": [
    "<img src='https://video.udacity-data.com/topher/2017/October/59e946e7_erd/erd.png' height=400 weidth=400>"
   ]
  },
  {
   "cell_type": "markdown",
   "metadata": {},
   "source": [
    "**Next, we create a connection to the parch-and-posey DataBase in MySQL Work-Bench**"
   ]
  },
  {
   "cell_type": "code",
   "execution_count": null,
   "metadata": {
    "colab": {
     "base_uri": "https://localhost:8080/"
    },
    "id": "Z7pjdj0bZ29i",
    "outputId": "f2c1880f-a5b7-42bc-c51c-ec6e9e4f35cf"
   },
   "outputs": [],
   "source": [
    "import mysql\n",
    "from mysql.connector import Error\n",
    "from getpass import getpass\n",
    "\n",
    "try:\n",
    "    connection = mysql.connector.connect(host='localhost',\n",
    "                                         database='parch_and_posey',\n",
    "                                         user=input('Enter UserName:'),\n",
    "                                         password=getpass('Enter Password:'))\n",
    "    if connection.is_connected():\n",
    "        db_Info = connection.get_server_info()\n",
    "        print(\"Connected to MySQL Server version \", db_Info)\n",
    "        cursor = connection.cursor()\n",
    "        cursor.execute(\"select database();\")\n",
    "        record = cursor.fetchone()\n",
    "        print(\"You're connected to database: \", record)\n",
    "\n",
    "except Error as e:\n",
    "    print(\"Error while connecting to MySQL\", e)"
   ]
  },
  {
   "cell_type": "markdown",
   "metadata": {},
   "source": [
    "**Let's see the tables in parch-and-posey database**"
   ]
  },
  {
   "cell_type": "code",
   "execution_count": null,
   "metadata": {
    "colab": {
     "base_uri": "https://localhost:8080/"
    },
    "id": "KaJk63zKcGUP",
    "outputId": "15628df0-06ae-47b4-d534-686caf2c3953"
   },
   "outputs": [],
   "source": [
    "# let's run the show tables command \n",
    "\n",
    "cursor.execute('show tables')\n",
    "out = cursor.fetchall()\n",
    "out"
   ]
  },
  {
   "cell_type": "markdown",
   "metadata": {
    "id": "tBDkCWhU_TFW"
   },
   "source": [
    "**Defining a method that converts the result of each query to a data frame**"
   ]
  },
  {
   "cell_type": "code",
   "execution_count": null,
   "metadata": {
    "id": "15rpaWm35Zm0"
   },
   "outputs": [],
   "source": [
    "def query_to_df(query):\n",
    "    st = time.time()\n",
    "    # Assert Every Query ends with a semi-colon\n",
    "    try:\n",
    "        assert query.endswith(';')\n",
    "    except AssertionError:\n",
    "        return 'ERROR: Query Must End with ;'\n",
    "\n",
    "    # so we never have more than 20 rows displayed\n",
    "    pd.set_option('display.max_rows', 20) \n",
    "    df = None\n",
    "\n",
    "    # Process the query\n",
    "    cursor.execute(query)\n",
    "    columns = cursor.description\n",
    "    result = []\n",
    "    for value in cursor.fetchall():\n",
    "        tmp = {}\n",
    "        for (index,column) in enumerate(value):\n",
    "            tmp[columns[index][0]] = [column]\n",
    "        result.append(tmp)\n",
    "\n",
    "    # Create a DataFrame from all results\n",
    "    for ind, data in enumerate(result):\n",
    "        if ind >= 1:\n",
    "            x = pd.DataFrame(data)\n",
    "            df = pd.concat([df, x], ignore_index=True)\n",
    "        else:\n",
    "            df = pd.DataFrame(data)\n",
    "    print(f'Query ran for {time.time()-st} secs!')\n",
    "    return df"
   ]
  },
  {
   "cell_type": "markdown",
   "metadata": {
    "id": "xtdPSUSPg8eC"
   },
   "source": [
    "**Let's see the first 3 data of the different tables in parch and posey database**"
   ]
  },
  {
   "cell_type": "code",
   "execution_count": null,
   "metadata": {
    "colab": {
     "base_uri": "https://localhost:8080/",
     "height": 153
    },
    "id": "-VmFnaIviM8I",
    "outputId": "bcc3f003-c3bd-45f7-91ab-33db75c7f356"
   },
   "outputs": [],
   "source": [
    "# 1. For the accounts table\n",
    "\n",
    "query = 'SELECT * FROM accounts LIMIT 3;'\n",
    "query_to_df(query)"
   ]
  },
  {
   "cell_type": "code",
   "execution_count": null,
   "metadata": {
    "colab": {
     "base_uri": "https://localhost:8080/",
     "height": 153
    },
    "id": "GEhD_s9Gwed0",
    "outputId": "59361e8f-088a-470e-8f2b-e76bf7e3b8b1"
   },
   "outputs": [],
   "source": [
    "# 2. For the orders table\n",
    "\n",
    "query = 'SELECT * FROM orders LIMIT 3;'\n",
    "query_to_df(query)"
   ]
  },
  {
   "cell_type": "code",
   "execution_count": null,
   "metadata": {
    "colab": {
     "base_uri": "https://localhost:8080/",
     "height": 153
    },
    "id": "BB2qcN52wwqg",
    "outputId": "d6a45b6c-53cd-4ba4-e8c1-1e6b5fc30f46"
   },
   "outputs": [],
   "source": [
    "# 3. For the region table\n",
    "\n",
    "query = 'SELECT * FROM region LIMIT 3;'\n",
    "query_to_df(query)"
   ]
  },
  {
   "cell_type": "code",
   "execution_count": null,
   "metadata": {
    "colab": {
     "base_uri": "https://localhost:8080/",
     "height": 153
    },
    "id": "No1ngBEgw6ln",
    "outputId": "7e851f11-8a54-4615-ac3c-6f5bef731421"
   },
   "outputs": [],
   "source": [
    "# 4. For the sales_reps table\n",
    "\n",
    "query = 'SELECT * FROM sales_reps LIMIT 3;'\n",
    "query_to_df(query)"
   ]
  },
  {
   "cell_type": "code",
   "execution_count": null,
   "metadata": {
    "colab": {
     "base_uri": "https://localhost:8080/",
     "height": 153
    },
    "id": "w2lt2qutxEgg",
    "outputId": "6a4ee82b-852b-434b-c82b-7494cdbf0525"
   },
   "outputs": [],
   "source": [
    "# 5. For the web_events table\n",
    "\n",
    "query = 'SELECT * FROM web_events LIMIT 3;'\n",
    "query_to_df(query)"
   ]
  },
  {
   "cell_type": "code",
   "execution_count": null,
   "metadata": {
    "colab": {
     "base_uri": "https://localhost:8080/"
    },
    "id": "6vf7xehlyn39",
    "outputId": "23bf2296-6603-4932-85ff-8e1ef3583ac3"
   },
   "outputs": [],
   "source": [
    "# let's close the cursor connection after running these queries\n",
    "cursor.close()"
   ]
  },
  {
   "cell_type": "markdown",
   "metadata": {
    "id": "OFNmTxK22_o1"
   },
   "source": [
    "The SQL language has a few different elements. The most basic of which is the `statement`. Think of a statement as a piece of correctly written SQL codes. Statements tell the database what you'd like to do with the data.<br>For example `drop`, `create`, `alter` and so on. The most common tho is the `select` statement, which allows us to read data and display em. `Select` statements are commonly referrred to as queries.<br>\n",
    "Both the `select` and `from` clauses are mandatory, included in any query.\n",
    "\n",
    "The `SELECT` statement is where you put the columns for which you would like to show the data. The `FROM` statement is where you put the tables from which you would like to pull data."
   ]
  },
  {
   "cell_type": "code",
   "execution_count": null,
   "metadata": {
    "id": "_vWpXoOH51lI"
   },
   "outputs": [],
   "source": [
    "# We closed the cursor connection above, so we reopen it first\n",
    "cursor = connection.cursor()"
   ]
  },
  {
   "cell_type": "markdown",
   "metadata": {
    "id": "WKyuKDrmGrtB"
   },
   "source": [
    "Now let's select 10 rows from just a few columns from the orders table"
   ]
  },
  {
   "cell_type": "code",
   "execution_count": null,
   "metadata": {
    "colab": {
     "base_uri": "https://localhost:8080/",
     "height": 360
    },
    "id": "ikHS2dQvGyIy",
    "outputId": "f391385d-1cba-4230-b183-757d20a1bc63"
   },
   "outputs": [],
   "source": [
    "query = 'SELECT id, account_id, occurred_at FROM orders LIMIT 10;'\n",
    "query_to_df(query)"
   ]
  },
  {
   "cell_type": "markdown",
   "metadata": {
    "id": "xGCgDKM1KIhX"
   },
   "source": [
    "<h3>Formatting Best Practices..</h3>\n",
    "\n",
    "1. **Using Upper and Lower Case in SQL:**<br>\n",
    "SQL queries can be run successfully whether characters are written in upper- or lower-case. In other words, SQL queries are not case-sensitive\n",
    "\n",
    "2. **Capitalizing SQL Clauses:**<br>It is common and best practice to capitalize all SQL commands, like `SELECT` and `FROM`, and keep everything else in your query lower case. Capitalizing command words makes queries easier to read, which will matter more as you write more complex queries.\n",
    "\n",
    "3. **One other note:**<BR> The text data stored in SQL tables can be either upper or lower case, and SQL is case-sensitive in regard to this text data.\n",
    "\n",
    "4. **Avoid Spaces in Table and Variable Names:**<br>\n",
    "It is common to use underscores and avoid spaces in column names. It is a bit annoying to work with spaces in SQL. In Postgres if you have spaces in column or table names, you need to refer to these columns/tables with double quotes around them (Ex: `FROM \"Table Name\"` as opposed to `FROM table_name`). In other environments, you might see this as square brackets instead (Ex: `FROM [Table Name]`).\n",
    "\n",
    "5. **Use White Space in Queries:**<br>\n",
    "SQL queries ignore spaces, so you can add as many spaces and blank lines between code as you want, and the queries are the same. But pls use with decorum.\n",
    "\n",
    "6. **Semicolons:**<br>\n",
    "Depending on your SQL environment, your query may need a semicolon at the end to execute. Other environments are more flexible in terms of this being a \"requirement.\" It is considered best practice to put a semicolon at the end of each statement, which also allows you to run multiple queries at once if your environment allows this."
   ]
  },
  {
   "cell_type": "markdown",
   "metadata": {
    "id": "iVVZG2inOLif"
   },
   "source": [
    "**The LIMIT clause**\n",
    "\n",
    "* The `LIMIT` command is always the very last part of a query."
   ]
  },
  {
   "cell_type": "markdown",
   "metadata": {
    "id": "9RPA2aTvP8UF"
   },
   "source": [
    "**The ORDER BY Clause**\n",
    "\n",
    "* The `ORDER BY` statement allows us to sort our results using the data in any column. \n",
    "* Using `ORDER BY` in a SQL query only has temporary effects, for the results of that query, unlike sorting a sheet by column in Excel or Sheets.\n",
    "* The `ORDER BY` statement always comes in a query after the `SELECT` and `FROM` statements, but before the `LIMIT` statement. If you are using the `LIMIT` statement, it will always appear last.\n",
    "* Remember **DESC** can be added after the column in your `ORDER BY` statement to sort in descending order, as the default is to sort in ascending order."
   ]
  },
  {
   "cell_type": "markdown",
   "metadata": {
    "id": "926wZTCWKnC7"
   },
   "source": [
    "Write a query to return the 10 earliest orders in the orders table. Include the `id`, `occurred_at`, and `total_amt_usd` columns."
   ]
  },
  {
   "cell_type": "code",
   "execution_count": null,
   "metadata": {
    "colab": {
     "base_uri": "https://localhost:8080/",
     "height": 360
    },
    "id": "HTlZ5wu2KO-N",
    "outputId": "2864f233-fc4e-446a-8cb8-d8495f48c1bb"
   },
   "outputs": [],
   "source": [
    "query = 'SELECT id, occurred_at, total_amt_usd FROM orders \\\n",
    "        ORDER BY occurred_at LIMIT 10;'\n",
    "query_to_df(query)"
   ]
  },
  {
   "cell_type": "markdown",
   "metadata": {
    "id": "P1lIBpQWKMWT"
   },
   "source": [
    "Write a query to return the top 5 orders in terms of largest `total_amt_usd`. Include the `id`, `account_id`, and `total_amt_usd`."
   ]
  },
  {
   "cell_type": "code",
   "execution_count": null,
   "metadata": {
    "colab": {
     "base_uri": "https://localhost:8080/",
     "height": 212
    },
    "id": "MBvQu2W9Se6F",
    "outputId": "3b08f30f-da75-4a4d-f3a9-996443a063d8"
   },
   "outputs": [],
   "source": [
    "query = 'SELECT id, account_id, total_amt_usd FROM orders \\\n",
    "        ORDER BY total_amt_usd DESC LIMIT 5;'\n",
    "query_to_df(query)"
   ]
  },
  {
   "cell_type": "markdown",
   "metadata": {
    "id": "L2lX8FY3DZZE"
   },
   "source": [
    "Write a query to return the lowest 20 orders in terms of smallest `total_amt_usd`. <br>Include the `id`, `account_id`, and `total_amt_usd`."
   ]
  },
  {
   "cell_type": "code",
   "execution_count": null,
   "metadata": {
    "colab": {
     "base_uri": "https://localhost:8080/",
     "height": 656
    },
    "id": "Q2dD9V4pTp4X",
    "outputId": "fb76b841-841a-42cf-e666-5ee7cc833e9f"
   },
   "outputs": [],
   "source": [
    "query = 'SELECT id, account_id, total_amt_usd FROM orders ORDER \\\n",
    "        BY total_amt_usd LIMIT 20;'\n",
    "query_to_df(query)"
   ]
  },
  {
   "cell_type": "markdown",
   "metadata": {
    "id": "RlD1UUVRBnpI"
   },
   "source": [
    "**The ORDER BY 2 Clause**\n",
    "\n",
    "* We can `ORDER BY` more than one column at a time\n",
    "* When you provide a list of columns in an `ORDER BY` command, the sorting occurs using the leftmost column in your list first, then the next column from the left, and so on.\n",
    "* We still have the ability to flip the way we order using `DESC`."
   ]
  },
  {
   "cell_type": "markdown",
   "metadata": {
    "id": "isKfxUjJC8HZ"
   },
   "source": [
    "Write a query that displays the order `ID`, `account ID`, and `total dollar amount` for all the orders, <br>sorted first by the `account ID` (in ascending order), and then by the `total dollar amount` (in descending order).\n"
   ]
  },
  {
   "cell_type": "code",
   "execution_count": null,
   "metadata": {
    "colab": {
     "base_uri": "https://localhost:8080/",
     "height": 418
    },
    "id": "DL37QUJ7D_o6",
    "outputId": "5235afc5-49c6-45e3-fa54-031fc8e3da55"
   },
   "outputs": [],
   "source": [
    "query = 'SELECT id, account_id, total_amt_usd FROM orders \\\n",
    "        ORDER BY account_id, total_amt_usd DESC;'\n",
    "query_to_df(query)"
   ]
  },
  {
   "cell_type": "markdown",
   "metadata": {
    "id": "I2peHuRaMRT6"
   },
   "source": [
    "Now write a query that again displays `order ID`, `account ID`, and `total dollar amount` for each order, but this time sorted first by `total dollar amount` (in descending order), and then by `account ID` (in ascending order)."
   ]
  },
  {
   "cell_type": "code",
   "execution_count": null,
   "metadata": {
    "colab": {
     "base_uri": "https://localhost:8080/",
     "height": 418
    },
    "id": "HKHzzWKOD_gB",
    "outputId": "0ed6d93b-7cca-4aca-ff74-20d6999bcfb7"
   },
   "outputs": [],
   "source": [
    "query = 'SELECT id, account_id, total_amt_usd FROM orders \\\n",
    "        ORDER BY total_amt_usd DESC, account_id;'\n",
    "query_to_df(query)"
   ]
  },
  {
   "cell_type": "markdown",
   "metadata": {
    "id": "Yyhc87EaNpBl"
   },
   "source": [
    "Compare the results of these two queries above. How are the results different when you switch the column you sort on first?\n",
    "\n",
    "**Ans:** \n",
    "* For the first query, order by account_id first ensures that each account_id ascends from lowest to highest. And for each account_id, the total_amt_usd is decreasing from highest to lowest.\n",
    "* For the second query where we sort by total_amt_usd DESC first, the query is sorted by the observations with the highest total_amt_usd first, and the account_id next. Now if each account_id has multiple total_amt_usd, then these would be sorted by total_amt_usd Desc first.\n",
    "* In query #1, all of the orders for each account ID are grouped together, and then within each of those groupings, the orders appear from the greatest order amount to the least. \n",
    "* In query #2, since you sorted by the total dollar amount first, the orders appear from greatest to least regardless of which account ID they were from. Then they are sorted by account ID next. (The secondary sorting by account ID is difficult to see here, since only if there were two orders with equal total dollar amounts would there need to be any sorting by account ID.)\n",
    "\n"
   ]
  },
  {
   "cell_type": "markdown",
   "metadata": {
    "id": "P1M3QufHV_CB"
   },
   "source": [
    "**The WHERE Clause:**\n",
    "\n",
    "* Using the `WHERE` statement, we can display subsets of tables based on conditions that must be met. You can also think of the `WHERE` command as filtering the data.\n",
    "* The `WHERE` clause goes after `FROM`, but before `ORDER BY` or `LIMIT`\n",
    "* Common symbols used in `WHERE` statements include:\n",
    "** $>$ (greater than)\n",
    "** $<$ (less than)\n",
    "** $>=$ (greater than or equal to)\n",
    "** $<=$ (less than or equal to)\n",
    "** $=$ (equal to)\n",
    "** $!=$ (not equal to)"
   ]
  },
  {
   "cell_type": "markdown",
   "metadata": {
    "id": "JGZ7LOge5mzF"
   },
   "source": [
    "Write a query that:\n",
    "\n",
    "Pulls the first 5 rows and all columns from the orders table that have a dollar amount of gloss_amt_usd greater than or equal to 1000."
   ]
  },
  {
   "cell_type": "code",
   "execution_count": null,
   "metadata": {
    "colab": {
     "base_uri": "https://localhost:8080/",
     "height": 212
    },
    "id": "tn9uGy2CD_ap",
    "outputId": "e269fc5b-3bc3-4660-c447-4ff8fd789eda"
   },
   "outputs": [],
   "source": [
    "query = 'SELECT * FROM orders WHERE gloss_amt_usd >= 1000 LIMIT 5;'\n",
    "query_to_df(query)"
   ]
  },
  {
   "cell_type": "markdown",
   "metadata": {
    "id": "c94Rj-Vh6qTR"
   },
   "source": [
    "Pulls the first 10 rows and all columns from the orders table that have a total_amt_usd less than 500."
   ]
  },
  {
   "cell_type": "code",
   "execution_count": null,
   "metadata": {
    "colab": {
     "base_uri": "https://localhost:8080/",
     "height": 360
    },
    "id": "WVn-Ql1n7GCb",
    "outputId": "b5123224-4837-4e83-d25d-c7f7588a81fd"
   },
   "outputs": [],
   "source": [
    "query = 'SELECT * FROM orders WHERE total_amt_usd < 500  LIMIT 10;'\n",
    "query_to_df(query)"
   ]
  },
  {
   "cell_type": "markdown",
   "metadata": {
    "id": "hGMVA7WM8XQf"
   },
   "source": [
    "**WHERE Clause contd...**\n",
    "\n",
    "The `WHERE` statement can also be used with non-numeric data. We can use the = and != operators here. You need to be sure to use single quotes (just be careful if you have quotes in the original text) with the text data, not double quotes.\n",
    "\n",
    "Commonly when we are using `WHERE` with non-numeric data fields, we use the `LIKE`, `NOT`, or `IN` operators. "
   ]
  },
  {
   "cell_type": "markdown",
   "metadata": {
    "id": "C4FE4B1d81f6"
   },
   "source": [
    "Filter the accounts table to include the company name, website, and the primary point of contact (primary_poc) just for the Exxon Mobil company in the accounts table."
   ]
  },
  {
   "cell_type": "code",
   "execution_count": null,
   "metadata": {
    "colab": {
     "base_uri": "https://localhost:8080/",
     "height": 94
    },
    "id": "qh2T8n8W88C2",
    "outputId": "6935f718-56cc-42d9-8ccc-7c796276a3c0"
   },
   "outputs": [],
   "source": [
    "query = \"SELECT name, website, primary_poc FROM accounts WHERE name = 'Exxon Mobil';\"\n",
    "query_to_df(query)"
   ]
  },
  {
   "cell_type": "markdown",
   "metadata": {
    "id": "hhBkzU1k-Fe5"
   },
   "source": [
    "Note: If you received an error message when executing your query, remember that SQL requires single-quotes, not double-quotes, around text values like 'Exxon Mobil.'"
   ]
  },
  {
   "cell_type": "markdown",
   "metadata": {
    "id": "Nt9UCT7P-wpx"
   },
   "source": [
    "**Derived Columns:**\n",
    "\n",
    "* Creating a new column that is a combination of existing columns is known as a derived column (or \"calculated\" or \"computed\" column). Usually you want to give a name, or \"alias,\" to your new column using the `AS` keyword.\n",
    "* This derived column, and its alias, are generally only temporary, existing just for the duration of your query. The next time you run a query and access this table, the new column will not be there.\n",
    "* **Order of Operations**<br>\n",
    "Remember **PEMDAS** from math class to help remember the order of operations? The same order of operations applies when using arithmetic operators in SQL.\n",
    "\n",
    "The following two statements have very different end results:\n",
    "\n",
    "* Standard_qty / standard_qty + gloss_qty + poster_qty\n",
    "* standard_qty / (standard_qty + gloss_qty + poster_qty)"
   ]
  },
  {
   "cell_type": "markdown",
   "metadata": {
    "id": "hYmEbK7V_1t6"
   },
   "source": [
    "Select id, account_id, gloss_amt_usd, total_amt_usd and add a derived column called pct_gloss_amt by dividing gloss_amt_usd by total_amt_usd. Show only 10 rows"
   ]
  },
  {
   "cell_type": "code",
   "execution_count": null,
   "metadata": {
    "colab": {
     "base_uri": "https://localhost:8080/",
     "height": 360
    },
    "id": "y7eL2-BpAlDE",
    "outputId": "ab0f3310-aa8d-451f-f09b-de844858c13e"
   },
   "outputs": [],
   "source": [
    "query = 'SELECT id, account_id, gloss_amt_usd, total_amt_usd, \\\n",
    "        (gloss_amt_usd/total_amt_usd) AS pct_gloss_amt FROM orders LIMIT 10;'\n",
    "query_to_df(query)"
   ]
  },
  {
   "cell_type": "markdown",
   "metadata": {
    "id": "GRRltA7bBoy-"
   },
   "source": [
    "Using the orders table Create a column that divides the standard_amt_usd by the standard_qty to find the unit price for standard paper for each order. Limit the results to the first 10 orders, and include the id and account_id fields.\n"
   ]
  },
  {
   "cell_type": "code",
   "execution_count": null,
   "metadata": {
    "colab": {
     "base_uri": "https://localhost:8080/",
     "height": 360
    },
    "id": "eVqSULb3B4-6",
    "outputId": "9918c3f5-8426-4edb-fbac-e058c7076afe"
   },
   "outputs": [],
   "source": [
    "query = 'SELECT id, account_id, (standard_amt_usd / standard_qty) \\\n",
    "        AS unit_price FROM orders LIMIT 10;'\n",
    "\n",
    "query_to_df(query)"
   ]
  },
  {
   "cell_type": "markdown",
   "metadata": {
    "id": "KGRk0ja7DSh0"
   },
   "source": [
    "Using the orders table Write a query that finds the percentage of revenue that comes from poster paper for each order. You will need to use only the columns that end with _usd. (Try to do this without using the total column.) Display the id and account_id fields also. NOTE - you will receive an error with the correct solution to this question. This occurs because at least one of the values in the data creates a division by zero in your formula. You will learn later in the course how to fully handle this issue. For now, you can just limit your calculations to the first 10 orders, as we did in question #1, and you'll avoid that set of data that causes the problem."
   ]
  },
  {
   "cell_type": "code",
   "execution_count": null,
   "metadata": {
    "colab": {
     "base_uri": "https://localhost:8080/",
     "height": 360
    },
    "id": "VVaLv4hcDq78",
    "outputId": "4a21afad-e1ed-4266-fe45-590b966626c8"
   },
   "outputs": [],
   "source": [
    "query = 'SELECT id, account_id, \\\n",
    "        (poster_amt_usd / (poster_amt_usd + gloss_amt_usd + standard_amt_usd)) \\\n",
    "        AS pct_revenue_poster FROM orders LIMIT 10;'\n",
    "query_to_df(query)"
   ]
  },
  {
   "cell_type": "markdown",
   "metadata": {
    "id": "upknozAasxgI"
   },
   "source": [
    "********************************************************************************"
   ]
  },
  {
   "cell_type": "markdown",
   "metadata": {
    "id": "Q5wcPPMVlSO2"
   },
   "source": [
    "<h3>Introduction to Logical Operators</h3>\n",
    "\n",
    "In the next concepts, you will be learning about Logical Operators. Logical Operators include:\n",
    "\n",
    "* **LIKE**<br>\n",
    "This allows you to perform operations similar to using `WHERE` and `=`, but for cases when you might not know exactly what you are looking for.\n",
    "\n",
    "* **IN**<br>\n",
    "This allows you to perform operations similar to using `WHERE` and `=`, but for more than one condition.\n",
    "\n",
    "* **NOT**<br>\n",
    "This is used with `IN` and `LIKE` to select all of the rows `NOT LIKE` or `NOT IN` a certain condition.\n",
    "\n",
    "* **AND & BETWEEN**<br>\n",
    "These allow you to combine operations where all combined conditions must be true.\n",
    "\n",
    "* **OR**<br>\n",
    "This allow you to combine operations where at least one of the combined conditions must be true.\n",
    "\n",
    "**The LIKE Operator:**\n",
    "\n",
    "The `LIKE` operator is extremely useful for working with text. You will use `LIKE` within a `WHERE` clause. The `LIKE` operator is frequently used with `%`. The `%` tells us that we might want any number of characters leading up to a particular set of characters or following a certain set of characters.\n",
    "\n",
    "Remember to use single quotes for the text you pass to the `LIKE` operator, because of this lower and uppercase letters are not the same within the string. Searching for 'T' is not the same as searching for 't'.\n",
    "\n",
    "**The IN Operator:**\n",
    "\n",
    "The `IN` operator is useful for working with both numeric and text columns. This operator allows you to use an `=`, but for more than one item of that particular column. We can check one, two or many column values for which we want to pull data, but all within the same query.\n",
    "\n",
    "**The NOT Operator:**\n",
    "\n",
    "The `NOT` operator is an extremely useful operator for working with the previous two operators we introduced: `IN` and `LIKE`. By specifying `NOT` `LIKE` or `NOT` `IN`, we can grab all of the rows that do not meet a particular criteria.\n",
    "\n",
    "**Expert Tip**\n",
    "\n",
    "In most SQL environments, although not in our Udacity's classroom, you can use single or double quotation marks - and you may NEED to use double quotation marks if you have an apostrophe within the text you are attempting to pull."
   ]
  },
  {
   "cell_type": "markdown",
   "metadata": {
    "id": "wlLTtRlQnEwu"
   },
   "source": [
    "Questions using LIKE Operator\n",
    "\n",
    "Using the accounts table find All the companies whose names start with 'C'."
   ]
  },
  {
   "cell_type": "code",
   "execution_count": null,
   "metadata": {
    "colab": {
     "base_uri": "https://localhost:8080/",
     "height": 418
    },
    "id": "sVLwft5bnQdv",
    "outputId": "129ed873-c6f5-4665-b2ad-bfaaa1eeec75"
   },
   "outputs": [],
   "source": [
    "query = \"SELECT * FROM accounts WHERE name LIKE 'C%';\"\n",
    "query_to_df(query)"
   ]
  },
  {
   "cell_type": "markdown",
   "metadata": {
    "id": "zdMc06Wnn6KQ"
   },
   "source": [
    "All companies whose names contain the string 'one' somewhere in the name."
   ]
  },
  {
   "cell_type": "code",
   "execution_count": null,
   "metadata": {
    "colab": {
     "base_uri": "https://localhost:8080/",
     "height": 212
    },
    "id": "Q_dBG86qoCJx",
    "outputId": "70a77131-5313-4651-8f71-c71f94cb86fb"
   },
   "outputs": [],
   "source": [
    "query = \"SELECT * FROM accounts WHERE name LIKE '%one%';\"\n",
    "query_to_df(query)"
   ]
  },
  {
   "cell_type": "markdown",
   "metadata": {
    "id": "PR4sNE6OpiX_"
   },
   "source": [
    "All companies whose names end with 's'"
   ]
  },
  {
   "cell_type": "code",
   "execution_count": null,
   "metadata": {
    "colab": {
     "base_uri": "https://localhost:8080/",
     "height": 418
    },
    "id": "y3EFDIHhpwGe",
    "outputId": "1dc2d3c2-2655-4595-f32a-7ddab6420dfc"
   },
   "outputs": [],
   "source": [
    "query = \"SELECT * FROM accounts WHERE name LIKE '%s';\"\n",
    "query_to_df(query)"
   ]
  },
  {
   "cell_type": "markdown",
   "metadata": {
    "id": "kbpvgfACs5kS"
   },
   "source": [
    "Questions using IN operator<br>\n",
    "Use the accounts table to find the account name, primary_poc, and sales_rep_id for Walmart, Target, and Nordstrom."
   ]
  },
  {
   "cell_type": "code",
   "execution_count": null,
   "metadata": {
    "colab": {
     "base_uri": "https://localhost:8080/",
     "height": 153
    },
    "id": "o3g9mANxtBfY",
    "outputId": "d2c95e5d-63bf-4640-a06a-3a03663f0214"
   },
   "outputs": [],
   "source": [
    "query = \"SELECT name, primary_poc, sales_rep_id FROM accounts \\\n",
    "        WHERE name IN ('Walmart', 'Target', 'Nordstrom');\"\n",
    "query_to_df(query)"
   ]
  },
  {
   "cell_type": "markdown",
   "metadata": {
    "id": "AaarlUI6uD2h"
   },
   "source": [
    "Use the web_events table to find all information regarding individuals who were contacted via the channel of organic or adwords."
   ]
  },
  {
   "cell_type": "code",
   "execution_count": null,
   "metadata": {
    "colab": {
     "base_uri": "https://localhost:8080/",
     "height": 418
    },
    "id": "tYNkNHYsuQPV",
    "outputId": "9b914597-d8b9-46de-827a-8c50af5bb891"
   },
   "outputs": [],
   "source": [
    "query = 'SELECT * FROM web_events WHERE channel IN (\"organic\", \"adwords\");'\n",
    "query_to_df(query)"
   ]
  },
  {
   "cell_type": "markdown",
   "metadata": {
    "id": "TqpcsEPPuEQh"
   },
   "source": [
    "Questions using the NOT operator:\n",
    "\n",
    "Use the accounts table to find the account name, primary poc, and sales rep id for all stores except Walmart, Target, and Nordstrom.\n"
   ]
  },
  {
   "cell_type": "code",
   "execution_count": null,
   "metadata": {
    "colab": {
     "base_uri": "https://localhost:8080/",
     "height": 418
    },
    "id": "JjJy2nXZxSMz",
    "outputId": "e958455e-39ad-4203-909e-19f4c0294540"
   },
   "outputs": [],
   "source": [
    "query = \"SELECT name, primary_poc, sales_rep_id FROM accounts \\\n",
    "        WHERE name NOT IN ('Walmart', 'Target', 'Nordstrom');\"\n",
    "query_to_df(query)"
   ]
  },
  {
   "cell_type": "markdown",
   "metadata": {
    "id": "c7mD278k0KeN"
   },
   "source": [
    "Use the web_events table to find all information regarding individuals who were contacted via any method except using organic or adwords methods."
   ]
  },
  {
   "cell_type": "code",
   "execution_count": null,
   "metadata": {
    "colab": {
     "base_uri": "https://localhost:8080/",
     "height": 418
    },
    "id": "6mjSFOyj0TBK",
    "outputId": "5cf0f90d-12ab-40f4-ac82-d09132bf5208"
   },
   "outputs": [],
   "source": [
    "query = 'SELECT * FROM web_events WHERE channel NOT IN (\"organic\", \"adwords\");'\n",
    "query_to_df(query)"
   ]
  },
  {
   "cell_type": "markdown",
   "metadata": {
    "id": "VoIKcNbw05-p"
   },
   "source": [
    "Use the accounts table to find, All the companies whose names do not start with 'C'."
   ]
  },
  {
   "cell_type": "code",
   "execution_count": null,
   "metadata": {
    "colab": {
     "base_uri": "https://localhost:8080/",
     "height": 418
    },
    "id": "Z8Yazsls1Gno",
    "outputId": "0b949683-51fb-4413-a330-0ebce7d72c76"
   },
   "outputs": [],
   "source": [
    "query = 'SELECT name FROM accounts WHERE name NOT LIKE \"C%\";'\n",
    "query_to_df(query)"
   ]
  },
  {
   "cell_type": "markdown",
   "metadata": {
    "id": "-G4Ap3TS1tNx"
   },
   "source": [
    "All companies whose names do not contain the string 'one' somewhere in the name."
   ]
  },
  {
   "cell_type": "code",
   "execution_count": null,
   "metadata": {
    "colab": {
     "base_uri": "https://localhost:8080/",
     "height": 418
    },
    "id": "cLym7_LF10qz",
    "outputId": "b66de7b2-f951-48ec-cb59-6955337c623e"
   },
   "outputs": [],
   "source": [
    "query = 'SELECT name FROM accounts WHERE name NOT LIKE \"%one%\";'\n",
    "query_to_df(query)"
   ]
  },
  {
   "cell_type": "markdown",
   "metadata": {
    "id": "k3uYtde32SG7"
   },
   "source": [
    "All companies whose names do not end with 's'."
   ]
  },
  {
   "cell_type": "code",
   "execution_count": null,
   "metadata": {
    "colab": {
     "base_uri": "https://localhost:8080/",
     "height": 418
    },
    "id": "Q9kqeStU2Y8i",
    "outputId": "d210e2e3-9149-4814-c1de-25854c599b75"
   },
   "outputs": [],
   "source": [
    "query = 'SELECT name FROM accounts WHERE name NOT LIKE \"%s\";'\n",
    "query_to_df(query)"
   ]
  },
  {
   "cell_type": "markdown",
   "metadata": {
    "id": "32j5eUOlpCUy"
   },
   "source": [
    "**The AND Operator:**\n",
    "\n",
    "* The `AND` operator is used within a `WHERE` statement to consider more than one logical clause at a time\n",
    "* Each time you link a new statement with an `AND`, you will need to specify the column you are interested in looking at. You may link as many statements as you would like to consider at the same time.\n",
    "* This operator works with all of the operations we have seen so far including arithmetic operators `(+, *, -, /)`. `LIKE, IN`, and `NOT` logic can also be linked together using the `AND` operator.\n"
   ]
  },
  {
   "cell_type": "markdown",
   "metadata": {
    "id": "DCWsKkmyqobe"
   },
   "source": [
    "**The BETWEEN Operator:**\n",
    "\n",
    "* Sometimes we can make a cleaner statement using `BETWEEN` than we can using `AND`. Particularly this is true when we are using the same column for different parts of our `AND` statement.\n",
    "* Note that the endpoints of a `BETWEEN` operator query are inclusive. both start and end limits, included in the output.\n",
    "\n",
    "For example, statement 1 below is much better written as statement 2 below.\n",
    "\n",
    "1. `SELECT * FROM table WHERE column >= 6 AND column <= 10`\n",
    "2. `SELECT * FROM table WHERE column BETWEEN 6 AND 10`"
   ]
  },
  {
   "cell_type": "markdown",
   "metadata": {
    "id": "sYIOrL7rrqw8"
   },
   "source": [
    "<h2>Questions using AND and BETWEEN operators</h2>"
   ]
  },
  {
   "cell_type": "markdown",
   "metadata": {
    "id": "_SkGQhX1ru-G"
   },
   "source": [
    "Write a query that returns all the orders where the standard_qty is over 1000, the poster_qty is 0, and the gloss_qty is 0."
   ]
  },
  {
   "cell_type": "code",
   "execution_count": null,
   "metadata": {
    "colab": {
     "base_uri": "https://localhost:8080/",
     "height": 123
    },
    "id": "LkV5W0pkr1W1",
    "outputId": "006904db-69a4-4759-a22b-626730d2d215"
   },
   "outputs": [],
   "source": [
    "query = 'SELECT * FROM orders WHERE standard_qty > 1000 \\\n",
    "        AND poster_qty = 0 AND gloss_qty = 0;'\n",
    "query_to_df(query)"
   ]
  },
  {
   "cell_type": "markdown",
   "metadata": {
    "id": "6ASJibHFtYNe"
   },
   "source": [
    "Using the accounts table, find all the companies whose names do not start with 'C' and end with 's'."
   ]
  },
  {
   "cell_type": "code",
   "execution_count": null,
   "metadata": {
    "colab": {
     "base_uri": "https://localhost:8080/",
     "height": 418
    },
    "id": "pWpNkPcntZf5",
    "outputId": "b4f04cd8-23e7-4034-90a9-9b84a0554c6c"
   },
   "outputs": [],
   "source": [
    "query = 'SELECT name FROM accounts WHERE name NOT LIKE \"C%\" AND name LIKE \"%S\";'\n",
    "query_to_df(query)"
   ]
  },
  {
   "cell_type": "markdown",
   "metadata": {
    "id": "TPkPXD9WuRaG"
   },
   "source": [
    "When you use the BETWEEN operator in SQL, do the results include the values of your endpoints, or not? Figure out the answer to this important question by writing a query that displays the order date and gloss_qty data for all orders where gloss_qty is between 24 and 29. Then look at your output to see if the BETWEEN operator included the begin and end values or not.\n"
   ]
  },
  {
   "cell_type": "code",
   "execution_count": null,
   "metadata": {
    "colab": {
     "base_uri": "https://localhost:8080/",
     "height": 418
    },
    "id": "BKRjdL-buue9",
    "outputId": "cbd8b4ce-1ae8-47a1-9c8e-bde725f7f877"
   },
   "outputs": [],
   "source": [
    "query = 'SELECT occurred_at, gloss_qty FROM orders WHERE gloss_qty BETWEEN 24 and 29;'\n",
    "query_to_df(query)"
   ]
  },
  {
   "cell_type": "markdown",
   "metadata": {
    "id": "CCGHOfTyv7iT"
   },
   "source": [
    "Use the web_events table to find all information regarding individuals who were contacted via the organic or adwords channels, and started their account at any point in 2016, sorted from newest to oldest."
   ]
  },
  {
   "cell_type": "code",
   "execution_count": null,
   "metadata": {
    "colab": {
     "base_uri": "https://localhost:8080/",
     "height": 418
    },
    "id": "FCEhGpuFv9Pq",
    "outputId": "0f9ca404-77f1-473d-cde1-18324f75a94c"
   },
   "outputs": [],
   "source": [
    "query = 'SELECT * FROM web_events WHERE channel IN (\"organic\", \"adwords\") \\\n",
    "        AND occurred_at between \"2016-01-01\" and \"2017-01-01\" ORDER BY occurred_at DESC;'\n",
    "\n",
    "query_to_df(query)"
   ]
  },
  {
   "cell_type": "markdown",
   "metadata": {
    "id": "j0UkP1YTz4XW"
   },
   "source": [
    "You will notice that using BETWEEN is tricky for dates! While BETWEEN is generally inclusive of endpoints, it assumes the time is at 00:00:00 (i.e. midnight) for dates. This is the reason why we set the right-side endpoint of the period at '2017-01-01'.\n"
   ]
  },
  {
   "cell_type": "markdown",
   "metadata": {
    "id": "-l4aG4pN02qL"
   },
   "source": [
    "**The OR Operator**\n",
    "\n",
    "* Similar to the `AND` operator, the `OR` operator can combine multiple statements.\n",
    "* Each time you link a new statement with an `OR`, you will need to specify the column you are interested in looking at, just like with `AND`.\n",
    "* You may link as many statements as you would like to consider at the same time.\n",
    "* This operator works with all of the operations we have seen so far including arithmetic operators `(+, *, -, /)`, `LIKE`, `IN`, `NOT`, `AND`, and `BETWEEN` logic can all be linked together using the `OR` operator.\n",
    "* When combining multiple of these operations, we frequently might need to use parentheses to ensure that logic we want to perform is being executed correctly."
   ]
  },
  {
   "cell_type": "markdown",
   "metadata": {
    "id": "IIiwhdnU5Cnw"
   },
   "source": [
    "<h3>Questions using the OR operator</h3>"
   ]
  },
  {
   "cell_type": "markdown",
   "metadata": {
    "id": "peRPBWCr5RTb"
   },
   "source": [
    "Find list of orders ids where either gloss_qty or poster_qty is greater than 4000. Only include the id field in the resulting table."
   ]
  },
  {
   "cell_type": "code",
   "execution_count": null,
   "metadata": {
    "colab": {
     "base_uri": "https://localhost:8080/",
     "height": 478
    },
    "id": "2sDKcqhW5WyO",
    "outputId": "542a2847-eea3-40ef-deee-e94c78f3a991"
   },
   "outputs": [],
   "source": [
    "query = 'SELECT id FROM orders WHERE gloss_qty > 4000 OR poster_qty > 4000;'\n",
    "\n",
    "query_to_df(query)"
   ]
  },
  {
   "cell_type": "markdown",
   "metadata": {
    "id": "ZNJUs6Ji6EKX"
   },
   "source": [
    "Write a query that returns a list of orders where the standard_qty is zero and either the gloss_qty or poster_qty is over 1000."
   ]
  },
  {
   "cell_type": "code",
   "execution_count": null,
   "metadata": {
    "colab": {
     "base_uri": "https://localhost:8080/",
     "height": 567
    },
    "id": "76x-SYau6Ibt",
    "outputId": "2b0f294d-819f-4576-bfd4-7f1acad83086"
   },
   "outputs": [],
   "source": [
    "query = 'SELECT * FROM orders WHERE standard_qty = 0 AND \\\n",
    "        (gloss_qty > 1000 OR poster_qty > 1000);'\n",
    "query_to_df(query)"
   ]
  },
  {
   "cell_type": "markdown",
   "metadata": {
    "id": "q54vQcbr80BI"
   },
   "source": [
    "Find all the company names that start with a 'C' or 'W', and the primary contact contains 'ana' or 'Ana', but it doesn't contain 'eana'.\n"
   ]
  },
  {
   "cell_type": "code",
   "execution_count": null,
   "metadata": {
    "colab": {
     "base_uri": "https://localhost:8080/",
     "height": 123
    },
    "id": "-SQDaoqO81Gy",
    "outputId": "0ba33161-ec5d-4bc9-e0cb-9a487c82d3e6"
   },
   "outputs": [],
   "source": [
    "query = 'SELECT * FROM accounts WHERE \\\n",
    "        (name LIKE \"C%\" OR name LIKE \"W%\") AND \\\n",
    "        (primary_poc LIKE \"%ana%\" or primary_poc LIKE \"%Ana%\") AND\\\n",
    "        primary_poc NOT LIKE \"%eana%\";'\n",
    "\n",
    "query_to_df(query)"
   ]
  },
  {
   "cell_type": "code",
   "execution_count": null,
   "metadata": {
    "colab": {
     "base_uri": "https://localhost:8080/"
    },
    "id": "ai4Mvns3WAa4",
    "outputId": "23bd5734-a557-4e07-b315-c298437d117c"
   },
   "outputs": [],
   "source": [
    "# closing connection and cursor for the day\n",
    "\n",
    "if connection.is_connected():\n",
    "    cursor.close()\n",
    "    connection.close()\n",
    "    print(\"MySQL connection is closed\")"
   ]
  }
 ],
 "metadata": {
  "colab": {
   "authorship_tag": "ABX9TyObDZTPPuJu+cg4tOjbtxal",
   "collapsed_sections": [],
   "include_colab_link": true,
   "name": "sql_for_data_analysis1.ipynb",
   "provenance": []
  },
  "kernelspec": {
   "display_name": "Python 3",
   "language": "python",
   "name": "python3"
  },
  "language_info": {
   "codemirror_mode": {
    "name": "ipython",
    "version": 3
   },
   "file_extension": ".py",
   "mimetype": "text/x-python",
   "name": "python",
   "nbconvert_exporter": "python",
   "pygments_lexer": "ipython3",
   "version": "3.8.5"
  }
 },
 "nbformat": 4,
 "nbformat_minor": 1
}
