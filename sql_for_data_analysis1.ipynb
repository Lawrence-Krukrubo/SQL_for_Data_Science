{
  "nbformat": 4,
  "nbformat_minor": 0,
  "metadata": {
    "colab": {
      "name": "sql_for_data_analysis1.ipynb",
      "provenance": [],
      "collapsed_sections": [],
      "authorship_tag": "ABX9TyObDZTPPuJu+cg4tOjbtxal",
      "include_colab_link": true
    },
    "kernelspec": {
      "name": "python3",
      "display_name": "Python 3"
    }
  },
  "cells": [
    {
      "cell_type": "markdown",
      "metadata": {
        "id": "view-in-github",
        "colab_type": "text"
      },
      "source": [
        "<a href=\"https://colab.research.google.com/github/Lawrence-Krukrubo/SQL_for_Data_Science/blob/main/sql_for_data_analysis1.ipynb\" target=\"_parent\"><img src=\"https://colab.research.google.com/assets/colab-badge.svg\" alt=\"Open In Colab\"/></a>"
      ]
    },
    {
      "cell_type": "markdown",
      "metadata": {
        "id": "rs28nkD03bJD"
      },
      "source": [
        "<b><h1>Welcome To SQL Basics...</h1></b>"
      ]
    },
    {
      "cell_type": "markdown",
      "metadata": {
        "id": "Q446yarrPy1_"
      },
      "source": [
        "We connect to Google CloudSQL and make analysis with the Patch and Posey Database.<br>\r\n",
        "\r\n",
        "Thanks to this [article](https://towardsdatascience.com/sql-on-the-cloud-with-python-c08a30807661) for making the connection process clearer.\r\n",
        "\r\n",
        "If we want to download the parch-and-posey.sql file to maybe upload to a database, use this [link](https://storage.googleapis.com/kaggle1980/parch.sql) to the updated file from cloud-storage."
      ]
    },
    {
      "cell_type": "code",
      "metadata": {
        "colab": {
          "base_uri": "https://localhost:8080/"
        },
        "id": "UXRG05IOP7-W",
        "outputId": "87aa3ff2-1443-4f7c-c92d-530445c7db1c"
      },
      "source": [
        "# Next mount gdrive\r\n",
        "from google.colab import drive\r\n",
        "drive.mount('/content/gdrive')"
      ],
      "execution_count": 1,
      "outputs": [
        {
          "output_type": "stream",
          "text": [
            "Mounted at /content/gdrive\n"
          ],
          "name": "stdout"
        }
      ]
    },
    {
      "cell_type": "code",
      "metadata": {
        "colab": {
          "base_uri": "https://localhost:8080/"
        },
        "id": "tI3RBh5AZGUk",
        "outputId": "545ec06a-b5f0-476a-9a8f-c7e372544950"
      },
      "source": [
        "# set working directory to Udacity\r\n",
        "%cd /content/gdrive/MyDrive/Colab_Notebooks/Udacity"
      ],
      "execution_count": 2,
      "outputs": [
        {
          "output_type": "stream",
          "text": [
            "/content/gdrive/MyDrive/Colab_Notebooks/Udacity\n"
          ],
          "name": "stdout"
        }
      ]
    },
    {
      "cell_type": "code",
      "metadata": {
        "colab": {
          "base_uri": "https://localhost:8080/"
        },
        "id": "AIaVjkm2Zb03",
        "outputId": "55bb9772-fcbd-4003-b3ef-fe492645e3b8"
      },
      "source": [
        "%ls"
      ],
      "execution_count": 3,
      "outputs": [
        {
          "output_type": "stream",
          "text": [
            " \u001b[0m\u001b[01;34maws_machine_learning_foundations\u001b[0m/   linear_algebra_refresher.ipynb\n",
            " client-cert.pem                    'linear-example-data (1).xlsx'\n",
            " client-key.pem                      Problem_Solving_w_Advanced_Analytics.ipynb\n",
            " \u001b[01;34mcomputer_vision\u001b[0m/                    server-ca.pem\n",
            " intro_to_algorithm.ipynb            \u001b[01;34mstatistics\u001b[0m/\n",
            " \u001b[01;34mintro_to_artificial_intelligence\u001b[0m/   time_series_forecasting.ipynb\n",
            " \u001b[01;34mintro_to_data_analysis\u001b[0m/             \u001b[01;34mUdac_Prog_Foundations_Python\u001b[0m/\n",
            " intro_to_machine_learning.ipynb     \u001b[01;34mversion_control_with_git\u001b[0m/\n"
          ],
          "name": "stdout"
        }
      ]
    },
    {
      "cell_type": "code",
      "metadata": {
        "colab": {
          "base_uri": "https://localhost:8080/"
        },
        "id": "edyRBaU7fl0x",
        "outputId": "575c3e42-7c3b-43d6-d789-584d414613eb"
      },
      "source": [
        "!pip install mysql-connector-python"
      ],
      "execution_count": 4,
      "outputs": [
        {
          "output_type": "stream",
          "text": [
            "Collecting mysql-connector-python\n",
            "\u001b[?25l  Downloading https://files.pythonhosted.org/packages/cc/ec/102bf59d0cdeb3b8fc82d6669bf96d57d133e44811ff57ad5e941bd8588d/mysql_connector_python-8.0.23-cp36-cp36m-manylinux1_x86_64.whl (18.0MB)\n",
            "\u001b[K     |████████████████████████████████| 18.1MB 173kB/s \n",
            "\u001b[?25hRequirement already satisfied: protobuf>=3.0.0 in /usr/local/lib/python3.6/dist-packages (from mysql-connector-python) (3.12.4)\n",
            "Requirement already satisfied: six>=1.9 in /usr/local/lib/python3.6/dist-packages (from protobuf>=3.0.0->mysql-connector-python) (1.15.0)\n",
            "Requirement already satisfied: setuptools in /usr/local/lib/python3.6/dist-packages (from protobuf>=3.0.0->mysql-connector-python) (53.0.0)\n",
            "Installing collected packages: mysql-connector-python\n",
            "Successfully installed mysql-connector-python-8.0.23\n"
          ],
          "name": "stdout"
        }
      ]
    },
    {
      "cell_type": "code",
      "metadata": {
        "id": "N-0tEY-HZtFQ"
      },
      "source": [
        "import mysql.connector\r\n",
        "from mysql.connector.constants import ClientFlag\r\n",
        "import pandas as pd\r\n",
        "import numpy as np\r\n",
        "import matplotlib.pyplot as plt\r\n",
        "import seaborn as sns\r\n",
        "from pprint import pprint\r\n",
        "import time"
      ],
      "execution_count": 13,
      "outputs": []
    },
    {
      "cell_type": "code",
      "metadata": {
        "colab": {
          "base_uri": "https://localhost:8080/"
        },
        "id": "Z7pjdj0bZ29i",
        "outputId": "f2c1880f-a5b7-42bc-c51c-ec6e9e4f35cf"
      },
      "source": [
        "config = {\r\n",
        "    'user': 'root',\r\n",
        "    'password': 'root',\r\n",
        "    'host': '35.226.26.66',\r\n",
        "    'client_flags': [ClientFlag.SSL],\r\n",
        "    'ssl_ca': 'server-ca.pem',\r\n",
        "    'ssl_cert': 'client-cert.pem',\r\n",
        "    'ssl_key': 'client-key.pem'\r\n",
        "}\r\n",
        "\r\n",
        "# now we establish our connection\r\n",
        "try:\r\n",
        "    cnxn = mysql.connector.connect(**config)\r\n",
        "    print('Connection to CloudSQL Instance Successful!')\r\n",
        "except Exception as e:\r\n",
        "    print(e)"
      ],
      "execution_count": 6,
      "outputs": [
        {
          "output_type": "stream",
          "text": [
            "Connection to CloudSQL Instance Successful!\n"
          ],
          "name": "stdout"
        }
      ]
    },
    {
      "cell_type": "code",
      "metadata": {
        "colab": {
          "base_uri": "https://localhost:8080/"
        },
        "id": "RyCLVL-VvAiQ",
        "outputId": "5b0f79e3-f1c7-4bc6-ea8f-0fe95d29971c"
      },
      "source": [
        "config"
      ],
      "execution_count": 7,
      "outputs": [
        {
          "output_type": "execute_result",
          "data": {
            "text/plain": [
              "{'client_flags': [2048],\n",
              " 'host': '35.226.26.66',\n",
              " 'password': 'root',\n",
              " 'ssl_ca': 'server-ca.pem',\n",
              " 'ssl_cert': 'client-cert.pem',\n",
              " 'ssl_key': 'client-key.pem',\n",
              " 'user': 'root'}"
            ]
          },
          "metadata": {
            "tags": []
          },
          "execution_count": 7
        }
      ]
    },
    {
      "cell_type": "code",
      "metadata": {
        "id": "I-KXVLE4cWG8"
      },
      "source": [
        "# let's add the patch and posey db to our config\r\n",
        "\r\n",
        "# cursor = cnxn.cursor()  # initialize connection cursor\r\n",
        "# cursor.execute('CREATE DATABASE parch_and_posey_db')  # create a new database\r\n",
        "# cnxn.close()  # close connection because we will be reconnecting to testdb"
      ],
      "execution_count": 8,
      "outputs": []
    },
    {
      "cell_type": "markdown",
      "metadata": {
        "id": "w-yaxPpCv8IT"
      },
      "source": [
        "Now we connect to parch_and_posey_db by adding database: parch_and_posey_db to our config dictionary and connecting just like we did before:"
      ]
    },
    {
      "cell_type": "code",
      "metadata": {
        "id": "tZOCszKncejR"
      },
      "source": [
        "config['database'] = 'parch_and_posey_db'  # add new database to config dict\r\n",
        "cnxn = mysql.connector.connect(**config)\r\n",
        "cursor = cnxn.cursor()"
      ],
      "execution_count": 9,
      "outputs": []
    },
    {
      "cell_type": "markdown",
      "metadata": {
        "id": "xtdPSUSPg8eC"
      },
      "source": [
        "Let's see the first 3 data of the different tables in parch and posey database"
      ]
    },
    {
      "cell_type": "code",
      "metadata": {
        "colab": {
          "base_uri": "https://localhost:8080/"
        },
        "id": "KaJk63zKcGUP",
        "outputId": "15628df0-06ae-47b4-d534-686caf2c3953"
      },
      "source": [
        "# let's run the show tables command \r\n",
        "\r\n",
        "cursor.execute('show tables')\r\n",
        "out = cursor.fetchall()\r\n",
        "out"
      ],
      "execution_count": 10,
      "outputs": [
        {
          "output_type": "execute_result",
          "data": {
            "text/plain": [
              "[('accounts',), ('orders',), ('region',), ('sales_reps',), ('web_events',)]"
            ]
          },
          "metadata": {
            "tags": []
          },
          "execution_count": 10
        }
      ]
    },
    {
      "cell_type": "markdown",
      "metadata": {
        "id": "8WGRE-_7hvxS"
      },
      "source": [
        "let's see some of the data in our tables"
      ]
    },
    {
      "cell_type": "markdown",
      "metadata": {
        "id": "tBDkCWhU_TFW"
      },
      "source": [
        "Defining a method that converts a select query to a data frame"
      ]
    },
    {
      "cell_type": "code",
      "metadata": {
        "id": "15rpaWm35Zm0"
      },
      "source": [
        "def query_to_df(query):\r\n",
        "    st = time.time()\r\n",
        "    # Assert Every Query ends with a semi-colon\r\n",
        "    try:\r\n",
        "        assert query.endswith(';')\r\n",
        "    except AssertionError:\r\n",
        "        return 'ERROR: Query Must End with ;'\r\n",
        "\r\n",
        "    # so we never have more than 20 rows displayed\r\n",
        "    pd.set_option('display.max_rows', 20) \r\n",
        "    df = None\r\n",
        "\r\n",
        "    # Process the query\r\n",
        "    cursor.execute(query)\r\n",
        "    columns = cursor.description\r\n",
        "    result = []\r\n",
        "    for value in cursor.fetchall():\r\n",
        "        tmp = {}\r\n",
        "        for (index,column) in enumerate(value):\r\n",
        "            tmp[columns[index][0]] = [column]\r\n",
        "        result.append(tmp)\r\n",
        "\r\n",
        "    # Create a DataFrame from all results\r\n",
        "    for ind, data in enumerate(result):\r\n",
        "        if ind >= 1:\r\n",
        "            x = pd.DataFrame(data)\r\n",
        "            df = pd.concat([df, x], ignore_index=True)\r\n",
        "        else:\r\n",
        "            df = pd.DataFrame(data)\r\n",
        "    print(f'Query ran for {time.time()-st} secs!')\r\n",
        "    return df"
      ],
      "execution_count": 11,
      "outputs": []
    },
    {
      "cell_type": "code",
      "metadata": {
        "colab": {
          "base_uri": "https://localhost:8080/",
          "height": 153
        },
        "id": "-VmFnaIviM8I",
        "outputId": "bcc3f003-c3bd-45f7-91ab-33db75c7f356"
      },
      "source": [
        "# 1. For the accounts table\r\n",
        "query = 'SELECT * FROM accounts LIMIT 3;'\r\n",
        "query_to_df(query)"
      ],
      "execution_count": 14,
      "outputs": [
        {
          "output_type": "stream",
          "text": [
            "Query ran for 0.054364681243896484 secs!\n"
          ],
          "name": "stdout"
        },
        {
          "output_type": "execute_result",
          "data": {
            "text/html": [
              "<div>\n",
              "<style scoped>\n",
              "    .dataframe tbody tr th:only-of-type {\n",
              "        vertical-align: middle;\n",
              "    }\n",
              "\n",
              "    .dataframe tbody tr th {\n",
              "        vertical-align: top;\n",
              "    }\n",
              "\n",
              "    .dataframe thead th {\n",
              "        text-align: right;\n",
              "    }\n",
              "</style>\n",
              "<table border=\"1\" class=\"dataframe\">\n",
              "  <thead>\n",
              "    <tr style=\"text-align: right;\">\n",
              "      <th></th>\n",
              "      <th>id</th>\n",
              "      <th>name</th>\n",
              "      <th>website</th>\n",
              "      <th>lats</th>\n",
              "      <th>longs</th>\n",
              "      <th>primary_poc</th>\n",
              "      <th>sales_rep_id</th>\n",
              "    </tr>\n",
              "  </thead>\n",
              "  <tbody>\n",
              "    <tr>\n",
              "      <th>0</th>\n",
              "      <td>1001</td>\n",
              "      <td>Walmart</td>\n",
              "      <td>www.walmart.com</td>\n",
              "      <td>40.238496</td>\n",
              "      <td>-75.103297</td>\n",
              "      <td>Tamara Tuma</td>\n",
              "      <td>321500</td>\n",
              "    </tr>\n",
              "    <tr>\n",
              "      <th>1</th>\n",
              "      <td>1011</td>\n",
              "      <td>Exxon Mobil</td>\n",
              "      <td>www.exxonmobil.com</td>\n",
              "      <td>41.169156</td>\n",
              "      <td>-73.849374</td>\n",
              "      <td>Sung Shields</td>\n",
              "      <td>321510</td>\n",
              "    </tr>\n",
              "    <tr>\n",
              "      <th>2</th>\n",
              "      <td>1021</td>\n",
              "      <td>Apple</td>\n",
              "      <td>www.apple.com</td>\n",
              "      <td>42.290495</td>\n",
              "      <td>-76.084009</td>\n",
              "      <td>Jodee Lupo</td>\n",
              "      <td>321520</td>\n",
              "    </tr>\n",
              "  </tbody>\n",
              "</table>\n",
              "</div>"
            ],
            "text/plain": [
              "     id         name             website  ...      longs   primary_poc sales_rep_id\n",
              "0  1001      Walmart     www.walmart.com  ... -75.103297   Tamara Tuma       321500\n",
              "1  1011  Exxon Mobil  www.exxonmobil.com  ... -73.849374  Sung Shields       321510\n",
              "2  1021        Apple       www.apple.com  ... -76.084009    Jodee Lupo       321520\n",
              "\n",
              "[3 rows x 7 columns]"
            ]
          },
          "metadata": {
            "tags": []
          },
          "execution_count": 14
        }
      ]
    },
    {
      "cell_type": "code",
      "metadata": {
        "colab": {
          "base_uri": "https://localhost:8080/",
          "height": 153
        },
        "id": "GEhD_s9Gwed0",
        "outputId": "59361e8f-088a-470e-8f2b-e76bf7e3b8b1"
      },
      "source": [
        "# 2. For the orders table\r\n",
        "\r\n",
        "query = 'SELECT * FROM orders LIMIT 3;'\r\n",
        "query_to_df(query)"
      ],
      "execution_count": 15,
      "outputs": [
        {
          "output_type": "stream",
          "text": [
            "Query ran for 0.04391670227050781 secs!\n"
          ],
          "name": "stdout"
        },
        {
          "output_type": "execute_result",
          "data": {
            "text/html": [
              "<div>\n",
              "<style scoped>\n",
              "    .dataframe tbody tr th:only-of-type {\n",
              "        vertical-align: middle;\n",
              "    }\n",
              "\n",
              "    .dataframe tbody tr th {\n",
              "        vertical-align: top;\n",
              "    }\n",
              "\n",
              "    .dataframe thead th {\n",
              "        text-align: right;\n",
              "    }\n",
              "</style>\n",
              "<table border=\"1\" class=\"dataframe\">\n",
              "  <thead>\n",
              "    <tr style=\"text-align: right;\">\n",
              "      <th></th>\n",
              "      <th>id</th>\n",
              "      <th>account_id</th>\n",
              "      <th>occurred_at</th>\n",
              "      <th>standard_qty</th>\n",
              "      <th>gloss_qty</th>\n",
              "      <th>poster_qty</th>\n",
              "      <th>total</th>\n",
              "      <th>standard_amt_usd</th>\n",
              "      <th>gloss_amt_usd</th>\n",
              "      <th>poster_amt_usd</th>\n",
              "      <th>total_amt_usd</th>\n",
              "    </tr>\n",
              "  </thead>\n",
              "  <tbody>\n",
              "    <tr>\n",
              "      <th>0</th>\n",
              "      <td>1</td>\n",
              "      <td>1001</td>\n",
              "      <td>2015-10-06 17:31:14</td>\n",
              "      <td>123</td>\n",
              "      <td>22</td>\n",
              "      <td>24</td>\n",
              "      <td>169</td>\n",
              "      <td>613.77</td>\n",
              "      <td>164.78</td>\n",
              "      <td>194.88</td>\n",
              "      <td>973.43</td>\n",
              "    </tr>\n",
              "    <tr>\n",
              "      <th>1</th>\n",
              "      <td>2</td>\n",
              "      <td>1001</td>\n",
              "      <td>2015-11-05 03:34:33</td>\n",
              "      <td>190</td>\n",
              "      <td>41</td>\n",
              "      <td>57</td>\n",
              "      <td>288</td>\n",
              "      <td>948.10</td>\n",
              "      <td>307.09</td>\n",
              "      <td>462.84</td>\n",
              "      <td>1718.03</td>\n",
              "    </tr>\n",
              "    <tr>\n",
              "      <th>2</th>\n",
              "      <td>3</td>\n",
              "      <td>1001</td>\n",
              "      <td>2015-12-04 04:21:55</td>\n",
              "      <td>85</td>\n",
              "      <td>47</td>\n",
              "      <td>0</td>\n",
              "      <td>132</td>\n",
              "      <td>424.15</td>\n",
              "      <td>352.03</td>\n",
              "      <td>0.00</td>\n",
              "      <td>776.18</td>\n",
              "    </tr>\n",
              "  </tbody>\n",
              "</table>\n",
              "</div>"
            ],
            "text/plain": [
              "   id  account_id  ... poster_amt_usd  total_amt_usd\n",
              "0   1        1001  ...         194.88         973.43\n",
              "1   2        1001  ...         462.84        1718.03\n",
              "2   3        1001  ...           0.00         776.18\n",
              "\n",
              "[3 rows x 11 columns]"
            ]
          },
          "metadata": {
            "tags": []
          },
          "execution_count": 15
        }
      ]
    },
    {
      "cell_type": "code",
      "metadata": {
        "colab": {
          "base_uri": "https://localhost:8080/",
          "height": 153
        },
        "id": "BB2qcN52wwqg",
        "outputId": "d6a45b6c-53cd-4ba4-e8c1-1e6b5fc30f46"
      },
      "source": [
        "# 3. For the region table\r\n",
        "\r\n",
        "query = 'SELECT * FROM region LIMIT 3;'\r\n",
        "query_to_df(query)"
      ],
      "execution_count": 16,
      "outputs": [
        {
          "output_type": "stream",
          "text": [
            "Query ran for 0.036257266998291016 secs!\n"
          ],
          "name": "stdout"
        },
        {
          "output_type": "execute_result",
          "data": {
            "text/html": [
              "<div>\n",
              "<style scoped>\n",
              "    .dataframe tbody tr th:only-of-type {\n",
              "        vertical-align: middle;\n",
              "    }\n",
              "\n",
              "    .dataframe tbody tr th {\n",
              "        vertical-align: top;\n",
              "    }\n",
              "\n",
              "    .dataframe thead th {\n",
              "        text-align: right;\n",
              "    }\n",
              "</style>\n",
              "<table border=\"1\" class=\"dataframe\">\n",
              "  <thead>\n",
              "    <tr style=\"text-align: right;\">\n",
              "      <th></th>\n",
              "      <th>id</th>\n",
              "      <th>name</th>\n",
              "    </tr>\n",
              "  </thead>\n",
              "  <tbody>\n",
              "    <tr>\n",
              "      <th>0</th>\n",
              "      <td>1</td>\n",
              "      <td>Northeast</td>\n",
              "    </tr>\n",
              "    <tr>\n",
              "      <th>1</th>\n",
              "      <td>2</td>\n",
              "      <td>Midwest</td>\n",
              "    </tr>\n",
              "    <tr>\n",
              "      <th>2</th>\n",
              "      <td>3</td>\n",
              "      <td>Southeast</td>\n",
              "    </tr>\n",
              "  </tbody>\n",
              "</table>\n",
              "</div>"
            ],
            "text/plain": [
              "   id       name\n",
              "0   1  Northeast\n",
              "1   2    Midwest\n",
              "2   3  Southeast"
            ]
          },
          "metadata": {
            "tags": []
          },
          "execution_count": 16
        }
      ]
    },
    {
      "cell_type": "code",
      "metadata": {
        "colab": {
          "base_uri": "https://localhost:8080/",
          "height": 153
        },
        "id": "No1ngBEgw6ln",
        "outputId": "7e851f11-8a54-4615-ac3c-6f5bef731421"
      },
      "source": [
        "# 4. For the sales_reps table\r\n",
        "\r\n",
        "query = 'SELECT * FROM sales_reps LIMIT 3;'\r\n",
        "query_to_df(query)"
      ],
      "execution_count": 17,
      "outputs": [
        {
          "output_type": "stream",
          "text": [
            "Query ran for 0.038065433502197266 secs!\n"
          ],
          "name": "stdout"
        },
        {
          "output_type": "execute_result",
          "data": {
            "text/html": [
              "<div>\n",
              "<style scoped>\n",
              "    .dataframe tbody tr th:only-of-type {\n",
              "        vertical-align: middle;\n",
              "    }\n",
              "\n",
              "    .dataframe tbody tr th {\n",
              "        vertical-align: top;\n",
              "    }\n",
              "\n",
              "    .dataframe thead th {\n",
              "        text-align: right;\n",
              "    }\n",
              "</style>\n",
              "<table border=\"1\" class=\"dataframe\">\n",
              "  <thead>\n",
              "    <tr style=\"text-align: right;\">\n",
              "      <th></th>\n",
              "      <th>id</th>\n",
              "      <th>name</th>\n",
              "      <th>region_id</th>\n",
              "    </tr>\n",
              "  </thead>\n",
              "  <tbody>\n",
              "    <tr>\n",
              "      <th>0</th>\n",
              "      <td>321500</td>\n",
              "      <td>Samuel Racine</td>\n",
              "      <td>1</td>\n",
              "    </tr>\n",
              "    <tr>\n",
              "      <th>1</th>\n",
              "      <td>321510</td>\n",
              "      <td>Eugena Esser</td>\n",
              "      <td>1</td>\n",
              "    </tr>\n",
              "    <tr>\n",
              "      <th>2</th>\n",
              "      <td>321520</td>\n",
              "      <td>Michel Averette</td>\n",
              "      <td>1</td>\n",
              "    </tr>\n",
              "  </tbody>\n",
              "</table>\n",
              "</div>"
            ],
            "text/plain": [
              "       id             name  region_id\n",
              "0  321500    Samuel Racine          1\n",
              "1  321510     Eugena Esser          1\n",
              "2  321520  Michel Averette          1"
            ]
          },
          "metadata": {
            "tags": []
          },
          "execution_count": 17
        }
      ]
    },
    {
      "cell_type": "code",
      "metadata": {
        "colab": {
          "base_uri": "https://localhost:8080/",
          "height": 153
        },
        "id": "w2lt2qutxEgg",
        "outputId": "6a4ee82b-852b-434b-c82b-7494cdbf0525"
      },
      "source": [
        "# 5. For the web_events table\r\n",
        "\r\n",
        "query = 'SELECT * FROM web_events LIMIT 3;'\r\n",
        "query_to_df(query)"
      ],
      "execution_count": 18,
      "outputs": [
        {
          "output_type": "stream",
          "text": [
            "Query ran for 0.037531375885009766 secs!\n"
          ],
          "name": "stdout"
        },
        {
          "output_type": "execute_result",
          "data": {
            "text/html": [
              "<div>\n",
              "<style scoped>\n",
              "    .dataframe tbody tr th:only-of-type {\n",
              "        vertical-align: middle;\n",
              "    }\n",
              "\n",
              "    .dataframe tbody tr th {\n",
              "        vertical-align: top;\n",
              "    }\n",
              "\n",
              "    .dataframe thead th {\n",
              "        text-align: right;\n",
              "    }\n",
              "</style>\n",
              "<table border=\"1\" class=\"dataframe\">\n",
              "  <thead>\n",
              "    <tr style=\"text-align: right;\">\n",
              "      <th></th>\n",
              "      <th>id</th>\n",
              "      <th>account_id</th>\n",
              "      <th>occurred_at</th>\n",
              "      <th>channel</th>\n",
              "    </tr>\n",
              "  </thead>\n",
              "  <tbody>\n",
              "    <tr>\n",
              "      <th>0</th>\n",
              "      <td>1</td>\n",
              "      <td>1001</td>\n",
              "      <td>2015-10-06 17:13:58</td>\n",
              "      <td>direct</td>\n",
              "    </tr>\n",
              "    <tr>\n",
              "      <th>1</th>\n",
              "      <td>2</td>\n",
              "      <td>1001</td>\n",
              "      <td>2015-11-05 03:08:26</td>\n",
              "      <td>direct</td>\n",
              "    </tr>\n",
              "    <tr>\n",
              "      <th>2</th>\n",
              "      <td>3</td>\n",
              "      <td>1001</td>\n",
              "      <td>2015-12-04 03:57:24</td>\n",
              "      <td>direct</td>\n",
              "    </tr>\n",
              "  </tbody>\n",
              "</table>\n",
              "</div>"
            ],
            "text/plain": [
              "   id  account_id         occurred_at channel\n",
              "0   1        1001 2015-10-06 17:13:58  direct\n",
              "1   2        1001 2015-11-05 03:08:26  direct\n",
              "2   3        1001 2015-12-04 03:57:24  direct"
            ]
          },
          "metadata": {
            "tags": []
          },
          "execution_count": 18
        }
      ]
    },
    {
      "cell_type": "code",
      "metadata": {
        "colab": {
          "base_uri": "https://localhost:8080/"
        },
        "id": "6vf7xehlyn39",
        "outputId": "23bf2296-6603-4932-85ff-8e1ef3583ac3"
      },
      "source": [
        "# let's close the cursor connection after running these queries\r\n",
        "cursor.close()"
      ],
      "execution_count": 19,
      "outputs": [
        {
          "output_type": "execute_result",
          "data": {
            "text/plain": [
              "True"
            ]
          },
          "metadata": {
            "tags": []
          },
          "execution_count": 19
        }
      ]
    },
    {
      "cell_type": "markdown",
      "metadata": {
        "id": "OFNmTxK22_o1"
      },
      "source": [
        "The SQL language has a few different elements. The most basic of which is the `statement`. Think of a statement as a piece of correctly written SQL codes. Statements tell the database what you'd like to do with the data.<br>For example `drop`, `create`, `alter` and so on. The most common tho is the `select` statement, which allows us to read data and display em. `Select` statements are commonly referrred to as queries.<br>\r\n",
        "Both the `select` and `from` clauses are mandatory, included in any query.\r\n",
        "\r\n",
        "The `SELECT` statement is where you put the columns for which you would like to show the data. The `FROM` statement is where you put the tables from which you would like to pull data."
      ]
    },
    {
      "cell_type": "code",
      "metadata": {
        "id": "_vWpXoOH51lI"
      },
      "source": [
        "# We closed the cursor connection above, so we reopen it first\r\n",
        "cursor = cnxn.cursor()"
      ],
      "execution_count": 20,
      "outputs": []
    },
    {
      "cell_type": "markdown",
      "metadata": {
        "id": "WKyuKDrmGrtB"
      },
      "source": [
        "Now let's select 10 rows from just a few columns from the orders table"
      ]
    },
    {
      "cell_type": "code",
      "metadata": {
        "colab": {
          "base_uri": "https://localhost:8080/",
          "height": 360
        },
        "id": "ikHS2dQvGyIy",
        "outputId": "f391385d-1cba-4230-b183-757d20a1bc63"
      },
      "source": [
        "query = 'SELECT id, account_id, occurred_at FROM orders LIMIT 10;'\r\n",
        "query_to_df(query)"
      ],
      "execution_count": 21,
      "outputs": [
        {
          "output_type": "stream",
          "text": [
            "Query ran for 0.052858829498291016 secs!\n"
          ],
          "name": "stdout"
        },
        {
          "output_type": "execute_result",
          "data": {
            "text/html": [
              "<div>\n",
              "<style scoped>\n",
              "    .dataframe tbody tr th:only-of-type {\n",
              "        vertical-align: middle;\n",
              "    }\n",
              "\n",
              "    .dataframe tbody tr th {\n",
              "        vertical-align: top;\n",
              "    }\n",
              "\n",
              "    .dataframe thead th {\n",
              "        text-align: right;\n",
              "    }\n",
              "</style>\n",
              "<table border=\"1\" class=\"dataframe\">\n",
              "  <thead>\n",
              "    <tr style=\"text-align: right;\">\n",
              "      <th></th>\n",
              "      <th>id</th>\n",
              "      <th>account_id</th>\n",
              "      <th>occurred_at</th>\n",
              "    </tr>\n",
              "  </thead>\n",
              "  <tbody>\n",
              "    <tr>\n",
              "      <th>0</th>\n",
              "      <td>1</td>\n",
              "      <td>1001</td>\n",
              "      <td>2015-10-06 17:31:14</td>\n",
              "    </tr>\n",
              "    <tr>\n",
              "      <th>1</th>\n",
              "      <td>2</td>\n",
              "      <td>1001</td>\n",
              "      <td>2015-11-05 03:34:33</td>\n",
              "    </tr>\n",
              "    <tr>\n",
              "      <th>2</th>\n",
              "      <td>3</td>\n",
              "      <td>1001</td>\n",
              "      <td>2015-12-04 04:21:55</td>\n",
              "    </tr>\n",
              "    <tr>\n",
              "      <th>3</th>\n",
              "      <td>4</td>\n",
              "      <td>1001</td>\n",
              "      <td>2016-01-02 01:18:24</td>\n",
              "    </tr>\n",
              "    <tr>\n",
              "      <th>4</th>\n",
              "      <td>5</td>\n",
              "      <td>1001</td>\n",
              "      <td>2016-02-01 19:27:27</td>\n",
              "    </tr>\n",
              "    <tr>\n",
              "      <th>5</th>\n",
              "      <td>6</td>\n",
              "      <td>1001</td>\n",
              "      <td>2016-03-02 15:29:32</td>\n",
              "    </tr>\n",
              "    <tr>\n",
              "      <th>6</th>\n",
              "      <td>7</td>\n",
              "      <td>1001</td>\n",
              "      <td>2016-04-01 11:20:18</td>\n",
              "    </tr>\n",
              "    <tr>\n",
              "      <th>7</th>\n",
              "      <td>8</td>\n",
              "      <td>1001</td>\n",
              "      <td>2016-05-01 15:55:51</td>\n",
              "    </tr>\n",
              "    <tr>\n",
              "      <th>8</th>\n",
              "      <td>9</td>\n",
              "      <td>1001</td>\n",
              "      <td>2016-05-31 21:22:48</td>\n",
              "    </tr>\n",
              "    <tr>\n",
              "      <th>9</th>\n",
              "      <td>10</td>\n",
              "      <td>1001</td>\n",
              "      <td>2016-06-30 12:32:05</td>\n",
              "    </tr>\n",
              "  </tbody>\n",
              "</table>\n",
              "</div>"
            ],
            "text/plain": [
              "   id  account_id         occurred_at\n",
              "0   1        1001 2015-10-06 17:31:14\n",
              "1   2        1001 2015-11-05 03:34:33\n",
              "2   3        1001 2015-12-04 04:21:55\n",
              "3   4        1001 2016-01-02 01:18:24\n",
              "4   5        1001 2016-02-01 19:27:27\n",
              "5   6        1001 2016-03-02 15:29:32\n",
              "6   7        1001 2016-04-01 11:20:18\n",
              "7   8        1001 2016-05-01 15:55:51\n",
              "8   9        1001 2016-05-31 21:22:48\n",
              "9  10        1001 2016-06-30 12:32:05"
            ]
          },
          "metadata": {
            "tags": []
          },
          "execution_count": 21
        }
      ]
    },
    {
      "cell_type": "markdown",
      "metadata": {
        "id": "xGCgDKM1KIhX"
      },
      "source": [
        "<h3>Formatting Best Practices..</h3>\r\n",
        "\r\n",
        "1. **Using Upper and Lower Case in SQL:**<br>\r\n",
        "SQL queries can be run successfully whether characters are written in upper- or lower-case. In other words, SQL queries are not case-sensitive\r\n",
        "\r\n",
        "2. **Capitalizing SQL Clauses:**<br>It is common and best practice to capitalize all SQL commands, like `SELECT` and `FROM`, and keep everything else in your query lower case. Capitalizing command words makes queries easier to read, which will matter more as you write more complex queries.\r\n",
        "\r\n",
        "3. **One other note:**<BR> The text data stored in SQL tables can be either upper or lower case, and SQL is case-sensitive in regard to this text data.\r\n",
        "\r\n",
        "4. **Avoid Spaces in Table and Variable Names:**<br>\r\n",
        "It is common to use underscores and avoid spaces in column names. It is a bit annoying to work with spaces in SQL. In Postgres if you have spaces in column or table names, you need to refer to these columns/tables with double quotes around them (Ex: `FROM \"Table Name\"` as opposed to `FROM table_name`). In other environments, you might see this as square brackets instead (Ex: `FROM [Table Name]`).\r\n",
        "\r\n",
        "5. **Use White Space in Queries:**<br>\r\n",
        "SQL queries ignore spaces, so you can add as many spaces and blank lines between code as you want, and the queries are the same. But pls use with decorum.\r\n",
        "\r\n",
        "6. **Semicolons:**<br>\r\n",
        "Depending on your SQL environment, your query may need a semicolon at the end to execute. Other environments are more flexible in terms of this being a \"requirement.\" It is considered best practice to put a semicolon at the end of each statement, which also allows you to run multiple queries at once if your environment allows this."
      ]
    },
    {
      "cell_type": "markdown",
      "metadata": {
        "id": "iVVZG2inOLif"
      },
      "source": [
        "**The LIMIT clause**\r\n",
        "\r\n",
        "* The `LIMIT` command is always the very last part of a query."
      ]
    },
    {
      "cell_type": "markdown",
      "metadata": {
        "id": "9RPA2aTvP8UF"
      },
      "source": [
        "**The ORDER BY Clause**\r\n",
        "\r\n",
        "* The `ORDER BY` statement allows us to sort our results using the data in any column. \r\n",
        "* Using `ORDER BY` in a SQL query only has temporary effects, for the results of that query, unlike sorting a sheet by column in Excel or Sheets.\r\n",
        "* The `ORDER BY` statement always comes in a query after the `SELECT` and `FROM` statements, but before the `LIMIT` statement. If you are using the `LIMIT` statement, it will always appear last.\r\n",
        "* Remember **DESC** can be added after the column in your `ORDER BY` statement to sort in descending order, as the default is to sort in ascending order."
      ]
    },
    {
      "cell_type": "markdown",
      "metadata": {
        "id": "926wZTCWKnC7"
      },
      "source": [
        "Write a query to return the 10 earliest orders in the orders table. Include the `id`, `occurred_at`, and `total_amt_usd` columns."
      ]
    },
    {
      "cell_type": "code",
      "metadata": {
        "colab": {
          "base_uri": "https://localhost:8080/",
          "height": 360
        },
        "id": "HTlZ5wu2KO-N",
        "outputId": "2864f233-fc4e-446a-8cb8-d8495f48c1bb"
      },
      "source": [
        "query = 'SELECT id, occurred_at, total_amt_usd FROM orders \\\r\n",
        "        ORDER BY occurred_at LIMIT 10;'\r\n",
        "query_to_df(query)"
      ],
      "execution_count": 22,
      "outputs": [
        {
          "output_type": "stream",
          "text": [
            "Query ran for 0.053076744079589844 secs!\n"
          ],
          "name": "stdout"
        },
        {
          "output_type": "execute_result",
          "data": {
            "text/html": [
              "<div>\n",
              "<style scoped>\n",
              "    .dataframe tbody tr th:only-of-type {\n",
              "        vertical-align: middle;\n",
              "    }\n",
              "\n",
              "    .dataframe tbody tr th {\n",
              "        vertical-align: top;\n",
              "    }\n",
              "\n",
              "    .dataframe thead th {\n",
              "        text-align: right;\n",
              "    }\n",
              "</style>\n",
              "<table border=\"1\" class=\"dataframe\">\n",
              "  <thead>\n",
              "    <tr style=\"text-align: right;\">\n",
              "      <th></th>\n",
              "      <th>id</th>\n",
              "      <th>occurred_at</th>\n",
              "      <th>total_amt_usd</th>\n",
              "    </tr>\n",
              "  </thead>\n",
              "  <tbody>\n",
              "    <tr>\n",
              "      <th>0</th>\n",
              "      <td>5786</td>\n",
              "      <td>2013-12-04 04:22:44</td>\n",
              "      <td>627.48</td>\n",
              "    </tr>\n",
              "    <tr>\n",
              "      <th>1</th>\n",
              "      <td>2415</td>\n",
              "      <td>2013-12-04 04:45:54</td>\n",
              "      <td>2646.77</td>\n",
              "    </tr>\n",
              "    <tr>\n",
              "      <th>2</th>\n",
              "      <td>4108</td>\n",
              "      <td>2013-12-04 04:53:25</td>\n",
              "      <td>2709.62</td>\n",
              "    </tr>\n",
              "    <tr>\n",
              "      <th>3</th>\n",
              "      <td>4489</td>\n",
              "      <td>2013-12-05 20:29:16</td>\n",
              "      <td>277.13</td>\n",
              "    </tr>\n",
              "    <tr>\n",
              "      <th>4</th>\n",
              "      <td>287</td>\n",
              "      <td>2013-12-05 20:33:56</td>\n",
              "      <td>3001.85</td>\n",
              "    </tr>\n",
              "    <tr>\n",
              "      <th>5</th>\n",
              "      <td>1946</td>\n",
              "      <td>2013-12-06 02:13:20</td>\n",
              "      <td>2802.90</td>\n",
              "    </tr>\n",
              "    <tr>\n",
              "      <th>6</th>\n",
              "      <td>6197</td>\n",
              "      <td>2013-12-06 12:55:22</td>\n",
              "      <td>7009.18</td>\n",
              "    </tr>\n",
              "    <tr>\n",
              "      <th>7</th>\n",
              "      <td>3122</td>\n",
              "      <td>2013-12-06 12:57:41</td>\n",
              "      <td>1992.13</td>\n",
              "    </tr>\n",
              "    <tr>\n",
              "      <th>8</th>\n",
              "      <td>6078</td>\n",
              "      <td>2013-12-06 13:14:47</td>\n",
              "      <td>6680.06</td>\n",
              "    </tr>\n",
              "    <tr>\n",
              "      <th>9</th>\n",
              "      <td>2932</td>\n",
              "      <td>2013-12-06 13:17:25</td>\n",
              "      <td>2075.94</td>\n",
              "    </tr>\n",
              "  </tbody>\n",
              "</table>\n",
              "</div>"
            ],
            "text/plain": [
              "     id         occurred_at  total_amt_usd\n",
              "0  5786 2013-12-04 04:22:44         627.48\n",
              "1  2415 2013-12-04 04:45:54        2646.77\n",
              "2  4108 2013-12-04 04:53:25        2709.62\n",
              "3  4489 2013-12-05 20:29:16         277.13\n",
              "4   287 2013-12-05 20:33:56        3001.85\n",
              "5  1946 2013-12-06 02:13:20        2802.90\n",
              "6  6197 2013-12-06 12:55:22        7009.18\n",
              "7  3122 2013-12-06 12:57:41        1992.13\n",
              "8  6078 2013-12-06 13:14:47        6680.06\n",
              "9  2932 2013-12-06 13:17:25        2075.94"
            ]
          },
          "metadata": {
            "tags": []
          },
          "execution_count": 22
        }
      ]
    },
    {
      "cell_type": "markdown",
      "metadata": {
        "id": "P1lIBpQWKMWT"
      },
      "source": [
        "Write a query to return the top 5 orders in terms of largest `total_amt_usd`. Include the `id`, `account_id`, and `total_amt_usd`."
      ]
    },
    {
      "cell_type": "code",
      "metadata": {
        "colab": {
          "base_uri": "https://localhost:8080/",
          "height": 212
        },
        "id": "MBvQu2W9Se6F",
        "outputId": "3b08f30f-da75-4a4d-f3a9-996443a063d8"
      },
      "source": [
        "query = 'SELECT id, account_id, total_amt_usd FROM orders \\\r\n",
        "        ORDER BY total_amt_usd DESC LIMIT 5;'\r\n",
        "query_to_df(query)"
      ],
      "execution_count": 23,
      "outputs": [
        {
          "output_type": "stream",
          "text": [
            "Query ran for 0.04217362403869629 secs!\n"
          ],
          "name": "stdout"
        },
        {
          "output_type": "execute_result",
          "data": {
            "text/html": [
              "<div>\n",
              "<style scoped>\n",
              "    .dataframe tbody tr th:only-of-type {\n",
              "        vertical-align: middle;\n",
              "    }\n",
              "\n",
              "    .dataframe tbody tr th {\n",
              "        vertical-align: top;\n",
              "    }\n",
              "\n",
              "    .dataframe thead th {\n",
              "        text-align: right;\n",
              "    }\n",
              "</style>\n",
              "<table border=\"1\" class=\"dataframe\">\n",
              "  <thead>\n",
              "    <tr style=\"text-align: right;\">\n",
              "      <th></th>\n",
              "      <th>id</th>\n",
              "      <th>account_id</th>\n",
              "      <th>total_amt_usd</th>\n",
              "    </tr>\n",
              "  </thead>\n",
              "  <tbody>\n",
              "    <tr>\n",
              "      <th>0</th>\n",
              "      <td>4016</td>\n",
              "      <td>4251</td>\n",
              "      <td>232207.06</td>\n",
              "    </tr>\n",
              "    <tr>\n",
              "      <th>1</th>\n",
              "      <td>3892</td>\n",
              "      <td>4161</td>\n",
              "      <td>112875.18</td>\n",
              "    </tr>\n",
              "    <tr>\n",
              "      <th>2</th>\n",
              "      <td>3963</td>\n",
              "      <td>4211</td>\n",
              "      <td>107533.55</td>\n",
              "    </tr>\n",
              "    <tr>\n",
              "      <th>3</th>\n",
              "      <td>5791</td>\n",
              "      <td>2861</td>\n",
              "      <td>95005.82</td>\n",
              "    </tr>\n",
              "    <tr>\n",
              "      <th>4</th>\n",
              "      <td>3778</td>\n",
              "      <td>4101</td>\n",
              "      <td>93547.84</td>\n",
              "    </tr>\n",
              "  </tbody>\n",
              "</table>\n",
              "</div>"
            ],
            "text/plain": [
              "     id  account_id  total_amt_usd\n",
              "0  4016        4251      232207.06\n",
              "1  3892        4161      112875.18\n",
              "2  3963        4211      107533.55\n",
              "3  5791        2861       95005.82\n",
              "4  3778        4101       93547.84"
            ]
          },
          "metadata": {
            "tags": []
          },
          "execution_count": 23
        }
      ]
    },
    {
      "cell_type": "markdown",
      "metadata": {
        "id": "L2lX8FY3DZZE"
      },
      "source": [
        "Write a query to return the lowest 20 orders in terms of smallest `total_amt_usd`. <br>Include the `id`, `account_id`, and `total_amt_usd`."
      ]
    },
    {
      "cell_type": "code",
      "metadata": {
        "colab": {
          "base_uri": "https://localhost:8080/",
          "height": 656
        },
        "id": "Q2dD9V4pTp4X",
        "outputId": "fb76b841-841a-42cf-e666-5ee7cc833e9f"
      },
      "source": [
        "query = 'SELECT id, account_id, total_amt_usd FROM orders ORDER \\\r\n",
        "        BY total_amt_usd LIMIT 20;'\r\n",
        "query_to_df(query)"
      ],
      "execution_count": 24,
      "outputs": [
        {
          "output_type": "stream",
          "text": [
            "Query ran for 0.06483292579650879 secs!\n"
          ],
          "name": "stdout"
        },
        {
          "output_type": "execute_result",
          "data": {
            "text/html": [
              "<div>\n",
              "<style scoped>\n",
              "    .dataframe tbody tr th:only-of-type {\n",
              "        vertical-align: middle;\n",
              "    }\n",
              "\n",
              "    .dataframe tbody tr th {\n",
              "        vertical-align: top;\n",
              "    }\n",
              "\n",
              "    .dataframe thead th {\n",
              "        text-align: right;\n",
              "    }\n",
              "</style>\n",
              "<table border=\"1\" class=\"dataframe\">\n",
              "  <thead>\n",
              "    <tr style=\"text-align: right;\">\n",
              "      <th></th>\n",
              "      <th>id</th>\n",
              "      <th>account_id</th>\n",
              "      <th>total_amt_usd</th>\n",
              "    </tr>\n",
              "  </thead>\n",
              "  <tbody>\n",
              "    <tr>\n",
              "      <th>0</th>\n",
              "      <td>2518</td>\n",
              "      <td>2881</td>\n",
              "      <td>0.0</td>\n",
              "    </tr>\n",
              "    <tr>\n",
              "      <th>1</th>\n",
              "      <td>4844</td>\n",
              "      <td>1571</td>\n",
              "      <td>0.0</td>\n",
              "    </tr>\n",
              "    <tr>\n",
              "      <th>2</th>\n",
              "      <td>5057</td>\n",
              "      <td>1851</td>\n",
              "      <td>0.0</td>\n",
              "    </tr>\n",
              "    <tr>\n",
              "      <th>3</th>\n",
              "      <td>4490</td>\n",
              "      <td>1281</td>\n",
              "      <td>0.0</td>\n",
              "    </tr>\n",
              "    <tr>\n",
              "      <th>4</th>\n",
              "      <td>6281</td>\n",
              "      <td>3491</td>\n",
              "      <td>0.0</td>\n",
              "    </tr>\n",
              "    <tr>\n",
              "      <th>5</th>\n",
              "      <td>6323</td>\n",
              "      <td>3551</td>\n",
              "      <td>0.0</td>\n",
              "    </tr>\n",
              "    <tr>\n",
              "      <th>6</th>\n",
              "      <td>4770</td>\n",
              "      <td>1521</td>\n",
              "      <td>0.0</td>\n",
              "    </tr>\n",
              "    <tr>\n",
              "      <th>7</th>\n",
              "      <td>6312</td>\n",
              "      <td>3541</td>\n",
              "      <td>0.0</td>\n",
              "    </tr>\n",
              "    <tr>\n",
              "      <th>8</th>\n",
              "      <td>5001</td>\n",
              "      <td>1791</td>\n",
              "      <td>0.0</td>\n",
              "    </tr>\n",
              "    <tr>\n",
              "      <th>9</th>\n",
              "      <td>6435</td>\n",
              "      <td>3801</td>\n",
              "      <td>0.0</td>\n",
              "    </tr>\n",
              "    <tr>\n",
              "      <th>10</th>\n",
              "      <td>6523</td>\n",
              "      <td>3991</td>\n",
              "      <td>0.0</td>\n",
              "    </tr>\n",
              "    <tr>\n",
              "      <th>11</th>\n",
              "      <td>1353</td>\n",
              "      <td>1951</td>\n",
              "      <td>0.0</td>\n",
              "    </tr>\n",
              "    <tr>\n",
              "      <th>12</th>\n",
              "      <td>6009</td>\n",
              "      <td>3141</td>\n",
              "      <td>0.0</td>\n",
              "    </tr>\n",
              "    <tr>\n",
              "      <th>13</th>\n",
              "      <td>5612</td>\n",
              "      <td>2601</td>\n",
              "      <td>0.0</td>\n",
              "    </tr>\n",
              "    <tr>\n",
              "      <th>14</th>\n",
              "      <td>4625</td>\n",
              "      <td>1411</td>\n",
              "      <td>0.0</td>\n",
              "    </tr>\n",
              "    <tr>\n",
              "      <th>15</th>\n",
              "      <td>4445</td>\n",
              "      <td>1221</td>\n",
              "      <td>0.0</td>\n",
              "    </tr>\n",
              "    <tr>\n",
              "      <th>16</th>\n",
              "      <td>6856</td>\n",
              "      <td>4451</td>\n",
              "      <td>0.0</td>\n",
              "    </tr>\n",
              "    <tr>\n",
              "      <th>17</th>\n",
              "      <td>6375</td>\n",
              "      <td>3651</td>\n",
              "      <td>0.0</td>\n",
              "    </tr>\n",
              "    <tr>\n",
              "      <th>18</th>\n",
              "      <td>124</td>\n",
              "      <td>1131</td>\n",
              "      <td>0.0</td>\n",
              "    </tr>\n",
              "    <tr>\n",
              "      <th>19</th>\n",
              "      <td>4446</td>\n",
              "      <td>1231</td>\n",
              "      <td>0.0</td>\n",
              "    </tr>\n",
              "  </tbody>\n",
              "</table>\n",
              "</div>"
            ],
            "text/plain": [
              "      id  account_id  total_amt_usd\n",
              "0   2518        2881            0.0\n",
              "1   4844        1571            0.0\n",
              "2   5057        1851            0.0\n",
              "3   4490        1281            0.0\n",
              "4   6281        3491            0.0\n",
              "5   6323        3551            0.0\n",
              "6   4770        1521            0.0\n",
              "7   6312        3541            0.0\n",
              "8   5001        1791            0.0\n",
              "9   6435        3801            0.0\n",
              "10  6523        3991            0.0\n",
              "11  1353        1951            0.0\n",
              "12  6009        3141            0.0\n",
              "13  5612        2601            0.0\n",
              "14  4625        1411            0.0\n",
              "15  4445        1221            0.0\n",
              "16  6856        4451            0.0\n",
              "17  6375        3651            0.0\n",
              "18   124        1131            0.0\n",
              "19  4446        1231            0.0"
            ]
          },
          "metadata": {
            "tags": []
          },
          "execution_count": 24
        }
      ]
    },
    {
      "cell_type": "markdown",
      "metadata": {
        "id": "RlD1UUVRBnpI"
      },
      "source": [
        "**The ORDER BY 2 Clause**\r\n",
        "\r\n",
        "* We can `ORDER BY` more than one column at a time\r\n",
        "* When you provide a list of columns in an `ORDER BY` command, the sorting occurs using the leftmost column in your list first, then the next column from the left, and so on.\r\n",
        "* We still have the ability to flip the way we order using `DESC`."
      ]
    },
    {
      "cell_type": "markdown",
      "metadata": {
        "id": "isKfxUjJC8HZ"
      },
      "source": [
        "Write a query that displays the order `ID`, `account ID`, and `total dollar amount` for all the orders, <br>sorted first by the `account ID` (in ascending order), and then by the `total dollar amount` (in descending order).\r\n"
      ]
    },
    {
      "cell_type": "code",
      "metadata": {
        "colab": {
          "base_uri": "https://localhost:8080/",
          "height": 418
        },
        "id": "DL37QUJ7D_o6",
        "outputId": "5235afc5-49c6-45e3-fa54-031fc8e3da55"
      },
      "source": [
        "query = 'SELECT id, account_id, total_amt_usd FROM orders \\\r\n",
        "        ORDER BY account_id, total_amt_usd DESC;'\r\n",
        "query_to_df(query)"
      ],
      "execution_count": 25,
      "outputs": [
        {
          "output_type": "stream",
          "text": [
            "Query ran for 7.764667510986328 secs!\n"
          ],
          "name": "stdout"
        },
        {
          "output_type": "execute_result",
          "data": {
            "text/html": [
              "<div>\n",
              "<style scoped>\n",
              "    .dataframe tbody tr th:only-of-type {\n",
              "        vertical-align: middle;\n",
              "    }\n",
              "\n",
              "    .dataframe tbody tr th {\n",
              "        vertical-align: top;\n",
              "    }\n",
              "\n",
              "    .dataframe thead th {\n",
              "        text-align: right;\n",
              "    }\n",
              "</style>\n",
              "<table border=\"1\" class=\"dataframe\">\n",
              "  <thead>\n",
              "    <tr style=\"text-align: right;\">\n",
              "      <th></th>\n",
              "      <th>id</th>\n",
              "      <th>account_id</th>\n",
              "      <th>total_amt_usd</th>\n",
              "    </tr>\n",
              "  </thead>\n",
              "  <tbody>\n",
              "    <tr>\n",
              "      <th>0</th>\n",
              "      <td>4308</td>\n",
              "      <td>1001</td>\n",
              "      <td>9426.71</td>\n",
              "    </tr>\n",
              "    <tr>\n",
              "      <th>1</th>\n",
              "      <td>4309</td>\n",
              "      <td>1001</td>\n",
              "      <td>9230.67</td>\n",
              "    </tr>\n",
              "    <tr>\n",
              "      <th>2</th>\n",
              "      <td>4316</td>\n",
              "      <td>1001</td>\n",
              "      <td>9134.31</td>\n",
              "    </tr>\n",
              "    <tr>\n",
              "      <th>3</th>\n",
              "      <td>4317</td>\n",
              "      <td>1001</td>\n",
              "      <td>8963.91</td>\n",
              "    </tr>\n",
              "    <tr>\n",
              "      <th>4</th>\n",
              "      <td>4314</td>\n",
              "      <td>1001</td>\n",
              "      <td>8863.24</td>\n",
              "    </tr>\n",
              "    <tr>\n",
              "      <th>...</th>\n",
              "      <td>...</td>\n",
              "      <td>...</td>\n",
              "      <td>...</td>\n",
              "    </tr>\n",
              "    <tr>\n",
              "      <th>6907</th>\n",
              "      <td>4301</td>\n",
              "      <td>4501</td>\n",
              "      <td>974.17</td>\n",
              "    </tr>\n",
              "    <tr>\n",
              "      <th>6908</th>\n",
              "      <td>4300</td>\n",
              "      <td>4501</td>\n",
              "      <td>875.54</td>\n",
              "    </tr>\n",
              "    <tr>\n",
              "      <th>6909</th>\n",
              "      <td>4306</td>\n",
              "      <td>4501</td>\n",
              "      <td>628.74</td>\n",
              "    </tr>\n",
              "    <tr>\n",
              "      <th>6910</th>\n",
              "      <td>4299</td>\n",
              "      <td>4501</td>\n",
              "      <td>157.24</td>\n",
              "    </tr>\n",
              "    <tr>\n",
              "      <th>6911</th>\n",
              "      <td>4305</td>\n",
              "      <td>4501</td>\n",
              "      <td>86.78</td>\n",
              "    </tr>\n",
              "  </tbody>\n",
              "</table>\n",
              "<p>6912 rows × 3 columns</p>\n",
              "</div>"
            ],
            "text/plain": [
              "        id  account_id  total_amt_usd\n",
              "0     4308        1001        9426.71\n",
              "1     4309        1001        9230.67\n",
              "2     4316        1001        9134.31\n",
              "3     4317        1001        8963.91\n",
              "4     4314        1001        8863.24\n",
              "...    ...         ...            ...\n",
              "6907  4301        4501         974.17\n",
              "6908  4300        4501         875.54\n",
              "6909  4306        4501         628.74\n",
              "6910  4299        4501         157.24\n",
              "6911  4305        4501          86.78\n",
              "\n",
              "[6912 rows x 3 columns]"
            ]
          },
          "metadata": {
            "tags": []
          },
          "execution_count": 25
        }
      ]
    },
    {
      "cell_type": "markdown",
      "metadata": {
        "id": "I2peHuRaMRT6"
      },
      "source": [
        "Now write a query that again displays `order ID`, `account ID`, and `total dollar amount` for each order, but this time sorted first by `total dollar amount` (in descending order), and then by `account ID` (in ascending order)."
      ]
    },
    {
      "cell_type": "code",
      "metadata": {
        "colab": {
          "base_uri": "https://localhost:8080/",
          "height": 418
        },
        "id": "HKHzzWKOD_gB",
        "outputId": "0ed6d93b-7cca-4aca-ff74-20d6999bcfb7"
      },
      "source": [
        "query = 'SELECT id, account_id, total_amt_usd FROM orders \\\r\n",
        "        ORDER BY total_amt_usd DESC, account_id;'\r\n",
        "query_to_df(query)"
      ],
      "execution_count": 26,
      "outputs": [
        {
          "output_type": "stream",
          "text": [
            "Query ran for 7.715097188949585 secs!\n"
          ],
          "name": "stdout"
        },
        {
          "output_type": "execute_result",
          "data": {
            "text/html": [
              "<div>\n",
              "<style scoped>\n",
              "    .dataframe tbody tr th:only-of-type {\n",
              "        vertical-align: middle;\n",
              "    }\n",
              "\n",
              "    .dataframe tbody tr th {\n",
              "        vertical-align: top;\n",
              "    }\n",
              "\n",
              "    .dataframe thead th {\n",
              "        text-align: right;\n",
              "    }\n",
              "</style>\n",
              "<table border=\"1\" class=\"dataframe\">\n",
              "  <thead>\n",
              "    <tr style=\"text-align: right;\">\n",
              "      <th></th>\n",
              "      <th>id</th>\n",
              "      <th>account_id</th>\n",
              "      <th>total_amt_usd</th>\n",
              "    </tr>\n",
              "  </thead>\n",
              "  <tbody>\n",
              "    <tr>\n",
              "      <th>0</th>\n",
              "      <td>4016</td>\n",
              "      <td>4251</td>\n",
              "      <td>232207.06</td>\n",
              "    </tr>\n",
              "    <tr>\n",
              "      <th>1</th>\n",
              "      <td>3892</td>\n",
              "      <td>4161</td>\n",
              "      <td>112875.18</td>\n",
              "    </tr>\n",
              "    <tr>\n",
              "      <th>2</th>\n",
              "      <td>3963</td>\n",
              "      <td>4211</td>\n",
              "      <td>107533.55</td>\n",
              "    </tr>\n",
              "    <tr>\n",
              "      <th>3</th>\n",
              "      <td>5791</td>\n",
              "      <td>2861</td>\n",
              "      <td>95005.82</td>\n",
              "    </tr>\n",
              "    <tr>\n",
              "      <th>4</th>\n",
              "      <td>3778</td>\n",
              "      <td>4101</td>\n",
              "      <td>93547.84</td>\n",
              "    </tr>\n",
              "    <tr>\n",
              "      <th>...</th>\n",
              "      <td>...</td>\n",
              "      <td>...</td>\n",
              "      <td>...</td>\n",
              "    </tr>\n",
              "    <tr>\n",
              "      <th>6907</th>\n",
              "      <td>6323</td>\n",
              "      <td>3551</td>\n",
              "      <td>0.00</td>\n",
              "    </tr>\n",
              "    <tr>\n",
              "      <th>6908</th>\n",
              "      <td>6375</td>\n",
              "      <td>3651</td>\n",
              "      <td>0.00</td>\n",
              "    </tr>\n",
              "    <tr>\n",
              "      <th>6909</th>\n",
              "      <td>6435</td>\n",
              "      <td>3801</td>\n",
              "      <td>0.00</td>\n",
              "    </tr>\n",
              "    <tr>\n",
              "      <th>6910</th>\n",
              "      <td>6523</td>\n",
              "      <td>3991</td>\n",
              "      <td>0.00</td>\n",
              "    </tr>\n",
              "    <tr>\n",
              "      <th>6911</th>\n",
              "      <td>6856</td>\n",
              "      <td>4451</td>\n",
              "      <td>0.00</td>\n",
              "    </tr>\n",
              "  </tbody>\n",
              "</table>\n",
              "<p>6912 rows × 3 columns</p>\n",
              "</div>"
            ],
            "text/plain": [
              "        id  account_id  total_amt_usd\n",
              "0     4016        4251      232207.06\n",
              "1     3892        4161      112875.18\n",
              "2     3963        4211      107533.55\n",
              "3     5791        2861       95005.82\n",
              "4     3778        4101       93547.84\n",
              "...    ...         ...            ...\n",
              "6907  6323        3551           0.00\n",
              "6908  6375        3651           0.00\n",
              "6909  6435        3801           0.00\n",
              "6910  6523        3991           0.00\n",
              "6911  6856        4451           0.00\n",
              "\n",
              "[6912 rows x 3 columns]"
            ]
          },
          "metadata": {
            "tags": []
          },
          "execution_count": 26
        }
      ]
    },
    {
      "cell_type": "markdown",
      "metadata": {
        "id": "Yyhc87EaNpBl"
      },
      "source": [
        "Compare the results of these two queries above. How are the results different when you switch the column you sort on first?\r\n",
        "\r\n",
        "**Ans:** \r\n",
        "* For the first query, order by account_id first ensures that each account_id ascends from lowest to highest. And for each account_id, the total_amt_usd is decreasing from highest to lowest.\r\n",
        "* For the second query where we sort by total_amt_usd DESC first, the query is sorted by the observations with the highest total_amt_usd first, and the account_id next. Now if each account_id has multiple total_amt_usd, then these would be sorted by total_amt_usd Desc first.\r\n",
        "* In query #1, all of the orders for each account ID are grouped together, and then within each of those groupings, the orders appear from the greatest order amount to the least. \r\n",
        "* In query #2, since you sorted by the total dollar amount first, the orders appear from greatest to least regardless of which account ID they were from. Then they are sorted by account ID next. (The secondary sorting by account ID is difficult to see here, since only if there were two orders with equal total dollar amounts would there need to be any sorting by account ID.)\r\n",
        "\r\n"
      ]
    },
    {
      "cell_type": "markdown",
      "metadata": {
        "id": "P1M3QufHV_CB"
      },
      "source": [
        "**The WHERE Clause:**\r\n",
        "\r\n",
        "* Using the `WHERE` statement, we can display subsets of tables based on conditions that must be met. You can also think of the `WHERE` command as filtering the data.\r\n",
        "* The `WHERE` clause goes after `FROM`, but before `ORDER BY` or `LIMIT`\r\n",
        "* Common symbols used in `WHERE` statements include:\r\n",
        "** $>$ (greater than)\r\n",
        "** $<$ (less than)\r\n",
        "** $>=$ (greater than or equal to)\r\n",
        "** $<=$ (less than or equal to)\r\n",
        "** $=$ (equal to)\r\n",
        "** $!=$ (not equal to)"
      ]
    },
    {
      "cell_type": "markdown",
      "metadata": {
        "id": "JGZ7LOge5mzF"
      },
      "source": [
        "Write a query that:\r\n",
        "\r\n",
        "Pulls the first 5 rows and all columns from the orders table that have a dollar amount of gloss_amt_usd greater than or equal to 1000."
      ]
    },
    {
      "cell_type": "code",
      "metadata": {
        "id": "tn9uGy2CD_ap",
        "colab": {
          "base_uri": "https://localhost:8080/",
          "height": 212
        },
        "outputId": "e269fc5b-3bc3-4660-c447-4ff8fd789eda"
      },
      "source": [
        "query = 'SELECT * FROM orders WHERE gloss_amt_usd >= 1000 LIMIT 5;'\r\n",
        "query_to_df(query)"
      ],
      "execution_count": 27,
      "outputs": [
        {
          "output_type": "stream",
          "text": [
            "Query ran for 0.04915308952331543 secs!\n"
          ],
          "name": "stdout"
        },
        {
          "output_type": "execute_result",
          "data": {
            "text/html": [
              "<div>\n",
              "<style scoped>\n",
              "    .dataframe tbody tr th:only-of-type {\n",
              "        vertical-align: middle;\n",
              "    }\n",
              "\n",
              "    .dataframe tbody tr th {\n",
              "        vertical-align: top;\n",
              "    }\n",
              "\n",
              "    .dataframe thead th {\n",
              "        text-align: right;\n",
              "    }\n",
              "</style>\n",
              "<table border=\"1\" class=\"dataframe\">\n",
              "  <thead>\n",
              "    <tr style=\"text-align: right;\">\n",
              "      <th></th>\n",
              "      <th>id</th>\n",
              "      <th>account_id</th>\n",
              "      <th>occurred_at</th>\n",
              "      <th>standard_qty</th>\n",
              "      <th>gloss_qty</th>\n",
              "      <th>poster_qty</th>\n",
              "      <th>total</th>\n",
              "      <th>standard_amt_usd</th>\n",
              "      <th>gloss_amt_usd</th>\n",
              "      <th>poster_amt_usd</th>\n",
              "      <th>total_amt_usd</th>\n",
              "    </tr>\n",
              "  </thead>\n",
              "  <tbody>\n",
              "    <tr>\n",
              "      <th>0</th>\n",
              "      <td>14</td>\n",
              "      <td>1001</td>\n",
              "      <td>2016-10-26 20:31:30</td>\n",
              "      <td>97</td>\n",
              "      <td>143</td>\n",
              "      <td>54</td>\n",
              "      <td>294</td>\n",
              "      <td>484.03</td>\n",
              "      <td>1071.07</td>\n",
              "      <td>438.48</td>\n",
              "      <td>1993.58</td>\n",
              "    </tr>\n",
              "    <tr>\n",
              "      <th>1</th>\n",
              "      <td>62</td>\n",
              "      <td>1091</td>\n",
              "      <td>2014-10-13 12:12:55</td>\n",
              "      <td>146</td>\n",
              "      <td>196</td>\n",
              "      <td>3</td>\n",
              "      <td>345</td>\n",
              "      <td>728.54</td>\n",
              "      <td>1468.04</td>\n",
              "      <td>24.36</td>\n",
              "      <td>2220.94</td>\n",
              "    </tr>\n",
              "    <tr>\n",
              "      <th>2</th>\n",
              "      <td>88</td>\n",
              "      <td>1101</td>\n",
              "      <td>2015-06-24 13:08:15</td>\n",
              "      <td>182</td>\n",
              "      <td>339</td>\n",
              "      <td>17</td>\n",
              "      <td>538</td>\n",
              "      <td>908.18</td>\n",
              "      <td>2539.11</td>\n",
              "      <td>138.04</td>\n",
              "      <td>3585.33</td>\n",
              "    </tr>\n",
              "    <tr>\n",
              "      <th>3</th>\n",
              "      <td>121</td>\n",
              "      <td>1131</td>\n",
              "      <td>2016-08-10 23:47:41</td>\n",
              "      <td>273</td>\n",
              "      <td>134</td>\n",
              "      <td>0</td>\n",
              "      <td>407</td>\n",
              "      <td>1362.27</td>\n",
              "      <td>1003.66</td>\n",
              "      <td>0.00</td>\n",
              "      <td>2365.93</td>\n",
              "    </tr>\n",
              "    <tr>\n",
              "      <th>4</th>\n",
              "      <td>129</td>\n",
              "      <td>1141</td>\n",
              "      <td>2016-12-21 15:52:58</td>\n",
              "      <td>143</td>\n",
              "      <td>1045</td>\n",
              "      <td>2157</td>\n",
              "      <td>3345</td>\n",
              "      <td>713.57</td>\n",
              "      <td>7827.05</td>\n",
              "      <td>17514.84</td>\n",
              "      <td>26055.46</td>\n",
              "    </tr>\n",
              "  </tbody>\n",
              "</table>\n",
              "</div>"
            ],
            "text/plain": [
              "    id  account_id  ... poster_amt_usd  total_amt_usd\n",
              "0   14        1001  ...         438.48        1993.58\n",
              "1   62        1091  ...          24.36        2220.94\n",
              "2   88        1101  ...         138.04        3585.33\n",
              "3  121        1131  ...           0.00        2365.93\n",
              "4  129        1141  ...       17514.84       26055.46\n",
              "\n",
              "[5 rows x 11 columns]"
            ]
          },
          "metadata": {
            "tags": []
          },
          "execution_count": 27
        }
      ]
    },
    {
      "cell_type": "markdown",
      "metadata": {
        "id": "c94Rj-Vh6qTR"
      },
      "source": [
        "Pulls the first 10 rows and all columns from the orders table that have a total_amt_usd less than 500."
      ]
    },
    {
      "cell_type": "code",
      "metadata": {
        "colab": {
          "base_uri": "https://localhost:8080/",
          "height": 360
        },
        "id": "WVn-Ql1n7GCb",
        "outputId": "b5123224-4837-4e83-d25d-c7f7588a81fd"
      },
      "source": [
        "query = 'SELECT * FROM orders WHERE total_amt_usd < 500  LIMIT 10;'\r\n",
        "query_to_df(query)"
      ],
      "execution_count": 28,
      "outputs": [
        {
          "output_type": "stream",
          "text": [
            "Query ran for 0.059696197509765625 secs!\n"
          ],
          "name": "stdout"
        },
        {
          "output_type": "execute_result",
          "data": {
            "text/html": [
              "<div>\n",
              "<style scoped>\n",
              "    .dataframe tbody tr th:only-of-type {\n",
              "        vertical-align: middle;\n",
              "    }\n",
              "\n",
              "    .dataframe tbody tr th {\n",
              "        vertical-align: top;\n",
              "    }\n",
              "\n",
              "    .dataframe thead th {\n",
              "        text-align: right;\n",
              "    }\n",
              "</style>\n",
              "<table border=\"1\" class=\"dataframe\">\n",
              "  <thead>\n",
              "    <tr style=\"text-align: right;\">\n",
              "      <th></th>\n",
              "      <th>id</th>\n",
              "      <th>account_id</th>\n",
              "      <th>occurred_at</th>\n",
              "      <th>standard_qty</th>\n",
              "      <th>gloss_qty</th>\n",
              "      <th>poster_qty</th>\n",
              "      <th>total</th>\n",
              "      <th>standard_amt_usd</th>\n",
              "      <th>gloss_amt_usd</th>\n",
              "      <th>poster_amt_usd</th>\n",
              "      <th>total_amt_usd</th>\n",
              "    </tr>\n",
              "  </thead>\n",
              "  <tbody>\n",
              "    <tr>\n",
              "      <th>0</th>\n",
              "      <td>67</td>\n",
              "      <td>1091</td>\n",
              "      <td>2015-04-07 13:29:20</td>\n",
              "      <td>95</td>\n",
              "      <td>0</td>\n",
              "      <td>0</td>\n",
              "      <td>95</td>\n",
              "      <td>474.05</td>\n",
              "      <td>0.00</td>\n",
              "      <td>0.00</td>\n",
              "      <td>474.05</td>\n",
              "    </tr>\n",
              "    <tr>\n",
              "      <th>1</th>\n",
              "      <td>96</td>\n",
              "      <td>1101</td>\n",
              "      <td>2016-03-15 11:36:03</td>\n",
              "      <td>14</td>\n",
              "      <td>8</td>\n",
              "      <td>16</td>\n",
              "      <td>38</td>\n",
              "      <td>69.86</td>\n",
              "      <td>59.92</td>\n",
              "      <td>129.92</td>\n",
              "      <td>259.70</td>\n",
              "    </tr>\n",
              "    <tr>\n",
              "      <th>2</th>\n",
              "      <td>119</td>\n",
              "      <td>1131</td>\n",
              "      <td>2016-06-12 12:29:45</td>\n",
              "      <td>0</td>\n",
              "      <td>30</td>\n",
              "      <td>23</td>\n",
              "      <td>53</td>\n",
              "      <td>0.00</td>\n",
              "      <td>224.70</td>\n",
              "      <td>186.76</td>\n",
              "      <td>411.46</td>\n",
              "    </tr>\n",
              "    <tr>\n",
              "      <th>3</th>\n",
              "      <td>124</td>\n",
              "      <td>1131</td>\n",
              "      <td>2016-11-07 05:10:56</td>\n",
              "      <td>0</td>\n",
              "      <td>0</td>\n",
              "      <td>0</td>\n",
              "      <td>0</td>\n",
              "      <td>0.00</td>\n",
              "      <td>0.00</td>\n",
              "      <td>0.00</td>\n",
              "      <td>0.00</td>\n",
              "    </tr>\n",
              "    <tr>\n",
              "      <th>4</th>\n",
              "      <td>254</td>\n",
              "      <td>1251</td>\n",
              "      <td>2014-11-01 02:15:24</td>\n",
              "      <td>0</td>\n",
              "      <td>0</td>\n",
              "      <td>17</td>\n",
              "      <td>17</td>\n",
              "      <td>0.00</td>\n",
              "      <td>0.00</td>\n",
              "      <td>138.04</td>\n",
              "      <td>138.04</td>\n",
              "    </tr>\n",
              "    <tr>\n",
              "      <th>5</th>\n",
              "      <td>328</td>\n",
              "      <td>1291</td>\n",
              "      <td>2015-08-03 08:35:23</td>\n",
              "      <td>0</td>\n",
              "      <td>19</td>\n",
              "      <td>21</td>\n",
              "      <td>40</td>\n",
              "      <td>0.00</td>\n",
              "      <td>142.31</td>\n",
              "      <td>170.52</td>\n",
              "      <td>312.83</td>\n",
              "    </tr>\n",
              "    <tr>\n",
              "      <th>6</th>\n",
              "      <td>542</td>\n",
              "      <td>1421</td>\n",
              "      <td>2015-11-13 09:07:09</td>\n",
              "      <td>0</td>\n",
              "      <td>64</td>\n",
              "      <td>0</td>\n",
              "      <td>64</td>\n",
              "      <td>0.00</td>\n",
              "      <td>479.36</td>\n",
              "      <td>0.00</td>\n",
              "      <td>479.36</td>\n",
              "    </tr>\n",
              "    <tr>\n",
              "      <th>7</th>\n",
              "      <td>683</td>\n",
              "      <td>1501</td>\n",
              "      <td>2016-04-14 23:59:50</td>\n",
              "      <td>0</td>\n",
              "      <td>15</td>\n",
              "      <td>16</td>\n",
              "      <td>31</td>\n",
              "      <td>0.00</td>\n",
              "      <td>112.35</td>\n",
              "      <td>129.92</td>\n",
              "      <td>242.27</td>\n",
              "    </tr>\n",
              "    <tr>\n",
              "      <th>8</th>\n",
              "      <td>713</td>\n",
              "      <td>1521</td>\n",
              "      <td>2014-11-23 16:04:03</td>\n",
              "      <td>0</td>\n",
              "      <td>8</td>\n",
              "      <td>10</td>\n",
              "      <td>18</td>\n",
              "      <td>0.00</td>\n",
              "      <td>59.92</td>\n",
              "      <td>81.20</td>\n",
              "      <td>141.12</td>\n",
              "    </tr>\n",
              "    <tr>\n",
              "      <th>9</th>\n",
              "      <td>730</td>\n",
              "      <td>1521</td>\n",
              "      <td>2016-05-06 02:34:48</td>\n",
              "      <td>0</td>\n",
              "      <td>0</td>\n",
              "      <td>2</td>\n",
              "      <td>2</td>\n",
              "      <td>0.00</td>\n",
              "      <td>0.00</td>\n",
              "      <td>16.24</td>\n",
              "      <td>16.24</td>\n",
              "    </tr>\n",
              "  </tbody>\n",
              "</table>\n",
              "</div>"
            ],
            "text/plain": [
              "    id  account_id  ... poster_amt_usd  total_amt_usd\n",
              "0   67        1091  ...           0.00         474.05\n",
              "1   96        1101  ...         129.92         259.70\n",
              "2  119        1131  ...         186.76         411.46\n",
              "3  124        1131  ...           0.00           0.00\n",
              "4  254        1251  ...         138.04         138.04\n",
              "5  328        1291  ...         170.52         312.83\n",
              "6  542        1421  ...           0.00         479.36\n",
              "7  683        1501  ...         129.92         242.27\n",
              "8  713        1521  ...          81.20         141.12\n",
              "9  730        1521  ...          16.24          16.24\n",
              "\n",
              "[10 rows x 11 columns]"
            ]
          },
          "metadata": {
            "tags": []
          },
          "execution_count": 28
        }
      ]
    },
    {
      "cell_type": "markdown",
      "metadata": {
        "id": "hGMVA7WM8XQf"
      },
      "source": [
        "**WHERE Clause contd...**\r\n",
        "\r\n",
        "The `WHERE` statement can also be used with non-numeric data. We can use the = and != operators here. You need to be sure to use single quotes (just be careful if you have quotes in the original text) with the text data, not double quotes.\r\n",
        "\r\n",
        "Commonly when we are using `WHERE` with non-numeric data fields, we use the `LIKE`, `NOT`, or `IN` operators. "
      ]
    },
    {
      "cell_type": "markdown",
      "metadata": {
        "id": "C4FE4B1d81f6"
      },
      "source": [
        "Filter the accounts table to include the company name, website, and the primary point of contact (primary_poc) just for the Exxon Mobil company in the accounts table."
      ]
    },
    {
      "cell_type": "code",
      "metadata": {
        "colab": {
          "base_uri": "https://localhost:8080/",
          "height": 94
        },
        "id": "qh2T8n8W88C2",
        "outputId": "6935f718-56cc-42d9-8ccc-7c796276a3c0"
      },
      "source": [
        "query = \"SELECT name, website, primary_poc FROM accounts WHERE name = 'Exxon Mobil';\"\r\n",
        "query_to_df(query)"
      ],
      "execution_count": 29,
      "outputs": [
        {
          "output_type": "stream",
          "text": [
            "Query ran for 0.03558039665222168 secs!\n"
          ],
          "name": "stdout"
        },
        {
          "output_type": "execute_result",
          "data": {
            "text/html": [
              "<div>\n",
              "<style scoped>\n",
              "    .dataframe tbody tr th:only-of-type {\n",
              "        vertical-align: middle;\n",
              "    }\n",
              "\n",
              "    .dataframe tbody tr th {\n",
              "        vertical-align: top;\n",
              "    }\n",
              "\n",
              "    .dataframe thead th {\n",
              "        text-align: right;\n",
              "    }\n",
              "</style>\n",
              "<table border=\"1\" class=\"dataframe\">\n",
              "  <thead>\n",
              "    <tr style=\"text-align: right;\">\n",
              "      <th></th>\n",
              "      <th>name</th>\n",
              "      <th>website</th>\n",
              "      <th>primary_poc</th>\n",
              "    </tr>\n",
              "  </thead>\n",
              "  <tbody>\n",
              "    <tr>\n",
              "      <th>0</th>\n",
              "      <td>Exxon Mobil</td>\n",
              "      <td>www.exxonmobil.com</td>\n",
              "      <td>Sung Shields</td>\n",
              "    </tr>\n",
              "  </tbody>\n",
              "</table>\n",
              "</div>"
            ],
            "text/plain": [
              "          name             website   primary_poc\n",
              "0  Exxon Mobil  www.exxonmobil.com  Sung Shields"
            ]
          },
          "metadata": {
            "tags": []
          },
          "execution_count": 29
        }
      ]
    },
    {
      "cell_type": "markdown",
      "metadata": {
        "id": "hhBkzU1k-Fe5"
      },
      "source": [
        "Note: If you received an error message when executing your query, remember that SQL requires single-quotes, not double-quotes, around text values like 'Exxon Mobil.'"
      ]
    },
    {
      "cell_type": "markdown",
      "metadata": {
        "id": "Nt9UCT7P-wpx"
      },
      "source": [
        "**Derived Columns:**\r\n",
        "\r\n",
        "* Creating a new column that is a combination of existing columns is known as a derived column (or \"calculated\" or \"computed\" column). Usually you want to give a name, or \"alias,\" to your new column using the `AS` keyword.\r\n",
        "* This derived column, and its alias, are generally only temporary, existing just for the duration of your query. The next time you run a query and access this table, the new column will not be there.\r\n",
        "* **Order of Operations**<br>\r\n",
        "Remember **PEMDAS** from math class to help remember the order of operations? The same order of operations applies when using arithmetic operators in SQL.\r\n",
        "\r\n",
        "The following two statements have very different end results:\r\n",
        "\r\n",
        "* Standard_qty / standard_qty + gloss_qty + poster_qty\r\n",
        "* standard_qty / (standard_qty + gloss_qty + poster_qty)"
      ]
    },
    {
      "cell_type": "markdown",
      "metadata": {
        "id": "hYmEbK7V_1t6"
      },
      "source": [
        "Select id, account_id, gloss_amt_usd, total_amt_usd and add a derived column called pct_gloss_amt by dividing gloss_amt_usd by total_amt_usd. Show only 10 rows"
      ]
    },
    {
      "cell_type": "code",
      "metadata": {
        "colab": {
          "base_uri": "https://localhost:8080/",
          "height": 360
        },
        "id": "y7eL2-BpAlDE",
        "outputId": "ab0f3310-aa8d-451f-f09b-de844858c13e"
      },
      "source": [
        "query = 'SELECT id, account_id, gloss_amt_usd, total_amt_usd, \\\r\n",
        "        (gloss_amt_usd/total_amt_usd) AS pct_gloss_amt FROM orders LIMIT 10;'\r\n",
        "query_to_df(query)"
      ],
      "execution_count": 30,
      "outputs": [
        {
          "output_type": "stream",
          "text": [
            "Query ran for 0.04852128028869629 secs!\n"
          ],
          "name": "stdout"
        },
        {
          "output_type": "execute_result",
          "data": {
            "text/html": [
              "<div>\n",
              "<style scoped>\n",
              "    .dataframe tbody tr th:only-of-type {\n",
              "        vertical-align: middle;\n",
              "    }\n",
              "\n",
              "    .dataframe tbody tr th {\n",
              "        vertical-align: top;\n",
              "    }\n",
              "\n",
              "    .dataframe thead th {\n",
              "        text-align: right;\n",
              "    }\n",
              "</style>\n",
              "<table border=\"1\" class=\"dataframe\">\n",
              "  <thead>\n",
              "    <tr style=\"text-align: right;\">\n",
              "      <th></th>\n",
              "      <th>id</th>\n",
              "      <th>account_id</th>\n",
              "      <th>gloss_amt_usd</th>\n",
              "      <th>total_amt_usd</th>\n",
              "      <th>pct_gloss_amt</th>\n",
              "    </tr>\n",
              "  </thead>\n",
              "  <tbody>\n",
              "    <tr>\n",
              "      <th>0</th>\n",
              "      <td>1</td>\n",
              "      <td>1001</td>\n",
              "      <td>164.78</td>\n",
              "      <td>973.43</td>\n",
              "      <td>0.169278</td>\n",
              "    </tr>\n",
              "    <tr>\n",
              "      <th>1</th>\n",
              "      <td>2</td>\n",
              "      <td>1001</td>\n",
              "      <td>307.09</td>\n",
              "      <td>1718.03</td>\n",
              "      <td>0.178745</td>\n",
              "    </tr>\n",
              "    <tr>\n",
              "      <th>2</th>\n",
              "      <td>3</td>\n",
              "      <td>1001</td>\n",
              "      <td>352.03</td>\n",
              "      <td>776.18</td>\n",
              "      <td>0.453542</td>\n",
              "    </tr>\n",
              "    <tr>\n",
              "      <th>3</th>\n",
              "      <td>4</td>\n",
              "      <td>1001</td>\n",
              "      <td>239.68</td>\n",
              "      <td>958.24</td>\n",
              "      <td>0.250125</td>\n",
              "    </tr>\n",
              "    <tr>\n",
              "      <th>4</th>\n",
              "      <td>5</td>\n",
              "      <td>1001</td>\n",
              "      <td>217.21</td>\n",
              "      <td>983.49</td>\n",
              "      <td>0.220856</td>\n",
              "    </tr>\n",
              "    <tr>\n",
              "      <th>5</th>\n",
              "      <td>6</td>\n",
              "      <td>1001</td>\n",
              "      <td>179.76</td>\n",
              "      <td>1067.25</td>\n",
              "      <td>0.168433</td>\n",
              "    </tr>\n",
              "    <tr>\n",
              "      <th>6</th>\n",
              "      <td>7</td>\n",
              "      <td>1001</td>\n",
              "      <td>247.17</td>\n",
              "      <td>1498.20</td>\n",
              "      <td>0.164978</td>\n",
              "    </tr>\n",
              "    <tr>\n",
              "      <th>7</th>\n",
              "      <td>8</td>\n",
              "      <td>1001</td>\n",
              "      <td>352.03</td>\n",
              "      <td>2052.20</td>\n",
              "      <td>0.171538</td>\n",
              "    </tr>\n",
              "    <tr>\n",
              "      <th>8</th>\n",
              "      <td>9</td>\n",
              "      <td>1001</td>\n",
              "      <td>119.84</td>\n",
              "      <td>752.57</td>\n",
              "      <td>0.159241</td>\n",
              "    </tr>\n",
              "    <tr>\n",
              "      <th>9</th>\n",
              "      <td>10</td>\n",
              "      <td>1001</td>\n",
              "      <td>344.54</td>\n",
              "      <td>878.56</td>\n",
              "      <td>0.392164</td>\n",
              "    </tr>\n",
              "  </tbody>\n",
              "</table>\n",
              "</div>"
            ],
            "text/plain": [
              "   id  account_id  gloss_amt_usd  total_amt_usd  pct_gloss_amt\n",
              "0   1        1001         164.78         973.43       0.169278\n",
              "1   2        1001         307.09        1718.03       0.178745\n",
              "2   3        1001         352.03         776.18       0.453542\n",
              "3   4        1001         239.68         958.24       0.250125\n",
              "4   5        1001         217.21         983.49       0.220856\n",
              "5   6        1001         179.76        1067.25       0.168433\n",
              "6   7        1001         247.17        1498.20       0.164978\n",
              "7   8        1001         352.03        2052.20       0.171538\n",
              "8   9        1001         119.84         752.57       0.159241\n",
              "9  10        1001         344.54         878.56       0.392164"
            ]
          },
          "metadata": {
            "tags": []
          },
          "execution_count": 30
        }
      ]
    },
    {
      "cell_type": "markdown",
      "metadata": {
        "id": "GRRltA7bBoy-"
      },
      "source": [
        "Using the orders table Create a column that divides the standard_amt_usd by the standard_qty to find the unit price for standard paper for each order. Limit the results to the first 10 orders, and include the id and account_id fields.\r\n"
      ]
    },
    {
      "cell_type": "code",
      "metadata": {
        "colab": {
          "base_uri": "https://localhost:8080/",
          "height": 360
        },
        "id": "eVqSULb3B4-6",
        "outputId": "9918c3f5-8426-4edb-fbac-e058c7076afe"
      },
      "source": [
        "query = 'SELECT id, account_id, (standard_amt_usd / standard_qty) \\\r\n",
        "        AS unit_price FROM orders LIMIT 10;'\r\n",
        "\r\n",
        "query_to_df(query)"
      ],
      "execution_count": 31,
      "outputs": [
        {
          "output_type": "stream",
          "text": [
            "Query ran for 0.04488873481750488 secs!\n"
          ],
          "name": "stdout"
        },
        {
          "output_type": "execute_result",
          "data": {
            "text/html": [
              "<div>\n",
              "<style scoped>\n",
              "    .dataframe tbody tr th:only-of-type {\n",
              "        vertical-align: middle;\n",
              "    }\n",
              "\n",
              "    .dataframe tbody tr th {\n",
              "        vertical-align: top;\n",
              "    }\n",
              "\n",
              "    .dataframe thead th {\n",
              "        text-align: right;\n",
              "    }\n",
              "</style>\n",
              "<table border=\"1\" class=\"dataframe\">\n",
              "  <thead>\n",
              "    <tr style=\"text-align: right;\">\n",
              "      <th></th>\n",
              "      <th>id</th>\n",
              "      <th>account_id</th>\n",
              "      <th>unit_price</th>\n",
              "    </tr>\n",
              "  </thead>\n",
              "  <tbody>\n",
              "    <tr>\n",
              "      <th>0</th>\n",
              "      <td>1</td>\n",
              "      <td>1001</td>\n",
              "      <td>4.99</td>\n",
              "    </tr>\n",
              "    <tr>\n",
              "      <th>1</th>\n",
              "      <td>2</td>\n",
              "      <td>1001</td>\n",
              "      <td>4.99</td>\n",
              "    </tr>\n",
              "    <tr>\n",
              "      <th>2</th>\n",
              "      <td>3</td>\n",
              "      <td>1001</td>\n",
              "      <td>4.99</td>\n",
              "    </tr>\n",
              "    <tr>\n",
              "      <th>3</th>\n",
              "      <td>4</td>\n",
              "      <td>1001</td>\n",
              "      <td>4.99</td>\n",
              "    </tr>\n",
              "    <tr>\n",
              "      <th>4</th>\n",
              "      <td>5</td>\n",
              "      <td>1001</td>\n",
              "      <td>4.99</td>\n",
              "    </tr>\n",
              "    <tr>\n",
              "      <th>5</th>\n",
              "      <td>6</td>\n",
              "      <td>1001</td>\n",
              "      <td>4.99</td>\n",
              "    </tr>\n",
              "    <tr>\n",
              "      <th>6</th>\n",
              "      <td>7</td>\n",
              "      <td>1001</td>\n",
              "      <td>4.99</td>\n",
              "    </tr>\n",
              "    <tr>\n",
              "      <th>7</th>\n",
              "      <td>8</td>\n",
              "      <td>1001</td>\n",
              "      <td>4.99</td>\n",
              "    </tr>\n",
              "    <tr>\n",
              "      <th>8</th>\n",
              "      <td>9</td>\n",
              "      <td>1001</td>\n",
              "      <td>4.99</td>\n",
              "    </tr>\n",
              "    <tr>\n",
              "      <th>9</th>\n",
              "      <td>10</td>\n",
              "      <td>1001</td>\n",
              "      <td>4.99</td>\n",
              "    </tr>\n",
              "  </tbody>\n",
              "</table>\n",
              "</div>"
            ],
            "text/plain": [
              "   id  account_id  unit_price\n",
              "0   1        1001        4.99\n",
              "1   2        1001        4.99\n",
              "2   3        1001        4.99\n",
              "3   4        1001        4.99\n",
              "4   5        1001        4.99\n",
              "5   6        1001        4.99\n",
              "6   7        1001        4.99\n",
              "7   8        1001        4.99\n",
              "8   9        1001        4.99\n",
              "9  10        1001        4.99"
            ]
          },
          "metadata": {
            "tags": []
          },
          "execution_count": 31
        }
      ]
    },
    {
      "cell_type": "markdown",
      "metadata": {
        "id": "KGRk0ja7DSh0"
      },
      "source": [
        "Using the orders table Write a query that finds the percentage of revenue that comes from poster paper for each order. You will need to use only the columns that end with _usd. (Try to do this without using the total column.) Display the id and account_id fields also. NOTE - you will receive an error with the correct solution to this question. This occurs because at least one of the values in the data creates a division by zero in your formula. You will learn later in the course how to fully handle this issue. For now, you can just limit your calculations to the first 10 orders, as we did in question #1, and you'll avoid that set of data that causes the problem."
      ]
    },
    {
      "cell_type": "code",
      "metadata": {
        "colab": {
          "base_uri": "https://localhost:8080/",
          "height": 360
        },
        "id": "VVaLv4hcDq78",
        "outputId": "4a21afad-e1ed-4266-fe45-590b966626c8"
      },
      "source": [
        "query = 'SELECT id, account_id, \\\r\n",
        "        (poster_amt_usd / (poster_amt_usd + gloss_amt_usd + standard_amt_usd)) \\\r\n",
        "        AS pct_revenue_poster FROM orders LIMIT 10;'\r\n",
        "query_to_df(query)"
      ],
      "execution_count": 32,
      "outputs": [
        {
          "output_type": "stream",
          "text": [
            "Query ran for 0.04524374008178711 secs!\n"
          ],
          "name": "stdout"
        },
        {
          "output_type": "execute_result",
          "data": {
            "text/html": [
              "<div>\n",
              "<style scoped>\n",
              "    .dataframe tbody tr th:only-of-type {\n",
              "        vertical-align: middle;\n",
              "    }\n",
              "\n",
              "    .dataframe tbody tr th {\n",
              "        vertical-align: top;\n",
              "    }\n",
              "\n",
              "    .dataframe thead th {\n",
              "        text-align: right;\n",
              "    }\n",
              "</style>\n",
              "<table border=\"1\" class=\"dataframe\">\n",
              "  <thead>\n",
              "    <tr style=\"text-align: right;\">\n",
              "      <th></th>\n",
              "      <th>id</th>\n",
              "      <th>account_id</th>\n",
              "      <th>pct_revenue_poster</th>\n",
              "    </tr>\n",
              "  </thead>\n",
              "  <tbody>\n",
              "    <tr>\n",
              "      <th>0</th>\n",
              "      <td>1</td>\n",
              "      <td>1001</td>\n",
              "      <td>0.200199</td>\n",
              "    </tr>\n",
              "    <tr>\n",
              "      <th>1</th>\n",
              "      <td>2</td>\n",
              "      <td>1001</td>\n",
              "      <td>0.269402</td>\n",
              "    </tr>\n",
              "    <tr>\n",
              "      <th>2</th>\n",
              "      <td>3</td>\n",
              "      <td>1001</td>\n",
              "      <td>0.000000</td>\n",
              "    </tr>\n",
              "    <tr>\n",
              "      <th>3</th>\n",
              "      <td>4</td>\n",
              "      <td>1001</td>\n",
              "      <td>0.000000</td>\n",
              "    </tr>\n",
              "    <tr>\n",
              "      <th>4</th>\n",
              "      <td>5</td>\n",
              "      <td>1001</td>\n",
              "      <td>0.231177</td>\n",
              "    </tr>\n",
              "    <tr>\n",
              "      <th>5</th>\n",
              "      <td>6</td>\n",
              "      <td>1001</td>\n",
              "      <td>0.349984</td>\n",
              "    </tr>\n",
              "    <tr>\n",
              "      <th>6</th>\n",
              "      <td>7</td>\n",
              "      <td>1001</td>\n",
              "      <td>0.498625</td>\n",
              "    </tr>\n",
              "    <tr>\n",
              "      <th>7</th>\n",
              "      <td>8</td>\n",
              "      <td>1001</td>\n",
              "      <td>0.597466</td>\n",
              "    </tr>\n",
              "    <tr>\n",
              "      <th>8</th>\n",
              "      <td>9</td>\n",
              "      <td>1001</td>\n",
              "      <td>0.237373</td>\n",
              "    </tr>\n",
              "    <tr>\n",
              "      <th>9</th>\n",
              "      <td>10</td>\n",
              "      <td>1001</td>\n",
              "      <td>0.073939</td>\n",
              "    </tr>\n",
              "  </tbody>\n",
              "</table>\n",
              "</div>"
            ],
            "text/plain": [
              "   id  account_id  pct_revenue_poster\n",
              "0   1        1001            0.200199\n",
              "1   2        1001            0.269402\n",
              "2   3        1001            0.000000\n",
              "3   4        1001            0.000000\n",
              "4   5        1001            0.231177\n",
              "5   6        1001            0.349984\n",
              "6   7        1001            0.498625\n",
              "7   8        1001            0.597466\n",
              "8   9        1001            0.237373\n",
              "9  10        1001            0.073939"
            ]
          },
          "metadata": {
            "tags": []
          },
          "execution_count": 32
        }
      ]
    },
    {
      "cell_type": "markdown",
      "metadata": {
        "id": "upknozAasxgI"
      },
      "source": [
        "********************************************************************************"
      ]
    },
    {
      "cell_type": "markdown",
      "metadata": {
        "id": "Q5wcPPMVlSO2"
      },
      "source": [
        "<h3>Introduction to Logical Operators</h3>\r\n",
        "\r\n",
        "In the next concepts, you will be learning about Logical Operators. Logical Operators include:\r\n",
        "\r\n",
        "* **LIKE**<br>\r\n",
        "This allows you to perform operations similar to using `WHERE` and `=`, but for cases when you might not know exactly what you are looking for.\r\n",
        "\r\n",
        "* **IN**<br>\r\n",
        "This allows you to perform operations similar to using `WHERE` and `=`, but for more than one condition.\r\n",
        "\r\n",
        "* **NOT**<br>\r\n",
        "This is used with `IN` and `LIKE` to select all of the rows `NOT LIKE` or `NOT IN` a certain condition.\r\n",
        "\r\n",
        "* **AND & BETWEEN**<br>\r\n",
        "These allow you to combine operations where all combined conditions must be true.\r\n",
        "\r\n",
        "* **OR**<br>\r\n",
        "This allow you to combine operations where at least one of the combined conditions must be true.\r\n",
        "\r\n",
        "**The LIKE Operator:**\r\n",
        "\r\n",
        "The `LIKE` operator is extremely useful for working with text. You will use `LIKE` within a `WHERE` clause. The `LIKE` operator is frequently used with `%`. The `%` tells us that we might want any number of characters leading up to a particular set of characters or following a certain set of characters.\r\n",
        "\r\n",
        "Remember to use single quotes for the text you pass to the `LIKE` operator, because of this lower and uppercase letters are not the same within the string. Searching for 'T' is not the same as searching for 't'.\r\n",
        "\r\n",
        "**The IN Operator:**\r\n",
        "\r\n",
        "The `IN` operator is useful for working with both numeric and text columns. This operator allows you to use an `=`, but for more than one item of that particular column. We can check one, two or many column values for which we want to pull data, but all within the same query.\r\n",
        "\r\n",
        "**The NOT Operator:**\r\n",
        "\r\n",
        "The `NOT` operator is an extremely useful operator for working with the previous two operators we introduced: `IN` and `LIKE`. By specifying `NOT` `LIKE` or `NOT` `IN`, we can grab all of the rows that do not meet a particular criteria.\r\n",
        "\r\n",
        "**Expert Tip**\r\n",
        "\r\n",
        "In most SQL environments, although not in our Udacity's classroom, you can use single or double quotation marks - and you may NEED to use double quotation marks if you have an apostrophe within the text you are attempting to pull."
      ]
    },
    {
      "cell_type": "markdown",
      "metadata": {
        "id": "wlLTtRlQnEwu"
      },
      "source": [
        "Questions using LIKE Operator\r\n",
        "\r\n",
        "Using the accounts table find All the companies whose names start with 'C'."
      ]
    },
    {
      "cell_type": "code",
      "metadata": {
        "colab": {
          "base_uri": "https://localhost:8080/",
          "height": 418
        },
        "id": "sVLwft5bnQdv",
        "outputId": "129ed873-c6f5-4665-b2ad-bfaaa1eeec75"
      },
      "source": [
        "query = \"SELECT * FROM accounts WHERE name LIKE 'C%';\"\r\n",
        "query_to_df(query)"
      ],
      "execution_count": 33,
      "outputs": [
        {
          "output_type": "stream",
          "text": [
            "Query ran for 0.1345834732055664 secs!\n"
          ],
          "name": "stdout"
        },
        {
          "output_type": "execute_result",
          "data": {
            "text/html": [
              "<div>\n",
              "<style scoped>\n",
              "    .dataframe tbody tr th:only-of-type {\n",
              "        vertical-align: middle;\n",
              "    }\n",
              "\n",
              "    .dataframe tbody tr th {\n",
              "        vertical-align: top;\n",
              "    }\n",
              "\n",
              "    .dataframe thead th {\n",
              "        text-align: right;\n",
              "    }\n",
              "</style>\n",
              "<table border=\"1\" class=\"dataframe\">\n",
              "  <thead>\n",
              "    <tr style=\"text-align: right;\">\n",
              "      <th></th>\n",
              "      <th>id</th>\n",
              "      <th>name</th>\n",
              "      <th>website</th>\n",
              "      <th>lats</th>\n",
              "      <th>longs</th>\n",
              "      <th>primary_poc</th>\n",
              "      <th>sales_rep_id</th>\n",
              "    </tr>\n",
              "  </thead>\n",
              "  <tbody>\n",
              "    <tr>\n",
              "      <th>0</th>\n",
              "      <td>1061</td>\n",
              "      <td>CVS Health</td>\n",
              "      <td>www.cvshealth.com</td>\n",
              "      <td>41.467796</td>\n",
              "      <td>-73.767636</td>\n",
              "      <td>Anabel Haskell</td>\n",
              "      <td>321560</td>\n",
              "    </tr>\n",
              "    <tr>\n",
              "      <th>1</th>\n",
              "      <td>1131</td>\n",
              "      <td>Chevron</td>\n",
              "      <td>www.chevron.com</td>\n",
              "      <td>42.611941</td>\n",
              "      <td>-76.361231</td>\n",
              "      <td>Paige Bartos</td>\n",
              "      <td>321630</td>\n",
              "    </tr>\n",
              "    <tr>\n",
              "      <th>2</th>\n",
              "      <td>1141</td>\n",
              "      <td>Costco</td>\n",
              "      <td>www.costco.com</td>\n",
              "      <td>42.263046</td>\n",
              "      <td>-74.809169</td>\n",
              "      <td>Dominique Favela</td>\n",
              "      <td>321640</td>\n",
              "    </tr>\n",
              "    <tr>\n",
              "      <th>3</th>\n",
              "      <td>1201</td>\n",
              "      <td>Cardinal Health</td>\n",
              "      <td>www.cardinal.com</td>\n",
              "      <td>41.319065</td>\n",
              "      <td>-77.525122</td>\n",
              "      <td>Deanne Hertlein</td>\n",
              "      <td>321700</td>\n",
              "    </tr>\n",
              "    <tr>\n",
              "      <th>4</th>\n",
              "      <td>1281</td>\n",
              "      <td>Citigroup</td>\n",
              "      <td>www.citigroup.com</td>\n",
              "      <td>40.853054</td>\n",
              "      <td>-76.490448</td>\n",
              "      <td>Bea Sera</td>\n",
              "      <td>321570</td>\n",
              "    </tr>\n",
              "    <tr>\n",
              "      <th>...</th>\n",
              "      <td>...</td>\n",
              "      <td>...</td>\n",
              "      <td>...</td>\n",
              "      <td>...</td>\n",
              "      <td>...</td>\n",
              "      <td>...</td>\n",
              "      <td>...</td>\n",
              "    </tr>\n",
              "    <tr>\n",
              "      <th>32</th>\n",
              "      <td>4121</td>\n",
              "      <td>Corning</td>\n",
              "      <td>www.corning.com</td>\n",
              "      <td>38.404186</td>\n",
              "      <td>-121.435528</td>\n",
              "      <td>Chad Winer</td>\n",
              "      <td>321920</td>\n",
              "    </tr>\n",
              "    <tr>\n",
              "      <th>33</th>\n",
              "      <td>4161</td>\n",
              "      <td>Core-Mark Holding</td>\n",
              "      <td>www.core-mark.com</td>\n",
              "      <td>38.604882</td>\n",
              "      <td>-121.399458</td>\n",
              "      <td>Marita Demasi</td>\n",
              "      <td>321960</td>\n",
              "    </tr>\n",
              "    <tr>\n",
              "      <th>34</th>\n",
              "      <td>4181</td>\n",
              "      <td>Cameron International</td>\n",
              "      <td>www.c-a-m.com</td>\n",
              "      <td>38.656831</td>\n",
              "      <td>-121.934032</td>\n",
              "      <td>Antwan Seagraves</td>\n",
              "      <td>321980</td>\n",
              "    </tr>\n",
              "    <tr>\n",
              "      <th>35</th>\n",
              "      <td>4201</td>\n",
              "      <td>Crown Holdings</td>\n",
              "      <td>www.crowncork.com</td>\n",
              "      <td>38.515206</td>\n",
              "      <td>-121.169341</td>\n",
              "      <td>Jung Soden</td>\n",
              "      <td>321930</td>\n",
              "    </tr>\n",
              "    <tr>\n",
              "      <th>36</th>\n",
              "      <td>4361</td>\n",
              "      <td>Campbell Soup</td>\n",
              "      <td>www.campbellsoupcompany.com</td>\n",
              "      <td>36.171625</td>\n",
              "      <td>-115.157253</td>\n",
              "      <td>Barrie Omega</td>\n",
              "      <td>321920</td>\n",
              "    </tr>\n",
              "  </tbody>\n",
              "</table>\n",
              "<p>37 rows × 7 columns</p>\n",
              "</div>"
            ],
            "text/plain": [
              "      id                   name  ...       primary_poc  sales_rep_id\n",
              "0   1061             CVS Health  ...    Anabel Haskell        321560\n",
              "1   1131                Chevron  ...      Paige Bartos        321630\n",
              "2   1141                 Costco  ...  Dominique Favela        321640\n",
              "3   1201        Cardinal Health  ...   Deanne Hertlein        321700\n",
              "4   1281              Citigroup  ...          Bea Sera        321570\n",
              "..   ...                    ...  ...               ...           ...\n",
              "32  4121                Corning  ...        Chad Winer        321920\n",
              "33  4161      Core-Mark Holding  ...     Marita Demasi        321960\n",
              "34  4181  Cameron International  ...  Antwan Seagraves        321980\n",
              "35  4201         Crown Holdings  ...        Jung Soden        321930\n",
              "36  4361          Campbell Soup  ...      Barrie Omega        321920\n",
              "\n",
              "[37 rows x 7 columns]"
            ]
          },
          "metadata": {
            "tags": []
          },
          "execution_count": 33
        }
      ]
    },
    {
      "cell_type": "markdown",
      "metadata": {
        "id": "zdMc06Wnn6KQ"
      },
      "source": [
        "All companies whose names contain the string 'one' somewhere in the name."
      ]
    },
    {
      "cell_type": "code",
      "metadata": {
        "colab": {
          "base_uri": "https://localhost:8080/",
          "height": 212
        },
        "id": "Q_dBG86qoCJx",
        "outputId": "70a77131-5313-4651-8f71-c71f94cb86fb"
      },
      "source": [
        "query = \"SELECT * FROM accounts WHERE name LIKE '%one%';\"\r\n",
        "query_to_df(query)"
      ],
      "execution_count": 34,
      "outputs": [
        {
          "output_type": "stream",
          "text": [
            "Query ran for 0.04733872413635254 secs!\n"
          ],
          "name": "stdout"
        },
        {
          "output_type": "execute_result",
          "data": {
            "text/html": [
              "<div>\n",
              "<style scoped>\n",
              "    .dataframe tbody tr th:only-of-type {\n",
              "        vertical-align: middle;\n",
              "    }\n",
              "\n",
              "    .dataframe tbody tr th {\n",
              "        vertical-align: top;\n",
              "    }\n",
              "\n",
              "    .dataframe thead th {\n",
              "        text-align: right;\n",
              "    }\n",
              "</style>\n",
              "<table border=\"1\" class=\"dataframe\">\n",
              "  <thead>\n",
              "    <tr style=\"text-align: right;\">\n",
              "      <th></th>\n",
              "      <th>id</th>\n",
              "      <th>name</th>\n",
              "      <th>website</th>\n",
              "      <th>lats</th>\n",
              "      <th>longs</th>\n",
              "      <th>primary_poc</th>\n",
              "      <th>sales_rep_id</th>\n",
              "    </tr>\n",
              "  </thead>\n",
              "  <tbody>\n",
              "    <tr>\n",
              "      <th>0</th>\n",
              "      <td>1741</td>\n",
              "      <td>Honeywell International</td>\n",
              "      <td>www.honeywell.com</td>\n",
              "      <td>40.751170</td>\n",
              "      <td>-73.981919</td>\n",
              "      <td>Jeanne Harty</td>\n",
              "      <td>321700</td>\n",
              "    </tr>\n",
              "    <tr>\n",
              "      <th>1</th>\n",
              "      <td>1821</td>\n",
              "      <td>INTL FCStone</td>\n",
              "      <td>www.intlfcstone.com</td>\n",
              "      <td>42.359985</td>\n",
              "      <td>-71.063805</td>\n",
              "      <td>Ericka Hamid</td>\n",
              "      <td>321630</td>\n",
              "    </tr>\n",
              "    <tr>\n",
              "      <th>2</th>\n",
              "      <td>2111</td>\n",
              "      <td>Capital One Financial</td>\n",
              "      <td>www.capitalone.com</td>\n",
              "      <td>41.878116</td>\n",
              "      <td>-87.632640</td>\n",
              "      <td>Debby Myers</td>\n",
              "      <td>321760</td>\n",
              "    </tr>\n",
              "    <tr>\n",
              "      <th>3</th>\n",
              "      <td>3791</td>\n",
              "      <td>AutoZone</td>\n",
              "      <td>www.autozone.com</td>\n",
              "      <td>34.058263</td>\n",
              "      <td>-118.237747</td>\n",
              "      <td>Maryellen Strohmeyer</td>\n",
              "      <td>321990</td>\n",
              "    </tr>\n",
              "    <tr>\n",
              "      <th>4</th>\n",
              "      <td>4471</td>\n",
              "      <td>Oneok</td>\n",
              "      <td>www.oneok.com</td>\n",
              "      <td>45.513513</td>\n",
              "      <td>-122.681500</td>\n",
              "      <td>Esta Engelhardt</td>\n",
              "      <td>321960</td>\n",
              "    </tr>\n",
              "  </tbody>\n",
              "</table>\n",
              "</div>"
            ],
            "text/plain": [
              "     id                     name  ...           primary_poc  sales_rep_id\n",
              "0  1741  Honeywell International  ...          Jeanne Harty        321700\n",
              "1  1821             INTL FCStone  ...          Ericka Hamid        321630\n",
              "2  2111    Capital One Financial  ...           Debby Myers        321760\n",
              "3  3791                 AutoZone  ...  Maryellen Strohmeyer        321990\n",
              "4  4471                    Oneok  ...       Esta Engelhardt        321960\n",
              "\n",
              "[5 rows x 7 columns]"
            ]
          },
          "metadata": {
            "tags": []
          },
          "execution_count": 34
        }
      ]
    },
    {
      "cell_type": "markdown",
      "metadata": {
        "id": "PR4sNE6OpiX_"
      },
      "source": [
        "All companies whose names end with 's'"
      ]
    },
    {
      "cell_type": "code",
      "metadata": {
        "colab": {
          "base_uri": "https://localhost:8080/",
          "height": 418
        },
        "id": "y3EFDIHhpwGe",
        "outputId": "1dc2d3c2-2655-4595-f32a-7ddab6420dfc"
      },
      "source": [
        "query = \"SELECT * FROM accounts WHERE name LIKE '%s';\"\r\n",
        "query_to_df(query)"
      ],
      "execution_count": 35,
      "outputs": [
        {
          "output_type": "stream",
          "text": [
            "Query ran for 0.2673625946044922 secs!\n"
          ],
          "name": "stdout"
        },
        {
          "output_type": "execute_result",
          "data": {
            "text/html": [
              "<div>\n",
              "<style scoped>\n",
              "    .dataframe tbody tr th:only-of-type {\n",
              "        vertical-align: middle;\n",
              "    }\n",
              "\n",
              "    .dataframe tbody tr th {\n",
              "        vertical-align: top;\n",
              "    }\n",
              "\n",
              "    .dataframe thead th {\n",
              "        text-align: right;\n",
              "    }\n",
              "</style>\n",
              "<table border=\"1\" class=\"dataframe\">\n",
              "  <thead>\n",
              "    <tr style=\"text-align: right;\">\n",
              "      <th></th>\n",
              "      <th>id</th>\n",
              "      <th>name</th>\n",
              "      <th>website</th>\n",
              "      <th>lats</th>\n",
              "      <th>longs</th>\n",
              "      <th>primary_poc</th>\n",
              "      <th>sales_rep_id</th>\n",
              "    </tr>\n",
              "  </thead>\n",
              "  <tbody>\n",
              "    <tr>\n",
              "      <th>0</th>\n",
              "      <td>1071</td>\n",
              "      <td>General Motors</td>\n",
              "      <td>www.gm.com</td>\n",
              "      <td>40.805518</td>\n",
              "      <td>-76.710181</td>\n",
              "      <td>Barrie Omeara</td>\n",
              "      <td>321570</td>\n",
              "    </tr>\n",
              "    <tr>\n",
              "      <th>1</th>\n",
              "      <td>1441</td>\n",
              "      <td>United Technologies</td>\n",
              "      <td>www.utc.com</td>\n",
              "      <td>42.329397</td>\n",
              "      <td>-75.157855</td>\n",
              "      <td>Janett Wisecarver</td>\n",
              "      <td>321520</td>\n",
              "    </tr>\n",
              "    <tr>\n",
              "      <th>2</th>\n",
              "      <td>1461</td>\n",
              "      <td>Lowe's</td>\n",
              "      <td>www.lowes.com</td>\n",
              "      <td>42.023052</td>\n",
              "      <td>-74.822106</td>\n",
              "      <td>Roselee Pardini</td>\n",
              "      <td>321540</td>\n",
              "    </tr>\n",
              "    <tr>\n",
              "      <th>3</th>\n",
              "      <td>1471</td>\n",
              "      <td>UPS</td>\n",
              "      <td>www.ups.com</td>\n",
              "      <td>41.878838</td>\n",
              "      <td>-73.849300</td>\n",
              "      <td>Cedrick Weiss</td>\n",
              "      <td>321550</td>\n",
              "    </tr>\n",
              "    <tr>\n",
              "      <th>4</th>\n",
              "      <td>1531</td>\n",
              "      <td>Cisco Systems</td>\n",
              "      <td>www.cisco.com</td>\n",
              "      <td>41.201011</td>\n",
              "      <td>-76.538247</td>\n",
              "      <td>Deadra Waggener</td>\n",
              "      <td>321610</td>\n",
              "    </tr>\n",
              "    <tr>\n",
              "      <th>...</th>\n",
              "      <td>...</td>\n",
              "      <td>...</td>\n",
              "      <td>...</td>\n",
              "      <td>...</td>\n",
              "      <td>...</td>\n",
              "      <td>...</td>\n",
              "      <td>...</td>\n",
              "    </tr>\n",
              "    <tr>\n",
              "      <th>76</th>\n",
              "      <td>4341</td>\n",
              "      <td>United Natural Foods</td>\n",
              "      <td>www.unfi.com</td>\n",
              "      <td>36.170110</td>\n",
              "      <td>-115.147136</td>\n",
              "      <td>Savanna Gayman</td>\n",
              "      <td>321920</td>\n",
              "    </tr>\n",
              "    <tr>\n",
              "      <th>77</th>\n",
              "      <td>4351</td>\n",
              "      <td>Dean Foods</td>\n",
              "      <td>www.deanfoods.com</td>\n",
              "      <td>36.176213</td>\n",
              "      <td>-115.139491</td>\n",
              "      <td>Anabel Haskell</td>\n",
              "      <td>321910</td>\n",
              "    </tr>\n",
              "    <tr>\n",
              "      <th>78</th>\n",
              "      <td>4371</td>\n",
              "      <td>Mohawk Industries</td>\n",
              "      <td>www.mohawkind.com</td>\n",
              "      <td>36.180328</td>\n",
              "      <td>-115.135964</td>\n",
              "      <td>Kym Hagerman</td>\n",
              "      <td>321910</td>\n",
              "    </tr>\n",
              "    <tr>\n",
              "      <th>79</th>\n",
              "      <td>4431</td>\n",
              "      <td>Franklin Resources</td>\n",
              "      <td>www.franklinresources.com</td>\n",
              "      <td>45.533894</td>\n",
              "      <td>-122.682215</td>\n",
              "      <td>Dominique Favela</td>\n",
              "      <td>321970</td>\n",
              "    </tr>\n",
              "    <tr>\n",
              "      <th>80</th>\n",
              "      <td>4451</td>\n",
              "      <td>Lithia Motors</td>\n",
              "      <td>www.lithia.com</td>\n",
              "      <td>45.504395</td>\n",
              "      <td>-122.640535</td>\n",
              "      <td>Nannie Brinkman</td>\n",
              "      <td>321960</td>\n",
              "    </tr>\n",
              "  </tbody>\n",
              "</table>\n",
              "<p>81 rows × 7 columns</p>\n",
              "</div>"
            ],
            "text/plain": [
              "      id                  name  ...        primary_poc  sales_rep_id\n",
              "0   1071        General Motors  ...      Barrie Omeara        321570\n",
              "1   1441   United Technologies  ...  Janett Wisecarver        321520\n",
              "2   1461                Lowe's  ...    Roselee Pardini        321540\n",
              "3   1471                   UPS  ...      Cedrick Weiss        321550\n",
              "4   1531         Cisco Systems  ...    Deadra Waggener        321610\n",
              "..   ...                   ...  ...                ...           ...\n",
              "76  4341  United Natural Foods  ...     Savanna Gayman        321920\n",
              "77  4351            Dean Foods  ...     Anabel Haskell        321910\n",
              "78  4371     Mohawk Industries  ...       Kym Hagerman        321910\n",
              "79  4431    Franklin Resources  ...   Dominique Favela        321970\n",
              "80  4451         Lithia Motors  ...    Nannie Brinkman        321960\n",
              "\n",
              "[81 rows x 7 columns]"
            ]
          },
          "metadata": {
            "tags": []
          },
          "execution_count": 35
        }
      ]
    },
    {
      "cell_type": "markdown",
      "metadata": {
        "id": "kbpvgfACs5kS"
      },
      "source": [
        "Questions using IN operator<br>\r\n",
        "Use the accounts table to find the account name, primary_poc, and sales_rep_id for Walmart, Target, and Nordstrom."
      ]
    },
    {
      "cell_type": "code",
      "metadata": {
        "colab": {
          "base_uri": "https://localhost:8080/",
          "height": 153
        },
        "id": "o3g9mANxtBfY",
        "outputId": "d2c95e5d-63bf-4640-a06a-3a03663f0214"
      },
      "source": [
        "query = \"SELECT name, primary_poc, sales_rep_id FROM accounts \\\r\n",
        "        WHERE name IN ('Walmart', 'Target', 'Nordstrom');\"\r\n",
        "query_to_df(query)"
      ],
      "execution_count": 36,
      "outputs": [
        {
          "output_type": "stream",
          "text": [
            "Query ran for 0.038263559341430664 secs!\n"
          ],
          "name": "stdout"
        },
        {
          "output_type": "execute_result",
          "data": {
            "text/html": [
              "<div>\n",
              "<style scoped>\n",
              "    .dataframe tbody tr th:only-of-type {\n",
              "        vertical-align: middle;\n",
              "    }\n",
              "\n",
              "    .dataframe tbody tr th {\n",
              "        vertical-align: top;\n",
              "    }\n",
              "\n",
              "    .dataframe thead th {\n",
              "        text-align: right;\n",
              "    }\n",
              "</style>\n",
              "<table border=\"1\" class=\"dataframe\">\n",
              "  <thead>\n",
              "    <tr style=\"text-align: right;\">\n",
              "      <th></th>\n",
              "      <th>name</th>\n",
              "      <th>primary_poc</th>\n",
              "      <th>sales_rep_id</th>\n",
              "    </tr>\n",
              "  </thead>\n",
              "  <tbody>\n",
              "    <tr>\n",
              "      <th>0</th>\n",
              "      <td>Walmart</td>\n",
              "      <td>Tamara Tuma</td>\n",
              "      <td>321500</td>\n",
              "    </tr>\n",
              "    <tr>\n",
              "      <th>1</th>\n",
              "      <td>Target</td>\n",
              "      <td>Luba Streett</td>\n",
              "      <td>321660</td>\n",
              "    </tr>\n",
              "    <tr>\n",
              "      <th>2</th>\n",
              "      <td>Nordstrom</td>\n",
              "      <td>Yan Crater</td>\n",
              "      <td>321820</td>\n",
              "    </tr>\n",
              "  </tbody>\n",
              "</table>\n",
              "</div>"
            ],
            "text/plain": [
              "        name   primary_poc  sales_rep_id\n",
              "0    Walmart   Tamara Tuma        321500\n",
              "1     Target  Luba Streett        321660\n",
              "2  Nordstrom    Yan Crater        321820"
            ]
          },
          "metadata": {
            "tags": []
          },
          "execution_count": 36
        }
      ]
    },
    {
      "cell_type": "markdown",
      "metadata": {
        "id": "AaarlUI6uD2h"
      },
      "source": [
        "Use the web_events table to find all information regarding individuals who were contacted via the channel of organic or adwords."
      ]
    },
    {
      "cell_type": "code",
      "metadata": {
        "colab": {
          "base_uri": "https://localhost:8080/",
          "height": 418
        },
        "id": "tYNkNHYsuQPV",
        "outputId": "9b914597-d8b9-46de-827a-8c50af5bb891"
      },
      "source": [
        "query = 'SELECT * FROM web_events WHERE channel IN (\"organic\", \"adwords\");'\r\n",
        "query_to_df(query)"
      ],
      "execution_count": 37,
      "outputs": [
        {
          "output_type": "stream",
          "text": [
            "Query ran for 3.1691787242889404 secs!\n"
          ],
          "name": "stdout"
        },
        {
          "output_type": "execute_result",
          "data": {
            "text/html": [
              "<div>\n",
              "<style scoped>\n",
              "    .dataframe tbody tr th:only-of-type {\n",
              "        vertical-align: middle;\n",
              "    }\n",
              "\n",
              "    .dataframe tbody tr th {\n",
              "        vertical-align: top;\n",
              "    }\n",
              "\n",
              "    .dataframe thead th {\n",
              "        text-align: right;\n",
              "    }\n",
              "</style>\n",
              "<table border=\"1\" class=\"dataframe\">\n",
              "  <thead>\n",
              "    <tr style=\"text-align: right;\">\n",
              "      <th></th>\n",
              "      <th>id</th>\n",
              "      <th>account_id</th>\n",
              "      <th>occurred_at</th>\n",
              "      <th>channel</th>\n",
              "    </tr>\n",
              "  </thead>\n",
              "  <tbody>\n",
              "    <tr>\n",
              "      <th>0</th>\n",
              "      <td>4395</td>\n",
              "      <td>1001</td>\n",
              "      <td>2015-10-22 05:02:47</td>\n",
              "      <td>organic</td>\n",
              "    </tr>\n",
              "    <tr>\n",
              "      <th>1</th>\n",
              "      <td>4396</td>\n",
              "      <td>1001</td>\n",
              "      <td>2015-10-22 14:04:20</td>\n",
              "      <td>adwords</td>\n",
              "    </tr>\n",
              "    <tr>\n",
              "      <th>2</th>\n",
              "      <td>4399</td>\n",
              "      <td>1001</td>\n",
              "      <td>2016-01-01 15:45:54</td>\n",
              "      <td>adwords</td>\n",
              "    </tr>\n",
              "    <tr>\n",
              "      <th>3</th>\n",
              "      <td>4401</td>\n",
              "      <td>1001</td>\n",
              "      <td>2016-02-07 17:44:10</td>\n",
              "      <td>adwords</td>\n",
              "    </tr>\n",
              "    <tr>\n",
              "      <th>4</th>\n",
              "      <td>4402</td>\n",
              "      <td>1001</td>\n",
              "      <td>2016-02-27 15:27:22</td>\n",
              "      <td>organic</td>\n",
              "    </tr>\n",
              "    <tr>\n",
              "      <th>...</th>\n",
              "      <td>...</td>\n",
              "      <td>...</td>\n",
              "      <td>...</td>\n",
              "      <td>...</td>\n",
              "    </tr>\n",
              "    <tr>\n",
              "      <th>1853</th>\n",
              "      <td>9064</td>\n",
              "      <td>4491</td>\n",
              "      <td>2016-05-06 05:03:27</td>\n",
              "      <td>adwords</td>\n",
              "    </tr>\n",
              "    <tr>\n",
              "      <th>1854</th>\n",
              "      <td>9065</td>\n",
              "      <td>4491</td>\n",
              "      <td>2016-06-17 19:43:12</td>\n",
              "      <td>adwords</td>\n",
              "    </tr>\n",
              "    <tr>\n",
              "      <th>1855</th>\n",
              "      <td>9071</td>\n",
              "      <td>4491</td>\n",
              "      <td>2016-11-06 07:23:45</td>\n",
              "      <td>organic</td>\n",
              "    </tr>\n",
              "    <tr>\n",
              "      <th>1856</th>\n",
              "      <td>9072</td>\n",
              "      <td>4491</td>\n",
              "      <td>2016-12-18 03:21:31</td>\n",
              "      <td>organic</td>\n",
              "    </tr>\n",
              "    <tr>\n",
              "      <th>1857</th>\n",
              "      <td>9073</td>\n",
              "      <td>4501</td>\n",
              "      <td>2016-05-30 00:46:53</td>\n",
              "      <td>organic</td>\n",
              "    </tr>\n",
              "  </tbody>\n",
              "</table>\n",
              "<p>1858 rows × 4 columns</p>\n",
              "</div>"
            ],
            "text/plain": [
              "        id  account_id         occurred_at  channel\n",
              "0     4395        1001 2015-10-22 05:02:47  organic\n",
              "1     4396        1001 2015-10-22 14:04:20  adwords\n",
              "2     4399        1001 2016-01-01 15:45:54  adwords\n",
              "3     4401        1001 2016-02-07 17:44:10  adwords\n",
              "4     4402        1001 2016-02-27 15:27:22  organic\n",
              "...    ...         ...                 ...      ...\n",
              "1853  9064        4491 2016-05-06 05:03:27  adwords\n",
              "1854  9065        4491 2016-06-17 19:43:12  adwords\n",
              "1855  9071        4491 2016-11-06 07:23:45  organic\n",
              "1856  9072        4491 2016-12-18 03:21:31  organic\n",
              "1857  9073        4501 2016-05-30 00:46:53  organic\n",
              "\n",
              "[1858 rows x 4 columns]"
            ]
          },
          "metadata": {
            "tags": []
          },
          "execution_count": 37
        }
      ]
    },
    {
      "cell_type": "markdown",
      "metadata": {
        "id": "TqpcsEPPuEQh"
      },
      "source": [
        "Questions using the NOT operator:\r\n",
        "\r\n",
        "Use the accounts table to find the account name, primary poc, and sales rep id for all stores except Walmart, Target, and Nordstrom.\r\n"
      ]
    },
    {
      "cell_type": "code",
      "metadata": {
        "colab": {
          "base_uri": "https://localhost:8080/",
          "height": 418
        },
        "id": "JjJy2nXZxSMz",
        "outputId": "e958455e-39ad-4203-909e-19f4c0294540"
      },
      "source": [
        "query = \"SELECT name, primary_poc, sales_rep_id FROM accounts \\\r\n",
        "        WHERE name NOT IN ('Walmart', 'Target', 'Nordstrom');\"\r\n",
        "query_to_df(query)"
      ],
      "execution_count": 38,
      "outputs": [
        {
          "output_type": "stream",
          "text": [
            "Query ran for 0.4585721492767334 secs!\n"
          ],
          "name": "stdout"
        },
        {
          "output_type": "execute_result",
          "data": {
            "text/html": [
              "<div>\n",
              "<style scoped>\n",
              "    .dataframe tbody tr th:only-of-type {\n",
              "        vertical-align: middle;\n",
              "    }\n",
              "\n",
              "    .dataframe tbody tr th {\n",
              "        vertical-align: top;\n",
              "    }\n",
              "\n",
              "    .dataframe thead th {\n",
              "        text-align: right;\n",
              "    }\n",
              "</style>\n",
              "<table border=\"1\" class=\"dataframe\">\n",
              "  <thead>\n",
              "    <tr style=\"text-align: right;\">\n",
              "      <th></th>\n",
              "      <th>name</th>\n",
              "      <th>primary_poc</th>\n",
              "      <th>sales_rep_id</th>\n",
              "    </tr>\n",
              "  </thead>\n",
              "  <tbody>\n",
              "    <tr>\n",
              "      <th>0</th>\n",
              "      <td>Exxon Mobil</td>\n",
              "      <td>Sung Shields</td>\n",
              "      <td>321510</td>\n",
              "    </tr>\n",
              "    <tr>\n",
              "      <th>1</th>\n",
              "      <td>Apple</td>\n",
              "      <td>Jodee Lupo</td>\n",
              "      <td>321520</td>\n",
              "    </tr>\n",
              "    <tr>\n",
              "      <th>2</th>\n",
              "      <td>Berkshire Hathaway</td>\n",
              "      <td>Serafina Banda</td>\n",
              "      <td>321530</td>\n",
              "    </tr>\n",
              "    <tr>\n",
              "      <th>3</th>\n",
              "      <td>McKesson</td>\n",
              "      <td>Angeles Crusoe</td>\n",
              "      <td>321540</td>\n",
              "    </tr>\n",
              "    <tr>\n",
              "      <th>4</th>\n",
              "      <td>UnitedHealth Group</td>\n",
              "      <td>Savanna Gayman</td>\n",
              "      <td>321550</td>\n",
              "    </tr>\n",
              "    <tr>\n",
              "      <th>...</th>\n",
              "      <td>...</td>\n",
              "      <td>...</td>\n",
              "      <td>...</td>\n",
              "    </tr>\n",
              "    <tr>\n",
              "      <th>343</th>\n",
              "      <td>KKR</td>\n",
              "      <td>Buffy Azure</td>\n",
              "      <td>321970</td>\n",
              "    </tr>\n",
              "    <tr>\n",
              "      <th>344</th>\n",
              "      <td>Oneok</td>\n",
              "      <td>Esta Engelhardt</td>\n",
              "      <td>321960</td>\n",
              "    </tr>\n",
              "    <tr>\n",
              "      <th>345</th>\n",
              "      <td>Newmont Mining</td>\n",
              "      <td>Khadijah Riemann</td>\n",
              "      <td>321970</td>\n",
              "    </tr>\n",
              "    <tr>\n",
              "      <th>346</th>\n",
              "      <td>PPL</td>\n",
              "      <td>Deanne Hertlein</td>\n",
              "      <td>321960</td>\n",
              "    </tr>\n",
              "    <tr>\n",
              "      <th>347</th>\n",
              "      <td>SpartanNash</td>\n",
              "      <td>Jewell Likes</td>\n",
              "      <td>321970</td>\n",
              "    </tr>\n",
              "  </tbody>\n",
              "</table>\n",
              "<p>348 rows × 3 columns</p>\n",
              "</div>"
            ],
            "text/plain": [
              "                   name       primary_poc  sales_rep_id\n",
              "0           Exxon Mobil      Sung Shields        321510\n",
              "1                 Apple        Jodee Lupo        321520\n",
              "2    Berkshire Hathaway    Serafina Banda        321530\n",
              "3              McKesson    Angeles Crusoe        321540\n",
              "4    UnitedHealth Group    Savanna Gayman        321550\n",
              "..                  ...               ...           ...\n",
              "343                 KKR       Buffy Azure        321970\n",
              "344               Oneok   Esta Engelhardt        321960\n",
              "345      Newmont Mining  Khadijah Riemann        321970\n",
              "346                 PPL   Deanne Hertlein        321960\n",
              "347         SpartanNash      Jewell Likes        321970\n",
              "\n",
              "[348 rows x 3 columns]"
            ]
          },
          "metadata": {
            "tags": []
          },
          "execution_count": 38
        }
      ]
    },
    {
      "cell_type": "markdown",
      "metadata": {
        "id": "c7mD278k0KeN"
      },
      "source": [
        "Use the web_events table to find all information regarding individuals who were contacted via any method except using organic or adwords methods."
      ]
    },
    {
      "cell_type": "code",
      "metadata": {
        "colab": {
          "base_uri": "https://localhost:8080/",
          "height": 418
        },
        "id": "6mjSFOyj0TBK",
        "outputId": "5cf0f90d-12ab-40f4-ac82-d09132bf5208"
      },
      "source": [
        "query = 'SELECT * FROM web_events WHERE channel NOT IN (\"organic\", \"adwords\");'\r\n",
        "query_to_df(query)"
      ],
      "execution_count": 39,
      "outputs": [
        {
          "output_type": "stream",
          "text": [
            "Query ran for 12.316229820251465 secs!\n"
          ],
          "name": "stdout"
        },
        {
          "output_type": "execute_result",
          "data": {
            "text/html": [
              "<div>\n",
              "<style scoped>\n",
              "    .dataframe tbody tr th:only-of-type {\n",
              "        vertical-align: middle;\n",
              "    }\n",
              "\n",
              "    .dataframe tbody tr th {\n",
              "        vertical-align: top;\n",
              "    }\n",
              "\n",
              "    .dataframe thead th {\n",
              "        text-align: right;\n",
              "    }\n",
              "</style>\n",
              "<table border=\"1\" class=\"dataframe\">\n",
              "  <thead>\n",
              "    <tr style=\"text-align: right;\">\n",
              "      <th></th>\n",
              "      <th>id</th>\n",
              "      <th>account_id</th>\n",
              "      <th>occurred_at</th>\n",
              "      <th>channel</th>\n",
              "    </tr>\n",
              "  </thead>\n",
              "  <tbody>\n",
              "    <tr>\n",
              "      <th>0</th>\n",
              "      <td>1</td>\n",
              "      <td>1001</td>\n",
              "      <td>2015-10-06 17:13:58</td>\n",
              "      <td>direct</td>\n",
              "    </tr>\n",
              "    <tr>\n",
              "      <th>1</th>\n",
              "      <td>2</td>\n",
              "      <td>1001</td>\n",
              "      <td>2015-11-05 03:08:26</td>\n",
              "      <td>direct</td>\n",
              "    </tr>\n",
              "    <tr>\n",
              "      <th>2</th>\n",
              "      <td>3</td>\n",
              "      <td>1001</td>\n",
              "      <td>2015-12-04 03:57:24</td>\n",
              "      <td>direct</td>\n",
              "    </tr>\n",
              "    <tr>\n",
              "      <th>3</th>\n",
              "      <td>4</td>\n",
              "      <td>1001</td>\n",
              "      <td>2016-01-02 00:55:03</td>\n",
              "      <td>direct</td>\n",
              "    </tr>\n",
              "    <tr>\n",
              "      <th>4</th>\n",
              "      <td>5</td>\n",
              "      <td>1001</td>\n",
              "      <td>2016-02-01 19:02:33</td>\n",
              "      <td>direct</td>\n",
              "    </tr>\n",
              "    <tr>\n",
              "      <th>...</th>\n",
              "      <td>...</td>\n",
              "      <td>...</td>\n",
              "      <td>...</td>\n",
              "      <td>...</td>\n",
              "    </tr>\n",
              "    <tr>\n",
              "      <th>7210</th>\n",
              "      <td>9066</td>\n",
              "      <td>4491</td>\n",
              "      <td>2016-07-18 21:31:10</td>\n",
              "      <td>facebook</td>\n",
              "    </tr>\n",
              "    <tr>\n",
              "      <th>7211</th>\n",
              "      <td>9067</td>\n",
              "      <td>4491</td>\n",
              "      <td>2016-08-14 15:41:44</td>\n",
              "      <td>facebook</td>\n",
              "    </tr>\n",
              "    <tr>\n",
              "      <th>7212</th>\n",
              "      <td>9068</td>\n",
              "      <td>4491</td>\n",
              "      <td>2016-09-11 19:18:07</td>\n",
              "      <td>banner</td>\n",
              "    </tr>\n",
              "    <tr>\n",
              "      <th>7213</th>\n",
              "      <td>9069</td>\n",
              "      <td>4491</td>\n",
              "      <td>2016-10-04 15:43:29</td>\n",
              "      <td>facebook</td>\n",
              "    </tr>\n",
              "    <tr>\n",
              "      <th>7214</th>\n",
              "      <td>9070</td>\n",
              "      <td>4491</td>\n",
              "      <td>2016-10-04 23:42:41</td>\n",
              "      <td>twitter</td>\n",
              "    </tr>\n",
              "  </tbody>\n",
              "</table>\n",
              "<p>7215 rows × 4 columns</p>\n",
              "</div>"
            ],
            "text/plain": [
              "        id  account_id         occurred_at   channel\n",
              "0        1        1001 2015-10-06 17:13:58    direct\n",
              "1        2        1001 2015-11-05 03:08:26    direct\n",
              "2        3        1001 2015-12-04 03:57:24    direct\n",
              "3        4        1001 2016-01-02 00:55:03    direct\n",
              "4        5        1001 2016-02-01 19:02:33    direct\n",
              "...    ...         ...                 ...       ...\n",
              "7210  9066        4491 2016-07-18 21:31:10  facebook\n",
              "7211  9067        4491 2016-08-14 15:41:44  facebook\n",
              "7212  9068        4491 2016-09-11 19:18:07    banner\n",
              "7213  9069        4491 2016-10-04 15:43:29  facebook\n",
              "7214  9070        4491 2016-10-04 23:42:41   twitter\n",
              "\n",
              "[7215 rows x 4 columns]"
            ]
          },
          "metadata": {
            "tags": []
          },
          "execution_count": 39
        }
      ]
    },
    {
      "cell_type": "markdown",
      "metadata": {
        "id": "VoIKcNbw05-p"
      },
      "source": [
        "Use the accounts table to find, All the companies whose names do not start with 'C'."
      ]
    },
    {
      "cell_type": "code",
      "metadata": {
        "colab": {
          "base_uri": "https://localhost:8080/",
          "height": 418
        },
        "id": "Z8Yazsls1Gno",
        "outputId": "0b949683-51fb-4413-a330-0ebce7d72c76"
      },
      "source": [
        "query = 'SELECT name FROM accounts WHERE name NOT LIKE \"C%\";'\r\n",
        "query_to_df(query)"
      ],
      "execution_count": 40,
      "outputs": [
        {
          "output_type": "stream",
          "text": [
            "Query ran for 0.2737278938293457 secs!\n"
          ],
          "name": "stdout"
        },
        {
          "output_type": "execute_result",
          "data": {
            "text/html": [
              "<div>\n",
              "<style scoped>\n",
              "    .dataframe tbody tr th:only-of-type {\n",
              "        vertical-align: middle;\n",
              "    }\n",
              "\n",
              "    .dataframe tbody tr th {\n",
              "        vertical-align: top;\n",
              "    }\n",
              "\n",
              "    .dataframe thead th {\n",
              "        text-align: right;\n",
              "    }\n",
              "</style>\n",
              "<table border=\"1\" class=\"dataframe\">\n",
              "  <thead>\n",
              "    <tr style=\"text-align: right;\">\n",
              "      <th></th>\n",
              "      <th>name</th>\n",
              "    </tr>\n",
              "  </thead>\n",
              "  <tbody>\n",
              "    <tr>\n",
              "      <th>0</th>\n",
              "      <td>Walmart</td>\n",
              "    </tr>\n",
              "    <tr>\n",
              "      <th>1</th>\n",
              "      <td>Exxon Mobil</td>\n",
              "    </tr>\n",
              "    <tr>\n",
              "      <th>2</th>\n",
              "      <td>Apple</td>\n",
              "    </tr>\n",
              "    <tr>\n",
              "      <th>3</th>\n",
              "      <td>Berkshire Hathaway</td>\n",
              "    </tr>\n",
              "    <tr>\n",
              "      <th>4</th>\n",
              "      <td>McKesson</td>\n",
              "    </tr>\n",
              "    <tr>\n",
              "      <th>...</th>\n",
              "      <td>...</td>\n",
              "    </tr>\n",
              "    <tr>\n",
              "      <th>309</th>\n",
              "      <td>KKR</td>\n",
              "    </tr>\n",
              "    <tr>\n",
              "      <th>310</th>\n",
              "      <td>Oneok</td>\n",
              "    </tr>\n",
              "    <tr>\n",
              "      <th>311</th>\n",
              "      <td>Newmont Mining</td>\n",
              "    </tr>\n",
              "    <tr>\n",
              "      <th>312</th>\n",
              "      <td>PPL</td>\n",
              "    </tr>\n",
              "    <tr>\n",
              "      <th>313</th>\n",
              "      <td>SpartanNash</td>\n",
              "    </tr>\n",
              "  </tbody>\n",
              "</table>\n",
              "<p>314 rows × 1 columns</p>\n",
              "</div>"
            ],
            "text/plain": [
              "                   name\n",
              "0               Walmart\n",
              "1           Exxon Mobil\n",
              "2                 Apple\n",
              "3    Berkshire Hathaway\n",
              "4              McKesson\n",
              "..                  ...\n",
              "309                 KKR\n",
              "310               Oneok\n",
              "311      Newmont Mining\n",
              "312                 PPL\n",
              "313         SpartanNash\n",
              "\n",
              "[314 rows x 1 columns]"
            ]
          },
          "metadata": {
            "tags": []
          },
          "execution_count": 40
        }
      ]
    },
    {
      "cell_type": "markdown",
      "metadata": {
        "id": "-G4Ap3TS1tNx"
      },
      "source": [
        "All companies whose names do not contain the string 'one' somewhere in the name."
      ]
    },
    {
      "cell_type": "code",
      "metadata": {
        "colab": {
          "base_uri": "https://localhost:8080/",
          "height": 418
        },
        "id": "cLym7_LF10qz",
        "outputId": "b66de7b2-f951-48ec-cb59-6955337c623e"
      },
      "source": [
        "query = 'SELECT name FROM accounts WHERE name NOT LIKE \"%one%\";'\r\n",
        "query_to_df(query)"
      ],
      "execution_count": 41,
      "outputs": [
        {
          "output_type": "stream",
          "text": [
            "Query ran for 0.2999308109283447 secs!\n"
          ],
          "name": "stdout"
        },
        {
          "output_type": "execute_result",
          "data": {
            "text/html": [
              "<div>\n",
              "<style scoped>\n",
              "    .dataframe tbody tr th:only-of-type {\n",
              "        vertical-align: middle;\n",
              "    }\n",
              "\n",
              "    .dataframe tbody tr th {\n",
              "        vertical-align: top;\n",
              "    }\n",
              "\n",
              "    .dataframe thead th {\n",
              "        text-align: right;\n",
              "    }\n",
              "</style>\n",
              "<table border=\"1\" class=\"dataframe\">\n",
              "  <thead>\n",
              "    <tr style=\"text-align: right;\">\n",
              "      <th></th>\n",
              "      <th>name</th>\n",
              "    </tr>\n",
              "  </thead>\n",
              "  <tbody>\n",
              "    <tr>\n",
              "      <th>0</th>\n",
              "      <td>Walmart</td>\n",
              "    </tr>\n",
              "    <tr>\n",
              "      <th>1</th>\n",
              "      <td>Exxon Mobil</td>\n",
              "    </tr>\n",
              "    <tr>\n",
              "      <th>2</th>\n",
              "      <td>Apple</td>\n",
              "    </tr>\n",
              "    <tr>\n",
              "      <th>3</th>\n",
              "      <td>Berkshire Hathaway</td>\n",
              "    </tr>\n",
              "    <tr>\n",
              "      <th>4</th>\n",
              "      <td>McKesson</td>\n",
              "    </tr>\n",
              "    <tr>\n",
              "      <th>...</th>\n",
              "      <td>...</td>\n",
              "    </tr>\n",
              "    <tr>\n",
              "      <th>341</th>\n",
              "      <td>Lithia Motors</td>\n",
              "    </tr>\n",
              "    <tr>\n",
              "      <th>342</th>\n",
              "      <td>KKR</td>\n",
              "    </tr>\n",
              "    <tr>\n",
              "      <th>343</th>\n",
              "      <td>Newmont Mining</td>\n",
              "    </tr>\n",
              "    <tr>\n",
              "      <th>344</th>\n",
              "      <td>PPL</td>\n",
              "    </tr>\n",
              "    <tr>\n",
              "      <th>345</th>\n",
              "      <td>SpartanNash</td>\n",
              "    </tr>\n",
              "  </tbody>\n",
              "</table>\n",
              "<p>346 rows × 1 columns</p>\n",
              "</div>"
            ],
            "text/plain": [
              "                   name\n",
              "0               Walmart\n",
              "1           Exxon Mobil\n",
              "2                 Apple\n",
              "3    Berkshire Hathaway\n",
              "4              McKesson\n",
              "..                  ...\n",
              "341       Lithia Motors\n",
              "342                 KKR\n",
              "343      Newmont Mining\n",
              "344                 PPL\n",
              "345         SpartanNash\n",
              "\n",
              "[346 rows x 1 columns]"
            ]
          },
          "metadata": {
            "tags": []
          },
          "execution_count": 41
        }
      ]
    },
    {
      "cell_type": "markdown",
      "metadata": {
        "id": "k3uYtde32SG7"
      },
      "source": [
        "All companies whose names do not end with 's'."
      ]
    },
    {
      "cell_type": "code",
      "metadata": {
        "colab": {
          "base_uri": "https://localhost:8080/",
          "height": 418
        },
        "id": "Q9kqeStU2Y8i",
        "outputId": "d210e2e3-9149-4814-c1de-25854c599b75"
      },
      "source": [
        "query = 'SELECT name FROM accounts WHERE name NOT LIKE \"%s\";'\r\n",
        "query_to_df(query)"
      ],
      "execution_count": 42,
      "outputs": [
        {
          "output_type": "stream",
          "text": [
            "Query ran for 0.24939560890197754 secs!\n"
          ],
          "name": "stdout"
        },
        {
          "output_type": "execute_result",
          "data": {
            "text/html": [
              "<div>\n",
              "<style scoped>\n",
              "    .dataframe tbody tr th:only-of-type {\n",
              "        vertical-align: middle;\n",
              "    }\n",
              "\n",
              "    .dataframe tbody tr th {\n",
              "        vertical-align: top;\n",
              "    }\n",
              "\n",
              "    .dataframe thead th {\n",
              "        text-align: right;\n",
              "    }\n",
              "</style>\n",
              "<table border=\"1\" class=\"dataframe\">\n",
              "  <thead>\n",
              "    <tr style=\"text-align: right;\">\n",
              "      <th></th>\n",
              "      <th>name</th>\n",
              "    </tr>\n",
              "  </thead>\n",
              "  <tbody>\n",
              "    <tr>\n",
              "      <th>0</th>\n",
              "      <td>Walmart</td>\n",
              "    </tr>\n",
              "    <tr>\n",
              "      <th>1</th>\n",
              "      <td>Exxon Mobil</td>\n",
              "    </tr>\n",
              "    <tr>\n",
              "      <th>2</th>\n",
              "      <td>Apple</td>\n",
              "    </tr>\n",
              "    <tr>\n",
              "      <th>3</th>\n",
              "      <td>Berkshire Hathaway</td>\n",
              "    </tr>\n",
              "    <tr>\n",
              "      <th>4</th>\n",
              "      <td>McKesson</td>\n",
              "    </tr>\n",
              "    <tr>\n",
              "      <th>...</th>\n",
              "      <td>...</td>\n",
              "    </tr>\n",
              "    <tr>\n",
              "      <th>265</th>\n",
              "      <td>KKR</td>\n",
              "    </tr>\n",
              "    <tr>\n",
              "      <th>266</th>\n",
              "      <td>Oneok</td>\n",
              "    </tr>\n",
              "    <tr>\n",
              "      <th>267</th>\n",
              "      <td>Newmont Mining</td>\n",
              "    </tr>\n",
              "    <tr>\n",
              "      <th>268</th>\n",
              "      <td>PPL</td>\n",
              "    </tr>\n",
              "    <tr>\n",
              "      <th>269</th>\n",
              "      <td>SpartanNash</td>\n",
              "    </tr>\n",
              "  </tbody>\n",
              "</table>\n",
              "<p>270 rows × 1 columns</p>\n",
              "</div>"
            ],
            "text/plain": [
              "                   name\n",
              "0               Walmart\n",
              "1           Exxon Mobil\n",
              "2                 Apple\n",
              "3    Berkshire Hathaway\n",
              "4              McKesson\n",
              "..                  ...\n",
              "265                 KKR\n",
              "266               Oneok\n",
              "267      Newmont Mining\n",
              "268                 PPL\n",
              "269         SpartanNash\n",
              "\n",
              "[270 rows x 1 columns]"
            ]
          },
          "metadata": {
            "tags": []
          },
          "execution_count": 42
        }
      ]
    },
    {
      "cell_type": "markdown",
      "metadata": {
        "id": "32j5eUOlpCUy"
      },
      "source": [
        "**The AND Operator:**\r\n",
        "\r\n",
        "* The `AND` operator is used within a `WHERE` statement to consider more than one logical clause at a time\r\n",
        "* Each time you link a new statement with an `AND`, you will need to specify the column you are interested in looking at. You may link as many statements as you would like to consider at the same time.\r\n",
        "* This operator works with all of the operations we have seen so far including arithmetic operators `(+, *, -, /)`. `LIKE, IN`, and `NOT` logic can also be linked together using the `AND` operator.\r\n"
      ]
    },
    {
      "cell_type": "markdown",
      "metadata": {
        "id": "DCWsKkmyqobe"
      },
      "source": [
        "**The BETWEEN Operator:**\r\n",
        "\r\n",
        "* Sometimes we can make a cleaner statement using `BETWEEN` than we can using `AND`. Particularly this is true when we are using the same column for different parts of our `AND` statement.\r\n",
        "* Note that the endpoints of a `BETWEEN` operator query are inclusive. both start and end limits, included in the output.\r\n",
        "\r\n",
        "For example, statement 1 below is much better written as statement 2 below.\r\n",
        "\r\n",
        "1. `SELECT * FROM table WHERE column >= 6 AND column <= 10`\r\n",
        "2. `SELECT * FROM table WHERE column BETWEEN 6 AND 10`"
      ]
    },
    {
      "cell_type": "markdown",
      "metadata": {
        "id": "sYIOrL7rrqw8"
      },
      "source": [
        "<h2>Questions using AND and BETWEEN operators</h2>"
      ]
    },
    {
      "cell_type": "markdown",
      "metadata": {
        "id": "_SkGQhX1ru-G"
      },
      "source": [
        "Write a query that returns all the orders where the standard_qty is over 1000, the poster_qty is 0, and the gloss_qty is 0."
      ]
    },
    {
      "cell_type": "code",
      "metadata": {
        "colab": {
          "base_uri": "https://localhost:8080/",
          "height": 123
        },
        "id": "LkV5W0pkr1W1",
        "outputId": "006904db-69a4-4759-a22b-626730d2d215"
      },
      "source": [
        "query = 'SELECT * FROM orders WHERE standard_qty > 1000 \\\r\n",
        "        AND poster_qty = 0 AND gloss_qty = 0;'\r\n",
        "query_to_df(query)"
      ],
      "execution_count": 43,
      "outputs": [
        {
          "output_type": "stream",
          "text": [
            "Query ran for 0.04233813285827637 secs!\n"
          ],
          "name": "stdout"
        },
        {
          "output_type": "execute_result",
          "data": {
            "text/html": [
              "<div>\n",
              "<style scoped>\n",
              "    .dataframe tbody tr th:only-of-type {\n",
              "        vertical-align: middle;\n",
              "    }\n",
              "\n",
              "    .dataframe tbody tr th {\n",
              "        vertical-align: top;\n",
              "    }\n",
              "\n",
              "    .dataframe thead th {\n",
              "        text-align: right;\n",
              "    }\n",
              "</style>\n",
              "<table border=\"1\" class=\"dataframe\">\n",
              "  <thead>\n",
              "    <tr style=\"text-align: right;\">\n",
              "      <th></th>\n",
              "      <th>id</th>\n",
              "      <th>account_id</th>\n",
              "      <th>occurred_at</th>\n",
              "      <th>standard_qty</th>\n",
              "      <th>gloss_qty</th>\n",
              "      <th>poster_qty</th>\n",
              "      <th>total</th>\n",
              "      <th>standard_amt_usd</th>\n",
              "      <th>gloss_amt_usd</th>\n",
              "      <th>poster_amt_usd</th>\n",
              "      <th>total_amt_usd</th>\n",
              "    </tr>\n",
              "  </thead>\n",
              "  <tbody>\n",
              "    <tr>\n",
              "      <th>0</th>\n",
              "      <td>2613</td>\n",
              "      <td>2951</td>\n",
              "      <td>2016-08-15 00:06:12</td>\n",
              "      <td>1171</td>\n",
              "      <td>0</td>\n",
              "      <td>0</td>\n",
              "      <td>1171</td>\n",
              "      <td>5843.29</td>\n",
              "      <td>0.0</td>\n",
              "      <td>0.0</td>\n",
              "      <td>5843.29</td>\n",
              "    </tr>\n",
              "    <tr>\n",
              "      <th>1</th>\n",
              "      <td>3260</td>\n",
              "      <td>3491</td>\n",
              "      <td>2014-08-29 22:43:00</td>\n",
              "      <td>1552</td>\n",
              "      <td>0</td>\n",
              "      <td>0</td>\n",
              "      <td>1552</td>\n",
              "      <td>7744.48</td>\n",
              "      <td>0.0</td>\n",
              "      <td>0.0</td>\n",
              "      <td>7744.48</td>\n",
              "    </tr>\n",
              "  </tbody>\n",
              "</table>\n",
              "</div>"
            ],
            "text/plain": [
              "     id  account_id  ... poster_amt_usd  total_amt_usd\n",
              "0  2613        2951  ...            0.0        5843.29\n",
              "1  3260        3491  ...            0.0        7744.48\n",
              "\n",
              "[2 rows x 11 columns]"
            ]
          },
          "metadata": {
            "tags": []
          },
          "execution_count": 43
        }
      ]
    },
    {
      "cell_type": "markdown",
      "metadata": {
        "id": "6ASJibHFtYNe"
      },
      "source": [
        "Using the accounts table, find all the companies whose names do not start with 'C' and end with 's'."
      ]
    },
    {
      "cell_type": "code",
      "metadata": {
        "colab": {
          "base_uri": "https://localhost:8080/",
          "height": 418
        },
        "id": "pWpNkPcntZf5",
        "outputId": "b4f04cd8-23e7-4034-90a9-9b84a0554c6c"
      },
      "source": [
        "query = 'SELECT name FROM accounts WHERE name NOT LIKE \"C%\" AND name LIKE \"%S\";'\r\n",
        "query_to_df(query)"
      ],
      "execution_count": 44,
      "outputs": [
        {
          "output_type": "stream",
          "text": [
            "Query ran for 0.08780336380004883 secs!\n"
          ],
          "name": "stdout"
        },
        {
          "output_type": "execute_result",
          "data": {
            "text/html": [
              "<div>\n",
              "<style scoped>\n",
              "    .dataframe tbody tr th:only-of-type {\n",
              "        vertical-align: middle;\n",
              "    }\n",
              "\n",
              "    .dataframe tbody tr th {\n",
              "        vertical-align: top;\n",
              "    }\n",
              "\n",
              "    .dataframe thead th {\n",
              "        text-align: right;\n",
              "    }\n",
              "</style>\n",
              "<table border=\"1\" class=\"dataframe\">\n",
              "  <thead>\n",
              "    <tr style=\"text-align: right;\">\n",
              "      <th></th>\n",
              "      <th>name</th>\n",
              "    </tr>\n",
              "  </thead>\n",
              "  <tbody>\n",
              "    <tr>\n",
              "      <th>0</th>\n",
              "      <td>General Motors</td>\n",
              "    </tr>\n",
              "    <tr>\n",
              "      <th>1</th>\n",
              "      <td>United Technologies</td>\n",
              "    </tr>\n",
              "    <tr>\n",
              "      <th>2</th>\n",
              "      <td>Lowe's</td>\n",
              "    </tr>\n",
              "    <tr>\n",
              "      <th>3</th>\n",
              "      <td>UPS</td>\n",
              "    </tr>\n",
              "    <tr>\n",
              "      <th>4</th>\n",
              "      <td>HCA Holdings</td>\n",
              "    </tr>\n",
              "    <tr>\n",
              "      <th>...</th>\n",
              "      <td>...</td>\n",
              "    </tr>\n",
              "    <tr>\n",
              "      <th>64</th>\n",
              "      <td>United Natural Foods</td>\n",
              "    </tr>\n",
              "    <tr>\n",
              "      <th>65</th>\n",
              "      <td>Dean Foods</td>\n",
              "    </tr>\n",
              "    <tr>\n",
              "      <th>66</th>\n",
              "      <td>Mohawk Industries</td>\n",
              "    </tr>\n",
              "    <tr>\n",
              "      <th>67</th>\n",
              "      <td>Franklin Resources</td>\n",
              "    </tr>\n",
              "    <tr>\n",
              "      <th>68</th>\n",
              "      <td>Lithia Motors</td>\n",
              "    </tr>\n",
              "  </tbody>\n",
              "</table>\n",
              "<p>69 rows × 1 columns</p>\n",
              "</div>"
            ],
            "text/plain": [
              "                    name\n",
              "0         General Motors\n",
              "1    United Technologies\n",
              "2                 Lowe's\n",
              "3                    UPS\n",
              "4           HCA Holdings\n",
              "..                   ...\n",
              "64  United Natural Foods\n",
              "65            Dean Foods\n",
              "66     Mohawk Industries\n",
              "67    Franklin Resources\n",
              "68         Lithia Motors\n",
              "\n",
              "[69 rows x 1 columns]"
            ]
          },
          "metadata": {
            "tags": []
          },
          "execution_count": 44
        }
      ]
    },
    {
      "cell_type": "markdown",
      "metadata": {
        "id": "TPkPXD9WuRaG"
      },
      "source": [
        "When you use the BETWEEN operator in SQL, do the results include the values of your endpoints, or not? Figure out the answer to this important question by writing a query that displays the order date and gloss_qty data for all orders where gloss_qty is between 24 and 29. Then look at your output to see if the BETWEEN operator included the begin and end values or not.\r\n"
      ]
    },
    {
      "cell_type": "code",
      "metadata": {
        "colab": {
          "base_uri": "https://localhost:8080/",
          "height": 418
        },
        "id": "BKRjdL-buue9",
        "outputId": "cbd8b4ce-1ae8-47a1-9c8e-bde725f7f877"
      },
      "source": [
        "query = 'SELECT occurred_at, gloss_qty FROM orders WHERE gloss_qty BETWEEN 24 and 29;'\r\n",
        "query_to_df(query)"
      ],
      "execution_count": 45,
      "outputs": [
        {
          "output_type": "stream",
          "text": [
            "Query ran for 0.6440184116363525 secs!\n"
          ],
          "name": "stdout"
        },
        {
          "output_type": "execute_result",
          "data": {
            "text/html": [
              "<div>\n",
              "<style scoped>\n",
              "    .dataframe tbody tr th:only-of-type {\n",
              "        vertical-align: middle;\n",
              "    }\n",
              "\n",
              "    .dataframe tbody tr th {\n",
              "        vertical-align: top;\n",
              "    }\n",
              "\n",
              "    .dataframe thead th {\n",
              "        text-align: right;\n",
              "    }\n",
              "</style>\n",
              "<table border=\"1\" class=\"dataframe\">\n",
              "  <thead>\n",
              "    <tr style=\"text-align: right;\">\n",
              "      <th></th>\n",
              "      <th>occurred_at</th>\n",
              "      <th>gloss_qty</th>\n",
              "    </tr>\n",
              "  </thead>\n",
              "  <tbody>\n",
              "    <tr>\n",
              "      <th>0</th>\n",
              "      <td>2016-02-01 19:27:27</td>\n",
              "      <td>29</td>\n",
              "    </tr>\n",
              "    <tr>\n",
              "      <th>1</th>\n",
              "      <td>2016-03-02 15:29:32</td>\n",
              "      <td>24</td>\n",
              "    </tr>\n",
              "    <tr>\n",
              "      <th>2</th>\n",
              "      <td>2016-10-14 23:54:21</td>\n",
              "      <td>28</td>\n",
              "    </tr>\n",
              "    <tr>\n",
              "      <th>3</th>\n",
              "      <td>2015-08-09 18:29:20</td>\n",
              "      <td>24</td>\n",
              "    </tr>\n",
              "    <tr>\n",
              "      <th>4</th>\n",
              "      <td>2016-02-01 20:00:37</td>\n",
              "      <td>26</td>\n",
              "    </tr>\n",
              "    <tr>\n",
              "      <th>...</th>\n",
              "      <td>...</td>\n",
              "      <td>...</td>\n",
              "    </tr>\n",
              "    <tr>\n",
              "      <th>479</th>\n",
              "      <td>2016-07-23 14:32:34</td>\n",
              "      <td>24</td>\n",
              "    </tr>\n",
              "    <tr>\n",
              "      <th>480</th>\n",
              "      <td>2014-06-26 04:12:30</td>\n",
              "      <td>24</td>\n",
              "    </tr>\n",
              "    <tr>\n",
              "      <th>481</th>\n",
              "      <td>2014-03-08 15:33:55</td>\n",
              "      <td>25</td>\n",
              "    </tr>\n",
              "    <tr>\n",
              "      <th>482</th>\n",
              "      <td>2014-03-09 07:21:16</td>\n",
              "      <td>27</td>\n",
              "    </tr>\n",
              "    <tr>\n",
              "      <th>483</th>\n",
              "      <td>2015-07-23 22:01:14</td>\n",
              "      <td>26</td>\n",
              "    </tr>\n",
              "  </tbody>\n",
              "</table>\n",
              "<p>484 rows × 2 columns</p>\n",
              "</div>"
            ],
            "text/plain": [
              "            occurred_at  gloss_qty\n",
              "0   2016-02-01 19:27:27         29\n",
              "1   2016-03-02 15:29:32         24\n",
              "2   2016-10-14 23:54:21         28\n",
              "3   2015-08-09 18:29:20         24\n",
              "4   2016-02-01 20:00:37         26\n",
              "..                  ...        ...\n",
              "479 2016-07-23 14:32:34         24\n",
              "480 2014-06-26 04:12:30         24\n",
              "481 2014-03-08 15:33:55         25\n",
              "482 2014-03-09 07:21:16         27\n",
              "483 2015-07-23 22:01:14         26\n",
              "\n",
              "[484 rows x 2 columns]"
            ]
          },
          "metadata": {
            "tags": []
          },
          "execution_count": 45
        }
      ]
    },
    {
      "cell_type": "markdown",
      "metadata": {
        "id": "CCGHOfTyv7iT"
      },
      "source": [
        "Use the web_events table to find all information regarding individuals who were contacted via the organic or adwords channels, and started their account at any point in 2016, sorted from newest to oldest."
      ]
    },
    {
      "cell_type": "code",
      "metadata": {
        "colab": {
          "base_uri": "https://localhost:8080/",
          "height": 418
        },
        "id": "FCEhGpuFv9Pq",
        "outputId": "0f9ca404-77f1-473d-cde1-18324f75a94c"
      },
      "source": [
        "query = 'SELECT * FROM web_events WHERE channel IN (\"organic\", \"adwords\") \\\r\n",
        "        AND occurred_at between \"2016-01-01\" and \"2017-01-01\" ORDER BY occurred_at DESC;'\r\n",
        "\r\n",
        "query_to_df(query)"
      ],
      "execution_count": 46,
      "outputs": [
        {
          "output_type": "stream",
          "text": [
            "Query ran for 1.7372901439666748 secs!\n"
          ],
          "name": "stdout"
        },
        {
          "output_type": "execute_result",
          "data": {
            "text/html": [
              "<div>\n",
              "<style scoped>\n",
              "    .dataframe tbody tr th:only-of-type {\n",
              "        vertical-align: middle;\n",
              "    }\n",
              "\n",
              "    .dataframe tbody tr th {\n",
              "        vertical-align: top;\n",
              "    }\n",
              "\n",
              "    .dataframe thead th {\n",
              "        text-align: right;\n",
              "    }\n",
              "</style>\n",
              "<table border=\"1\" class=\"dataframe\">\n",
              "  <thead>\n",
              "    <tr style=\"text-align: right;\">\n",
              "      <th></th>\n",
              "      <th>id</th>\n",
              "      <th>account_id</th>\n",
              "      <th>occurred_at</th>\n",
              "      <th>channel</th>\n",
              "    </tr>\n",
              "  </thead>\n",
              "  <tbody>\n",
              "    <tr>\n",
              "      <th>0</th>\n",
              "      <td>8493</td>\n",
              "      <td>4141</td>\n",
              "      <td>2016-12-31 16:31:23</td>\n",
              "      <td>organic</td>\n",
              "    </tr>\n",
              "    <tr>\n",
              "      <th>1</th>\n",
              "      <td>5661</td>\n",
              "      <td>1851</td>\n",
              "      <td>2016-12-31 06:55:38</td>\n",
              "      <td>organic</td>\n",
              "    </tr>\n",
              "    <tr>\n",
              "      <th>2</th>\n",
              "      <td>5562</td>\n",
              "      <td>1791</td>\n",
              "      <td>2016-12-31 02:08:50</td>\n",
              "      <td>adwords</td>\n",
              "    </tr>\n",
              "    <tr>\n",
              "      <th>3</th>\n",
              "      <td>7703</td>\n",
              "      <td>3351</td>\n",
              "      <td>2016-12-30 21:06:53</td>\n",
              "      <td>adwords</td>\n",
              "    </tr>\n",
              "    <tr>\n",
              "      <th>4</th>\n",
              "      <td>7921</td>\n",
              "      <td>3521</td>\n",
              "      <td>2016-12-30 20:15:48</td>\n",
              "      <td>organic</td>\n",
              "    </tr>\n",
              "    <tr>\n",
              "      <th>...</th>\n",
              "      <td>...</td>\n",
              "      <td>...</td>\n",
              "      <td>...</td>\n",
              "      <td>...</td>\n",
              "    </tr>\n",
              "    <tr>\n",
              "      <th>1020</th>\n",
              "      <td>7846</td>\n",
              "      <td>3471</td>\n",
              "      <td>2016-01-06 08:23:05</td>\n",
              "      <td>adwords</td>\n",
              "    </tr>\n",
              "    <tr>\n",
              "      <th>1021</th>\n",
              "      <td>6567</td>\n",
              "      <td>2541</td>\n",
              "      <td>2016-01-06 00:15:28</td>\n",
              "      <td>organic</td>\n",
              "    </tr>\n",
              "    <tr>\n",
              "      <th>1022</th>\n",
              "      <td>8775</td>\n",
              "      <td>4281</td>\n",
              "      <td>2016-01-04 22:51:01</td>\n",
              "      <td>adwords</td>\n",
              "    </tr>\n",
              "    <tr>\n",
              "      <th>1023</th>\n",
              "      <td>5581</td>\n",
              "      <td>1831</td>\n",
              "      <td>2016-01-02 21:27:39</td>\n",
              "      <td>organic</td>\n",
              "    </tr>\n",
              "    <tr>\n",
              "      <th>1024</th>\n",
              "      <td>4399</td>\n",
              "      <td>1001</td>\n",
              "      <td>2016-01-01 15:45:54</td>\n",
              "      <td>adwords</td>\n",
              "    </tr>\n",
              "  </tbody>\n",
              "</table>\n",
              "<p>1025 rows × 4 columns</p>\n",
              "</div>"
            ],
            "text/plain": [
              "        id  account_id         occurred_at  channel\n",
              "0     8493        4141 2016-12-31 16:31:23  organic\n",
              "1     5661        1851 2016-12-31 06:55:38  organic\n",
              "2     5562        1791 2016-12-31 02:08:50  adwords\n",
              "3     7703        3351 2016-12-30 21:06:53  adwords\n",
              "4     7921        3521 2016-12-30 20:15:48  organic\n",
              "...    ...         ...                 ...      ...\n",
              "1020  7846        3471 2016-01-06 08:23:05  adwords\n",
              "1021  6567        2541 2016-01-06 00:15:28  organic\n",
              "1022  8775        4281 2016-01-04 22:51:01  adwords\n",
              "1023  5581        1831 2016-01-02 21:27:39  organic\n",
              "1024  4399        1001 2016-01-01 15:45:54  adwords\n",
              "\n",
              "[1025 rows x 4 columns]"
            ]
          },
          "metadata": {
            "tags": []
          },
          "execution_count": 46
        }
      ]
    },
    {
      "cell_type": "markdown",
      "metadata": {
        "id": "j0UkP1YTz4XW"
      },
      "source": [
        "You will notice that using BETWEEN is tricky for dates! While BETWEEN is generally inclusive of endpoints, it assumes the time is at 00:00:00 (i.e. midnight) for dates. This is the reason why we set the right-side endpoint of the period at '2017-01-01'.\r\n"
      ]
    },
    {
      "cell_type": "markdown",
      "metadata": {
        "id": "-l4aG4pN02qL"
      },
      "source": [
        "**The OR Operator**\r\n",
        "\r\n",
        "* Similar to the `AND` operator, the `OR` operator can combine multiple statements.\r\n",
        "* Each time you link a new statement with an `OR`, you will need to specify the column you are interested in looking at, just like with `AND`.\r\n",
        "* You may link as many statements as you would like to consider at the same time.\r\n",
        "* This operator works with all of the operations we have seen so far including arithmetic operators `(+, *, -, /)`, `LIKE`, `IN`, `NOT`, `AND`, and `BETWEEN` logic can all be linked together using the `OR` operator.\r\n",
        "* When combining multiple of these operations, we frequently might need to use parentheses to ensure that logic we want to perform is being executed correctly."
      ]
    },
    {
      "cell_type": "code",
      "metadata": {
        "id": "1UCHA-xV5NcC"
      },
      "source": [
        ""
      ],
      "execution_count": 46,
      "outputs": []
    },
    {
      "cell_type": "markdown",
      "metadata": {
        "id": "IIiwhdnU5Cnw"
      },
      "source": [
        "<h3>Questions using the OR operator</h3>"
      ]
    },
    {
      "cell_type": "markdown",
      "metadata": {
        "id": "peRPBWCr5RTb"
      },
      "source": [
        "Find list of orders ids where either gloss_qty or poster_qty is greater than 4000. Only include the id field in the resulting table."
      ]
    },
    {
      "cell_type": "code",
      "metadata": {
        "colab": {
          "base_uri": "https://localhost:8080/",
          "height": 478
        },
        "id": "2sDKcqhW5WyO",
        "outputId": "542a2847-eea3-40ef-deee-e94c78f3a991"
      },
      "source": [
        "query = 'SELECT id FROM orders WHERE gloss_qty > 4000 OR poster_qty > 4000;'\r\n",
        "\r\n",
        "query_to_df(query)"
      ],
      "execution_count": 47,
      "outputs": [
        {
          "output_type": "stream",
          "text": [
            "Query ran for 0.04637908935546875 secs!\n"
          ],
          "name": "stdout"
        },
        {
          "output_type": "execute_result",
          "data": {
            "text/html": [
              "<div>\n",
              "<style scoped>\n",
              "    .dataframe tbody tr th:only-of-type {\n",
              "        vertical-align: middle;\n",
              "    }\n",
              "\n",
              "    .dataframe tbody tr th {\n",
              "        vertical-align: top;\n",
              "    }\n",
              "\n",
              "    .dataframe thead th {\n",
              "        text-align: right;\n",
              "    }\n",
              "</style>\n",
              "<table border=\"1\" class=\"dataframe\">\n",
              "  <thead>\n",
              "    <tr style=\"text-align: right;\">\n",
              "      <th></th>\n",
              "      <th>id</th>\n",
              "    </tr>\n",
              "  </thead>\n",
              "  <tbody>\n",
              "    <tr>\n",
              "      <th>0</th>\n",
              "      <td>362</td>\n",
              "    </tr>\n",
              "    <tr>\n",
              "      <th>1</th>\n",
              "      <td>731</td>\n",
              "    </tr>\n",
              "    <tr>\n",
              "      <th>2</th>\n",
              "      <td>1191</td>\n",
              "    </tr>\n",
              "    <tr>\n",
              "      <th>3</th>\n",
              "      <td>1913</td>\n",
              "    </tr>\n",
              "    <tr>\n",
              "      <th>4</th>\n",
              "      <td>1939</td>\n",
              "    </tr>\n",
              "    <tr>\n",
              "      <th>5</th>\n",
              "      <td>3778</td>\n",
              "    </tr>\n",
              "    <tr>\n",
              "      <th>6</th>\n",
              "      <td>3858</td>\n",
              "    </tr>\n",
              "    <tr>\n",
              "      <th>7</th>\n",
              "      <td>3963</td>\n",
              "    </tr>\n",
              "    <tr>\n",
              "      <th>8</th>\n",
              "      <td>4016</td>\n",
              "    </tr>\n",
              "    <tr>\n",
              "      <th>9</th>\n",
              "      <td>4230</td>\n",
              "    </tr>\n",
              "    <tr>\n",
              "      <th>10</th>\n",
              "      <td>4698</td>\n",
              "    </tr>\n",
              "    <tr>\n",
              "      <th>11</th>\n",
              "      <td>4942</td>\n",
              "    </tr>\n",
              "    <tr>\n",
              "      <th>12</th>\n",
              "      <td>5791</td>\n",
              "    </tr>\n",
              "    <tr>\n",
              "      <th>13</th>\n",
              "      <td>6590</td>\n",
              "    </tr>\n",
              "  </tbody>\n",
              "</table>\n",
              "</div>"
            ],
            "text/plain": [
              "      id\n",
              "0    362\n",
              "1    731\n",
              "2   1191\n",
              "3   1913\n",
              "4   1939\n",
              "5   3778\n",
              "6   3858\n",
              "7   3963\n",
              "8   4016\n",
              "9   4230\n",
              "10  4698\n",
              "11  4942\n",
              "12  5791\n",
              "13  6590"
            ]
          },
          "metadata": {
            "tags": []
          },
          "execution_count": 47
        }
      ]
    },
    {
      "cell_type": "markdown",
      "metadata": {
        "id": "ZNJUs6Ji6EKX"
      },
      "source": [
        "Write a query that returns a list of orders where the standard_qty is zero and either the gloss_qty or poster_qty is over 1000."
      ]
    },
    {
      "cell_type": "code",
      "metadata": {
        "id": "76x-SYau6Ibt",
        "colab": {
          "base_uri": "https://localhost:8080/",
          "height": 567
        },
        "outputId": "2b0f294d-819f-4576-bfd4-7f1acad83086"
      },
      "source": [
        "query = 'SELECT * FROM orders WHERE standard_qty = 0 AND \\\r\n",
        "        (gloss_qty > 1000 OR poster_qty > 1000);'\r\n",
        "query_to_df(query)"
      ],
      "execution_count": 48,
      "outputs": [
        {
          "output_type": "stream",
          "text": [
            "Query ran for 0.08092832565307617 secs!\n"
          ],
          "name": "stdout"
        },
        {
          "output_type": "execute_result",
          "data": {
            "text/html": [
              "<div>\n",
              "<style scoped>\n",
              "    .dataframe tbody tr th:only-of-type {\n",
              "        vertical-align: middle;\n",
              "    }\n",
              "\n",
              "    .dataframe tbody tr th {\n",
              "        vertical-align: top;\n",
              "    }\n",
              "\n",
              "    .dataframe thead th {\n",
              "        text-align: right;\n",
              "    }\n",
              "</style>\n",
              "<table border=\"1\" class=\"dataframe\">\n",
              "  <thead>\n",
              "    <tr style=\"text-align: right;\">\n",
              "      <th></th>\n",
              "      <th>id</th>\n",
              "      <th>account_id</th>\n",
              "      <th>occurred_at</th>\n",
              "      <th>standard_qty</th>\n",
              "      <th>gloss_qty</th>\n",
              "      <th>poster_qty</th>\n",
              "      <th>total</th>\n",
              "      <th>standard_amt_usd</th>\n",
              "      <th>gloss_amt_usd</th>\n",
              "      <th>poster_amt_usd</th>\n",
              "      <th>total_amt_usd</th>\n",
              "    </tr>\n",
              "  </thead>\n",
              "  <tbody>\n",
              "    <tr>\n",
              "      <th>0</th>\n",
              "      <td>1913</td>\n",
              "      <td>2461</td>\n",
              "      <td>2013-12-29 09:50:38</td>\n",
              "      <td>0</td>\n",
              "      <td>6450</td>\n",
              "      <td>45</td>\n",
              "      <td>6495</td>\n",
              "      <td>0.0</td>\n",
              "      <td>48310.50</td>\n",
              "      <td>365.40</td>\n",
              "      <td>48675.90</td>\n",
              "    </tr>\n",
              "    <tr>\n",
              "      <th>1</th>\n",
              "      <td>4369</td>\n",
              "      <td>1111</td>\n",
              "      <td>2015-11-15 17:47:46</td>\n",
              "      <td>0</td>\n",
              "      <td>486</td>\n",
              "      <td>2988</td>\n",
              "      <td>3474</td>\n",
              "      <td>0.0</td>\n",
              "      <td>3640.14</td>\n",
              "      <td>24262.56</td>\n",
              "      <td>27902.70</td>\n",
              "    </tr>\n",
              "    <tr>\n",
              "      <th>2</th>\n",
              "      <td>4391</td>\n",
              "      <td>1161</td>\n",
              "      <td>2016-06-04 08:58:10</td>\n",
              "      <td>0</td>\n",
              "      <td>106</td>\n",
              "      <td>2967</td>\n",
              "      <td>3073</td>\n",
              "      <td>0.0</td>\n",
              "      <td>793.94</td>\n",
              "      <td>24092.04</td>\n",
              "      <td>24885.98</td>\n",
              "    </tr>\n",
              "    <tr>\n",
              "      <th>3</th>\n",
              "      <td>4420</td>\n",
              "      <td>1191</td>\n",
              "      <td>2016-05-21 23:21:14</td>\n",
              "      <td>0</td>\n",
              "      <td>43</td>\n",
              "      <td>1448</td>\n",
              "      <td>1491</td>\n",
              "      <td>0.0</td>\n",
              "      <td>322.07</td>\n",
              "      <td>11757.76</td>\n",
              "      <td>12079.83</td>\n",
              "    </tr>\n",
              "    <tr>\n",
              "      <th>4</th>\n",
              "      <td>4448</td>\n",
              "      <td>1231</td>\n",
              "      <td>2016-06-25 12:27:15</td>\n",
              "      <td>0</td>\n",
              "      <td>3178</td>\n",
              "      <td>23</td>\n",
              "      <td>3201</td>\n",
              "      <td>0.0</td>\n",
              "      <td>23803.22</td>\n",
              "      <td>186.76</td>\n",
              "      <td>23989.98</td>\n",
              "    </tr>\n",
              "    <tr>\n",
              "      <th>5</th>\n",
              "      <td>4698</td>\n",
              "      <td>1451</td>\n",
              "      <td>2015-02-26 06:13:21</td>\n",
              "      <td>0</td>\n",
              "      <td>484</td>\n",
              "      <td>4901</td>\n",
              "      <td>5385</td>\n",
              "      <td>0.0</td>\n",
              "      <td>3625.16</td>\n",
              "      <td>39796.12</td>\n",
              "      <td>43421.28</td>\n",
              "    </tr>\n",
              "    <tr>\n",
              "      <th>6</th>\n",
              "      <td>4942</td>\n",
              "      <td>1701</td>\n",
              "      <td>2015-09-24 21:02:25</td>\n",
              "      <td>0</td>\n",
              "      <td>10744</td>\n",
              "      <td>95</td>\n",
              "      <td>10839</td>\n",
              "      <td>0.0</td>\n",
              "      <td>80472.56</td>\n",
              "      <td>771.40</td>\n",
              "      <td>81243.96</td>\n",
              "    </tr>\n",
              "    <tr>\n",
              "      <th>7</th>\n",
              "      <td>5032</td>\n",
              "      <td>1831</td>\n",
              "      <td>2016-05-26 17:48:19</td>\n",
              "      <td>0</td>\n",
              "      <td>1448</td>\n",
              "      <td>287</td>\n",
              "      <td>1735</td>\n",
              "      <td>0.0</td>\n",
              "      <td>10845.52</td>\n",
              "      <td>2330.44</td>\n",
              "      <td>13175.96</td>\n",
              "    </tr>\n",
              "    <tr>\n",
              "      <th>8</th>\n",
              "      <td>5191</td>\n",
              "      <td>2051</td>\n",
              "      <td>2015-05-17 14:17:59</td>\n",
              "      <td>0</td>\n",
              "      <td>1041</td>\n",
              "      <td>0</td>\n",
              "      <td>1041</td>\n",
              "      <td>0.0</td>\n",
              "      <td>7797.09</td>\n",
              "      <td>0.00</td>\n",
              "      <td>7797.09</td>\n",
              "    </tr>\n",
              "    <tr>\n",
              "      <th>9</th>\n",
              "      <td>5791</td>\n",
              "      <td>2861</td>\n",
              "      <td>2014-10-24 12:06:22</td>\n",
              "      <td>0</td>\n",
              "      <td>10</td>\n",
              "      <td>11691</td>\n",
              "      <td>11701</td>\n",
              "      <td>0.0</td>\n",
              "      <td>74.90</td>\n",
              "      <td>94930.92</td>\n",
              "      <td>95005.82</td>\n",
              "    </tr>\n",
              "    <tr>\n",
              "      <th>10</th>\n",
              "      <td>5805</td>\n",
              "      <td>2861</td>\n",
              "      <td>2016-09-29 04:51:11</td>\n",
              "      <td>0</td>\n",
              "      <td>60</td>\n",
              "      <td>3122</td>\n",
              "      <td>3182</td>\n",
              "      <td>0.0</td>\n",
              "      <td>449.40</td>\n",
              "      <td>25350.64</td>\n",
              "      <td>25800.04</td>\n",
              "    </tr>\n",
              "    <tr>\n",
              "      <th>11</th>\n",
              "      <td>5895</td>\n",
              "      <td>2931</td>\n",
              "      <td>2016-01-18 09:21:18</td>\n",
              "      <td>0</td>\n",
              "      <td>519</td>\n",
              "      <td>1315</td>\n",
              "      <td>1834</td>\n",
              "      <td>0.0</td>\n",
              "      <td>3887.31</td>\n",
              "      <td>10677.80</td>\n",
              "      <td>14565.11</td>\n",
              "    </tr>\n",
              "    <tr>\n",
              "      <th>12</th>\n",
              "      <td>5933</td>\n",
              "      <td>3001</td>\n",
              "      <td>2016-09-14 05:44:07</td>\n",
              "      <td>0</td>\n",
              "      <td>2802</td>\n",
              "      <td>63</td>\n",
              "      <td>2865</td>\n",
              "      <td>0.0</td>\n",
              "      <td>20986.98</td>\n",
              "      <td>511.56</td>\n",
              "      <td>21498.54</td>\n",
              "    </tr>\n",
              "    <tr>\n",
              "      <th>13</th>\n",
              "      <td>6007</td>\n",
              "      <td>3141</td>\n",
              "      <td>2013-12-08 20:13:49</td>\n",
              "      <td>0</td>\n",
              "      <td>49</td>\n",
              "      <td>1401</td>\n",
              "      <td>1450</td>\n",
              "      <td>0.0</td>\n",
              "      <td>367.01</td>\n",
              "      <td>11376.12</td>\n",
              "      <td>11743.13</td>\n",
              "    </tr>\n",
              "    <tr>\n",
              "      <th>14</th>\n",
              "      <td>6142</td>\n",
              "      <td>3341</td>\n",
              "      <td>2016-11-26 06:56:12</td>\n",
              "      <td>0</td>\n",
              "      <td>492</td>\n",
              "      <td>1947</td>\n",
              "      <td>2439</td>\n",
              "      <td>0.0</td>\n",
              "      <td>3685.08</td>\n",
              "      <td>15809.64</td>\n",
              "      <td>19494.72</td>\n",
              "    </tr>\n",
              "    <tr>\n",
              "      <th>15</th>\n",
              "      <td>6285</td>\n",
              "      <td>3491</td>\n",
              "      <td>2015-02-22 09:54:25</td>\n",
              "      <td>0</td>\n",
              "      <td>1246</td>\n",
              "      <td>0</td>\n",
              "      <td>1246</td>\n",
              "      <td>0.0</td>\n",
              "      <td>9332.54</td>\n",
              "      <td>0.00</td>\n",
              "      <td>9332.54</td>\n",
              "    </tr>\n",
              "    <tr>\n",
              "      <th>16</th>\n",
              "      <td>6332</td>\n",
              "      <td>3571</td>\n",
              "      <td>2016-09-18 15:30:41</td>\n",
              "      <td>0</td>\n",
              "      <td>51</td>\n",
              "      <td>1752</td>\n",
              "      <td>1803</td>\n",
              "      <td>0.0</td>\n",
              "      <td>381.99</td>\n",
              "      <td>14226.24</td>\n",
              "      <td>14608.23</td>\n",
              "    </tr>\n",
              "  </tbody>\n",
              "</table>\n",
              "</div>"
            ],
            "text/plain": [
              "      id  account_id  ... poster_amt_usd  total_amt_usd\n",
              "0   1913        2461  ...         365.40       48675.90\n",
              "1   4369        1111  ...       24262.56       27902.70\n",
              "2   4391        1161  ...       24092.04       24885.98\n",
              "3   4420        1191  ...       11757.76       12079.83\n",
              "4   4448        1231  ...         186.76       23989.98\n",
              "5   4698        1451  ...       39796.12       43421.28\n",
              "6   4942        1701  ...         771.40       81243.96\n",
              "7   5032        1831  ...        2330.44       13175.96\n",
              "8   5191        2051  ...           0.00        7797.09\n",
              "9   5791        2861  ...       94930.92       95005.82\n",
              "10  5805        2861  ...       25350.64       25800.04\n",
              "11  5895        2931  ...       10677.80       14565.11\n",
              "12  5933        3001  ...         511.56       21498.54\n",
              "13  6007        3141  ...       11376.12       11743.13\n",
              "14  6142        3341  ...       15809.64       19494.72\n",
              "15  6285        3491  ...           0.00        9332.54\n",
              "16  6332        3571  ...       14226.24       14608.23\n",
              "\n",
              "[17 rows x 11 columns]"
            ]
          },
          "metadata": {
            "tags": []
          },
          "execution_count": 48
        }
      ]
    },
    {
      "cell_type": "markdown",
      "metadata": {
        "id": "q54vQcbr80BI"
      },
      "source": [
        "Find all the company names that start with a 'C' or 'W', and the primary contact contains 'ana' or 'Ana', but it doesn't contain 'eana'.\r\n"
      ]
    },
    {
      "cell_type": "code",
      "metadata": {
        "colab": {
          "base_uri": "https://localhost:8080/",
          "height": 123
        },
        "id": "-SQDaoqO81Gy",
        "outputId": "0ba33161-ec5d-4bc9-e0cb-9a487c82d3e6"
      },
      "source": [
        "query = 'SELECT * FROM accounts WHERE \\\r\n",
        "        (name LIKE \"C%\" OR name LIKE \"W%\") AND \\\r\n",
        "        (primary_poc LIKE \"%ana%\" or primary_poc LIKE \"%Ana%\") AND\\\r\n",
        "        primary_poc NOT LIKE \"%eana%\";'\r\n",
        "\r\n",
        "query_to_df(query)"
      ],
      "execution_count": 49,
      "outputs": [
        {
          "output_type": "stream",
          "text": [
            "Query ran for 0.03810310363769531 secs!\n"
          ],
          "name": "stdout"
        },
        {
          "output_type": "execute_result",
          "data": {
            "text/html": [
              "<div>\n",
              "<style scoped>\n",
              "    .dataframe tbody tr th:only-of-type {\n",
              "        vertical-align: middle;\n",
              "    }\n",
              "\n",
              "    .dataframe tbody tr th {\n",
              "        vertical-align: top;\n",
              "    }\n",
              "\n",
              "    .dataframe thead th {\n",
              "        text-align: right;\n",
              "    }\n",
              "</style>\n",
              "<table border=\"1\" class=\"dataframe\">\n",
              "  <thead>\n",
              "    <tr style=\"text-align: right;\">\n",
              "      <th></th>\n",
              "      <th>id</th>\n",
              "      <th>name</th>\n",
              "      <th>website</th>\n",
              "      <th>lats</th>\n",
              "      <th>longs</th>\n",
              "      <th>primary_poc</th>\n",
              "      <th>sales_rep_id</th>\n",
              "    </tr>\n",
              "  </thead>\n",
              "  <tbody>\n",
              "    <tr>\n",
              "      <th>0</th>\n",
              "      <td>1061</td>\n",
              "      <td>CVS Health</td>\n",
              "      <td>www.cvshealth.com</td>\n",
              "      <td>41.467796</td>\n",
              "      <td>-73.767636</td>\n",
              "      <td>Anabel Haskell</td>\n",
              "      <td>321560</td>\n",
              "    </tr>\n",
              "    <tr>\n",
              "      <th>1</th>\n",
              "      <td>1361</td>\n",
              "      <td>Comcast</td>\n",
              "      <td>www.comcastcorporation.com</td>\n",
              "      <td>42.541548</td>\n",
              "      <td>-76.249924</td>\n",
              "      <td>Shana Sanborn</td>\n",
              "      <td>321650</td>\n",
              "    </tr>\n",
              "  </tbody>\n",
              "</table>\n",
              "</div>"
            ],
            "text/plain": [
              "     id        name  ...     primary_poc  sales_rep_id\n",
              "0  1061  CVS Health  ...  Anabel Haskell        321560\n",
              "1  1361     Comcast  ...   Shana Sanborn        321650\n",
              "\n",
              "[2 rows x 7 columns]"
            ]
          },
          "metadata": {
            "tags": []
          },
          "execution_count": 49
        }
      ]
    },
    {
      "cell_type": "code",
      "metadata": {
        "id": "ai4Mvns3WAa4",
        "colab": {
          "base_uri": "https://localhost:8080/"
        },
        "outputId": "23bd5734-a557-4e07-b315-c298437d117c"
      },
      "source": [
        "# closing connection and cursor for the day\r\n",
        "cursor.close()\r\n",
        "cnxn.close()\r\n",
        "print('All connections Closed!')"
      ],
      "execution_count": 50,
      "outputs": [
        {
          "output_type": "stream",
          "text": [
            "All connections Closed!\n"
          ],
          "name": "stdout"
        }
      ]
    }
  ]
}