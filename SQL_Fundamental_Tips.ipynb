{
 "cells": [
  {
   "cell_type": "markdown",
   "metadata": {
    "id": "DDkbYOjmem7N"
   },
   "source": [
    "# A Line-up of Tips for Better SQL Writing "
   ]
  },
  {
   "cell_type": "markdown",
   "metadata": {
    "id": "TFBAXJeqlmTK"
   },
   "source": [
    "**SQL** stands for **`structured query language (SQL)`**\n",
    "\n",
    "The three most common SQL RDBMS are:\n",
    "\n",
    "* SQLite\n",
    "* MySQL (from Oracle)\n",
    "* PostgreSQL "
   ]
  },
  {
   "cell_type": "markdown",
   "metadata": {
    "id": "a2W49F5efwNk"
   },
   "source": [
    "**SELECT** indicates which column(s) you want from the table.\n",
    "\n",
    "**FROM** specifies from which table(s) you want to select the columns. Notice the columns need to exist in this table.\n",
    "If you want to be provided with the data from all columns in the table, you use \"*\", like so:\n",
    "```\n",
    "SELECT * FROM orders\n",
    "```\n",
    "Note that using SELECT does not create a new table with these columns in the database, it just provides the data to you as the results, or output, of this command."
   ]
  },
  {
   "cell_type": "markdown",
   "metadata": {},
   "source": [
    "*******************************************************************************************************************************"
   ]
  },
  {
   "cell_type": "markdown",
   "metadata": {},
   "source": [
    "<h2>Formatting Best Practices..</h2>\n",
    "\n",
    "1. **Using Upper and Lower Case in SQL:**<br>\n",
    "SQL queries can be run successfully whether characters are written in upper- or lower-case. In other words, SQL queries are not case-sensitive\n",
    "\n",
    "2. **Capitalizing SQL Clauses:**<br>It is common and best practice to capitalize all SQL commands, like `SELECT` and `FROM`, and keep everything else in your query lower case. Capitalizing command words makes queries easier to read, which will matter more as you write more complex queries.\n",
    "\n",
    "3. **One other note:**<BR> The text data stored in SQL tables can be either upper or lower case, and SQL is case-sensitive in regard to this text data.\n",
    "\n",
    "4. **Avoid Spaces in Table and Variable Names:**<br>\n",
    "It is common to use underscores and avoid spaces in column names. It is a bit annoying to work with spaces in SQL. In Postgres if you have spaces in column or table names, you need to refer to these columns/tables with double quotes around them (Ex: `FROM \"Table Name\"` as opposed to `FROM table_name`). In other environments, you might see this as square brackets instead (Ex: `FROM [Table Name]`).\n",
    "\n",
    "5. **Use White Space in Queries:**<br>\n",
    "SQL queries ignore spaces, so you can add as many spaces and blank lines between code as you want, and the queries are the same. But pls use with decorum.\n",
    "\n",
    "6. **Semicolons:**<br>\n",
    "Depending on your SQL environment, your query may need a semicolon at the end to execute. Other environments are more flexible in terms of this being a \"requirement.\" It is considered best practice to put a semicolon at the end of each statement, which also allows you to run multiple queries at once if your environment allows this."
   ]
  },
  {
   "cell_type": "markdown",
   "metadata": {},
   "source": [
    "*******************************************************************************************************************************"
   ]
  },
  {
   "cell_type": "markdown",
   "metadata": {},
   "source": [
    "## The LIMIT clause\n",
    "\n",
    "* The `LIMIT` command is always the very last part of a query."
   ]
  },
  {
   "cell_type": "markdown",
   "metadata": {},
   "source": [
    "*******************************************************************************************************************************"
   ]
  },
  {
   "cell_type": "markdown",
   "metadata": {},
   "source": [
    "## The ORDER BY Clause\n",
    "\n",
    "* The `ORDER BY` statement allows us to sort our results using the data in any column. \n",
    "* Using `ORDER BY` in a SQL query only has temporary effects, for the results of that query, unlike sorting a sheet by column in Excel or Sheets.\n",
    "* The `ORDER BY` statement always comes in a query after the `SELECT` and `FROM` statements, but before the `LIMIT` statement. If you are using the `LIMIT` statement, it will always appear last.\n",
    "* Remember **DESC** can be added after the column in your `ORDER BY` statement to sort in descending order, as the default is to sort in ascending order."
   ]
  },
  {
   "cell_type": "markdown",
   "metadata": {},
   "source": [
    "**The ORDER BY 2 Clause**\n",
    "\n",
    "* We can `ORDER BY` more than one column at a time\n",
    "* When you provide a list of columns in an `ORDER BY` command, the sorting occurs using the leftmost column in your list first, then the next column from the left, and so on.\n",
    "* We still have the ability to flip the way we order using `DESC`."
   ]
  },
  {
   "cell_type": "markdown",
   "metadata": {},
   "source": [
    "*******************************************************************************************************************************"
   ]
  },
  {
   "cell_type": "markdown",
   "metadata": {},
   "source": [
    "## The WHERE Clause:\n",
    "\n",
    "* Using the `WHERE` statement, we can display subsets of tables based on conditions that must be met. You can also think of the `WHERE` command as filtering the data.\n",
    "* The `WHERE` clause goes after `FROM`, but before `ORDER BY` or `LIMIT`\n",
    "* Common symbols used in `WHERE` statements include:\n",
    "** $>$ (greater than)\n",
    "** $<$ (less than)\n",
    "** $>=$ (greater than or equal to)\n",
    "** $<=$ (less than or equal to)\n",
    "** $=$ (equal to)\n",
    "** $!=$ (not equal to)"
   ]
  },
  {
   "cell_type": "markdown",
   "metadata": {},
   "source": [
    "**WHERE Clause contd...**\n",
    "\n",
    "The `WHERE` statement can also be used with non-numeric data. We can use the = and != operators here. You need to be sure to use single quotes (just be careful if you have quotes in the original text) with the text data, not double quotes.\n",
    "\n",
    "Commonly when we are using `WHERE` with non-numeric data fields, we use the `LIKE`, `NOT`, or `IN` operators. "
   ]
  },
  {
   "cell_type": "markdown",
   "metadata": {},
   "source": [
    "***************************************************************************************************************************"
   ]
  },
  {
   "cell_type": "markdown",
   "metadata": {},
   "source": [
    "## Derived Columns:\n",
    "\n",
    "* Creating a new column that is a combination of existing columns is known as a derived column (or \"calculated\" or \"computed\" column). Usually you want to give a name, or \"alias,\" to your new column using the `AS` keyword.\n",
    "* This derived column, and its alias, are generally only temporary, existing just for the duration of your query. The next time you run a query and access this table, the new column will not be there.\n",
    "* **Order of Operations**<br>\n",
    "Remember **PEMDAS** from math class to help remember the order of operations? The same order of operations applies when using arithmetic operators in SQL.\n",
    "\n",
    "The following two statements have very different end results:\n",
    "\n",
    "* Standard_qty / standard_qty + gloss_qty + poster_qty\n",
    "* standard_qty / (standard_qty + gloss_qty + poster_qty)"
   ]
  },
  {
   "cell_type": "markdown",
   "metadata": {},
   "source": [
    "***************************************************************************************************************************"
   ]
  },
  {
   "cell_type": "markdown",
   "metadata": {},
   "source": [
    "<h2>Introduction to Logical Operators</h2>\n",
    "\n",
    "In the next concepts, you will be learning about Logical Operators. Logical Operators include:\n",
    "\n",
    "* **LIKE**<br>\n",
    "This allows you to perform operations similar to using `WHERE` and `=`, but for cases when you might not know exactly what you are looking for.\n",
    "\n",
    "* **IN**<br>\n",
    "This allows you to perform operations similar to using `WHERE` and `=`, but for more than one condition.\n",
    "\n",
    "* **NOT**<br>\n",
    "This is used with `IN` and `LIKE` to select all of the rows `NOT LIKE` or `NOT IN` a certain condition.\n",
    "\n",
    "* **AND & BETWEEN**<br>\n",
    "These allow you to combine operations where all combined conditions must be true.\n",
    "\n",
    "* **OR**<br>\n",
    "This allow you to combine operations where at least one of the combined conditions must be true.\n",
    "\n",
    "**The LIKE Operator:**\n",
    "\n",
    "The `LIKE` operator is extremely useful for working with text. You will use `LIKE` within a `WHERE` clause. The `LIKE` operator is frequently used with `%`. The `%` tells us that we might want any number of characters leading up to a particular set of characters or following a certain set of characters.\n",
    "\n",
    "Remember to use single quotes for the text you pass to the `LIKE` operator, because of this lower and uppercase letters are not the same within the string. Searching for 'T' is not the same as searching for 't'.\n",
    "\n",
    "**The IN Operator:**\n",
    "\n",
    "The `IN` operator is useful for working with both numeric and text columns. This operator allows you to use an `=`, but for more than one item of that particular column. We can check one, two or many column values for which we want to pull data, but all within the same query.\n",
    "\n",
    "**The NOT Operator:**\n",
    "\n",
    "The `NOT` operator is an extremely useful operator for working with the previous two operators we introduced: `IN` and `LIKE`. By specifying `NOT` `LIKE` or `NOT` `IN`, we can grab all of the rows that do not meet a particular criteria.\n",
    "\n",
    "**Expert Tip**\n",
    "\n",
    "In most SQL environments, although not in our Udacity's classroom, you can use single or double quotation marks - and you may NEED to use double quotation marks if you have an apostrophe within the text you are attempting to pull."
   ]
  },
  {
   "cell_type": "markdown",
   "metadata": {},
   "source": [
    "**********************************************************************************************************************"
   ]
  },
  {
   "cell_type": "markdown",
   "metadata": {},
   "source": [
    "## The AND Operator:\n",
    "\n",
    "* The `AND` operator is used within a `WHERE` statement to consider more than one logical clause at a time\n",
    "* Each time you link a new statement with an `AND`, you will need to specify the column you are interested in looking at. You may link as many statements as you would like to consider at the same time.\n",
    "* This operator works with all of the operations we have seen so far including arithmetic operators `(+, *, -, /)`. `LIKE, IN`, and `NOT` logic can also be linked together using the `AND` operator.\n"
   ]
  },
  {
   "cell_type": "markdown",
   "metadata": {},
   "source": [
    "## The BETWEEN Operator:\n",
    "\n",
    "* Sometimes we can make a cleaner statement using `BETWEEN` than we can using `AND`. Particularly this is true when we are using the same column for different parts of our `AND` statement.\n",
    "* Note that the endpoints of a `BETWEEN` operator query are inclusive. both start and end limits, included in the output.\n",
    "\n",
    "For example, statement 1 below is much better written as statement 2 below.\n",
    "\n",
    "1. `SELECT * FROM table WHERE column >= 6 AND column <= 10`\n",
    "2. `SELECT * FROM table WHERE column BETWEEN 6 AND 10`"
   ]
  },
  {
   "cell_type": "markdown",
   "metadata": {},
   "source": [
    "## The OR Operator\n",
    "\n",
    "* Similar to the `AND` operator, the `OR` operator can combine multiple statements.\n",
    "* Each time you link a new statement with an `OR`, you will need to specify the column you are interested in looking at, just like with `AND`.\n",
    "* You may link as many statements as you would like to consider at the same time.\n",
    "* This operator works with all of the operations we have seen so far including arithmetic operators `(+, *, -, /)`, `LIKE`, `IN`, `NOT`, `AND`, and `BETWEEN` logic can all be linked together using the `OR` operator.\n",
    "* When combining multiple of these operations, we frequently might need to use parentheses to ensure that logic we want to perform is being executed correctly."
   ]
  },
  {
   "cell_type": "markdown",
   "metadata": {
    "id": "bQtTj4V8c84X"
   },
   "source": [
    "## GROUP BY:\n",
    "\n",
    "* `GROUP BY` can be used to aggregate data within subsets of the data. For example, grouping for different accounts, different regions, or different sales representatives.\n",
    "\n",
    "\n",
    "* Any column in the `SELECT` statement that is not within an aggregator must be in the `GROUP BY` clause.\n",
    "\n",
    "\n",
    "* The `GROUP BY` always goes between `WHERE` and `ORDER BY`.\n",
    "\n",
    "\n",
    "* `ORDER BY` works like SORT in spreadsheet software."
   ]
  },
  {
   "cell_type": "markdown",
   "metadata": {
    "id": "IIJ8xNTmdPo0"
   },
   "source": [
    "### GROUP BY - Expert Tip:\n",
    "\n",
    "SQL evaluates the aggregations before the `LIMIT` clause. If you don’t `group by` any columns, you’ll get a 1-row result—no problem there. If you `group by` a column with enough unique values that it exceeds the `LIMIT` number, the aggregates will be calculated, and then some rows will simply be omitted from the results.\n",
    "\n",
    "This is actually a nice way to do things because you know you’re going to get the correct aggregates. If SQL cuts the table down to 100 rows, then performed the aggregations, your results would be substantially different. So the default style of `Group by` before `LIMIT` which usally comes last is ok."
   ]
  },
  {
   "cell_type": "markdown",
   "metadata": {
    "id": "RN8LHfAcxswN"
   },
   "source": [
    "### **GROUP BY PART 2**\n",
    "\n",
    "* We can `GROUP BY` multiple columns at once. This is often useful to aggregate across a number of different segments.\n",
    "\n",
    "* The order of columns listed in the `ORDER BY` clause does make a difference. You are ordering the columns from left to right. But it makes no difference in `GROUP BY` Clause\n",
    "\n",
    "**GROUP BY - Expert Tips**\n",
    "\n",
    "* The order of column names in your `GROUP BY` clause doesn’t matter—the results will be the same regardless. If we run the same query and reverse the order in the `GROUP BY` clause, you can see we get the same results.\n",
    "\n",
    "\n",
    "* As with `ORDER BY`, we can substitute numbers for column names in the `GROUP BY` clause. It’s generally recommended to do this only when you’re grouping many columns, or if something else is causing the text in the `GROUP BY` clause to be excessively long.\n",
    "\n",
    "\n",
    "* A reminder here that any column that is not within an aggregation must show up in your `GROUP BY` statement. If you forget, you will likely get an error. However, in the off chance that your query does work, you might not like the results!"
   ]
  },
  {
   "cell_type": "markdown",
   "metadata": {
    "id": "1vZHnf5i_GJD"
   },
   "source": [
    "### **Distinct**\n",
    "\n",
    "* `DISTINCT` is always used in `SELECT` statements, and it provides the unique rows for all columns written in the `SELECT` statement. Therefore, you only use `DISTINCT` once in any particular `SELECT` statement.\n",
    "\n",
    "* You could write:\n",
    "```\n",
    "SELECT DISTINCT column1, column2, column3\n",
    "FROM table1;\n",
    "```\n",
    "which would return the unique (or DISTINCT) rows across all three columns.\n",
    "\n",
    "* You could not write:\n",
    "```\n",
    "SELECT DISTINCT column1, DISTINCT column2, DISTINCT column3\n",
    "FROM table1;\n",
    "```\n",
    "* You can think of DISTINCT the same way you might think of the statement \"unique\".\n",
    "\n",
    "\n",
    "**DISTINCT - Expert Tip**\n",
    "\n",
    "It’s worth noting that using `DISTINCT`, particularly in aggregations, can slow your queries down quite a bit."
   ]
  },
  {
   "cell_type": "markdown",
   "metadata": {
    "id": "v8Vrdjb8A9SM"
   },
   "source": [
    "## **Having**\n",
    "\n",
    "**HAVING - Expert Tip**\n",
    "\n",
    "HAVING is the “clean” way to filter a query that has been aggregated, but this is also commonly done using a subquery. Essentially, any time you want to perform a `WHERE` on an element of your query that was created by an aggregate, you need to use `HAVING` instead."
   ]
  },
  {
   "cell_type": "markdown",
   "metadata": {
    "id": "4EnBYvKZBJKw"
   },
   "source": [
    "## **Pitching Where and Having**\n",
    "\n",
    "1. `WHERE` subsets the returned data based on a logical condition\n",
    "2. `WHERE` appears after the `FROM`, `JOIN` and `ON` clauses but before the `GROUP BY`\n",
    "3. `HAVING` appears after the `GROUP BY` clause but before the `ORDER BY`.\n",
    "4. `HAVING` is like `WHERE` but it works on logical statements involving aggregations.  "
   ]
  },
  {
   "cell_type": "code",
   "execution_count": null,
   "metadata": {
    "id": "xKcv5jNmebqk"
   },
   "outputs": [],
   "source": []
  }
 ],
 "metadata": {
  "colab": {
   "name": "SQL_Fundamental_Tips.ipynb",
   "provenance": []
  },
  "kernelspec": {
   "display_name": "Python 3",
   "language": "python",
   "name": "python3"
  },
  "language_info": {
   "codemirror_mode": {
    "name": "ipython",
    "version": 3
   },
   "file_extension": ".py",
   "mimetype": "text/x-python",
   "name": "python",
   "nbconvert_exporter": "python",
   "pygments_lexer": "ipython3",
   "version": "3.8.5"
  }
 },
 "nbformat": 4,
 "nbformat_minor": 1
}
