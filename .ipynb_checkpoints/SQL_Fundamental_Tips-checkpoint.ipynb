{
 "cells": [
  {
   "cell_type": "markdown",
   "metadata": {
    "id": "DDkbYOjmem7N"
   },
   "source": [
    "# A Line-up of Tips for Better SQL Writing "
   ]
  },
  {
   "cell_type": "markdown",
   "metadata": {
    "id": "TFBAXJeqlmTK"
   },
   "source": [
    "**SQL** stands for **`structured query language (SQL)`**\n",
    "\n",
    "The three most common SQL RDBMS are:\n",
    "\n",
    "* SQLite\n",
    "* MySQL\n",
    "* PostgreSQL "
   ]
  },
  {
   "cell_type": "markdown",
   "metadata": {
    "id": "a2W49F5efwNk"
   },
   "source": [
    "**SELECT** indicates which column(s) you want from the table.\n",
    "\n",
    "**FROM** specifies from which table(s) you want to select the columns. Notice the columns need to exist in this table.\n",
    "If you want to be provided with the data from all columns in the table, you use \"*\", like so:\n",
    "\n",
    "**SELECT** * **FROM** orders\n",
    "\n",
    "Note that using SELECT does not create a new table with these columns in the database, it just provides the data to you as the results, or output, of this command."
   ]
  },
  {
   "cell_type": "markdown",
   "metadata": {
    "id": "bQtTj4V8c84X"
   },
   "source": [
    "## GROUP BY:\n",
    "\n",
    "* `GROUP BY` can be used to aggregate data within subsets of the data. For example, grouping for different accounts, different regions, or different sales representatives.\n",
    "\n",
    "\n",
    "* Any column in the `SELECT` statement that is not within an aggregator must be in the `GROUP BY` clause.\n",
    "\n",
    "\n",
    "* The `GROUP BY` always goes between `WHERE` and `ORDER BY`.\n",
    "\n",
    "\n",
    "* `ORDER BY` works like SORT in spreadsheet software."
   ]
  },
  {
   "cell_type": "markdown",
   "metadata": {
    "id": "IIJ8xNTmdPo0"
   },
   "source": [
    "### GROUP BY - Expert Tip:\n",
    "\n",
    "SQL evaluates the aggregations before the `LIMIT` clause. If you don’t `group by` any columns, you’ll get a 1-row result—no problem there. If you `group by` a column with enough unique values that it exceeds the `LIMIT` number, the aggregates will be calculated, and then some rows will simply be omitted from the results.\n",
    "\n",
    "This is actually a nice way to do things because you know you’re going to get the correct aggregates. If SQL cuts the table down to 100 rows, then performed the aggregations, your results would be substantially different. So the default style of `Group by` before `LIMIT` which usally comes last is ok."
   ]
  },
  {
   "cell_type": "markdown",
   "metadata": {
    "id": "RN8LHfAcxswN"
   },
   "source": [
    "### **GROUP BY PART 2**\n",
    "\n",
    "* We can `GROUP BY` multiple columns at once. This is often useful to aggregate across a number of different segments.\n",
    "\n",
    "* The order of columns listed in the `ORDER BY` clause does make a difference. You are ordering the columns from left to right. But it makes no difference in `GROUP BY` Clause\n",
    "\n",
    "**GROUP BY - Expert Tips**\n",
    "\n",
    "* The order of column names in your `GROUP BY` clause doesn’t matter—the results will be the same regardless. If we run the same query and reverse the order in the `GROUP BY` clause, you can see we get the same results.\n",
    "\n",
    "\n",
    "* As with `ORDER BY`, we can substitute numbers for column names in the `GROUP BY` clause. It’s generally recommended to do this only when you’re grouping many columns, or if something else is causing the text in the `GROUP BY` clause to be excessively long.\n",
    "\n",
    "\n",
    "* A reminder here that any column that is not within an aggregation must show up in your `GROUP BY` statement. If you forget, you will likely get an error. However, in the off chance that your query does work, you might not like the results!"
   ]
  },
  {
   "cell_type": "markdown",
   "metadata": {
    "id": "1vZHnf5i_GJD"
   },
   "source": [
    "### **Distinct**\n",
    "\n",
    "* `DISTINCT` is always used in `SELECT` statements, and it provides the unique rows for all columns written in the `SELECT` statement. Therefore, you only use `DISTINCT` once in any particular `SELECT` statement.\n",
    "\n",
    "* You could write:\n",
    "```\n",
    "SELECT DISTINCT column1, column2, column3\n",
    "FROM table1;\n",
    "```\n",
    "which would return the unique (or DISTINCT) rows across all three columns.\n",
    "\n",
    "* You could not write:\n",
    "```\n",
    "SELECT DISTINCT column1, DISTINCT column2, DISTINCT column3\n",
    "FROM table1;\n",
    "```\n",
    "* You can think of DISTINCT the same way you might think of the statement \"unique\".\n",
    "\n",
    "\n",
    "**DISTINCT - Expert Tip**\n",
    "\n",
    "It’s worth noting that using `DISTINCT`, particularly in aggregations, can slow your queries down quite a bit."
   ]
  },
  {
   "cell_type": "markdown",
   "metadata": {
    "id": "v8Vrdjb8A9SM"
   },
   "source": [
    "## **Having**\n",
    "\n",
    "**HAVING - Expert Tip**\n",
    "\n",
    "HAVING is the “clean” way to filter a query that has been aggregated, but this is also commonly done using a subquery. Essentially, any time you want to perform a `WHERE` on an element of your query that was created by an aggregate, you need to use `HAVING` instead."
   ]
  },
  {
   "cell_type": "markdown",
   "metadata": {
    "id": "4EnBYvKZBJKw"
   },
   "source": [
    "## **Pitching Where and Having**\n",
    "\n",
    "1. `WHERE` subsets the returned data based on a logical condition\n",
    "2. `WHERE` appears after the `FROM`, `JOIN` and `ON` clauses but before the `GROUP BY`\n",
    "3. `HAVING` appears after the `GROUP BY` clause but before the `ORDER BY`.\n",
    "4. `HAVING` is like `WHERE` but it works on logical statements involving aggregations.  "
   ]
  },
  {
   "cell_type": "code",
   "execution_count": null,
   "metadata": {
    "id": "xKcv5jNmebqk"
   },
   "outputs": [],
   "source": [
    ""
   ]
  }
 ],
 "metadata": {
  "colab": {
   "name": "SQL_Fundamental_Tips.ipynb",
   "provenance": []
  },
  "kernelspec": {
   "display_name": "Python 3",
   "name": "python3"
  },
  "language_info": {
   "name": "python"
  }
 },
 "nbformat": 4,
 "nbformat_minor": 0
}
