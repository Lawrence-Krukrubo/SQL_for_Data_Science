{
 "cells": [
  {
   "cell_type": "markdown",
   "metadata": {
    "colab_type": "text",
    "id": "view-in-github"
   },
   "source": [
    "<a href=\"https://colab.research.google.com/github/Lawrence-Krukrubo/SQL_for_Data_Science/blob/main/sql_for_data_analysis1.ipynb\" target=\"_parent\"><img src=\"https://colab.research.google.com/assets/colab-badge.svg\" alt=\"Open In Colab\"/></a>"
   ]
  },
  {
   "cell_type": "markdown",
   "metadata": {
    "id": "rs28nkD03bJD"
   },
   "source": [
    "<b><h1>Welcome To SQL Basics...</h1></b>"
   ]
  },
  {
   "cell_type": "markdown",
   "metadata": {
    "id": "Q446yarrPy1_"
   },
   "source": [
    "We connect to MySQL server and workbench and make analysis with the parch-and-posey database.<br>\n",
    "This course is the practicals of the course **SQL for Data Analysis at Udacity**"
   ]
  },
  {
   "cell_type": "code",
   "execution_count": 1,
   "metadata": {
    "colab": {
     "base_uri": "https://localhost:8080/"
    },
    "id": "edyRBaU7fl0x",
    "outputId": "575c3e42-7c3b-43d6-d789-584d414613eb"
   },
   "outputs": [
    {
     "name": "stdout",
     "output_type": "stream",
     "text": [
      "Done!\n"
     ]
    }
   ],
   "source": [
    "# First we install mysql-connector for python\n",
    "!pip install --quiet mysql-connector-python\n",
    "print('Done!')"
   ]
  },
  {
   "cell_type": "code",
   "execution_count": 2,
   "metadata": {
    "id": "N-0tEY-HZtFQ"
   },
   "outputs": [
    {
     "name": "stdout",
     "output_type": "stream",
     "text": [
      "Done!\n"
     ]
    }
   ],
   "source": [
    "# we import some required libraries\n",
    "import pandas as pd\n",
    "import numpy as np\n",
    "import matplotlib.pyplot as plt\n",
    "import seaborn as sns\n",
    "from pprint import pprint\n",
    "import time\n",
    "print('Done!')"
   ]
  },
  {
   "cell_type": "markdown",
   "metadata": {},
   "source": [
    "## Parch-and-Posey DataBase Entity Relationship Diagram Schema"
   ]
  },
  {
   "cell_type": "markdown",
   "metadata": {},
   "source": [
    "<img src='https://video.udacity-data.com/topher/2017/October/59e946e7_erd/erd.png' height=400 weidth=400>"
   ]
  },
  {
   "cell_type": "markdown",
   "metadata": {},
   "source": [
    "**Next, we create a connection to the parch-and-posey DataBase in MySQL Work-Bench**"
   ]
  },
  {
   "cell_type": "code",
   "execution_count": 4,
   "metadata": {
    "colab": {
     "base_uri": "https://localhost:8080/"
    },
    "id": "Z7pjdj0bZ29i",
    "outputId": "f2c1880f-a5b7-42bc-c51c-ec6e9e4f35cf"
   },
   "outputs": [
    {
     "name": "stdout",
     "output_type": "stream",
     "text": [
      "Enter UserName:danam\n",
      "Enter Password:········\n",
      "Connected to MySQL Server version  8.0.27\n",
      "You're connected to database:  ('parch_and_posey',)\n"
     ]
    }
   ],
   "source": [
    "import mysql\n",
    "from mysql.connector import Error\n",
    "from getpass import getpass\n",
    "\n",
    "try:\n",
    "    connection = mysql.connector.connect(host='localhost',\n",
    "                                         database='parch_and_posey',\n",
    "                                         user=input('Enter UserName:'),\n",
    "                                         password=getpass('Enter Password:'))\n",
    "    if connection.is_connected():\n",
    "        db_Info = connection.get_server_info()\n",
    "        print(\"Connected to MySQL Server version \", db_Info)\n",
    "        cursor = connection.cursor()\n",
    "        cursor.execute(\"select database();\")\n",
    "        record = cursor.fetchone()\n",
    "        print(\"You're connected to database: \", record)\n",
    "\n",
    "except Error as e:\n",
    "    print(\"Error while connecting to MySQL\", e)"
   ]
  },
  {
   "cell_type": "markdown",
   "metadata": {},
   "source": [
    "**Let's see the tables in parch-and-posey database**"
   ]
  },
  {
   "cell_type": "code",
   "execution_count": 5,
   "metadata": {
    "colab": {
     "base_uri": "https://localhost:8080/"
    },
    "id": "KaJk63zKcGUP",
    "outputId": "15628df0-06ae-47b4-d534-686caf2c3953"
   },
   "outputs": [
    {
     "data": {
      "text/plain": [
       "[('accounts',), ('orders',), ('region',), ('sales_reps',), ('web_events',)]"
      ]
     },
     "execution_count": 5,
     "metadata": {},
     "output_type": "execute_result"
    }
   ],
   "source": [
    "# let's run the show tables command \n",
    "\n",
    "cursor.execute('show tables')\n",
    "out = cursor.fetchall()\n",
    "out"
   ]
  },
  {
   "cell_type": "markdown",
   "metadata": {
    "id": "tBDkCWhU_TFW"
   },
   "source": [
    "**Defining a method that converts the result of each query to a data frame**"
   ]
  },
  {
   "cell_type": "code",
   "execution_count": 6,
   "metadata": {
    "id": "15rpaWm35Zm0"
   },
   "outputs": [],
   "source": [
    "def query_to_df(query):\n",
    "    st = time.time()\n",
    "    # Assert Every Query ends with a semi-colon\n",
    "    try:\n",
    "        assert query.endswith(';')\n",
    "    except AssertionError:\n",
    "        return 'ERROR: Query Must End with ;'\n",
    "\n",
    "    # so we never have more than 20 rows displayed\n",
    "    pd.set_option('display.max_rows', 20) \n",
    "    df = None\n",
    "\n",
    "    # Process the query\n",
    "    cursor.execute(query)\n",
    "    columns = cursor.description\n",
    "    result = []\n",
    "    for value in cursor.fetchall():\n",
    "        tmp = {}\n",
    "        for (index,column) in enumerate(value):\n",
    "            tmp[columns[index][0]] = [column]\n",
    "        result.append(tmp)\n",
    "\n",
    "    # Create a DataFrame from all results\n",
    "    for ind, data in enumerate(result):\n",
    "        if ind >= 1:\n",
    "            x = pd.DataFrame(data)\n",
    "            df = pd.concat([df, x], ignore_index=True)\n",
    "        else:\n",
    "            df = pd.DataFrame(data)\n",
    "    print(f'Query ran for {time.time()-st} secs!')\n",
    "    return df"
   ]
  },
  {
   "cell_type": "markdown",
   "metadata": {
    "id": "xtdPSUSPg8eC"
   },
   "source": [
    "**Let's see the first 3 data of the accounts tables in parch and posey database**"
   ]
  },
  {
   "cell_type": "code",
   "execution_count": 7,
   "metadata": {
    "colab": {
     "base_uri": "https://localhost:8080/",
     "height": 153
    },
    "id": "-VmFnaIviM8I",
    "outputId": "bcc3f003-c3bd-45f7-91ab-33db75c7f356"
   },
   "outputs": [
    {
     "name": "stdout",
     "output_type": "stream",
     "text": [
      "Query ran for 0.24725747108459473 secs!\n"
     ]
    },
    {
     "data": {
      "text/html": [
       "<div>\n",
       "<style scoped>\n",
       "    .dataframe tbody tr th:only-of-type {\n",
       "        vertical-align: middle;\n",
       "    }\n",
       "\n",
       "    .dataframe tbody tr th {\n",
       "        vertical-align: top;\n",
       "    }\n",
       "\n",
       "    .dataframe thead th {\n",
       "        text-align: right;\n",
       "    }\n",
       "</style>\n",
       "<table border=\"1\" class=\"dataframe\">\n",
       "  <thead>\n",
       "    <tr style=\"text-align: right;\">\n",
       "      <th></th>\n",
       "      <th>id</th>\n",
       "      <th>name</th>\n",
       "      <th>website</th>\n",
       "      <th>lats</th>\n",
       "      <th>longs</th>\n",
       "      <th>primary_poc</th>\n",
       "      <th>sales_rep_id</th>\n",
       "    </tr>\n",
       "  </thead>\n",
       "  <tbody>\n",
       "    <tr>\n",
       "      <th>0</th>\n",
       "      <td>1001</td>\n",
       "      <td>Walmart</td>\n",
       "      <td>www.walmart.com</td>\n",
       "      <td>40.23849561</td>\n",
       "      <td>-75.10329704</td>\n",
       "      <td>Tamara Tuma</td>\n",
       "      <td>321500</td>\n",
       "    </tr>\n",
       "    <tr>\n",
       "      <th>1</th>\n",
       "      <td>1011</td>\n",
       "      <td>Exxon Mobil</td>\n",
       "      <td>www.exxonmobil.com</td>\n",
       "      <td>41.16915630</td>\n",
       "      <td>-73.84937379</td>\n",
       "      <td>Sung Shields</td>\n",
       "      <td>321510</td>\n",
       "    </tr>\n",
       "    <tr>\n",
       "      <th>2</th>\n",
       "      <td>1021</td>\n",
       "      <td>Apple</td>\n",
       "      <td>www.apple.com</td>\n",
       "      <td>42.29049481</td>\n",
       "      <td>-76.08400942</td>\n",
       "      <td>Jodee Lupo</td>\n",
       "      <td>321520</td>\n",
       "    </tr>\n",
       "  </tbody>\n",
       "</table>\n",
       "</div>"
      ],
      "text/plain": [
       "     id         name             website         lats         longs  \\\n",
       "0  1001      Walmart     www.walmart.com  40.23849561  -75.10329704   \n",
       "1  1011  Exxon Mobil  www.exxonmobil.com  41.16915630  -73.84937379   \n",
       "2  1021        Apple       www.apple.com  42.29049481  -76.08400942   \n",
       "\n",
       "    primary_poc  sales_rep_id  \n",
       "0   Tamara Tuma        321500  \n",
       "1  Sung Shields        321510  \n",
       "2    Jodee Lupo        321520  "
      ]
     },
     "execution_count": 7,
     "metadata": {},
     "output_type": "execute_result"
    }
   ],
   "source": [
    "# 1. For the accounts table\n",
    "\n",
    "query = 'SELECT * FROM accounts LIMIT 3;'\n",
    "query_to_df(query)"
   ]
  },
  {
   "cell_type": "markdown",
   "metadata": {},
   "source": [
    "**Let's perform simple data manipulation**"
   ]
  },
  {
   "cell_type": "code",
   "execution_count": 8,
   "metadata": {},
   "outputs": [
    {
     "name": "stdout",
     "output_type": "stream",
     "text": [
      "Query ran for 0.14334869384765625 secs!\n"
     ]
    }
   ],
   "source": [
    "query_to_df(\n",
    "\"UPDATE accounts SET primary_poc='tamara tuma' WHERE id=1001;\"\n",
    ")"
   ]
  },
  {
   "cell_type": "code",
   "execution_count": 9,
   "metadata": {},
   "outputs": [
    {
     "name": "stdout",
     "output_type": "stream",
     "text": [
      "Query ran for 0.015988826751708984 secs!\n"
     ]
    },
    {
     "data": {
      "text/html": [
       "<div>\n",
       "<style scoped>\n",
       "    .dataframe tbody tr th:only-of-type {\n",
       "        vertical-align: middle;\n",
       "    }\n",
       "\n",
       "    .dataframe tbody tr th {\n",
       "        vertical-align: top;\n",
       "    }\n",
       "\n",
       "    .dataframe thead th {\n",
       "        text-align: right;\n",
       "    }\n",
       "</style>\n",
       "<table border=\"1\" class=\"dataframe\">\n",
       "  <thead>\n",
       "    <tr style=\"text-align: right;\">\n",
       "      <th></th>\n",
       "      <th>id</th>\n",
       "      <th>name</th>\n",
       "      <th>website</th>\n",
       "      <th>lats</th>\n",
       "      <th>longs</th>\n",
       "      <th>primary_poc</th>\n",
       "      <th>sales_rep_id</th>\n",
       "    </tr>\n",
       "  </thead>\n",
       "  <tbody>\n",
       "    <tr>\n",
       "      <th>0</th>\n",
       "      <td>1001</td>\n",
       "      <td>Walmart</td>\n",
       "      <td>www.walmart.com</td>\n",
       "      <td>40.23849561</td>\n",
       "      <td>-75.10329704</td>\n",
       "      <td>tamara tuma</td>\n",
       "      <td>321500</td>\n",
       "    </tr>\n",
       "    <tr>\n",
       "      <th>1</th>\n",
       "      <td>1011</td>\n",
       "      <td>Exxon Mobil</td>\n",
       "      <td>www.exxonmobil.com</td>\n",
       "      <td>41.16915630</td>\n",
       "      <td>-73.84937379</td>\n",
       "      <td>Sung Shields</td>\n",
       "      <td>321510</td>\n",
       "    </tr>\n",
       "    <tr>\n",
       "      <th>2</th>\n",
       "      <td>1021</td>\n",
       "      <td>Apple</td>\n",
       "      <td>www.apple.com</td>\n",
       "      <td>42.29049481</td>\n",
       "      <td>-76.08400942</td>\n",
       "      <td>Jodee Lupo</td>\n",
       "      <td>321520</td>\n",
       "    </tr>\n",
       "  </tbody>\n",
       "</table>\n",
       "</div>"
      ],
      "text/plain": [
       "     id         name             website         lats         longs  \\\n",
       "0  1001      Walmart     www.walmart.com  40.23849561  -75.10329704   \n",
       "1  1011  Exxon Mobil  www.exxonmobil.com  41.16915630  -73.84937379   \n",
       "2  1021        Apple       www.apple.com  42.29049481  -76.08400942   \n",
       "\n",
       "    primary_poc  sales_rep_id  \n",
       "0   tamara tuma        321500  \n",
       "1  Sung Shields        321510  \n",
       "2    Jodee Lupo        321520  "
      ]
     },
     "execution_count": 9,
     "metadata": {},
     "output_type": "execute_result"
    }
   ],
   "source": [
    "# RErun the former query For the accounts table\n",
    "\n",
    "query = 'SELECT * FROM accounts LIMIT 3;'\n",
    "query_to_df(query)"
   ]
  },
  {
   "cell_type": "code",
   "execution_count": 10,
   "metadata": {},
   "outputs": [
    {
     "name": "stdout",
     "output_type": "stream",
     "text": [
      "Query ran for 0.0019969940185546875 secs!\n"
     ]
    }
   ],
   "source": [
    "# Let's reset the value back to it's original\n",
    "\n",
    "query_to_df(\n",
    "\"UPDATE accounts SET primary_poc='Tamara Tuma' WHERE id=1001;\"\n",
    ")"
   ]
  },
  {
   "cell_type": "markdown",
   "metadata": {},
   "source": [
    "**Let's see the first 3 data of the orders table in parch and posey database**"
   ]
  },
  {
   "cell_type": "code",
   "execution_count": 11,
   "metadata": {
    "colab": {
     "base_uri": "https://localhost:8080/",
     "height": 153
    },
    "id": "GEhD_s9Gwed0",
    "outputId": "59361e8f-088a-470e-8f2b-e76bf7e3b8b1"
   },
   "outputs": [
    {
     "name": "stdout",
     "output_type": "stream",
     "text": [
      "Query ran for 0.0820162296295166 secs!\n"
     ]
    },
    {
     "data": {
      "text/html": [
       "<div>\n",
       "<style scoped>\n",
       "    .dataframe tbody tr th:only-of-type {\n",
       "        vertical-align: middle;\n",
       "    }\n",
       "\n",
       "    .dataframe tbody tr th {\n",
       "        vertical-align: top;\n",
       "    }\n",
       "\n",
       "    .dataframe thead th {\n",
       "        text-align: right;\n",
       "    }\n",
       "</style>\n",
       "<table border=\"1\" class=\"dataframe\">\n",
       "  <thead>\n",
       "    <tr style=\"text-align: right;\">\n",
       "      <th></th>\n",
       "      <th>id</th>\n",
       "      <th>account_id</th>\n",
       "      <th>occurred_at</th>\n",
       "      <th>standard_qty</th>\n",
       "      <th>gloss_qty</th>\n",
       "      <th>poster_qty</th>\n",
       "      <th>total</th>\n",
       "      <th>standard_amt_usd</th>\n",
       "      <th>gloss_amt_usd</th>\n",
       "      <th>poster_amt_usd</th>\n",
       "      <th>total_amt_usd</th>\n",
       "    </tr>\n",
       "  </thead>\n",
       "  <tbody>\n",
       "    <tr>\n",
       "      <th>0</th>\n",
       "      <td>1</td>\n",
       "      <td>1001</td>\n",
       "      <td>2015-10-06 17:31:14</td>\n",
       "      <td>123</td>\n",
       "      <td>22</td>\n",
       "      <td>24</td>\n",
       "      <td>169</td>\n",
       "      <td>613.77</td>\n",
       "      <td>164.78</td>\n",
       "      <td>194.88</td>\n",
       "      <td>973.43</td>\n",
       "    </tr>\n",
       "    <tr>\n",
       "      <th>1</th>\n",
       "      <td>2</td>\n",
       "      <td>1001</td>\n",
       "      <td>2015-11-05 03:34:33</td>\n",
       "      <td>190</td>\n",
       "      <td>41</td>\n",
       "      <td>57</td>\n",
       "      <td>288</td>\n",
       "      <td>948.10</td>\n",
       "      <td>307.09</td>\n",
       "      <td>462.84</td>\n",
       "      <td>1718.03</td>\n",
       "    </tr>\n",
       "    <tr>\n",
       "      <th>2</th>\n",
       "      <td>3</td>\n",
       "      <td>1001</td>\n",
       "      <td>2015-12-04 04:21:55</td>\n",
       "      <td>85</td>\n",
       "      <td>47</td>\n",
       "      <td>0</td>\n",
       "      <td>132</td>\n",
       "      <td>424.15</td>\n",
       "      <td>352.03</td>\n",
       "      <td>0.00</td>\n",
       "      <td>776.18</td>\n",
       "    </tr>\n",
       "  </tbody>\n",
       "</table>\n",
       "</div>"
      ],
      "text/plain": [
       "   id  account_id         occurred_at  standard_qty  gloss_qty  poster_qty  \\\n",
       "0   1        1001 2015-10-06 17:31:14           123         22          24   \n",
       "1   2        1001 2015-11-05 03:34:33           190         41          57   \n",
       "2   3        1001 2015-12-04 04:21:55            85         47           0   \n",
       "\n",
       "   total standard_amt_usd gloss_amt_usd poster_amt_usd total_amt_usd  \n",
       "0    169           613.77        164.78         194.88        973.43  \n",
       "1    288           948.10        307.09         462.84       1718.03  \n",
       "2    132           424.15        352.03           0.00        776.18  "
      ]
     },
     "execution_count": 11,
     "metadata": {},
     "output_type": "execute_result"
    }
   ],
   "source": [
    "# 2. For the orders table\n",
    "\n",
    "query = 'SELECT * FROM orders LIMIT 3;'\n",
    "query_to_df(query)"
   ]
  },
  {
   "cell_type": "markdown",
   "metadata": {},
   "source": [
    "**Let's see the first 3 data of the region table in parch and posey database**"
   ]
  },
  {
   "cell_type": "code",
   "execution_count": 12,
   "metadata": {
    "colab": {
     "base_uri": "https://localhost:8080/",
     "height": 153
    },
    "id": "BB2qcN52wwqg",
    "outputId": "d6a45b6c-53cd-4ba4-e8c1-1e6b5fc30f46"
   },
   "outputs": [
    {
     "name": "stdout",
     "output_type": "stream",
     "text": [
      "Query ran for 0.07595443725585938 secs!\n"
     ]
    },
    {
     "data": {
      "text/html": [
       "<div>\n",
       "<style scoped>\n",
       "    .dataframe tbody tr th:only-of-type {\n",
       "        vertical-align: middle;\n",
       "    }\n",
       "\n",
       "    .dataframe tbody tr th {\n",
       "        vertical-align: top;\n",
       "    }\n",
       "\n",
       "    .dataframe thead th {\n",
       "        text-align: right;\n",
       "    }\n",
       "</style>\n",
       "<table border=\"1\" class=\"dataframe\">\n",
       "  <thead>\n",
       "    <tr style=\"text-align: right;\">\n",
       "      <th></th>\n",
       "      <th>id</th>\n",
       "      <th>name</th>\n",
       "    </tr>\n",
       "  </thead>\n",
       "  <tbody>\n",
       "    <tr>\n",
       "      <th>0</th>\n",
       "      <td>1</td>\n",
       "      <td>Northeast</td>\n",
       "    </tr>\n",
       "    <tr>\n",
       "      <th>1</th>\n",
       "      <td>2</td>\n",
       "      <td>Midwest</td>\n",
       "    </tr>\n",
       "    <tr>\n",
       "      <th>2</th>\n",
       "      <td>3</td>\n",
       "      <td>Southeast</td>\n",
       "    </tr>\n",
       "  </tbody>\n",
       "</table>\n",
       "</div>"
      ],
      "text/plain": [
       "   id       name\n",
       "0   1  Northeast\n",
       "1   2    Midwest\n",
       "2   3  Southeast"
      ]
     },
     "execution_count": 12,
     "metadata": {},
     "output_type": "execute_result"
    }
   ],
   "source": [
    "# 3. For the region table\n",
    "\n",
    "query = 'SELECT * FROM region LIMIT 3;'\n",
    "query_to_df(query)"
   ]
  },
  {
   "cell_type": "markdown",
   "metadata": {},
   "source": [
    "**Let's see the first 3 data of the sales_reps table in parch and posey database**"
   ]
  },
  {
   "cell_type": "code",
   "execution_count": 13,
   "metadata": {
    "colab": {
     "base_uri": "https://localhost:8080/",
     "height": 153
    },
    "id": "No1ngBEgw6ln",
    "outputId": "7e851f11-8a54-4615-ac3c-6f5bef731421"
   },
   "outputs": [
    {
     "name": "stdout",
     "output_type": "stream",
     "text": [
      "Query ran for 0.07981562614440918 secs!\n"
     ]
    },
    {
     "data": {
      "text/html": [
       "<div>\n",
       "<style scoped>\n",
       "    .dataframe tbody tr th:only-of-type {\n",
       "        vertical-align: middle;\n",
       "    }\n",
       "\n",
       "    .dataframe tbody tr th {\n",
       "        vertical-align: top;\n",
       "    }\n",
       "\n",
       "    .dataframe thead th {\n",
       "        text-align: right;\n",
       "    }\n",
       "</style>\n",
       "<table border=\"1\" class=\"dataframe\">\n",
       "  <thead>\n",
       "    <tr style=\"text-align: right;\">\n",
       "      <th></th>\n",
       "      <th>id</th>\n",
       "      <th>name</th>\n",
       "      <th>region_id</th>\n",
       "    </tr>\n",
       "  </thead>\n",
       "  <tbody>\n",
       "    <tr>\n",
       "      <th>0</th>\n",
       "      <td>321500</td>\n",
       "      <td>Samuel Racine</td>\n",
       "      <td>1</td>\n",
       "    </tr>\n",
       "    <tr>\n",
       "      <th>1</th>\n",
       "      <td>321510</td>\n",
       "      <td>Eugena Esser</td>\n",
       "      <td>1</td>\n",
       "    </tr>\n",
       "    <tr>\n",
       "      <th>2</th>\n",
       "      <td>321520</td>\n",
       "      <td>Michel Averette</td>\n",
       "      <td>1</td>\n",
       "    </tr>\n",
       "  </tbody>\n",
       "</table>\n",
       "</div>"
      ],
      "text/plain": [
       "       id             name  region_id\n",
       "0  321500    Samuel Racine          1\n",
       "1  321510     Eugena Esser          1\n",
       "2  321520  Michel Averette          1"
      ]
     },
     "execution_count": 13,
     "metadata": {},
     "output_type": "execute_result"
    }
   ],
   "source": [
    "# 4. For the sales_reps table\n",
    "\n",
    "query = 'SELECT * FROM sales_reps LIMIT 3;'\n",
    "query_to_df(query)"
   ]
  },
  {
   "cell_type": "markdown",
   "metadata": {},
   "source": [
    "**Let's see the first 3 data of the web_events table in parch and posey database**"
   ]
  },
  {
   "cell_type": "code",
   "execution_count": 14,
   "metadata": {
    "colab": {
     "base_uri": "https://localhost:8080/",
     "height": 153
    },
    "id": "w2lt2qutxEgg",
    "outputId": "6a4ee82b-852b-434b-c82b-7494cdbf0525"
   },
   "outputs": [
    {
     "name": "stdout",
     "output_type": "stream",
     "text": [
      "Query ran for 0.12004971504211426 secs!\n"
     ]
    },
    {
     "data": {
      "text/html": [
       "<div>\n",
       "<style scoped>\n",
       "    .dataframe tbody tr th:only-of-type {\n",
       "        vertical-align: middle;\n",
       "    }\n",
       "\n",
       "    .dataframe tbody tr th {\n",
       "        vertical-align: top;\n",
       "    }\n",
       "\n",
       "    .dataframe thead th {\n",
       "        text-align: right;\n",
       "    }\n",
       "</style>\n",
       "<table border=\"1\" class=\"dataframe\">\n",
       "  <thead>\n",
       "    <tr style=\"text-align: right;\">\n",
       "      <th></th>\n",
       "      <th>id</th>\n",
       "      <th>account_id</th>\n",
       "      <th>occurred_at</th>\n",
       "      <th>channel</th>\n",
       "    </tr>\n",
       "  </thead>\n",
       "  <tbody>\n",
       "    <tr>\n",
       "      <th>0</th>\n",
       "      <td>1</td>\n",
       "      <td>1001</td>\n",
       "      <td>2015-10-06 17:13:58</td>\n",
       "      <td>direct</td>\n",
       "    </tr>\n",
       "    <tr>\n",
       "      <th>1</th>\n",
       "      <td>2</td>\n",
       "      <td>1001</td>\n",
       "      <td>2015-11-05 03:08:26</td>\n",
       "      <td>direct</td>\n",
       "    </tr>\n",
       "    <tr>\n",
       "      <th>2</th>\n",
       "      <td>3</td>\n",
       "      <td>1001</td>\n",
       "      <td>2015-12-04 03:57:24</td>\n",
       "      <td>direct</td>\n",
       "    </tr>\n",
       "  </tbody>\n",
       "</table>\n",
       "</div>"
      ],
      "text/plain": [
       "   id  account_id         occurred_at channel\n",
       "0   1        1001 2015-10-06 17:13:58  direct\n",
       "1   2        1001 2015-11-05 03:08:26  direct\n",
       "2   3        1001 2015-12-04 03:57:24  direct"
      ]
     },
     "execution_count": 14,
     "metadata": {},
     "output_type": "execute_result"
    }
   ],
   "source": [
    "# 5. For the web_events table\n",
    "\n",
    "query = 'SELECT * FROM web_events LIMIT 3;'\n",
    "query_to_df(query)"
   ]
  },
  {
   "cell_type": "code",
   "execution_count": 15,
   "metadata": {
    "colab": {
     "base_uri": "https://localhost:8080/"
    },
    "id": "6vf7xehlyn39",
    "outputId": "23bf2296-6603-4932-85ff-8e1ef3583ac3"
   },
   "outputs": [
    {
     "data": {
      "text/plain": [
       "True"
      ]
     },
     "execution_count": 15,
     "metadata": {},
     "output_type": "execute_result"
    }
   ],
   "source": [
    "# let's close the cursor connection after running these queries\n",
    "\n",
    "cursor.close()"
   ]
  },
  {
   "cell_type": "code",
   "execution_count": 16,
   "metadata": {},
   "outputs": [
    {
     "name": "stdout",
     "output_type": "stream",
     "text": [
      "2055: Cursor is not connected\n"
     ]
    }
   ],
   "source": [
    "try:\n",
    "    cursor.execute('SELECT * FROM web_events LIMIT 1;')\n",
    "except Exception as e:\n",
    "    print(e)"
   ]
  },
  {
   "cell_type": "markdown",
   "metadata": {
    "id": "OFNmTxK22_o1"
   },
   "source": [
    "The SQL language has a few different elements. The most basic of which is the `statement`. Think of a statement as a piece of correctly written SQL codes. Statements tell the database what you'd like to do with the data.<br>For example `drop`, `create`, `alter` and so on. The most common tho is the `select` statement, which allows us to read data and display em. `Select` statements are commonly referrred to as queries.<br>\n",
    "Both the `select` and `from` clauses are mandatory, included in any query.\n",
    "\n",
    "The `SELECT` statement is where you put the columns for which you would like to show the data. The `FROM` statement is where you put the tables from which you would like to pull data."
   ]
  },
  {
   "cell_type": "code",
   "execution_count": 17,
   "metadata": {
    "id": "_vWpXoOH51lI"
   },
   "outputs": [],
   "source": [
    "# We closed the cursor connection above, so we reopen it first\n",
    "cursor = connection.cursor()"
   ]
  },
  {
   "cell_type": "markdown",
   "metadata": {
    "id": "WKyuKDrmGrtB"
   },
   "source": [
    "Now let's select 10 rows from just a few columns from the orders table"
   ]
  },
  {
   "cell_type": "code",
   "execution_count": 18,
   "metadata": {
    "colab": {
     "base_uri": "https://localhost:8080/",
     "height": 360
    },
    "id": "ikHS2dQvGyIy",
    "outputId": "f391385d-1cba-4230-b183-757d20a1bc63"
   },
   "outputs": [
    {
     "name": "stdout",
     "output_type": "stream",
     "text": [
      "Query ran for 0.018985986709594727 secs!\n"
     ]
    },
    {
     "data": {
      "text/html": [
       "<div>\n",
       "<style scoped>\n",
       "    .dataframe tbody tr th:only-of-type {\n",
       "        vertical-align: middle;\n",
       "    }\n",
       "\n",
       "    .dataframe tbody tr th {\n",
       "        vertical-align: top;\n",
       "    }\n",
       "\n",
       "    .dataframe thead th {\n",
       "        text-align: right;\n",
       "    }\n",
       "</style>\n",
       "<table border=\"1\" class=\"dataframe\">\n",
       "  <thead>\n",
       "    <tr style=\"text-align: right;\">\n",
       "      <th></th>\n",
       "      <th>id</th>\n",
       "      <th>account_id</th>\n",
       "      <th>occurred_at</th>\n",
       "    </tr>\n",
       "  </thead>\n",
       "  <tbody>\n",
       "    <tr>\n",
       "      <th>0</th>\n",
       "      <td>1</td>\n",
       "      <td>1001</td>\n",
       "      <td>2015-10-06 17:31:14</td>\n",
       "    </tr>\n",
       "    <tr>\n",
       "      <th>1</th>\n",
       "      <td>2</td>\n",
       "      <td>1001</td>\n",
       "      <td>2015-11-05 03:34:33</td>\n",
       "    </tr>\n",
       "    <tr>\n",
       "      <th>2</th>\n",
       "      <td>3</td>\n",
       "      <td>1001</td>\n",
       "      <td>2015-12-04 04:21:55</td>\n",
       "    </tr>\n",
       "    <tr>\n",
       "      <th>3</th>\n",
       "      <td>4</td>\n",
       "      <td>1001</td>\n",
       "      <td>2016-01-02 01:18:24</td>\n",
       "    </tr>\n",
       "    <tr>\n",
       "      <th>4</th>\n",
       "      <td>5</td>\n",
       "      <td>1001</td>\n",
       "      <td>2016-02-01 19:27:27</td>\n",
       "    </tr>\n",
       "    <tr>\n",
       "      <th>5</th>\n",
       "      <td>6</td>\n",
       "      <td>1001</td>\n",
       "      <td>2016-03-02 15:29:32</td>\n",
       "    </tr>\n",
       "    <tr>\n",
       "      <th>6</th>\n",
       "      <td>7</td>\n",
       "      <td>1001</td>\n",
       "      <td>2016-04-01 11:20:18</td>\n",
       "    </tr>\n",
       "    <tr>\n",
       "      <th>7</th>\n",
       "      <td>8</td>\n",
       "      <td>1001</td>\n",
       "      <td>2016-05-01 15:55:51</td>\n",
       "    </tr>\n",
       "    <tr>\n",
       "      <th>8</th>\n",
       "      <td>9</td>\n",
       "      <td>1001</td>\n",
       "      <td>2016-05-31 21:22:48</td>\n",
       "    </tr>\n",
       "    <tr>\n",
       "      <th>9</th>\n",
       "      <td>10</td>\n",
       "      <td>1001</td>\n",
       "      <td>2016-06-30 12:32:05</td>\n",
       "    </tr>\n",
       "  </tbody>\n",
       "</table>\n",
       "</div>"
      ],
      "text/plain": [
       "   id  account_id         occurred_at\n",
       "0   1        1001 2015-10-06 17:31:14\n",
       "1   2        1001 2015-11-05 03:34:33\n",
       "2   3        1001 2015-12-04 04:21:55\n",
       "3   4        1001 2016-01-02 01:18:24\n",
       "4   5        1001 2016-02-01 19:27:27\n",
       "5   6        1001 2016-03-02 15:29:32\n",
       "6   7        1001 2016-04-01 11:20:18\n",
       "7   8        1001 2016-05-01 15:55:51\n",
       "8   9        1001 2016-05-31 21:22:48\n",
       "9  10        1001 2016-06-30 12:32:05"
      ]
     },
     "execution_count": 18,
     "metadata": {},
     "output_type": "execute_result"
    }
   ],
   "source": [
    "query = 'SELECT id, account_id, occurred_at FROM orders LIMIT 10;'\n",
    "query_to_df(query)"
   ]
  },
  {
   "cell_type": "markdown",
   "metadata": {
    "id": "xGCgDKM1KIhX"
   },
   "source": [
    "<h3>Formatting Best Practices..</h3>\n",
    "\n",
    "1. **Using Upper and Lower Case in SQL:**<br>\n",
    "SQL queries can be run successfully whether characters are written in upper- or lower-case. In other words, SQL queries are not case-sensitive\n",
    "\n",
    "2. **Capitalizing SQL Clauses:**<br>It is common and best practice to capitalize all SQL commands, like `SELECT` and `FROM`, and keep everything else in your query lower case. Capitalizing command words makes queries easier to read, which will matter more as you write more complex queries.\n",
    "\n",
    "3. **One other note:**<BR> The text data stored in SQL tables can be either upper or lower case, and SQL is case-sensitive in regard to this text data.\n",
    "\n",
    "4. **Avoid Spaces in Table and Variable Names:**<br>\n",
    "It is common to use underscores and avoid spaces in column names. It is a bit annoying to work with spaces in SQL. In Postgres if you have spaces in column or table names, you need to refer to these columns/tables with double quotes around them (Ex: `FROM \"Table Name\"` as opposed to `FROM table_name`). In other environments, you might see this as square brackets instead (Ex: `FROM [Table Name]`).\n",
    "\n",
    "5. **Use White Space in Queries:**<br>\n",
    "SQL queries ignore spaces, so you can add as many spaces and blank lines between code as you want, and the queries are the same. But pls use with decorum.\n",
    "\n",
    "6. **Semicolons:**<br>\n",
    "Depending on your SQL environment, your query may need a semicolon at the end to execute. Other environments are more flexible in terms of this being a \"requirement.\" It is considered best practice to put a semicolon at the end of each statement, which also allows you to run multiple queries at once if your environment allows this."
   ]
  },
  {
   "cell_type": "markdown",
   "metadata": {
    "id": "iVVZG2inOLif"
   },
   "source": [
    "**The LIMIT clause**\n",
    "\n",
    "* The `LIMIT` command is always the very last part of a query."
   ]
  },
  {
   "cell_type": "markdown",
   "metadata": {
    "id": "9RPA2aTvP8UF"
   },
   "source": [
    "**The ORDER BY Clause**\n",
    "\n",
    "* The `ORDER BY` statement allows us to sort our results using the data in any column. \n",
    "* Using `ORDER BY` in a SQL query only has temporary effects, for the results of that query, unlike sorting a sheet by column in Excel or Sheets.\n",
    "* The `ORDER BY` statement always comes in a query after the `SELECT` and `FROM` statements, but before the `LIMIT` statement. If you are using the `LIMIT` statement, it will always appear last.\n",
    "* Remember **DESC** can be added after the column in your `ORDER BY` statement to sort in descending order, as the default is to sort in ascending order."
   ]
  },
  {
   "cell_type": "markdown",
   "metadata": {
    "id": "926wZTCWKnC7"
   },
   "source": [
    "Write a query to return the 10 earliest orders in the orders table. Include the `id`, `occurred_at`, and `total_amt_usd` columns."
   ]
  },
  {
   "cell_type": "code",
   "execution_count": 19,
   "metadata": {
    "colab": {
     "base_uri": "https://localhost:8080/",
     "height": 360
    },
    "id": "HTlZ5wu2KO-N",
    "outputId": "2864f233-fc4e-446a-8cb8-d8495f48c1bb"
   },
   "outputs": [
    {
     "name": "stdout",
     "output_type": "stream",
     "text": [
      "Query ran for 0.37703514099121094 secs!\n"
     ]
    },
    {
     "data": {
      "text/html": [
       "<div>\n",
       "<style scoped>\n",
       "    .dataframe tbody tr th:only-of-type {\n",
       "        vertical-align: middle;\n",
       "    }\n",
       "\n",
       "    .dataframe tbody tr th {\n",
       "        vertical-align: top;\n",
       "    }\n",
       "\n",
       "    .dataframe thead th {\n",
       "        text-align: right;\n",
       "    }\n",
       "</style>\n",
       "<table border=\"1\" class=\"dataframe\">\n",
       "  <thead>\n",
       "    <tr style=\"text-align: right;\">\n",
       "      <th></th>\n",
       "      <th>id</th>\n",
       "      <th>occurred_at</th>\n",
       "      <th>total_amt_usd</th>\n",
       "    </tr>\n",
       "  </thead>\n",
       "  <tbody>\n",
       "    <tr>\n",
       "      <th>0</th>\n",
       "      <td>4016</td>\n",
       "      <td>2016-12-26 08:53:24</td>\n",
       "      <td>232207.07</td>\n",
       "    </tr>\n",
       "    <tr>\n",
       "      <th>1</th>\n",
       "      <td>3892</td>\n",
       "      <td>2016-06-24 13:32:55</td>\n",
       "      <td>112875.18</td>\n",
       "    </tr>\n",
       "    <tr>\n",
       "      <th>2</th>\n",
       "      <td>3963</td>\n",
       "      <td>2015-03-30 00:05:30</td>\n",
       "      <td>107533.55</td>\n",
       "    </tr>\n",
       "    <tr>\n",
       "      <th>3</th>\n",
       "      <td>5791</td>\n",
       "      <td>2014-10-24 12:06:22</td>\n",
       "      <td>95005.82</td>\n",
       "    </tr>\n",
       "    <tr>\n",
       "      <th>4</th>\n",
       "      <td>3778</td>\n",
       "      <td>2016-07-17 14:50:43</td>\n",
       "      <td>93547.84</td>\n",
       "    </tr>\n",
       "    <tr>\n",
       "      <th>5</th>\n",
       "      <td>6590</td>\n",
       "      <td>2015-11-07 10:43:47</td>\n",
       "      <td>93505.69</td>\n",
       "    </tr>\n",
       "    <tr>\n",
       "      <th>6</th>\n",
       "      <td>362</td>\n",
       "      <td>2015-04-21 21:43:17</td>\n",
       "      <td>93106.81</td>\n",
       "    </tr>\n",
       "    <tr>\n",
       "      <th>7</th>\n",
       "      <td>731</td>\n",
       "      <td>2016-06-05 17:14:15</td>\n",
       "      <td>92991.05</td>\n",
       "    </tr>\n",
       "    <tr>\n",
       "      <th>8</th>\n",
       "      <td>4562</td>\n",
       "      <td>2016-10-26 00:19:31</td>\n",
       "      <td>84099.62</td>\n",
       "    </tr>\n",
       "    <tr>\n",
       "      <th>9</th>\n",
       "      <td>3858</td>\n",
       "      <td>2016-10-19 18:03:43</td>\n",
       "      <td>82163.71</td>\n",
       "    </tr>\n",
       "  </tbody>\n",
       "</table>\n",
       "</div>"
      ],
      "text/plain": [
       "     id         occurred_at total_amt_usd\n",
       "0  4016 2016-12-26 08:53:24     232207.07\n",
       "1  3892 2016-06-24 13:32:55     112875.18\n",
       "2  3963 2015-03-30 00:05:30     107533.55\n",
       "3  5791 2014-10-24 12:06:22      95005.82\n",
       "4  3778 2016-07-17 14:50:43      93547.84\n",
       "5  6590 2015-11-07 10:43:47      93505.69\n",
       "6   362 2015-04-21 21:43:17      93106.81\n",
       "7   731 2016-06-05 17:14:15      92991.05\n",
       "8  4562 2016-10-26 00:19:31      84099.62\n",
       "9  3858 2016-10-19 18:03:43      82163.71"
      ]
     },
     "execution_count": 19,
     "metadata": {},
     "output_type": "execute_result"
    }
   ],
   "source": [
    "query = 'SELECT id, occurred_at, total_amt_usd FROM orders \\\n",
    "        ORDER BY total_amt_usd DESC LIMIT 10;'\n",
    "query_to_df(query)"
   ]
  },
  {
   "cell_type": "markdown",
   "metadata": {
    "id": "P1lIBpQWKMWT"
   },
   "source": [
    "Write a query to return the top 5 orders in terms of largest `total_amt_usd`. Include the `id`, `account_id`, and `total_amt_usd`."
   ]
  },
  {
   "cell_type": "code",
   "execution_count": 20,
   "metadata": {
    "colab": {
     "base_uri": "https://localhost:8080/",
     "height": 212
    },
    "id": "MBvQu2W9Se6F",
    "outputId": "3b08f30f-da75-4a4d-f3a9-996443a063d8"
   },
   "outputs": [
    {
     "name": "stdout",
     "output_type": "stream",
     "text": [
      "Query ran for 0.03098273277282715 secs!\n"
     ]
    },
    {
     "data": {
      "text/html": [
       "<div>\n",
       "<style scoped>\n",
       "    .dataframe tbody tr th:only-of-type {\n",
       "        vertical-align: middle;\n",
       "    }\n",
       "\n",
       "    .dataframe tbody tr th {\n",
       "        vertical-align: top;\n",
       "    }\n",
       "\n",
       "    .dataframe thead th {\n",
       "        text-align: right;\n",
       "    }\n",
       "</style>\n",
       "<table border=\"1\" class=\"dataframe\">\n",
       "  <thead>\n",
       "    <tr style=\"text-align: right;\">\n",
       "      <th></th>\n",
       "      <th>id</th>\n",
       "      <th>account_id</th>\n",
       "      <th>total_amt_usd</th>\n",
       "    </tr>\n",
       "  </thead>\n",
       "  <tbody>\n",
       "    <tr>\n",
       "      <th>0</th>\n",
       "      <td>4016</td>\n",
       "      <td>4251</td>\n",
       "      <td>232207.07</td>\n",
       "    </tr>\n",
       "    <tr>\n",
       "      <th>1</th>\n",
       "      <td>3892</td>\n",
       "      <td>4161</td>\n",
       "      <td>112875.18</td>\n",
       "    </tr>\n",
       "    <tr>\n",
       "      <th>2</th>\n",
       "      <td>3963</td>\n",
       "      <td>4211</td>\n",
       "      <td>107533.55</td>\n",
       "    </tr>\n",
       "    <tr>\n",
       "      <th>3</th>\n",
       "      <td>5791</td>\n",
       "      <td>2861</td>\n",
       "      <td>95005.82</td>\n",
       "    </tr>\n",
       "    <tr>\n",
       "      <th>4</th>\n",
       "      <td>3778</td>\n",
       "      <td>4101</td>\n",
       "      <td>93547.84</td>\n",
       "    </tr>\n",
       "  </tbody>\n",
       "</table>\n",
       "</div>"
      ],
      "text/plain": [
       "     id  account_id total_amt_usd\n",
       "0  4016        4251     232207.07\n",
       "1  3892        4161     112875.18\n",
       "2  3963        4211     107533.55\n",
       "3  5791        2861      95005.82\n",
       "4  3778        4101      93547.84"
      ]
     },
     "execution_count": 20,
     "metadata": {},
     "output_type": "execute_result"
    }
   ],
   "source": [
    "query = 'SELECT id, account_id, total_amt_usd FROM orders \\\n",
    "        ORDER BY total_amt_usd DESC LIMIT 5;'\n",
    "query_to_df(query)"
   ]
  },
  {
   "cell_type": "markdown",
   "metadata": {
    "id": "L2lX8FY3DZZE"
   },
   "source": [
    "Write a query to return the lowest 20 orders in terms of smallest `total_amt_usd`. <br>Include the `id`, `account_id`, and `total_amt_usd`."
   ]
  },
  {
   "cell_type": "code",
   "execution_count": 21,
   "metadata": {
    "colab": {
     "base_uri": "https://localhost:8080/",
     "height": 656
    },
    "id": "Q2dD9V4pTp4X",
    "outputId": "fb76b841-841a-42cf-e666-5ee7cc833e9f"
   },
   "outputs": [
    {
     "name": "stdout",
     "output_type": "stream",
     "text": [
      "Query ran for 0.06995725631713867 secs!\n"
     ]
    },
    {
     "data": {
      "text/html": [
       "<div>\n",
       "<style scoped>\n",
       "    .dataframe tbody tr th:only-of-type {\n",
       "        vertical-align: middle;\n",
       "    }\n",
       "\n",
       "    .dataframe tbody tr th {\n",
       "        vertical-align: top;\n",
       "    }\n",
       "\n",
       "    .dataframe thead th {\n",
       "        text-align: right;\n",
       "    }\n",
       "</style>\n",
       "<table border=\"1\" class=\"dataframe\">\n",
       "  <thead>\n",
       "    <tr style=\"text-align: right;\">\n",
       "      <th></th>\n",
       "      <th>id</th>\n",
       "      <th>account_id</th>\n",
       "      <th>total_amt_usd</th>\n",
       "    </tr>\n",
       "  </thead>\n",
       "  <tbody>\n",
       "    <tr>\n",
       "      <th>0</th>\n",
       "      <td>2518</td>\n",
       "      <td>2881</td>\n",
       "      <td>0.00</td>\n",
       "    </tr>\n",
       "    <tr>\n",
       "      <th>1</th>\n",
       "      <td>4844</td>\n",
       "      <td>1571</td>\n",
       "      <td>0.00</td>\n",
       "    </tr>\n",
       "    <tr>\n",
       "      <th>2</th>\n",
       "      <td>5057</td>\n",
       "      <td>1851</td>\n",
       "      <td>0.00</td>\n",
       "    </tr>\n",
       "    <tr>\n",
       "      <th>3</th>\n",
       "      <td>4490</td>\n",
       "      <td>1281</td>\n",
       "      <td>0.00</td>\n",
       "    </tr>\n",
       "    <tr>\n",
       "      <th>4</th>\n",
       "      <td>6281</td>\n",
       "      <td>3491</td>\n",
       "      <td>0.00</td>\n",
       "    </tr>\n",
       "    <tr>\n",
       "      <th>5</th>\n",
       "      <td>6323</td>\n",
       "      <td>3551</td>\n",
       "      <td>0.00</td>\n",
       "    </tr>\n",
       "    <tr>\n",
       "      <th>6</th>\n",
       "      <td>4770</td>\n",
       "      <td>1521</td>\n",
       "      <td>0.00</td>\n",
       "    </tr>\n",
       "    <tr>\n",
       "      <th>7</th>\n",
       "      <td>6312</td>\n",
       "      <td>3541</td>\n",
       "      <td>0.00</td>\n",
       "    </tr>\n",
       "    <tr>\n",
       "      <th>8</th>\n",
       "      <td>5001</td>\n",
       "      <td>1791</td>\n",
       "      <td>0.00</td>\n",
       "    </tr>\n",
       "    <tr>\n",
       "      <th>9</th>\n",
       "      <td>6435</td>\n",
       "      <td>3801</td>\n",
       "      <td>0.00</td>\n",
       "    </tr>\n",
       "    <tr>\n",
       "      <th>10</th>\n",
       "      <td>6523</td>\n",
       "      <td>3991</td>\n",
       "      <td>0.00</td>\n",
       "    </tr>\n",
       "    <tr>\n",
       "      <th>11</th>\n",
       "      <td>1353</td>\n",
       "      <td>1951</td>\n",
       "      <td>0.00</td>\n",
       "    </tr>\n",
       "    <tr>\n",
       "      <th>12</th>\n",
       "      <td>6009</td>\n",
       "      <td>3141</td>\n",
       "      <td>0.00</td>\n",
       "    </tr>\n",
       "    <tr>\n",
       "      <th>13</th>\n",
       "      <td>5612</td>\n",
       "      <td>2601</td>\n",
       "      <td>0.00</td>\n",
       "    </tr>\n",
       "    <tr>\n",
       "      <th>14</th>\n",
       "      <td>4625</td>\n",
       "      <td>1411</td>\n",
       "      <td>0.00</td>\n",
       "    </tr>\n",
       "    <tr>\n",
       "      <th>15</th>\n",
       "      <td>4445</td>\n",
       "      <td>1221</td>\n",
       "      <td>0.00</td>\n",
       "    </tr>\n",
       "    <tr>\n",
       "      <th>16</th>\n",
       "      <td>6856</td>\n",
       "      <td>4451</td>\n",
       "      <td>0.00</td>\n",
       "    </tr>\n",
       "    <tr>\n",
       "      <th>17</th>\n",
       "      <td>6375</td>\n",
       "      <td>3651</td>\n",
       "      <td>0.00</td>\n",
       "    </tr>\n",
       "    <tr>\n",
       "      <th>18</th>\n",
       "      <td>124</td>\n",
       "      <td>1131</td>\n",
       "      <td>0.00</td>\n",
       "    </tr>\n",
       "    <tr>\n",
       "      <th>19</th>\n",
       "      <td>4446</td>\n",
       "      <td>1231</td>\n",
       "      <td>0.00</td>\n",
       "    </tr>\n",
       "  </tbody>\n",
       "</table>\n",
       "</div>"
      ],
      "text/plain": [
       "      id  account_id total_amt_usd\n",
       "0   2518        2881          0.00\n",
       "1   4844        1571          0.00\n",
       "2   5057        1851          0.00\n",
       "3   4490        1281          0.00\n",
       "4   6281        3491          0.00\n",
       "5   6323        3551          0.00\n",
       "6   4770        1521          0.00\n",
       "7   6312        3541          0.00\n",
       "8   5001        1791          0.00\n",
       "9   6435        3801          0.00\n",
       "10  6523        3991          0.00\n",
       "11  1353        1951          0.00\n",
       "12  6009        3141          0.00\n",
       "13  5612        2601          0.00\n",
       "14  4625        1411          0.00\n",
       "15  4445        1221          0.00\n",
       "16  6856        4451          0.00\n",
       "17  6375        3651          0.00\n",
       "18   124        1131          0.00\n",
       "19  4446        1231          0.00"
      ]
     },
     "execution_count": 21,
     "metadata": {},
     "output_type": "execute_result"
    }
   ],
   "source": [
    "query = 'SELECT id, account_id, total_amt_usd FROM orders ORDER \\\n",
    "        BY total_amt_usd LIMIT 20;'\n",
    "query_to_df(query)"
   ]
  },
  {
   "cell_type": "markdown",
   "metadata": {
    "id": "RlD1UUVRBnpI"
   },
   "source": [
    "**The ORDER BY 2 Clause**\n",
    "\n",
    "* We can `ORDER BY` more than one column at a time\n",
    "* When you provide a list of columns in an `ORDER BY` command, the sorting occurs using the leftmost column in your list first, then the next column from the left, and so on.\n",
    "* We still have the ability to flip the way we order using `DESC`."
   ]
  },
  {
   "cell_type": "markdown",
   "metadata": {
    "id": "isKfxUjJC8HZ"
   },
   "source": [
    "Write a query that displays the order `ID`, `account ID`, and `total dollar amount` for all the orders, <br>sorted first by the `account ID` (in ascending order), and then by the `total dollar amount` (in descending order).\n"
   ]
  },
  {
   "cell_type": "code",
   "execution_count": 22,
   "metadata": {
    "colab": {
     "base_uri": "https://localhost:8080/",
     "height": 418
    },
    "id": "DL37QUJ7D_o6",
    "outputId": "5235afc5-49c6-45e3-fa54-031fc8e3da55"
   },
   "outputs": [
    {
     "name": "stdout",
     "output_type": "stream",
     "text": [
      "Query ran for 9.803923845291138 secs!\n"
     ]
    },
    {
     "data": {
      "text/html": [
       "<div>\n",
       "<style scoped>\n",
       "    .dataframe tbody tr th:only-of-type {\n",
       "        vertical-align: middle;\n",
       "    }\n",
       "\n",
       "    .dataframe tbody tr th {\n",
       "        vertical-align: top;\n",
       "    }\n",
       "\n",
       "    .dataframe thead th {\n",
       "        text-align: right;\n",
       "    }\n",
       "</style>\n",
       "<table border=\"1\" class=\"dataframe\">\n",
       "  <thead>\n",
       "    <tr style=\"text-align: right;\">\n",
       "      <th></th>\n",
       "      <th>id</th>\n",
       "      <th>account_id</th>\n",
       "      <th>total_amt_usd</th>\n",
       "    </tr>\n",
       "  </thead>\n",
       "  <tbody>\n",
       "    <tr>\n",
       "      <th>0</th>\n",
       "      <td>4308</td>\n",
       "      <td>1001</td>\n",
       "      <td>9426.71</td>\n",
       "    </tr>\n",
       "    <tr>\n",
       "      <th>1</th>\n",
       "      <td>4309</td>\n",
       "      <td>1001</td>\n",
       "      <td>9230.67</td>\n",
       "    </tr>\n",
       "    <tr>\n",
       "      <th>2</th>\n",
       "      <td>4316</td>\n",
       "      <td>1001</td>\n",
       "      <td>9134.31</td>\n",
       "    </tr>\n",
       "    <tr>\n",
       "      <th>3</th>\n",
       "      <td>4317</td>\n",
       "      <td>1001</td>\n",
       "      <td>8963.91</td>\n",
       "    </tr>\n",
       "    <tr>\n",
       "      <th>4</th>\n",
       "      <td>4314</td>\n",
       "      <td>1001</td>\n",
       "      <td>8863.24</td>\n",
       "    </tr>\n",
       "    <tr>\n",
       "      <th>...</th>\n",
       "      <td>...</td>\n",
       "      <td>...</td>\n",
       "      <td>...</td>\n",
       "    </tr>\n",
       "    <tr>\n",
       "      <th>6907</th>\n",
       "      <td>4301</td>\n",
       "      <td>4501</td>\n",
       "      <td>974.17</td>\n",
       "    </tr>\n",
       "    <tr>\n",
       "      <th>6908</th>\n",
       "      <td>4300</td>\n",
       "      <td>4501</td>\n",
       "      <td>875.54</td>\n",
       "    </tr>\n",
       "    <tr>\n",
       "      <th>6909</th>\n",
       "      <td>4306</td>\n",
       "      <td>4501</td>\n",
       "      <td>628.74</td>\n",
       "    </tr>\n",
       "    <tr>\n",
       "      <th>6910</th>\n",
       "      <td>4299</td>\n",
       "      <td>4501</td>\n",
       "      <td>157.24</td>\n",
       "    </tr>\n",
       "    <tr>\n",
       "      <th>6911</th>\n",
       "      <td>4305</td>\n",
       "      <td>4501</td>\n",
       "      <td>86.78</td>\n",
       "    </tr>\n",
       "  </tbody>\n",
       "</table>\n",
       "<p>6912 rows × 3 columns</p>\n",
       "</div>"
      ],
      "text/plain": [
       "        id  account_id total_amt_usd\n",
       "0     4308        1001       9426.71\n",
       "1     4309        1001       9230.67\n",
       "2     4316        1001       9134.31\n",
       "3     4317        1001       8963.91\n",
       "4     4314        1001       8863.24\n",
       "...    ...         ...           ...\n",
       "6907  4301        4501        974.17\n",
       "6908  4300        4501        875.54\n",
       "6909  4306        4501        628.74\n",
       "6910  4299        4501        157.24\n",
       "6911  4305        4501         86.78\n",
       "\n",
       "[6912 rows x 3 columns]"
      ]
     },
     "execution_count": 22,
     "metadata": {},
     "output_type": "execute_result"
    }
   ],
   "source": [
    "query = 'SELECT id, account_id, total_amt_usd FROM orders \\\n",
    "        ORDER BY account_id, total_amt_usd DESC;'\n",
    "query_to_df(query)"
   ]
  },
  {
   "cell_type": "markdown",
   "metadata": {
    "id": "I2peHuRaMRT6"
   },
   "source": [
    "Now write a query that again displays `order ID`, `account ID`, and `total dollar amount` for each order, but this time sorted first by `total dollar amount` (in descending order), and then by `account ID` (in ascending order)."
   ]
  },
  {
   "cell_type": "code",
   "execution_count": 23,
   "metadata": {
    "colab": {
     "base_uri": "https://localhost:8080/",
     "height": 418
    },
    "id": "HKHzzWKOD_gB",
    "outputId": "0ed6d93b-7cca-4aca-ff74-20d6999bcfb7"
   },
   "outputs": [
    {
     "name": "stdout",
     "output_type": "stream",
     "text": [
      "Query ran for 9.586089849472046 secs!\n"
     ]
    },
    {
     "data": {
      "text/html": [
       "<div>\n",
       "<style scoped>\n",
       "    .dataframe tbody tr th:only-of-type {\n",
       "        vertical-align: middle;\n",
       "    }\n",
       "\n",
       "    .dataframe tbody tr th {\n",
       "        vertical-align: top;\n",
       "    }\n",
       "\n",
       "    .dataframe thead th {\n",
       "        text-align: right;\n",
       "    }\n",
       "</style>\n",
       "<table border=\"1\" class=\"dataframe\">\n",
       "  <thead>\n",
       "    <tr style=\"text-align: right;\">\n",
       "      <th></th>\n",
       "      <th>id</th>\n",
       "      <th>account_id</th>\n",
       "      <th>total_amt_usd</th>\n",
       "    </tr>\n",
       "  </thead>\n",
       "  <tbody>\n",
       "    <tr>\n",
       "      <th>0</th>\n",
       "      <td>4016</td>\n",
       "      <td>4251</td>\n",
       "      <td>232207.07</td>\n",
       "    </tr>\n",
       "    <tr>\n",
       "      <th>1</th>\n",
       "      <td>3892</td>\n",
       "      <td>4161</td>\n",
       "      <td>112875.18</td>\n",
       "    </tr>\n",
       "    <tr>\n",
       "      <th>2</th>\n",
       "      <td>3963</td>\n",
       "      <td>4211</td>\n",
       "      <td>107533.55</td>\n",
       "    </tr>\n",
       "    <tr>\n",
       "      <th>3</th>\n",
       "      <td>5791</td>\n",
       "      <td>2861</td>\n",
       "      <td>95005.82</td>\n",
       "    </tr>\n",
       "    <tr>\n",
       "      <th>4</th>\n",
       "      <td>3778</td>\n",
       "      <td>4101</td>\n",
       "      <td>93547.84</td>\n",
       "    </tr>\n",
       "    <tr>\n",
       "      <th>...</th>\n",
       "      <td>...</td>\n",
       "      <td>...</td>\n",
       "      <td>...</td>\n",
       "    </tr>\n",
       "    <tr>\n",
       "      <th>6907</th>\n",
       "      <td>6323</td>\n",
       "      <td>3551</td>\n",
       "      <td>0.00</td>\n",
       "    </tr>\n",
       "    <tr>\n",
       "      <th>6908</th>\n",
       "      <td>6375</td>\n",
       "      <td>3651</td>\n",
       "      <td>0.00</td>\n",
       "    </tr>\n",
       "    <tr>\n",
       "      <th>6909</th>\n",
       "      <td>6435</td>\n",
       "      <td>3801</td>\n",
       "      <td>0.00</td>\n",
       "    </tr>\n",
       "    <tr>\n",
       "      <th>6910</th>\n",
       "      <td>6523</td>\n",
       "      <td>3991</td>\n",
       "      <td>0.00</td>\n",
       "    </tr>\n",
       "    <tr>\n",
       "      <th>6911</th>\n",
       "      <td>6856</td>\n",
       "      <td>4451</td>\n",
       "      <td>0.00</td>\n",
       "    </tr>\n",
       "  </tbody>\n",
       "</table>\n",
       "<p>6912 rows × 3 columns</p>\n",
       "</div>"
      ],
      "text/plain": [
       "        id  account_id total_amt_usd\n",
       "0     4016        4251     232207.07\n",
       "1     3892        4161     112875.18\n",
       "2     3963        4211     107533.55\n",
       "3     5791        2861      95005.82\n",
       "4     3778        4101      93547.84\n",
       "...    ...         ...           ...\n",
       "6907  6323        3551          0.00\n",
       "6908  6375        3651          0.00\n",
       "6909  6435        3801          0.00\n",
       "6910  6523        3991          0.00\n",
       "6911  6856        4451          0.00\n",
       "\n",
       "[6912 rows x 3 columns]"
      ]
     },
     "execution_count": 23,
     "metadata": {},
     "output_type": "execute_result"
    }
   ],
   "source": [
    "query = 'SELECT id, account_id, total_amt_usd FROM orders \\\n",
    "        ORDER BY total_amt_usd DESC, account_id;'\n",
    "query_to_df(query)"
   ]
  },
  {
   "cell_type": "markdown",
   "metadata": {
    "id": "Yyhc87EaNpBl"
   },
   "source": [
    "Compare the results of these two queries above. How are the results different when you switch the column you sort on first?\n",
    "\n",
    "**Ans:** \n",
    "* For the first query, order by account_id first ensures that each account_id ascends from lowest to highest. And for each account_id, the total_amt_usd is decreasing from highest to lowest.\n",
    "* For the second query where we sort by total_amt_usd DESC first, the query is sorted by the observations with the highest total_amt_usd first, and the account_id next. Now if each account_id has multiple total_amt_usd, then these would be sorted by total_amt_usd Desc first.\n",
    "* In query #1, all of the orders for each account ID are grouped together, and then within each of those groupings, the orders appear from the greatest order amount to the least. \n",
    "* In query #2, since you sorted by the total dollar amount first, the orders appear from greatest to least regardless of which account ID they were from. Then they are sorted by account ID next. (The secondary sorting by account ID is difficult to see here, since only if there were two orders with equal total dollar amounts would there need to be any sorting by account ID.)\n",
    "\n"
   ]
  },
  {
   "cell_type": "markdown",
   "metadata": {
    "id": "P1M3QufHV_CB"
   },
   "source": [
    "**The WHERE Clause:**\n",
    "\n",
    "* Using the `WHERE` statement, we can display subsets of tables based on conditions that must be met. You can also think of the `WHERE` command as filtering the data.\n",
    "* The `WHERE` clause goes after `FROM`, but before `ORDER BY` or `LIMIT`\n",
    "* Common symbols used in `WHERE` statements include:\n",
    "** $>$ (greater than)\n",
    "** $<$ (less than)\n",
    "** $>=$ (greater than or equal to)\n",
    "** $<=$ (less than or equal to)\n",
    "** $=$ (equal to)\n",
    "** $!=$ (not equal to)"
   ]
  },
  {
   "cell_type": "markdown",
   "metadata": {
    "id": "JGZ7LOge5mzF"
   },
   "source": [
    "Write a query that:\n",
    "\n",
    "Pulls the first 5 rows and all columns from the orders table that have a dollar amount of gloss_amt_usd greater than or equal to 1000."
   ]
  },
  {
   "cell_type": "code",
   "execution_count": 24,
   "metadata": {
    "colab": {
     "base_uri": "https://localhost:8080/",
     "height": 212
    },
    "id": "tn9uGy2CD_ap",
    "outputId": "e269fc5b-3bc3-4660-c447-4ff8fd789eda"
   },
   "outputs": [
    {
     "name": "stdout",
     "output_type": "stream",
     "text": [
      "Query ran for 0.05896401405334473 secs!\n"
     ]
    },
    {
     "data": {
      "text/html": [
       "<div>\n",
       "<style scoped>\n",
       "    .dataframe tbody tr th:only-of-type {\n",
       "        vertical-align: middle;\n",
       "    }\n",
       "\n",
       "    .dataframe tbody tr th {\n",
       "        vertical-align: top;\n",
       "    }\n",
       "\n",
       "    .dataframe thead th {\n",
       "        text-align: right;\n",
       "    }\n",
       "</style>\n",
       "<table border=\"1\" class=\"dataframe\">\n",
       "  <thead>\n",
       "    <tr style=\"text-align: right;\">\n",
       "      <th></th>\n",
       "      <th>id</th>\n",
       "      <th>account_id</th>\n",
       "      <th>occurred_at</th>\n",
       "      <th>standard_qty</th>\n",
       "      <th>gloss_qty</th>\n",
       "      <th>poster_qty</th>\n",
       "      <th>total</th>\n",
       "      <th>standard_amt_usd</th>\n",
       "      <th>gloss_amt_usd</th>\n",
       "      <th>poster_amt_usd</th>\n",
       "      <th>total_amt_usd</th>\n",
       "    </tr>\n",
       "  </thead>\n",
       "  <tbody>\n",
       "    <tr>\n",
       "      <th>0</th>\n",
       "      <td>14</td>\n",
       "      <td>1001</td>\n",
       "      <td>2016-10-26 20:31:30</td>\n",
       "      <td>97</td>\n",
       "      <td>143</td>\n",
       "      <td>54</td>\n",
       "      <td>294</td>\n",
       "      <td>484.03</td>\n",
       "      <td>1071.07</td>\n",
       "      <td>438.48</td>\n",
       "      <td>1993.58</td>\n",
       "    </tr>\n",
       "    <tr>\n",
       "      <th>1</th>\n",
       "      <td>62</td>\n",
       "      <td>1091</td>\n",
       "      <td>2014-10-13 12:12:55</td>\n",
       "      <td>146</td>\n",
       "      <td>196</td>\n",
       "      <td>3</td>\n",
       "      <td>345</td>\n",
       "      <td>728.54</td>\n",
       "      <td>1468.04</td>\n",
       "      <td>24.36</td>\n",
       "      <td>2220.94</td>\n",
       "    </tr>\n",
       "    <tr>\n",
       "      <th>2</th>\n",
       "      <td>88</td>\n",
       "      <td>1101</td>\n",
       "      <td>2015-06-24 13:08:15</td>\n",
       "      <td>182</td>\n",
       "      <td>339</td>\n",
       "      <td>17</td>\n",
       "      <td>538</td>\n",
       "      <td>908.18</td>\n",
       "      <td>2539.11</td>\n",
       "      <td>138.04</td>\n",
       "      <td>3585.33</td>\n",
       "    </tr>\n",
       "    <tr>\n",
       "      <th>3</th>\n",
       "      <td>121</td>\n",
       "      <td>1131</td>\n",
       "      <td>2016-08-10 23:47:41</td>\n",
       "      <td>273</td>\n",
       "      <td>134</td>\n",
       "      <td>0</td>\n",
       "      <td>407</td>\n",
       "      <td>1362.27</td>\n",
       "      <td>1003.66</td>\n",
       "      <td>0.00</td>\n",
       "      <td>2365.93</td>\n",
       "    </tr>\n",
       "    <tr>\n",
       "      <th>4</th>\n",
       "      <td>129</td>\n",
       "      <td>1141</td>\n",
       "      <td>2016-12-21 15:52:58</td>\n",
       "      <td>143</td>\n",
       "      <td>1045</td>\n",
       "      <td>2157</td>\n",
       "      <td>3345</td>\n",
       "      <td>713.57</td>\n",
       "      <td>7827.05</td>\n",
       "      <td>17514.84</td>\n",
       "      <td>26055.46</td>\n",
       "    </tr>\n",
       "  </tbody>\n",
       "</table>\n",
       "</div>"
      ],
      "text/plain": [
       "    id  account_id         occurred_at  standard_qty  gloss_qty  poster_qty  \\\n",
       "0   14        1001 2016-10-26 20:31:30            97        143          54   \n",
       "1   62        1091 2014-10-13 12:12:55           146        196           3   \n",
       "2   88        1101 2015-06-24 13:08:15           182        339          17   \n",
       "3  121        1131 2016-08-10 23:47:41           273        134           0   \n",
       "4  129        1141 2016-12-21 15:52:58           143       1045        2157   \n",
       "\n",
       "   total standard_amt_usd gloss_amt_usd poster_amt_usd total_amt_usd  \n",
       "0    294           484.03       1071.07         438.48       1993.58  \n",
       "1    345           728.54       1468.04          24.36       2220.94  \n",
       "2    538           908.18       2539.11         138.04       3585.33  \n",
       "3    407          1362.27       1003.66           0.00       2365.93  \n",
       "4   3345           713.57       7827.05       17514.84      26055.46  "
      ]
     },
     "execution_count": 24,
     "metadata": {},
     "output_type": "execute_result"
    }
   ],
   "source": [
    "query = 'SELECT * FROM orders WHERE gloss_amt_usd >= 1000 LIMIT 5;'\n",
    "query_to_df(query)"
   ]
  },
  {
   "cell_type": "markdown",
   "metadata": {
    "id": "c94Rj-Vh6qTR"
   },
   "source": [
    "Pulls the first 10 rows and all columns from the orders table that have a total_amt_usd less than 500."
   ]
  },
  {
   "cell_type": "code",
   "execution_count": 25,
   "metadata": {
    "colab": {
     "base_uri": "https://localhost:8080/",
     "height": 360
    },
    "id": "WVn-Ql1n7GCb",
    "outputId": "b5123224-4837-4e83-d25d-c7f7588a81fd"
   },
   "outputs": [
    {
     "name": "stdout",
     "output_type": "stream",
     "text": [
      "Query ran for 0.06096339225769043 secs!\n"
     ]
    },
    {
     "data": {
      "text/html": [
       "<div>\n",
       "<style scoped>\n",
       "    .dataframe tbody tr th:only-of-type {\n",
       "        vertical-align: middle;\n",
       "    }\n",
       "\n",
       "    .dataframe tbody tr th {\n",
       "        vertical-align: top;\n",
       "    }\n",
       "\n",
       "    .dataframe thead th {\n",
       "        text-align: right;\n",
       "    }\n",
       "</style>\n",
       "<table border=\"1\" class=\"dataframe\">\n",
       "  <thead>\n",
       "    <tr style=\"text-align: right;\">\n",
       "      <th></th>\n",
       "      <th>id</th>\n",
       "      <th>account_id</th>\n",
       "      <th>occurred_at</th>\n",
       "      <th>standard_qty</th>\n",
       "      <th>gloss_qty</th>\n",
       "      <th>poster_qty</th>\n",
       "      <th>total</th>\n",
       "      <th>standard_amt_usd</th>\n",
       "      <th>gloss_amt_usd</th>\n",
       "      <th>poster_amt_usd</th>\n",
       "      <th>total_amt_usd</th>\n",
       "    </tr>\n",
       "  </thead>\n",
       "  <tbody>\n",
       "    <tr>\n",
       "      <th>0</th>\n",
       "      <td>67</td>\n",
       "      <td>1091</td>\n",
       "      <td>2015-04-07 13:29:20</td>\n",
       "      <td>95</td>\n",
       "      <td>0</td>\n",
       "      <td>0</td>\n",
       "      <td>95</td>\n",
       "      <td>474.05</td>\n",
       "      <td>0.00</td>\n",
       "      <td>0.00</td>\n",
       "      <td>474.05</td>\n",
       "    </tr>\n",
       "    <tr>\n",
       "      <th>1</th>\n",
       "      <td>96</td>\n",
       "      <td>1101</td>\n",
       "      <td>2016-03-15 11:36:03</td>\n",
       "      <td>14</td>\n",
       "      <td>8</td>\n",
       "      <td>16</td>\n",
       "      <td>38</td>\n",
       "      <td>69.86</td>\n",
       "      <td>59.92</td>\n",
       "      <td>129.92</td>\n",
       "      <td>259.70</td>\n",
       "    </tr>\n",
       "    <tr>\n",
       "      <th>2</th>\n",
       "      <td>119</td>\n",
       "      <td>1131</td>\n",
       "      <td>2016-06-12 12:29:45</td>\n",
       "      <td>0</td>\n",
       "      <td>30</td>\n",
       "      <td>23</td>\n",
       "      <td>53</td>\n",
       "      <td>0.00</td>\n",
       "      <td>224.70</td>\n",
       "      <td>186.76</td>\n",
       "      <td>411.46</td>\n",
       "    </tr>\n",
       "    <tr>\n",
       "      <th>3</th>\n",
       "      <td>124</td>\n",
       "      <td>1131</td>\n",
       "      <td>2016-11-07 05:10:56</td>\n",
       "      <td>0</td>\n",
       "      <td>0</td>\n",
       "      <td>0</td>\n",
       "      <td>0</td>\n",
       "      <td>0.00</td>\n",
       "      <td>0.00</td>\n",
       "      <td>0.00</td>\n",
       "      <td>0.00</td>\n",
       "    </tr>\n",
       "    <tr>\n",
       "      <th>4</th>\n",
       "      <td>254</td>\n",
       "      <td>1251</td>\n",
       "      <td>2014-11-01 02:15:24</td>\n",
       "      <td>0</td>\n",
       "      <td>0</td>\n",
       "      <td>17</td>\n",
       "      <td>17</td>\n",
       "      <td>0.00</td>\n",
       "      <td>0.00</td>\n",
       "      <td>138.04</td>\n",
       "      <td>138.04</td>\n",
       "    </tr>\n",
       "    <tr>\n",
       "      <th>5</th>\n",
       "      <td>328</td>\n",
       "      <td>1291</td>\n",
       "      <td>2015-08-03 08:35:23</td>\n",
       "      <td>0</td>\n",
       "      <td>19</td>\n",
       "      <td>21</td>\n",
       "      <td>40</td>\n",
       "      <td>0.00</td>\n",
       "      <td>142.31</td>\n",
       "      <td>170.52</td>\n",
       "      <td>312.83</td>\n",
       "    </tr>\n",
       "    <tr>\n",
       "      <th>6</th>\n",
       "      <td>542</td>\n",
       "      <td>1421</td>\n",
       "      <td>2015-11-13 09:07:09</td>\n",
       "      <td>0</td>\n",
       "      <td>64</td>\n",
       "      <td>0</td>\n",
       "      <td>64</td>\n",
       "      <td>0.00</td>\n",
       "      <td>479.36</td>\n",
       "      <td>0.00</td>\n",
       "      <td>479.36</td>\n",
       "    </tr>\n",
       "    <tr>\n",
       "      <th>7</th>\n",
       "      <td>683</td>\n",
       "      <td>1501</td>\n",
       "      <td>2016-04-14 23:59:50</td>\n",
       "      <td>0</td>\n",
       "      <td>15</td>\n",
       "      <td>16</td>\n",
       "      <td>31</td>\n",
       "      <td>0.00</td>\n",
       "      <td>112.35</td>\n",
       "      <td>129.92</td>\n",
       "      <td>242.27</td>\n",
       "    </tr>\n",
       "    <tr>\n",
       "      <th>8</th>\n",
       "      <td>713</td>\n",
       "      <td>1521</td>\n",
       "      <td>2014-11-23 16:04:03</td>\n",
       "      <td>0</td>\n",
       "      <td>8</td>\n",
       "      <td>10</td>\n",
       "      <td>18</td>\n",
       "      <td>0.00</td>\n",
       "      <td>59.92</td>\n",
       "      <td>81.20</td>\n",
       "      <td>141.12</td>\n",
       "    </tr>\n",
       "    <tr>\n",
       "      <th>9</th>\n",
       "      <td>730</td>\n",
       "      <td>1521</td>\n",
       "      <td>2016-05-06 02:34:48</td>\n",
       "      <td>0</td>\n",
       "      <td>0</td>\n",
       "      <td>2</td>\n",
       "      <td>2</td>\n",
       "      <td>0.00</td>\n",
       "      <td>0.00</td>\n",
       "      <td>16.24</td>\n",
       "      <td>16.24</td>\n",
       "    </tr>\n",
       "  </tbody>\n",
       "</table>\n",
       "</div>"
      ],
      "text/plain": [
       "    id  account_id         occurred_at  standard_qty  gloss_qty  poster_qty  \\\n",
       "0   67        1091 2015-04-07 13:29:20            95          0           0   \n",
       "1   96        1101 2016-03-15 11:36:03            14          8          16   \n",
       "2  119        1131 2016-06-12 12:29:45             0         30          23   \n",
       "3  124        1131 2016-11-07 05:10:56             0          0           0   \n",
       "4  254        1251 2014-11-01 02:15:24             0          0          17   \n",
       "5  328        1291 2015-08-03 08:35:23             0         19          21   \n",
       "6  542        1421 2015-11-13 09:07:09             0         64           0   \n",
       "7  683        1501 2016-04-14 23:59:50             0         15          16   \n",
       "8  713        1521 2014-11-23 16:04:03             0          8          10   \n",
       "9  730        1521 2016-05-06 02:34:48             0          0           2   \n",
       "\n",
       "   total standard_amt_usd gloss_amt_usd poster_amt_usd total_amt_usd  \n",
       "0     95           474.05          0.00           0.00        474.05  \n",
       "1     38            69.86         59.92         129.92        259.70  \n",
       "2     53             0.00        224.70         186.76        411.46  \n",
       "3      0             0.00          0.00           0.00          0.00  \n",
       "4     17             0.00          0.00         138.04        138.04  \n",
       "5     40             0.00        142.31         170.52        312.83  \n",
       "6     64             0.00        479.36           0.00        479.36  \n",
       "7     31             0.00        112.35         129.92        242.27  \n",
       "8     18             0.00         59.92          81.20        141.12  \n",
       "9      2             0.00          0.00          16.24         16.24  "
      ]
     },
     "execution_count": 25,
     "metadata": {},
     "output_type": "execute_result"
    }
   ],
   "source": [
    "query = 'SELECT * FROM orders WHERE total_amt_usd < 500  LIMIT 10;'\n",
    "query_to_df(query)"
   ]
  },
  {
   "cell_type": "markdown",
   "metadata": {
    "id": "hGMVA7WM8XQf"
   },
   "source": [
    "**WHERE Clause contd...**\n",
    "\n",
    "The `WHERE` statement can also be used with non-numeric data. We can use the = and != operators here. You need to be sure to use single quotes (just be careful if you have quotes in the original text) with the text data, not double quotes.\n",
    "\n",
    "Commonly when we are using `WHERE` with non-numeric data fields, we use the `LIKE`, `NOT`, or `IN` operators. "
   ]
  },
  {
   "cell_type": "markdown",
   "metadata": {
    "id": "C4FE4B1d81f6"
   },
   "source": [
    "Filter the accounts table to include the company name, website, and the primary point of contact (primary_poc) just for the Exxon Mobil company in the accounts table."
   ]
  },
  {
   "cell_type": "code",
   "execution_count": 26,
   "metadata": {
    "colab": {
     "base_uri": "https://localhost:8080/",
     "height": 94
    },
    "id": "qh2T8n8W88C2",
    "outputId": "6935f718-56cc-42d9-8ccc-7c796276a3c0"
   },
   "outputs": [
    {
     "name": "stdout",
     "output_type": "stream",
     "text": [
      "Query ran for 0.0039980411529541016 secs!\n"
     ]
    },
    {
     "data": {
      "text/html": [
       "<div>\n",
       "<style scoped>\n",
       "    .dataframe tbody tr th:only-of-type {\n",
       "        vertical-align: middle;\n",
       "    }\n",
       "\n",
       "    .dataframe tbody tr th {\n",
       "        vertical-align: top;\n",
       "    }\n",
       "\n",
       "    .dataframe thead th {\n",
       "        text-align: right;\n",
       "    }\n",
       "</style>\n",
       "<table border=\"1\" class=\"dataframe\">\n",
       "  <thead>\n",
       "    <tr style=\"text-align: right;\">\n",
       "      <th></th>\n",
       "      <th>name</th>\n",
       "      <th>website</th>\n",
       "      <th>primary_poc</th>\n",
       "    </tr>\n",
       "  </thead>\n",
       "  <tbody>\n",
       "    <tr>\n",
       "      <th>0</th>\n",
       "      <td>Exxon Mobil</td>\n",
       "      <td>www.exxonmobil.com</td>\n",
       "      <td>Sung Shields</td>\n",
       "    </tr>\n",
       "  </tbody>\n",
       "</table>\n",
       "</div>"
      ],
      "text/plain": [
       "          name             website   primary_poc\n",
       "0  Exxon Mobil  www.exxonmobil.com  Sung Shields"
      ]
     },
     "execution_count": 26,
     "metadata": {},
     "output_type": "execute_result"
    }
   ],
   "source": [
    "query = \"SELECT name, website, primary_poc FROM accounts WHERE name = 'Exxon Mobil';\"\n",
    "query_to_df(query)"
   ]
  },
  {
   "cell_type": "markdown",
   "metadata": {
    "id": "hhBkzU1k-Fe5"
   },
   "source": [
    "Note: If you received an error message when executing your query, remember that SQL requires single-quotes, not double-quotes, around text values like 'Exxon Mobil.'"
   ]
  },
  {
   "cell_type": "markdown",
   "metadata": {
    "id": "Nt9UCT7P-wpx"
   },
   "source": [
    "**Derived Columns:**\n",
    "\n",
    "* Creating a new column that is a combination of existing columns is known as a derived column (or \"calculated\" or \"computed\" column). Usually you want to give a name, or \"alias,\" to your new column using the `AS` keyword.\n",
    "* This derived column, and its alias, are generally only temporary, existing just for the duration of your query. The next time you run a query and access this table, the new column will not be there.\n",
    "* **Order of Operations**<br>\n",
    "Remember **PEMDAS** from math class to help remember the order of operations? The same order of operations applies when using arithmetic operators in SQL.\n",
    "\n",
    "The following two statements have very different end results:\n",
    "\n",
    "* Standard_qty / standard_qty + gloss_qty + poster_qty\n",
    "* standard_qty / (standard_qty + gloss_qty + poster_qty)"
   ]
  },
  {
   "cell_type": "markdown",
   "metadata": {
    "id": "hYmEbK7V_1t6"
   },
   "source": [
    "Select id, account_id, gloss_amt_usd, total_amt_usd and add a derived column called pct_gloss_amt by dividing gloss_amt_usd by total_amt_usd. Show only 10 rows"
   ]
  },
  {
   "cell_type": "code",
   "execution_count": 27,
   "metadata": {
    "colab": {
     "base_uri": "https://localhost:8080/",
     "height": 360
    },
    "id": "y7eL2-BpAlDE",
    "outputId": "ab0f3310-aa8d-451f-f09b-de844858c13e"
   },
   "outputs": [
    {
     "name": "stdout",
     "output_type": "stream",
     "text": [
      "Query ran for 0.04297041893005371 secs!\n"
     ]
    },
    {
     "data": {
      "text/html": [
       "<div>\n",
       "<style scoped>\n",
       "    .dataframe tbody tr th:only-of-type {\n",
       "        vertical-align: middle;\n",
       "    }\n",
       "\n",
       "    .dataframe tbody tr th {\n",
       "        vertical-align: top;\n",
       "    }\n",
       "\n",
       "    .dataframe thead th {\n",
       "        text-align: right;\n",
       "    }\n",
       "</style>\n",
       "<table border=\"1\" class=\"dataframe\">\n",
       "  <thead>\n",
       "    <tr style=\"text-align: right;\">\n",
       "      <th></th>\n",
       "      <th>id</th>\n",
       "      <th>account_id</th>\n",
       "      <th>gloss_amt_usd</th>\n",
       "      <th>total_amt_usd</th>\n",
       "      <th>pct_gloss_amt</th>\n",
       "    </tr>\n",
       "  </thead>\n",
       "  <tbody>\n",
       "    <tr>\n",
       "      <th>0</th>\n",
       "      <td>1</td>\n",
       "      <td>1001</td>\n",
       "      <td>164.78</td>\n",
       "      <td>973.43</td>\n",
       "      <td>0.169278</td>\n",
       "    </tr>\n",
       "    <tr>\n",
       "      <th>1</th>\n",
       "      <td>2</td>\n",
       "      <td>1001</td>\n",
       "      <td>307.09</td>\n",
       "      <td>1718.03</td>\n",
       "      <td>0.178745</td>\n",
       "    </tr>\n",
       "    <tr>\n",
       "      <th>2</th>\n",
       "      <td>3</td>\n",
       "      <td>1001</td>\n",
       "      <td>352.03</td>\n",
       "      <td>776.18</td>\n",
       "      <td>0.453542</td>\n",
       "    </tr>\n",
       "    <tr>\n",
       "      <th>3</th>\n",
       "      <td>4</td>\n",
       "      <td>1001</td>\n",
       "      <td>239.68</td>\n",
       "      <td>958.24</td>\n",
       "      <td>0.250125</td>\n",
       "    </tr>\n",
       "    <tr>\n",
       "      <th>4</th>\n",
       "      <td>5</td>\n",
       "      <td>1001</td>\n",
       "      <td>217.21</td>\n",
       "      <td>983.49</td>\n",
       "      <td>0.220856</td>\n",
       "    </tr>\n",
       "    <tr>\n",
       "      <th>5</th>\n",
       "      <td>6</td>\n",
       "      <td>1001</td>\n",
       "      <td>179.76</td>\n",
       "      <td>1067.25</td>\n",
       "      <td>0.168433</td>\n",
       "    </tr>\n",
       "    <tr>\n",
       "      <th>6</th>\n",
       "      <td>7</td>\n",
       "      <td>1001</td>\n",
       "      <td>247.17</td>\n",
       "      <td>1498.20</td>\n",
       "      <td>0.164978</td>\n",
       "    </tr>\n",
       "    <tr>\n",
       "      <th>7</th>\n",
       "      <td>8</td>\n",
       "      <td>1001</td>\n",
       "      <td>352.03</td>\n",
       "      <td>2052.20</td>\n",
       "      <td>0.171538</td>\n",
       "    </tr>\n",
       "    <tr>\n",
       "      <th>8</th>\n",
       "      <td>9</td>\n",
       "      <td>1001</td>\n",
       "      <td>119.84</td>\n",
       "      <td>752.57</td>\n",
       "      <td>0.159241</td>\n",
       "    </tr>\n",
       "    <tr>\n",
       "      <th>9</th>\n",
       "      <td>10</td>\n",
       "      <td>1001</td>\n",
       "      <td>344.54</td>\n",
       "      <td>878.56</td>\n",
       "      <td>0.392164</td>\n",
       "    </tr>\n",
       "  </tbody>\n",
       "</table>\n",
       "</div>"
      ],
      "text/plain": [
       "   id  account_id gloss_amt_usd total_amt_usd pct_gloss_amt\n",
       "0   1        1001        164.78        973.43      0.169278\n",
       "1   2        1001        307.09       1718.03      0.178745\n",
       "2   3        1001        352.03        776.18      0.453542\n",
       "3   4        1001        239.68        958.24      0.250125\n",
       "4   5        1001        217.21        983.49      0.220856\n",
       "5   6        1001        179.76       1067.25      0.168433\n",
       "6   7        1001        247.17       1498.20      0.164978\n",
       "7   8        1001        352.03       2052.20      0.171538\n",
       "8   9        1001        119.84        752.57      0.159241\n",
       "9  10        1001        344.54        878.56      0.392164"
      ]
     },
     "execution_count": 27,
     "metadata": {},
     "output_type": "execute_result"
    }
   ],
   "source": [
    "query = 'SELECT id, account_id, gloss_amt_usd, total_amt_usd, \\\n",
    "        (gloss_amt_usd/total_amt_usd) AS pct_gloss_amt FROM orders LIMIT 10;'\n",
    "query_to_df(query)"
   ]
  },
  {
   "cell_type": "markdown",
   "metadata": {
    "id": "GRRltA7bBoy-"
   },
   "source": [
    "Using the orders table Create a column that divides the standard_amt_usd by the standard_qty to find the unit price for standard paper for each order. Limit the results to the first 10 orders, and include the id and account_id fields.\n"
   ]
  },
  {
   "cell_type": "code",
   "execution_count": 28,
   "metadata": {
    "colab": {
     "base_uri": "https://localhost:8080/",
     "height": 360
    },
    "id": "eVqSULb3B4-6",
    "outputId": "9918c3f5-8426-4edb-fbac-e058c7076afe"
   },
   "outputs": [
    {
     "name": "stdout",
     "output_type": "stream",
     "text": [
      "Query ran for 0.017987966537475586 secs!\n"
     ]
    },
    {
     "data": {
      "text/html": [
       "<div>\n",
       "<style scoped>\n",
       "    .dataframe tbody tr th:only-of-type {\n",
       "        vertical-align: middle;\n",
       "    }\n",
       "\n",
       "    .dataframe tbody tr th {\n",
       "        vertical-align: top;\n",
       "    }\n",
       "\n",
       "    .dataframe thead th {\n",
       "        text-align: right;\n",
       "    }\n",
       "</style>\n",
       "<table border=\"1\" class=\"dataframe\">\n",
       "  <thead>\n",
       "    <tr style=\"text-align: right;\">\n",
       "      <th></th>\n",
       "      <th>id</th>\n",
       "      <th>account_id</th>\n",
       "      <th>unit_price</th>\n",
       "    </tr>\n",
       "  </thead>\n",
       "  <tbody>\n",
       "    <tr>\n",
       "      <th>0</th>\n",
       "      <td>1</td>\n",
       "      <td>1001</td>\n",
       "      <td>4.990000</td>\n",
       "    </tr>\n",
       "    <tr>\n",
       "      <th>1</th>\n",
       "      <td>2</td>\n",
       "      <td>1001</td>\n",
       "      <td>4.990000</td>\n",
       "    </tr>\n",
       "    <tr>\n",
       "      <th>2</th>\n",
       "      <td>3</td>\n",
       "      <td>1001</td>\n",
       "      <td>4.990000</td>\n",
       "    </tr>\n",
       "    <tr>\n",
       "      <th>3</th>\n",
       "      <td>4</td>\n",
       "      <td>1001</td>\n",
       "      <td>4.990000</td>\n",
       "    </tr>\n",
       "    <tr>\n",
       "      <th>4</th>\n",
       "      <td>5</td>\n",
       "      <td>1001</td>\n",
       "      <td>4.990000</td>\n",
       "    </tr>\n",
       "    <tr>\n",
       "      <th>5</th>\n",
       "      <td>6</td>\n",
       "      <td>1001</td>\n",
       "      <td>4.990000</td>\n",
       "    </tr>\n",
       "    <tr>\n",
       "      <th>6</th>\n",
       "      <td>7</td>\n",
       "      <td>1001</td>\n",
       "      <td>4.990000</td>\n",
       "    </tr>\n",
       "    <tr>\n",
       "      <th>7</th>\n",
       "      <td>8</td>\n",
       "      <td>1001</td>\n",
       "      <td>4.990000</td>\n",
       "    </tr>\n",
       "    <tr>\n",
       "      <th>8</th>\n",
       "      <td>9</td>\n",
       "      <td>1001</td>\n",
       "      <td>4.990000</td>\n",
       "    </tr>\n",
       "    <tr>\n",
       "      <th>9</th>\n",
       "      <td>10</td>\n",
       "      <td>1001</td>\n",
       "      <td>4.990000</td>\n",
       "    </tr>\n",
       "  </tbody>\n",
       "</table>\n",
       "</div>"
      ],
      "text/plain": [
       "   id  account_id unit_price\n",
       "0   1        1001   4.990000\n",
       "1   2        1001   4.990000\n",
       "2   3        1001   4.990000\n",
       "3   4        1001   4.990000\n",
       "4   5        1001   4.990000\n",
       "5   6        1001   4.990000\n",
       "6   7        1001   4.990000\n",
       "7   8        1001   4.990000\n",
       "8   9        1001   4.990000\n",
       "9  10        1001   4.990000"
      ]
     },
     "execution_count": 28,
     "metadata": {},
     "output_type": "execute_result"
    }
   ],
   "source": [
    "query = 'SELECT id, account_id, (standard_amt_usd / standard_qty) \\\n",
    "        AS unit_price FROM orders LIMIT 10;'\n",
    "\n",
    "query_to_df(query)"
   ]
  },
  {
   "cell_type": "markdown",
   "metadata": {
    "id": "KGRk0ja7DSh0"
   },
   "source": [
    "Using the orders table Write a query that finds the percentage of revenue that comes from poster paper for each order. You will need to use only the columns that end with _usd. (Try to do this without using the total column.) Display the id and account_id fields also. NOTE - you will receive an error with the correct solution to this question. This occurs because at least one of the values in the data creates a division by zero in your formula. You will learn later in the course how to fully handle this issue. For now, you can just limit your calculations to the first 10 orders, as we did in question #1, and you'll avoid that set of data that causes the problem."
   ]
  },
  {
   "cell_type": "code",
   "execution_count": 29,
   "metadata": {
    "colab": {
     "base_uri": "https://localhost:8080/",
     "height": 360
    },
    "id": "VVaLv4hcDq78",
    "outputId": "4a21afad-e1ed-4266-fe45-590b966626c8"
   },
   "outputs": [
    {
     "name": "stdout",
     "output_type": "stream",
     "text": [
      "Query ran for 0.0569615364074707 secs!\n"
     ]
    },
    {
     "data": {
      "text/html": [
       "<div>\n",
       "<style scoped>\n",
       "    .dataframe tbody tr th:only-of-type {\n",
       "        vertical-align: middle;\n",
       "    }\n",
       "\n",
       "    .dataframe tbody tr th {\n",
       "        vertical-align: top;\n",
       "    }\n",
       "\n",
       "    .dataframe thead th {\n",
       "        text-align: right;\n",
       "    }\n",
       "</style>\n",
       "<table border=\"1\" class=\"dataframe\">\n",
       "  <thead>\n",
       "    <tr style=\"text-align: right;\">\n",
       "      <th></th>\n",
       "      <th>id</th>\n",
       "      <th>account_id</th>\n",
       "      <th>pct_revenue_poster</th>\n",
       "    </tr>\n",
       "  </thead>\n",
       "  <tbody>\n",
       "    <tr>\n",
       "      <th>0</th>\n",
       "      <td>1</td>\n",
       "      <td>1001</td>\n",
       "      <td>0.200199</td>\n",
       "    </tr>\n",
       "    <tr>\n",
       "      <th>1</th>\n",
       "      <td>2</td>\n",
       "      <td>1001</td>\n",
       "      <td>0.269402</td>\n",
       "    </tr>\n",
       "    <tr>\n",
       "      <th>2</th>\n",
       "      <td>3</td>\n",
       "      <td>1001</td>\n",
       "      <td>0.000000</td>\n",
       "    </tr>\n",
       "    <tr>\n",
       "      <th>3</th>\n",
       "      <td>4</td>\n",
       "      <td>1001</td>\n",
       "      <td>0.000000</td>\n",
       "    </tr>\n",
       "    <tr>\n",
       "      <th>4</th>\n",
       "      <td>5</td>\n",
       "      <td>1001</td>\n",
       "      <td>0.231177</td>\n",
       "    </tr>\n",
       "    <tr>\n",
       "      <th>5</th>\n",
       "      <td>6</td>\n",
       "      <td>1001</td>\n",
       "      <td>0.349984</td>\n",
       "    </tr>\n",
       "    <tr>\n",
       "      <th>6</th>\n",
       "      <td>7</td>\n",
       "      <td>1001</td>\n",
       "      <td>0.498625</td>\n",
       "    </tr>\n",
       "    <tr>\n",
       "      <th>7</th>\n",
       "      <td>8</td>\n",
       "      <td>1001</td>\n",
       "      <td>0.597466</td>\n",
       "    </tr>\n",
       "    <tr>\n",
       "      <th>8</th>\n",
       "      <td>9</td>\n",
       "      <td>1001</td>\n",
       "      <td>0.237373</td>\n",
       "    </tr>\n",
       "    <tr>\n",
       "      <th>9</th>\n",
       "      <td>10</td>\n",
       "      <td>1001</td>\n",
       "      <td>0.073939</td>\n",
       "    </tr>\n",
       "  </tbody>\n",
       "</table>\n",
       "</div>"
      ],
      "text/plain": [
       "   id  account_id pct_revenue_poster\n",
       "0   1        1001           0.200199\n",
       "1   2        1001           0.269402\n",
       "2   3        1001           0.000000\n",
       "3   4        1001           0.000000\n",
       "4   5        1001           0.231177\n",
       "5   6        1001           0.349984\n",
       "6   7        1001           0.498625\n",
       "7   8        1001           0.597466\n",
       "8   9        1001           0.237373\n",
       "9  10        1001           0.073939"
      ]
     },
     "execution_count": 29,
     "metadata": {},
     "output_type": "execute_result"
    }
   ],
   "source": [
    "query = 'SELECT id, account_id, \\\n",
    "        (poster_amt_usd / (poster_amt_usd + gloss_amt_usd + standard_amt_usd)) \\\n",
    "        AS pct_revenue_poster FROM orders LIMIT 10;'\n",
    "query_to_df(query)"
   ]
  },
  {
   "cell_type": "markdown",
   "metadata": {
    "id": "upknozAasxgI"
   },
   "source": [
    "********************************************************************************"
   ]
  },
  {
   "cell_type": "markdown",
   "metadata": {
    "id": "Q5wcPPMVlSO2"
   },
   "source": [
    "<h3>Introduction to Logical Operators</h3>\n",
    "\n",
    "In the next concepts, you will be learning about Logical Operators. Logical Operators include:\n",
    "\n",
    "* **LIKE**<br>\n",
    "This allows you to perform operations similar to using `WHERE` and `=`, but for cases when you might not know exactly what you are looking for.\n",
    "\n",
    "* **IN**<br>\n",
    "This allows you to perform operations similar to using `WHERE` and `=`, but for more than one condition.\n",
    "\n",
    "* **NOT**<br>\n",
    "This is used with `IN` and `LIKE` to select all of the rows `NOT LIKE` or `NOT IN` a certain condition.\n",
    "\n",
    "* **AND & BETWEEN**<br>\n",
    "These allow you to combine operations where all combined conditions must be true.\n",
    "\n",
    "* **OR**<br>\n",
    "This allow you to combine operations where at least one of the combined conditions must be true.\n",
    "\n",
    "**The LIKE Operator:**\n",
    "\n",
    "The `LIKE` operator is extremely useful for working with text. You will use `LIKE` within a `WHERE` clause. The `LIKE` operator is frequently used with `%`. The `%` tells us that we might want any number of characters leading up to a particular set of characters or following a certain set of characters.\n",
    "\n",
    "Remember to use single quotes for the text you pass to the `LIKE` operator, because of this lower and uppercase letters are not the same within the string. Searching for 'T' is not the same as searching for 't'.\n",
    "\n",
    "**The IN Operator:**\n",
    "\n",
    "The `IN` operator is useful for working with both numeric and text columns. This operator allows you to use an `=`, but for more than one item of that particular column. We can check one, two or many column values for which we want to pull data, but all within the same query.\n",
    "\n",
    "**The NOT Operator:**\n",
    "\n",
    "The `NOT` operator is an extremely useful operator for working with the previous two operators we introduced: `IN` and `LIKE`. By specifying `NOT` `LIKE` or `NOT` `IN`, we can grab all of the rows that do not meet a particular criteria.\n",
    "\n",
    "**Expert Tip**\n",
    "\n",
    "In most SQL environments, although not in our Udacity's classroom, you can use single or double quotation marks - and you may NEED to use double quotation marks if you have an apostrophe within the text you are attempting to pull."
   ]
  },
  {
   "cell_type": "markdown",
   "metadata": {
    "id": "wlLTtRlQnEwu"
   },
   "source": [
    "Questions using LIKE Operator\n",
    "\n",
    "Using the accounts table find All the companies whose names start with 'C'."
   ]
  },
  {
   "cell_type": "code",
   "execution_count": 30,
   "metadata": {
    "colab": {
     "base_uri": "https://localhost:8080/",
     "height": 418
    },
    "id": "sVLwft5bnQdv",
    "outputId": "129ed873-c6f5-4665-b2ad-bfaaa1eeec75"
   },
   "outputs": [
    {
     "name": "stdout",
     "output_type": "stream",
     "text": [
      "Query ran for 0.12691783905029297 secs!\n"
     ]
    },
    {
     "data": {
      "text/html": [
       "<div>\n",
       "<style scoped>\n",
       "    .dataframe tbody tr th:only-of-type {\n",
       "        vertical-align: middle;\n",
       "    }\n",
       "\n",
       "    .dataframe tbody tr th {\n",
       "        vertical-align: top;\n",
       "    }\n",
       "\n",
       "    .dataframe thead th {\n",
       "        text-align: right;\n",
       "    }\n",
       "</style>\n",
       "<table border=\"1\" class=\"dataframe\">\n",
       "  <thead>\n",
       "    <tr style=\"text-align: right;\">\n",
       "      <th></th>\n",
       "      <th>id</th>\n",
       "      <th>name</th>\n",
       "      <th>website</th>\n",
       "      <th>lats</th>\n",
       "      <th>longs</th>\n",
       "      <th>primary_poc</th>\n",
       "      <th>sales_rep_id</th>\n",
       "    </tr>\n",
       "  </thead>\n",
       "  <tbody>\n",
       "    <tr>\n",
       "      <th>0</th>\n",
       "      <td>1061</td>\n",
       "      <td>CVS Health</td>\n",
       "      <td>www.cvshealth.com</td>\n",
       "      <td>41.46779585</td>\n",
       "      <td>-73.76763638</td>\n",
       "      <td>Anabel Haskell</td>\n",
       "      <td>321560</td>\n",
       "    </tr>\n",
       "    <tr>\n",
       "      <th>1</th>\n",
       "      <td>1131</td>\n",
       "      <td>Chevron</td>\n",
       "      <td>www.chevron.com</td>\n",
       "      <td>42.61194130</td>\n",
       "      <td>-76.36123105</td>\n",
       "      <td>Paige Bartos</td>\n",
       "      <td>321630</td>\n",
       "    </tr>\n",
       "    <tr>\n",
       "      <th>2</th>\n",
       "      <td>1141</td>\n",
       "      <td>Costco</td>\n",
       "      <td>www.costco.com</td>\n",
       "      <td>42.26304566</td>\n",
       "      <td>-74.80916921</td>\n",
       "      <td>Dominique Favela</td>\n",
       "      <td>321640</td>\n",
       "    </tr>\n",
       "    <tr>\n",
       "      <th>3</th>\n",
       "      <td>1201</td>\n",
       "      <td>Cardinal Health</td>\n",
       "      <td>www.cardinal.com</td>\n",
       "      <td>41.31906537</td>\n",
       "      <td>-77.52512192</td>\n",
       "      <td>Deanne Hertlein</td>\n",
       "      <td>321700</td>\n",
       "    </tr>\n",
       "    <tr>\n",
       "      <th>4</th>\n",
       "      <td>1281</td>\n",
       "      <td>Citigroup</td>\n",
       "      <td>www.citigroup.com</td>\n",
       "      <td>40.85305429</td>\n",
       "      <td>-76.49044823</td>\n",
       "      <td>Bea Sera</td>\n",
       "      <td>321570</td>\n",
       "    </tr>\n",
       "    <tr>\n",
       "      <th>...</th>\n",
       "      <td>...</td>\n",
       "      <td>...</td>\n",
       "      <td>...</td>\n",
       "      <td>...</td>\n",
       "      <td>...</td>\n",
       "      <td>...</td>\n",
       "      <td>...</td>\n",
       "    </tr>\n",
       "    <tr>\n",
       "      <th>32</th>\n",
       "      <td>4121</td>\n",
       "      <td>Corning</td>\n",
       "      <td>www.corning.com</td>\n",
       "      <td>38.40418630</td>\n",
       "      <td>-121.43552833</td>\n",
       "      <td>Chad Winer</td>\n",
       "      <td>321920</td>\n",
       "    </tr>\n",
       "    <tr>\n",
       "      <th>33</th>\n",
       "      <td>4161</td>\n",
       "      <td>Core-Mark Holding</td>\n",
       "      <td>www.core-mark.com</td>\n",
       "      <td>38.60488242</td>\n",
       "      <td>-121.39945801</td>\n",
       "      <td>Marita Demasi</td>\n",
       "      <td>321960</td>\n",
       "    </tr>\n",
       "    <tr>\n",
       "      <th>34</th>\n",
       "      <td>4181</td>\n",
       "      <td>Cameron International</td>\n",
       "      <td>www.c-a-m.com</td>\n",
       "      <td>38.65683131</td>\n",
       "      <td>-121.93403154</td>\n",
       "      <td>Antwan Seagraves</td>\n",
       "      <td>321980</td>\n",
       "    </tr>\n",
       "    <tr>\n",
       "      <th>35</th>\n",
       "      <td>4201</td>\n",
       "      <td>Crown Holdings</td>\n",
       "      <td>www.crowncork.com</td>\n",
       "      <td>38.51520637</td>\n",
       "      <td>-121.16934096</td>\n",
       "      <td>Jung Soden</td>\n",
       "      <td>321930</td>\n",
       "    </tr>\n",
       "    <tr>\n",
       "      <th>36</th>\n",
       "      <td>4361</td>\n",
       "      <td>Campbell Soup</td>\n",
       "      <td>www.campbellsoupcompany.com</td>\n",
       "      <td>36.17162482</td>\n",
       "      <td>-115.15725318</td>\n",
       "      <td>Barrie Omega</td>\n",
       "      <td>321920</td>\n",
       "    </tr>\n",
       "  </tbody>\n",
       "</table>\n",
       "<p>37 rows × 7 columns</p>\n",
       "</div>"
      ],
      "text/plain": [
       "      id                   name                      website         lats  \\\n",
       "0   1061             CVS Health            www.cvshealth.com  41.46779585   \n",
       "1   1131                Chevron              www.chevron.com  42.61194130   \n",
       "2   1141                 Costco               www.costco.com  42.26304566   \n",
       "3   1201        Cardinal Health             www.cardinal.com  41.31906537   \n",
       "4   1281              Citigroup            www.citigroup.com  40.85305429   \n",
       "..   ...                    ...                          ...          ...   \n",
       "32  4121                Corning              www.corning.com  38.40418630   \n",
       "33  4161      Core-Mark Holding            www.core-mark.com  38.60488242   \n",
       "34  4181  Cameron International                www.c-a-m.com  38.65683131   \n",
       "35  4201         Crown Holdings            www.crowncork.com  38.51520637   \n",
       "36  4361          Campbell Soup  www.campbellsoupcompany.com  36.17162482   \n",
       "\n",
       "            longs       primary_poc  sales_rep_id  \n",
       "0    -73.76763638    Anabel Haskell        321560  \n",
       "1    -76.36123105      Paige Bartos        321630  \n",
       "2    -74.80916921  Dominique Favela        321640  \n",
       "3    -77.52512192   Deanne Hertlein        321700  \n",
       "4    -76.49044823          Bea Sera        321570  \n",
       "..            ...               ...           ...  \n",
       "32  -121.43552833        Chad Winer        321920  \n",
       "33  -121.39945801     Marita Demasi        321960  \n",
       "34  -121.93403154  Antwan Seagraves        321980  \n",
       "35  -121.16934096        Jung Soden        321930  \n",
       "36  -115.15725318      Barrie Omega        321920  \n",
       "\n",
       "[37 rows x 7 columns]"
      ]
     },
     "execution_count": 30,
     "metadata": {},
     "output_type": "execute_result"
    }
   ],
   "source": [
    "query = \"SELECT * FROM accounts WHERE name LIKE 'C%';\"\n",
    "query_to_df(query)"
   ]
  },
  {
   "cell_type": "markdown",
   "metadata": {
    "id": "zdMc06Wnn6KQ"
   },
   "source": [
    "All companies whose names contain the string 'one' somewhere in the name."
   ]
  },
  {
   "cell_type": "code",
   "execution_count": 31,
   "metadata": {
    "colab": {
     "base_uri": "https://localhost:8080/",
     "height": 212
    },
    "id": "Q_dBG86qoCJx",
    "outputId": "70a77131-5313-4651-8f71-c71f94cb86fb"
   },
   "outputs": [
    {
     "name": "stdout",
     "output_type": "stream",
     "text": [
      "Query ran for 0.0219879150390625 secs!\n"
     ]
    },
    {
     "data": {
      "text/html": [
       "<div>\n",
       "<style scoped>\n",
       "    .dataframe tbody tr th:only-of-type {\n",
       "        vertical-align: middle;\n",
       "    }\n",
       "\n",
       "    .dataframe tbody tr th {\n",
       "        vertical-align: top;\n",
       "    }\n",
       "\n",
       "    .dataframe thead th {\n",
       "        text-align: right;\n",
       "    }\n",
       "</style>\n",
       "<table border=\"1\" class=\"dataframe\">\n",
       "  <thead>\n",
       "    <tr style=\"text-align: right;\">\n",
       "      <th></th>\n",
       "      <th>id</th>\n",
       "      <th>name</th>\n",
       "      <th>website</th>\n",
       "      <th>lats</th>\n",
       "      <th>longs</th>\n",
       "      <th>primary_poc</th>\n",
       "      <th>sales_rep_id</th>\n",
       "    </tr>\n",
       "  </thead>\n",
       "  <tbody>\n",
       "    <tr>\n",
       "      <th>0</th>\n",
       "      <td>1741</td>\n",
       "      <td>Honeywell International</td>\n",
       "      <td>www.honeywell.com</td>\n",
       "      <td>40.75117046</td>\n",
       "      <td>-73.98191857</td>\n",
       "      <td>Jeanne Harty</td>\n",
       "      <td>321700</td>\n",
       "    </tr>\n",
       "    <tr>\n",
       "      <th>1</th>\n",
       "      <td>1821</td>\n",
       "      <td>INTL FCStone</td>\n",
       "      <td>www.intlfcstone.com</td>\n",
       "      <td>42.35998456</td>\n",
       "      <td>-71.06380494</td>\n",
       "      <td>Ericka Hamid</td>\n",
       "      <td>321630</td>\n",
       "    </tr>\n",
       "    <tr>\n",
       "      <th>2</th>\n",
       "      <td>2111</td>\n",
       "      <td>Capital One Financial</td>\n",
       "      <td>www.capitalone.com</td>\n",
       "      <td>41.87811613</td>\n",
       "      <td>-87.63264013</td>\n",
       "      <td>Debby Myers</td>\n",
       "      <td>321760</td>\n",
       "    </tr>\n",
       "    <tr>\n",
       "      <th>3</th>\n",
       "      <td>3791</td>\n",
       "      <td>AutoZone</td>\n",
       "      <td>www.autozone.com</td>\n",
       "      <td>34.05826339</td>\n",
       "      <td>-118.23774700</td>\n",
       "      <td>Maryellen Strohmeyer</td>\n",
       "      <td>321990</td>\n",
       "    </tr>\n",
       "    <tr>\n",
       "      <th>4</th>\n",
       "      <td>4471</td>\n",
       "      <td>Oneok</td>\n",
       "      <td>www.oneok.com</td>\n",
       "      <td>45.51351286</td>\n",
       "      <td>-122.68150011</td>\n",
       "      <td>Esta Engelhardt</td>\n",
       "      <td>321960</td>\n",
       "    </tr>\n",
       "  </tbody>\n",
       "</table>\n",
       "</div>"
      ],
      "text/plain": [
       "     id                     name              website         lats  \\\n",
       "0  1741  Honeywell International    www.honeywell.com  40.75117046   \n",
       "1  1821             INTL FCStone  www.intlfcstone.com  42.35998456   \n",
       "2  2111    Capital One Financial   www.capitalone.com  41.87811613   \n",
       "3  3791                 AutoZone     www.autozone.com  34.05826339   \n",
       "4  4471                    Oneok        www.oneok.com  45.51351286   \n",
       "\n",
       "           longs           primary_poc  sales_rep_id  \n",
       "0   -73.98191857          Jeanne Harty        321700  \n",
       "1   -71.06380494          Ericka Hamid        321630  \n",
       "2   -87.63264013           Debby Myers        321760  \n",
       "3  -118.23774700  Maryellen Strohmeyer        321990  \n",
       "4  -122.68150011       Esta Engelhardt        321960  "
      ]
     },
     "execution_count": 31,
     "metadata": {},
     "output_type": "execute_result"
    }
   ],
   "source": [
    "query = \"SELECT * FROM accounts WHERE name LIKE '%one%';\"\n",
    "query_to_df(query)"
   ]
  },
  {
   "cell_type": "markdown",
   "metadata": {
    "id": "PR4sNE6OpiX_"
   },
   "source": [
    "All companies whose names end with 's'"
   ]
  },
  {
   "cell_type": "code",
   "execution_count": 32,
   "metadata": {
    "colab": {
     "base_uri": "https://localhost:8080/",
     "height": 418
    },
    "id": "y3EFDIHhpwGe",
    "outputId": "1dc2d3c2-2655-4595-f32a-7ddab6420dfc"
   },
   "outputs": [
    {
     "name": "stdout",
     "output_type": "stream",
     "text": [
      "Query ran for 0.23485827445983887 secs!\n"
     ]
    },
    {
     "data": {
      "text/html": [
       "<div>\n",
       "<style scoped>\n",
       "    .dataframe tbody tr th:only-of-type {\n",
       "        vertical-align: middle;\n",
       "    }\n",
       "\n",
       "    .dataframe tbody tr th {\n",
       "        vertical-align: top;\n",
       "    }\n",
       "\n",
       "    .dataframe thead th {\n",
       "        text-align: right;\n",
       "    }\n",
       "</style>\n",
       "<table border=\"1\" class=\"dataframe\">\n",
       "  <thead>\n",
       "    <tr style=\"text-align: right;\">\n",
       "      <th></th>\n",
       "      <th>id</th>\n",
       "      <th>name</th>\n",
       "      <th>website</th>\n",
       "      <th>lats</th>\n",
       "      <th>longs</th>\n",
       "      <th>primary_poc</th>\n",
       "      <th>sales_rep_id</th>\n",
       "    </tr>\n",
       "  </thead>\n",
       "  <tbody>\n",
       "    <tr>\n",
       "      <th>0</th>\n",
       "      <td>1071</td>\n",
       "      <td>General Motors</td>\n",
       "      <td>www.gm.com</td>\n",
       "      <td>40.80551762</td>\n",
       "      <td>-76.71018140</td>\n",
       "      <td>Barrie Omeara</td>\n",
       "      <td>321570</td>\n",
       "    </tr>\n",
       "    <tr>\n",
       "      <th>1</th>\n",
       "      <td>1441</td>\n",
       "      <td>United Technologies</td>\n",
       "      <td>www.utc.com</td>\n",
       "      <td>42.32939700</td>\n",
       "      <td>-75.15785469</td>\n",
       "      <td>Janett Wisecarver</td>\n",
       "      <td>321520</td>\n",
       "    </tr>\n",
       "    <tr>\n",
       "      <th>2</th>\n",
       "      <td>1461</td>\n",
       "      <td>Lowe's</td>\n",
       "      <td>www.lowes.com</td>\n",
       "      <td>42.02305207</td>\n",
       "      <td>-74.82210597</td>\n",
       "      <td>Roselee Pardini</td>\n",
       "      <td>321540</td>\n",
       "    </tr>\n",
       "    <tr>\n",
       "      <th>3</th>\n",
       "      <td>1471</td>\n",
       "      <td>UPS</td>\n",
       "      <td>www.ups.com</td>\n",
       "      <td>41.87883813</td>\n",
       "      <td>-73.84930041</td>\n",
       "      <td>Cedrick Weiss</td>\n",
       "      <td>321550</td>\n",
       "    </tr>\n",
       "    <tr>\n",
       "      <th>4</th>\n",
       "      <td>1531</td>\n",
       "      <td>Cisco Systems</td>\n",
       "      <td>www.cisco.com</td>\n",
       "      <td>41.20101093</td>\n",
       "      <td>-76.53824668</td>\n",
       "      <td>Deadra Waggener</td>\n",
       "      <td>321610</td>\n",
       "    </tr>\n",
       "    <tr>\n",
       "      <th>...</th>\n",
       "      <td>...</td>\n",
       "      <td>...</td>\n",
       "      <td>...</td>\n",
       "      <td>...</td>\n",
       "      <td>...</td>\n",
       "      <td>...</td>\n",
       "      <td>...</td>\n",
       "    </tr>\n",
       "    <tr>\n",
       "      <th>76</th>\n",
       "      <td>4341</td>\n",
       "      <td>United Natural Foods</td>\n",
       "      <td>www.unfi.com</td>\n",
       "      <td>36.17010987</td>\n",
       "      <td>-115.14713633</td>\n",
       "      <td>Savanna Gayman</td>\n",
       "      <td>321920</td>\n",
       "    </tr>\n",
       "    <tr>\n",
       "      <th>77</th>\n",
       "      <td>4351</td>\n",
       "      <td>Dean Foods</td>\n",
       "      <td>www.deanfoods.com</td>\n",
       "      <td>36.17621316</td>\n",
       "      <td>-115.13949052</td>\n",
       "      <td>Anabel Haskell</td>\n",
       "      <td>321910</td>\n",
       "    </tr>\n",
       "    <tr>\n",
       "      <th>78</th>\n",
       "      <td>4371</td>\n",
       "      <td>Mohawk Industries</td>\n",
       "      <td>www.mohawkind.com</td>\n",
       "      <td>36.18032753</td>\n",
       "      <td>-115.13596405</td>\n",
       "      <td>Kym Hagerman</td>\n",
       "      <td>321910</td>\n",
       "    </tr>\n",
       "    <tr>\n",
       "      <th>79</th>\n",
       "      <td>4431</td>\n",
       "      <td>Franklin Resources</td>\n",
       "      <td>www.franklinresources.com</td>\n",
       "      <td>45.53389437</td>\n",
       "      <td>-122.68221497</td>\n",
       "      <td>Dominique Favela</td>\n",
       "      <td>321970</td>\n",
       "    </tr>\n",
       "    <tr>\n",
       "      <th>80</th>\n",
       "      <td>4451</td>\n",
       "      <td>Lithia Motors</td>\n",
       "      <td>www.lithia.com</td>\n",
       "      <td>45.50439475</td>\n",
       "      <td>-122.64053469</td>\n",
       "      <td>Nannie Brinkman</td>\n",
       "      <td>321960</td>\n",
       "    </tr>\n",
       "  </tbody>\n",
       "</table>\n",
       "<p>81 rows × 7 columns</p>\n",
       "</div>"
      ],
      "text/plain": [
       "      id                  name                    website         lats  \\\n",
       "0   1071        General Motors                 www.gm.com  40.80551762   \n",
       "1   1441   United Technologies                www.utc.com  42.32939700   \n",
       "2   1461                Lowe's              www.lowes.com  42.02305207   \n",
       "3   1471                   UPS                www.ups.com  41.87883813   \n",
       "4   1531         Cisco Systems              www.cisco.com  41.20101093   \n",
       "..   ...                   ...                        ...          ...   \n",
       "76  4341  United Natural Foods               www.unfi.com  36.17010987   \n",
       "77  4351            Dean Foods          www.deanfoods.com  36.17621316   \n",
       "78  4371     Mohawk Industries          www.mohawkind.com  36.18032753   \n",
       "79  4431    Franklin Resources  www.franklinresources.com  45.53389437   \n",
       "80  4451         Lithia Motors             www.lithia.com  45.50439475   \n",
       "\n",
       "            longs        primary_poc  sales_rep_id  \n",
       "0    -76.71018140      Barrie Omeara        321570  \n",
       "1    -75.15785469  Janett Wisecarver        321520  \n",
       "2    -74.82210597    Roselee Pardini        321540  \n",
       "3    -73.84930041      Cedrick Weiss        321550  \n",
       "4    -76.53824668    Deadra Waggener        321610  \n",
       "..            ...                ...           ...  \n",
       "76  -115.14713633     Savanna Gayman        321920  \n",
       "77  -115.13949052     Anabel Haskell        321910  \n",
       "78  -115.13596405       Kym Hagerman        321910  \n",
       "79  -122.68221497   Dominique Favela        321970  \n",
       "80  -122.64053469    Nannie Brinkman        321960  \n",
       "\n",
       "[81 rows x 7 columns]"
      ]
     },
     "execution_count": 32,
     "metadata": {},
     "output_type": "execute_result"
    }
   ],
   "source": [
    "query = \"SELECT * FROM accounts WHERE name LIKE '%s';\"\n",
    "query_to_df(query)"
   ]
  },
  {
   "cell_type": "markdown",
   "metadata": {
    "id": "kbpvgfACs5kS"
   },
   "source": [
    "Questions using IN operator<br>\n",
    "Use the accounts table to find the account name, primary_poc, and sales_rep_id for Walmart, Target, and Nordstrom."
   ]
  },
  {
   "cell_type": "code",
   "execution_count": 33,
   "metadata": {
    "colab": {
     "base_uri": "https://localhost:8080/",
     "height": 153
    },
    "id": "o3g9mANxtBfY",
    "outputId": "d2c95e5d-63bf-4640-a06a-3a03663f0214"
   },
   "outputs": [
    {
     "name": "stdout",
     "output_type": "stream",
     "text": [
      "Query ran for 0.008993864059448242 secs!\n"
     ]
    },
    {
     "data": {
      "text/html": [
       "<div>\n",
       "<style scoped>\n",
       "    .dataframe tbody tr th:only-of-type {\n",
       "        vertical-align: middle;\n",
       "    }\n",
       "\n",
       "    .dataframe tbody tr th {\n",
       "        vertical-align: top;\n",
       "    }\n",
       "\n",
       "    .dataframe thead th {\n",
       "        text-align: right;\n",
       "    }\n",
       "</style>\n",
       "<table border=\"1\" class=\"dataframe\">\n",
       "  <thead>\n",
       "    <tr style=\"text-align: right;\">\n",
       "      <th></th>\n",
       "      <th>name</th>\n",
       "      <th>primary_poc</th>\n",
       "      <th>sales_rep_id</th>\n",
       "    </tr>\n",
       "  </thead>\n",
       "  <tbody>\n",
       "    <tr>\n",
       "      <th>0</th>\n",
       "      <td>Walmart</td>\n",
       "      <td>Tamara Tuma</td>\n",
       "      <td>321500</td>\n",
       "    </tr>\n",
       "    <tr>\n",
       "      <th>1</th>\n",
       "      <td>Target</td>\n",
       "      <td>Luba Streett</td>\n",
       "      <td>321660</td>\n",
       "    </tr>\n",
       "    <tr>\n",
       "      <th>2</th>\n",
       "      <td>Nordstrom</td>\n",
       "      <td>Yan Crater</td>\n",
       "      <td>321820</td>\n",
       "    </tr>\n",
       "  </tbody>\n",
       "</table>\n",
       "</div>"
      ],
      "text/plain": [
       "        name   primary_poc  sales_rep_id\n",
       "0    Walmart   Tamara Tuma        321500\n",
       "1     Target  Luba Streett        321660\n",
       "2  Nordstrom    Yan Crater        321820"
      ]
     },
     "execution_count": 33,
     "metadata": {},
     "output_type": "execute_result"
    }
   ],
   "source": [
    "query = \"SELECT name, primary_poc, sales_rep_id FROM accounts \\\n",
    "        WHERE name IN ('Walmart', 'Target', 'Nordstrom');\"\n",
    "query_to_df(query)"
   ]
  },
  {
   "cell_type": "markdown",
   "metadata": {
    "id": "AaarlUI6uD2h"
   },
   "source": [
    "Use the web_events table to find all information regarding individuals who were contacted via the channel of organic or adwords."
   ]
  },
  {
   "cell_type": "code",
   "execution_count": 34,
   "metadata": {
    "colab": {
     "base_uri": "https://localhost:8080/",
     "height": 418
    },
    "id": "tYNkNHYsuQPV",
    "outputId": "9b914597-d8b9-46de-827a-8c50af5bb891"
   },
   "outputs": [
    {
     "name": "stdout",
     "output_type": "stream",
     "text": [
      "Query ran for 3.3963356018066406 secs!\n"
     ]
    },
    {
     "data": {
      "text/html": [
       "<div>\n",
       "<style scoped>\n",
       "    .dataframe tbody tr th:only-of-type {\n",
       "        vertical-align: middle;\n",
       "    }\n",
       "\n",
       "    .dataframe tbody tr th {\n",
       "        vertical-align: top;\n",
       "    }\n",
       "\n",
       "    .dataframe thead th {\n",
       "        text-align: right;\n",
       "    }\n",
       "</style>\n",
       "<table border=\"1\" class=\"dataframe\">\n",
       "  <thead>\n",
       "    <tr style=\"text-align: right;\">\n",
       "      <th></th>\n",
       "      <th>id</th>\n",
       "      <th>account_id</th>\n",
       "      <th>occurred_at</th>\n",
       "      <th>channel</th>\n",
       "    </tr>\n",
       "  </thead>\n",
       "  <tbody>\n",
       "    <tr>\n",
       "      <th>0</th>\n",
       "      <td>4395</td>\n",
       "      <td>1001</td>\n",
       "      <td>2015-10-22 05:02:47</td>\n",
       "      <td>organic</td>\n",
       "    </tr>\n",
       "    <tr>\n",
       "      <th>1</th>\n",
       "      <td>4396</td>\n",
       "      <td>1001</td>\n",
       "      <td>2015-10-22 14:04:20</td>\n",
       "      <td>adwords</td>\n",
       "    </tr>\n",
       "    <tr>\n",
       "      <th>2</th>\n",
       "      <td>4399</td>\n",
       "      <td>1001</td>\n",
       "      <td>2016-01-01 15:45:54</td>\n",
       "      <td>adwords</td>\n",
       "    </tr>\n",
       "    <tr>\n",
       "      <th>3</th>\n",
       "      <td>4401</td>\n",
       "      <td>1001</td>\n",
       "      <td>2016-02-07 17:44:10</td>\n",
       "      <td>adwords</td>\n",
       "    </tr>\n",
       "    <tr>\n",
       "      <th>4</th>\n",
       "      <td>4402</td>\n",
       "      <td>1001</td>\n",
       "      <td>2016-02-27 15:27:22</td>\n",
       "      <td>organic</td>\n",
       "    </tr>\n",
       "    <tr>\n",
       "      <th>...</th>\n",
       "      <td>...</td>\n",
       "      <td>...</td>\n",
       "      <td>...</td>\n",
       "      <td>...</td>\n",
       "    </tr>\n",
       "    <tr>\n",
       "      <th>1853</th>\n",
       "      <td>9064</td>\n",
       "      <td>4491</td>\n",
       "      <td>2016-05-06 05:03:27</td>\n",
       "      <td>adwords</td>\n",
       "    </tr>\n",
       "    <tr>\n",
       "      <th>1854</th>\n",
       "      <td>9065</td>\n",
       "      <td>4491</td>\n",
       "      <td>2016-06-17 19:43:12</td>\n",
       "      <td>adwords</td>\n",
       "    </tr>\n",
       "    <tr>\n",
       "      <th>1855</th>\n",
       "      <td>9071</td>\n",
       "      <td>4491</td>\n",
       "      <td>2016-11-06 07:23:45</td>\n",
       "      <td>organic</td>\n",
       "    </tr>\n",
       "    <tr>\n",
       "      <th>1856</th>\n",
       "      <td>9072</td>\n",
       "      <td>4491</td>\n",
       "      <td>2016-12-18 03:21:31</td>\n",
       "      <td>organic</td>\n",
       "    </tr>\n",
       "    <tr>\n",
       "      <th>1857</th>\n",
       "      <td>9073</td>\n",
       "      <td>4501</td>\n",
       "      <td>2016-05-30 00:46:53</td>\n",
       "      <td>organic</td>\n",
       "    </tr>\n",
       "  </tbody>\n",
       "</table>\n",
       "<p>1858 rows × 4 columns</p>\n",
       "</div>"
      ],
      "text/plain": [
       "        id  account_id         occurred_at  channel\n",
       "0     4395        1001 2015-10-22 05:02:47  organic\n",
       "1     4396        1001 2015-10-22 14:04:20  adwords\n",
       "2     4399        1001 2016-01-01 15:45:54  adwords\n",
       "3     4401        1001 2016-02-07 17:44:10  adwords\n",
       "4     4402        1001 2016-02-27 15:27:22  organic\n",
       "...    ...         ...                 ...      ...\n",
       "1853  9064        4491 2016-05-06 05:03:27  adwords\n",
       "1854  9065        4491 2016-06-17 19:43:12  adwords\n",
       "1855  9071        4491 2016-11-06 07:23:45  organic\n",
       "1856  9072        4491 2016-12-18 03:21:31  organic\n",
       "1857  9073        4501 2016-05-30 00:46:53  organic\n",
       "\n",
       "[1858 rows x 4 columns]"
      ]
     },
     "execution_count": 34,
     "metadata": {},
     "output_type": "execute_result"
    }
   ],
   "source": [
    "query = 'SELECT * FROM web_events WHERE channel IN (\"organic\", \"adwords\");'\n",
    "query_to_df(query)"
   ]
  },
  {
   "cell_type": "markdown",
   "metadata": {
    "id": "TqpcsEPPuEQh"
   },
   "source": [
    "Questions using the NOT operator:\n",
    "\n",
    "Use the accounts table to find the account name, primary poc, and sales rep id for all stores except Walmart, Target, and Nordstrom.\n"
   ]
  },
  {
   "cell_type": "code",
   "execution_count": 35,
   "metadata": {
    "colab": {
     "base_uri": "https://localhost:8080/",
     "height": 418
    },
    "id": "JjJy2nXZxSMz",
    "outputId": "e958455e-39ad-4203-909e-19f4c0294540"
   },
   "outputs": [
    {
     "name": "stdout",
     "output_type": "stream",
     "text": [
      "Query ran for 0.4866981506347656 secs!\n"
     ]
    },
    {
     "data": {
      "text/html": [
       "<div>\n",
       "<style scoped>\n",
       "    .dataframe tbody tr th:only-of-type {\n",
       "        vertical-align: middle;\n",
       "    }\n",
       "\n",
       "    .dataframe tbody tr th {\n",
       "        vertical-align: top;\n",
       "    }\n",
       "\n",
       "    .dataframe thead th {\n",
       "        text-align: right;\n",
       "    }\n",
       "</style>\n",
       "<table border=\"1\" class=\"dataframe\">\n",
       "  <thead>\n",
       "    <tr style=\"text-align: right;\">\n",
       "      <th></th>\n",
       "      <th>name</th>\n",
       "      <th>primary_poc</th>\n",
       "      <th>sales_rep_id</th>\n",
       "    </tr>\n",
       "  </thead>\n",
       "  <tbody>\n",
       "    <tr>\n",
       "      <th>0</th>\n",
       "      <td>Exxon Mobil</td>\n",
       "      <td>Sung Shields</td>\n",
       "      <td>321510</td>\n",
       "    </tr>\n",
       "    <tr>\n",
       "      <th>1</th>\n",
       "      <td>Apple</td>\n",
       "      <td>Jodee Lupo</td>\n",
       "      <td>321520</td>\n",
       "    </tr>\n",
       "    <tr>\n",
       "      <th>2</th>\n",
       "      <td>Berkshire Hathaway</td>\n",
       "      <td>Serafina Banda</td>\n",
       "      <td>321530</td>\n",
       "    </tr>\n",
       "    <tr>\n",
       "      <th>3</th>\n",
       "      <td>McKesson</td>\n",
       "      <td>Angeles Crusoe</td>\n",
       "      <td>321540</td>\n",
       "    </tr>\n",
       "    <tr>\n",
       "      <th>4</th>\n",
       "      <td>UnitedHealth Group</td>\n",
       "      <td>Savanna Gayman</td>\n",
       "      <td>321550</td>\n",
       "    </tr>\n",
       "    <tr>\n",
       "      <th>...</th>\n",
       "      <td>...</td>\n",
       "      <td>...</td>\n",
       "      <td>...</td>\n",
       "    </tr>\n",
       "    <tr>\n",
       "      <th>343</th>\n",
       "      <td>KKR</td>\n",
       "      <td>Buffy Azure</td>\n",
       "      <td>321970</td>\n",
       "    </tr>\n",
       "    <tr>\n",
       "      <th>344</th>\n",
       "      <td>Oneok</td>\n",
       "      <td>Esta Engelhardt</td>\n",
       "      <td>321960</td>\n",
       "    </tr>\n",
       "    <tr>\n",
       "      <th>345</th>\n",
       "      <td>Newmont Mining</td>\n",
       "      <td>Khadijah Riemann</td>\n",
       "      <td>321970</td>\n",
       "    </tr>\n",
       "    <tr>\n",
       "      <th>346</th>\n",
       "      <td>PPL</td>\n",
       "      <td>Deanne Hertlein</td>\n",
       "      <td>321960</td>\n",
       "    </tr>\n",
       "    <tr>\n",
       "      <th>347</th>\n",
       "      <td>SpartanNash</td>\n",
       "      <td>Jewell Likes</td>\n",
       "      <td>321970</td>\n",
       "    </tr>\n",
       "  </tbody>\n",
       "</table>\n",
       "<p>348 rows × 3 columns</p>\n",
       "</div>"
      ],
      "text/plain": [
       "                   name       primary_poc  sales_rep_id\n",
       "0           Exxon Mobil      Sung Shields        321510\n",
       "1                 Apple        Jodee Lupo        321520\n",
       "2    Berkshire Hathaway    Serafina Banda        321530\n",
       "3              McKesson    Angeles Crusoe        321540\n",
       "4    UnitedHealth Group    Savanna Gayman        321550\n",
       "..                  ...               ...           ...\n",
       "343                 KKR       Buffy Azure        321970\n",
       "344               Oneok   Esta Engelhardt        321960\n",
       "345      Newmont Mining  Khadijah Riemann        321970\n",
       "346                 PPL   Deanne Hertlein        321960\n",
       "347         SpartanNash      Jewell Likes        321970\n",
       "\n",
       "[348 rows x 3 columns]"
      ]
     },
     "execution_count": 35,
     "metadata": {},
     "output_type": "execute_result"
    }
   ],
   "source": [
    "query = \"SELECT name, primary_poc, sales_rep_id FROM accounts \\\n",
    "        WHERE name NOT IN ('Walmart', 'Target', 'Nordstrom');\"\n",
    "query_to_df(query)"
   ]
  },
  {
   "cell_type": "markdown",
   "metadata": {
    "id": "c7mD278k0KeN"
   },
   "source": [
    "Use the web_events table to find all information regarding individuals who were contacted via any method except using organic or adwords methods."
   ]
  },
  {
   "cell_type": "code",
   "execution_count": 36,
   "metadata": {
    "colab": {
     "base_uri": "https://localhost:8080/",
     "height": 418
    },
    "id": "6mjSFOyj0TBK",
    "outputId": "5cf0f90d-12ab-40f4-ac82-d09132bf5208"
   },
   "outputs": [
    {
     "name": "stdout",
     "output_type": "stream",
     "text": [
      "Query ran for 13.384142875671387 secs!\n"
     ]
    },
    {
     "data": {
      "text/html": [
       "<div>\n",
       "<style scoped>\n",
       "    .dataframe tbody tr th:only-of-type {\n",
       "        vertical-align: middle;\n",
       "    }\n",
       "\n",
       "    .dataframe tbody tr th {\n",
       "        vertical-align: top;\n",
       "    }\n",
       "\n",
       "    .dataframe thead th {\n",
       "        text-align: right;\n",
       "    }\n",
       "</style>\n",
       "<table border=\"1\" class=\"dataframe\">\n",
       "  <thead>\n",
       "    <tr style=\"text-align: right;\">\n",
       "      <th></th>\n",
       "      <th>id</th>\n",
       "      <th>account_id</th>\n",
       "      <th>occurred_at</th>\n",
       "      <th>channel</th>\n",
       "    </tr>\n",
       "  </thead>\n",
       "  <tbody>\n",
       "    <tr>\n",
       "      <th>0</th>\n",
       "      <td>1</td>\n",
       "      <td>1001</td>\n",
       "      <td>2015-10-06 17:13:58</td>\n",
       "      <td>direct</td>\n",
       "    </tr>\n",
       "    <tr>\n",
       "      <th>1</th>\n",
       "      <td>2</td>\n",
       "      <td>1001</td>\n",
       "      <td>2015-11-05 03:08:26</td>\n",
       "      <td>direct</td>\n",
       "    </tr>\n",
       "    <tr>\n",
       "      <th>2</th>\n",
       "      <td>3</td>\n",
       "      <td>1001</td>\n",
       "      <td>2015-12-04 03:57:24</td>\n",
       "      <td>direct</td>\n",
       "    </tr>\n",
       "    <tr>\n",
       "      <th>3</th>\n",
       "      <td>4</td>\n",
       "      <td>1001</td>\n",
       "      <td>2016-01-02 00:55:03</td>\n",
       "      <td>direct</td>\n",
       "    </tr>\n",
       "    <tr>\n",
       "      <th>4</th>\n",
       "      <td>5</td>\n",
       "      <td>1001</td>\n",
       "      <td>2016-02-01 19:02:33</td>\n",
       "      <td>direct</td>\n",
       "    </tr>\n",
       "    <tr>\n",
       "      <th>...</th>\n",
       "      <td>...</td>\n",
       "      <td>...</td>\n",
       "      <td>...</td>\n",
       "      <td>...</td>\n",
       "    </tr>\n",
       "    <tr>\n",
       "      <th>7210</th>\n",
       "      <td>9066</td>\n",
       "      <td>4491</td>\n",
       "      <td>2016-07-18 21:31:10</td>\n",
       "      <td>facebook</td>\n",
       "    </tr>\n",
       "    <tr>\n",
       "      <th>7211</th>\n",
       "      <td>9067</td>\n",
       "      <td>4491</td>\n",
       "      <td>2016-08-14 15:41:44</td>\n",
       "      <td>facebook</td>\n",
       "    </tr>\n",
       "    <tr>\n",
       "      <th>7212</th>\n",
       "      <td>9068</td>\n",
       "      <td>4491</td>\n",
       "      <td>2016-09-11 19:18:07</td>\n",
       "      <td>banner</td>\n",
       "    </tr>\n",
       "    <tr>\n",
       "      <th>7213</th>\n",
       "      <td>9069</td>\n",
       "      <td>4491</td>\n",
       "      <td>2016-10-04 15:43:29</td>\n",
       "      <td>facebook</td>\n",
       "    </tr>\n",
       "    <tr>\n",
       "      <th>7214</th>\n",
       "      <td>9070</td>\n",
       "      <td>4491</td>\n",
       "      <td>2016-10-04 23:42:41</td>\n",
       "      <td>twitter</td>\n",
       "    </tr>\n",
       "  </tbody>\n",
       "</table>\n",
       "<p>7215 rows × 4 columns</p>\n",
       "</div>"
      ],
      "text/plain": [
       "        id  account_id         occurred_at   channel\n",
       "0        1        1001 2015-10-06 17:13:58    direct\n",
       "1        2        1001 2015-11-05 03:08:26    direct\n",
       "2        3        1001 2015-12-04 03:57:24    direct\n",
       "3        4        1001 2016-01-02 00:55:03    direct\n",
       "4        5        1001 2016-02-01 19:02:33    direct\n",
       "...    ...         ...                 ...       ...\n",
       "7210  9066        4491 2016-07-18 21:31:10  facebook\n",
       "7211  9067        4491 2016-08-14 15:41:44  facebook\n",
       "7212  9068        4491 2016-09-11 19:18:07    banner\n",
       "7213  9069        4491 2016-10-04 15:43:29  facebook\n",
       "7214  9070        4491 2016-10-04 23:42:41   twitter\n",
       "\n",
       "[7215 rows x 4 columns]"
      ]
     },
     "execution_count": 36,
     "metadata": {},
     "output_type": "execute_result"
    }
   ],
   "source": [
    "query = 'SELECT * FROM web_events WHERE channel NOT IN (\"organic\", \"adwords\");'\n",
    "query_to_df(query)"
   ]
  },
  {
   "cell_type": "markdown",
   "metadata": {
    "id": "VoIKcNbw05-p"
   },
   "source": [
    "Use the accounts table to find, All the companies whose names do not start with 'C'."
   ]
  },
  {
   "cell_type": "code",
   "execution_count": 37,
   "metadata": {
    "colab": {
     "base_uri": "https://localhost:8080/",
     "height": 418
    },
    "id": "Z8Yazsls1Gno",
    "outputId": "0b949683-51fb-4413-a330-0ebce7d72c76"
   },
   "outputs": [
    {
     "name": "stdout",
     "output_type": "stream",
     "text": [
      "Query ran for 0.38675832748413086 secs!\n"
     ]
    },
    {
     "data": {
      "text/html": [
       "<div>\n",
       "<style scoped>\n",
       "    .dataframe tbody tr th:only-of-type {\n",
       "        vertical-align: middle;\n",
       "    }\n",
       "\n",
       "    .dataframe tbody tr th {\n",
       "        vertical-align: top;\n",
       "    }\n",
       "\n",
       "    .dataframe thead th {\n",
       "        text-align: right;\n",
       "    }\n",
       "</style>\n",
       "<table border=\"1\" class=\"dataframe\">\n",
       "  <thead>\n",
       "    <tr style=\"text-align: right;\">\n",
       "      <th></th>\n",
       "      <th>name</th>\n",
       "    </tr>\n",
       "  </thead>\n",
       "  <tbody>\n",
       "    <tr>\n",
       "      <th>0</th>\n",
       "      <td>Walmart</td>\n",
       "    </tr>\n",
       "    <tr>\n",
       "      <th>1</th>\n",
       "      <td>Exxon Mobil</td>\n",
       "    </tr>\n",
       "    <tr>\n",
       "      <th>2</th>\n",
       "      <td>Apple</td>\n",
       "    </tr>\n",
       "    <tr>\n",
       "      <th>3</th>\n",
       "      <td>Berkshire Hathaway</td>\n",
       "    </tr>\n",
       "    <tr>\n",
       "      <th>4</th>\n",
       "      <td>McKesson</td>\n",
       "    </tr>\n",
       "    <tr>\n",
       "      <th>...</th>\n",
       "      <td>...</td>\n",
       "    </tr>\n",
       "    <tr>\n",
       "      <th>309</th>\n",
       "      <td>KKR</td>\n",
       "    </tr>\n",
       "    <tr>\n",
       "      <th>310</th>\n",
       "      <td>Oneok</td>\n",
       "    </tr>\n",
       "    <tr>\n",
       "      <th>311</th>\n",
       "      <td>Newmont Mining</td>\n",
       "    </tr>\n",
       "    <tr>\n",
       "      <th>312</th>\n",
       "      <td>PPL</td>\n",
       "    </tr>\n",
       "    <tr>\n",
       "      <th>313</th>\n",
       "      <td>SpartanNash</td>\n",
       "    </tr>\n",
       "  </tbody>\n",
       "</table>\n",
       "<p>314 rows × 1 columns</p>\n",
       "</div>"
      ],
      "text/plain": [
       "                   name\n",
       "0               Walmart\n",
       "1           Exxon Mobil\n",
       "2                 Apple\n",
       "3    Berkshire Hathaway\n",
       "4              McKesson\n",
       "..                  ...\n",
       "309                 KKR\n",
       "310               Oneok\n",
       "311      Newmont Mining\n",
       "312                 PPL\n",
       "313         SpartanNash\n",
       "\n",
       "[314 rows x 1 columns]"
      ]
     },
     "execution_count": 37,
     "metadata": {},
     "output_type": "execute_result"
    }
   ],
   "source": [
    "query = 'SELECT name FROM accounts WHERE name NOT LIKE \"C%\";'\n",
    "query_to_df(query)"
   ]
  },
  {
   "cell_type": "markdown",
   "metadata": {
    "id": "-G4Ap3TS1tNx"
   },
   "source": [
    "All companies whose names do not contain the string 'one' somewhere in the name."
   ]
  },
  {
   "cell_type": "code",
   "execution_count": 38,
   "metadata": {
    "colab": {
     "base_uri": "https://localhost:8080/",
     "height": 418
    },
    "id": "cLym7_LF10qz",
    "outputId": "b66de7b2-f951-48ec-cb59-6955337c623e"
   },
   "outputs": [
    {
     "name": "stdout",
     "output_type": "stream",
     "text": [
      "Query ran for 0.33778834342956543 secs!\n"
     ]
    },
    {
     "data": {
      "text/html": [
       "<div>\n",
       "<style scoped>\n",
       "    .dataframe tbody tr th:only-of-type {\n",
       "        vertical-align: middle;\n",
       "    }\n",
       "\n",
       "    .dataframe tbody tr th {\n",
       "        vertical-align: top;\n",
       "    }\n",
       "\n",
       "    .dataframe thead th {\n",
       "        text-align: right;\n",
       "    }\n",
       "</style>\n",
       "<table border=\"1\" class=\"dataframe\">\n",
       "  <thead>\n",
       "    <tr style=\"text-align: right;\">\n",
       "      <th></th>\n",
       "      <th>name</th>\n",
       "    </tr>\n",
       "  </thead>\n",
       "  <tbody>\n",
       "    <tr>\n",
       "      <th>0</th>\n",
       "      <td>Walmart</td>\n",
       "    </tr>\n",
       "    <tr>\n",
       "      <th>1</th>\n",
       "      <td>Exxon Mobil</td>\n",
       "    </tr>\n",
       "    <tr>\n",
       "      <th>2</th>\n",
       "      <td>Apple</td>\n",
       "    </tr>\n",
       "    <tr>\n",
       "      <th>3</th>\n",
       "      <td>Berkshire Hathaway</td>\n",
       "    </tr>\n",
       "    <tr>\n",
       "      <th>4</th>\n",
       "      <td>McKesson</td>\n",
       "    </tr>\n",
       "    <tr>\n",
       "      <th>...</th>\n",
       "      <td>...</td>\n",
       "    </tr>\n",
       "    <tr>\n",
       "      <th>341</th>\n",
       "      <td>Lithia Motors</td>\n",
       "    </tr>\n",
       "    <tr>\n",
       "      <th>342</th>\n",
       "      <td>KKR</td>\n",
       "    </tr>\n",
       "    <tr>\n",
       "      <th>343</th>\n",
       "      <td>Newmont Mining</td>\n",
       "    </tr>\n",
       "    <tr>\n",
       "      <th>344</th>\n",
       "      <td>PPL</td>\n",
       "    </tr>\n",
       "    <tr>\n",
       "      <th>345</th>\n",
       "      <td>SpartanNash</td>\n",
       "    </tr>\n",
       "  </tbody>\n",
       "</table>\n",
       "<p>346 rows × 1 columns</p>\n",
       "</div>"
      ],
      "text/plain": [
       "                   name\n",
       "0               Walmart\n",
       "1           Exxon Mobil\n",
       "2                 Apple\n",
       "3    Berkshire Hathaway\n",
       "4              McKesson\n",
       "..                  ...\n",
       "341       Lithia Motors\n",
       "342                 KKR\n",
       "343      Newmont Mining\n",
       "344                 PPL\n",
       "345         SpartanNash\n",
       "\n",
       "[346 rows x 1 columns]"
      ]
     },
     "execution_count": 38,
     "metadata": {},
     "output_type": "execute_result"
    }
   ],
   "source": [
    "query = 'SELECT name FROM accounts WHERE name NOT LIKE \"%one%\";'\n",
    "query_to_df(query)"
   ]
  },
  {
   "cell_type": "markdown",
   "metadata": {
    "id": "k3uYtde32SG7"
   },
   "source": [
    "All companies whose names do not end with 's'."
   ]
  },
  {
   "cell_type": "code",
   "execution_count": 39,
   "metadata": {
    "colab": {
     "base_uri": "https://localhost:8080/",
     "height": 418
    },
    "id": "Q9kqeStU2Y8i",
    "outputId": "d210e2e3-9149-4814-c1de-25854c599b75"
   },
   "outputs": [
    {
     "name": "stdout",
     "output_type": "stream",
     "text": [
      "Query ran for 0.3227977752685547 secs!\n"
     ]
    },
    {
     "data": {
      "text/html": [
       "<div>\n",
       "<style scoped>\n",
       "    .dataframe tbody tr th:only-of-type {\n",
       "        vertical-align: middle;\n",
       "    }\n",
       "\n",
       "    .dataframe tbody tr th {\n",
       "        vertical-align: top;\n",
       "    }\n",
       "\n",
       "    .dataframe thead th {\n",
       "        text-align: right;\n",
       "    }\n",
       "</style>\n",
       "<table border=\"1\" class=\"dataframe\">\n",
       "  <thead>\n",
       "    <tr style=\"text-align: right;\">\n",
       "      <th></th>\n",
       "      <th>name</th>\n",
       "    </tr>\n",
       "  </thead>\n",
       "  <tbody>\n",
       "    <tr>\n",
       "      <th>0</th>\n",
       "      <td>Walmart</td>\n",
       "    </tr>\n",
       "    <tr>\n",
       "      <th>1</th>\n",
       "      <td>Exxon Mobil</td>\n",
       "    </tr>\n",
       "    <tr>\n",
       "      <th>2</th>\n",
       "      <td>Apple</td>\n",
       "    </tr>\n",
       "    <tr>\n",
       "      <th>3</th>\n",
       "      <td>Berkshire Hathaway</td>\n",
       "    </tr>\n",
       "    <tr>\n",
       "      <th>4</th>\n",
       "      <td>McKesson</td>\n",
       "    </tr>\n",
       "    <tr>\n",
       "      <th>...</th>\n",
       "      <td>...</td>\n",
       "    </tr>\n",
       "    <tr>\n",
       "      <th>265</th>\n",
       "      <td>KKR</td>\n",
       "    </tr>\n",
       "    <tr>\n",
       "      <th>266</th>\n",
       "      <td>Oneok</td>\n",
       "    </tr>\n",
       "    <tr>\n",
       "      <th>267</th>\n",
       "      <td>Newmont Mining</td>\n",
       "    </tr>\n",
       "    <tr>\n",
       "      <th>268</th>\n",
       "      <td>PPL</td>\n",
       "    </tr>\n",
       "    <tr>\n",
       "      <th>269</th>\n",
       "      <td>SpartanNash</td>\n",
       "    </tr>\n",
       "  </tbody>\n",
       "</table>\n",
       "<p>270 rows × 1 columns</p>\n",
       "</div>"
      ],
      "text/plain": [
       "                   name\n",
       "0               Walmart\n",
       "1           Exxon Mobil\n",
       "2                 Apple\n",
       "3    Berkshire Hathaway\n",
       "4              McKesson\n",
       "..                  ...\n",
       "265                 KKR\n",
       "266               Oneok\n",
       "267      Newmont Mining\n",
       "268                 PPL\n",
       "269         SpartanNash\n",
       "\n",
       "[270 rows x 1 columns]"
      ]
     },
     "execution_count": 39,
     "metadata": {},
     "output_type": "execute_result"
    }
   ],
   "source": [
    "query = 'SELECT name FROM accounts WHERE name NOT LIKE \"%s\";'\n",
    "query_to_df(query)"
   ]
  },
  {
   "cell_type": "markdown",
   "metadata": {
    "id": "32j5eUOlpCUy"
   },
   "source": [
    "**The AND Operator:**\n",
    "\n",
    "* The `AND` operator is used within a `WHERE` statement to consider more than one logical clause at a time\n",
    "* Each time you link a new statement with an `AND`, you will need to specify the column you are interested in looking at. You may link as many statements as you would like to consider at the same time.\n",
    "* This operator works with all of the operations we have seen so far including arithmetic operators `(+, *, -, /)`. `LIKE, IN`, and `NOT` logic can also be linked together using the `AND` operator.\n"
   ]
  },
  {
   "cell_type": "markdown",
   "metadata": {
    "id": "DCWsKkmyqobe"
   },
   "source": [
    "**The BETWEEN Operator:**\n",
    "\n",
    "* Sometimes we can make a cleaner statement using `BETWEEN` than we can using `AND`. Particularly this is true when we are using the same column for different parts of our `AND` statement.\n",
    "* Note that the endpoints of a `BETWEEN` operator query are inclusive. both start and end limits, included in the output.\n",
    "\n",
    "For example, statement 1 below is much better written as statement 2 below.\n",
    "\n",
    "1. `SELECT * FROM table WHERE column >= 6 AND column <= 10`\n",
    "2. `SELECT * FROM table WHERE column BETWEEN 6 AND 10`"
   ]
  },
  {
   "cell_type": "markdown",
   "metadata": {
    "id": "sYIOrL7rrqw8"
   },
   "source": [
    "<h2>Questions using AND and BETWEEN operators</h2>"
   ]
  },
  {
   "cell_type": "markdown",
   "metadata": {
    "id": "_SkGQhX1ru-G"
   },
   "source": [
    "Write a query that returns all the orders where the standard_qty is over 1000, the poster_qty is 0, and the gloss_qty is 0."
   ]
  },
  {
   "cell_type": "code",
   "execution_count": 40,
   "metadata": {
    "colab": {
     "base_uri": "https://localhost:8080/",
     "height": 123
    },
    "id": "LkV5W0pkr1W1",
    "outputId": "006904db-69a4-4759-a22b-626730d2d215"
   },
   "outputs": [
    {
     "name": "stdout",
     "output_type": "stream",
     "text": [
      "Query ran for 0.027980804443359375 secs!\n"
     ]
    },
    {
     "data": {
      "text/html": [
       "<div>\n",
       "<style scoped>\n",
       "    .dataframe tbody tr th:only-of-type {\n",
       "        vertical-align: middle;\n",
       "    }\n",
       "\n",
       "    .dataframe tbody tr th {\n",
       "        vertical-align: top;\n",
       "    }\n",
       "\n",
       "    .dataframe thead th {\n",
       "        text-align: right;\n",
       "    }\n",
       "</style>\n",
       "<table border=\"1\" class=\"dataframe\">\n",
       "  <thead>\n",
       "    <tr style=\"text-align: right;\">\n",
       "      <th></th>\n",
       "      <th>id</th>\n",
       "      <th>account_id</th>\n",
       "      <th>occurred_at</th>\n",
       "      <th>standard_qty</th>\n",
       "      <th>gloss_qty</th>\n",
       "      <th>poster_qty</th>\n",
       "      <th>total</th>\n",
       "      <th>standard_amt_usd</th>\n",
       "      <th>gloss_amt_usd</th>\n",
       "      <th>poster_amt_usd</th>\n",
       "      <th>total_amt_usd</th>\n",
       "    </tr>\n",
       "  </thead>\n",
       "  <tbody>\n",
       "    <tr>\n",
       "      <th>0</th>\n",
       "      <td>2613</td>\n",
       "      <td>2951</td>\n",
       "      <td>2016-08-15 00:06:12</td>\n",
       "      <td>1171</td>\n",
       "      <td>0</td>\n",
       "      <td>0</td>\n",
       "      <td>1171</td>\n",
       "      <td>5843.29</td>\n",
       "      <td>0.00</td>\n",
       "      <td>0.00</td>\n",
       "      <td>5843.29</td>\n",
       "    </tr>\n",
       "    <tr>\n",
       "      <th>1</th>\n",
       "      <td>3260</td>\n",
       "      <td>3491</td>\n",
       "      <td>2014-08-29 22:43:00</td>\n",
       "      <td>1552</td>\n",
       "      <td>0</td>\n",
       "      <td>0</td>\n",
       "      <td>1552</td>\n",
       "      <td>7744.48</td>\n",
       "      <td>0.00</td>\n",
       "      <td>0.00</td>\n",
       "      <td>7744.48</td>\n",
       "    </tr>\n",
       "  </tbody>\n",
       "</table>\n",
       "</div>"
      ],
      "text/plain": [
       "     id  account_id         occurred_at  standard_qty  gloss_qty  poster_qty  \\\n",
       "0  2613        2951 2016-08-15 00:06:12          1171          0           0   \n",
       "1  3260        3491 2014-08-29 22:43:00          1552          0           0   \n",
       "\n",
       "   total standard_amt_usd gloss_amt_usd poster_amt_usd total_amt_usd  \n",
       "0   1171          5843.29          0.00           0.00       5843.29  \n",
       "1   1552          7744.48          0.00           0.00       7744.48  "
      ]
     },
     "execution_count": 40,
     "metadata": {},
     "output_type": "execute_result"
    }
   ],
   "source": [
    "query = 'SELECT * FROM orders WHERE standard_qty > 1000 \\\n",
    "        AND poster_qty = 0 AND gloss_qty = 0;'\n",
    "query_to_df(query)"
   ]
  },
  {
   "cell_type": "markdown",
   "metadata": {
    "id": "6ASJibHFtYNe"
   },
   "source": [
    "Using the accounts table, find all the companies whose names do not start with 'C' and end with 's'."
   ]
  },
  {
   "cell_type": "code",
   "execution_count": 41,
   "metadata": {
    "colab": {
     "base_uri": "https://localhost:8080/",
     "height": 418
    },
    "id": "pWpNkPcntZf5",
    "outputId": "b4f04cd8-23e7-4034-90a9-9b84a0554c6c"
   },
   "outputs": [
    {
     "name": "stdout",
     "output_type": "stream",
     "text": [
      "Query ran for 0.06795644760131836 secs!\n"
     ]
    },
    {
     "data": {
      "text/html": [
       "<div>\n",
       "<style scoped>\n",
       "    .dataframe tbody tr th:only-of-type {\n",
       "        vertical-align: middle;\n",
       "    }\n",
       "\n",
       "    .dataframe tbody tr th {\n",
       "        vertical-align: top;\n",
       "    }\n",
       "\n",
       "    .dataframe thead th {\n",
       "        text-align: right;\n",
       "    }\n",
       "</style>\n",
       "<table border=\"1\" class=\"dataframe\">\n",
       "  <thead>\n",
       "    <tr style=\"text-align: right;\">\n",
       "      <th></th>\n",
       "      <th>name</th>\n",
       "    </tr>\n",
       "  </thead>\n",
       "  <tbody>\n",
       "    <tr>\n",
       "      <th>0</th>\n",
       "      <td>General Motors</td>\n",
       "    </tr>\n",
       "    <tr>\n",
       "      <th>1</th>\n",
       "      <td>United Technologies</td>\n",
       "    </tr>\n",
       "    <tr>\n",
       "      <th>2</th>\n",
       "      <td>Lowe's</td>\n",
       "    </tr>\n",
       "    <tr>\n",
       "      <th>3</th>\n",
       "      <td>UPS</td>\n",
       "    </tr>\n",
       "    <tr>\n",
       "      <th>4</th>\n",
       "      <td>HCA Holdings</td>\n",
       "    </tr>\n",
       "    <tr>\n",
       "      <th>...</th>\n",
       "      <td>...</td>\n",
       "    </tr>\n",
       "    <tr>\n",
       "      <th>64</th>\n",
       "      <td>United Natural Foods</td>\n",
       "    </tr>\n",
       "    <tr>\n",
       "      <th>65</th>\n",
       "      <td>Dean Foods</td>\n",
       "    </tr>\n",
       "    <tr>\n",
       "      <th>66</th>\n",
       "      <td>Mohawk Industries</td>\n",
       "    </tr>\n",
       "    <tr>\n",
       "      <th>67</th>\n",
       "      <td>Franklin Resources</td>\n",
       "    </tr>\n",
       "    <tr>\n",
       "      <th>68</th>\n",
       "      <td>Lithia Motors</td>\n",
       "    </tr>\n",
       "  </tbody>\n",
       "</table>\n",
       "<p>69 rows × 1 columns</p>\n",
       "</div>"
      ],
      "text/plain": [
       "                    name\n",
       "0         General Motors\n",
       "1    United Technologies\n",
       "2                 Lowe's\n",
       "3                    UPS\n",
       "4           HCA Holdings\n",
       "..                   ...\n",
       "64  United Natural Foods\n",
       "65            Dean Foods\n",
       "66     Mohawk Industries\n",
       "67    Franklin Resources\n",
       "68         Lithia Motors\n",
       "\n",
       "[69 rows x 1 columns]"
      ]
     },
     "execution_count": 41,
     "metadata": {},
     "output_type": "execute_result"
    }
   ],
   "source": [
    "query = 'SELECT name FROM accounts WHERE name NOT LIKE \"C%\" AND name LIKE \"%S\";'\n",
    "query_to_df(query)"
   ]
  },
  {
   "cell_type": "markdown",
   "metadata": {
    "id": "TPkPXD9WuRaG"
   },
   "source": [
    "When you use the BETWEEN operator in SQL, do the results include the values of your endpoints, or not? Figure out the answer to this important question by writing a query that displays the order date and gloss_qty data for all orders where gloss_qty is between 24 and 29. Then look at your output to see if the BETWEEN operator included the begin and end values or not.\n"
   ]
  },
  {
   "cell_type": "code",
   "execution_count": 42,
   "metadata": {
    "colab": {
     "base_uri": "https://localhost:8080/",
     "height": 418
    },
    "id": "BKRjdL-buue9",
    "outputId": "cbd8b4ce-1ae8-47a1-9c8e-bde725f7f877"
   },
   "outputs": [
    {
     "name": "stdout",
     "output_type": "stream",
     "text": [
      "Query ran for 0.752532958984375 secs!\n"
     ]
    },
    {
     "data": {
      "text/html": [
       "<div>\n",
       "<style scoped>\n",
       "    .dataframe tbody tr th:only-of-type {\n",
       "        vertical-align: middle;\n",
       "    }\n",
       "\n",
       "    .dataframe tbody tr th {\n",
       "        vertical-align: top;\n",
       "    }\n",
       "\n",
       "    .dataframe thead th {\n",
       "        text-align: right;\n",
       "    }\n",
       "</style>\n",
       "<table border=\"1\" class=\"dataframe\">\n",
       "  <thead>\n",
       "    <tr style=\"text-align: right;\">\n",
       "      <th></th>\n",
       "      <th>occurred_at</th>\n",
       "      <th>gloss_qty</th>\n",
       "    </tr>\n",
       "  </thead>\n",
       "  <tbody>\n",
       "    <tr>\n",
       "      <th>0</th>\n",
       "      <td>2016-02-01 19:27:27</td>\n",
       "      <td>29</td>\n",
       "    </tr>\n",
       "    <tr>\n",
       "      <th>1</th>\n",
       "      <td>2016-03-02 15:29:32</td>\n",
       "      <td>24</td>\n",
       "    </tr>\n",
       "    <tr>\n",
       "      <th>2</th>\n",
       "      <td>2016-10-14 23:54:21</td>\n",
       "      <td>28</td>\n",
       "    </tr>\n",
       "    <tr>\n",
       "      <th>3</th>\n",
       "      <td>2015-08-09 18:29:20</td>\n",
       "      <td>24</td>\n",
       "    </tr>\n",
       "    <tr>\n",
       "      <th>4</th>\n",
       "      <td>2016-02-01 20:00:37</td>\n",
       "      <td>26</td>\n",
       "    </tr>\n",
       "    <tr>\n",
       "      <th>...</th>\n",
       "      <td>...</td>\n",
       "      <td>...</td>\n",
       "    </tr>\n",
       "    <tr>\n",
       "      <th>479</th>\n",
       "      <td>2016-07-23 14:32:34</td>\n",
       "      <td>24</td>\n",
       "    </tr>\n",
       "    <tr>\n",
       "      <th>480</th>\n",
       "      <td>2014-06-26 04:12:30</td>\n",
       "      <td>24</td>\n",
       "    </tr>\n",
       "    <tr>\n",
       "      <th>481</th>\n",
       "      <td>2014-03-08 15:33:55</td>\n",
       "      <td>25</td>\n",
       "    </tr>\n",
       "    <tr>\n",
       "      <th>482</th>\n",
       "      <td>2014-03-09 07:21:16</td>\n",
       "      <td>27</td>\n",
       "    </tr>\n",
       "    <tr>\n",
       "      <th>483</th>\n",
       "      <td>2015-07-23 22:01:14</td>\n",
       "      <td>26</td>\n",
       "    </tr>\n",
       "  </tbody>\n",
       "</table>\n",
       "<p>484 rows × 2 columns</p>\n",
       "</div>"
      ],
      "text/plain": [
       "            occurred_at  gloss_qty\n",
       "0   2016-02-01 19:27:27         29\n",
       "1   2016-03-02 15:29:32         24\n",
       "2   2016-10-14 23:54:21         28\n",
       "3   2015-08-09 18:29:20         24\n",
       "4   2016-02-01 20:00:37         26\n",
       "..                  ...        ...\n",
       "479 2016-07-23 14:32:34         24\n",
       "480 2014-06-26 04:12:30         24\n",
       "481 2014-03-08 15:33:55         25\n",
       "482 2014-03-09 07:21:16         27\n",
       "483 2015-07-23 22:01:14         26\n",
       "\n",
       "[484 rows x 2 columns]"
      ]
     },
     "execution_count": 42,
     "metadata": {},
     "output_type": "execute_result"
    }
   ],
   "source": [
    "query = 'SELECT occurred_at, gloss_qty FROM orders WHERE gloss_qty BETWEEN 24 and 29;'\n",
    "query_to_df(query)"
   ]
  },
  {
   "cell_type": "markdown",
   "metadata": {
    "id": "CCGHOfTyv7iT"
   },
   "source": [
    "Use the web_events table to find all information regarding individuals who were contacted via the organic or adwords channels, and started their account at any point in 2016, sorted from newest to oldest."
   ]
  },
  {
   "cell_type": "code",
   "execution_count": 43,
   "metadata": {
    "colab": {
     "base_uri": "https://localhost:8080/",
     "height": 418
    },
    "id": "FCEhGpuFv9Pq",
    "outputId": "0f9ca404-77f1-473d-cde1-18324f75a94c"
   },
   "outputs": [
    {
     "name": "stdout",
     "output_type": "stream",
     "text": [
      "Query ran for 1.8768420219421387 secs!\n"
     ]
    },
    {
     "data": {
      "text/html": [
       "<div>\n",
       "<style scoped>\n",
       "    .dataframe tbody tr th:only-of-type {\n",
       "        vertical-align: middle;\n",
       "    }\n",
       "\n",
       "    .dataframe tbody tr th {\n",
       "        vertical-align: top;\n",
       "    }\n",
       "\n",
       "    .dataframe thead th {\n",
       "        text-align: right;\n",
       "    }\n",
       "</style>\n",
       "<table border=\"1\" class=\"dataframe\">\n",
       "  <thead>\n",
       "    <tr style=\"text-align: right;\">\n",
       "      <th></th>\n",
       "      <th>id</th>\n",
       "      <th>account_id</th>\n",
       "      <th>occurred_at</th>\n",
       "      <th>channel</th>\n",
       "    </tr>\n",
       "  </thead>\n",
       "  <tbody>\n",
       "    <tr>\n",
       "      <th>0</th>\n",
       "      <td>8493</td>\n",
       "      <td>4141</td>\n",
       "      <td>2016-12-31 16:31:23</td>\n",
       "      <td>organic</td>\n",
       "    </tr>\n",
       "    <tr>\n",
       "      <th>1</th>\n",
       "      <td>5661</td>\n",
       "      <td>1851</td>\n",
       "      <td>2016-12-31 06:55:38</td>\n",
       "      <td>organic</td>\n",
       "    </tr>\n",
       "    <tr>\n",
       "      <th>2</th>\n",
       "      <td>5562</td>\n",
       "      <td>1791</td>\n",
       "      <td>2016-12-31 02:08:50</td>\n",
       "      <td>adwords</td>\n",
       "    </tr>\n",
       "    <tr>\n",
       "      <th>3</th>\n",
       "      <td>7703</td>\n",
       "      <td>3351</td>\n",
       "      <td>2016-12-30 21:06:53</td>\n",
       "      <td>adwords</td>\n",
       "    </tr>\n",
       "    <tr>\n",
       "      <th>4</th>\n",
       "      <td>7921</td>\n",
       "      <td>3521</td>\n",
       "      <td>2016-12-30 20:15:48</td>\n",
       "      <td>organic</td>\n",
       "    </tr>\n",
       "    <tr>\n",
       "      <th>...</th>\n",
       "      <td>...</td>\n",
       "      <td>...</td>\n",
       "      <td>...</td>\n",
       "      <td>...</td>\n",
       "    </tr>\n",
       "    <tr>\n",
       "      <th>1020</th>\n",
       "      <td>7846</td>\n",
       "      <td>3471</td>\n",
       "      <td>2016-01-06 08:23:05</td>\n",
       "      <td>adwords</td>\n",
       "    </tr>\n",
       "    <tr>\n",
       "      <th>1021</th>\n",
       "      <td>6567</td>\n",
       "      <td>2541</td>\n",
       "      <td>2016-01-06 00:15:28</td>\n",
       "      <td>organic</td>\n",
       "    </tr>\n",
       "    <tr>\n",
       "      <th>1022</th>\n",
       "      <td>8775</td>\n",
       "      <td>4281</td>\n",
       "      <td>2016-01-04 22:51:01</td>\n",
       "      <td>adwords</td>\n",
       "    </tr>\n",
       "    <tr>\n",
       "      <th>1023</th>\n",
       "      <td>5581</td>\n",
       "      <td>1831</td>\n",
       "      <td>2016-01-02 21:27:39</td>\n",
       "      <td>organic</td>\n",
       "    </tr>\n",
       "    <tr>\n",
       "      <th>1024</th>\n",
       "      <td>4399</td>\n",
       "      <td>1001</td>\n",
       "      <td>2016-01-01 15:45:54</td>\n",
       "      <td>adwords</td>\n",
       "    </tr>\n",
       "  </tbody>\n",
       "</table>\n",
       "<p>1025 rows × 4 columns</p>\n",
       "</div>"
      ],
      "text/plain": [
       "        id  account_id         occurred_at  channel\n",
       "0     8493        4141 2016-12-31 16:31:23  organic\n",
       "1     5661        1851 2016-12-31 06:55:38  organic\n",
       "2     5562        1791 2016-12-31 02:08:50  adwords\n",
       "3     7703        3351 2016-12-30 21:06:53  adwords\n",
       "4     7921        3521 2016-12-30 20:15:48  organic\n",
       "...    ...         ...                 ...      ...\n",
       "1020  7846        3471 2016-01-06 08:23:05  adwords\n",
       "1021  6567        2541 2016-01-06 00:15:28  organic\n",
       "1022  8775        4281 2016-01-04 22:51:01  adwords\n",
       "1023  5581        1831 2016-01-02 21:27:39  organic\n",
       "1024  4399        1001 2016-01-01 15:45:54  adwords\n",
       "\n",
       "[1025 rows x 4 columns]"
      ]
     },
     "execution_count": 43,
     "metadata": {},
     "output_type": "execute_result"
    }
   ],
   "source": [
    "query = 'SELECT * FROM web_events WHERE channel IN (\"organic\", \"adwords\") \\\n",
    "        AND occurred_at between \"2016-01-01\" and \"2017-01-01\" ORDER BY occurred_at DESC;'\n",
    "\n",
    "query_to_df(query)"
   ]
  },
  {
   "cell_type": "markdown",
   "metadata": {
    "id": "j0UkP1YTz4XW"
   },
   "source": [
    "You will notice that using BETWEEN is tricky for dates! While BETWEEN is generally inclusive of endpoints, it assumes the time is at 00:00:00 (i.e. midnight) for dates. This is the reason why we set the right-side endpoint of the period at '2017-01-01'.\n"
   ]
  },
  {
   "cell_type": "markdown",
   "metadata": {
    "id": "-l4aG4pN02qL"
   },
   "source": [
    "**The OR Operator**\n",
    "\n",
    "* Similar to the `AND` operator, the `OR` operator can combine multiple statements.\n",
    "* Each time you link a new statement with an `OR`, you will need to specify the column you are interested in looking at, just like with `AND`.\n",
    "* You may link as many statements as you would like to consider at the same time.\n",
    "* This operator works with all of the operations we have seen so far including arithmetic operators `(+, *, -, /)`, `LIKE`, `IN`, `NOT`, `AND`, and `BETWEEN` logic can all be linked together using the `OR` operator.\n",
    "* When combining multiple of these operations, we frequently might need to use parentheses to ensure that logic we want to perform is being executed correctly."
   ]
  },
  {
   "cell_type": "markdown",
   "metadata": {
    "id": "IIiwhdnU5Cnw"
   },
   "source": [
    "<h3>Questions using the OR operator</h3>"
   ]
  },
  {
   "cell_type": "markdown",
   "metadata": {
    "id": "peRPBWCr5RTb"
   },
   "source": [
    "Find list of orders ids where either gloss_qty or poster_qty is greater than 4000. Only include the id field in the resulting table."
   ]
  },
  {
   "cell_type": "code",
   "execution_count": 44,
   "metadata": {
    "colab": {
     "base_uri": "https://localhost:8080/",
     "height": 478
    },
    "id": "2sDKcqhW5WyO",
    "outputId": "542a2847-eea3-40ef-deee-e94c78f3a991"
   },
   "outputs": [
    {
     "name": "stdout",
     "output_type": "stream",
     "text": [
      "Query ran for 0.026981592178344727 secs!\n"
     ]
    },
    {
     "data": {
      "text/html": [
       "<div>\n",
       "<style scoped>\n",
       "    .dataframe tbody tr th:only-of-type {\n",
       "        vertical-align: middle;\n",
       "    }\n",
       "\n",
       "    .dataframe tbody tr th {\n",
       "        vertical-align: top;\n",
       "    }\n",
       "\n",
       "    .dataframe thead th {\n",
       "        text-align: right;\n",
       "    }\n",
       "</style>\n",
       "<table border=\"1\" class=\"dataframe\">\n",
       "  <thead>\n",
       "    <tr style=\"text-align: right;\">\n",
       "      <th></th>\n",
       "      <th>id</th>\n",
       "    </tr>\n",
       "  </thead>\n",
       "  <tbody>\n",
       "    <tr>\n",
       "      <th>0</th>\n",
       "      <td>362</td>\n",
       "    </tr>\n",
       "    <tr>\n",
       "      <th>1</th>\n",
       "      <td>731</td>\n",
       "    </tr>\n",
       "    <tr>\n",
       "      <th>2</th>\n",
       "      <td>1191</td>\n",
       "    </tr>\n",
       "    <tr>\n",
       "      <th>3</th>\n",
       "      <td>1913</td>\n",
       "    </tr>\n",
       "    <tr>\n",
       "      <th>4</th>\n",
       "      <td>1939</td>\n",
       "    </tr>\n",
       "    <tr>\n",
       "      <th>5</th>\n",
       "      <td>3778</td>\n",
       "    </tr>\n",
       "    <tr>\n",
       "      <th>6</th>\n",
       "      <td>3858</td>\n",
       "    </tr>\n",
       "    <tr>\n",
       "      <th>7</th>\n",
       "      <td>3963</td>\n",
       "    </tr>\n",
       "    <tr>\n",
       "      <th>8</th>\n",
       "      <td>4016</td>\n",
       "    </tr>\n",
       "    <tr>\n",
       "      <th>9</th>\n",
       "      <td>4230</td>\n",
       "    </tr>\n",
       "    <tr>\n",
       "      <th>10</th>\n",
       "      <td>4698</td>\n",
       "    </tr>\n",
       "    <tr>\n",
       "      <th>11</th>\n",
       "      <td>4942</td>\n",
       "    </tr>\n",
       "    <tr>\n",
       "      <th>12</th>\n",
       "      <td>5791</td>\n",
       "    </tr>\n",
       "    <tr>\n",
       "      <th>13</th>\n",
       "      <td>6590</td>\n",
       "    </tr>\n",
       "  </tbody>\n",
       "</table>\n",
       "</div>"
      ],
      "text/plain": [
       "      id\n",
       "0    362\n",
       "1    731\n",
       "2   1191\n",
       "3   1913\n",
       "4   1939\n",
       "5   3778\n",
       "6   3858\n",
       "7   3963\n",
       "8   4016\n",
       "9   4230\n",
       "10  4698\n",
       "11  4942\n",
       "12  5791\n",
       "13  6590"
      ]
     },
     "execution_count": 44,
     "metadata": {},
     "output_type": "execute_result"
    }
   ],
   "source": [
    "query = 'SELECT id FROM orders WHERE gloss_qty > 4000 OR poster_qty > 4000;'\n",
    "\n",
    "query_to_df(query)"
   ]
  },
  {
   "cell_type": "markdown",
   "metadata": {
    "id": "ZNJUs6Ji6EKX"
   },
   "source": [
    "Write a query that returns a list of orders where the standard_qty is zero and either the gloss_qty or poster_qty is over 1000."
   ]
  },
  {
   "cell_type": "code",
   "execution_count": 45,
   "metadata": {
    "colab": {
     "base_uri": "https://localhost:8080/",
     "height": 567
    },
    "id": "76x-SYau6Ibt",
    "outputId": "2b0f294d-819f-4576-bfd4-7f1acad83086"
   },
   "outputs": [
    {
     "name": "stdout",
     "output_type": "stream",
     "text": [
      "Query ran for 0.07795166969299316 secs!\n"
     ]
    },
    {
     "data": {
      "text/html": [
       "<div>\n",
       "<style scoped>\n",
       "    .dataframe tbody tr th:only-of-type {\n",
       "        vertical-align: middle;\n",
       "    }\n",
       "\n",
       "    .dataframe tbody tr th {\n",
       "        vertical-align: top;\n",
       "    }\n",
       "\n",
       "    .dataframe thead th {\n",
       "        text-align: right;\n",
       "    }\n",
       "</style>\n",
       "<table border=\"1\" class=\"dataframe\">\n",
       "  <thead>\n",
       "    <tr style=\"text-align: right;\">\n",
       "      <th></th>\n",
       "      <th>id</th>\n",
       "      <th>account_id</th>\n",
       "      <th>occurred_at</th>\n",
       "      <th>standard_qty</th>\n",
       "      <th>gloss_qty</th>\n",
       "      <th>poster_qty</th>\n",
       "      <th>total</th>\n",
       "      <th>standard_amt_usd</th>\n",
       "      <th>gloss_amt_usd</th>\n",
       "      <th>poster_amt_usd</th>\n",
       "      <th>total_amt_usd</th>\n",
       "    </tr>\n",
       "  </thead>\n",
       "  <tbody>\n",
       "    <tr>\n",
       "      <th>0</th>\n",
       "      <td>1913</td>\n",
       "      <td>2461</td>\n",
       "      <td>2013-12-29 09:50:38</td>\n",
       "      <td>0</td>\n",
       "      <td>6450</td>\n",
       "      <td>45</td>\n",
       "      <td>6495</td>\n",
       "      <td>0.00</td>\n",
       "      <td>48310.50</td>\n",
       "      <td>365.40</td>\n",
       "      <td>48675.90</td>\n",
       "    </tr>\n",
       "    <tr>\n",
       "      <th>1</th>\n",
       "      <td>4369</td>\n",
       "      <td>1111</td>\n",
       "      <td>2015-11-15 17:47:46</td>\n",
       "      <td>0</td>\n",
       "      <td>486</td>\n",
       "      <td>2988</td>\n",
       "      <td>3474</td>\n",
       "      <td>0.00</td>\n",
       "      <td>3640.14</td>\n",
       "      <td>24262.56</td>\n",
       "      <td>27902.70</td>\n",
       "    </tr>\n",
       "    <tr>\n",
       "      <th>2</th>\n",
       "      <td>4391</td>\n",
       "      <td>1161</td>\n",
       "      <td>2016-06-04 08:58:10</td>\n",
       "      <td>0</td>\n",
       "      <td>106</td>\n",
       "      <td>2967</td>\n",
       "      <td>3073</td>\n",
       "      <td>0.00</td>\n",
       "      <td>793.94</td>\n",
       "      <td>24092.04</td>\n",
       "      <td>24885.98</td>\n",
       "    </tr>\n",
       "    <tr>\n",
       "      <th>3</th>\n",
       "      <td>4420</td>\n",
       "      <td>1191</td>\n",
       "      <td>2016-05-21 23:21:14</td>\n",
       "      <td>0</td>\n",
       "      <td>43</td>\n",
       "      <td>1448</td>\n",
       "      <td>1491</td>\n",
       "      <td>0.00</td>\n",
       "      <td>322.07</td>\n",
       "      <td>11757.76</td>\n",
       "      <td>12079.83</td>\n",
       "    </tr>\n",
       "    <tr>\n",
       "      <th>4</th>\n",
       "      <td>4448</td>\n",
       "      <td>1231</td>\n",
       "      <td>2016-06-25 12:27:15</td>\n",
       "      <td>0</td>\n",
       "      <td>3178</td>\n",
       "      <td>23</td>\n",
       "      <td>3201</td>\n",
       "      <td>0.00</td>\n",
       "      <td>23803.22</td>\n",
       "      <td>186.76</td>\n",
       "      <td>23989.98</td>\n",
       "    </tr>\n",
       "    <tr>\n",
       "      <th>5</th>\n",
       "      <td>4698</td>\n",
       "      <td>1451</td>\n",
       "      <td>2015-02-26 06:13:21</td>\n",
       "      <td>0</td>\n",
       "      <td>484</td>\n",
       "      <td>4901</td>\n",
       "      <td>5385</td>\n",
       "      <td>0.00</td>\n",
       "      <td>3625.16</td>\n",
       "      <td>39796.12</td>\n",
       "      <td>43421.28</td>\n",
       "    </tr>\n",
       "    <tr>\n",
       "      <th>6</th>\n",
       "      <td>4942</td>\n",
       "      <td>1701</td>\n",
       "      <td>2015-09-24 21:02:25</td>\n",
       "      <td>0</td>\n",
       "      <td>10744</td>\n",
       "      <td>95</td>\n",
       "      <td>10839</td>\n",
       "      <td>0.00</td>\n",
       "      <td>80472.56</td>\n",
       "      <td>771.40</td>\n",
       "      <td>81243.96</td>\n",
       "    </tr>\n",
       "    <tr>\n",
       "      <th>7</th>\n",
       "      <td>5032</td>\n",
       "      <td>1831</td>\n",
       "      <td>2016-05-26 17:48:19</td>\n",
       "      <td>0</td>\n",
       "      <td>1448</td>\n",
       "      <td>287</td>\n",
       "      <td>1735</td>\n",
       "      <td>0.00</td>\n",
       "      <td>10845.52</td>\n",
       "      <td>2330.44</td>\n",
       "      <td>13175.96</td>\n",
       "    </tr>\n",
       "    <tr>\n",
       "      <th>8</th>\n",
       "      <td>5191</td>\n",
       "      <td>2051</td>\n",
       "      <td>2015-05-17 14:17:59</td>\n",
       "      <td>0</td>\n",
       "      <td>1041</td>\n",
       "      <td>0</td>\n",
       "      <td>1041</td>\n",
       "      <td>0.00</td>\n",
       "      <td>7797.09</td>\n",
       "      <td>0.00</td>\n",
       "      <td>7797.09</td>\n",
       "    </tr>\n",
       "    <tr>\n",
       "      <th>9</th>\n",
       "      <td>5791</td>\n",
       "      <td>2861</td>\n",
       "      <td>2014-10-24 12:06:22</td>\n",
       "      <td>0</td>\n",
       "      <td>10</td>\n",
       "      <td>11691</td>\n",
       "      <td>11701</td>\n",
       "      <td>0.00</td>\n",
       "      <td>74.90</td>\n",
       "      <td>94930.92</td>\n",
       "      <td>95005.82</td>\n",
       "    </tr>\n",
       "    <tr>\n",
       "      <th>10</th>\n",
       "      <td>5805</td>\n",
       "      <td>2861</td>\n",
       "      <td>2016-09-29 04:51:11</td>\n",
       "      <td>0</td>\n",
       "      <td>60</td>\n",
       "      <td>3122</td>\n",
       "      <td>3182</td>\n",
       "      <td>0.00</td>\n",
       "      <td>449.40</td>\n",
       "      <td>25350.64</td>\n",
       "      <td>25800.04</td>\n",
       "    </tr>\n",
       "    <tr>\n",
       "      <th>11</th>\n",
       "      <td>5895</td>\n",
       "      <td>2931</td>\n",
       "      <td>2016-01-18 09:21:18</td>\n",
       "      <td>0</td>\n",
       "      <td>519</td>\n",
       "      <td>1315</td>\n",
       "      <td>1834</td>\n",
       "      <td>0.00</td>\n",
       "      <td>3887.31</td>\n",
       "      <td>10677.80</td>\n",
       "      <td>14565.11</td>\n",
       "    </tr>\n",
       "    <tr>\n",
       "      <th>12</th>\n",
       "      <td>5933</td>\n",
       "      <td>3001</td>\n",
       "      <td>2016-09-14 05:44:07</td>\n",
       "      <td>0</td>\n",
       "      <td>2802</td>\n",
       "      <td>63</td>\n",
       "      <td>2865</td>\n",
       "      <td>0.00</td>\n",
       "      <td>20986.98</td>\n",
       "      <td>511.56</td>\n",
       "      <td>21498.54</td>\n",
       "    </tr>\n",
       "    <tr>\n",
       "      <th>13</th>\n",
       "      <td>6007</td>\n",
       "      <td>3141</td>\n",
       "      <td>2013-12-08 20:13:49</td>\n",
       "      <td>0</td>\n",
       "      <td>49</td>\n",
       "      <td>1401</td>\n",
       "      <td>1450</td>\n",
       "      <td>0.00</td>\n",
       "      <td>367.01</td>\n",
       "      <td>11376.12</td>\n",
       "      <td>11743.13</td>\n",
       "    </tr>\n",
       "    <tr>\n",
       "      <th>14</th>\n",
       "      <td>6142</td>\n",
       "      <td>3341</td>\n",
       "      <td>2016-11-26 06:56:12</td>\n",
       "      <td>0</td>\n",
       "      <td>492</td>\n",
       "      <td>1947</td>\n",
       "      <td>2439</td>\n",
       "      <td>0.00</td>\n",
       "      <td>3685.08</td>\n",
       "      <td>15809.64</td>\n",
       "      <td>19494.72</td>\n",
       "    </tr>\n",
       "    <tr>\n",
       "      <th>15</th>\n",
       "      <td>6285</td>\n",
       "      <td>3491</td>\n",
       "      <td>2015-02-22 09:54:25</td>\n",
       "      <td>0</td>\n",
       "      <td>1246</td>\n",
       "      <td>0</td>\n",
       "      <td>1246</td>\n",
       "      <td>0.00</td>\n",
       "      <td>9332.54</td>\n",
       "      <td>0.00</td>\n",
       "      <td>9332.54</td>\n",
       "    </tr>\n",
       "    <tr>\n",
       "      <th>16</th>\n",
       "      <td>6332</td>\n",
       "      <td>3571</td>\n",
       "      <td>2016-09-18 15:30:41</td>\n",
       "      <td>0</td>\n",
       "      <td>51</td>\n",
       "      <td>1752</td>\n",
       "      <td>1803</td>\n",
       "      <td>0.00</td>\n",
       "      <td>381.99</td>\n",
       "      <td>14226.24</td>\n",
       "      <td>14608.23</td>\n",
       "    </tr>\n",
       "  </tbody>\n",
       "</table>\n",
       "</div>"
      ],
      "text/plain": [
       "      id  account_id         occurred_at  standard_qty  gloss_qty  poster_qty  \\\n",
       "0   1913        2461 2013-12-29 09:50:38             0       6450          45   \n",
       "1   4369        1111 2015-11-15 17:47:46             0        486        2988   \n",
       "2   4391        1161 2016-06-04 08:58:10             0        106        2967   \n",
       "3   4420        1191 2016-05-21 23:21:14             0         43        1448   \n",
       "4   4448        1231 2016-06-25 12:27:15             0       3178          23   \n",
       "5   4698        1451 2015-02-26 06:13:21             0        484        4901   \n",
       "6   4942        1701 2015-09-24 21:02:25             0      10744          95   \n",
       "7   5032        1831 2016-05-26 17:48:19             0       1448         287   \n",
       "8   5191        2051 2015-05-17 14:17:59             0       1041           0   \n",
       "9   5791        2861 2014-10-24 12:06:22             0         10       11691   \n",
       "10  5805        2861 2016-09-29 04:51:11             0         60        3122   \n",
       "11  5895        2931 2016-01-18 09:21:18             0        519        1315   \n",
       "12  5933        3001 2016-09-14 05:44:07             0       2802          63   \n",
       "13  6007        3141 2013-12-08 20:13:49             0         49        1401   \n",
       "14  6142        3341 2016-11-26 06:56:12             0        492        1947   \n",
       "15  6285        3491 2015-02-22 09:54:25             0       1246           0   \n",
       "16  6332        3571 2016-09-18 15:30:41             0         51        1752   \n",
       "\n",
       "    total standard_amt_usd gloss_amt_usd poster_amt_usd total_amt_usd  \n",
       "0    6495             0.00      48310.50         365.40      48675.90  \n",
       "1    3474             0.00       3640.14       24262.56      27902.70  \n",
       "2    3073             0.00        793.94       24092.04      24885.98  \n",
       "3    1491             0.00        322.07       11757.76      12079.83  \n",
       "4    3201             0.00      23803.22         186.76      23989.98  \n",
       "5    5385             0.00       3625.16       39796.12      43421.28  \n",
       "6   10839             0.00      80472.56         771.40      81243.96  \n",
       "7    1735             0.00      10845.52        2330.44      13175.96  \n",
       "8    1041             0.00       7797.09           0.00       7797.09  \n",
       "9   11701             0.00         74.90       94930.92      95005.82  \n",
       "10   3182             0.00        449.40       25350.64      25800.04  \n",
       "11   1834             0.00       3887.31       10677.80      14565.11  \n",
       "12   2865             0.00      20986.98         511.56      21498.54  \n",
       "13   1450             0.00        367.01       11376.12      11743.13  \n",
       "14   2439             0.00       3685.08       15809.64      19494.72  \n",
       "15   1246             0.00       9332.54           0.00       9332.54  \n",
       "16   1803             0.00        381.99       14226.24      14608.23  "
      ]
     },
     "execution_count": 45,
     "metadata": {},
     "output_type": "execute_result"
    }
   ],
   "source": [
    "query = 'SELECT * FROM orders WHERE standard_qty = 0 AND \\\n",
    "        (gloss_qty > 1000 OR poster_qty > 1000);'\n",
    "query_to_df(query)"
   ]
  },
  {
   "cell_type": "markdown",
   "metadata": {
    "id": "q54vQcbr80BI"
   },
   "source": [
    "Find all the company names that start with a 'C' or 'W', and the primary contact contains 'ana' or 'Ana', but it doesn't contain 'eana'.\n"
   ]
  },
  {
   "cell_type": "code",
   "execution_count": 46,
   "metadata": {
    "colab": {
     "base_uri": "https://localhost:8080/",
     "height": 123
    },
    "id": "-SQDaoqO81Gy",
    "outputId": "0ba33161-ec5d-4bc9-e0cb-9a487c82d3e6"
   },
   "outputs": [
    {
     "name": "stdout",
     "output_type": "stream",
     "text": [
      "Query ran for 0.010993719100952148 secs!\n"
     ]
    },
    {
     "data": {
      "text/html": [
       "<div>\n",
       "<style scoped>\n",
       "    .dataframe tbody tr th:only-of-type {\n",
       "        vertical-align: middle;\n",
       "    }\n",
       "\n",
       "    .dataframe tbody tr th {\n",
       "        vertical-align: top;\n",
       "    }\n",
       "\n",
       "    .dataframe thead th {\n",
       "        text-align: right;\n",
       "    }\n",
       "</style>\n",
       "<table border=\"1\" class=\"dataframe\">\n",
       "  <thead>\n",
       "    <tr style=\"text-align: right;\">\n",
       "      <th></th>\n",
       "      <th>id</th>\n",
       "      <th>name</th>\n",
       "      <th>website</th>\n",
       "      <th>lats</th>\n",
       "      <th>longs</th>\n",
       "      <th>primary_poc</th>\n",
       "      <th>sales_rep_id</th>\n",
       "    </tr>\n",
       "  </thead>\n",
       "  <tbody>\n",
       "    <tr>\n",
       "      <th>0</th>\n",
       "      <td>1061</td>\n",
       "      <td>CVS Health</td>\n",
       "      <td>www.cvshealth.com</td>\n",
       "      <td>41.46779585</td>\n",
       "      <td>-73.76763638</td>\n",
       "      <td>Anabel Haskell</td>\n",
       "      <td>321560</td>\n",
       "    </tr>\n",
       "    <tr>\n",
       "      <th>1</th>\n",
       "      <td>1361</td>\n",
       "      <td>Comcast</td>\n",
       "      <td>www.comcastcorporation.com</td>\n",
       "      <td>42.54154764</td>\n",
       "      <td>-76.24992387</td>\n",
       "      <td>Shana Sanborn</td>\n",
       "      <td>321650</td>\n",
       "    </tr>\n",
       "  </tbody>\n",
       "</table>\n",
       "</div>"
      ],
      "text/plain": [
       "     id        name                     website         lats         longs  \\\n",
       "0  1061  CVS Health           www.cvshealth.com  41.46779585  -73.76763638   \n",
       "1  1361     Comcast  www.comcastcorporation.com  42.54154764  -76.24992387   \n",
       "\n",
       "      primary_poc  sales_rep_id  \n",
       "0  Anabel Haskell        321560  \n",
       "1   Shana Sanborn        321650  "
      ]
     },
     "execution_count": 46,
     "metadata": {},
     "output_type": "execute_result"
    }
   ],
   "source": [
    "query = 'SELECT * FROM accounts WHERE \\\n",
    "        (name LIKE \"C%\" OR name LIKE \"W%\") AND \\\n",
    "        (primary_poc LIKE \"%ana%\" or primary_poc LIKE \"%Ana%\") AND\\\n",
    "        primary_poc NOT LIKE \"%eana%\";'\n",
    "\n",
    "query_to_df(query)"
   ]
  },
  {
   "cell_type": "code",
   "execution_count": 47,
   "metadata": {
    "colab": {
     "base_uri": "https://localhost:8080/"
    },
    "id": "ai4Mvns3WAa4",
    "outputId": "23bd5734-a557-4e07-b315-c298437d117c"
   },
   "outputs": [
    {
     "name": "stdout",
     "output_type": "stream",
     "text": [
      "MySQL connection is closed\n"
     ]
    }
   ],
   "source": [
    "# closing connection and cursor for the day\n",
    "\n",
    "if connection.is_connected():\n",
    "    cursor.close()\n",
    "    connection.close()\n",
    "    print(\"MySQL connection is closed\")"
   ]
  }
 ],
 "metadata": {
  "colab": {
   "authorship_tag": "ABX9TyObDZTPPuJu+cg4tOjbtxal",
   "collapsed_sections": [],
   "include_colab_link": true,
   "name": "sql_for_data_analysis1.ipynb",
   "provenance": []
  },
  "kernelspec": {
   "display_name": "Python 3",
   "language": "python",
   "name": "python3"
  },
  "language_info": {
   "codemirror_mode": {
    "name": "ipython",
    "version": 3
   },
   "file_extension": ".py",
   "mimetype": "text/x-python",
   "name": "python",
   "nbconvert_exporter": "python",
   "pygments_lexer": "ipython3",
   "version": "3.7.5"
  }
 },
 "nbformat": 4,
 "nbformat_minor": 1
}
