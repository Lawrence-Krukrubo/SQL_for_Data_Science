{
 "cells": [
  {
   "cell_type": "markdown",
   "metadata": {
    "colab_type": "text",
    "id": "view-in-github"
   },
   "source": [
    "<a href=\"https://colab.research.google.com/github/Lawrence-Krukrubo/SQL_for_Data_Science/blob/main/sql_for_data_analysis2.ipynb\" target=\"_parent\"><img src=\"https://colab.research.google.com/assets/colab-badge.svg\" alt=\"Open In Colab\"/></a>"
   ]
  },
  {
   "cell_type": "markdown",
   "metadata": {
    "id": "M1zBxAObDtDS"
   },
   "source": [
    "<b><h1>SQL Joins...</h1></b>"
   ]
  },
  {
   "cell_type": "markdown",
   "metadata": {
    "id": "gPxHPGvND7jd"
   },
   "source": [
    "We connect to MySQL server and workbench and make analysis with the parch-and-posey database.\n",
    "This course is the practicals of the course **SQL for Data Analysis** at Udacity."
   ]
  },
  {
   "cell_type": "code",
   "execution_count": null,
   "metadata": {
    "colab": {
     "base_uri": "https://localhost:8080/"
    },
    "id": "IaA9fMLMEKHv",
    "outputId": "d3d67dbe-4eb2-4d19-a288-54c3ef45d481"
   },
   "outputs": [],
   "source": [
    "# First we install mysql-connector-python\n",
    "\n",
    "!pip install mysql-connector-python"
   ]
  },
  {
   "cell_type": "code",
   "execution_count": null,
   "metadata": {
    "id": "Tw2zieazEOSV"
   },
   "outputs": [],
   "source": [
    "# we import some required libraries\n",
    "\n",
    "import pandas as pd\n",
    "import numpy as np\n",
    "import matplotlib.pyplot as plt\n",
    "import seaborn as sns\n",
    "from pprint import pprint\n",
    "import time\n",
    "print('Done!')"
   ]
  },
  {
   "cell_type": "markdown",
   "metadata": {},
   "source": [
    "**Next, we create a connection to the parch-and-posey DataBase in MySQL Work-Bench**"
   ]
  },
  {
   "cell_type": "code",
   "execution_count": null,
   "metadata": {
    "colab": {
     "base_uri": "https://localhost:8080/"
    },
    "id": "Cx50ZiGSERgl",
    "outputId": "41f165d3-47b6-4a3d-d2a2-86062260b731"
   },
   "outputs": [],
   "source": [
    "import mysql\n",
    "from mysql.connector import Error\n",
    "from getpass import getpass\n",
    "\n",
    "try:\n",
    "    connection = mysql.connector.connect(host='localhost',\n",
    "                                         database='parch_and_posey',\n",
    "                                         user=input('Enter UserName:'),\n",
    "                                         password=getpass('Enter Password:'))\n",
    "    if connection.is_connected():\n",
    "        db_Info = connection.get_server_info()\n",
    "        print(\"Connected to MySQL Server version \", db_Info)\n",
    "        cursor = connection.cursor()\n",
    "        cursor.execute(\"select database();\")\n",
    "        record = cursor.fetchone()\n",
    "        print(\"You're connected to database: \", record)\n",
    "\n",
    "except Error as e:\n",
    "    print(\"Error while connecting to MySQL\", e)"
   ]
  },
  {
   "cell_type": "markdown",
   "metadata": {
    "id": "5yD0W1GQEpE4"
   },
   "source": [
    "Let's see the first 3 data of the different tables in parch and posey database"
   ]
  },
  {
   "cell_type": "code",
   "execution_count": null,
   "metadata": {
    "colab": {
     "base_uri": "https://localhost:8080/"
    },
    "id": "lP8PdpO6Eh70",
    "outputId": "9fac4ed1-c277-47fb-b0fc-d5004b97e5f3"
   },
   "outputs": [],
   "source": [
    "# let's run the show tables command \n",
    "\n",
    "cursor.execute('show tables')\n",
    "out = cursor.fetchall()\n",
    "out"
   ]
  },
  {
   "cell_type": "markdown",
   "metadata": {
    "id": "q_nPZBX7EwHA"
   },
   "source": [
    "Defining a method that converts a select query to a data frame"
   ]
  },
  {
   "cell_type": "code",
   "execution_count": null,
   "metadata": {
    "id": "wRY-g2tCEwhK"
   },
   "outputs": [],
   "source": [
    "def query_to_df(query):\n",
    "    st = time.time()\n",
    "    # Assert Every Query ends with a semi-colon\n",
    "    try:\n",
    "        assert query.endswith(';')\n",
    "    except AssertionError:\n",
    "        return 'ERROR: Query Must End with ;'\n",
    "\n",
    "    # so we never have more than 20 rows displayed\n",
    "    pd.set_option('display.max_rows', 20) \n",
    "    df = None\n",
    "\n",
    "    # Process the query\n",
    "    cursor.execute(query)\n",
    "    columns = cursor.description\n",
    "    result = []\n",
    "    for value in cursor.fetchall():\n",
    "        tmp = {}\n",
    "        for (index,column) in enumerate(value):\n",
    "            tmp[columns[index][0]] = [column]\n",
    "        result.append(tmp)\n",
    "\n",
    "    # Create a DataFrame from all results\n",
    "    for ind, data in enumerate(result):\n",
    "        if ind >= 1:\n",
    "            x = pd.DataFrame(data)\n",
    "            df = pd.concat([df, x], ignore_index=True)\n",
    "        else:\n",
    "            df = pd.DataFrame(data)\n",
    "    print(f'Query ran for {time.time()-st} secs!')\n",
    "    return df"
   ]
  },
  {
   "cell_type": "code",
   "execution_count": null,
   "metadata": {
    "colab": {
     "base_uri": "https://localhost:8080/",
     "height": 153
    },
    "id": "e1bQ19RJE5RC",
    "outputId": "7229d1fb-cb7c-478a-8ebd-a027429ff900"
   },
   "outputs": [],
   "source": [
    "# 1. For the accounts table\n",
    "query = 'SELECT * FROM accounts LIMIT 3;'\n",
    "query_to_df(query)"
   ]
  },
  {
   "cell_type": "code",
   "execution_count": null,
   "metadata": {
    "colab": {
     "base_uri": "https://localhost:8080/",
     "height": 153
    },
    "id": "j3_lGCA7T7sl",
    "outputId": "f1f24e8b-fb6c-4592-fa8a-b8246258b3d1"
   },
   "outputs": [],
   "source": [
    "# 2. For the orders table\n",
    "query = 'SELECT * FROM orders LIMIT 3;'\n",
    "query_to_df(query)"
   ]
  },
  {
   "cell_type": "code",
   "execution_count": null,
   "metadata": {
    "colab": {
     "base_uri": "https://localhost:8080/",
     "height": 153
    },
    "id": "Gy7eSUcwUGIs",
    "outputId": "b3db5b93-bb95-4859-f5e9-a64c6759ed50"
   },
   "outputs": [],
   "source": [
    "# 3. For the region table\n",
    "query = 'SELECT * FROM region LIMIT 3;'\n",
    "query_to_df(query)"
   ]
  },
  {
   "cell_type": "code",
   "execution_count": null,
   "metadata": {
    "colab": {
     "base_uri": "https://localhost:8080/",
     "height": 153
    },
    "id": "pFDxWu5yUSmT",
    "outputId": "80e77c66-fb01-4bf1-e08b-697e835c6587"
   },
   "outputs": [],
   "source": [
    "# 4. For the web_events table\n",
    "query = 'SELECT * FROM web_events LIMIT 3;'\n",
    "query_to_df(query)"
   ]
  },
  {
   "cell_type": "code",
   "execution_count": null,
   "metadata": {
    "colab": {
     "base_uri": "https://localhost:8080/",
     "height": 153
    },
    "id": "5aNCeIMBlVhb",
    "outputId": "82348546-7c71-4829-d776-7c714069cd70"
   },
   "outputs": [],
   "source": [
    "# 5. For the sales_reps table\n",
    "query = 'SELECT * FROM sales_reps LIMIT 3;'\n",
    "query_to_df(query)"
   ]
  },
  {
   "cell_type": "markdown",
   "metadata": {
    "id": "TbRaFCrIU250"
   },
   "source": [
    "<h3>Overview</h3>\n",
    "\n",
    "Writing Joins is the real strength and magic of SQL. Joins are used to read data from multiple tables to power your analysis."
   ]
  },
  {
   "cell_type": "markdown",
   "metadata": {
    "id": "IERmXh1XflLj"
   },
   "source": [
    "<h3>Database Normalization</h3>\n",
    "\n",
    "When creating a database, it is really important to think about how data will be stored. This is known as normalization, and it is a huge part of most SQL classes. If you are in charge of setting up a new database, it is important to have a thorough understanding of database normalization.\n",
    "\n",
    "There are essentially three ideas that are aimed at database normalization:\n",
    "\n",
    "* Are the tables storing logical groupings of the data?\n",
    "* Can I make changes in a single location, rather than in many tables for the same information?\n",
    "* Can I access and manipulate data quickly and efficiently?\n",
    "This is discussed in detail [here](https://www.itprotoday.com/sql-server/sql-design-why-you-need-database-normalization)."
   ]
  },
  {
   "cell_type": "markdown",
   "metadata": {
    "id": "JXcMIlpcgZcI"
   },
   "source": [
    "<h3><b>Joins</b></h3>\n",
    "\n",
    "The whole purpose of `JOIN` statements is to allow us to pull data from more than one table at a time.\n",
    "\n",
    "Again - `JOINs` are useful for allowing us to pull data from multiple tables. This is both simple and powerful all at the same time.\n",
    "\n",
    "With the addition of the `JOIN` statement to our toolkit, we will also be adding the `ON` statement.\n",
    "\n",
    "We use `ON` clause to specify a `JOIN` condition which is a logical statement to combine the table in `FROM` and `JOIN` statements."
   ]
  },
  {
   "cell_type": "markdown",
   "metadata": {
    "id": "2n7dlv3fhNI3"
   },
   "source": [
    "<h3>Join Statement Analysis</h3>\n",
    "\n",
    "```\n",
    "SELECT orders.*\n",
    "FROM orders\n",
    "JOIN accounts\n",
    "ON orders.account_id = accounts.id;\n",
    "```\n",
    "The `SELECT` clause indicates which column(s) of data you'd like to see in the output (For Example, orders.* gives us all the columns in orders table in the output). The `FROM` clause indicates the first table from which we're pulling data, and the `JOIN` indicates the second table. The `ON` clause specifies the column on which you'd like to merge the two tables together."
   ]
  },
  {
   "cell_type": "code",
   "execution_count": null,
   "metadata": {
    "colab": {
     "base_uri": "https://localhost:8080/",
     "height": 418
    },
    "id": "LHPfEORVVDvN",
    "outputId": "d51fda60-a788-46cb-d64b-702e8e6f2752"
   },
   "outputs": [],
   "source": [
    "query = 'SELECT orders.* FROM orders JOIN accounts \\\n",
    "        ON orders.account_id = accounts.id;'\n",
    "\n",
    "query_to_df(query)"
   ]
  },
  {
   "cell_type": "markdown",
   "metadata": {
    "id": "GeesnhIfjlCq"
   },
   "source": [
    "**What to Notice**\n",
    "\n",
    "We are able to pull data from two tables:\n",
    "\n",
    "* orders\n",
    "* accounts\n",
    "\n",
    "Above, we are only pulling data from the orders table since in the `SELECT` statement we only reference columns from the orders table.\n",
    "\n",
    "The `ON` statement holds the two columns that get linked across the two tables. \n",
    "\n",
    "**Additional Information**\n",
    "\n",
    "If we wanted to only pull individual elements from either the orders or accounts table, we can do this by using the exact same information in the `FROM` and `ON` statements. However, in your `SELECT` statement, you will need to know how to specify tables and columns in the `SELECT` statement:\n",
    "\n",
    "The table name is always before the period.<br>\n",
    "The column you want from that table is always after the period.\n",
    "For example, if we want to pull only the account name and the dates in which that account placed an order, but none of the other columns, we can do this with the following query:\n",
    "\n",
    "```\n",
    "SELECT accounts.name, orders.occurred_at\n",
    "FROM orders\n",
    "JOIN accounts\n",
    "ON orders.account_id = accounts.id;\n",
    "```"
   ]
  },
  {
   "cell_type": "code",
   "execution_count": null,
   "metadata": {
    "colab": {
     "base_uri": "https://localhost:8080/",
     "height": 418
    },
    "id": "_mAs_Jgmh8HS",
    "outputId": "55e74dc2-5ebc-4243-cc8d-6c8e7e0871db"
   },
   "outputs": [],
   "source": [
    "query = 'SELECT accounts.name, orders.occurred_at FROM orders JOIN accounts ON \\\n",
    "        orders.account_id = accounts.id;'\n",
    "query_to_df(query)"
   ]
  },
  {
   "cell_type": "markdown",
   "metadata": {
    "id": "q0SBdVddlUtN"
   },
   "source": [
    "This query only pulls two columns, not all the information in these two tables. Alternatively, the below query pulls all the columns from both the accounts and orders table.\n",
    "\n",
    "```\n",
    "SELECT *\n",
    "FROM orders\n",
    "JOIN accounts\n",
    "ON orders.account_id = accounts.id;\n",
    "```"
   ]
  },
  {
   "cell_type": "code",
   "execution_count": null,
   "metadata": {
    "colab": {
     "base_uri": "https://localhost:8080/",
     "height": 606
    },
    "id": "cchCGINVlXci",
    "outputId": "463f9e9f-7c7a-4259-d3fe-8fe428e2c237"
   },
   "outputs": [],
   "source": [
    "query = 'SELECT * FROM orders JOIN accounts ON orders.account_id = accounts.id;'\n",
    "query_to_df(query)"
   ]
  },
  {
   "cell_type": "markdown",
   "metadata": {
    "id": "9zzr8n5fnSdk"
   },
   "source": [
    "**Quiz Questions**\n",
    "\n",
    "1. Try pulling all the data from the accounts table, and all the data from the orders table.\n",
    "\n",
    "2. Try pulling standard_qty, gloss_qty, and poster_qty from the orders table, and the website and the primary_poc from the accounts table."
   ]
  },
  {
   "cell_type": "code",
   "execution_count": null,
   "metadata": {
    "colab": {
     "base_uri": "https://localhost:8080/",
     "height": 606
    },
    "id": "TqRckXlUnWzB",
    "outputId": "c5a11314-cb44-4a90-96d2-a7f8c23d1a1d"
   },
   "outputs": [],
   "source": [
    "# Try pulling all the data from the accounts table, and all the data from the orders table.\n",
    "\n",
    "query = 'SELECT * FROM accounts JOIN orders ON accounts.id = orders.account_id;'\n",
    "query_to_df(query)"
   ]
  },
  {
   "cell_type": "markdown",
   "metadata": {
    "id": "DWkxu2XLrdDj"
   },
   "source": [
    "Another way to select all columns from the two above tables is...\n",
    "\n",
    "```\n",
    "query = \"\"\"SELECT orders.*, accounts.*\n",
    "FROM accounts\n",
    "JOIN orders\n",
    "ON accounts.id = orders.account_id;\"\"\"\n",
    "\n",
    "query_to_df(query)\n",
    "```"
   ]
  },
  {
   "cell_type": "markdown",
   "metadata": {
    "id": "IqDy0fZkr9Mb"
   },
   "source": [
    "Notice this result is the same as if you switched the tables in the `FROM` and `JOIN`. <br>Additionally, which side of the `=` a column is listed doesn't matter.\n",
    "\n",
    "Personally, I think it makes sense to keep it uniform... <br>Meaning make the table at the left side of the `=` be the first table selected, while that at the right side be the second table."
   ]
  },
  {
   "cell_type": "code",
   "execution_count": null,
   "metadata": {
    "colab": {
     "base_uri": "https://localhost:8080/",
     "height": 418
    },
    "id": "f8c10qcwpg72",
    "outputId": "32a86e2e-65c9-4aaa-cbfe-a9bfc7e35fe5"
   },
   "outputs": [],
   "source": [
    "# Try pulling standard_qty, gloss_qty, and poster_qty from the orders table, \n",
    "# and the website and the primary_poc from the accounts table.\n",
    "\n",
    "query = 'SELECT orders.standard_qty, orders.gloss_qty, orders.poster_qty, \\\n",
    "        accounts.website, accounts.primary_poc FROM orders JOIN accounts ON \\\n",
    "        orders.account_id = accounts.id;'\n",
    "\n",
    "query_to_df(query)"
   ]
  },
  {
   "cell_type": "markdown",
   "metadata": {
    "id": "WdpkXJj7ihQO"
   },
   "source": [
    "<h3>Entity Relationship Diagrams:</h3>\n",
    "\n",
    "From the last lesson, you might remember that an entity relationship diagram (ERD) is a common way to view data in a database. It is also a key element to understanding how we can pull data from multiple tables.\n",
    "\n",
    "It will be beneficial to have an idea of what the ERD looks like for Parch & Posey handy,\n",
    "\n",
    "<img src='https://video.udacity-data.com/topher/2017/October/59e946e7_erd/erd.png'>"
   ]
  },
  {
   "cell_type": "markdown",
   "metadata": {
    "id": "NEiOZbiijzjj"
   },
   "source": [
    "**Tables & Columns**\n",
    "\n",
    "In the Parch & Posey database there are 5 tables:\n",
    "\n",
    "* web_events\n",
    "* accounts\n",
    "* orders\n",
    "* sales_reps\n",
    "* region\n",
    "\n",
    "You will notice some of the columns in the tables have PK or FK next to the column name, while other columns don't have a label at all.\n",
    "\n",
    "If you look a little closer, you might notice that the PK is associated with the first column in every table. The PK here stands for primary key. A primary key exists in every table, and it is a column that has a unique value for every row.\n",
    "\n",
    "If you look at the first few rows of any of the tables in our database, you will notice that this first, PK, column is always unique. For this database it is always called id, but that is not true of all databases."
   ]
  },
  {
   "cell_type": "markdown",
   "metadata": {
    "id": "srrMSTjkmonb"
   },
   "source": [
    "<h4>Keys</h4>\n",
    "\n",
    "**Primary Key (PK):**\n",
    "\n",
    "A primary key is a unique column in a particular table. This is the first column in each of our tables. Here, those columns are all called id, but that doesn't necessarily have to be the name. It is common that the primary key is the first column in our tables in most databases.\n",
    "\n",
    "**Foreign Key (FK):**\n",
    "\n",
    "A foreign key is a column in one table that is a primary key in a different table. We can see in the Parch & Posey ERD that the foreign keys are:\n",
    "\n",
    "* region_id\n",
    "* account_id\n",
    "* sales_rep_id\n",
    "\n",
    "Each of these is linked to the primary key of another table. An example is shown in the image below:<br>**Note that a table can have multiple foreign-keys, but one primary-key**\n",
    "\n",
    "<img src='https://video.udacity-data.com/topher/2017/August/598d2378_screen-shot-2017-08-10-at-8.23.48-pm/screen-shot-2017-08-10-at-8.23.48-pm.png'>"
   ]
  },
  {
   "cell_type": "markdown",
   "metadata": {
    "id": "VWlOIa2fnp75"
   },
   "source": [
    "<h4>Primary - Foreign Key Link</h4>\n",
    "\n",
    "In the above image you can see that:\n",
    "\n",
    "* The `region_id` is the foreign key.\n",
    "* The `region_id` is linked to `id` - this is the **primary-foreign key link** that connects these two tables.\n",
    "* The crow's foot shows that the FK can actually appear in many rows in the sales_reps table.\n",
    "* While the single line tells us that the PK id appears only once for each row in the region table.\n",
    "* If you look through the rest of the database, you will notice this is always the case for a primary-foreign key relationship. In the next concept, you can make sure you have this down!\n",
    "\n"
   ]
  },
  {
   "cell_type": "markdown",
   "metadata": {
    "id": "bCUwfCQHt6zE"
   },
   "source": [
    "<h4>JOIN Revisited</h4>\n",
    "\n",
    "Let's look back at the first JOIN we wrote.\n",
    "\n",
    "```\n",
    "SELECT orders.*\n",
    "FROM orders\n",
    "JOIN accounts\n",
    "ON orders.account_id = accounts.id;\n",
    "```\n",
    "\n",
    "Here is the ERD for these two tables:\n",
    "\n",
    "\n",
    "<img src='https://video.udacity-data.com/topher/2017/August/598dfda7_screen-shot-2017-08-11-at-11.54.30-am/screen-shot-2017-08-11-at-11.54.30-am.png'>\n",
    "\n",
    "**Notice**\n",
    "\n",
    "Notice our SQL query has the two tables we would like to join - one in the `FROM` and the other in the `JOIN`. Then in the `ON`, we will ALWAYs have the PK equal to the FK:\n",
    "\n",
    "The way we join any two tables is in this way: linking the PK and FK (generally in an `ON` statement)."
   ]
  },
  {
   "cell_type": "markdown",
   "metadata": {
    "id": "8NqDzoD2vU_-"
   },
   "source": [
    "<h4>JOIN More than Two Tables</h4>\n",
    "\n",
    "This same logic can actually assist in joining more than two tables together. Look at the three tables below.\n",
    "\n",
    "<img src='https://video.udacity-data.com/topher/2017/August/598e2e15_screen-shot-2017-08-11-at-3.21.34-pm/screen-shot-2017-08-11-at-3.21.34-pm.png'>"
   ]
  },
  {
   "cell_type": "markdown",
   "metadata": {
    "id": "Hsc_bCS40iM4"
   },
   "source": [
    "**The Code**\n",
    "\n",
    "If we wanted to join all three of these tables, we could use the same logic. The code below pulls all of the data from all of the joined tables.\n",
    "\n",
    "```\n",
    "SELECT *\n",
    "FROM web_events\n",
    "JOIN accounts\n",
    "ON web_events.account_id = accounts.id\n",
    "JOIN orders\n",
    "ON accounts.id = orders.account_id\n",
    "```"
   ]
  },
  {
   "cell_type": "markdown",
   "metadata": {
    "id": "hcBGoHBz787a"
   },
   "source": [
    "Alternatively, we can create a `SELECT` statement that could pull specific columns from any of the three tables. <br>Again, our `JOIN` holds a table, and `ON` is a link for our PK to equal the FK.\n",
    "\n",
    "To pull specific columns, the `SELECT` statement will need to specify the table that you are wishing to pull the column from, as well as the column name."
   ]
  },
  {
   "cell_type": "markdown",
   "metadata": {
    "id": "VgfHARYX9ZS2"
   },
   "source": [
    "<h3>Alias:</h3>\n",
    "\n",
    "When we `JOIN` tables together, it is nice to give each table an alias. Frequently an alias is just the first letter of the table name. You actually saw something similar for column names in the Arithmetic Operators concept.\n",
    "\n",
    "Example:\n",
    "\n",
    "```\n",
    "FROM tablename AS t1\n",
    "JOIN tablename2 AS t2\n",
    "```\n",
    "\n",
    "Frequently, you might also see these statements without the `AS` statement. Each of the above could be written in the following way instead, and they would still produce the exact same results:\n",
    "\n",
    "```\n",
    "FROM tablename t1\n",
    "JOIN tablename2 t2\n",
    "```\n",
    "\n",
    "and\n",
    "\n",
    "```\n",
    "SELECT col1 + col2 total, col3\n",
    "```\n",
    "\n"
   ]
  },
  {
   "cell_type": "markdown",
   "metadata": {
    "id": "DRdPtMNH-lH2"
   },
   "source": [
    "<h3>Aliases for Columns in Resulting Table</h3>\n",
    "\n",
    "While aliasing tables is the most common use case. It can also be used to alias the columns selected to have the resulting table reflect a more readable name.\n",
    "\n",
    "Example:\n",
    "\n",
    "```\n",
    "Select t1.column1 aliasname, t2.column2 aliasname2\n",
    "FROM tablename AS t1\n",
    "JOIN tablename2 AS t2\n",
    "```\n",
    "\n",
    "The alias name fields will be what shows up in the returned table instead of t1.column1 and t2.column2\n",
    "\n",
    "```\n",
    "aliasname\taliasname2\n",
    "example row\texample row\n",
    "example row\texample row\n",
    "```"
   ]
  },
  {
   "cell_type": "markdown",
   "metadata": {
    "id": "fsPKt6M5_h-f"
   },
   "source": [
    "<h4>Questions</h4>\n",
    "\n",
    "1. Provide a table for all web_events associated with account name of Walmart. There should be three columns. Be sure to include the primary_poc, time of the event, and the channel for each event. Additionally, you might choose to add a fourth column to assure only Walmart events were chosen.\n",
    "\n",
    "2. Provide a table that provides the region for each sales_rep along with their associated accounts. Your final table should include three columns: the region name, the sales rep name, and the account name. Sort the accounts alphabetically (A-Z) according to account name.\n",
    "\n",
    "3. Provide the name for each region for every order, as well as the account name and the unit price they paid (total_amt_usd/total) for the order. Your final table should have 3 columns: region name, account name, and unit price. A few accounts have 0 for total, so I divided by (total + 0.01) to assure not dividing by zero."
   ]
  },
  {
   "cell_type": "code",
   "execution_count": null,
   "metadata": {
    "colab": {
     "base_uri": "https://localhost:8080/",
     "height": 153
    },
    "id": "OlyAxx_MVN1K",
    "outputId": "6a4795d8-31a8-4a85-fc6f-e29ff339a384"
   },
   "outputs": [],
   "source": [
    "# 1. For the sales_reps table\n",
    "query = 'SELECT * FROM sales_reps LIMIT 3;'\n",
    "query_to_df(query)"
   ]
  },
  {
   "cell_type": "code",
   "execution_count": null,
   "metadata": {
    "colab": {
     "base_uri": "https://localhost:8080/",
     "height": 153
    },
    "id": "nrEu7Tv9L9S1",
    "outputId": "5c269bf0-e7d4-46fe-e619-aeca99f56611"
   },
   "outputs": [],
   "source": [
    "# 1. For the orders table\n",
    "query = 'SELECT * FROM orders LIMIT 3;'\n",
    "query_to_df(query)"
   ]
  },
  {
   "cell_type": "code",
   "execution_count": null,
   "metadata": {
    "colab": {
     "base_uri": "https://localhost:8080/",
     "height": 153
    },
    "id": "vDo_dnjKAvqS",
    "outputId": "f1ce420b-1f94-495b-f432-c0163a83c597"
   },
   "outputs": [],
   "source": [
    "# 2. For the accounts table\n",
    "query = 'SELECT * FROM accounts LIMIT 3;'\n",
    "query_to_df(query)"
   ]
  },
  {
   "cell_type": "code",
   "execution_count": null,
   "metadata": {
    "colab": {
     "base_uri": "https://localhost:8080/",
     "height": 153
    },
    "id": "A-Z3G19CAopR",
    "outputId": "d985e6af-7d56-4158-e7a3-89dfb68d60ec"
   },
   "outputs": [],
   "source": [
    "# 1. For the region table\n",
    "query = 'SELECT * FROM region LIMIT 3;'\n",
    "query_to_df(query)"
   ]
  },
  {
   "cell_type": "code",
   "execution_count": null,
   "metadata": {
    "colab": {
     "base_uri": "https://localhost:8080/",
     "height": 153
    },
    "id": "Zt0BHTosWIGP",
    "outputId": "901f2440-cd27-4a78-c15a-3cc684c3d12b"
   },
   "outputs": [],
   "source": [
    "# 1. For the web_events table\n",
    "query = 'SELECT * FROM web_events LIMIT 3;'\n",
    "query_to_df(query)"
   ]
  },
  {
   "cell_type": "markdown",
   "metadata": {
    "id": "yYplWvT3ESvq"
   },
   "source": [
    "Provide a table for all web_events associated with account name of Walmart. There should be three columns. Be sure to include the primary_poc, time of the event, and the channel for each event. Additionally, you might choose to add a fourth column to assure only Walmart events were chosen."
   ]
  },
  {
   "cell_type": "code",
   "execution_count": null,
   "metadata": {
    "colab": {
     "base_uri": "https://localhost:8080/",
     "height": 418
    },
    "id": "IKv30RZMiu4u",
    "outputId": "2f0edbfe-270e-483a-f7b2-57594b41e88e"
   },
   "outputs": [],
   "source": [
    "query = 'SELECT accounts.primary_poc, web_events.occurred_at, web_events.channel,\\\n",
    "        accounts.name FROM accounts JOIN web_events ON \\\n",
    "        accounts.id = web_events.account_id WHERE accounts.name LIKE \"Walmart%\";'\n",
    "query_to_df(query)"
   ]
  },
  {
   "cell_type": "markdown",
   "metadata": {
    "id": "PySifF6-Ep6v"
   },
   "source": [
    "Provide a table that provides the region for each sales_rep along with their associated accounts. Your final table should include three columns: the region name, the sales rep name, and the account name. Sort the accounts alphabetically (A-Z) according to account name."
   ]
  },
  {
   "cell_type": "code",
   "execution_count": null,
   "metadata": {
    "colab": {
     "base_uri": "https://localhost:8080/",
     "height": 35
    },
    "id": "82YUvP72G0gT",
    "outputId": "df6b8b4b-d6f8-4bd4-f9f2-88e0e9d6e47c"
   },
   "outputs": [],
   "source": [
    "query_to_df(\n",
    "    \"SELECT r.name region, s.name sales_rep, a.name account \\\n",
    "    FROM region r JOIN sales_reps s ON r.id = s.region_id \\\n",
    "    JOIN accounts a ON a.sales_rep_id = s.id ORDER BY a.name;\"\n",
    ")"
   ]
  },
  {
   "cell_type": "markdown",
   "metadata": {
    "id": "H-GVUWJCFFOh"
   },
   "source": [
    "Provide the name for each region for every order, as well as the account name and the unit price they paid (total_amt_usd/total) for the order. Your final table should have 3 columns: region name, account name, and unit price. A few accounts have 0 for total, so I divided by (total + 0.01) to assure not dividing by zero."
   ]
  },
  {
   "cell_type": "code",
   "execution_count": null,
   "metadata": {
    "colab": {
     "base_uri": "https://localhost:8080/",
     "height": 35
    },
    "id": "NPEVXYqMQLEs",
    "outputId": "ff074b88-cccd-469d-af81-a7e75412e68e"
   },
   "outputs": [],
   "source": [
    "query_to_df(\n",
    "    \"SELECT r.name region_name, a.name acct_name, \\\n",
    "    (o.total_amt_usd / (o.total+0.01)) unit_price \\\n",
    "    FROM region r JOIN sales_reps s ON r.id = s.region_id\\\n",
    "    JOIN accounts a ON a.sales_rep_id = s.id\\\n",
    "    JOIN orders o ON o.account_id = a.id;\"\n",
    ")"
   ]
  },
  {
   "cell_type": "markdown",
   "metadata": {
    "id": "w9yOcAYLsSCC"
   },
   "source": [
    "<h3>Inner, Left, Right, Outer Joins</h3>\n",
    "\n",
    "**JOINs**\n",
    "\n",
    "The INNER JOIN, which we saw by just using JOIN,\n",
    "\n",
    "Fro the right and left joins,\n",
    "If there is not matching information in the JOINed table, then you will have columns with empty cells. These empty cells introduce a new data type called NULL. You will learn about NULLs in detail in the next lesson, but for now you have a quick introduction as you can consider any cell without data as NULL."
   ]
  },
  {
   "cell_type": "markdown",
   "metadata": {
    "id": "ZQD4YrlJtLk5"
   },
   "source": [
    "<h3>JOIN Check In</h3>\n",
    "\n",
    "**INNER JOINs** \n",
    "\n",
    "Notice every JOIN we have done up to this point has been an `INNER JOIN`. That is, we have always pulled rows only if they exist as a match across two tables.\n",
    "\n",
    "Our new JOINs allow us to pull rows that might only exist in one of the two tables. This will introduce a new data type called NULL. This data type will be discussed in detail in the next lesson.\n",
    "\n",
    "**Quick Note**\n",
    "\n",
    "You might see the SQL syntax of\n",
    "\n",
    "`LEFT OUTER JOIN`\n",
    "OR\n",
    "\n",
    "`RIGHT OUTER JOIN`\n",
    "\n",
    "These are the exact same commands as the `LEFT JOIN` and `RIGHT JOIN` we learned about in the previous video.\n",
    "\n",
    "**OUTER JOINS**\n",
    "\n",
    "The last type of join is a `full outer join`. This will return the `inner join` result set, as well as any unmatched rows from either of the two tables being joined.\n",
    "\n",
    "Again this returns rows that do not match one another from the two tables. The use cases for a `full outer join` are very rare.\n",
    "\n",
    "You can see examples of outer joins at the link [here](http://www.w3resource.com/sql/joins/perform-a-full-outer-join.php) and a description of the rare use cases here. We will not spend time on these given the few instances you might need to use them.\n",
    "\n",
    "Similar to the above, you might see the language `FULL OUTER JOIN`, which is the same as `OUTER JOIN`."
   ]
  },
  {
   "cell_type": "markdown",
   "metadata": {
    "id": "N3gEL203u3Ll"
   },
   "source": [
    "<h3><b>Facts</b></h3>\n",
    "\n",
    "1. A `LEFT JOIN` and `RIGHT JOIN` do the same thing if we change the tables that are in the `FROM` and `JOIN` statements.\n",
    "\n",
    "2. A `LEFT JOIN` will at least return all the rows that are in an `INNER JOIN`.\n",
    "\n",
    "3. `JOIN` and `INNER JOIN` are the same.\n",
    "\n",
    "4. A `LEFT OUTER JOIN` is the same as `LEFT JOIN`.\n",
    "\n"
   ]
  },
  {
   "cell_type": "markdown",
   "metadata": {
    "id": "4KOFNI_qbUva"
   },
   "source": [
    "<b><h3>Tip:</h3></b>\n",
    "\n",
    "If you have two or more columns in your SELECT that have the same name after the table name such as accounts.name and sales_reps.name you will need to alias them. Otherwise it will only show one of the columns. You can alias them like accounts.name AS AcountName, sales_rep.name AS SalesRepName"
   ]
  },
  {
   "cell_type": "markdown",
   "metadata": {
    "id": "y3yJlK4Mcz3d"
   },
   "source": [
    "<h3>Q1</h3>\n",
    "\n",
    "Provide a table that provides the region for each sales_rep along with their associated accounts. This time only for the Midwest region. Your final table should include three columns: the region name, the sales rep name, and the account name. Sort the accounts alphabetically (A-Z) according to account name."
   ]
  },
  {
   "cell_type": "code",
   "execution_count": null,
   "metadata": {
    "colab": {
     "base_uri": "https://localhost:8080/",
     "height": 418
    },
    "id": "p8NEQ4krc5wN",
    "outputId": "ccc9138b-9af7-4533-d0b2-85bd7be57eff"
   },
   "outputs": [],
   "source": [
    "query = 'SELECT r.name region, s.name sales_rep, a.name acct \\\n",
    "        FROM region r JOIN sales_reps s ON r.id = s.region_id \\\n",
    "        AND r.name LIKE \"Midwest%\" JOIN accounts a on \\\n",
    "        a.sales_rep_id = s.id ORDER BY a.name;'\n",
    "\n",
    "query_to_df(query)"
   ]
  },
  {
   "cell_type": "markdown",
   "metadata": {
    "id": "ZSNDRuC0lCMO"
   },
   "source": [
    "<h3>Q2</h3>\n",
    "\n",
    "Provide a table that provides the region for each sales_rep along with their associated accounts. This time only for accounts where the sales rep has a first name starting with S and in the Midwest region. Your final table should include three columns: the region name, the sales rep name, and the account name. Sort the accounts alphabetically (A-Z) according to account name."
   ]
  },
  {
   "cell_type": "code",
   "execution_count": null,
   "metadata": {
    "colab": {
     "base_uri": "https://localhost:8080/",
     "height": 212
    },
    "id": "W4FO5rFBlF1K",
    "outputId": "7f9a112e-226b-4aba-ff1c-94fc2afc3490"
   },
   "outputs": [],
   "source": [
    "query = 'SELECT r.name region_, s.name sales_rep, a.name acct FROM region r \\\n",
    "         JOIN sales_reps s ON r.id = s.region_id AND s.name LIKE \"S%\" AND \\\n",
    "         r.name LIKE \"Midwest%\" JOIN accounts a ON a.sales_rep_id = s.id \\\n",
    "         ORDER BY a.name;'\n",
    "\n",
    "query_to_df(query)"
   ]
  },
  {
   "cell_type": "markdown",
   "metadata": {
    "id": "G5OUaMsjnwdA"
   },
   "source": [
    "<h3>Q3</h3>\n",
    "\n",
    "Provide a table that provides the region for each sales_rep along with their associated accounts. This time only for accounts where the sales rep has a last name starting with K and in the Midwest region. Your final table should include three columns: the region name, the sales rep name, and the account name. Sort the accounts alphabetically (A-Z) according to account name."
   ]
  },
  {
   "cell_type": "code",
   "execution_count": null,
   "metadata": {
    "colab": {
     "base_uri": "https://localhost:8080/",
     "height": 449
    },
    "id": "r-kNM7e9n0Eu",
    "outputId": "3377f867-e0b9-4201-85d1-f967377409cf"
   },
   "outputs": [],
   "source": [
    "query = 'SELECT r.name region, s.name sales_rep, a.name acct FROM region r \\\n",
    "         JOIN sales_reps s ON r.id = s.region_id AND s.name LIKE \"% K%\" AND \\\n",
    "         r.name LIKE \"Midwest\" JOIN accounts a ON a.sales_rep_id = s.id \\\n",
    "        ORDER BY a.name;'\n",
    "\n",
    "query_to_df(query)"
   ]
  },
  {
   "cell_type": "markdown",
   "metadata": {
    "id": "sKOE2RkoqIfu"
   },
   "source": [
    "<h3>Q4</h3>\n",
    "\n",
    "Provide the name for each region for every order, as well as the account name and the unit price they paid (total_amt_usd/total) for the order. However, you should only provide the results if the standard order quantity exceeds 100. Your final table should have 3 columns: region name, account name, and unit price. In order to avoid a division by zero error, adding .01 to the denominator here is helpful total_amt_usd/(total+0.01)."
   ]
  },
  {
   "cell_type": "code",
   "execution_count": null,
   "metadata": {
    "colab": {
     "base_uri": "https://localhost:8080/",
     "height": 418
    },
    "id": "FoMiyi5-qHwB",
    "outputId": "98ec4ce2-4085-457b-9fd8-ad36d57980b1"
   },
   "outputs": [],
   "source": [
    "query = 'SELECT r.name region, a.name acct, (o.total_amt_usd / (o.total+0.001)) \\\n",
    "        unit_price FROM region r JOIN sales_reps s ON r.id = s.region_id JOIN \\\n",
    "        accounts a ON a.sales_rep_id = s.id JOIN orders o ON a.id = o.account_id \\\n",
    "        AND o.standard_qty > 100;'\n",
    "query_to_df(query)"
   ]
  },
  {
   "cell_type": "markdown",
   "metadata": {
    "id": "zY4f4GeVqtwF"
   },
   "source": [
    "<h3>Q5</h3>Provide the name for each region for every order, as well as the account name and the unit price they paid (total_amt_usd/total) for the order. However, you should only provide the results if the standard order quantity exceeds 100 and the poster order quantity exceeds 50. Your final table should have 3 columns: region name, account name, and unit price. Sort for the smallest unit price first. In order to avoid a division by zero error, adding .01 to the denominator here is helpful (total_amt_usd/(total+0.01)."
   ]
  },
  {
   "cell_type": "code",
   "execution_count": null,
   "metadata": {
    "colab": {
     "base_uri": "https://localhost:8080/",
     "height": 418
    },
    "id": "3beR56ojqy1d",
    "outputId": "4958bd37-3526-4854-f188-37660e631bfe"
   },
   "outputs": [],
   "source": [
    "query = 'SELECT r.name region_name, a.name acct_name, (o.total_amt_usd/(total+0.001)) \\\n",
    "         unit_price FROM region r JOIN sales_reps s ON r.id = s.region_id JOIN accounts a ON \\\n",
    "         s.id = a.sales_rep_id JOIN orders o ON o.account_id = a.id WHERE \\\n",
    "         o.standard_qty > 100 AND o.poster_qty > 50 ORDER BY unit_price;'\n",
    "\n",
    "query_to_df(query)"
   ]
  },
  {
   "cell_type": "markdown",
   "metadata": {
    "id": "19dzCIGGhiGH"
   },
   "source": [
    "### Q6\n",
    "\n",
    "Provide the name for each region for every order, as well as the account name and the unit price they paid (total_amt_usd/total) for the order. However, you should only provide the results if the standard order quantity exceeds 100 and the poster order quantity exceeds 50. Your final table should have 3 columns: region name, account name, and unit price. Sort for the largest unit price first. In order to avoid a division by zero error, adding .01 to the denominator here is helpful (total_amt_usd/(total+0.01)."
   ]
  },
  {
   "cell_type": "code",
   "execution_count": null,
   "metadata": {
    "colab": {
     "base_uri": "https://localhost:8080/",
     "height": 418
    },
    "id": "BKd1KnNOhmtr",
    "outputId": "cbcf7fd0-407f-4f56-c81c-92ad0559e4b1"
   },
   "outputs": [],
   "source": [
    "query = 'SELECT r.name region_name, a.name acct_name, (o.total_amt_usd/(o.total+0.001)) \\\n",
    "        unit_price FROM region r JOIN sales_reps s ON r.id = s.region_id JOIN accounts a \\\n",
    "        ON a.sales_rep_id = s.id JOIN orders o ON o.account_id = a.id WHERE \\\n",
    "        o.standard_qty > 100 AND o.poster_qty > 50 ORDER BY unit_price Desc;'\n",
    "\n",
    "query_to_df(query)"
   ]
  },
  {
   "cell_type": "markdown",
   "metadata": {
    "id": "AHQaXd4Nj0fc"
   },
   "source": [
    "### Q7\n",
    "\n",
    "What are the different channels used by account id 1001? Your final table should have only 2 columns: account name and the different channels. You can try SELECT DISTINCT to narrow down the results to only the unique values."
   ]
  },
  {
   "cell_type": "code",
   "execution_count": null,
   "metadata": {
    "colab": {
     "base_uri": "https://localhost:8080/",
     "height": 242
    },
    "id": "2TcSJ_xsj2fO",
    "outputId": "c92118f0-b9fb-4d99-87df-227adec1c3f1"
   },
   "outputs": [],
   "source": [
    "query = 'SELECT DISTINCT a.name acct_name, w.channel channels FROM accounts a \\\n",
    "        JOIN web_events w ON w.account_id = a.id WHERE a.id = 1001;'\n",
    "\n",
    "query_to_df(query)"
   ]
  },
  {
   "cell_type": "markdown",
   "metadata": {
    "id": "twusN22Nzkl9"
   },
   "source": [
    "### Q8\n",
    "\n",
    "Find all the orders that occurred in 2015. Your final table should have 4 columns: occurred_at, account name, order total, and order total_amt_usd."
   ]
  },
  {
   "cell_type": "code",
   "execution_count": null,
   "metadata": {
    "colab": {
     "base_uri": "https://localhost:8080/",
     "height": 418
    },
    "id": "rVlIgsTMzxRy",
    "outputId": "c7974e53-77b4-4ec5-ed39-bc80f99fcc4b"
   },
   "outputs": [],
   "source": [
    "query = 'SELECT o.occurred_at occurred_at, a.name acct_name, o.total total_qty, \\\n",
    "         o.total_amt_usd total_usd FROM orders o JOIN accounts a ON a.id = \\\n",
    "         o.account_id WHERE occurred_at LIKE \"%2015%\" ORDER BY occurred_at DESC;'\n",
    "\n",
    "query_to_df(query)"
   ]
  },
  {
   "cell_type": "markdown",
   "metadata": {
    "id": "c6Le6wswl6WR"
   },
   "source": [
    "### Q9\n",
    "\n",
    "What are the different channels used by account id 1001? Sort by the count of most frequently used channel descending. Your query should return 4 columns:- account-name, account-id, channels, count."
   ]
  },
  {
   "cell_type": "code",
   "execution_count": null,
   "metadata": {
    "colab": {
     "base_uri": "https://localhost:8080/",
     "height": 242
    },
    "id": "SGraeTo3mNdf",
    "outputId": "f49757be-c7b8-4cee-8f5b-a7eb18156c33"
   },
   "outputs": [],
   "source": [
    "query = 'SELECT DISTINCT a.name acct_name, a.id acct_id, w.channel channels, \\\n",
    "         COUNT(w.channel) count FROM web_events w JOIN accounts a ON a.id = \\\n",
    "         w.account_id WHERE w.account_id = 1001 GROUP BY acct_name,\\\n",
    "         channels ORDER BY count DESC;'\n",
    "\n",
    "query_to_df(query)"
   ]
  },
  {
   "cell_type": "markdown",
   "metadata": {
    "id": "iK2qf-zX7o2h"
   },
   "source": [
    "<h2>Recap</h2>"
   ]
  },
  {
   "cell_type": "markdown",
   "metadata": {
    "id": "8DGTcgq27wzb"
   },
   "source": [
    "### Primary and Foreign Keys\n",
    "\n",
    "You learned a key element for JOINing tables in a database has to do with primary and foreign keys:\n",
    "\n",
    "* **primary keys** - are unique for every row in a table. These are generally the first column in our database (like you saw with the id column for every table in the Parch & Posey database).\n",
    "\n",
    "* **foreign keys** - are the primary key appearing in another table, which allows the rows to be non-unique.\n",
    "\n",
    "Choosing the set up of data in our database is very important, but not usually the job of a data analyst. This process is known as Database Normalization."
   ]
  },
  {
   "cell_type": "markdown",
   "metadata": {
    "id": "bVfr4lvn8NO7"
   },
   "source": [
    "### JOINs\n",
    "\n",
    "In this lesson, you learned how to combine data from multiple tables using JOINs. The three JOIN statements you are most likely to use are:\n",
    "\n",
    "* **JOIN** - an INNER JOIN that only pulls data that exists in both tables.\n",
    "* **LEFT JOIN **- pulls all the data that exists in both tables, as well as all of the rows from the table in the FROM even if they do not exist in the JOIN statement.\n",
    "* **RIGHT JOIN** - pulls all the data that exists in both tables, as well as all of the rows from the table in the JOIN even if they do not exist in the FROM statement.\n",
    "\n",
    "There are a few more advanced JOINs that we did not cover here, and they are used in very specific use cases. [UNION and UNION ALL](https://www.w3schools.com/sql/sql_union.asp), [CROSS JOIN](http://www.w3resource.com/sql/joins/cross-join.php), and the tricky [SELF JOIN](https://www.w3schools.com/sql/sql_join_self.asp). These are more advanced than this course will cover, but it is useful to be aware that they exist, as they are useful in special cases."
   ]
  },
  {
   "cell_type": "markdown",
   "metadata": {
    "id": "IES-hrLO9B8U"
   },
   "source": [
    "### Alias\n",
    "\n",
    "You learned that you can alias tables and columns using AS or not using it. This allows you to be more efficient in the number of characters you need to write, while at the same time you can assure that your column headings are informative of the data in your table.\n",
    "\n",
    "### Looking Ahead\n",
    "The next lesson is aimed at aggregating data. You have already learned a ton, but SQL might still feel a bit disconnected from statistics and using Excel like platforms. Aggregations will allow you to write SQL code that will allow for more complex queries, which assist in answering questions like:\n",
    "\n",
    "* Which channel generated more revenue?\n",
    "* Which account had an order with the most items?\n",
    "* Which sales_rep had the most orders? or least orders? How many orders did they have?\n"
   ]
  },
  {
   "cell_type": "code",
   "execution_count": null,
   "metadata": {
    "id": "6QoxaiAQ7vfK"
   },
   "outputs": [],
   "source": [
    "# closing connection and cursor for the day\n",
    "\n",
    "if connection.is_connected():\n",
    "    cursor.close()\n",
    "    connection.close()\n",
    "    print(\"MySQL connection is closed\")"
   ]
  }
 ],
 "metadata": {
  "colab": {
   "authorship_tag": "ABX9TyOElX2NAtuVLgTmuMf0Fz/V",
   "collapsed_sections": [],
   "include_colab_link": true,
   "name": "sql_for_data_analysis2.ipynb",
   "provenance": []
  },
  "kernelspec": {
   "display_name": "Python 3",
   "language": "python",
   "name": "python3"
  },
  "language_info": {
   "codemirror_mode": {
    "name": "ipython",
    "version": 3
   },
   "file_extension": ".py",
   "mimetype": "text/x-python",
   "name": "python",
   "nbconvert_exporter": "python",
   "pygments_lexer": "ipython3",
   "version": "3.8.5"
  }
 },
 "nbformat": 4,
 "nbformat_minor": 1
}
