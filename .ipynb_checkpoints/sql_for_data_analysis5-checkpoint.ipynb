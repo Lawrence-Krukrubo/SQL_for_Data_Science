{
 "cells": [
  {
   "cell_type": "markdown",
   "id": "positive-illinois",
   "metadata": {},
   "source": [
    "# Sub-Queries, Temporary Tables and WITH statements"
   ]
  },
  {
   "cell_type": "markdown",
   "id": "imposed-pattern",
   "metadata": {},
   "source": [
    "We connect to MySQL server and workbench and make analysis with the parch-and-posey database. This course is the practicals of the course SQL for Data Analysis at Udacity."
   ]
  },
  {
   "cell_type": "code",
   "execution_count": null,
   "id": "collective-humidity",
   "metadata": {},
   "outputs": [],
   "source": [
    "# we import some required libraries\n",
    "\n",
    "import pandas as pd\n",
    "import numpy as np\n",
    "import matplotlib.pyplot as plt\n",
    "import seaborn as sns\n",
    "from pprint import pprint\n",
    "import time\n",
    "print('Done!')"
   ]
  },
  {
   "cell_type": "markdown",
   "id": "designing-empire",
   "metadata": {},
   "source": [
    "**Next, we create a connection to the parch-and-posey DataBase in MySQL Work-Bench**"
   ]
  },
  {
   "cell_type": "code",
   "execution_count": null,
   "id": "cleared-gregory",
   "metadata": {},
   "outputs": [],
   "source": [
    "import mysql\n",
    "from mysql.connector import Error\n",
    "from getpass import getpass\n",
    "\n",
    "try:\n",
    "    connection = mysql.connector.connect(host='localhost',\n",
    "                                         database='parch_and_posey',\n",
    "                                         user=input('Enter UserName:'),\n",
    "                                         password=getpass('Enter Password:'))\n",
    "    if connection.is_connected():\n",
    "        db_Info = connection.get_server_info()\n",
    "        print(\"Connected to MySQL Server version \", db_Info)\n",
    "        cursor = connection.cursor()\n",
    "        cursor.execute(\"select database();\")\n",
    "        record = cursor.fetchone()\n",
    "        print(\"You're connected to database: \", record)\n",
    "\n",
    "except Error as e:\n",
    "    print(\"Error while connecting to MySQL\", e)"
   ]
  },
  {
   "cell_type": "code",
   "execution_count": null,
   "id": "fourth-secretary",
   "metadata": {},
   "outputs": [],
   "source": [
    "# Let's see the tables in the database\n",
    "\n",
    "# let's run the show tables command \n",
    "\n",
    "cursor.execute('show tables')\n",
    "out = cursor.fetchall()\n",
    "out"
   ]
  },
  {
   "cell_type": "markdown",
   "id": "occupied-thong",
   "metadata": {},
   "source": [
    "**Defining a method that converts the result of a query to a dataframe**"
   ]
  },
  {
   "cell_type": "code",
   "execution_count": null,
   "id": "terminal-frederick",
   "metadata": {},
   "outputs": [],
   "source": [
    "def query_to_df(query):\n",
    "    st = time.time()\n",
    "    # Assert Every Query ends with a semi-colon\n",
    "    try:\n",
    "        assert query.endswith(';')\n",
    "    except AssertionError:\n",
    "        return 'ERROR: Query Must End with ;'\n",
    "\n",
    "    # so we never have more than 20 rows displayed\n",
    "    pd.set_option('display.max_rows', 20) \n",
    "    df = None\n",
    "\n",
    "    # Process the query\n",
    "    cursor.execute(query)\n",
    "    columns = cursor.description\n",
    "    result = []\n",
    "    for value in cursor.fetchall():\n",
    "        tmp = {}\n",
    "        for (index,column) in enumerate(value):\n",
    "            tmp[columns[index][0]] = [column]\n",
    "        result.append(tmp)\n",
    "\n",
    "    # Create a DataFrame from all results\n",
    "    for ind, data in enumerate(result):\n",
    "        if ind >= 1:\n",
    "            x = pd.DataFrame(data)\n",
    "            df = pd.concat([df, x], ignore_index=True)\n",
    "        else:\n",
    "            df = pd.DataFrame(data)\n",
    "    print(f'Query ran for {time.time()-st} secs!')\n",
    "    return df"
   ]
  },
  {
   "cell_type": "code",
   "execution_count": null,
   "id": "parallel-boost",
   "metadata": {},
   "outputs": [],
   "source": [
    "# 1. For the accounts table\n",
    "\n",
    "query = 'SELECT * FROM accounts LIMIT 3;'\n",
    "query_to_df(query)"
   ]
  },
  {
   "cell_type": "code",
   "execution_count": null,
   "id": "fourth-charles",
   "metadata": {},
   "outputs": [],
   "source": [
    "# 2. For the orders table\n",
    "\n",
    "query = 'SELECT * FROM orders LIMIT 3;'\n",
    "query_to_df(query)"
   ]
  },
  {
   "cell_type": "code",
   "execution_count": null,
   "id": "earned-handle",
   "metadata": {},
   "outputs": [],
   "source": [
    "# 3. For the sales_reps table\n",
    "\n",
    "query = 'SELECT * FROM sales_reps LIMIT 3;'\n",
    "query_to_df(query)"
   ]
  },
  {
   "cell_type": "code",
   "execution_count": null,
   "id": "abroad-harvest",
   "metadata": {},
   "outputs": [],
   "source": [
    "# 4. For the web_events table\n",
    "\n",
    "query = 'SELECT * FROM web_events LIMIT 3;'\n",
    "query_to_df(query)"
   ]
  },
  {
   "cell_type": "code",
   "execution_count": null,
   "id": "cooked-marsh",
   "metadata": {},
   "outputs": [],
   "source": [
    "# 5. For the region table\n",
    "\n",
    "query = 'SELECT * FROM region LIMIT 3;'\n",
    "query_to_df(query)"
   ]
  },
  {
   "cell_type": "markdown",
   "id": "natural-heath",
   "metadata": {},
   "source": [
    "## SubQueries:\n",
    "\n",
    "AKA **Inner-queries or Nested-Queries** are tools for performing operations in multiple steps."
   ]
  },
  {
   "cell_type": "markdown",
   "id": "adverse-swiss",
   "metadata": {},
   "source": [
    "### More Subquery Tips:\n",
    "\n",
    "* The original query goes in the `FROM` statement\n",
    "* An `*` is used in the `SELECT` statement to pull all data from the original query\n",
    "* You must use an alias for the table you nest within the outer query"
   ]
  },
  {
   "cell_type": "markdown",
   "id": "experienced-corner",
   "metadata": {},
   "source": [
    "**EX 1: Use a subquery to find the average number of events that occur per day per channel**"
   ]
  },
  {
   "cell_type": "code",
   "execution_count": null,
   "id": "brazilian-aerospace",
   "metadata": {},
   "outputs": [],
   "source": [
    "query_to_df(\n",
    "\"SELECT DATE(occurred_at) date, channel, COUNT(*) num_events \\\n",
    "FROM web_events GROUP BY 1, 2 ORDER BY 1;\"\n",
    ")"
   ]
  },
  {
   "cell_type": "markdown",
   "id": "other-colombia",
   "metadata": {},
   "source": [
    "**EX 2: Use a subquery to find the average number of events that occur per channel**"
   ]
  },
  {
   "cell_type": "code",
   "execution_count": null,
   "id": "sunrise-diploma",
   "metadata": {},
   "outputs": [],
   "source": [
    "query_to_df(\n",
    "\"SELECT channel, AVG(num_events) avg_num_events FROM \\\n",
    "(SELECT DATE(occurred_at) date, channel, COUNT(*) num_events \\\n",
    "FROM web_events GROUP BY 1, 2 ORDER BY 1) as sub GROUP BY 1 ORDER BY 2 DESC;\"\n",
    ")"
   ]
  },
  {
   "cell_type": "markdown",
   "id": "brave-algorithm",
   "metadata": {},
   "source": [
    "**EX 3. On which day-channel pair did the most events occur**"
   ]
  },
  {
   "cell_type": "code",
   "execution_count": null,
   "id": "conservative-generation",
   "metadata": {},
   "outputs": [],
   "source": [
    "query_to_df(\n",
    "\"SELECT DATE(occurred_at) date, channel, COUNT(*) num_events \\\n",
    "FROM web_events GROUP BY 1, 2 ORDER BY 3 DESC LIMIT 5;\"\n",
    ")"
   ]
  },
  {
   "cell_type": "markdown",
   "id": "electoral-venice",
   "metadata": {},
   "source": [
    "## Subquery Formatting\n",
    "\n",
    "When writing Subqueries, it is easy for your query to look incredibly complex. In order to assist your reader, which is often just yourself at a future date, formatting SQL will help with understanding your code.\n",
    "\n",
    "The important thing to remember when using subqueries is to provide some way for the reader to easily determine which parts of the query will be executed together. Most people do this by indenting the subquery in some way\n",
    "\n",
    "### Well Formatted Query:\n",
    "```\n",
    "SELECT *\n",
    "FROM (SELECT DATE_TRUNC('day',occurred_at) AS day,\n",
    "                channel, COUNT(*) as events\n",
    "      FROM web_events \n",
    "      GROUP BY 1,2\n",
    "      ORDER BY 3 DESC) sub;\n",
    "```\n",
    "\n",
    "Additionally, if we have a GROUP BY, ORDER BY, WHERE, HAVING, or any other statement following our subquery, we would then indent it at the same level as our outer query.\n",
    "\n",
    "The query below is similar to the above, but it is applying additional statements to the outer query, so you can see there are GROUP BY and ORDER BY statements used on the output are not tabbed. The inner query GROUP BY and ORDER BY statements are indented to match the inner table.\n",
    "```\n",
    "SELECT *\n",
    "FROM (SELECT DATE_TRUNC('day',occurred_at) AS day,\n",
    "                channel, COUNT(*) as events\n",
    "      FROM web_events \n",
    "      GROUP BY 1,2\n",
    "      ORDER BY 3 DESC) sub\n",
    "GROUP BY day, channel, events\n",
    "ORDER BY 2 DESC;\n",
    "```"
   ]
  },
  {
   "cell_type": "markdown",
   "id": "aerial-ordinary",
   "metadata": {},
   "source": [
    "### MORE on Subquery:\n",
    "\n",
    "Subqueries can be used in several places within a query, it can be used anywhere we might use a table name or even a column name or an individual value. \n",
    "* They are especially useful in conditional logic in conjunction with `Where` and `Join` clauses or in the `WHEN` portion of a `CASE` statement.\n",
    "* Most conditional logic, would work with sub-queries containing one-cell results. But `IN` is the only type of conditional logic that will work when the inner query contains multiple results.\n",
    "\n",
    "### Expert Tip\n",
    "Note that you should not include an alias when you write a subquery in a conditional statement. This is because the subquery is treated as an individual value (or set of values in the IN case) rather than as a table.\n",
    "\n",
    "Also, notice the query here compared a single value. If we returned an entire column IN would need to be used to perform a logical argument. If we are returning an entire table, then we must use an ALIAS for the table, and perform additional logic on the entire table.\n",
    "\n",
    "**EXERCISE**:\n",
    "\n",
    "You should write your solution as a subquery or subqueries, not by finding one solution and copying the output. The importance of this is that it allows your query to be dynamic in answering the question - even if the data changes, you still arrive at the right answer.\n",
    "\n",
    "**1. Use Sub-queries to return orders that only took place in the same month and year as the first ever order**"
   ]
  },
  {
   "cell_type": "code",
   "execution_count": null,
   "id": "acceptable-covering",
   "metadata": {},
   "outputs": [],
   "source": [
    "query_to_df(\n",
    "\"SELECT * FROM orders WHERE EXTRACT(YEAR_MONTH FROM occurred_at) = \\\n",
    "(SELECT EXTRACT(YEAR_MONTH FROM MIN(occurred_at)) first_order_month FROM orders)\\\n",
    "ORDER BY occurred_at;\"\n",
    ")"
   ]
  },
  {
   "cell_type": "markdown",
   "id": "beautiful-maria",
   "metadata": {},
   "source": [
    "**2. From the above result, use Sub-queries to return the average qty for each type of paper sold during this same first month as well as the total sales in USD for this month.**"
   ]
  },
  {
   "cell_type": "code",
   "execution_count": null,
   "id": "based-lafayette",
   "metadata": {},
   "outputs": [],
   "source": [
    "query_to_df(\n",
    "\"SELECT EXTRACT(YEAR_MONTH FROM occurred_at) Date, \\\n",
    "AVG(standard_qty), AVG(gloss_qty), AVG(poster_qty), SUM(total_amt_usd) FROM \\\n",
    "(SELECT * FROM ORDERS WHERE EXTRACT(YEAR_MONTH FROM occurred_at) = \\\n",
    "(SELECT EXTRACT(YEAR_MONTH FROM MIN(occurred_at)) FROM orders)\\\n",
    "ORDER BY occurred_at) as sub;\"\n",
    ")"
   ]
  },
  {
   "cell_type": "markdown",
   "id": "cooperative-attribute",
   "metadata": {},
   "source": [
    "**3. Use subqueries to Provide the name of the sales_rep in each region with the largest amount of total_amt_usd sales.**"
   ]
  },
  {
   "cell_type": "code",
   "execution_count": null,
   "id": "private-wagner",
   "metadata": {},
   "outputs": [],
   "source": [
    "query_to_df(\n",
    "\"SELECT * FROM (SELECT s.name sales_rep, r.name region, SUM(o.total_amt_usd) total_amt_usd \\\n",
    "FROM sales_reps s JOIN region r ON s.region_id=r.id JOIN accounts a ON \\\n",
    "a.sales_rep_id=s.id JOIN orders o ON o.account_id=a.id GROUP BY 1, 2 ORDER BY 2, 3 DESC) AS sub GROUP BY 2;\"\n",
    ")"
   ]
  },
  {
   "cell_type": "markdown",
   "id": "sudden-death",
   "metadata": {},
   "source": [
    "**4. For the region with the largest (sum) of sales total_amt_usd, how many total (count) orders were placed?**"
   ]
  },
  {
   "cell_type": "code",
   "execution_count": null,
   "id": "optional-modem",
   "metadata": {},
   "outputs": [],
   "source": [
    "query_to_df(\n",
    "'SELECT r.name region, COUNT(o.id) total_orders FROM region r JOIN sales_reps s \\\n",
    "ON s.region_id=r.id JOIN accounts a ON a.sales_rep_id=s.id JOIN orders o ON o.account_id=a.id \\\n",
    "WHERE r.name=(SELECT region FROM \\\n",
    "(SELECT r.name region, SUM(o.total_amt_usd) total_amt_usd FROM region r JOIN sales_reps s ON s.region_id=r.id \\\n",
    "JOIN accounts a ON a.sales_rep_id=s.id JOIN orders o ON o.account_id=a.id GROUP BY 1 ORDER BY 2 DESC LIMIT 1) AS sub);'\n",
    ")"
   ]
  },
  {
   "cell_type": "markdown",
   "id": "prescription-quest",
   "metadata": {},
   "source": [
    "**5. How many accounts had more total purchases than the account name which has bought the most standard_qty paper throughout their lifetime as a customer?**"
   ]
  },
  {
   "cell_type": "code",
   "execution_count": null,
   "id": "organizational-modification",
   "metadata": {},
   "outputs": [],
   "source": [
    "query_to_df(\n",
    "\"SELECT COUNT(*) count FROM \\\n",
    "(SELECT a.name acct_name FROM accounts a JOIN orders o ON a.id=o.account_id GROUP BY a.name HAVING \\\n",
    "SUM(o.total) > (SELECT total_qty FROM \\\n",
    "(SELECT a.name acct_name, SUM(o.standard_qty) total_std_qty, SUM(o.total) total_qty FROM accounts a \\\n",
    "JOIN orders o ON a.id=o.account_id GROUP BY 1 ORDER BY 2 DESC LIMIT 1) AS inner_tab)) outer_tab;\"\n",
    ")"
   ]
  },
  {
   "cell_type": "markdown",
   "id": "interracial-monte",
   "metadata": {},
   "source": [
    "**6. For the customer that spent the most (in total over their lifetime as a customer) total_amt_usd, how many web_events did they have for each channel?**"
   ]
  },
  {
   "cell_type": "code",
   "execution_count": null,
   "id": "architectural-microwave",
   "metadata": {},
   "outputs": [],
   "source": [
    "query_to_df(\n",
    "\"SELECT a.name acct_name, w.channel channel, COUNT(w.id) web_events FROM accounts a JOIN web_events w ON \\\n",
    "w.account_id=a.id WHERE a.name = \\\n",
    "(SELECT name FROM \\\n",
    "(SELECT a.name, SUM(o.total) total_sum_usd FROM accounts a JOIN orders o ON a.id=o.account_id \\\n",
    "GROUP BY 1 ORDER BY 2 DESC LIMIT 1) AS name) GROUP BY 1, 2;\"\n",
    ")"
   ]
  },
  {
   "cell_type": "markdown",
   "id": "hawaiian-marina",
   "metadata": {},
   "source": [
    "**7. What is the lifetime average amount spent in terms of total_amt_usd for the top 10 total spending accounts?**"
   ]
  },
  {
   "cell_type": "code",
   "execution_count": null,
   "id": "surprised-typing",
   "metadata": {},
   "outputs": [],
   "source": [
    "query_to_df(\n",
    "\"SELECT AVG(total_amt_usd) AVG_lifetime_spend_top_10_accounts FROM \\\n",
    "(SELECT a.name acct_name, SUM(o.total_amt_usd) total_amt_usd FROM accounts a JOIN orders o \\\n",
    "ON a.id=o.account_id GROUP BY 1 ORDER BY 2 DESC LIMIT 10) as avg;\"\n",
    ")"
   ]
  },
  {
   "cell_type": "markdown",
   "id": "focal-society",
   "metadata": {},
   "source": [
    "**8. What is the lifetime average amount spent in terms of total_amt_usd, including only the companies that spent more per order, on average, than the average of all orders.**"
   ]
  },
  {
   "cell_type": "code",
   "execution_count": null,
   "id": "conservative-letter",
   "metadata": {},
   "outputs": [],
   "source": [
    "# First find the general lifetime average for all orders\n",
    "\n",
    "query_to_df(\n",
    "\"SELECT (SUM(orders.total_amt_usd) / COUNT(orders.total)) avg_general_order FROM orders;\"\n",
    ")"
   ]
  },
  {
   "cell_type": "code",
   "execution_count": null,
   "id": "judicial-flashing",
   "metadata": {},
   "outputs": [],
   "source": [
    "# Then find the accounts whose lifetime average is > the general average\n",
    "\n",
    "query_to_df(\n",
    "\"SELECT DISTINCT a.name acct_name, (SUM(o.total_amt_usd) / COUNT(o.total)) above_avg_avg \\\n",
    "FROM accounts a JOIN orders o ON o.account_id=a.id \\\n",
    "GROUP BY 1 HAVING (SUM(o.total_amt_usd) / COUNT(o.total)) \\\n",
    "> (SELECT (SUM(orders.total_amt_usd) / COUNT(orders.total)) avg_general_order FROM orders);\"\n",
    ")"
   ]
  },
  {
   "cell_type": "code",
   "execution_count": null,
   "id": "shared-daily",
   "metadata": {},
   "outputs": [],
   "source": [
    "# Now find the lifetime average for all these companies together\n",
    "\n",
    "query_to_df(\n",
    "\"SELECT AVG(above_avg_avg) above_avg_spenders_lifetime_avg FROM \\\n",
    "(SELECT DISTINCT a.name acct_name, (SUM(o.total_amt_usd) / COUNT(o.total)) above_avg_avg \\\n",
    "FROM accounts a JOIN orders o ON o.account_id=a.id \\\n",
    "GROUP BY 1 HAVING (SUM(o.total_amt_usd) / COUNT(o.total)) \\\n",
    "> (SELECT (SUM(orders.total_amt_usd) / COUNT(orders.total)) avg_general_order FROM orders)) AS avg;\"\n",
    ")"
   ]
  },
  {
   "cell_type": "markdown",
   "id": "powerful-whale",
   "metadata": {},
   "source": [
    "## WITH Statement:\n",
    "\n",
    "The WITH statement is often called a **Common Table Expression** or **CTE**. Though these expressions serve the exact same purpose as subqueries, they are more common in practice, as they tend to be cleaner for a future reader to follow the logic as Subqueries have the problem of maing our queries lengthy and difficult to Read.\n",
    "\n",
    "* **`Common Table Expressions (CTEs)`** can help break a query into separate components so that the query logic is more easily readable. \n",
    "* We can read the Subquery logic on its own and then read the final query logic easily as well.\n",
    "* We can theoretically write as many CTEs as we want.\n",
    "* We need to define any CTEs at the beginning of the query inorder to use them in our final query at the bottom.\n",
    "* Each CTE gets an alias just like a Subquery\n",
    "* When creating multiple tables using `WITH`, we add a comma after every table except the last one before the final query\n",
    "\n",
    "We can create an additional table to pull from in the following way:\n",
    "```\n",
    "WITH table1 AS (\n",
    "          SELECT *\n",
    "          FROM web_events),\n",
    "\n",
    "     table2 AS (\n",
    "          SELECT *\n",
    "          FROM accounts)\n",
    "\n",
    "\n",
    "SELECT *\n",
    "FROM table1\n",
    "JOIN table2\n",
    "ON table1.account_id = table2.id;\n",
    "```\n",
    "\n",
    "Thus, You can add more and more tables using the `WITH statement` in the same way above.\n",
    "\n",
    "\n",
    "### Quiz WITH:\n",
    "\n",
    "Essentially a `WITH` statement performs the same task as a Subquery. Therefore, you can write any of the queries we worked with in the previous exercises on Subqueries, using a `WITH`."
   ]
  },
  {
   "cell_type": "markdown",
   "id": "leading-olympus",
   "metadata": {},
   "source": [
    "**1. Provide the name of the sales_rep in each region with the largest amount of total_amt_usd sales.**\n"
   ]
  },
  {
   "cell_type": "code",
   "execution_count": null,
   "id": "least-bryan",
   "metadata": {},
   "outputs": [],
   "source": [
    "query_to_df(\n",
    "\"WITH \\\n",
    "table1 AS (SELECT DISTINCT s.name Sales_rep, r.name Region, SUM(o.total_amt_usd) Total_amt_usd FROM sales_reps s \\\n",
    "JOIN accounts a ON s.id=a.sales_rep_id JOIN region r on s.region_id=r.id JOIN orders o ON \\\n",
    "o.account_id=a.id GROUP BY 2, 1 ORDER BY 2, 3 DESC) \\\n",
    "\\\n",
    "SELECT * FROM table1 GROUP BY Region;\"\n",
    ")"
   ]
  },
  {
   "cell_type": "markdown",
   "id": "ceramic-talent",
   "metadata": {},
   "source": [
    "**2. For the region with the largest sales total_amt_usd, how many total orders were placed?**"
   ]
  },
  {
   "cell_type": "code",
   "execution_count": null,
   "id": "spare-agriculture",
   "metadata": {},
   "outputs": [],
   "source": [
    "query_to_df(\n",
    "\"WITH \\\n",
    "table1 AS (SELECT r.name Region, SUM(o.total_amt_usd) Total_sales, COUNT(o.id) Total_orders \\\n",
    "FROM region r JOIN sales_reps s ON s.region_id=r.id JOIN accounts a ON a.sales_rep_id=s.id \\\n",
    "JOIN orders o ON o.account_id=a.id GROUP BY 1 ORDER BY 2 DESC LIMIT 1) \\\n",
    "\\\n",
    "SELECT Region, Total_orders FROM table1;\"\n",
    ")"
   ]
  },
  {
   "cell_type": "markdown",
   "id": "eastern-superintendent",
   "metadata": {},
   "source": [
    "**3. How many accounts had more total purchases than the account name which has bought the most standard_qty paper throughout their lifetime as a customer?**"
   ]
  },
  {
   "cell_type": "code",
   "execution_count": null,
   "id": "binding-roads",
   "metadata": {},
   "outputs": [],
   "source": [
    "query_to_df(\n",
    "\"WITH \\\n",
    "table1 AS (SELECT a.name acct_name, SUM(o.standard_qty) total_std_qty FROM accounts a JOIN orders o \\\n",
    "ON o.account_id=a.id GROUP BY 1 ORDER BY 2 DESC LIMIT 1), \\\n",
    "\\\n",
    "table2 AS (SELECT acct_name FROM table1), \\\n",
    "\\\n",
    "table3 AS (SELECT SUM(o.total) total FROM accounts a JOIN orders o ON \\\n",
    "a.id=o.account_id WHERE a.name=(select * from table2)), \\\n",
    "\\\n",
    "table4 AS (SELECT a.name acct_name FROM accounts a JOIN orders o ON \\\n",
    "a.id=o.account_id GROUP BY a.name HAVING SUM(o.total)>(select * FROM table3)) \\\n",
    "\\\n",
    "SELECT * FROM table4;\"\n",
    ")"
   ]
  },
  {
   "cell_type": "markdown",
   "id": "clean-charger",
   "metadata": {},
   "source": [
    "**4. For the customer that spent the most (in total over their lifetime as a customer) total_amt_usd, how many web_events did they have for each channel?**"
   ]
  },
  {
   "cell_type": "code",
   "execution_count": null,
   "id": "substantial-newman",
   "metadata": {},
   "outputs": [],
   "source": [
    "query_to_df(\n",
    "\"WITH \\\n",
    "table1 AS (SELECT a.id acct_id, SUM(o.total_amt_usd) total_usd FROM accounts a JOIN orders o ON \\\n",
    "a.id=o.account_id GROUP BY 1 ORDER BY 2 DESC LIMIT 1), \\\n",
    "\\\n",
    "table2 AS (SELECT a.name acct_name, w.account_id acct_id, w.channel channel, COUNT(w.occurred_at) web_events FROM \\\n",
    "web_events w JOIN accounts a ON a.id=w.account_id WHERE w.account_id=(SELECT acct_id FROM table1) GROUP BY 1,2,3 \\\n",
    "ORDER BY 4 DESC) \\\n",
    "\\\n",
    "SELECT * FROM table2;\"\n",
    ")"
   ]
  },
  {
   "cell_type": "markdown",
   "id": "marked-mediterranean",
   "metadata": {},
   "source": [
    "**5. What is the lifetime average amount spent in terms of total_amt_usd for the top 10 total spending accounts?**"
   ]
  },
  {
   "cell_type": "code",
   "execution_count": null,
   "id": "sticky-instrument",
   "metadata": {},
   "outputs": [],
   "source": [
    "query_to_df(\n",
    "\"WITH \\\n",
    "table1 AS (SELECT a.name acct_name, SUM(o.total_amt_usd) total_spent FROM accounts a JOIN orders o \\\n",
    "ON a.id=o.account_id GROUP BY 1 ORDER BY 2 DESC LIMIT 10) \\\n",
    "\\\n",
    "SELECT AVG(total_spent) FROM table1;\"\n",
    ")"
   ]
  },
  {
   "cell_type": "markdown",
   "id": "exact-table",
   "metadata": {},
   "source": [
    "**6. What is the lifetime average amount spent in terms of total_amt_usd, including only the companies that spent more per order, on average, than the average of all orders.**"
   ]
  },
  {
   "cell_type": "code",
   "execution_count": null,
   "id": "animal-constraint",
   "metadata": {},
   "outputs": [],
   "source": [
    "query_to_df(\n",
    "\"WITH \\\n",
    "table1 AS (SELECT (SUM(orders.total_amt_usd) / COUNT(orders.total)) avg_order FROM orders), \\\n",
    "\\\n",
    "table2 AS (SELECT a.name acct_name, (SUM(o.total_amt_usd) / COUNT(o.total)) above_avg FROM \\\n",
    "accounts a JOIN orders o ON a.id=o.account_id GROUP BY 1 HAVING \\\n",
    "(SUM(o.total_amt_usd) / COUNT(o.total))>(SELECT * FROM table1)) \\\n",
    "\\\n",
    "SELECT AVG(above_avg) FROM table2;\"\n",
    ")"
   ]
  },
  {
   "cell_type": "code",
   "execution_count": null,
   "id": "grateful-nature",
   "metadata": {},
   "outputs": [],
   "source": [
    "# Turn False to True to terminate connection at end of notebook\n",
    "\n",
    "if True and connection.is_connected():\n",
    "    cursor.close()\n",
    "    connection.close()\n",
    "    print(f'Terminating MySQL Connection: {record} Database')"
   ]
  }
 ],
 "metadata": {
  "kernelspec": {
   "display_name": "Python 3",
   "language": "python",
   "name": "python3"
  },
  "language_info": {
   "codemirror_mode": {
    "name": "ipython",
    "version": 3
   },
   "file_extension": ".py",
   "mimetype": "text/x-python",
   "name": "python",
   "nbconvert_exporter": "python",
   "pygments_lexer": "ipython3",
   "version": "3.8.5"
  }
 },
 "nbformat": 4,
 "nbformat_minor": 5
}
