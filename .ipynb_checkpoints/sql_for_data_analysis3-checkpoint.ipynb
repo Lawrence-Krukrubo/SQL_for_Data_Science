{
 "cells": [
  {
   "cell_type": "markdown",
   "metadata": {
    "colab_type": "text",
    "id": "view-in-github"
   },
   "source": [
    "<a href=\"https://colab.research.google.com/github/Lawrence-Krukrubo/SQL_for_Data_Science/blob/main/sql_for_data_analysis3.ipynb\" target=\"_parent\"><img src=\"https://colab.research.google.com/assets/colab-badge.svg\" alt=\"Open In Colab\"/></a>"
   ]
  },
  {
   "cell_type": "markdown",
   "metadata": {
    "id": "D_i0i2skl-qV"
   },
   "source": [
    "## **SQL AGGREGATIONS**"
   ]
  },
  {
   "cell_type": "markdown",
   "metadata": {
    "id": "1O4m1kI7pG1J"
   },
   "source": [
    "We connect to MySQL server and workbench and make analysis with the parch-and-posey database. This course is the practicals of the course **SQL for Data Analysis** at Udacity."
   ]
  },
  {
   "cell_type": "code",
   "execution_count": null,
   "metadata": {
    "colab": {
     "base_uri": "https://localhost:8080/"
    },
    "id": "PYtMVH8cptIr",
    "outputId": "9035e9b6-a100-4aaa-90d0-f8a971e1e623"
   },
   "outputs": [],
   "source": [
    "# Install mySQL connector\n",
    "\n",
    "!pip install mysql-connector-python"
   ]
  },
  {
   "cell_type": "code",
   "execution_count": null,
   "metadata": {
    "colab": {
     "base_uri": "https://localhost:8080/"
    },
    "id": "1yVVsD6gp2C3",
    "outputId": "33bf910d-11c9-4517-ab4c-7bf85ab79c5c"
   },
   "outputs": [],
   "source": [
    "# we import some required libraries\n",
    "\n",
    "import pandas as pd\n",
    "import numpy as np\n",
    "import matplotlib.pyplot as plt\n",
    "import seaborn as sns\n",
    "from pprint import pprint\n",
    "import time\n",
    "print('Done!')"
   ]
  },
  {
   "cell_type": "markdown",
   "metadata": {},
   "source": [
    "**Next, we create a connection to the parch-and-posey DataBase in MySQL Work-Bench**"
   ]
  },
  {
   "cell_type": "code",
   "execution_count": null,
   "metadata": {
    "colab": {
     "base_uri": "https://localhost:8080/"
    },
    "id": "uJyPYRMKqFSN",
    "outputId": "3ea64af0-1839-4112-97a5-53cba958e7e3"
   },
   "outputs": [],
   "source": [
    "import mysql\n",
    "from mysql.connector import Error\n",
    "from getpass import getpass\n",
    "\n",
    "try:\n",
    "    connection = mysql.connector.connect(host='localhost',\n",
    "                                         database='parch_and_posey',\n",
    "                                         user=input('Enter UserName:'),\n",
    "                                         password=getpass('Enter Password:'))\n",
    "    if connection.is_connected():\n",
    "        db_Info = connection.get_server_info()\n",
    "        print(\"Connected to MySQL Server version \", db_Info)\n",
    "        cursor = connection.cursor()\n",
    "        cursor.execute(\"select database();\")\n",
    "        record = cursor.fetchone()\n",
    "        print(\"You're connected to database: \", record)\n",
    "\n",
    "except Error as e:\n",
    "    print(\"Error while connecting to MySQL\", e)"
   ]
  },
  {
   "cell_type": "code",
   "execution_count": null,
   "metadata": {
    "colab": {
     "base_uri": "https://localhost:8080/"
    },
    "id": "gJ26_yjXqU7v",
    "outputId": "760a43e2-9935-4234-e066-c16bda2d98ce"
   },
   "outputs": [],
   "source": [
    "# Let's see the tables in parch-and-posey DB\n",
    "\n",
    "# let's run the show tables command \n",
    "\n",
    "cursor.execute('show tables')\n",
    "out = cursor.fetchall()\n",
    "out"
   ]
  },
  {
   "cell_type": "markdown",
   "metadata": {
    "id": "23u8Jw-Eqo3T"
   },
   "source": [
    "Let's see the first 3 data of the different tables in parch and posey database"
   ]
  },
  {
   "cell_type": "markdown",
   "metadata": {
    "id": "wCc5jgHhqzk_"
   },
   "source": [
    "Defining a method that converts a select query to a data frame"
   ]
  },
  {
   "cell_type": "code",
   "execution_count": null,
   "metadata": {
    "id": "LUeUN1J8q0Ti"
   },
   "outputs": [],
   "source": [
    "def query_to_df(query):\n",
    "    st = time.time()\n",
    "    # Assert Every Query ends with a semi-colon\n",
    "    try:\n",
    "        assert query.endswith(';')\n",
    "    except AssertionError:\n",
    "        return 'ERROR: Query Must End with ;'\n",
    "\n",
    "    # so we never have more than 20 rows displayed\n",
    "    pd.set_option('display.max_rows', 20) \n",
    "    df = None\n",
    "\n",
    "    # Process the query\n",
    "    cursor.execute(query)\n",
    "    columns = cursor.description\n",
    "    result = []\n",
    "    for value in cursor.fetchall():\n",
    "        tmp = {}\n",
    "        for (index,column) in enumerate(value):\n",
    "            tmp[columns[index][0]] = [column]\n",
    "        result.append(tmp)\n",
    "\n",
    "    # Create a DataFrame from all results\n",
    "    for ind, data in enumerate(result):\n",
    "        if ind >= 1:\n",
    "            x = pd.DataFrame(data)\n",
    "            df = pd.concat([df, x], ignore_index=True)\n",
    "        else:\n",
    "            df = pd.DataFrame(data)\n",
    "    print(f'Query ran for {time.time()-st} secs!')\n",
    "    return df"
   ]
  },
  {
   "cell_type": "code",
   "execution_count": null,
   "metadata": {
    "colab": {
     "base_uri": "https://localhost:8080/",
     "height": 153
    },
    "id": "291tQWPirUoH",
    "outputId": "4ee9cbf0-fae0-41af-b13e-cd76e0b7a6e4"
   },
   "outputs": [],
   "source": [
    "# 1. For the accounts table\n",
    "\n",
    "query = 'SELECT * FROM accounts LIMIT 3;'\n",
    "query_to_df(query)"
   ]
  },
  {
   "cell_type": "code",
   "execution_count": null,
   "metadata": {
    "colab": {
     "base_uri": "https://localhost:8080/",
     "height": 153
    },
    "id": "5-rCQwfJrXZn",
    "outputId": "a933eb40-ed61-4f9b-8358-b7edb77f8d8a"
   },
   "outputs": [],
   "source": [
    "# 2. For the orders table\n",
    "\n",
    "query = 'SELECT * FROM orders LIMIT 3;'\n",
    "query_to_df(query)"
   ]
  },
  {
   "cell_type": "code",
   "execution_count": null,
   "metadata": {
    "colab": {
     "base_uri": "https://localhost:8080/",
     "height": 153
    },
    "id": "LzQgEHqjrhkj",
    "outputId": "e0718df2-40cb-4876-f702-5a5ef99a2937"
   },
   "outputs": [],
   "source": [
    "# 3. For the sales_reps table\n",
    "\n",
    "query = 'SELECT * FROM sales_reps LIMIT 3;'\n",
    "query_to_df(query)"
   ]
  },
  {
   "cell_type": "code",
   "execution_count": null,
   "metadata": {
    "colab": {
     "base_uri": "https://localhost:8080/",
     "height": 153
    },
    "id": "s7qUlK52rhhi",
    "outputId": "75081cf5-a91d-4401-dc92-51f4f3e979f7"
   },
   "outputs": [],
   "source": [
    "# 4. For the web_events table\n",
    "\n",
    "query = 'SELECT * FROM web_events LIMIT 3;'\n",
    "query_to_df(query)"
   ]
  },
  {
   "cell_type": "code",
   "execution_count": null,
   "metadata": {
    "colab": {
     "base_uri": "https://localhost:8080/",
     "height": 153
    },
    "id": "R__FSZmBrzfm",
    "outputId": "31c45df3-0115-410d-d173-8c7433b8749f"
   },
   "outputs": [],
   "source": [
    "# 5. For the region table\n",
    "\n",
    "query = 'SELECT * FROM region LIMIT 3;'\n",
    "query_to_df(query)"
   ]
  },
  {
   "cell_type": "markdown",
   "metadata": {
    "id": "FUxKsZzYtF01"
   },
   "source": [
    "**In essential, row-level data are useful for initial exploratory data analysis, when we're trying to get a feel of the data... But as we search for answers, aggregate-data which are often done along columns, become more useful...**"
   ]
  },
  {
   "cell_type": "markdown",
   "metadata": {
    "id": "GMMMbDgNv19o"
   },
   "source": [
    "## Nulls:\n",
    "\n",
    "NULLs are a datatype that specifies where no data exists in SQL. They are often ignored in our aggregation functions\n",
    "\n",
    "* Notice that NULLs are different than a zero - they are cells where data does not exist.\n",
    "\n",
    "* When identifying NULLs in a WHERE clause, we write IS NULL or IS NOT NULL. We don't use =, because NULL isn't considered a value in SQL. Rather, it is a property of the data.\n",
    "\n",
    "**NULLs - Expert Tip**\n",
    "* There are two common ways in which you are likely to encounter NULLs:\n",
    "\n",
    "* NULLs frequently occur when performing a LEFT or RIGHT JOIN. You saw in the last lesson - when some rows in the left table of a left join are not matched with rows in the right table, those rows will contain some NULL values in the result set.\n",
    "\n",
    "* NULLs can also occur from simply missing data in our database."
   ]
  },
  {
   "cell_type": "markdown",
   "metadata": {
    "id": "JB8MZsFhyFc8"
   },
   "source": [
    "**COUNT the Number of Rows in each Table**\n",
    "\n",
    "Try your hand at finding the number of rows in each table."
   ]
  },
  {
   "cell_type": "code",
   "execution_count": null,
   "metadata": {
    "colab": {
     "base_uri": "https://localhost:8080/"
    },
    "id": "vaEaQC4_tbny",
    "outputId": "fa9aec25-a3dd-44b6-fac9-d43020167396"
   },
   "outputs": [],
   "source": [
    "for table in ['orders','accounts','web_events','region','sales_reps']:\n",
    "    query = f'SELECT COUNT(*) AS row_count FROM {table};'\n",
    "    ans = query_to_df(query)\n",
    "    print(f'Table {table}:')\n",
    "    print(ans)\n",
    "    print()"
   ]
  },
  {
   "cell_type": "markdown",
   "metadata": {
    "id": "av1i5vS89jeN"
   },
   "source": [
    "### COUNT:\n",
    "\n",
    "* Note that unlike other aggregations, `COUNT` can be used in columns of Non-Numerical values. Same too for `MIN` and `MAX` clauses.\n",
    "\n",
    "* Notice that `COUNT` does not consider rows that have `NULL` values. Therefore, this can be useful for quickly identifying which rows have missing data. "
   ]
  },
  {
   "cell_type": "markdown",
   "metadata": {
    "id": "yYHqRnSq-e-H"
   },
   "source": [
    "### SUM:\n",
    "\n",
    "* Unlike `COUNT`, you can only use `SUM` on numeric columns. However, `SUM` will ignore NULL values, as do the other aggregation functions you will see in the upcoming lessons.\n",
    "\n",
    "### Aggregation Reminder:\n",
    "\n",
    "An important thing to remember: aggregators only aggregate vertically - the values of a column. If you want to perform a calculation across rows, you would do this with simple arithmetic."
   ]
  },
  {
   "cell_type": "markdown",
   "metadata": {
    "id": "B0MCLjwk_Gw2"
   },
   "source": [
    "### Aggregation Question\n",
    "\n",
    "find the solution for each of the following questions. If you get stuck or want to check your answers, you can find the answers at the top of the next concept."
   ]
  },
  {
   "cell_type": "markdown",
   "metadata": {
    "id": "a_UEaQEM_O7R"
   },
   "source": [
    "#### Q1: Find the total amount of poster_qty paper ordered in the orders table."
   ]
  },
  {
   "cell_type": "code",
   "execution_count": null,
   "metadata": {
    "colab": {
     "base_uri": "https://localhost:8080/",
     "height": 94
    },
    "id": "oPJG95SD-Fp3",
    "outputId": "a5526e8f-5219-4e8f-ee1b-c492039f6d71"
   },
   "outputs": [],
   "source": [
    "query = 'SELECT SUM(poster_qty) FROM orders;'\n",
    "query_to_df(query)"
   ]
  },
  {
   "cell_type": "markdown",
   "metadata": {
    "id": "ZdgN65tGABD9"
   },
   "source": [
    "#### Q2: Find the total amount of standard_qty paper ordered in the orders table."
   ]
  },
  {
   "cell_type": "code",
   "execution_count": null,
   "metadata": {
    "colab": {
     "base_uri": "https://localhost:8080/",
     "height": 94
    },
    "id": "gUnQ5rEiAJED",
    "outputId": "fcb75822-55eb-481f-c0ce-1f2e9c079f33"
   },
   "outputs": [],
   "source": [
    "query = 'SELECT SUM(standard_qty) FROM orders;'\n",
    "query_to_df(query)"
   ]
  },
  {
   "cell_type": "markdown",
   "metadata": {
    "id": "5AJlenEjA2_1"
   },
   "source": [
    "#### Q4. Find the total dollar amount of sales using the total_amt_usd in the orders table."
   ]
  },
  {
   "cell_type": "code",
   "execution_count": null,
   "metadata": {
    "colab": {
     "base_uri": "https://localhost:8080/",
     "height": 94
    },
    "id": "Ia_qy5oTA6VJ",
    "outputId": "f7fdc3bb-6bde-4989-d7ef-2bbf92abd25a"
   },
   "outputs": [],
   "source": [
    "query_to_df('SELECT SUM(total_amt_usd) FROM orders;')"
   ]
  },
  {
   "cell_type": "markdown",
   "metadata": {
    "id": "OJvGf-klBaWk"
   },
   "source": [
    "#### Q5. Find the total amount spent on standard_amt_usd and gloss_amt_usd paper for each order in the orders table. This should give a dollar amount for each order in the table."
   ]
  },
  {
   "cell_type": "code",
   "execution_count": null,
   "metadata": {
    "colab": {
     "base_uri": "https://localhost:8080/",
     "height": 418
    },
    "id": "WjIj2WjNBd4u",
    "outputId": "3688ff84-e68a-471e-cf0a-2fa60019b4bd"
   },
   "outputs": [],
   "source": [
    "query_to_df(\n",
    "    'SELECT id, (standard_amt_usd + gloss_amt_usd) tot_amt_usd FROM orders;'\n",
    ")"
   ]
  },
  {
   "cell_type": "markdown",
   "metadata": {
    "id": "x3ibPY4LDkxz"
   },
   "source": [
    "#### Q6. Find the standard_amt_usd per unit of standard_qty paper. Your solution should use both an aggregation and a mathematical operator."
   ]
  },
  {
   "cell_type": "code",
   "execution_count": null,
   "metadata": {
    "colab": {
     "base_uri": "https://localhost:8080/",
     "height": 94
    },
    "id": "yztqlpvIDocz",
    "outputId": "ebea2abf-faf2-4739-d8f4-5667a5591c68"
   },
   "outputs": [],
   "source": [
    "query_to_df(\n",
    " 'SELECT (SUM(standard_amt_usd)  / SUM(standard_qty)) \\\n",
    " standard_unit_usd FROM orders;'   \n",
    ")"
   ]
  },
  {
   "cell_type": "markdown",
   "metadata": {
    "id": "ZpfedkGMH09Y"
   },
   "source": [
    "### Min and Max\n",
    "\n",
    "Notice that `MIN` and `MAX` are aggregators that again ignore `NULL` values.\n",
    "\n",
    "#### Expert Tip\n",
    "Functionally, MIN and MAX are similar to COUNT in that they can be used on non-numerical columns. Depending on the column type, MIN will return the lowest number, earliest date, or non-numerical value as early in the alphabet as possible. As you might suspect, MAX does the opposite—it returns the highest number, the latest date, or the non-numerical value closest alphabetically to “Z.”"
   ]
  },
  {
   "cell_type": "markdown",
   "metadata": {
    "id": "Rqv1X_9lJGEX"
   },
   "source": [
    "### AVG:\n",
    "\n",
    "Similar to other software `AVG` returns the mean of the data - that is the sum of all of the values in the column divided by the number of values in a column. This aggregate function again ignores the `NULL` values in both the numerator and the denominator.\n",
    "\n",
    "If you want to count NULLs as zero, you will need to use SUM and COUNT. However, this is probably not a good idea if the NULL values truly just represent unknown values for a cell.\n",
    "\n",
    "#### MEDIAN - Expert Tip\n",
    "\n",
    "One quick note that a median might be a more appropriate measure of center for this data, but finding the median happens to be a pretty difficult thing to get using SQL alone — so difficult that finding a median is occasionally asked as an interview question."
   ]
  },
  {
   "cell_type": "markdown",
   "metadata": {
    "id": "fxXoepK1J9V9"
   },
   "source": [
    "### Questions: MIN, MAX, & AVERAGE\n",
    "Answer the following questions."
   ]
  },
  {
   "cell_type": "markdown",
   "metadata": {
    "id": "PcLFehJOKLRv"
   },
   "source": [
    "#### 1. When was the earliest order ever placed? You only need to return the date."
   ]
  },
  {
   "cell_type": "code",
   "execution_count": null,
   "metadata": {
    "colab": {
     "base_uri": "https://localhost:8080/",
     "height": 0
    },
    "id": "MjG5OAPgIM18",
    "outputId": "cc8de47f-624b-49d0-da45-1611e22999a7"
   },
   "outputs": [],
   "source": [
    "query_to_df(\n",
    "    'SELECT MIN(occurred_at) earliest_order FROM orders;'\n",
    ")"
   ]
  },
  {
   "cell_type": "markdown",
   "metadata": {
    "id": "88xJGqbBKjx7"
   },
   "source": [
    "#### 2. Try performing the same query as in question 1 without using an aggregation function."
   ]
  },
  {
   "cell_type": "code",
   "execution_count": null,
   "metadata": {
    "colab": {
     "base_uri": "https://localhost:8080/",
     "height": 0
    },
    "id": "gcJ4lRfyKlQH",
    "outputId": "5b26ae7d-501c-4caf-84b2-5b084d6ccd12"
   },
   "outputs": [],
   "source": [
    "query_to_df(\n",
    "    'SELECT occurred_at earliest_order FROM orders ORDER BY earliest_order LIMIT 1;'\n",
    ")"
   ]
  },
  {
   "cell_type": "markdown",
   "metadata": {
    "id": "XUvcES0fLgy2"
   },
   "source": [
    "#### 3. When did the most recent (latest) web_event occur?"
   ]
  },
  {
   "cell_type": "code",
   "execution_count": null,
   "metadata": {
    "colab": {
     "base_uri": "https://localhost:8080/",
     "height": 0
    },
    "id": "YcBurfcgLkuk",
    "outputId": "2b15bde4-63a7-4d12-a229-62b069fe758d"
   },
   "outputs": [],
   "source": [
    "query_to_df(\n",
    "    'SELECT MAX(occurred_at) latest_event FROM web_events;'\n",
    ")"
   ]
  },
  {
   "cell_type": "markdown",
   "metadata": {
    "id": "KksvrdTrMKYm"
   },
   "source": [
    "#### 4. Try to perform the result of the previous query without using an aggregation function."
   ]
  },
  {
   "cell_type": "code",
   "execution_count": null,
   "metadata": {
    "colab": {
     "base_uri": "https://localhost:8080/",
     "height": 0
    },
    "id": "0dM1ZC-3MM2p",
    "outputId": "257d57b1-2809-459a-9cbe-c31b6e903e4c"
   },
   "outputs": [],
   "source": [
    "query_to_df(\n",
    "    'SELECT occurred_at FROM web_events ORDER BY occurred_at DESC LIMIT 1;'\n",
    ")"
   ]
  },
  {
   "cell_type": "markdown",
   "metadata": {
    "id": "u0cmK8tXOcbi"
   },
   "source": [
    "#### 5. Find the mean (AVERAGE) amount spent per order on each paper type, as well as the mean amount of each paper type purchased per order. Your final answer should have 6 values - one for each paper type for the average number of sales, as well as the average amount."
   ]
  },
  {
   "cell_type": "code",
   "execution_count": null,
   "metadata": {
    "colab": {
     "base_uri": "https://localhost:8080/",
     "height": 0
    },
    "id": "Z8oShKsROeam",
    "outputId": "2a32fc87-5f4f-487f-81d2-cd09ad8a80ff"
   },
   "outputs": [],
   "source": [
    "query_to_df(\n",
    "    'SELECT SUM(standard_amt_usd) / SUM(standard_qty) avg_standard_usd, \\\n",
    "    SUM(total) / SUM(standard_qty) avg_standard_qty, \\\n",
    "    SUM(gloss_amt_usd) / SUM(gloss_qty) avg_gloss_usd, \\\n",
    "    SUM(total) / SUM(gloss_qty) avg_gloss_qty, \\\n",
    "    SUM(poster_amt_usd) / SUM(poster_qty) avg_poster_usd, \\\n",
    "    SUM(total) / SUM(poster_qty) avg_poster_qty\\\n",
    "    FROM orders;'\n",
    ")"
   ]
  },
  {
   "cell_type": "markdown",
   "metadata": {
    "id": "He9z17naXhgs"
   },
   "source": [
    "#### 6: Via the video, you might be interested in how to calculate the MEDIAN. Though this is more advanced than what we have covered so far try finding - what is the MEDIAN total_usd spent on all orders?"
   ]
  },
  {
   "cell_type": "code",
   "execution_count": null,
   "metadata": {
    "colab": {
     "base_uri": "https://localhost:8080/",
     "height": 123
    },
    "id": "DOBx0HGrXliZ",
    "outputId": "04757d0d-d079-4252-d439-89ca9c309588"
   },
   "outputs": [],
   "source": [
    "query_to_df(\n",
    "    'SELECT * FROM \\\n",
    "    (SELECT total_amt_usd FROM orders ORDER BY total_amt_usd LIMIT 3457) \\\n",
    "    AS tot_amt ORDER BY total_amt_usd DESC LIMIT 2;'\n",
    ")"
   ]
  },
  {
   "cell_type": "markdown",
   "metadata": {
    "id": "5CzSKmxp5C0s"
   },
   "source": [
    "## GROUP BY:\n",
    "\n",
    "* `GROUP BY` can be used to aggregate data within subsets of the data. For example, grouping for different accounts, different regions, or different sales representatives.\n",
    "\n",
    "\n",
    "* Any column in the `SELECT` statement that is not within an aggregator must be in the `GROUP BY` clause.\n",
    "\n",
    "\n",
    "* The `GROUP BY` always goes between `WHERE` and `ORDER BY`.\n",
    "\n",
    "\n",
    "* `ORDER BY` works like SORT in spreadsheet software."
   ]
  },
  {
   "cell_type": "markdown",
   "metadata": {
    "id": "1CmEIYJ86B-7"
   },
   "source": [
    "### GROUP BY - Expert Tip:\n",
    "\n",
    "SQL evaluates the aggregations before the `LIMIT` clause. If you don’t `group by` any columns, you’ll get a 1-row result—no problem there. If you `group by` a column with enough unique values that it exceeds the `LIMIT` number, the aggregates will be calculated, and then some rows will simply be omitted from the results.\n",
    "\n",
    "This is actually a nice way to do things because you know you’re going to get the correct aggregates. If SQL cuts the table down to 100 rows, then performed the aggregations, your results would be substantially different. So the default style of `Group by` before `LIMIT` which usally comes last is ok."
   ]
  },
  {
   "cell_type": "markdown",
   "metadata": {
    "id": "qTTnsnsG6s7J"
   },
   "source": [
    "## GROUP BY QUIZ:\n",
    "\n",
    "Now that we've been introduced to `JOINs`, `GROUP BY`, and aggregate functions, the real power of SQL starts to come to life. Try some of the below to put your skills to the test!\n",
    "\n",
    "One part that can be difficult to recognize is when it might be easiest to use an aggregate or one of the other SQL functionalities. Try some of the below to see if you can differentiate to find the easiest solution."
   ]
  },
  {
   "cell_type": "markdown",
   "metadata": {
    "id": "CgSG9eu07Qnf"
   },
   "source": [
    "## Q1\n",
    "\n",
    "Which account (by name) placed the earliest order? Your solution should have the account name and the date of the order."
   ]
  },
  {
   "cell_type": "code",
   "execution_count": null,
   "metadata": {
    "colab": {
     "base_uri": "https://localhost:8080/",
     "height": 0
    },
    "id": "tne9wD8q5oiD",
    "outputId": "17df66ef-0ec3-4128-e696-1afce0b071ad"
   },
   "outputs": [],
   "source": [
    "query_to_df(\n",
    "    'SELECT a.name acct_name, o.occurred_at date from accounts a JOIN \\\n",
    "    orders o ON a.id = o.account_id ORDER BY date LIMIT 1;'\n",
    ")"
   ]
  },
  {
   "cell_type": "markdown",
   "metadata": {
    "id": "yN_PIn1u_dXF"
   },
   "source": [
    "## Q2\n",
    "\n",
    "Find the total sales in usd for each account. You should include two columns - the total sales for each company's orders in usd and the company name."
   ]
  },
  {
   "cell_type": "code",
   "execution_count": null,
   "metadata": {
    "colab": {
     "base_uri": "https://localhost:8080/",
     "height": 0
    },
    "id": "LQvx_DoU_hGd",
    "outputId": "677f5988-1887-4f11-890f-5497a34a3405"
   },
   "outputs": [],
   "source": [
    "query_to_df(\n",
    "    'SELECT SUM(o.total_amt_usd) total_sales_usd, a.name acct_name FROM orders o \\\n",
    "    JOIN accounts a ON o.account_id = a.id GROUP BY acct_name;'\n",
    ")"
   ]
  },
  {
   "cell_type": "markdown",
   "metadata": {
    "id": "EIQENmiUCCqH"
   },
   "source": [
    "## Q3\n",
    "\n",
    "Via what channel did the most recent (latest) web_event occur, which account was associated with this web_event? Your query should return only three values - the date, channel, and account name."
   ]
  },
  {
   "cell_type": "code",
   "execution_count": null,
   "metadata": {
    "colab": {
     "base_uri": "https://localhost:8080/",
     "height": 0
    },
    "id": "7qyHm3I-CEq0",
    "outputId": "ab19d2b5-fd07-46e7-aa58-ebdedb706b18"
   },
   "outputs": [],
   "source": [
    "query_to_df(\n",
    "    'SELECT w.occurred_at date, w.channel channel, a.name acct_name FROM \\\n",
    "    web_events w JOIN accounts a ON w.account_id = a.id ORDER BY date DESC LIMIT 1;'\n",
    ")"
   ]
  },
  {
   "cell_type": "markdown",
   "metadata": {
    "id": "U1n_ZxU7G21V"
   },
   "source": [
    "## Q4\n",
    "\n",
    "Find the total number of times each type of channel from the web_events was used. Your final table should have two columns - the channel and the number of times the channel was used."
   ]
  },
  {
   "cell_type": "code",
   "execution_count": null,
   "metadata": {
    "colab": {
     "base_uri": "https://localhost:8080/",
     "height": 0
    },
    "id": "S4fZtJ2RG4_G",
    "outputId": "48bb589d-b779-4180-829d-c16322b768f3"
   },
   "outputs": [],
   "source": [
    "query_to_df(\n",
    "    'SELECT w.channel channel, COUNT(w.channel) count FROM web_events w GROUP BY \\\n",
    "    channel;'\n",
    ")"
   ]
  },
  {
   "cell_type": "code",
   "execution_count": null,
   "metadata": {},
   "outputs": [],
   "source": [
    "# Aggregating with DISTINCT...\n",
    "\n",
    "query_to_df(\n",
    "    'SELECT DISTINCT w.channel channel, COUNT(w.channel) count FROM web_events w \\\n",
    "    GROUP BY channel;'\n",
    ")"
   ]
  },
  {
   "cell_type": "markdown",
   "metadata": {
    "id": "93FMcyLhILQG"
   },
   "source": [
    "## Q5\n",
    "Who was the primary contact associated with the earliest web_event?"
   ]
  },
  {
   "cell_type": "code",
   "execution_count": null,
   "metadata": {
    "colab": {
     "base_uri": "https://localhost:8080/",
     "height": 0
    },
    "id": "dQUq7CY0IMoZ",
    "outputId": "2534b902-db64-45d2-ad48-51816449ae17"
   },
   "outputs": [],
   "source": [
    "query_to_df(\n",
    "    'SELECT a.primary_poc FROM accounts a JOIN web_events w ON a.id = \\\n",
    "    w.account_id ORDER BY w.occurred_at LIMIT 1;'\n",
    ")"
   ]
  },
  {
   "cell_type": "markdown",
   "metadata": {
    "id": "yJr04n7JNdlQ"
   },
   "source": [
    "## Q6\n",
    "\n",
    "What was the smallest order placed by each account in terms of total usd. Provide only two columns - the account name and the total usd. Order from smallest dollar amounts to largest.\n"
   ]
  },
  {
   "cell_type": "code",
   "execution_count": null,
   "metadata": {
    "colab": {
     "base_uri": "https://localhost:8080/",
     "height": 0
    },
    "id": "QGkV0PVdNfTP",
    "outputId": "f1498390-1031-4c2e-cbe3-17ad220db4ae"
   },
   "outputs": [],
   "source": [
    "query_to_df(\n",
    "    'SELECT a.name acct_name, MIN(o.total_amt_usd) min_order_usd FROM accounts \\\n",
    "     a JOIN orders o ON a.id = o.account_id GROUP BY acct_name ORDER BY \\\n",
    "     min_order_usd;'\n",
    ")"
   ]
  },
  {
   "cell_type": "markdown",
   "metadata": {
    "id": "i20RY7ttPOLv"
   },
   "source": [
    "## Q7\n",
    "Find the number of sales reps in each region. Your final table should have two columns - the region and the number of sales_reps. Order from fewest reps to most reps."
   ]
  },
  {
   "cell_type": "code",
   "execution_count": null,
   "metadata": {
    "colab": {
     "base_uri": "https://localhost:8080/",
     "height": 0
    },
    "id": "s_eGMm4kPQA9",
    "outputId": "50838725-5cb3-4cc2-e862-d00c43bbb4c8"
   },
   "outputs": [],
   "source": [
    "query_to_df(\n",
    "    'SELECT r.name region, COUNT(s.name) sales_reps_count FROM region r JOIN \\\n",
    "    sales_reps s ON r.id = s.region_id GROUP BY region ORDER BY sales_reps_count;'\n",
    ")"
   ]
  },
  {
   "cell_type": "markdown",
   "metadata": {
    "id": "GkwGmOn3T8Oj"
   },
   "source": [
    "I need to reconfirm the distinct channels in web_evnts again..."
   ]
  },
  {
   "cell_type": "code",
   "execution_count": null,
   "metadata": {
    "colab": {
     "base_uri": "https://localhost:8080/",
     "height": 0
    },
    "id": "C63ZPrCUTFQ8",
    "outputId": "ccf20ee3-9612-405b-c365-6c33abc30157"
   },
   "outputs": [],
   "source": [
    "query_to_df(\n",
    "    'SELECT DISTINCT(w.channel) distinct_channels FROM web_events w ORDER BY \\\n",
    "    distinct_channels;'\n",
    ")"
   ]
  },
  {
   "cell_type": "markdown",
   "metadata": {
    "id": "Os6BBZhMZafk"
   },
   "source": [
    "### **GROUP BY PART 2**\n",
    "\n",
    "* We can `GROUP BY` multiple columns at once. This is often useful to aggregate across a number of different segments.\n",
    "\n",
    "* The order of columns listed in the `ORDER BY` clause does make a difference. You are ordering the columns from left to right. But it makes no difference in `GROUP BY` Clause\n",
    "\n",
    "**GROUP BY - Expert Tips**\n",
    "\n",
    "* The order of column names in your `GROUP BY` clause doesn’t matter—the results will be the same regardless. If we run the same query and reverse the order in the `GROUP BY` clause, you can see we get the same results.\n",
    "\n",
    "\n",
    "* As with `ORDER BY`, we can substitute numbers for column names in the `GROUP BY` clause. It’s generally recommended to do this only when you’re grouping many columns, or if something else is causing the text in the `GROUP BY` clause to be excessively long.\n",
    "\n",
    "\n",
    "* A reminder here that any column that is not within an aggregation must show up in your `GROUP BY` statement. If you forget, you will likely get an error. However, in the off chance that your query does work, you might not like the results!"
   ]
  },
  {
   "cell_type": "markdown",
   "metadata": {
    "id": "Hx4eZNN4argT"
   },
   "source": [
    "## GROUP BY Part II"
   ]
  },
  {
   "cell_type": "markdown",
   "metadata": {
    "id": "Ofue4Q5Saysn"
   },
   "source": [
    "### Q1\n",
    "For each account, determine the average amount of each type of paper they purchased across their orders. Your result should have four columns - one for the account name and one for the average quantity purchased for each of the paper types for each account."
   ]
  },
  {
   "cell_type": "code",
   "execution_count": null,
   "metadata": {
    "colab": {
     "base_uri": "https://localhost:8080/",
     "height": 0
    },
    "id": "qLyAefKEZdSt",
    "outputId": "8b765389-ee7a-4cd0-f949-497356aeefc7"
   },
   "outputs": [],
   "source": [
    "query_to_df(\n",
    "    'SELECT a.name acct_name, AVG(o.standard_qty) ave_standard_qty, AVG(o.poster_qty) \\\n",
    "    ave_poster_qty, AVG(o.gloss_qty) ave_gloss_qty FROM accounts a JOIN orders o ON a.id \\\n",
    "    = o.account_id GROUP BY acct_name;'\n",
    ")"
   ]
  },
  {
   "cell_type": "markdown",
   "metadata": {
    "id": "Tudair67dpUc"
   },
   "source": [
    "### Q2\n",
    "For each account, determine the average amount spent per order on each paper type. Your result should have four columns - one for the account name and one for the average amount spent on each paper type."
   ]
  },
  {
   "cell_type": "code",
   "execution_count": null,
   "metadata": {
    "colab": {
     "base_uri": "https://localhost:8080/",
     "height": 0
    },
    "id": "phxvxX-Ldqsd",
    "outputId": "537d1c02-79cd-4cac-caa4-c3d8d356cf32"
   },
   "outputs": [],
   "source": [
    "query_to_df(\n",
    "    'SELECT a.name acct_name, AVG(o.standard_amt_usd) ave_standard_usd, AVG(o.poster_amt_usd) \\\n",
    "    ave_poster_usd, AVG(o.gloss_amt_usd) ave_gloss_usd FROM accounts a JOIN orders o ON a.id \\\n",
    "    = o.account_id GROUP BY acct_name;'\n",
    ")"
   ]
  },
  {
   "cell_type": "markdown",
   "metadata": {
    "id": "HijSsgCxflz3"
   },
   "source": [
    "## Q3\n",
    "Determine the number of times a particular channel was used in the web_events table for each sales rep. Your final table should have three columns - the name of the sales rep, the channel, and the number of occurrences. Order your table with the highest number of occurrences first."
   ]
  },
  {
   "cell_type": "code",
   "execution_count": null,
   "metadata": {
    "colab": {
     "base_uri": "https://localhost:8080/",
     "height": 418
    },
    "id": "ExP-tuvIfnSI",
    "outputId": "3768daeb-2389-4f56-c5a6-6c62e9fc1415"
   },
   "outputs": [],
   "source": [
    "query_to_df(\n",
    "    'SELECT s.name sales_rep, w.channel channels, COUNT(w.channel) count FROM \\\n",
    "    sales_reps s JOIN accounts a ON s.id = a.sales_rep_id JOIN web_events w ON \\\n",
    "    w.account_id = a.id GROUP BY sales_rep, channels ORDER BY sales_rep, count DESC;'\n",
    ")"
   ]
  },
  {
   "cell_type": "code",
   "execution_count": null,
   "metadata": {},
   "outputs": [],
   "source": [
    "# Aggregating with DISTINCT\n",
    "\n",
    "query_to_df(\n",
    "    'SELECT DISTINCT s.name sales_rep, w.channel channels, COUNT(w.channel) count FROM \\\n",
    "    sales_reps s JOIN accounts a ON s.id = a.sales_rep_id JOIN web_events w ON \\\n",
    "    w.account_id = a.id GROUP BY sales_rep, channels ORDER BY sales_rep, count DESC;'\n",
    ")"
   ]
  },
  {
   "cell_type": "markdown",
   "metadata": {
    "id": "UPfWNe_Zjsfr"
   },
   "source": [
    "### Q4\n",
    "Determine the number of times a particular channel was used in the web_events table for each region. Your final table should have three columns - the region name, the channel, and the number of occurrences. Order your table with the highest number of occurrences first.\n"
   ]
  },
  {
   "cell_type": "code",
   "execution_count": null,
   "metadata": {
    "colab": {
     "base_uri": "https://localhost:8080/",
     "height": 418
    },
    "id": "uZAM1JLLjt8y",
    "outputId": "60f4548c-a955-4ccb-c617-1228c8b6c2d0"
   },
   "outputs": [],
   "source": [
    "query_to_df(\n",
    "    'SELECT r.name region, w.channel channels, COUNT(w.channel) count FROM \\\n",
    "    region r JOIN sales_reps s ON r.id = s.region_id JOIN accounts a ON s.id = \\\n",
    "    a.sales_rep_id JOIN web_events w ON w.account_id = a.id GROUP BY region, \\\n",
    "    channels ORDER BY region, count DESC;'\n",
    ")"
   ]
  },
  {
   "cell_type": "markdown",
   "metadata": {
    "id": "ipdVy5lju-kY"
   },
   "source": [
    "### **Distinct**\n",
    "\n",
    "* `DISTINCT` is always used in `SELECT` statements, and it provides the unique rows for all columns written in the `SELECT` statement. Therefore, you only use `DISTINCT` once in any particular `SELECT` statement.\n",
    "\n",
    "* You could write:\n",
    "```\n",
    "SELECT DISTINCT column1, column2, column3\n",
    "FROM table1;\n",
    "```\n",
    "which would return the unique (or DISTINCT) rows across all three columns.\n",
    "\n",
    "* You could not write:\n",
    "```\n",
    "SELECT DISTINCT column1, DISTINCT column2, DISTINCT column3\n",
    "FROM table1;\n",
    "```\n",
    "* You can think of DISTINCT the same way you might think of the statement \"unique\".\n",
    "\n",
    "\n",
    "**DISTINCT - Expert Tip**\n",
    "\n",
    "It’s worth noting that using `DISTINCT`, particularly in aggregations, can slow your queries down quite a bit."
   ]
  },
  {
   "cell_type": "markdown",
   "metadata": {
    "id": "zdfWba7Dv-mx"
   },
   "source": [
    "## Q1 Distinct\n",
    "\n",
    "Use DISTINCT to test if there are any accounts associated with more than one region."
   ]
  },
  {
   "cell_type": "code",
   "execution_count": null,
   "metadata": {
    "colab": {
     "base_uri": "https://localhost:8080/",
     "height": 418
    },
    "id": "dhmhnsvBvLTH",
    "outputId": "c315620c-7dfe-4f6b-b221-281a2b3943dd"
   },
   "outputs": [],
   "source": [
    "query_to_df(\n",
    "    'SELECT DISTINCT a.name acct_name, COUNT(r.name) count FROM \\\n",
    "    accounts a JOIN sales_reps s ON a.sales_rep_id = s.id JOIN region r on \\\n",
    "    s.region_id = r.id GROUP BY acct_name ORDER BY count DESC;'\n",
    ")"
   ]
  },
  {
   "cell_type": "markdown",
   "metadata": {
    "id": "uYVrZBHk1YB6"
   },
   "source": [
    "### Q2\n",
    "Have any sales reps worked on more than one account? Answer using Distinct"
   ]
  },
  {
   "cell_type": "code",
   "execution_count": null,
   "metadata": {
    "colab": {
     "base_uri": "https://localhost:8080/",
     "height": 418
    },
    "id": "6hu2b6gm1fap",
    "outputId": "3ad8ffbf-a127-47c9-d145-e1d22709556b"
   },
   "outputs": [],
   "source": [
    "query_to_df(\n",
    "    'SELECT DISTINCT s.name sales_rep, COUNT(a.name) count \\\n",
    "    FROM sales_reps s JOIN accounts a on s.id = a.sales_rep_id GROUP BY sales_rep \\\n",
    "     ORDER BY count DESC;'\n",
    ")"
   ]
  },
  {
   "cell_type": "markdown",
   "metadata": {
    "id": "DnUV1U2A6Rqg"
   },
   "source": [
    "## **Having**\n",
    "\n",
    "**HAVING - Expert Tip**\n",
    "\n",
    "HAVING is the “clean” way to filter a query that has been aggregated, but this is also commonly done using a subquery. Essentially, any time you want to perform a `WHERE` on an element of your query that was created by an aggregate, you need to use `HAVING` instead."
   ]
  },
  {
   "cell_type": "markdown",
   "metadata": {
    "id": "w6yDOSyd7KpF"
   },
   "source": [
    "## **Pitching Where and Having**\n",
    "\n",
    "1. `WHERE` subsets the returned data based on a logical condition\n",
    "2. `WHERE` appears after the `FROM`, `JOIN` and `ON` clauses but before the `GROUP BY`\n",
    "3. `HAVING` appears after the `GROUP BY` clause but before the `ORDER BY`.\n",
    "4. `HAVING` is like `WHERE` but it works on logical statements involving aggregations.  "
   ]
  },
  {
   "cell_type": "markdown",
   "metadata": {
    "id": "SwzB13ZY91ex"
   },
   "source": [
    "### Q\n",
    "\n",
    "How many of the sales reps have more than 5 accounts that they manage?"
   ]
  },
  {
   "cell_type": "code",
   "execution_count": null,
   "metadata": {
    "colab": {
     "base_uri": "https://localhost:8080/",
     "height": 94
    },
    "id": "_pd5t73W6f8J",
    "outputId": "14905f29-94d8-4a09-f68a-8afa0cfc88bd"
   },
   "outputs": [],
   "source": [
    "query_to_df(\n",
    "    'SELECT COUNT(*) num_reps FROM\\\n",
    "    (SELECT DISTINCT s.name sales_rep, COUNT(a.name) count FROM sales_reps s JOIN \\\n",
    "    accounts a on s.id = a.sales_rep_id GROUP BY sales_rep HAVING count > 5 \\\n",
    "    ORDER BY count) AS t1;'\n",
    ")"
   ]
  },
  {
   "cell_type": "markdown",
   "metadata": {
    "id": "f7uHdzfu_5Nf"
   },
   "source": [
    "### Q\n",
    "\n",
    "How many accounts have more than 20 orders?"
   ]
  },
  {
   "cell_type": "code",
   "execution_count": null,
   "metadata": {
    "colab": {
     "base_uri": "https://localhost:8080/",
     "height": 94
    },
    "id": "gzAI2FRYAAqO",
    "outputId": "1f525895-5e0f-438e-91ea-98d2b75690ed"
   },
   "outputs": [],
   "source": [
    "query_to_df(\n",
    "    'SELECT COUNT(*) num_accts FROM \\\n",
    "    (SELECT DISTINCT a.name acct_name, COUNT(o.account_id) orders FROM accounts a JOIN \\\n",
    "    orders o ON a.id = o.account_id GROUP BY acct_name HAVING orders > 20 \\\n",
    "    ORDER BY orders) AS t1;'\n",
    ")"
   ]
  },
  {
   "cell_type": "markdown",
   "metadata": {
    "id": "5KzvrrdGDUHH"
   },
   "source": [
    "### Q\n",
    "Which account has the most orders?"
   ]
  },
  {
   "cell_type": "code",
   "execution_count": null,
   "metadata": {
    "colab": {
     "base_uri": "https://localhost:8080/",
     "height": 94
    },
    "id": "ikGO8hp0DVQJ",
    "outputId": "912d7c1a-3c3d-41da-8aa5-bda91bc07ca0"
   },
   "outputs": [],
   "source": [
    "query_to_df(\n",
    "    'SELECT DISTINCT a.name acct_name, COUNT(o.account_id) orders FROM accounts a \\\n",
    "    JOIN orders o ON a.id = o.account_id GROUP BY acct_name ORDER BY orders DESC\\\n",
    "    LIMIT 1;'\n",
    ")"
   ]
  },
  {
   "cell_type": "markdown",
   "metadata": {
    "id": "1MKxRaWFE1J4"
   },
   "source": [
    "### Q\n",
    "How many accounts spent more than 30,000 usd total across all orders?"
   ]
  },
  {
   "cell_type": "code",
   "execution_count": null,
   "metadata": {
    "colab": {
     "base_uri": "https://localhost:8080/",
     "height": 94
    },
    "id": "JiooylXUE230",
    "outputId": "1d359a77-3661-42a3-b9e6-40734ea95580"
   },
   "outputs": [],
   "source": [
    "query_to_df(\n",
    "    'SELECT COUNT(*) total_accts_over_30k FROM \\\n",
    "    (SELECT DISTINCT a.name acct_name, SUM(o.total_amt_usd) sum_total FROM accounts \\\n",
    "    a JOIN orders o on a.id=o.account_id GROUP BY acct_name HAVING sum_total > \\\n",
    "    30000 ORDER BY 2) AS t1;'\n",
    ")"
   ]
  },
  {
   "cell_type": "markdown",
   "metadata": {
    "id": "sUlpXMHSGOTp"
   },
   "source": [
    "### Q\n",
    "Which accounts spent less than 1,000 usd total across all orders?"
   ]
  },
  {
   "cell_type": "code",
   "execution_count": null,
   "metadata": {
    "colab": {
     "base_uri": "https://localhost:8080/",
     "height": 153
    },
    "id": "ANPfi8cOGPsW",
    "outputId": "bb8342da-b73d-4a6b-a9ea-63ce8a63ac84"
   },
   "outputs": [],
   "source": [
    "query_to_df(\n",
    "    'SELECT DISTINCT a.name acct_name, SUM(o.total_amt_usd) total_spent FROM \\\n",
    "    accounts a JOIN orders o ON a.id=o.account_id GROUP BY acct_name HAVING \\\n",
    "    total_spent < 1000 ORDER BY total_spent DESC;'\n",
    ")"
   ]
  },
  {
   "cell_type": "markdown",
   "metadata": {
    "id": "OrqoEoGBIFFf"
   },
   "source": [
    "### Q\n",
    "Which account has spent the most with us?"
   ]
  },
  {
   "cell_type": "code",
   "execution_count": null,
   "metadata": {
    "colab": {
     "base_uri": "https://localhost:8080/",
     "height": 94
    },
    "id": "coK_v1m_IITV",
    "outputId": "1cacbbf2-bb2f-41ad-964e-22fb722866f9"
   },
   "outputs": [],
   "source": [
    "query_to_df(\n",
    "    'SELECT DISTINCT a.name acct_name, SUM(o.total_amt_usd) max_total_spent FROM \\\n",
    "    accounts a JOIN orders o ON a.id=o.account_id GROUP BY acct_name ORDER BY \\\n",
    "    max_total_spent DESC LIMIT 1;'\n",
    ")"
   ]
  },
  {
   "cell_type": "markdown",
   "metadata": {
    "id": "bQA1NX_wJXjX"
   },
   "source": [
    "### Q\n",
    "Which account has spent the least with us?"
   ]
  },
  {
   "cell_type": "code",
   "execution_count": null,
   "metadata": {
    "colab": {
     "base_uri": "https://localhost:8080/",
     "height": 94
    },
    "id": "SC1OYxQPJZjZ",
    "outputId": "e3057b67-3006-41e5-e2ee-e0616a1b2472"
   },
   "outputs": [],
   "source": [
    "query_to_df(\n",
    "    'SELECT DISTINCT a.name acct_name, SUM(o.total_amt_usd) min_total_spent FROM \\\n",
    "    accounts a JOIN orders o ON a.id=o.account_id GROUP BY acct_name ORDER BY \\\n",
    "    min_total_spent LIMIT 1;'\n",
    ")"
   ]
  },
  {
   "cell_type": "markdown",
   "metadata": {
    "id": "4RoorXdyKryr"
   },
   "source": [
    "### Q\n",
    "Which accounts used facebook as a channel to contact customers more than 6 times?"
   ]
  },
  {
   "cell_type": "code",
   "execution_count": null,
   "metadata": {
    "colab": {
     "base_uri": "https://localhost:8080/",
     "height": 418
    },
    "id": "T5O7sXYSKtAa",
    "outputId": "7b5f5fa7-ae72-424b-d8c7-4bc98b321abe"
   },
   "outputs": [],
   "source": [
    "query_to_df(\n",
    "    'SELECT DISTINCT a.name acct_name, w.channel channels, COUNT(w.channel) count \\\n",
    "    FROM accounts a JOIN web_events w ON a.id=w.account_id WHERE w.channel LIKE \\\n",
    "    \"%facebook%\" GROUP BY acct_name, channels HAVING count > 6 ORDER BY count;'\n",
    ")"
   ]
  },
  {
   "cell_type": "code",
   "execution_count": null,
   "metadata": {
    "colab": {
     "base_uri": "https://localhost:8080/",
     "height": 418
    },
    "id": "zq5rxVr0VcJX",
    "outputId": "efe6918a-ca49-4c9b-fc2e-67d5877f29c2"
   },
   "outputs": [],
   "source": [
    "# Query can be written with only HAVING like so...\n",
    "\n",
    "query_to_df(\n",
    "    'SELECT a.id, a.name, w.channel, COUNT(*) use_of_channel FROM accounts a \\\n",
    "    JOIN web_events w ON a.id = w.account_id GROUP BY a.id, a.name, w.channel \\\n",
    "    HAVING COUNT(*) > 6 AND w.channel LIKE \"%facebook%\" ORDER BY use_of_channel;'\n",
    ")"
   ]
  },
  {
   "cell_type": "markdown",
   "metadata": {
    "id": "bDF0VtvJO4NT"
   },
   "source": [
    "### Q\n",
    "Which account used facebook most as a channel?"
   ]
  },
  {
   "cell_type": "code",
   "execution_count": null,
   "metadata": {
    "colab": {
     "base_uri": "https://localhost:8080/",
     "height": 94
    },
    "id": "71BIHir1O52p",
    "outputId": "ec0b3b89-8fdd-4413-dd74-e53ddd0879e9"
   },
   "outputs": [],
   "source": [
    "query_to_df(\n",
    "    'SELECT DISTINCT a.name acct_name, w.channel channels, COUNT(w.channel) count \\\n",
    "    FROM accounts a JOIN web_events w ON a.id=w.account_id WHERE w.channel LIKE \\\n",
    "    \"%facebook%\" GROUP BY 1, 2 ORDER BY 3 DESC LIMIT 1;'\n",
    ")"
   ]
  },
  {
   "cell_type": "markdown",
   "metadata": {
    "id": "V6tZOuRVP9cQ"
   },
   "source": [
    "### Q\n",
    "Which channel was most frequently used by most accounts?"
   ]
  },
  {
   "cell_type": "code",
   "execution_count": null,
   "metadata": {
    "colab": {
     "base_uri": "https://localhost:8080/",
     "height": 360
    },
    "id": "Q53BwD15P--u",
    "outputId": "f0b06efe-cde4-4f5a-d410-fbe19bd52c88"
   },
   "outputs": [],
   "source": [
    "query_to_df(\n",
    "    'SELECT a.name acct_name, w.channel channels, COUNT(w.channel) count \\\n",
    "    FROM accounts a JOIN web_events w ON a.id=w.account_id GROUP BY acct_name, \\\n",
    "    channels ORDER BY count DESC LIMIT 10;'\n",
    ")"
   ]
  },
  {
   "cell_type": "code",
   "execution_count": null,
   "metadata": {},
   "outputs": [],
   "source": [
    "# End the connection after running notebook\n",
    "\n",
    "if connection.is_connected():\n",
    "    cursor.close()\n",
    "    connection.close()\n",
    "    print(f'Closing MySQL Connection to {record} Database')"
   ]
  }
 ],
 "metadata": {
  "colab": {
   "authorship_tag": "ABX9TyOfO217sChAuPPO7glSXZey",
   "collapsed_sections": [
    "av1i5vS89jeN",
    "yYHqRnSq-e-H",
    "ZpfedkGMH09Y",
    "Rqv1X_9lJGEX",
    "PcLFehJOKLRv",
    "88xJGqbBKjx7",
    "XUvcES0fLgy2",
    "KksvrdTrMKYm",
    "u0cmK8tXOcbi",
    "1CmEIYJ86B-7",
    "qTTnsnsG6s7J",
    "CgSG9eu07Qnf",
    "yN_PIn1u_dXF",
    "EIQENmiUCCqH",
    "U1n_ZxU7G21V",
    "93FMcyLhILQG",
    "yJr04n7JNdlQ",
    "i20RY7ttPOLv",
    "Os6BBZhMZafk",
    "Ofue4Q5Saysn",
    "Tudair67dpUc"
   ],
   "include_colab_link": true,
   "name": "sql_for_data_analysis3.ipynb",
   "provenance": []
  },
  "kernelspec": {
   "display_name": "Python 3",
   "language": "python",
   "name": "python3"
  },
  "language_info": {
   "codemirror_mode": {
    "name": "ipython",
    "version": 3
   },
   "file_extension": ".py",
   "mimetype": "text/x-python",
   "name": "python",
   "nbconvert_exporter": "python",
   "pygments_lexer": "ipython3",
   "version": "3.8.5"
  }
 },
 "nbformat": 4,
 "nbformat_minor": 1
}
