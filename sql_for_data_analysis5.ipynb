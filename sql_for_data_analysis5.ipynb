{
 "cells": [
  {
   "cell_type": "markdown",
   "id": "positive-illinois",
   "metadata": {},
   "source": [
    "# Sub-Queries and Temporary Tables"
   ]
  },
  {
   "cell_type": "markdown",
   "id": "imposed-pattern",
   "metadata": {},
   "source": [
    "We connect to MySQL server and workbench and make analysis with the parch-and-posey database. This course is the practicals of the course SQL for Data Analysis at Udacity."
   ]
  },
  {
   "cell_type": "code",
   "execution_count": 1,
   "id": "collective-humidity",
   "metadata": {},
   "outputs": [
    {
     "name": "stdout",
     "output_type": "stream",
     "text": [
      "Done!\n"
     ]
    }
   ],
   "source": [
    "# we import some required libraries\n",
    "\n",
    "import pandas as pd\n",
    "import numpy as np\n",
    "import matplotlib.pyplot as plt\n",
    "import seaborn as sns\n",
    "from pprint import pprint\n",
    "import time\n",
    "print('Done!')"
   ]
  },
  {
   "cell_type": "markdown",
   "id": "designing-empire",
   "metadata": {},
   "source": [
    "**Next, we create a connection to the parch-and-posey DataBase in MySQL Work-Bench**"
   ]
  },
  {
   "cell_type": "code",
   "execution_count": 2,
   "id": "cleared-gregory",
   "metadata": {},
   "outputs": [
    {
     "name": "stdout",
     "output_type": "stream",
     "text": [
      "Enter UserName:danam\n",
      "Enter Password:········\n",
      "Connected to MySQL Server version  8.0.24\n",
      "You're connected to database:  ('parch_and_posey',)\n"
     ]
    }
   ],
   "source": [
    "import mysql\n",
    "from mysql.connector import Error\n",
    "from getpass import getpass\n",
    "\n",
    "try:\n",
    "    connection = mysql.connector.connect(host='localhost',\n",
    "                                         database='parch_and_posey',\n",
    "                                         user=input('Enter UserName:'),\n",
    "                                         password=getpass('Enter Password:'))\n",
    "    if connection.is_connected():\n",
    "        db_Info = connection.get_server_info()\n",
    "        print(\"Connected to MySQL Server version \", db_Info)\n",
    "        cursor = connection.cursor()\n",
    "        cursor.execute(\"select database();\")\n",
    "        record = cursor.fetchone()\n",
    "        print(\"You're connected to database: \", record)\n",
    "\n",
    "except Error as e:\n",
    "    print(\"Error while connecting to MySQL\", e)"
   ]
  },
  {
   "cell_type": "code",
   "execution_count": 3,
   "id": "fourth-secretary",
   "metadata": {},
   "outputs": [
    {
     "data": {
      "text/plain": [
       "[('accounts',), ('orders',), ('region',), ('sales_reps',), ('web_events',)]"
      ]
     },
     "execution_count": 3,
     "metadata": {},
     "output_type": "execute_result"
    }
   ],
   "source": [
    "# Let's see the tables in the database\n",
    "\n",
    "# let's run the show tables command \n",
    "\n",
    "cursor.execute('show tables')\n",
    "out = cursor.fetchall()\n",
    "out"
   ]
  },
  {
   "cell_type": "markdown",
   "id": "occupied-thong",
   "metadata": {},
   "source": [
    "**Defining a method that converts the result of a query to a dataframe**"
   ]
  },
  {
   "cell_type": "code",
   "execution_count": 4,
   "id": "terminal-frederick",
   "metadata": {},
   "outputs": [],
   "source": [
    "def query_to_df(query):\n",
    "    st = time.time()\n",
    "    # Assert Every Query ends with a semi-colon\n",
    "    try:\n",
    "        assert query.endswith(';')\n",
    "    except AssertionError:\n",
    "        return 'ERROR: Query Must End with ;'\n",
    "\n",
    "    # so we never have more than 20 rows displayed\n",
    "    pd.set_option('display.max_rows', 20) \n",
    "    df = None\n",
    "\n",
    "    # Process the query\n",
    "    cursor.execute(query)\n",
    "    columns = cursor.description\n",
    "    result = []\n",
    "    for value in cursor.fetchall():\n",
    "        tmp = {}\n",
    "        for (index,column) in enumerate(value):\n",
    "            tmp[columns[index][0]] = [column]\n",
    "        result.append(tmp)\n",
    "\n",
    "    # Create a DataFrame from all results\n",
    "    for ind, data in enumerate(result):\n",
    "        if ind >= 1:\n",
    "            x = pd.DataFrame(data)\n",
    "            df = pd.concat([df, x], ignore_index=True)\n",
    "        else:\n",
    "            df = pd.DataFrame(data)\n",
    "    print(f'Query ran for {time.time()-st} secs!')\n",
    "    return df"
   ]
  },
  {
   "cell_type": "code",
   "execution_count": 5,
   "id": "parallel-boost",
   "metadata": {},
   "outputs": [
    {
     "name": "stdout",
     "output_type": "stream",
     "text": [
      "Query ran for 0.007980108261108398 secs!\n"
     ]
    },
    {
     "data": {
      "text/html": [
       "<div>\n",
       "<style scoped>\n",
       "    .dataframe tbody tr th:only-of-type {\n",
       "        vertical-align: middle;\n",
       "    }\n",
       "\n",
       "    .dataframe tbody tr th {\n",
       "        vertical-align: top;\n",
       "    }\n",
       "\n",
       "    .dataframe thead th {\n",
       "        text-align: right;\n",
       "    }\n",
       "</style>\n",
       "<table border=\"1\" class=\"dataframe\">\n",
       "  <thead>\n",
       "    <tr style=\"text-align: right;\">\n",
       "      <th></th>\n",
       "      <th>id</th>\n",
       "      <th>name</th>\n",
       "      <th>website</th>\n",
       "      <th>lat</th>\n",
       "      <th>longs</th>\n",
       "      <th>primary_poc</th>\n",
       "      <th>sales_rep_id</th>\n",
       "    </tr>\n",
       "  </thead>\n",
       "  <tbody>\n",
       "    <tr>\n",
       "      <th>0</th>\n",
       "      <td>1001</td>\n",
       "      <td>Walmart</td>\n",
       "      <td>www.walmart.com</td>\n",
       "      <td>40.23849561</td>\n",
       "      <td>-75.10329704</td>\n",
       "      <td>Tamara Tuma</td>\n",
       "      <td>321500</td>\n",
       "    </tr>\n",
       "    <tr>\n",
       "      <th>1</th>\n",
       "      <td>1011</td>\n",
       "      <td>Exxon Mobil</td>\n",
       "      <td>www.exxonmobil.com</td>\n",
       "      <td>41.16915630</td>\n",
       "      <td>-73.84937379</td>\n",
       "      <td>Sung Shields</td>\n",
       "      <td>321510</td>\n",
       "    </tr>\n",
       "    <tr>\n",
       "      <th>2</th>\n",
       "      <td>1021</td>\n",
       "      <td>Apple</td>\n",
       "      <td>www.apple.com</td>\n",
       "      <td>42.29049481</td>\n",
       "      <td>-76.08400942</td>\n",
       "      <td>Jodee Lupo</td>\n",
       "      <td>321520</td>\n",
       "    </tr>\n",
       "  </tbody>\n",
       "</table>\n",
       "</div>"
      ],
      "text/plain": [
       "     id         name             website          lat         longs  \\\n",
       "0  1001      Walmart     www.walmart.com  40.23849561  -75.10329704   \n",
       "1  1011  Exxon Mobil  www.exxonmobil.com  41.16915630  -73.84937379   \n",
       "2  1021        Apple       www.apple.com  42.29049481  -76.08400942   \n",
       "\n",
       "    primary_poc  sales_rep_id  \n",
       "0   Tamara Tuma        321500  \n",
       "1  Sung Shields        321510  \n",
       "2    Jodee Lupo        321520  "
      ]
     },
     "execution_count": 5,
     "metadata": {},
     "output_type": "execute_result"
    }
   ],
   "source": [
    "# 1. For the accounts table\n",
    "\n",
    "query = 'SELECT * FROM accounts LIMIT 3;'\n",
    "query_to_df(query)"
   ]
  },
  {
   "cell_type": "code",
   "execution_count": 6,
   "id": "fourth-charles",
   "metadata": {},
   "outputs": [
    {
     "name": "stdout",
     "output_type": "stream",
     "text": [
      "Query ran for 0.009941816329956055 secs!\n"
     ]
    },
    {
     "data": {
      "text/html": [
       "<div>\n",
       "<style scoped>\n",
       "    .dataframe tbody tr th:only-of-type {\n",
       "        vertical-align: middle;\n",
       "    }\n",
       "\n",
       "    .dataframe tbody tr th {\n",
       "        vertical-align: top;\n",
       "    }\n",
       "\n",
       "    .dataframe thead th {\n",
       "        text-align: right;\n",
       "    }\n",
       "</style>\n",
       "<table border=\"1\" class=\"dataframe\">\n",
       "  <thead>\n",
       "    <tr style=\"text-align: right;\">\n",
       "      <th></th>\n",
       "      <th>id</th>\n",
       "      <th>account_id</th>\n",
       "      <th>occurred_at</th>\n",
       "      <th>standard_qty</th>\n",
       "      <th>gloss_qty</th>\n",
       "      <th>poster_qty</th>\n",
       "      <th>total</th>\n",
       "      <th>standard_amt_usd</th>\n",
       "      <th>gloss_amt_usd</th>\n",
       "      <th>poster_amt_usd</th>\n",
       "      <th>total_amt_usd</th>\n",
       "    </tr>\n",
       "  </thead>\n",
       "  <tbody>\n",
       "    <tr>\n",
       "      <th>0</th>\n",
       "      <td>1</td>\n",
       "      <td>1001</td>\n",
       "      <td>2015-10-06 17:31:14</td>\n",
       "      <td>123</td>\n",
       "      <td>22</td>\n",
       "      <td>24</td>\n",
       "      <td>169</td>\n",
       "      <td>613.77</td>\n",
       "      <td>164.78</td>\n",
       "      <td>194.88</td>\n",
       "      <td>973.43</td>\n",
       "    </tr>\n",
       "    <tr>\n",
       "      <th>1</th>\n",
       "      <td>2</td>\n",
       "      <td>1001</td>\n",
       "      <td>2015-11-05 03:34:33</td>\n",
       "      <td>190</td>\n",
       "      <td>41</td>\n",
       "      <td>57</td>\n",
       "      <td>288</td>\n",
       "      <td>948.10</td>\n",
       "      <td>307.09</td>\n",
       "      <td>462.84</td>\n",
       "      <td>1718.03</td>\n",
       "    </tr>\n",
       "    <tr>\n",
       "      <th>2</th>\n",
       "      <td>3</td>\n",
       "      <td>1001</td>\n",
       "      <td>2015-12-04 04:21:55</td>\n",
       "      <td>85</td>\n",
       "      <td>47</td>\n",
       "      <td>0</td>\n",
       "      <td>132</td>\n",
       "      <td>424.15</td>\n",
       "      <td>352.03</td>\n",
       "      <td>0.00</td>\n",
       "      <td>776.18</td>\n",
       "    </tr>\n",
       "  </tbody>\n",
       "</table>\n",
       "</div>"
      ],
      "text/plain": [
       "   id  account_id         occurred_at  standard_qty  gloss_qty  poster_qty  \\\n",
       "0   1        1001 2015-10-06 17:31:14           123         22          24   \n",
       "1   2        1001 2015-11-05 03:34:33           190         41          57   \n",
       "2   3        1001 2015-12-04 04:21:55            85         47           0   \n",
       "\n",
       "   total standard_amt_usd gloss_amt_usd poster_amt_usd total_amt_usd  \n",
       "0    169           613.77        164.78         194.88        973.43  \n",
       "1    288           948.10        307.09         462.84       1718.03  \n",
       "2    132           424.15        352.03           0.00        776.18  "
      ]
     },
     "execution_count": 6,
     "metadata": {},
     "output_type": "execute_result"
    }
   ],
   "source": [
    "# 2. For the orders table\n",
    "\n",
    "query = 'SELECT * FROM orders LIMIT 3;'\n",
    "query_to_df(query)"
   ]
  },
  {
   "cell_type": "code",
   "execution_count": 7,
   "id": "earned-handle",
   "metadata": {},
   "outputs": [
    {
     "name": "stdout",
     "output_type": "stream",
     "text": [
      "Query ran for 0.006982564926147461 secs!\n"
     ]
    },
    {
     "data": {
      "text/html": [
       "<div>\n",
       "<style scoped>\n",
       "    .dataframe tbody tr th:only-of-type {\n",
       "        vertical-align: middle;\n",
       "    }\n",
       "\n",
       "    .dataframe tbody tr th {\n",
       "        vertical-align: top;\n",
       "    }\n",
       "\n",
       "    .dataframe thead th {\n",
       "        text-align: right;\n",
       "    }\n",
       "</style>\n",
       "<table border=\"1\" class=\"dataframe\">\n",
       "  <thead>\n",
       "    <tr style=\"text-align: right;\">\n",
       "      <th></th>\n",
       "      <th>id</th>\n",
       "      <th>name</th>\n",
       "      <th>region_id</th>\n",
       "    </tr>\n",
       "  </thead>\n",
       "  <tbody>\n",
       "    <tr>\n",
       "      <th>0</th>\n",
       "      <td>321500</td>\n",
       "      <td>Samuel Racine</td>\n",
       "      <td>1</td>\n",
       "    </tr>\n",
       "    <tr>\n",
       "      <th>1</th>\n",
       "      <td>321510</td>\n",
       "      <td>Eugena Esser</td>\n",
       "      <td>1</td>\n",
       "    </tr>\n",
       "    <tr>\n",
       "      <th>2</th>\n",
       "      <td>321520</td>\n",
       "      <td>Michel Averette</td>\n",
       "      <td>1</td>\n",
       "    </tr>\n",
       "  </tbody>\n",
       "</table>\n",
       "</div>"
      ],
      "text/plain": [
       "       id             name  region_id\n",
       "0  321500    Samuel Racine          1\n",
       "1  321510     Eugena Esser          1\n",
       "2  321520  Michel Averette          1"
      ]
     },
     "execution_count": 7,
     "metadata": {},
     "output_type": "execute_result"
    }
   ],
   "source": [
    "# 3. For the sales_reps table\n",
    "\n",
    "query = 'SELECT * FROM sales_reps LIMIT 3;'\n",
    "query_to_df(query)"
   ]
  },
  {
   "cell_type": "code",
   "execution_count": 8,
   "id": "abroad-harvest",
   "metadata": {},
   "outputs": [
    {
     "name": "stdout",
     "output_type": "stream",
     "text": [
      "Query ran for 0.007975578308105469 secs!\n"
     ]
    },
    {
     "data": {
      "text/html": [
       "<div>\n",
       "<style scoped>\n",
       "    .dataframe tbody tr th:only-of-type {\n",
       "        vertical-align: middle;\n",
       "    }\n",
       "\n",
       "    .dataframe tbody tr th {\n",
       "        vertical-align: top;\n",
       "    }\n",
       "\n",
       "    .dataframe thead th {\n",
       "        text-align: right;\n",
       "    }\n",
       "</style>\n",
       "<table border=\"1\" class=\"dataframe\">\n",
       "  <thead>\n",
       "    <tr style=\"text-align: right;\">\n",
       "      <th></th>\n",
       "      <th>id</th>\n",
       "      <th>account_id</th>\n",
       "      <th>occurred_at</th>\n",
       "      <th>channel</th>\n",
       "    </tr>\n",
       "  </thead>\n",
       "  <tbody>\n",
       "    <tr>\n",
       "      <th>0</th>\n",
       "      <td>1</td>\n",
       "      <td>1001</td>\n",
       "      <td>2015-10-06 17:13:58</td>\n",
       "      <td>direct</td>\n",
       "    </tr>\n",
       "    <tr>\n",
       "      <th>1</th>\n",
       "      <td>2</td>\n",
       "      <td>1001</td>\n",
       "      <td>2015-11-05 03:08:26</td>\n",
       "      <td>direct</td>\n",
       "    </tr>\n",
       "    <tr>\n",
       "      <th>2</th>\n",
       "      <td>3</td>\n",
       "      <td>1001</td>\n",
       "      <td>2015-12-04 03:57:24</td>\n",
       "      <td>direct</td>\n",
       "    </tr>\n",
       "  </tbody>\n",
       "</table>\n",
       "</div>"
      ],
      "text/plain": [
       "   id  account_id         occurred_at channel\n",
       "0   1        1001 2015-10-06 17:13:58  direct\n",
       "1   2        1001 2015-11-05 03:08:26  direct\n",
       "2   3        1001 2015-12-04 03:57:24  direct"
      ]
     },
     "execution_count": 8,
     "metadata": {},
     "output_type": "execute_result"
    }
   ],
   "source": [
    "# 4. For the web_events table\n",
    "\n",
    "query = 'SELECT * FROM web_events LIMIT 3;'\n",
    "query_to_df(query)"
   ]
  },
  {
   "cell_type": "code",
   "execution_count": 9,
   "id": "cooked-marsh",
   "metadata": {},
   "outputs": [
    {
     "name": "stdout",
     "output_type": "stream",
     "text": [
      "Query ran for 0.004987001419067383 secs!\n"
     ]
    },
    {
     "data": {
      "text/html": [
       "<div>\n",
       "<style scoped>\n",
       "    .dataframe tbody tr th:only-of-type {\n",
       "        vertical-align: middle;\n",
       "    }\n",
       "\n",
       "    .dataframe tbody tr th {\n",
       "        vertical-align: top;\n",
       "    }\n",
       "\n",
       "    .dataframe thead th {\n",
       "        text-align: right;\n",
       "    }\n",
       "</style>\n",
       "<table border=\"1\" class=\"dataframe\">\n",
       "  <thead>\n",
       "    <tr style=\"text-align: right;\">\n",
       "      <th></th>\n",
       "      <th>id</th>\n",
       "      <th>name</th>\n",
       "    </tr>\n",
       "  </thead>\n",
       "  <tbody>\n",
       "    <tr>\n",
       "      <th>0</th>\n",
       "      <td>1</td>\n",
       "      <td>Northeast</td>\n",
       "    </tr>\n",
       "    <tr>\n",
       "      <th>1</th>\n",
       "      <td>2</td>\n",
       "      <td>Midwest</td>\n",
       "    </tr>\n",
       "    <tr>\n",
       "      <th>2</th>\n",
       "      <td>3</td>\n",
       "      <td>Southeast</td>\n",
       "    </tr>\n",
       "  </tbody>\n",
       "</table>\n",
       "</div>"
      ],
      "text/plain": [
       "   id       name\n",
       "0   1  Northeast\n",
       "1   2    Midwest\n",
       "2   3  Southeast"
      ]
     },
     "execution_count": 9,
     "metadata": {},
     "output_type": "execute_result"
    }
   ],
   "source": [
    "# 5. For the region table\n",
    "\n",
    "query = 'SELECT * FROM region LIMIT 3;'\n",
    "query_to_df(query)"
   ]
  },
  {
   "cell_type": "markdown",
   "id": "natural-heath",
   "metadata": {},
   "source": [
    "## SubQueries:\n",
    "\n",
    "AKA **Inner-queries or Nested-Queries** are tools for performing operations in multiple steps."
   ]
  },
  {
   "cell_type": "markdown",
   "id": "adverse-swiss",
   "metadata": {},
   "source": [
    "### More Subquery Tips:\n",
    "\n",
    "* The original query goes in the `FROM` statement\n",
    "* An `*` is used in the `SELECT` statement to pull all data from the original query\n",
    "* You must use an alias for the table you nest within the outer query"
   ]
  },
  {
   "cell_type": "markdown",
   "id": "experienced-corner",
   "metadata": {},
   "source": [
    "**EX 1: Use a subquery to find the average number of events that occur per day per channel**"
   ]
  },
  {
   "cell_type": "code",
   "execution_count": 37,
   "id": "brazilian-aerospace",
   "metadata": {},
   "outputs": [
    {
     "name": "stdout",
     "output_type": "stream",
     "text": [
      "Query ran for 3.3873486518859863 secs!\n"
     ]
    },
    {
     "data": {
      "text/html": [
       "<div>\n",
       "<style scoped>\n",
       "    .dataframe tbody tr th:only-of-type {\n",
       "        vertical-align: middle;\n",
       "    }\n",
       "\n",
       "    .dataframe tbody tr th {\n",
       "        vertical-align: top;\n",
       "    }\n",
       "\n",
       "    .dataframe thead th {\n",
       "        text-align: right;\n",
       "    }\n",
       "</style>\n",
       "<table border=\"1\" class=\"dataframe\">\n",
       "  <thead>\n",
       "    <tr style=\"text-align: right;\">\n",
       "      <th></th>\n",
       "      <th>date</th>\n",
       "      <th>channel</th>\n",
       "      <th>num_events</th>\n",
       "    </tr>\n",
       "  </thead>\n",
       "  <tbody>\n",
       "    <tr>\n",
       "      <th>0</th>\n",
       "      <td>2013-12-04</td>\n",
       "      <td>adwords</td>\n",
       "      <td>1</td>\n",
       "    </tr>\n",
       "    <tr>\n",
       "      <th>1</th>\n",
       "      <td>2013-12-04</td>\n",
       "      <td>direct</td>\n",
       "      <td>2</td>\n",
       "    </tr>\n",
       "    <tr>\n",
       "      <th>2</th>\n",
       "      <td>2013-12-04</td>\n",
       "      <td>facebook</td>\n",
       "      <td>1</td>\n",
       "    </tr>\n",
       "    <tr>\n",
       "      <th>3</th>\n",
       "      <td>2013-12-05</td>\n",
       "      <td>adwords</td>\n",
       "      <td>1</td>\n",
       "    </tr>\n",
       "    <tr>\n",
       "      <th>4</th>\n",
       "      <td>2013-12-05</td>\n",
       "      <td>direct</td>\n",
       "      <td>1</td>\n",
       "    </tr>\n",
       "    <tr>\n",
       "      <th>...</th>\n",
       "      <td>...</td>\n",
       "      <td>...</td>\n",
       "      <td>...</td>\n",
       "    </tr>\n",
       "    <tr>\n",
       "      <th>3559</th>\n",
       "      <td>2017-01-01</td>\n",
       "      <td>adwords</td>\n",
       "      <td>4</td>\n",
       "    </tr>\n",
       "    <tr>\n",
       "      <th>3560</th>\n",
       "      <td>2017-01-01</td>\n",
       "      <td>banner</td>\n",
       "      <td>2</td>\n",
       "    </tr>\n",
       "    <tr>\n",
       "      <th>3561</th>\n",
       "      <td>2017-01-01</td>\n",
       "      <td>direct</td>\n",
       "      <td>21</td>\n",
       "    </tr>\n",
       "    <tr>\n",
       "      <th>3562</th>\n",
       "      <td>2017-01-01</td>\n",
       "      <td>organic</td>\n",
       "      <td>3</td>\n",
       "    </tr>\n",
       "    <tr>\n",
       "      <th>3563</th>\n",
       "      <td>2017-01-01</td>\n",
       "      <td>twitter</td>\n",
       "      <td>1</td>\n",
       "    </tr>\n",
       "  </tbody>\n",
       "</table>\n",
       "<p>3564 rows × 3 columns</p>\n",
       "</div>"
      ],
      "text/plain": [
       "            date   channel  num_events\n",
       "0     2013-12-04   adwords           1\n",
       "1     2013-12-04    direct           2\n",
       "2     2013-12-04  facebook           1\n",
       "3     2013-12-05   adwords           1\n",
       "4     2013-12-05    direct           1\n",
       "...          ...       ...         ...\n",
       "3559  2017-01-01   adwords           4\n",
       "3560  2017-01-01    banner           2\n",
       "3561  2017-01-01    direct          21\n",
       "3562  2017-01-01   organic           3\n",
       "3563  2017-01-01   twitter           1\n",
       "\n",
       "[3564 rows x 3 columns]"
      ]
     },
     "execution_count": 37,
     "metadata": {},
     "output_type": "execute_result"
    }
   ],
   "source": [
    "query_to_df(\n",
    "\"SELECT DATE(occurred_at) date, channel, COUNT(*) num_events \\\n",
    "FROM web_events GROUP BY 1, 2 ORDER BY 1;\"\n",
    ")"
   ]
  },
  {
   "cell_type": "markdown",
   "id": "other-colombia",
   "metadata": {},
   "source": [
    "**EX 2: Use a subquery to find the average number of events that occur per channel**"
   ]
  },
  {
   "cell_type": "code",
   "execution_count": 38,
   "id": "sunrise-diploma",
   "metadata": {},
   "outputs": [
    {
     "name": "stdout",
     "output_type": "stream",
     "text": [
      "Query ran for 0.029919862747192383 secs!\n"
     ]
    },
    {
     "data": {
      "text/html": [
       "<div>\n",
       "<style scoped>\n",
       "    .dataframe tbody tr th:only-of-type {\n",
       "        vertical-align: middle;\n",
       "    }\n",
       "\n",
       "    .dataframe tbody tr th {\n",
       "        vertical-align: top;\n",
       "    }\n",
       "\n",
       "    .dataframe thead th {\n",
       "        text-align: right;\n",
       "    }\n",
       "</style>\n",
       "<table border=\"1\" class=\"dataframe\">\n",
       "  <thead>\n",
       "    <tr style=\"text-align: right;\">\n",
       "      <th></th>\n",
       "      <th>channel</th>\n",
       "      <th>avg_num_events</th>\n",
       "    </tr>\n",
       "  </thead>\n",
       "  <tbody>\n",
       "    <tr>\n",
       "      <th>0</th>\n",
       "      <td>direct</td>\n",
       "      <td>4.8965</td>\n",
       "    </tr>\n",
       "    <tr>\n",
       "      <th>1</th>\n",
       "      <td>organic</td>\n",
       "      <td>1.6673</td>\n",
       "    </tr>\n",
       "    <tr>\n",
       "      <th>2</th>\n",
       "      <td>facebook</td>\n",
       "      <td>1.5983</td>\n",
       "    </tr>\n",
       "    <tr>\n",
       "      <th>3</th>\n",
       "      <td>adwords</td>\n",
       "      <td>1.5702</td>\n",
       "    </tr>\n",
       "    <tr>\n",
       "      <th>4</th>\n",
       "      <td>twitter</td>\n",
       "      <td>1.3167</td>\n",
       "    </tr>\n",
       "    <tr>\n",
       "      <th>5</th>\n",
       "      <td>banner</td>\n",
       "      <td>1.2900</td>\n",
       "    </tr>\n",
       "  </tbody>\n",
       "</table>\n",
       "</div>"
      ],
      "text/plain": [
       "    channel avg_num_events\n",
       "0    direct         4.8965\n",
       "1   organic         1.6673\n",
       "2  facebook         1.5983\n",
       "3   adwords         1.5702\n",
       "4   twitter         1.3167\n",
       "5    banner         1.2900"
      ]
     },
     "execution_count": 38,
     "metadata": {},
     "output_type": "execute_result"
    }
   ],
   "source": [
    "query_to_df(\n",
    "\"SELECT channel, AVG(num_events) avg_num_events FROM \\\n",
    "(SELECT DATE(occurred_at) date, channel, COUNT(*) num_events \\\n",
    "FROM web_events GROUP BY 1, 2 ORDER BY 1) as sub GROUP BY 1 ORDER BY 2 DESC;\"\n",
    ")"
   ]
  },
  {
   "cell_type": "markdown",
   "id": "brave-algorithm",
   "metadata": {},
   "source": [
    "**EX 3. On which day-channel pair did the most events occur**"
   ]
  },
  {
   "cell_type": "code",
   "execution_count": 36,
   "id": "conservative-generation",
   "metadata": {},
   "outputs": [
    {
     "name": "stdout",
     "output_type": "stream",
     "text": [
      "Query ran for 0.030946731567382812 secs!\n"
     ]
    },
    {
     "data": {
      "text/html": [
       "<div>\n",
       "<style scoped>\n",
       "    .dataframe tbody tr th:only-of-type {\n",
       "        vertical-align: middle;\n",
       "    }\n",
       "\n",
       "    .dataframe tbody tr th {\n",
       "        vertical-align: top;\n",
       "    }\n",
       "\n",
       "    .dataframe thead th {\n",
       "        text-align: right;\n",
       "    }\n",
       "</style>\n",
       "<table border=\"1\" class=\"dataframe\">\n",
       "  <thead>\n",
       "    <tr style=\"text-align: right;\">\n",
       "      <th></th>\n",
       "      <th>date</th>\n",
       "      <th>channel</th>\n",
       "      <th>num_events</th>\n",
       "    </tr>\n",
       "  </thead>\n",
       "  <tbody>\n",
       "    <tr>\n",
       "      <th>0</th>\n",
       "      <td>2017-01-01</td>\n",
       "      <td>direct</td>\n",
       "      <td>21</td>\n",
       "    </tr>\n",
       "    <tr>\n",
       "      <th>1</th>\n",
       "      <td>2016-12-21</td>\n",
       "      <td>direct</td>\n",
       "      <td>21</td>\n",
       "    </tr>\n",
       "    <tr>\n",
       "      <th>2</th>\n",
       "      <td>2016-12-31</td>\n",
       "      <td>direct</td>\n",
       "      <td>19</td>\n",
       "    </tr>\n",
       "    <tr>\n",
       "      <th>3</th>\n",
       "      <td>2016-11-03</td>\n",
       "      <td>direct</td>\n",
       "      <td>18</td>\n",
       "    </tr>\n",
       "    <tr>\n",
       "      <th>4</th>\n",
       "      <td>2016-12-28</td>\n",
       "      <td>direct</td>\n",
       "      <td>17</td>\n",
       "    </tr>\n",
       "  </tbody>\n",
       "</table>\n",
       "</div>"
      ],
      "text/plain": [
       "         date channel  num_events\n",
       "0  2017-01-01  direct          21\n",
       "1  2016-12-21  direct          21\n",
       "2  2016-12-31  direct          19\n",
       "3  2016-11-03  direct          18\n",
       "4  2016-12-28  direct          17"
      ]
     },
     "execution_count": 36,
     "metadata": {},
     "output_type": "execute_result"
    }
   ],
   "source": [
    "query_to_df(\n",
    "\"SELECT DATE(occurred_at) date, channel, COUNT(*) num_events \\\n",
    "FROM web_events GROUP BY 1, 2 ORDER BY 3 DESC LIMIT 5;\"\n",
    ")"
   ]
  },
  {
   "cell_type": "markdown",
   "id": "electoral-venice",
   "metadata": {},
   "source": [
    "## Subquery Formatting\n",
    "\n",
    "When writing Subqueries, it is easy for your query to look incredibly complex. In order to assist your reader, which is often just yourself at a future date, formatting SQL will help with understanding your code.\n",
    "\n",
    "The important thing to remember when using subqueries is to provide some way for the reader to easily determine which parts of the query will be executed together. Most people do this by indenting the subquery in some way\n",
    "\n",
    "### Well Formatted Query:\n",
    "```\n",
    "SELECT *\n",
    "FROM (SELECT DATE_TRUNC('day',occurred_at) AS day,\n",
    "                channel, COUNT(*) as events\n",
    "      FROM web_events \n",
    "      GROUP BY 1,2\n",
    "      ORDER BY 3 DESC) sub;\n",
    "```\n",
    "\n",
    "Additionally, if we have a GROUP BY, ORDER BY, WHERE, HAVING, or any other statement following our subquery, we would then indent it at the same level as our outer query.\n",
    "\n",
    "The query below is similar to the above, but it is applying additional statements to the outer query, so you can see there are GROUP BY and ORDER BY statements used on the output are not tabbed. The inner query GROUP BY and ORDER BY statements are indented to match the inner table.\n",
    "```\n",
    "SELECT *\n",
    "FROM (SELECT DATE_TRUNC('day',occurred_at) AS day,\n",
    "                channel, COUNT(*) as events\n",
    "      FROM web_events \n",
    "      GROUP BY 1,2\n",
    "      ORDER BY 3 DESC) sub\n",
    "GROUP BY day, channel, events\n",
    "ORDER BY 2 DESC;\n",
    "```"
   ]
  },
  {
   "cell_type": "markdown",
   "id": "aerial-ordinary",
   "metadata": {},
   "source": [
    "### MORE on Subquery:\n",
    "\n",
    "Subqueries can be used in several places within a query, it can be used anywhere we might use a table name or even a column name or an individual value. \n",
    "* They are especially useful in conditional logic in conjunction with `Where` and `Join` clauses or in the `WHEN` portion of a `CASE` statement.\n",
    "* Most conditional logic, would work with sub-queries containing one-cell results. But `IN` is the only type of conditional logic that will work when the inner query contains multiple results.\n",
    "\n",
    "### Expert Tip\n",
    "Note that you should not include an alias when you write a subquery in a conditional statement. This is because the subquery is treated as an individual value (or set of values in the IN case) rather than as a table.\n",
    "\n",
    "Also, notice the query here compared a single value. If we returned an entire column IN would need to be used to perform a logical argument. If we are returning an entire table, then we must use an ALIAS for the table, and perform additional logic on the entire table.\n",
    "\n",
    "**EXERCISE**:\n",
    "\n",
    "You should write your solution as a subquery or subqueries, not by finding one solution and copying the output. The importance of this is that it allows your query to be dynamic in answering the question - even if the data changes, you still arrive at the right answer.\n",
    "\n",
    "**1. Use Sub-queries to return orders that only took place in the same month and year as the first ever order**"
   ]
  },
  {
   "cell_type": "code",
   "execution_count": 52,
   "id": "acceptable-covering",
   "metadata": {},
   "outputs": [
    {
     "name": "stdout",
     "output_type": "stream",
     "text": [
      "Query ran for 0.21522974967956543 secs!\n"
     ]
    },
    {
     "data": {
      "text/html": [
       "<div>\n",
       "<style scoped>\n",
       "    .dataframe tbody tr th:only-of-type {\n",
       "        vertical-align: middle;\n",
       "    }\n",
       "\n",
       "    .dataframe tbody tr th {\n",
       "        vertical-align: top;\n",
       "    }\n",
       "\n",
       "    .dataframe thead th {\n",
       "        text-align: right;\n",
       "    }\n",
       "</style>\n",
       "<table border=\"1\" class=\"dataframe\">\n",
       "  <thead>\n",
       "    <tr style=\"text-align: right;\">\n",
       "      <th></th>\n",
       "      <th>id</th>\n",
       "      <th>account_id</th>\n",
       "      <th>occurred_at</th>\n",
       "      <th>standard_qty</th>\n",
       "      <th>gloss_qty</th>\n",
       "      <th>poster_qty</th>\n",
       "      <th>total</th>\n",
       "      <th>standard_amt_usd</th>\n",
       "      <th>gloss_amt_usd</th>\n",
       "      <th>poster_amt_usd</th>\n",
       "      <th>total_amt_usd</th>\n",
       "    </tr>\n",
       "  </thead>\n",
       "  <tbody>\n",
       "    <tr>\n",
       "      <th>0</th>\n",
       "      <td>5786</td>\n",
       "      <td>2861</td>\n",
       "      <td>2013-12-04 04:22:44</td>\n",
       "      <td>0</td>\n",
       "      <td>48</td>\n",
       "      <td>33</td>\n",
       "      <td>81</td>\n",
       "      <td>0.00</td>\n",
       "      <td>359.52</td>\n",
       "      <td>267.96</td>\n",
       "      <td>627.48</td>\n",
       "    </tr>\n",
       "    <tr>\n",
       "      <th>1</th>\n",
       "      <td>2415</td>\n",
       "      <td>2861</td>\n",
       "      <td>2013-12-04 04:45:54</td>\n",
       "      <td>490</td>\n",
       "      <td>15</td>\n",
       "      <td>11</td>\n",
       "      <td>516</td>\n",
       "      <td>2445.10</td>\n",
       "      <td>112.35</td>\n",
       "      <td>89.32</td>\n",
       "      <td>2646.77</td>\n",
       "    </tr>\n",
       "    <tr>\n",
       "      <th>2</th>\n",
       "      <td>4108</td>\n",
       "      <td>4311</td>\n",
       "      <td>2013-12-04 04:53:25</td>\n",
       "      <td>528</td>\n",
       "      <td>10</td>\n",
       "      <td>0</td>\n",
       "      <td>538</td>\n",
       "      <td>2634.72</td>\n",
       "      <td>74.90</td>\n",
       "      <td>0.00</td>\n",
       "      <td>2709.62</td>\n",
       "    </tr>\n",
       "    <tr>\n",
       "      <th>3</th>\n",
       "      <td>4489</td>\n",
       "      <td>1281</td>\n",
       "      <td>2013-12-05 20:29:16</td>\n",
       "      <td>0</td>\n",
       "      <td>37</td>\n",
       "      <td>0</td>\n",
       "      <td>37</td>\n",
       "      <td>0.00</td>\n",
       "      <td>277.13</td>\n",
       "      <td>0.00</td>\n",
       "      <td>277.13</td>\n",
       "    </tr>\n",
       "    <tr>\n",
       "      <th>4</th>\n",
       "      <td>287</td>\n",
       "      <td>1281</td>\n",
       "      <td>2013-12-05 20:33:56</td>\n",
       "      <td>492</td>\n",
       "      <td>73</td>\n",
       "      <td>0</td>\n",
       "      <td>565</td>\n",
       "      <td>2455.08</td>\n",
       "      <td>546.77</td>\n",
       "      <td>0.00</td>\n",
       "      <td>3001.85</td>\n",
       "    </tr>\n",
       "    <tr>\n",
       "      <th>...</th>\n",
       "      <td>...</td>\n",
       "      <td>...</td>\n",
       "      <td>...</td>\n",
       "      <td>...</td>\n",
       "      <td>...</td>\n",
       "      <td>...</td>\n",
       "      <td>...</td>\n",
       "      <td>...</td>\n",
       "      <td>...</td>\n",
       "      <td>...</td>\n",
       "      <td>...</td>\n",
       "    </tr>\n",
       "    <tr>\n",
       "      <th>94</th>\n",
       "      <td>4756</td>\n",
       "      <td>1521</td>\n",
       "      <td>2013-12-31 00:18:22</td>\n",
       "      <td>10</td>\n",
       "      <td>60</td>\n",
       "      <td>29</td>\n",
       "      <td>99</td>\n",
       "      <td>49.90</td>\n",
       "      <td>449.40</td>\n",
       "      <td>235.48</td>\n",
       "      <td>734.78</td>\n",
       "    </tr>\n",
       "    <tr>\n",
       "      <th>95</th>\n",
       "      <td>702</td>\n",
       "      <td>1521</td>\n",
       "      <td>2013-12-31 00:36:59</td>\n",
       "      <td>266</td>\n",
       "      <td>0</td>\n",
       "      <td>26</td>\n",
       "      <td>292</td>\n",
       "      <td>1327.34</td>\n",
       "      <td>0.00</td>\n",
       "      <td>211.12</td>\n",
       "      <td>1538.46</td>\n",
       "    </tr>\n",
       "    <tr>\n",
       "      <th>96</th>\n",
       "      <td>3057</td>\n",
       "      <td>3371</td>\n",
       "      <td>2013-12-31 02:04:00</td>\n",
       "      <td>79</td>\n",
       "      <td>75</td>\n",
       "      <td>14</td>\n",
       "      <td>168</td>\n",
       "      <td>394.21</td>\n",
       "      <td>561.75</td>\n",
       "      <td>113.68</td>\n",
       "      <td>1069.64</td>\n",
       "    </tr>\n",
       "    <tr>\n",
       "      <th>97</th>\n",
       "      <td>2764</td>\n",
       "      <td>3101</td>\n",
       "      <td>2013-12-31 12:58:47</td>\n",
       "      <td>119</td>\n",
       "      <td>36</td>\n",
       "      <td>0</td>\n",
       "      <td>155</td>\n",
       "      <td>593.81</td>\n",
       "      <td>269.64</td>\n",
       "      <td>0.00</td>\n",
       "      <td>863.45</td>\n",
       "    </tr>\n",
       "    <tr>\n",
       "      <th>98</th>\n",
       "      <td>5979</td>\n",
       "      <td>3101</td>\n",
       "      <td>2013-12-31 13:14:55</td>\n",
       "      <td>485</td>\n",
       "      <td>191</td>\n",
       "      <td>0</td>\n",
       "      <td>676</td>\n",
       "      <td>2420.15</td>\n",
       "      <td>1430.59</td>\n",
       "      <td>0.00</td>\n",
       "      <td>3850.74</td>\n",
       "    </tr>\n",
       "  </tbody>\n",
       "</table>\n",
       "<p>99 rows × 11 columns</p>\n",
       "</div>"
      ],
      "text/plain": [
       "      id  account_id         occurred_at  standard_qty  gloss_qty  poster_qty  \\\n",
       "0   5786        2861 2013-12-04 04:22:44             0         48          33   \n",
       "1   2415        2861 2013-12-04 04:45:54           490         15          11   \n",
       "2   4108        4311 2013-12-04 04:53:25           528         10           0   \n",
       "3   4489        1281 2013-12-05 20:29:16             0         37           0   \n",
       "4    287        1281 2013-12-05 20:33:56           492         73           0   \n",
       "..   ...         ...                 ...           ...        ...         ...   \n",
       "94  4756        1521 2013-12-31 00:18:22            10         60          29   \n",
       "95   702        1521 2013-12-31 00:36:59           266          0          26   \n",
       "96  3057        3371 2013-12-31 02:04:00            79         75          14   \n",
       "97  2764        3101 2013-12-31 12:58:47           119         36           0   \n",
       "98  5979        3101 2013-12-31 13:14:55           485        191           0   \n",
       "\n",
       "    total standard_amt_usd gloss_amt_usd poster_amt_usd total_amt_usd  \n",
       "0      81             0.00        359.52         267.96        627.48  \n",
       "1     516          2445.10        112.35          89.32       2646.77  \n",
       "2     538          2634.72         74.90           0.00       2709.62  \n",
       "3      37             0.00        277.13           0.00        277.13  \n",
       "4     565          2455.08        546.77           0.00       3001.85  \n",
       "..    ...              ...           ...            ...           ...  \n",
       "94     99            49.90        449.40         235.48        734.78  \n",
       "95    292          1327.34          0.00         211.12       1538.46  \n",
       "96    168           394.21        561.75         113.68       1069.64  \n",
       "97    155           593.81        269.64           0.00        863.45  \n",
       "98    676          2420.15       1430.59           0.00       3850.74  \n",
       "\n",
       "[99 rows x 11 columns]"
      ]
     },
     "execution_count": 52,
     "metadata": {},
     "output_type": "execute_result"
    }
   ],
   "source": [
    "query_to_df(\n",
    "\"SELECT * FROM ORDERS WHERE EXTRACT(YEAR_MONTH FROM occurred_at) = \\\n",
    "(SELECT EXTRACT(YEAR_MONTH FROM MIN(occurred_at)) first_order_month FROM orders)\\\n",
    "ORDER BY occurred_at;\"\n",
    ")"
   ]
  },
  {
   "cell_type": "markdown",
   "id": "beautiful-maria",
   "metadata": {},
   "source": [
    "**2. From the above result, use Sub-queries to return the average qty for each type of paper sold during this same first month as well as the total sales in USD for this month.**"
   ]
  },
  {
   "cell_type": "code",
   "execution_count": 59,
   "id": "based-lafayette",
   "metadata": {},
   "outputs": [
    {
     "name": "stdout",
     "output_type": "stream",
     "text": [
      "Query ran for 0.024964332580566406 secs!\n"
     ]
    },
    {
     "data": {
      "text/html": [
       "<div>\n",
       "<style scoped>\n",
       "    .dataframe tbody tr th:only-of-type {\n",
       "        vertical-align: middle;\n",
       "    }\n",
       "\n",
       "    .dataframe tbody tr th {\n",
       "        vertical-align: top;\n",
       "    }\n",
       "\n",
       "    .dataframe thead th {\n",
       "        text-align: right;\n",
       "    }\n",
       "</style>\n",
       "<table border=\"1\" class=\"dataframe\">\n",
       "  <thead>\n",
       "    <tr style=\"text-align: right;\">\n",
       "      <th></th>\n",
       "      <th>Date</th>\n",
       "      <th>AVG(standard_qty)</th>\n",
       "      <th>AVG(gloss_qty)</th>\n",
       "      <th>AVG(poster_qty)</th>\n",
       "      <th>SUM(total_amt_usd)</th>\n",
       "    </tr>\n",
       "  </thead>\n",
       "  <tbody>\n",
       "    <tr>\n",
       "      <th>0</th>\n",
       "      <td>201312</td>\n",
       "      <td>268.2222</td>\n",
       "      <td>208.9495</td>\n",
       "      <td>111.8182</td>\n",
       "      <td>377331.00</td>\n",
       "    </tr>\n",
       "  </tbody>\n",
       "</table>\n",
       "</div>"
      ],
      "text/plain": [
       "     Date AVG(standard_qty) AVG(gloss_qty) AVG(poster_qty) SUM(total_amt_usd)\n",
       "0  201312          268.2222       208.9495        111.8182          377331.00"
      ]
     },
     "execution_count": 59,
     "metadata": {},
     "output_type": "execute_result"
    }
   ],
   "source": [
    "query_to_df(\n",
    "\"SELECT EXTRACT(YEAR_MONTH FROM occurred_at) Date, \\\n",
    "AVG(standard_qty), AVG(gloss_qty), AVG(poster_qty), SUM(total_amt_usd) FROM \\\n",
    "(SELECT * FROM ORDERS WHERE EXTRACT(YEAR_MONTH FROM occurred_at) = \\\n",
    "(SELECT EXTRACT(YEAR_MONTH FROM MIN(occurred_at)) FROM orders)\\\n",
    "ORDER BY occurred_at) as sub;\"\n",
    ")"
   ]
  },
  {
   "cell_type": "markdown",
   "id": "cooperative-attribute",
   "metadata": {},
   "source": [
    "**3. Use subqueries to Provide the name of the sales_rep in each region with the largest amount of total_amt_usd sales.**"
   ]
  },
  {
   "cell_type": "code",
   "execution_count": 141,
   "id": "private-wagner",
   "metadata": {},
   "outputs": [
    {
     "name": "stdout",
     "output_type": "stream",
     "text": [
      "Query ran for 0.0329132080078125 secs!\n"
     ]
    },
    {
     "data": {
      "text/html": [
       "<div>\n",
       "<style scoped>\n",
       "    .dataframe tbody tr th:only-of-type {\n",
       "        vertical-align: middle;\n",
       "    }\n",
       "\n",
       "    .dataframe tbody tr th {\n",
       "        vertical-align: top;\n",
       "    }\n",
       "\n",
       "    .dataframe thead th {\n",
       "        text-align: right;\n",
       "    }\n",
       "</style>\n",
       "<table border=\"1\" class=\"dataframe\">\n",
       "  <thead>\n",
       "    <tr style=\"text-align: right;\">\n",
       "      <th></th>\n",
       "      <th>sales_rep</th>\n",
       "      <th>region</th>\n",
       "      <th>total_amt_usd</th>\n",
       "    </tr>\n",
       "  </thead>\n",
       "  <tbody>\n",
       "    <tr>\n",
       "      <th>0</th>\n",
       "      <td>Charles Bidwell</td>\n",
       "      <td>Midwest</td>\n",
       "      <td>675637.19</td>\n",
       "    </tr>\n",
       "    <tr>\n",
       "      <th>1</th>\n",
       "      <td>Tia Amato</td>\n",
       "      <td>Northeast</td>\n",
       "      <td>1010690.60</td>\n",
       "    </tr>\n",
       "    <tr>\n",
       "      <th>2</th>\n",
       "      <td>Earlie Schleusner</td>\n",
       "      <td>Southeast</td>\n",
       "      <td>1098137.72</td>\n",
       "    </tr>\n",
       "    <tr>\n",
       "      <th>3</th>\n",
       "      <td>Georgianna Chisholm</td>\n",
       "      <td>West</td>\n",
       "      <td>886244.12</td>\n",
       "    </tr>\n",
       "  </tbody>\n",
       "</table>\n",
       "</div>"
      ],
      "text/plain": [
       "             sales_rep     region total_amt_usd\n",
       "0      Charles Bidwell    Midwest     675637.19\n",
       "1            Tia Amato  Northeast    1010690.60\n",
       "2    Earlie Schleusner  Southeast    1098137.72\n",
       "3  Georgianna Chisholm       West     886244.12"
      ]
     },
     "execution_count": 141,
     "metadata": {},
     "output_type": "execute_result"
    }
   ],
   "source": [
    "query_to_df(\n",
    "\"SELECT * FROM (SELECT s.name sales_rep, r.name region, SUM(o.total_amt_usd) total_amt_usd \\\n",
    "FROM sales_reps s JOIN region r ON s.region_id=r.id JOIN accounts a ON \\\n",
    "a.sales_rep_id=s.id JOIN orders o ON o.account_id=a.id GROUP BY 1, 2 ORDER BY 2, 3 DESC) AS sub GROUP BY 2;\"\n",
    ")"
   ]
  },
  {
   "cell_type": "markdown",
   "id": "sudden-death",
   "metadata": {},
   "source": [
    "**4. For the region with the largest (sum) of sales total_amt_usd, how many total (count) orders were placed?**"
   ]
  },
  {
   "cell_type": "code",
   "execution_count": 105,
   "id": "optional-modem",
   "metadata": {},
   "outputs": [
    {
     "name": "stdout",
     "output_type": "stream",
     "text": [
      "Query ran for 0.02695941925048828 secs!\n"
     ]
    },
    {
     "data": {
      "text/html": [
       "<div>\n",
       "<style scoped>\n",
       "    .dataframe tbody tr th:only-of-type {\n",
       "        vertical-align: middle;\n",
       "    }\n",
       "\n",
       "    .dataframe tbody tr th {\n",
       "        vertical-align: top;\n",
       "    }\n",
       "\n",
       "    .dataframe thead th {\n",
       "        text-align: right;\n",
       "    }\n",
       "</style>\n",
       "<table border=\"1\" class=\"dataframe\">\n",
       "  <thead>\n",
       "    <tr style=\"text-align: right;\">\n",
       "      <th></th>\n",
       "      <th>region</th>\n",
       "      <th>total_orders</th>\n",
       "    </tr>\n",
       "  </thead>\n",
       "  <tbody>\n",
       "    <tr>\n",
       "      <th>0</th>\n",
       "      <td>Northeast</td>\n",
       "      <td>2357</td>\n",
       "    </tr>\n",
       "  </tbody>\n",
       "</table>\n",
       "</div>"
      ],
      "text/plain": [
       "      region  total_orders\n",
       "0  Northeast          2357"
      ]
     },
     "execution_count": 105,
     "metadata": {},
     "output_type": "execute_result"
    }
   ],
   "source": [
    "query_to_df(\n",
    "'SELECT r.name region, COUNT(o.id) total_orders FROM region r JOIN sales_reps s \\\n",
    "ON s.region_id=r.id JOIN accounts a ON a.sales_rep_id=s.id JOIN orders o ON o.account_id=a.id \\\n",
    "WHERE r.name=(SELECT region FROM \\\n",
    "(SELECT r.name region, SUM(o.total_amt_usd) total_amt_usd FROM region r JOIN sales_reps s ON s.region_id=r.id \\\n",
    "JOIN accounts a ON a.sales_rep_id=s.id JOIN orders o ON o.account_id=a.id GROUP BY 1 ORDER BY 2 DESC LIMIT 1) AS sub);'\n",
    ")"
   ]
  },
  {
   "cell_type": "markdown",
   "id": "prescription-quest",
   "metadata": {},
   "source": [
    "**5. How many accounts had more total purchases than the account name which has bought the most standard_qty paper throughout their lifetime as a customer?**"
   ]
  },
  {
   "cell_type": "code",
   "execution_count": 139,
   "id": "organizational-modification",
   "metadata": {},
   "outputs": [
    {
     "name": "stdout",
     "output_type": "stream",
     "text": [
      "Query ran for 0.031914472579956055 secs!\n"
     ]
    },
    {
     "data": {
      "text/html": [
       "<div>\n",
       "<style scoped>\n",
       "    .dataframe tbody tr th:only-of-type {\n",
       "        vertical-align: middle;\n",
       "    }\n",
       "\n",
       "    .dataframe tbody tr th {\n",
       "        vertical-align: top;\n",
       "    }\n",
       "\n",
       "    .dataframe thead th {\n",
       "        text-align: right;\n",
       "    }\n",
       "</style>\n",
       "<table border=\"1\" class=\"dataframe\">\n",
       "  <thead>\n",
       "    <tr style=\"text-align: right;\">\n",
       "      <th></th>\n",
       "      <th>count</th>\n",
       "    </tr>\n",
       "  </thead>\n",
       "  <tbody>\n",
       "    <tr>\n",
       "      <th>0</th>\n",
       "      <td>3</td>\n",
       "    </tr>\n",
       "  </tbody>\n",
       "</table>\n",
       "</div>"
      ],
      "text/plain": [
       "   count\n",
       "0      3"
      ]
     },
     "execution_count": 139,
     "metadata": {},
     "output_type": "execute_result"
    }
   ],
   "source": [
    "query_to_df(\n",
    "\"SELECT COUNT(*) count FROM \\\n",
    "(SELECT a.name acct_name FROM accounts a JOIN orders o ON a.id=o.account_id GROUP BY a.name HAVING \\\n",
    "SUM(o.total) > (SELECT total_qty FROM \\\n",
    "(SELECT a.name acct_name, SUM(o.standard_qty) total_std_qty, SUM(o.total) total_qty FROM accounts a \\\n",
    "JOIN orders o ON a.id=o.account_id GROUP BY 1 ORDER BY 2 DESC LIMIT 1) AS inner_tab)) outer_tab;\"\n",
    ")"
   ]
  },
  {
   "cell_type": "markdown",
   "id": "interracial-monte",
   "metadata": {},
   "source": [
    "**6. For the customer that spent the most (in total over their lifetime as a customer) total_amt_usd, how many web_events did they have for each channel?**"
   ]
  },
  {
   "cell_type": "code",
   "execution_count": 166,
   "id": "architectural-microwave",
   "metadata": {},
   "outputs": [
    {
     "name": "stdout",
     "output_type": "stream",
     "text": [
      "Query ran for 0.03091883659362793 secs!\n"
     ]
    },
    {
     "data": {
      "text/html": [
       "<div>\n",
       "<style scoped>\n",
       "    .dataframe tbody tr th:only-of-type {\n",
       "        vertical-align: middle;\n",
       "    }\n",
       "\n",
       "    .dataframe tbody tr th {\n",
       "        vertical-align: top;\n",
       "    }\n",
       "\n",
       "    .dataframe thead th {\n",
       "        text-align: right;\n",
       "    }\n",
       "</style>\n",
       "<table border=\"1\" class=\"dataframe\">\n",
       "  <thead>\n",
       "    <tr style=\"text-align: right;\">\n",
       "      <th></th>\n",
       "      <th>acct_name</th>\n",
       "      <th>channel</th>\n",
       "      <th>web_events</th>\n",
       "    </tr>\n",
       "  </thead>\n",
       "  <tbody>\n",
       "    <tr>\n",
       "      <th>0</th>\n",
       "      <td>EOG Resources</td>\n",
       "      <td>direct</td>\n",
       "      <td>44</td>\n",
       "    </tr>\n",
       "    <tr>\n",
       "      <th>1</th>\n",
       "      <td>EOG Resources</td>\n",
       "      <td>facebook</td>\n",
       "      <td>11</td>\n",
       "    </tr>\n",
       "    <tr>\n",
       "      <th>2</th>\n",
       "      <td>EOG Resources</td>\n",
       "      <td>twitter</td>\n",
       "      <td>5</td>\n",
       "    </tr>\n",
       "    <tr>\n",
       "      <th>3</th>\n",
       "      <td>EOG Resources</td>\n",
       "      <td>adwords</td>\n",
       "      <td>12</td>\n",
       "    </tr>\n",
       "    <tr>\n",
       "      <th>4</th>\n",
       "      <td>EOG Resources</td>\n",
       "      <td>organic</td>\n",
       "      <td>13</td>\n",
       "    </tr>\n",
       "    <tr>\n",
       "      <th>5</th>\n",
       "      <td>EOG Resources</td>\n",
       "      <td>banner</td>\n",
       "      <td>4</td>\n",
       "    </tr>\n",
       "  </tbody>\n",
       "</table>\n",
       "</div>"
      ],
      "text/plain": [
       "       acct_name   channel  web_events\n",
       "0  EOG Resources    direct          44\n",
       "1  EOG Resources  facebook          11\n",
       "2  EOG Resources   twitter           5\n",
       "3  EOG Resources   adwords          12\n",
       "4  EOG Resources   organic          13\n",
       "5  EOG Resources    banner           4"
      ]
     },
     "execution_count": 166,
     "metadata": {},
     "output_type": "execute_result"
    }
   ],
   "source": [
    "query_to_df(\n",
    "\"SELECT a.name acct_name, w.channel channel, COUNT(w.id) web_events FROM accounts a JOIN web_events w ON \\\n",
    "w.account_id=a.id WHERE a.name = \\\n",
    "(SELECT name FROM \\\n",
    "(SELECT a.name, SUM(o.total) total_sum_usd FROM accounts a JOIN orders o ON a.id=o.account_id \\\n",
    "GROUP BY 1 ORDER BY 2 DESC LIMIT 1) AS name) GROUP BY 1, 2;\"\n",
    ")"
   ]
  },
  {
   "cell_type": "markdown",
   "id": "hawaiian-marina",
   "metadata": {},
   "source": [
    "**7. What is the lifetime average amount spent in terms of total_amt_usd for the top 10 total spending accounts?**"
   ]
  },
  {
   "cell_type": "code",
   "execution_count": 187,
   "id": "surprised-typing",
   "metadata": {},
   "outputs": [
    {
     "name": "stdout",
     "output_type": "stream",
     "text": [
      "Query ran for 0.023934364318847656 secs!\n"
     ]
    },
    {
     "data": {
      "text/html": [
       "<div>\n",
       "<style scoped>\n",
       "    .dataframe tbody tr th:only-of-type {\n",
       "        vertical-align: middle;\n",
       "    }\n",
       "\n",
       "    .dataframe tbody tr th {\n",
       "        vertical-align: top;\n",
       "    }\n",
       "\n",
       "    .dataframe thead th {\n",
       "        text-align: right;\n",
       "    }\n",
       "</style>\n",
       "<table border=\"1\" class=\"dataframe\">\n",
       "  <thead>\n",
       "    <tr style=\"text-align: right;\">\n",
       "      <th></th>\n",
       "      <th>AVG_lifetime_spend_top_10_accounts</th>\n",
       "    </tr>\n",
       "  </thead>\n",
       "  <tbody>\n",
       "    <tr>\n",
       "      <th>0</th>\n",
       "      <td>304846.969000</td>\n",
       "    </tr>\n",
       "  </tbody>\n",
       "</table>\n",
       "</div>"
      ],
      "text/plain": [
       "  AVG_lifetime_spend_top_10_accounts\n",
       "0                      304846.969000"
      ]
     },
     "execution_count": 187,
     "metadata": {},
     "output_type": "execute_result"
    }
   ],
   "source": [
    "query_to_df(\n",
    "\"SELECT AVG(total_amt_usd) AVG_lifetime_spend_top_10_accounts FROM \\\n",
    "(SELECT a.name acct_name, SUM(o.total_amt_usd) total_amt_usd FROM accounts a JOIN orders o \\\n",
    "ON a.id=o.account_id GROUP BY 1 ORDER BY 2 DESC LIMIT 10) as avg;\"\n",
    ")"
   ]
  },
  {
   "cell_type": "markdown",
   "id": "focal-society",
   "metadata": {},
   "source": [
    "**8. What is the lifetime average amount spent in terms of total_amt_usd, including only the companies that spent more per order, on average, than the average of all orders.**"
   ]
  },
  {
   "cell_type": "code",
   "execution_count": 188,
   "id": "conservative-letter",
   "metadata": {},
   "outputs": [
    {
     "name": "stdout",
     "output_type": "stream",
     "text": [
      "Query ran for 0.00997304916381836 secs!\n"
     ]
    },
    {
     "data": {
      "text/html": [
       "<div>\n",
       "<style scoped>\n",
       "    .dataframe tbody tr th:only-of-type {\n",
       "        vertical-align: middle;\n",
       "    }\n",
       "\n",
       "    .dataframe tbody tr th {\n",
       "        vertical-align: top;\n",
       "    }\n",
       "\n",
       "    .dataframe thead th {\n",
       "        text-align: right;\n",
       "    }\n",
       "</style>\n",
       "<table border=\"1\" class=\"dataframe\">\n",
       "  <thead>\n",
       "    <tr style=\"text-align: right;\">\n",
       "      <th></th>\n",
       "      <th>avg_general_order</th>\n",
       "    </tr>\n",
       "  </thead>\n",
       "  <tbody>\n",
       "    <tr>\n",
       "      <th>0</th>\n",
       "      <td>3348.019651</td>\n",
       "    </tr>\n",
       "  </tbody>\n",
       "</table>\n",
       "</div>"
      ],
      "text/plain": [
       "  avg_general_order\n",
       "0       3348.019651"
      ]
     },
     "execution_count": 188,
     "metadata": {},
     "output_type": "execute_result"
    }
   ],
   "source": [
    "# First find the general lifetime average for all orders\n",
    "\n",
    "query_to_df(\n",
    "\"SELECT (SUM(orders.total_amt_usd) / COUNT(orders.total)) avg_general_order FROM orders;\"\n",
    ")"
   ]
  },
  {
   "cell_type": "code",
   "execution_count": 189,
   "id": "judicial-flashing",
   "metadata": {},
   "outputs": [
    {
     "name": "stdout",
     "output_type": "stream",
     "text": [
      "Query ran for 0.13763213157653809 secs!\n"
     ]
    },
    {
     "data": {
      "text/html": [
       "<div>\n",
       "<style scoped>\n",
       "    .dataframe tbody tr th:only-of-type {\n",
       "        vertical-align: middle;\n",
       "    }\n",
       "\n",
       "    .dataframe tbody tr th {\n",
       "        vertical-align: top;\n",
       "    }\n",
       "\n",
       "    .dataframe thead th {\n",
       "        text-align: right;\n",
       "    }\n",
       "</style>\n",
       "<table border=\"1\" class=\"dataframe\">\n",
       "  <thead>\n",
       "    <tr style=\"text-align: right;\">\n",
       "      <th></th>\n",
       "      <th>acct_name</th>\n",
       "      <th>above_avg_avg</th>\n",
       "    </tr>\n",
       "  </thead>\n",
       "  <tbody>\n",
       "    <tr>\n",
       "      <th>0</th>\n",
       "      <td>Walmart</td>\n",
       "      <td>4429.102500</td>\n",
       "    </tr>\n",
       "    <tr>\n",
       "      <th>1</th>\n",
       "      <td>Berkshire Hathaway</td>\n",
       "      <td>7474.320000</td>\n",
       "    </tr>\n",
       "    <tr>\n",
       "      <th>2</th>\n",
       "      <td>CVS Health</td>\n",
       "      <td>3944.585000</td>\n",
       "    </tr>\n",
       "    <tr>\n",
       "      <th>3</th>\n",
       "      <td>General Motors</td>\n",
       "      <td>4997.525000</td>\n",
       "    </tr>\n",
       "    <tr>\n",
       "      <th>4</th>\n",
       "      <td>Ford Motor</td>\n",
       "      <td>4184.092703</td>\n",
       "    </tr>\n",
       "    <tr>\n",
       "      <th>...</th>\n",
       "      <td>...</td>\n",
       "      <td>...</td>\n",
       "    </tr>\n",
       "    <tr>\n",
       "      <th>164</th>\n",
       "      <td>BorgWarner</td>\n",
       "      <td>3749.278182</td>\n",
       "    </tr>\n",
       "    <tr>\n",
       "      <th>165</th>\n",
       "      <td>Eversource Energy</td>\n",
       "      <td>5705.976000</td>\n",
       "    </tr>\n",
       "    <tr>\n",
       "      <th>166</th>\n",
       "      <td>Franklin Resources</td>\n",
       "      <td>3668.390270</td>\n",
       "    </tr>\n",
       "    <tr>\n",
       "      <th>167</th>\n",
       "      <td>KKR</td>\n",
       "      <td>3954.070000</td>\n",
       "    </tr>\n",
       "    <tr>\n",
       "      <th>168</th>\n",
       "      <td>PPL</td>\n",
       "      <td>3868.138966</td>\n",
       "    </tr>\n",
       "  </tbody>\n",
       "</table>\n",
       "<p>169 rows × 2 columns</p>\n",
       "</div>"
      ],
      "text/plain": [
       "              acct_name above_avg_avg\n",
       "0               Walmart   4429.102500\n",
       "1    Berkshire Hathaway   7474.320000\n",
       "2            CVS Health   3944.585000\n",
       "3        General Motors   4997.525000\n",
       "4            Ford Motor   4184.092703\n",
       "..                  ...           ...\n",
       "164          BorgWarner   3749.278182\n",
       "165   Eversource Energy   5705.976000\n",
       "166  Franklin Resources   3668.390270\n",
       "167                 KKR   3954.070000\n",
       "168                 PPL   3868.138966\n",
       "\n",
       "[169 rows x 2 columns]"
      ]
     },
     "execution_count": 189,
     "metadata": {},
     "output_type": "execute_result"
    }
   ],
   "source": [
    "# Then find the accounts whose lifetime average is > the general average\n",
    "\n",
    "query_to_df(\n",
    "\"SELECT DISTINCT a.name acct_name, (SUM(o.total_amt_usd) / COUNT(o.total)) above_avg_avg \\\n",
    "FROM accounts a JOIN orders o ON o.account_id=a.id \\\n",
    "GROUP BY 1 HAVING (SUM(o.total_amt_usd) / COUNT(o.total)) \\\n",
    "> (SELECT (SUM(orders.total_amt_usd) / COUNT(orders.total)) avg_general_order FROM orders);\"\n",
    ")"
   ]
  },
  {
   "cell_type": "code",
   "execution_count": 183,
   "id": "shared-daily",
   "metadata": {},
   "outputs": [
    {
     "name": "stdout",
     "output_type": "stream",
     "text": [
      "Query ran for 0.023936033248901367 secs!\n"
     ]
    },
    {
     "data": {
      "text/html": [
       "<div>\n",
       "<style scoped>\n",
       "    .dataframe tbody tr th:only-of-type {\n",
       "        vertical-align: middle;\n",
       "    }\n",
       "\n",
       "    .dataframe tbody tr th {\n",
       "        vertical-align: top;\n",
       "    }\n",
       "\n",
       "    .dataframe thead th {\n",
       "        text-align: right;\n",
       "    }\n",
       "</style>\n",
       "<table border=\"1\" class=\"dataframe\">\n",
       "  <thead>\n",
       "    <tr style=\"text-align: right;\">\n",
       "      <th></th>\n",
       "      <th>above_avg_spenders_lifetime_avg</th>\n",
       "    </tr>\n",
       "  </thead>\n",
       "  <tbody>\n",
       "    <tr>\n",
       "      <th>0</th>\n",
       "      <td>4721.1397439822</td>\n",
       "    </tr>\n",
       "  </tbody>\n",
       "</table>\n",
       "</div>"
      ],
      "text/plain": [
       "  above_avg_spenders_lifetime_avg\n",
       "0                 4721.1397439822"
      ]
     },
     "execution_count": 183,
     "metadata": {},
     "output_type": "execute_result"
    }
   ],
   "source": [
    "# Now find the lifetime average for all these companies together\n",
    "\n",
    "query_to_df(\n",
    "\"SELECT AVG(above_avg_avg) above_avg_spenders_lifetime_avg FROM \\\n",
    "(SELECT DISTINCT a.name acct_name, (SUM(o.total_amt_usd) / COUNT(o.total)) above_avg_avg \\\n",
    "FROM accounts a JOIN orders o ON o.account_id=a.id \\\n",
    "GROUP BY 1 HAVING (SUM(o.total_amt_usd) / COUNT(o.total)) \\\n",
    "> (SELECT (SUM(orders.total_amt_usd) / COUNT(orders.total)) avg_general_order FROM orders)) AS avg;\"\n",
    ")"
   ]
  },
  {
   "cell_type": "code",
   "execution_count": null,
   "id": "grateful-nature",
   "metadata": {},
   "outputs": [],
   "source": []
  }
 ],
 "metadata": {
  "kernelspec": {
   "display_name": "Python 3",
   "language": "python",
   "name": "python3"
  },
  "language_info": {
   "codemirror_mode": {
    "name": "ipython",
    "version": 3
   },
   "file_extension": ".py",
   "mimetype": "text/x-python",
   "name": "python",
   "nbconvert_exporter": "python",
   "pygments_lexer": "ipython3",
   "version": "3.8.5"
  }
 },
 "nbformat": 4,
 "nbformat_minor": 5
}
