{
  "nbformat": 4,
  "nbformat_minor": 0,
  "metadata": {
    "colab": {
      "name": "sql_for_data_analysis3.ipynb",
      "provenance": [],
      "authorship_tag": "ABX9TyO6p0NVu7ILYAimtdQIjvc3",
      "include_colab_link": true
    },
    "kernelspec": {
      "name": "python3",
      "display_name": "Python 3"
    }
  },
  "cells": [
    {
      "cell_type": "markdown",
      "metadata": {
        "id": "view-in-github",
        "colab_type": "text"
      },
      "source": [
        "<a href=\"https://colab.research.google.com/github/Lawrence-Krukrubo/SQL_for_Data_Science/blob/main/sql_for_data_analysis3.ipynb\" target=\"_parent\"><img src=\"https://colab.research.google.com/assets/colab-badge.svg\" alt=\"Open In Colab\"/></a>"
      ]
    },
    {
      "cell_type": "markdown",
      "metadata": {
        "id": "D_i0i2skl-qV"
      },
      "source": [
        "## **SQL AGGREGATIONS**"
      ]
    },
    {
      "cell_type": "markdown",
      "metadata": {
        "id": "1O4m1kI7pG1J"
      },
      "source": [
        "We connect to Google CloudSQL and make analysis with the Patch and Posey Database.<br>\r\n",
        "\r\n",
        "Thanks to this [article](https://towardsdatascience.com/sql-on-the-cloud-with-python-c08a30807661) for making the connection process clearer.\r\n",
        "\r\n",
        "If we want to download the parch-and-posey.sql file to maybe upload to a database, use this [link](https://storage.googleapis.com/kaggle1980/parch.sql) to the updated file from cloud-storage."
      ]
    },
    {
      "cell_type": "code",
      "metadata": {
        "colab": {
          "base_uri": "https://localhost:8080/"
        },
        "id": "5-e0MZQql15s",
        "outputId": "37c66a0f-e18c-4b59-b202-63f191b4bd8f"
      },
      "source": [
        "# Next mount gdrive\r\n",
        "from google.colab import drive\r\n",
        "drive.mount('/content/gdrive')"
      ],
      "execution_count": 30,
      "outputs": [
        {
          "output_type": "stream",
          "text": [
            "Drive already mounted at /content/gdrive; to attempt to forcibly remount, call drive.mount(\"/content/gdrive\", force_remount=True).\n"
          ],
          "name": "stdout"
        }
      ]
    },
    {
      "cell_type": "code",
      "metadata": {
        "colab": {
          "base_uri": "https://localhost:8080/"
        },
        "id": "Ux--LqRzmDMP",
        "outputId": "eefb1237-1e47-40a8-db0e-0973b28c3bde"
      },
      "source": [
        "# set working directory to Udacity\r\n",
        "%cd /content/gdrive/MyDrive/Colab_Notebooks/Udacity"
      ],
      "execution_count": 31,
      "outputs": [
        {
          "output_type": "stream",
          "text": [
            "/content/gdrive/MyDrive/Colab_Notebooks/Udacity\n"
          ],
          "name": "stdout"
        }
      ]
    },
    {
      "cell_type": "code",
      "metadata": {
        "colab": {
          "base_uri": "https://localhost:8080/"
        },
        "id": "KTMC4mtspjdV",
        "outputId": "883e00bb-39e0-45f7-e69f-a484af0d11fe"
      },
      "source": [
        "%ls"
      ],
      "execution_count": 32,
      "outputs": [
        {
          "output_type": "stream",
          "text": [
            " \u001b[0m\u001b[01;34maws_machine_learning_foundations\u001b[0m/   linear_algebra_refresher.ipynb\n",
            " client-cert.pem                    'linear-example-data (1).xlsx'\n",
            " client-key.pem                      Problem_Solving_w_Advanced_Analytics.ipynb\n",
            " \u001b[01;34mcomputer_vision\u001b[0m/                    server-ca.pem\n",
            " intro_to_algorithm.ipynb            \u001b[01;34mstatistics\u001b[0m/\n",
            " \u001b[01;34mintro_to_artificial_intelligence\u001b[0m/   time_series_forecasting.ipynb\n",
            " \u001b[01;34mintro_to_data_analysis\u001b[0m/             \u001b[01;34mUdac_Prog_Foundations_Python\u001b[0m/\n",
            " intro_to_machine_learning.ipynb     \u001b[01;34mversion_control_with_git\u001b[0m/\n"
          ],
          "name": "stdout"
        }
      ]
    },
    {
      "cell_type": "code",
      "metadata": {
        "colab": {
          "base_uri": "https://localhost:8080/"
        },
        "id": "PYtMVH8cptIr",
        "outputId": "9261ba80-78b9-4735-93af-b8fda49664f2"
      },
      "source": [
        "# Install mySQL connector\r\n",
        "!pip install mysql-connector-python"
      ],
      "execution_count": 33,
      "outputs": [
        {
          "output_type": "stream",
          "text": [
            "Requirement already satisfied: mysql-connector-python in /usr/local/lib/python3.6/dist-packages (8.0.23)\n",
            "Requirement already satisfied: protobuf>=3.0.0 in /usr/local/lib/python3.6/dist-packages (from mysql-connector-python) (3.12.4)\n",
            "Requirement already satisfied: six>=1.9 in /usr/local/lib/python3.6/dist-packages (from protobuf>=3.0.0->mysql-connector-python) (1.15.0)\n",
            "Requirement already satisfied: setuptools in /usr/local/lib/python3.6/dist-packages (from protobuf>=3.0.0->mysql-connector-python) (53.0.0)\n"
          ],
          "name": "stdout"
        }
      ]
    },
    {
      "cell_type": "code",
      "metadata": {
        "colab": {
          "base_uri": "https://localhost:8080/"
        },
        "id": "1yVVsD6gp2C3",
        "outputId": "b5f326d8-4202-4954-a850-177c17f02350"
      },
      "source": [
        "import mysql.connector\r\n",
        "from mysql.connector.constants import ClientFlag\r\n",
        "import pandas as pd\r\n",
        "import numpy as np\r\n",
        "import matplotlib.pyplot as plt\r\n",
        "import seaborn as sns\r\n",
        "from pprint import pprint\r\n",
        "import time\r\n",
        "from tqdm import tqdm\r\n",
        "print('Imported!')"
      ],
      "execution_count": 34,
      "outputs": [
        {
          "output_type": "stream",
          "text": [
            "Imported!\n"
          ],
          "name": "stdout"
        }
      ]
    },
    {
      "cell_type": "code",
      "metadata": {
        "colab": {
          "base_uri": "https://localhost:8080/"
        },
        "id": "uJyPYRMKqFSN",
        "outputId": "2b0c38b0-1cec-41f7-c1df-74ed7d7e3f4e"
      },
      "source": [
        "config = {\r\n",
        "    'user': 'root',\r\n",
        "    'password': 'root',\r\n",
        "    'host': '35.226.26.66',\r\n",
        "    'client_flags': [ClientFlag.SSL],\r\n",
        "    'ssl_ca': 'server-ca.pem',\r\n",
        "    'ssl_cert': 'client-cert.pem',\r\n",
        "    'ssl_key': 'client-key.pem'\r\n",
        "}\r\n",
        "\r\n",
        "# now we establish our connection\r\n",
        "try:\r\n",
        "    cnxn = mysql.connector.connect(**config)\r\n",
        "    print('Connection to CloudSQL Instance Successful!')\r\n",
        "except Exception as e:\r\n",
        "    print(e)"
      ],
      "execution_count": 35,
      "outputs": [
        {
          "output_type": "stream",
          "text": [
            "Connection to CloudSQL Instance Successful!\n"
          ],
          "name": "stdout"
        }
      ]
    },
    {
      "cell_type": "code",
      "metadata": {
        "colab": {
          "base_uri": "https://localhost:8080/"
        },
        "id": "gJ26_yjXqU7v",
        "outputId": "aa87e87e-768e-4a95-cb7f-fc7ddf2081ef"
      },
      "source": [
        "config"
      ],
      "execution_count": 36,
      "outputs": [
        {
          "output_type": "execute_result",
          "data": {
            "text/plain": [
              "{'client_flags': [2048],\n",
              " 'host': '35.226.26.66',\n",
              " 'password': 'root',\n",
              " 'ssl_ca': 'server-ca.pem',\n",
              " 'ssl_cert': 'client-cert.pem',\n",
              " 'ssl_key': 'client-key.pem',\n",
              " 'user': 'root'}"
            ]
          },
          "metadata": {
            "tags": []
          },
          "execution_count": 36
        }
      ]
    },
    {
      "cell_type": "markdown",
      "metadata": {
        "id": "dWLOY0vVqabZ"
      },
      "source": [
        "Now we connect to parch_and_posey_db by adding database: parch_and_posey_db to our config dictionary and connecting just like we did before:"
      ]
    },
    {
      "cell_type": "code",
      "metadata": {
        "id": "CWmbAmG3qb0h"
      },
      "source": [
        "config['database'] = 'parch_and_posey_db'  # add new database to config dict\r\n",
        "cnxn = mysql.connector.connect(**config)\r\n",
        "cursor = cnxn.cursor()"
      ],
      "execution_count": 37,
      "outputs": []
    },
    {
      "cell_type": "markdown",
      "metadata": {
        "id": "23u8Jw-Eqo3T"
      },
      "source": [
        "Let's see the first 3 data of the different tables in parch and posey database"
      ]
    },
    {
      "cell_type": "code",
      "metadata": {
        "colab": {
          "base_uri": "https://localhost:8080/"
        },
        "id": "h62d4wTFqqNa",
        "outputId": "9f041790-85ea-427b-9d6c-07d7293edf5d"
      },
      "source": [
        "# let's run the show tables command \r\n",
        "\r\n",
        "cursor.execute('show tables')\r\n",
        "out = cursor.fetchall()\r\n",
        "out"
      ],
      "execution_count": 38,
      "outputs": [
        {
          "output_type": "execute_result",
          "data": {
            "text/plain": [
              "[('accounts',), ('orders',), ('region',), ('sales_reps',), ('web_events',)]"
            ]
          },
          "metadata": {
            "tags": []
          },
          "execution_count": 38
        }
      ]
    },
    {
      "cell_type": "markdown",
      "metadata": {
        "id": "wCc5jgHhqzk_"
      },
      "source": [
        "Defining a method that converts a select query to a data frame"
      ]
    },
    {
      "cell_type": "code",
      "metadata": {
        "id": "LUeUN1J8q0Ti"
      },
      "source": [
        "def query_to_df(query):\r\n",
        "    st = time.time()\r\n",
        "    # Assert Every Query ends with a semi-colon\r\n",
        "    try:\r\n",
        "        assert query.endswith(';')\r\n",
        "    except AssertionError:\r\n",
        "        return 'ERROR: Query Must End with ;'\r\n",
        "\r\n",
        "    # so we never have more than 20 rows displayed\r\n",
        "    pd.set_option('display.max_rows', 20) \r\n",
        "    df = None\r\n",
        "\r\n",
        "    # Process the query\r\n",
        "    cursor.execute(query)\r\n",
        "    columns = cursor.description\r\n",
        "    result = []\r\n",
        "    for value in cursor.fetchall():\r\n",
        "        tmp = {}\r\n",
        "        for (index,column) in enumerate(value):\r\n",
        "            tmp[columns[index][0]] = [column]\r\n",
        "        result.append(tmp)\r\n",
        "\r\n",
        "    # Create a DataFrame from all results\r\n",
        "    for ind, data in enumerate(result):\r\n",
        "        if ind >= 1:\r\n",
        "            x = pd.DataFrame(data)\r\n",
        "            df = pd.concat([df, x], ignore_index=True)\r\n",
        "        else:\r\n",
        "            df = pd.DataFrame(data)\r\n",
        "    print(f'Query ran for {time.time()-st} secs!')\r\n",
        "    return df"
      ],
      "execution_count": 39,
      "outputs": []
    },
    {
      "cell_type": "code",
      "metadata": {
        "colab": {
          "base_uri": "https://localhost:8080/",
          "height": 153
        },
        "id": "291tQWPirUoH",
        "outputId": "4c5b7d52-af6a-4e40-89dc-11fd374c6023"
      },
      "source": [
        "# 1. For the accounts table\r\n",
        "query = 'SELECT * FROM accounts LIMIT 3;'\r\n",
        "query_to_df(query)"
      ],
      "execution_count": 40,
      "outputs": [
        {
          "output_type": "stream",
          "text": [
            "Query ran for 0.043415069580078125 secs!\n"
          ],
          "name": "stdout"
        },
        {
          "output_type": "execute_result",
          "data": {
            "text/html": [
              "<div>\n",
              "<style scoped>\n",
              "    .dataframe tbody tr th:only-of-type {\n",
              "        vertical-align: middle;\n",
              "    }\n",
              "\n",
              "    .dataframe tbody tr th {\n",
              "        vertical-align: top;\n",
              "    }\n",
              "\n",
              "    .dataframe thead th {\n",
              "        text-align: right;\n",
              "    }\n",
              "</style>\n",
              "<table border=\"1\" class=\"dataframe\">\n",
              "  <thead>\n",
              "    <tr style=\"text-align: right;\">\n",
              "      <th></th>\n",
              "      <th>id</th>\n",
              "      <th>name</th>\n",
              "      <th>website</th>\n",
              "      <th>lats</th>\n",
              "      <th>longs</th>\n",
              "      <th>primary_poc</th>\n",
              "      <th>sales_rep_id</th>\n",
              "    </tr>\n",
              "  </thead>\n",
              "  <tbody>\n",
              "    <tr>\n",
              "      <th>0</th>\n",
              "      <td>1001</td>\n",
              "      <td>Walmart</td>\n",
              "      <td>www.walmart.com</td>\n",
              "      <td>40.238496</td>\n",
              "      <td>-75.103297</td>\n",
              "      <td>Tamara Tuma</td>\n",
              "      <td>321500</td>\n",
              "    </tr>\n",
              "    <tr>\n",
              "      <th>1</th>\n",
              "      <td>1011</td>\n",
              "      <td>Exxon Mobil</td>\n",
              "      <td>www.exxonmobil.com</td>\n",
              "      <td>41.169156</td>\n",
              "      <td>-73.849374</td>\n",
              "      <td>Sung Shields</td>\n",
              "      <td>321510</td>\n",
              "    </tr>\n",
              "    <tr>\n",
              "      <th>2</th>\n",
              "      <td>1021</td>\n",
              "      <td>Apple</td>\n",
              "      <td>www.apple.com</td>\n",
              "      <td>42.290495</td>\n",
              "      <td>-76.084009</td>\n",
              "      <td>Jodee Lupo</td>\n",
              "      <td>321520</td>\n",
              "    </tr>\n",
              "  </tbody>\n",
              "</table>\n",
              "</div>"
            ],
            "text/plain": [
              "     id         name             website  ...      longs   primary_poc sales_rep_id\n",
              "0  1001      Walmart     www.walmart.com  ... -75.103297   Tamara Tuma       321500\n",
              "1  1011  Exxon Mobil  www.exxonmobil.com  ... -73.849374  Sung Shields       321510\n",
              "2  1021        Apple       www.apple.com  ... -76.084009    Jodee Lupo       321520\n",
              "\n",
              "[3 rows x 7 columns]"
            ]
          },
          "metadata": {
            "tags": []
          },
          "execution_count": 40
        }
      ]
    },
    {
      "cell_type": "code",
      "metadata": {
        "colab": {
          "base_uri": "https://localhost:8080/",
          "height": 153
        },
        "id": "5-rCQwfJrXZn",
        "outputId": "eeddcb52-43d6-4c96-ced4-8b9aba849dd2"
      },
      "source": [
        "# 2. For the orders table\r\n",
        "query = 'SELECT * FROM orders LIMIT 3;'\r\n",
        "query_to_df(query)"
      ],
      "execution_count": 41,
      "outputs": [
        {
          "output_type": "stream",
          "text": [
            "Query ran for 0.040866851806640625 secs!\n"
          ],
          "name": "stdout"
        },
        {
          "output_type": "execute_result",
          "data": {
            "text/html": [
              "<div>\n",
              "<style scoped>\n",
              "    .dataframe tbody tr th:only-of-type {\n",
              "        vertical-align: middle;\n",
              "    }\n",
              "\n",
              "    .dataframe tbody tr th {\n",
              "        vertical-align: top;\n",
              "    }\n",
              "\n",
              "    .dataframe thead th {\n",
              "        text-align: right;\n",
              "    }\n",
              "</style>\n",
              "<table border=\"1\" class=\"dataframe\">\n",
              "  <thead>\n",
              "    <tr style=\"text-align: right;\">\n",
              "      <th></th>\n",
              "      <th>id</th>\n",
              "      <th>account_id</th>\n",
              "      <th>occurred_at</th>\n",
              "      <th>standard_qty</th>\n",
              "      <th>gloss_qty</th>\n",
              "      <th>poster_qty</th>\n",
              "      <th>total</th>\n",
              "      <th>standard_amt_usd</th>\n",
              "      <th>gloss_amt_usd</th>\n",
              "      <th>poster_amt_usd</th>\n",
              "      <th>total_amt_usd</th>\n",
              "    </tr>\n",
              "  </thead>\n",
              "  <tbody>\n",
              "    <tr>\n",
              "      <th>0</th>\n",
              "      <td>1</td>\n",
              "      <td>1001</td>\n",
              "      <td>2015-10-06 17:31:14</td>\n",
              "      <td>123</td>\n",
              "      <td>22</td>\n",
              "      <td>24</td>\n",
              "      <td>169</td>\n",
              "      <td>613.77</td>\n",
              "      <td>164.78</td>\n",
              "      <td>194.88</td>\n",
              "      <td>973.43</td>\n",
              "    </tr>\n",
              "    <tr>\n",
              "      <th>1</th>\n",
              "      <td>2</td>\n",
              "      <td>1001</td>\n",
              "      <td>2015-11-05 03:34:33</td>\n",
              "      <td>190</td>\n",
              "      <td>41</td>\n",
              "      <td>57</td>\n",
              "      <td>288</td>\n",
              "      <td>948.10</td>\n",
              "      <td>307.09</td>\n",
              "      <td>462.84</td>\n",
              "      <td>1718.03</td>\n",
              "    </tr>\n",
              "    <tr>\n",
              "      <th>2</th>\n",
              "      <td>3</td>\n",
              "      <td>1001</td>\n",
              "      <td>2015-12-04 04:21:55</td>\n",
              "      <td>85</td>\n",
              "      <td>47</td>\n",
              "      <td>0</td>\n",
              "      <td>132</td>\n",
              "      <td>424.15</td>\n",
              "      <td>352.03</td>\n",
              "      <td>0.00</td>\n",
              "      <td>776.18</td>\n",
              "    </tr>\n",
              "  </tbody>\n",
              "</table>\n",
              "</div>"
            ],
            "text/plain": [
              "   id  account_id  ... poster_amt_usd  total_amt_usd\n",
              "0   1        1001  ...         194.88         973.43\n",
              "1   2        1001  ...         462.84        1718.03\n",
              "2   3        1001  ...           0.00         776.18\n",
              "\n",
              "[3 rows x 11 columns]"
            ]
          },
          "metadata": {
            "tags": []
          },
          "execution_count": 41
        }
      ]
    },
    {
      "cell_type": "code",
      "metadata": {
        "colab": {
          "base_uri": "https://localhost:8080/",
          "height": 153
        },
        "id": "LzQgEHqjrhkj",
        "outputId": "23c8a29c-04f7-4456-9b5b-7725a8cf2190"
      },
      "source": [
        "# 3. For the sales_reps table\r\n",
        "query = 'SELECT * FROM sales_reps LIMIT 3;'\r\n",
        "query_to_df(query)"
      ],
      "execution_count": 42,
      "outputs": [
        {
          "output_type": "stream",
          "text": [
            "Query ran for 0.03772139549255371 secs!\n"
          ],
          "name": "stdout"
        },
        {
          "output_type": "execute_result",
          "data": {
            "text/html": [
              "<div>\n",
              "<style scoped>\n",
              "    .dataframe tbody tr th:only-of-type {\n",
              "        vertical-align: middle;\n",
              "    }\n",
              "\n",
              "    .dataframe tbody tr th {\n",
              "        vertical-align: top;\n",
              "    }\n",
              "\n",
              "    .dataframe thead th {\n",
              "        text-align: right;\n",
              "    }\n",
              "</style>\n",
              "<table border=\"1\" class=\"dataframe\">\n",
              "  <thead>\n",
              "    <tr style=\"text-align: right;\">\n",
              "      <th></th>\n",
              "      <th>id</th>\n",
              "      <th>name</th>\n",
              "      <th>region_id</th>\n",
              "    </tr>\n",
              "  </thead>\n",
              "  <tbody>\n",
              "    <tr>\n",
              "      <th>0</th>\n",
              "      <td>321500</td>\n",
              "      <td>Samuel Racine</td>\n",
              "      <td>1</td>\n",
              "    </tr>\n",
              "    <tr>\n",
              "      <th>1</th>\n",
              "      <td>321510</td>\n",
              "      <td>Eugena Esser</td>\n",
              "      <td>1</td>\n",
              "    </tr>\n",
              "    <tr>\n",
              "      <th>2</th>\n",
              "      <td>321520</td>\n",
              "      <td>Michel Averette</td>\n",
              "      <td>1</td>\n",
              "    </tr>\n",
              "  </tbody>\n",
              "</table>\n",
              "</div>"
            ],
            "text/plain": [
              "       id             name  region_id\n",
              "0  321500    Samuel Racine          1\n",
              "1  321510     Eugena Esser          1\n",
              "2  321520  Michel Averette          1"
            ]
          },
          "metadata": {
            "tags": []
          },
          "execution_count": 42
        }
      ]
    },
    {
      "cell_type": "code",
      "metadata": {
        "colab": {
          "base_uri": "https://localhost:8080/",
          "height": 153
        },
        "id": "s7qUlK52rhhi",
        "outputId": "01aa02e3-b494-4229-b662-e64c2d4bae97"
      },
      "source": [
        "# 4. For the web_events table\r\n",
        "query = 'SELECT * FROM web_events LIMIT 3;'\r\n",
        "query_to_df(query)"
      ],
      "execution_count": 43,
      "outputs": [
        {
          "output_type": "stream",
          "text": [
            "Query ran for 0.03762102127075195 secs!\n"
          ],
          "name": "stdout"
        },
        {
          "output_type": "execute_result",
          "data": {
            "text/html": [
              "<div>\n",
              "<style scoped>\n",
              "    .dataframe tbody tr th:only-of-type {\n",
              "        vertical-align: middle;\n",
              "    }\n",
              "\n",
              "    .dataframe tbody tr th {\n",
              "        vertical-align: top;\n",
              "    }\n",
              "\n",
              "    .dataframe thead th {\n",
              "        text-align: right;\n",
              "    }\n",
              "</style>\n",
              "<table border=\"1\" class=\"dataframe\">\n",
              "  <thead>\n",
              "    <tr style=\"text-align: right;\">\n",
              "      <th></th>\n",
              "      <th>id</th>\n",
              "      <th>account_id</th>\n",
              "      <th>occurred_at</th>\n",
              "      <th>channel</th>\n",
              "    </tr>\n",
              "  </thead>\n",
              "  <tbody>\n",
              "    <tr>\n",
              "      <th>0</th>\n",
              "      <td>1</td>\n",
              "      <td>1001</td>\n",
              "      <td>2015-10-06 17:13:58</td>\n",
              "      <td>direct</td>\n",
              "    </tr>\n",
              "    <tr>\n",
              "      <th>1</th>\n",
              "      <td>2</td>\n",
              "      <td>1001</td>\n",
              "      <td>2015-11-05 03:08:26</td>\n",
              "      <td>direct</td>\n",
              "    </tr>\n",
              "    <tr>\n",
              "      <th>2</th>\n",
              "      <td>3</td>\n",
              "      <td>1001</td>\n",
              "      <td>2015-12-04 03:57:24</td>\n",
              "      <td>direct</td>\n",
              "    </tr>\n",
              "  </tbody>\n",
              "</table>\n",
              "</div>"
            ],
            "text/plain": [
              "   id  account_id         occurred_at channel\n",
              "0   1        1001 2015-10-06 17:13:58  direct\n",
              "1   2        1001 2015-11-05 03:08:26  direct\n",
              "2   3        1001 2015-12-04 03:57:24  direct"
            ]
          },
          "metadata": {
            "tags": []
          },
          "execution_count": 43
        }
      ]
    },
    {
      "cell_type": "code",
      "metadata": {
        "colab": {
          "base_uri": "https://localhost:8080/",
          "height": 153
        },
        "id": "R__FSZmBrzfm",
        "outputId": "c69a971c-5888-4d07-d7f1-77461bbb177c"
      },
      "source": [
        "# 5. For the region table\r\n",
        "query = 'SELECT * FROM region LIMIT 3;'\r\n",
        "query_to_df(query)"
      ],
      "execution_count": 44,
      "outputs": [
        {
          "output_type": "stream",
          "text": [
            "Query ran for 0.036538124084472656 secs!\n"
          ],
          "name": "stdout"
        },
        {
          "output_type": "execute_result",
          "data": {
            "text/html": [
              "<div>\n",
              "<style scoped>\n",
              "    .dataframe tbody tr th:only-of-type {\n",
              "        vertical-align: middle;\n",
              "    }\n",
              "\n",
              "    .dataframe tbody tr th {\n",
              "        vertical-align: top;\n",
              "    }\n",
              "\n",
              "    .dataframe thead th {\n",
              "        text-align: right;\n",
              "    }\n",
              "</style>\n",
              "<table border=\"1\" class=\"dataframe\">\n",
              "  <thead>\n",
              "    <tr style=\"text-align: right;\">\n",
              "      <th></th>\n",
              "      <th>id</th>\n",
              "      <th>name</th>\n",
              "    </tr>\n",
              "  </thead>\n",
              "  <tbody>\n",
              "    <tr>\n",
              "      <th>0</th>\n",
              "      <td>1</td>\n",
              "      <td>Northeast</td>\n",
              "    </tr>\n",
              "    <tr>\n",
              "      <th>1</th>\n",
              "      <td>2</td>\n",
              "      <td>Midwest</td>\n",
              "    </tr>\n",
              "    <tr>\n",
              "      <th>2</th>\n",
              "      <td>3</td>\n",
              "      <td>Southeast</td>\n",
              "    </tr>\n",
              "  </tbody>\n",
              "</table>\n",
              "</div>"
            ],
            "text/plain": [
              "   id       name\n",
              "0   1  Northeast\n",
              "1   2    Midwest\n",
              "2   3  Southeast"
            ]
          },
          "metadata": {
            "tags": []
          },
          "execution_count": 44
        }
      ]
    },
    {
      "cell_type": "code",
      "metadata": {
        "colab": {
          "base_uri": "https://localhost:8080/",
          "height": 153
        },
        "id": "ViqZHglgsClU",
        "outputId": "77efca7e-4243-401e-b497-a0e1f497bb3e"
      },
      "source": [
        "region = query_to_df(query)\r\n",
        "region.head()"
      ],
      "execution_count": 45,
      "outputs": [
        {
          "output_type": "stream",
          "text": [
            "Query ran for 0.03608298301696777 secs!\n"
          ],
          "name": "stdout"
        },
        {
          "output_type": "execute_result",
          "data": {
            "text/html": [
              "<div>\n",
              "<style scoped>\n",
              "    .dataframe tbody tr th:only-of-type {\n",
              "        vertical-align: middle;\n",
              "    }\n",
              "\n",
              "    .dataframe tbody tr th {\n",
              "        vertical-align: top;\n",
              "    }\n",
              "\n",
              "    .dataframe thead th {\n",
              "        text-align: right;\n",
              "    }\n",
              "</style>\n",
              "<table border=\"1\" class=\"dataframe\">\n",
              "  <thead>\n",
              "    <tr style=\"text-align: right;\">\n",
              "      <th></th>\n",
              "      <th>id</th>\n",
              "      <th>name</th>\n",
              "    </tr>\n",
              "  </thead>\n",
              "  <tbody>\n",
              "    <tr>\n",
              "      <th>0</th>\n",
              "      <td>1</td>\n",
              "      <td>Northeast</td>\n",
              "    </tr>\n",
              "    <tr>\n",
              "      <th>1</th>\n",
              "      <td>2</td>\n",
              "      <td>Midwest</td>\n",
              "    </tr>\n",
              "    <tr>\n",
              "      <th>2</th>\n",
              "      <td>3</td>\n",
              "      <td>Southeast</td>\n",
              "    </tr>\n",
              "  </tbody>\n",
              "</table>\n",
              "</div>"
            ],
            "text/plain": [
              "   id       name\n",
              "0   1  Northeast\n",
              "1   2    Midwest\n",
              "2   3  Southeast"
            ]
          },
          "metadata": {
            "tags": []
          },
          "execution_count": 45
        }
      ]
    },
    {
      "cell_type": "markdown",
      "metadata": {
        "id": "FUxKsZzYtF01"
      },
      "source": [
        "**In essential, row-level data are useful for initial exploratory data analysis, when we're trying to get a feel of the data... But as we search for answers, aggregate-data which are often done along columns, become more useful...**"
      ]
    },
    {
      "cell_type": "markdown",
      "metadata": {
        "id": "GMMMbDgNv19o"
      },
      "source": [
        "## Nulls:\r\n",
        "\r\n",
        "NULLs are a datatype that specifies where no data exists in SQL. They are often ignored in our aggregation functions\r\n",
        "\r\n",
        "* Notice that NULLs are different than a zero - they are cells where data does not exist.\r\n",
        "\r\n",
        "* When identifying NULLs in a WHERE clause, we write IS NULL or IS NOT NULL. We don't use =, because NULL isn't considered a value in SQL. Rather, it is a property of the data.\r\n",
        "\r\n",
        "**NULLs - Expert Tip**\r\n",
        "* There are two common ways in which you are likely to encounter NULLs:\r\n",
        "\r\n",
        "* NULLs frequently occur when performing a LEFT or RIGHT JOIN. You saw in the last lesson - when some rows in the left table of a left join are not matched with rows in the right table, those rows will contain some NULL values in the result set.\r\n",
        "\r\n",
        "* NULLs can also occur from simply missing data in our database."
      ]
    },
    {
      "cell_type": "markdown",
      "metadata": {
        "id": "JB8MZsFhyFc8"
      },
      "source": [
        "**COUNT the Number of Rows in each Table**\r\n",
        "\r\n",
        "Try your hand at finding the number of rows in each table."
      ]
    },
    {
      "cell_type": "code",
      "metadata": {
        "colab": {
          "base_uri": "https://localhost:8080/"
        },
        "id": "vaEaQC4_tbny",
        "outputId": "63217e90-54ff-4e02-be4e-191a3c1336fa"
      },
      "source": [
        "for table in ['orders','accounts','web_events','region','sales_reps']:\r\n",
        "    query = f'SELECT COUNT(*) AS row_count FROM {table};'\r\n",
        "    ans = query_to_df(query)\r\n",
        "    print(f'Table {table}:')\r\n",
        "    print(ans)\r\n",
        "    print()"
      ],
      "execution_count": 46,
      "outputs": [
        {
          "output_type": "stream",
          "text": [
            "Query ran for 0.037874460220336914 secs!\n",
            "Table orders:\n",
            "   row_count\n",
            "0       6912\n",
            "\n",
            "Query ran for 0.03352689743041992 secs!\n",
            "Table accounts:\n",
            "   row_count\n",
            "0        351\n",
            "\n",
            "Query ran for 0.036992549896240234 secs!\n",
            "Table web_events:\n",
            "   row_count\n",
            "0       9073\n",
            "\n",
            "Query ran for 0.03348517417907715 secs!\n",
            "Table region:\n",
            "   row_count\n",
            "0          4\n",
            "\n",
            "Query ran for 0.03362703323364258 secs!\n",
            "Table sales_reps:\n",
            "   row_count\n",
            "0         50\n",
            "\n"
          ],
          "name": "stdout"
        }
      ]
    },
    {
      "cell_type": "markdown",
      "metadata": {
        "id": "av1i5vS89jeN"
      },
      "source": [
        "### COUNT:\r\n",
        "\r\n",
        "* Note that unlike other aggregations, `COUNT` can be used in columns of Non-Numerical values. Same too for `MIN` and `MAX` clauses.\r\n",
        "\r\n",
        "* Notice that `COUNT` does not consider rows that have `NULL` values. Therefore, this can be useful for quickly identifying which rows have missing data. "
      ]
    },
    {
      "cell_type": "markdown",
      "metadata": {
        "id": "yYHqRnSq-e-H"
      },
      "source": [
        "### SUM:\r\n",
        "\r\n",
        "* Unlike `COUNT`, you can only use `SUM` on numeric columns. However, `SUM` will ignore NULL values, as do the other aggregation functions you will see in the upcoming lessons.\r\n",
        "\r\n",
        "### Aggregation Reminder:\r\n",
        "\r\n",
        "An important thing to remember: aggregators only aggregate vertically - the values of a column. If you want to perform a calculation across rows, you would do this with simple arithmetic."
      ]
    },
    {
      "cell_type": "markdown",
      "metadata": {
        "id": "B0MCLjwk_Gw2"
      },
      "source": [
        "##Aggregation Question\r\n",
        "\r\n",
        "find the solution for each of the following questions. If you get stuck or want to check your answers, you can find the answers at the top of the next concept."
      ]
    },
    {
      "cell_type": "markdown",
      "metadata": {
        "id": "a_UEaQEM_O7R"
      },
      "source": [
        "#### Q1: Find the total amount of poster_qty paper ordered in the orders table."
      ]
    },
    {
      "cell_type": "code",
      "metadata": {
        "colab": {
          "base_uri": "https://localhost:8080/",
          "height": 94
        },
        "id": "oPJG95SD-Fp3",
        "outputId": "cede6d95-8f55-46de-edf1-899a894f0354"
      },
      "source": [
        "query = 'SELECT SUM(poster_qty) FROM orders;'\r\n",
        "query_to_df(query)"
      ],
      "execution_count": 47,
      "outputs": [
        {
          "output_type": "stream",
          "text": [
            "Query ran for 0.03694295883178711 secs!\n"
          ],
          "name": "stdout"
        },
        {
          "output_type": "execute_result",
          "data": {
            "text/html": [
              "<div>\n",
              "<style scoped>\n",
              "    .dataframe tbody tr th:only-of-type {\n",
              "        vertical-align: middle;\n",
              "    }\n",
              "\n",
              "    .dataframe tbody tr th {\n",
              "        vertical-align: top;\n",
              "    }\n",
              "\n",
              "    .dataframe thead th {\n",
              "        text-align: right;\n",
              "    }\n",
              "</style>\n",
              "<table border=\"1\" class=\"dataframe\">\n",
              "  <thead>\n",
              "    <tr style=\"text-align: right;\">\n",
              "      <th></th>\n",
              "      <th>SUM(poster_qty)</th>\n",
              "    </tr>\n",
              "  </thead>\n",
              "  <tbody>\n",
              "    <tr>\n",
              "      <th>0</th>\n",
              "      <td>723646</td>\n",
              "    </tr>\n",
              "  </tbody>\n",
              "</table>\n",
              "</div>"
            ],
            "text/plain": [
              "  SUM(poster_qty)\n",
              "0          723646"
            ]
          },
          "metadata": {
            "tags": []
          },
          "execution_count": 47
        }
      ]
    },
    {
      "cell_type": "markdown",
      "metadata": {
        "id": "ZdgN65tGABD9"
      },
      "source": [
        "#### Q2: Find the total amount of standard_qty paper ordered in the orders table."
      ]
    },
    {
      "cell_type": "code",
      "metadata": {
        "colab": {
          "base_uri": "https://localhost:8080/",
          "height": 94
        },
        "id": "gUnQ5rEiAJED",
        "outputId": "e470fcf0-c23a-4120-c8ec-69132245520f"
      },
      "source": [
        "query = 'SELECT SUM(standard_qty) FROM orders;'\r\n",
        "query_to_df(query)"
      ],
      "execution_count": 48,
      "outputs": [
        {
          "output_type": "stream",
          "text": [
            "Query ran for 0.03714323043823242 secs!\n"
          ],
          "name": "stdout"
        },
        {
          "output_type": "execute_result",
          "data": {
            "text/html": [
              "<div>\n",
              "<style scoped>\n",
              "    .dataframe tbody tr th:only-of-type {\n",
              "        vertical-align: middle;\n",
              "    }\n",
              "\n",
              "    .dataframe tbody tr th {\n",
              "        vertical-align: top;\n",
              "    }\n",
              "\n",
              "    .dataframe thead th {\n",
              "        text-align: right;\n",
              "    }\n",
              "</style>\n",
              "<table border=\"1\" class=\"dataframe\">\n",
              "  <thead>\n",
              "    <tr style=\"text-align: right;\">\n",
              "      <th></th>\n",
              "      <th>SUM(standard_qty)</th>\n",
              "    </tr>\n",
              "  </thead>\n",
              "  <tbody>\n",
              "    <tr>\n",
              "      <th>0</th>\n",
              "      <td>1938346</td>\n",
              "    </tr>\n",
              "  </tbody>\n",
              "</table>\n",
              "</div>"
            ],
            "text/plain": [
              "  SUM(standard_qty)\n",
              "0           1938346"
            ]
          },
          "metadata": {
            "tags": []
          },
          "execution_count": 48
        }
      ]
    },
    {
      "cell_type": "markdown",
      "metadata": {
        "id": "5AJlenEjA2_1"
      },
      "source": [
        "#### Q4. Find the total dollar amount of sales using the total_amt_usd in the orders table."
      ]
    },
    {
      "cell_type": "markdown",
      "metadata": {
        "id": "FZONmaKMd8Lf"
      },
      "source": [
        ""
      ]
    },
    {
      "cell_type": "code",
      "metadata": {
        "colab": {
          "base_uri": "https://localhost:8080/",
          "height": 94
        },
        "id": "Ia_qy5oTA6VJ",
        "outputId": "39fb24b7-fd62-4eea-993c-0b1727643ec4"
      },
      "source": [
        "query_to_df('SELECT SUM(total_amt_usd) FROM orders;')"
      ],
      "execution_count": 49,
      "outputs": [
        {
          "output_type": "stream",
          "text": [
            "Query ran for 0.03673744201660156 secs!\n"
          ],
          "name": "stdout"
        },
        {
          "output_type": "execute_result",
          "data": {
            "text/html": [
              "<div>\n",
              "<style scoped>\n",
              "    .dataframe tbody tr th:only-of-type {\n",
              "        vertical-align: middle;\n",
              "    }\n",
              "\n",
              "    .dataframe tbody tr th {\n",
              "        vertical-align: top;\n",
              "    }\n",
              "\n",
              "    .dataframe thead th {\n",
              "        text-align: right;\n",
              "    }\n",
              "</style>\n",
              "<table border=\"1\" class=\"dataframe\">\n",
              "  <thead>\n",
              "    <tr style=\"text-align: right;\">\n",
              "      <th></th>\n",
              "      <th>SUM(total_amt_usd)</th>\n",
              "    </tr>\n",
              "  </thead>\n",
              "  <tbody>\n",
              "    <tr>\n",
              "      <th>0</th>\n",
              "      <td>23141511.82</td>\n",
              "    </tr>\n",
              "  </tbody>\n",
              "</table>\n",
              "</div>"
            ],
            "text/plain": [
              "   SUM(total_amt_usd)\n",
              "0         23141511.82"
            ]
          },
          "metadata": {
            "tags": []
          },
          "execution_count": 49
        }
      ]
    },
    {
      "cell_type": "markdown",
      "metadata": {
        "id": "OJvGf-klBaWk"
      },
      "source": [
        "#### Q5. Find the total amount spent on standard_amt_usd and gloss_amt_usd paper for each order in the orders table. This should give a dollar amount for each order in the table."
      ]
    },
    {
      "cell_type": "code",
      "metadata": {
        "colab": {
          "base_uri": "https://localhost:8080/",
          "height": 418
        },
        "id": "WjIj2WjNBd4u",
        "outputId": "6e67ad11-a11a-4d3c-b41b-000a31c1c347"
      },
      "source": [
        "query_to_df(\r\n",
        "    'SELECT id, (standard_amt_usd + gloss_amt_usd) tot_amt_usd FROM orders;'\r\n",
        ")"
      ],
      "execution_count": 50,
      "outputs": [
        {
          "output_type": "stream",
          "text": [
            "Query ran for 7.5865654945373535 secs!\n"
          ],
          "name": "stdout"
        },
        {
          "output_type": "execute_result",
          "data": {
            "text/html": [
              "<div>\n",
              "<style scoped>\n",
              "    .dataframe tbody tr th:only-of-type {\n",
              "        vertical-align: middle;\n",
              "    }\n",
              "\n",
              "    .dataframe tbody tr th {\n",
              "        vertical-align: top;\n",
              "    }\n",
              "\n",
              "    .dataframe thead th {\n",
              "        text-align: right;\n",
              "    }\n",
              "</style>\n",
              "<table border=\"1\" class=\"dataframe\">\n",
              "  <thead>\n",
              "    <tr style=\"text-align: right;\">\n",
              "      <th></th>\n",
              "      <th>id</th>\n",
              "      <th>tot_amt_usd</th>\n",
              "    </tr>\n",
              "  </thead>\n",
              "  <tbody>\n",
              "    <tr>\n",
              "      <th>0</th>\n",
              "      <td>1</td>\n",
              "      <td>778.55</td>\n",
              "    </tr>\n",
              "    <tr>\n",
              "      <th>1</th>\n",
              "      <td>2</td>\n",
              "      <td>1255.19</td>\n",
              "    </tr>\n",
              "    <tr>\n",
              "      <th>2</th>\n",
              "      <td>3</td>\n",
              "      <td>776.18</td>\n",
              "    </tr>\n",
              "    <tr>\n",
              "      <th>3</th>\n",
              "      <td>4</td>\n",
              "      <td>958.24</td>\n",
              "    </tr>\n",
              "    <tr>\n",
              "      <th>4</th>\n",
              "      <td>5</td>\n",
              "      <td>756.13</td>\n",
              "    </tr>\n",
              "    <tr>\n",
              "      <th>...</th>\n",
              "      <td>...</td>\n",
              "      <td>...</td>\n",
              "    </tr>\n",
              "    <tr>\n",
              "      <th>6907</th>\n",
              "      <td>6908</td>\n",
              "      <td>1545.40</td>\n",
              "    </tr>\n",
              "    <tr>\n",
              "      <th>6908</th>\n",
              "      <td>6909</td>\n",
              "      <td>706.54</td>\n",
              "    </tr>\n",
              "    <tr>\n",
              "      <th>6909</th>\n",
              "      <td>6910</td>\n",
              "      <td>783.90</td>\n",
              "    </tr>\n",
              "    <tr>\n",
              "      <th>6910</th>\n",
              "      <td>6911</td>\n",
              "      <td>816.20</td>\n",
              "    </tr>\n",
              "    <tr>\n",
              "      <th>6911</th>\n",
              "      <td>6912</td>\n",
              "      <td>1427.89</td>\n",
              "    </tr>\n",
              "  </tbody>\n",
              "</table>\n",
              "<p>6912 rows × 2 columns</p>\n",
              "</div>"
            ],
            "text/plain": [
              "        id  tot_amt_usd\n",
              "0        1       778.55\n",
              "1        2      1255.19\n",
              "2        3       776.18\n",
              "3        4       958.24\n",
              "4        5       756.13\n",
              "...    ...          ...\n",
              "6907  6908      1545.40\n",
              "6908  6909       706.54\n",
              "6909  6910       783.90\n",
              "6910  6911       816.20\n",
              "6911  6912      1427.89\n",
              "\n",
              "[6912 rows x 2 columns]"
            ]
          },
          "metadata": {
            "tags": []
          },
          "execution_count": 50
        }
      ]
    },
    {
      "cell_type": "markdown",
      "metadata": {
        "id": "x3ibPY4LDkxz"
      },
      "source": [
        "#### Q6. Find the standard_amt_usd per unit of standard_qty paper. Your solution should use both an aggregation and a mathematical operator."
      ]
    },
    {
      "cell_type": "code",
      "metadata": {
        "colab": {
          "base_uri": "https://localhost:8080/",
          "height": 94
        },
        "id": "yztqlpvIDocz",
        "outputId": "462a638e-4968-412d-d78e-061f8b81b11a"
      },
      "source": [
        "query_to_df(\r\n",
        " 'SELECT (SUM(standard_amt_usd)  / SUM(standard_qty)) \\\r\n",
        " standard_unit_usd FROM orders;'   \r\n",
        ")"
      ],
      "execution_count": 51,
      "outputs": [
        {
          "output_type": "stream",
          "text": [
            "Query ran for 0.03870964050292969 secs!\n"
          ],
          "name": "stdout"
        },
        {
          "output_type": "execute_result",
          "data": {
            "text/html": [
              "<div>\n",
              "<style scoped>\n",
              "    .dataframe tbody tr th:only-of-type {\n",
              "        vertical-align: middle;\n",
              "    }\n",
              "\n",
              "    .dataframe tbody tr th {\n",
              "        vertical-align: top;\n",
              "    }\n",
              "\n",
              "    .dataframe thead th {\n",
              "        text-align: right;\n",
              "    }\n",
              "</style>\n",
              "<table border=\"1\" class=\"dataframe\">\n",
              "  <thead>\n",
              "    <tr style=\"text-align: right;\">\n",
              "      <th></th>\n",
              "      <th>standard_unit_usd</th>\n",
              "    </tr>\n",
              "  </thead>\n",
              "  <tbody>\n",
              "    <tr>\n",
              "      <th>0</th>\n",
              "      <td>4.99</td>\n",
              "    </tr>\n",
              "  </tbody>\n",
              "</table>\n",
              "</div>"
            ],
            "text/plain": [
              "   standard_unit_usd\n",
              "0               4.99"
            ]
          },
          "metadata": {
            "tags": []
          },
          "execution_count": 51
        }
      ]
    },
    {
      "cell_type": "markdown",
      "metadata": {
        "id": "ZpfedkGMH09Y"
      },
      "source": [
        "### Min and Max\r\n",
        "\r\n",
        "Notice that `MIN` and `MAX` are aggregators that again ignore `NULL` values.\r\n",
        "\r\n",
        "#### Expert Tip\r\n",
        "Functionally, MIN and MAX are similar to COUNT in that they can be used on non-numerical columns. Depending on the column type, MIN will return the lowest number, earliest date, or non-numerical value as early in the alphabet as possible. As you might suspect, MAX does the opposite—it returns the highest number, the latest date, or the non-numerical value closest alphabetically to “Z.”"
      ]
    },
    {
      "cell_type": "markdown",
      "metadata": {
        "id": "Rqv1X_9lJGEX"
      },
      "source": [
        "### AVG:\r\n",
        "\r\n",
        "Similar to other software `AVG` returns the mean of the data - that is the sum of all of the values in the column divided by the number of values in a column. This aggregate function again ignores the `NULL` values in both the numerator and the denominator.\r\n",
        "\r\n",
        "If you want to count NULLs as zero, you will need to use SUM and COUNT. However, this is probably not a good idea if the NULL values truly just represent unknown values for a cell.\r\n",
        "\r\n",
        "####MEDIAN - Expert Tip\r\n",
        "\r\n",
        "One quick note that a median might be a more appropriate measure of center for this data, but finding the median happens to be a pretty difficult thing to get using SQL alone — so difficult that finding a median is occasionally asked as an interview question."
      ]
    },
    {
      "cell_type": "markdown",
      "metadata": {
        "id": "fxXoepK1J9V9"
      },
      "source": [
        "##Questions: MIN, MAX, & AVERAGE\r\n",
        "Answer the following questions."
      ]
    },
    {
      "cell_type": "markdown",
      "metadata": {
        "id": "PcLFehJOKLRv"
      },
      "source": [
        "#### 1. When was the earliest order ever placed? You only need to return the date."
      ]
    },
    {
      "cell_type": "code",
      "metadata": {
        "colab": {
          "base_uri": "https://localhost:8080/",
          "height": 94
        },
        "id": "MjG5OAPgIM18",
        "outputId": "43acb593-44e2-4c9c-9ff8-8a2b80751317"
      },
      "source": [
        "query_to_df(\r\n",
        "    'SELECT MIN(occurred_at) earliest_order FROM orders;'\r\n",
        ")"
      ],
      "execution_count": 52,
      "outputs": [
        {
          "output_type": "stream",
          "text": [
            "Query ran for 0.03799152374267578 secs!\n"
          ],
          "name": "stdout"
        },
        {
          "output_type": "execute_result",
          "data": {
            "text/html": [
              "<div>\n",
              "<style scoped>\n",
              "    .dataframe tbody tr th:only-of-type {\n",
              "        vertical-align: middle;\n",
              "    }\n",
              "\n",
              "    .dataframe tbody tr th {\n",
              "        vertical-align: top;\n",
              "    }\n",
              "\n",
              "    .dataframe thead th {\n",
              "        text-align: right;\n",
              "    }\n",
              "</style>\n",
              "<table border=\"1\" class=\"dataframe\">\n",
              "  <thead>\n",
              "    <tr style=\"text-align: right;\">\n",
              "      <th></th>\n",
              "      <th>earliest_order</th>\n",
              "    </tr>\n",
              "  </thead>\n",
              "  <tbody>\n",
              "    <tr>\n",
              "      <th>0</th>\n",
              "      <td>2013-12-04 04:22:44</td>\n",
              "    </tr>\n",
              "  </tbody>\n",
              "</table>\n",
              "</div>"
            ],
            "text/plain": [
              "       earliest_order\n",
              "0 2013-12-04 04:22:44"
            ]
          },
          "metadata": {
            "tags": []
          },
          "execution_count": 52
        }
      ]
    },
    {
      "cell_type": "markdown",
      "metadata": {
        "id": "88xJGqbBKjx7"
      },
      "source": [
        "#### 2. Try performing the same query as in question 1 without using an aggregation function."
      ]
    },
    {
      "cell_type": "code",
      "metadata": {
        "colab": {
          "base_uri": "https://localhost:8080/",
          "height": 94
        },
        "id": "gcJ4lRfyKlQH",
        "outputId": "9734bd19-bd37-4a46-fff5-c8d9c53a950e"
      },
      "source": [
        "query_to_df(\r\n",
        "    'SELECT occurred_at earliest_order FROM orders ORDER BY occurred_at LIMIT 1;'\r\n",
        ")"
      ],
      "execution_count": 53,
      "outputs": [
        {
          "output_type": "stream",
          "text": [
            "Query ran for 0.03673052787780762 secs!\n"
          ],
          "name": "stdout"
        },
        {
          "output_type": "execute_result",
          "data": {
            "text/html": [
              "<div>\n",
              "<style scoped>\n",
              "    .dataframe tbody tr th:only-of-type {\n",
              "        vertical-align: middle;\n",
              "    }\n",
              "\n",
              "    .dataframe tbody tr th {\n",
              "        vertical-align: top;\n",
              "    }\n",
              "\n",
              "    .dataframe thead th {\n",
              "        text-align: right;\n",
              "    }\n",
              "</style>\n",
              "<table border=\"1\" class=\"dataframe\">\n",
              "  <thead>\n",
              "    <tr style=\"text-align: right;\">\n",
              "      <th></th>\n",
              "      <th>earliest_order</th>\n",
              "    </tr>\n",
              "  </thead>\n",
              "  <tbody>\n",
              "    <tr>\n",
              "      <th>0</th>\n",
              "      <td>2013-12-04 04:22:44</td>\n",
              "    </tr>\n",
              "  </tbody>\n",
              "</table>\n",
              "</div>"
            ],
            "text/plain": [
              "       earliest_order\n",
              "0 2013-12-04 04:22:44"
            ]
          },
          "metadata": {
            "tags": []
          },
          "execution_count": 53
        }
      ]
    },
    {
      "cell_type": "markdown",
      "metadata": {
        "id": "XUvcES0fLgy2"
      },
      "source": [
        "#### 3. When did the most recent (latest) web_event occur?"
      ]
    },
    {
      "cell_type": "code",
      "metadata": {
        "colab": {
          "base_uri": "https://localhost:8080/",
          "height": 94
        },
        "id": "YcBurfcgLkuk",
        "outputId": "87f43612-445e-4c55-e9d3-236682a1765f"
      },
      "source": [
        "query_to_df(\r\n",
        "    'SELECT MAX(occurred_at) latest_event FROM web_events;'\r\n",
        ")"
      ],
      "execution_count": 54,
      "outputs": [
        {
          "output_type": "stream",
          "text": [
            "Query ran for 0.038704633712768555 secs!\n"
          ],
          "name": "stdout"
        },
        {
          "output_type": "execute_result",
          "data": {
            "text/html": [
              "<div>\n",
              "<style scoped>\n",
              "    .dataframe tbody tr th:only-of-type {\n",
              "        vertical-align: middle;\n",
              "    }\n",
              "\n",
              "    .dataframe tbody tr th {\n",
              "        vertical-align: top;\n",
              "    }\n",
              "\n",
              "    .dataframe thead th {\n",
              "        text-align: right;\n",
              "    }\n",
              "</style>\n",
              "<table border=\"1\" class=\"dataframe\">\n",
              "  <thead>\n",
              "    <tr style=\"text-align: right;\">\n",
              "      <th></th>\n",
              "      <th>latest_event</th>\n",
              "    </tr>\n",
              "  </thead>\n",
              "  <tbody>\n",
              "    <tr>\n",
              "      <th>0</th>\n",
              "      <td>2017-01-01 23:51:09</td>\n",
              "    </tr>\n",
              "  </tbody>\n",
              "</table>\n",
              "</div>"
            ],
            "text/plain": [
              "         latest_event\n",
              "0 2017-01-01 23:51:09"
            ]
          },
          "metadata": {
            "tags": []
          },
          "execution_count": 54
        }
      ]
    },
    {
      "cell_type": "markdown",
      "metadata": {
        "id": "KksvrdTrMKYm"
      },
      "source": [
        "#### 4. Try to perform the result of the previous query without using an aggregation function."
      ]
    },
    {
      "cell_type": "code",
      "metadata": {
        "colab": {
          "base_uri": "https://localhost:8080/",
          "height": 94
        },
        "id": "0dM1ZC-3MM2p",
        "outputId": "fac11831-f4db-4a23-c5a7-13123df314c6"
      },
      "source": [
        "query_to_df(\r\n",
        "    'SELECT occurred_at FROM web_events ORDER BY occurred_at DESC LIMIT 1;'\r\n",
        ")"
      ],
      "execution_count": 55,
      "outputs": [
        {
          "output_type": "stream",
          "text": [
            "Query ran for 0.03789663314819336 secs!\n"
          ],
          "name": "stdout"
        },
        {
          "output_type": "execute_result",
          "data": {
            "text/html": [
              "<div>\n",
              "<style scoped>\n",
              "    .dataframe tbody tr th:only-of-type {\n",
              "        vertical-align: middle;\n",
              "    }\n",
              "\n",
              "    .dataframe tbody tr th {\n",
              "        vertical-align: top;\n",
              "    }\n",
              "\n",
              "    .dataframe thead th {\n",
              "        text-align: right;\n",
              "    }\n",
              "</style>\n",
              "<table border=\"1\" class=\"dataframe\">\n",
              "  <thead>\n",
              "    <tr style=\"text-align: right;\">\n",
              "      <th></th>\n",
              "      <th>occurred_at</th>\n",
              "    </tr>\n",
              "  </thead>\n",
              "  <tbody>\n",
              "    <tr>\n",
              "      <th>0</th>\n",
              "      <td>2017-01-01 23:51:09</td>\n",
              "    </tr>\n",
              "  </tbody>\n",
              "</table>\n",
              "</div>"
            ],
            "text/plain": [
              "          occurred_at\n",
              "0 2017-01-01 23:51:09"
            ]
          },
          "metadata": {
            "tags": []
          },
          "execution_count": 55
        }
      ]
    },
    {
      "cell_type": "markdown",
      "metadata": {
        "id": "u0cmK8tXOcbi"
      },
      "source": [
        "#### 5. Find the mean (AVERAGE) amount spent per order on each paper type, as well as the mean amount of each paper type purchased per order. Your final answer should have 6 values - one for each paper type for the average number of sales, as well as the average amount."
      ]
    },
    {
      "cell_type": "code",
      "metadata": {
        "colab": {
          "base_uri": "https://localhost:8080/",
          "height": 94
        },
        "id": "Z8oShKsROeam",
        "outputId": "3967cd0b-ab3a-440b-89f2-5718c421dcac"
      },
      "source": [
        "query_to_df(\r\n",
        "    'SELECT SUM(standard_amt_usd) / SUM(standard_qty) avg_standard_usd, \\\r\n",
        "    SUM(total) / SUM(standard_qty) avg_standard_qty, \\\r\n",
        "    SUM(gloss_amt_usd) / SUM(gloss_qty) avg_gloss_usd, \\\r\n",
        "    SUM(total) / SUM(gloss_qty) avg_gloss_qty, \\\r\n",
        "    SUM(poster_amt_usd) / SUM(poster_qty) avg_poster_usd, \\\r\n",
        "    SUM(total) / SUM(poster_qty) avg_poster_qty\\\r\n",
        "    FROM orders;'\r\n",
        ")"
      ],
      "execution_count": 56,
      "outputs": [
        {
          "output_type": "stream",
          "text": [
            "Query ran for 0.04118037223815918 secs!\n"
          ],
          "name": "stdout"
        },
        {
          "output_type": "execute_result",
          "data": {
            "text/html": [
              "<div>\n",
              "<style scoped>\n",
              "    .dataframe tbody tr th:only-of-type {\n",
              "        vertical-align: middle;\n",
              "    }\n",
              "\n",
              "    .dataframe tbody tr th {\n",
              "        vertical-align: top;\n",
              "    }\n",
              "\n",
              "    .dataframe thead th {\n",
              "        text-align: right;\n",
              "    }\n",
              "</style>\n",
              "<table border=\"1\" class=\"dataframe\">\n",
              "  <thead>\n",
              "    <tr style=\"text-align: right;\">\n",
              "      <th></th>\n",
              "      <th>avg_standard_usd</th>\n",
              "      <th>avg_standard_qty</th>\n",
              "      <th>avg_gloss_usd</th>\n",
              "      <th>avg_gloss_qty</th>\n",
              "      <th>avg_poster_usd</th>\n",
              "      <th>avg_poster_qty</th>\n",
              "    </tr>\n",
              "  </thead>\n",
              "  <tbody>\n",
              "    <tr>\n",
              "      <th>0</th>\n",
              "      <td>4.99</td>\n",
              "      <td>1.8963</td>\n",
              "      <td>7.49</td>\n",
              "      <td>3.6258</td>\n",
              "      <td>8.12</td>\n",
              "      <td>5.0795</td>\n",
              "    </tr>\n",
              "  </tbody>\n",
              "</table>\n",
              "</div>"
            ],
            "text/plain": [
              "   avg_standard_usd avg_standard_qty  ...  avg_poster_usd avg_poster_qty\n",
              "0              4.99           1.8963  ...            8.12         5.0795\n",
              "\n",
              "[1 rows x 6 columns]"
            ]
          },
          "metadata": {
            "tags": []
          },
          "execution_count": 56
        }
      ]
    },
    {
      "cell_type": "markdown",
      "metadata": {
        "id": "He9z17naXhgs"
      },
      "source": [
        "#### 6: Via the video, you might be interested in how to calculate the MEDIAN. Though this is more advanced than what we have covered so far try finding - what is the MEDIAN total_usd spent on all orders?"
      ]
    },
    {
      "cell_type": "code",
      "metadata": {
        "colab": {
          "base_uri": "https://localhost:8080/",
          "height": 123
        },
        "id": "DOBx0HGrXliZ",
        "outputId": "f1be772d-8942-472e-d9ef-f7da2649ca53"
      },
      "source": [
        "query_to_df(\r\n",
        "    'SELECT * FROM \\\r\n",
        "    (SELECT total_amt_usd FROM orders ORDER BY total_amt_usd LIMIT 3457) \\\r\n",
        "    AS tot_amt ORDER BY total_amt_usd DESC LIMIT 2;'\r\n",
        ")"
      ],
      "execution_count": 57,
      "outputs": [
        {
          "output_type": "stream",
          "text": [
            "Query ran for 0.03937077522277832 secs!\n"
          ],
          "name": "stdout"
        },
        {
          "output_type": "execute_result",
          "data": {
            "text/html": [
              "<div>\n",
              "<style scoped>\n",
              "    .dataframe tbody tr th:only-of-type {\n",
              "        vertical-align: middle;\n",
              "    }\n",
              "\n",
              "    .dataframe tbody tr th {\n",
              "        vertical-align: top;\n",
              "    }\n",
              "\n",
              "    .dataframe thead th {\n",
              "        text-align: right;\n",
              "    }\n",
              "</style>\n",
              "<table border=\"1\" class=\"dataframe\">\n",
              "  <thead>\n",
              "    <tr style=\"text-align: right;\">\n",
              "      <th></th>\n",
              "      <th>total_amt_usd</th>\n",
              "    </tr>\n",
              "  </thead>\n",
              "  <tbody>\n",
              "    <tr>\n",
              "      <th>0</th>\n",
              "      <td>2483.16</td>\n",
              "    </tr>\n",
              "    <tr>\n",
              "      <th>1</th>\n",
              "      <td>2482.55</td>\n",
              "    </tr>\n",
              "  </tbody>\n",
              "</table>\n",
              "</div>"
            ],
            "text/plain": [
              "   total_amt_usd\n",
              "0        2483.16\n",
              "1        2482.55"
            ]
          },
          "metadata": {
            "tags": []
          },
          "execution_count": 57
        }
      ]
    },
    {
      "cell_type": "markdown",
      "metadata": {
        "id": "5CzSKmxp5C0s"
      },
      "source": [
        "## GROUP BY:\r\n",
        "\r\n",
        "* `GROUP BY` can be used to aggregate data within subsets of the data. For example, grouping for different accounts, different regions, or different sales representatives.\r\n",
        "\r\n",
        "\r\n",
        "* Any column in the `SELECT` statement that is not within an aggregator must be in the `GROUP BY` clause.\r\n",
        "\r\n",
        "\r\n",
        "* The `GROUP BY` always goes between `WHERE` and `ORDER BY`.\r\n",
        "\r\n",
        "\r\n",
        "* `ORDER BY` works like SORT in spreadsheet software."
      ]
    },
    {
      "cell_type": "markdown",
      "metadata": {
        "id": "1CmEIYJ86B-7"
      },
      "source": [
        "### GROUP BY - Expert Tip:\r\n",
        "\r\n",
        "SQL evaluates the aggregations before the `LIMIT` clause. If you don’t `group by` any columns, you’ll get a 1-row result—no problem there. If you `group by` a column with enough unique values that it exceeds the `LIMIT` number, the aggregates will be calculated, and then some rows will simply be omitted from the results.\r\n",
        "\r\n",
        "This is actually a nice way to do things because you know you’re going to get the correct aggregates. If SQL cuts the table down to 100 rows, then performed the aggregations, your results would be substantially different. So the default style of `Group by` before `LIMIT` which usally comes last is ok."
      ]
    },
    {
      "cell_type": "markdown",
      "metadata": {
        "id": "qTTnsnsG6s7J"
      },
      "source": [
        "## GROUP BY QUIZ:\r\n",
        "\r\n",
        "Now that we've been introduced to `JOINs`, `GROUP BY`, and aggregate functions, the real power of SQL starts to come to life. Try some of the below to put your skills to the test!\r\n",
        "\r\n",
        "One part that can be difficult to recognize is when it might be easiest to use an aggregate or one of the other SQL functionalities. Try some of the below to see if you can differentiate to find the easiest solution."
      ]
    },
    {
      "cell_type": "markdown",
      "metadata": {
        "id": "CgSG9eu07Qnf"
      },
      "source": [
        "## Q1\r\n",
        "\r\n",
        "Which account (by name) placed the earliest order? Your solution should have the account name and the date of the order."
      ]
    },
    {
      "cell_type": "code",
      "metadata": {
        "colab": {
          "base_uri": "https://localhost:8080/",
          "height": 94
        },
        "id": "tne9wD8q5oiD",
        "outputId": "78e78750-89d8-435d-ebf6-bdfbb2db411e"
      },
      "source": [
        "query_to_df(\r\n",
        "    'SELECT a.name acct_name, o.occurred_at date from accounts a JOIN \\\r\n",
        "    orders o ON a.id = o.account_id ORDER BY date LIMIT 1;'\r\n",
        ")"
      ],
      "execution_count": 68,
      "outputs": [
        {
          "output_type": "stream",
          "text": [
            "Query ran for 0.17194271087646484 secs!\n"
          ],
          "name": "stdout"
        },
        {
          "output_type": "execute_result",
          "data": {
            "text/html": [
              "<div>\n",
              "<style scoped>\n",
              "    .dataframe tbody tr th:only-of-type {\n",
              "        vertical-align: middle;\n",
              "    }\n",
              "\n",
              "    .dataframe tbody tr th {\n",
              "        vertical-align: top;\n",
              "    }\n",
              "\n",
              "    .dataframe thead th {\n",
              "        text-align: right;\n",
              "    }\n",
              "</style>\n",
              "<table border=\"1\" class=\"dataframe\">\n",
              "  <thead>\n",
              "    <tr style=\"text-align: right;\">\n",
              "      <th></th>\n",
              "      <th>acct_name</th>\n",
              "      <th>date</th>\n",
              "    </tr>\n",
              "  </thead>\n",
              "  <tbody>\n",
              "    <tr>\n",
              "      <th>0</th>\n",
              "      <td>DISH Network</td>\n",
              "      <td>2013-12-04 04:22:44</td>\n",
              "    </tr>\n",
              "  </tbody>\n",
              "</table>\n",
              "</div>"
            ],
            "text/plain": [
              "      acct_name                date\n",
              "0  DISH Network 2013-12-04 04:22:44"
            ]
          },
          "metadata": {
            "tags": []
          },
          "execution_count": 68
        }
      ]
    },
    {
      "cell_type": "markdown",
      "metadata": {
        "id": "yN_PIn1u_dXF"
      },
      "source": [
        "## Q2\r\n",
        "\r\n",
        "Find the total sales in usd for each account. You should include two columns - the total sales for each company's orders in usd and the company name."
      ]
    },
    {
      "cell_type": "code",
      "metadata": {
        "colab": {
          "base_uri": "https://localhost:8080/",
          "height": 418
        },
        "id": "LQvx_DoU_hGd",
        "outputId": "5773c258-804d-4f01-fcad-1481da4f7770"
      },
      "source": [
        "query_to_df(\r\n",
        "    'SELECT SUM(o.total_amt_usd) total_sales_usd, a.name acct_name FROM orders o \\\r\n",
        "    JOIN accounts a ON o.account_id = a.id GROUP BY acct_name;'\r\n",
        ")"
      ],
      "execution_count": 100,
      "outputs": [
        {
          "output_type": "stream",
          "text": [
            "Query ran for 0.6030299663543701 secs!\n"
          ],
          "name": "stdout"
        },
        {
          "output_type": "execute_result",
          "data": {
            "text/html": [
              "<div>\n",
              "<style scoped>\n",
              "    .dataframe tbody tr th:only-of-type {\n",
              "        vertical-align: middle;\n",
              "    }\n",
              "\n",
              "    .dataframe tbody tr th {\n",
              "        vertical-align: top;\n",
              "    }\n",
              "\n",
              "    .dataframe thead th {\n",
              "        text-align: right;\n",
              "    }\n",
              "</style>\n",
              "<table border=\"1\" class=\"dataframe\">\n",
              "  <thead>\n",
              "    <tr style=\"text-align: right;\">\n",
              "      <th></th>\n",
              "      <th>total_sales_usd</th>\n",
              "      <th>acct_name</th>\n",
              "    </tr>\n",
              "  </thead>\n",
              "  <tbody>\n",
              "    <tr>\n",
              "      <th>0</th>\n",
              "      <td>127945.10</td>\n",
              "      <td>3M</td>\n",
              "    </tr>\n",
              "    <tr>\n",
              "      <th>1</th>\n",
              "      <td>96819.92</td>\n",
              "      <td>Abbott Laboratories</td>\n",
              "    </tr>\n",
              "    <tr>\n",
              "      <th>2</th>\n",
              "      <td>11243.63</td>\n",
              "      <td>AbbVie</td>\n",
              "    </tr>\n",
              "    <tr>\n",
              "      <th>3</th>\n",
              "      <td>163579.18</td>\n",
              "      <td>ADP</td>\n",
              "    </tr>\n",
              "    <tr>\n",
              "      <th>4</th>\n",
              "      <td>6962.07</td>\n",
              "      <td>Advance Auto Parts</td>\n",
              "    </tr>\n",
              "    <tr>\n",
              "      <th>...</th>\n",
              "      <td>...</td>\n",
              "      <td>...</td>\n",
              "    </tr>\n",
              "    <tr>\n",
              "      <th>345</th>\n",
              "      <td>20240.66</td>\n",
              "      <td>Whole Foods Market</td>\n",
              "    </tr>\n",
              "    <tr>\n",
              "      <th>346</th>\n",
              "      <td>10833.11</td>\n",
              "      <td>World Fuel Services</td>\n",
              "    </tr>\n",
              "    <tr>\n",
              "      <th>347</th>\n",
              "      <td>19975.91</td>\n",
              "      <td>Xcel Energy</td>\n",
              "    </tr>\n",
              "    <tr>\n",
              "      <th>348</th>\n",
              "      <td>8759.93</td>\n",
              "      <td>Xerox</td>\n",
              "    </tr>\n",
              "    <tr>\n",
              "      <th>349</th>\n",
              "      <td>28296.53</td>\n",
              "      <td>Yum Brands</td>\n",
              "    </tr>\n",
              "  </tbody>\n",
              "</table>\n",
              "<p>350 rows × 2 columns</p>\n",
              "</div>"
            ],
            "text/plain": [
              "     total_sales_usd            acct_name\n",
              "0          127945.10                   3M\n",
              "1           96819.92  Abbott Laboratories\n",
              "2           11243.63               AbbVie\n",
              "3          163579.18                  ADP\n",
              "4            6962.07   Advance Auto Parts\n",
              "..               ...                  ...\n",
              "345         20240.66   Whole Foods Market\n",
              "346         10833.11  World Fuel Services\n",
              "347         19975.91          Xcel Energy\n",
              "348          8759.93                Xerox\n",
              "349         28296.53           Yum Brands\n",
              "\n",
              "[350 rows x 2 columns]"
            ]
          },
          "metadata": {
            "tags": []
          },
          "execution_count": 100
        }
      ]
    },
    {
      "cell_type": "markdown",
      "metadata": {
        "id": "EIQENmiUCCqH"
      },
      "source": [
        "## Q3\r\n",
        "\r\n",
        "Via what channel did the most recent (latest) web_event occur, which account was associated with this web_event? Your query should return only three values - the date, channel, and account name."
      ]
    },
    {
      "cell_type": "code",
      "metadata": {
        "colab": {
          "base_uri": "https://localhost:8080/",
          "height": 94
        },
        "id": "7qyHm3I-CEq0",
        "outputId": "3b6d05ef-24a7-4eff-f201-32de467279c0"
      },
      "source": [
        "query_to_df(\r\n",
        "    'SELECT w.occurred_at date, w.channel channel, a.name acct_name FROM \\\r\n",
        "    web_events w JOIN accounts a ON w.account_id = a.id ORDER BY date DESC LIMIT 1;'\r\n",
        ")"
      ],
      "execution_count": 80,
      "outputs": [
        {
          "output_type": "stream",
          "text": [
            "Query ran for 0.24416255950927734 secs!\n"
          ],
          "name": "stdout"
        },
        {
          "output_type": "execute_result",
          "data": {
            "text/html": [
              "<div>\n",
              "<style scoped>\n",
              "    .dataframe tbody tr th:only-of-type {\n",
              "        vertical-align: middle;\n",
              "    }\n",
              "\n",
              "    .dataframe tbody tr th {\n",
              "        vertical-align: top;\n",
              "    }\n",
              "\n",
              "    .dataframe thead th {\n",
              "        text-align: right;\n",
              "    }\n",
              "</style>\n",
              "<table border=\"1\" class=\"dataframe\">\n",
              "  <thead>\n",
              "    <tr style=\"text-align: right;\">\n",
              "      <th></th>\n",
              "      <th>date</th>\n",
              "      <th>channel</th>\n",
              "      <th>acct_name</th>\n",
              "    </tr>\n",
              "  </thead>\n",
              "  <tbody>\n",
              "    <tr>\n",
              "      <th>0</th>\n",
              "      <td>2017-01-01 23:51:09</td>\n",
              "      <td>organic</td>\n",
              "      <td>Molina Healthcare</td>\n",
              "    </tr>\n",
              "  </tbody>\n",
              "</table>\n",
              "</div>"
            ],
            "text/plain": [
              "                 date  channel          acct_name\n",
              "0 2017-01-01 23:51:09  organic  Molina Healthcare"
            ]
          },
          "metadata": {
            "tags": []
          },
          "execution_count": 80
        }
      ]
    },
    {
      "cell_type": "markdown",
      "metadata": {
        "id": "U1n_ZxU7G21V"
      },
      "source": [
        "## Q4\r\n",
        "\r\n",
        "Find the total number of times each type of channel from the web_events was used. Your final table should have two columns - the channel and the number of times the channel was used."
      ]
    },
    {
      "cell_type": "code",
      "metadata": {
        "colab": {
          "base_uri": "https://localhost:8080/",
          "height": 242
        },
        "id": "S4fZtJ2RG4_G",
        "outputId": "177e1be6-3790-4fa8-ed0c-f794c34d3560"
      },
      "source": [
        "query_to_df(\r\n",
        "    'SELECT w.channel channel, COUNT(w.channel) count FROM web_events w GROUP BY \\\r\n",
        "    channel;'\r\n",
        ")"
      ],
      "execution_count": 83,
      "outputs": [
        {
          "output_type": "stream",
          "text": [
            "Query ran for 0.05202841758728027 secs!\n"
          ],
          "name": "stdout"
        },
        {
          "output_type": "execute_result",
          "data": {
            "text/html": [
              "<div>\n",
              "<style scoped>\n",
              "    .dataframe tbody tr th:only-of-type {\n",
              "        vertical-align: middle;\n",
              "    }\n",
              "\n",
              "    .dataframe tbody tr th {\n",
              "        vertical-align: top;\n",
              "    }\n",
              "\n",
              "    .dataframe thead th {\n",
              "        text-align: right;\n",
              "    }\n",
              "</style>\n",
              "<table border=\"1\" class=\"dataframe\">\n",
              "  <thead>\n",
              "    <tr style=\"text-align: right;\">\n",
              "      <th></th>\n",
              "      <th>channel</th>\n",
              "      <th>count</th>\n",
              "    </tr>\n",
              "  </thead>\n",
              "  <tbody>\n",
              "    <tr>\n",
              "      <th>0</th>\n",
              "      <td>adwords</td>\n",
              "      <td>906</td>\n",
              "    </tr>\n",
              "    <tr>\n",
              "      <th>1</th>\n",
              "      <td>banner</td>\n",
              "      <td>476</td>\n",
              "    </tr>\n",
              "    <tr>\n",
              "      <th>2</th>\n",
              "      <td>direct</td>\n",
              "      <td>5298</td>\n",
              "    </tr>\n",
              "    <tr>\n",
              "      <th>3</th>\n",
              "      <td>facebook</td>\n",
              "      <td>967</td>\n",
              "    </tr>\n",
              "    <tr>\n",
              "      <th>4</th>\n",
              "      <td>organic</td>\n",
              "      <td>952</td>\n",
              "    </tr>\n",
              "    <tr>\n",
              "      <th>5</th>\n",
              "      <td>twitter</td>\n",
              "      <td>474</td>\n",
              "    </tr>\n",
              "  </tbody>\n",
              "</table>\n",
              "</div>"
            ],
            "text/plain": [
              "    channel  count\n",
              "0   adwords    906\n",
              "1    banner    476\n",
              "2    direct   5298\n",
              "3  facebook    967\n",
              "4   organic    952\n",
              "5   twitter    474"
            ]
          },
          "metadata": {
            "tags": []
          },
          "execution_count": 83
        }
      ]
    },
    {
      "cell_type": "markdown",
      "metadata": {
        "id": "93FMcyLhILQG"
      },
      "source": [
        "## Q5\r\n",
        "Who was the primary contact associated with the earliest web_event?"
      ]
    },
    {
      "cell_type": "code",
      "metadata": {
        "colab": {
          "base_uri": "https://localhost:8080/",
          "height": 94
        },
        "id": "dQUq7CY0IMoZ",
        "outputId": "6dc176bc-712e-41cd-bffb-11014b905971"
      },
      "source": [
        "query_to_df(\r\n",
        "    'SELECT a.primary_poc FROM accounts a JOIN web_events w ON a.id = \\\r\n",
        "    w.account_id ORDER BY w.occurred_at LIMIT 1;'\r\n",
        ")"
      ],
      "execution_count": 108,
      "outputs": [
        {
          "output_type": "stream",
          "text": [
            "Query ran for 0.1970195770263672 secs!\n"
          ],
          "name": "stdout"
        },
        {
          "output_type": "execute_result",
          "data": {
            "text/html": [
              "<div>\n",
              "<style scoped>\n",
              "    .dataframe tbody tr th:only-of-type {\n",
              "        vertical-align: middle;\n",
              "    }\n",
              "\n",
              "    .dataframe tbody tr th {\n",
              "        vertical-align: top;\n",
              "    }\n",
              "\n",
              "    .dataframe thead th {\n",
              "        text-align: right;\n",
              "    }\n",
              "</style>\n",
              "<table border=\"1\" class=\"dataframe\">\n",
              "  <thead>\n",
              "    <tr style=\"text-align: right;\">\n",
              "      <th></th>\n",
              "      <th>primary_poc</th>\n",
              "    </tr>\n",
              "  </thead>\n",
              "  <tbody>\n",
              "    <tr>\n",
              "      <th>0</th>\n",
              "      <td>Leana Hawker</td>\n",
              "    </tr>\n",
              "  </tbody>\n",
              "</table>\n",
              "</div>"
            ],
            "text/plain": [
              "    primary_poc\n",
              "0  Leana Hawker"
            ]
          },
          "metadata": {
            "tags": []
          },
          "execution_count": 108
        }
      ]
    },
    {
      "cell_type": "markdown",
      "metadata": {
        "id": "yJr04n7JNdlQ"
      },
      "source": [
        "## Q6\r\n",
        "\r\n",
        "What was the smallest order placed by each account in terms of total usd. Provide only two columns - the account name and the total usd. Order from smallest dollar amounts to largest.\r\n"
      ]
    },
    {
      "cell_type": "code",
      "metadata": {
        "colab": {
          "base_uri": "https://localhost:8080/",
          "height": 418
        },
        "id": "QGkV0PVdNfTP",
        "outputId": "0732a0a5-74d6-4899-ada4-f8568be52a97"
      },
      "source": [
        "query_to_df(\r\n",
        "    'SELECT a.name acct_name, MIN(o.total_amt_usd) min_order_usd FROM accounts \\\r\n",
        "     a JOIN orders o ON a.id = o.account_id GROUP BY acct_name ORDER BY \\\r\n",
        "     min_order_usd;'\r\n",
        ")"
      ],
      "execution_count": 98,
      "outputs": [
        {
          "output_type": "stream",
          "text": [
            "Query ran for 0.6218419075012207 secs!\n"
          ],
          "name": "stdout"
        },
        {
          "output_type": "execute_result",
          "data": {
            "text/html": [
              "<div>\n",
              "<style scoped>\n",
              "    .dataframe tbody tr th:only-of-type {\n",
              "        vertical-align: middle;\n",
              "    }\n",
              "\n",
              "    .dataframe tbody tr th {\n",
              "        vertical-align: top;\n",
              "    }\n",
              "\n",
              "    .dataframe thead th {\n",
              "        text-align: right;\n",
              "    }\n",
              "</style>\n",
              "<table border=\"1\" class=\"dataframe\">\n",
              "  <thead>\n",
              "    <tr style=\"text-align: right;\">\n",
              "      <th></th>\n",
              "      <th>acct_name</th>\n",
              "      <th>min_order_usd</th>\n",
              "    </tr>\n",
              "  </thead>\n",
              "  <tbody>\n",
              "    <tr>\n",
              "      <th>0</th>\n",
              "      <td>Monsanto</td>\n",
              "      <td>0.00</td>\n",
              "    </tr>\n",
              "    <tr>\n",
              "      <th>1</th>\n",
              "      <td>Reynolds American</td>\n",
              "      <td>0.00</td>\n",
              "    </tr>\n",
              "    <tr>\n",
              "      <th>2</th>\n",
              "      <td>Lithia Motors</td>\n",
              "      <td>0.00</td>\n",
              "    </tr>\n",
              "    <tr>\n",
              "      <th>3</th>\n",
              "      <td>BlackRock</td>\n",
              "      <td>0.00</td>\n",
              "    </tr>\n",
              "    <tr>\n",
              "      <th>4</th>\n",
              "      <td>Chevron</td>\n",
              "      <td>0.00</td>\n",
              "    </tr>\n",
              "    <tr>\n",
              "      <th>...</th>\n",
              "      <td>...</td>\n",
              "      <td>...</td>\n",
              "    </tr>\n",
              "    <tr>\n",
              "      <th>345</th>\n",
              "      <td>Mohawk Industries</td>\n",
              "      <td>3025.65</td>\n",
              "    </tr>\n",
              "    <tr>\n",
              "      <th>346</th>\n",
              "      <td>Waste Management</td>\n",
              "      <td>3101.51</td>\n",
              "    </tr>\n",
              "    <tr>\n",
              "      <th>347</th>\n",
              "      <td>General Motors</td>\n",
              "      <td>4393.44</td>\n",
              "    </tr>\n",
              "    <tr>\n",
              "      <th>348</th>\n",
              "      <td>Berkshire Hathaway</td>\n",
              "      <td>7474.32</td>\n",
              "    </tr>\n",
              "    <tr>\n",
              "      <th>349</th>\n",
              "      <td>CBS</td>\n",
              "      <td>8648.07</td>\n",
              "    </tr>\n",
              "  </tbody>\n",
              "</table>\n",
              "<p>350 rows × 2 columns</p>\n",
              "</div>"
            ],
            "text/plain": [
              "              acct_name  min_order_usd\n",
              "0              Monsanto           0.00\n",
              "1     Reynolds American           0.00\n",
              "2         Lithia Motors           0.00\n",
              "3             BlackRock           0.00\n",
              "4               Chevron           0.00\n",
              "..                  ...            ...\n",
              "345   Mohawk Industries        3025.65\n",
              "346    Waste Management        3101.51\n",
              "347      General Motors        4393.44\n",
              "348  Berkshire Hathaway        7474.32\n",
              "349                 CBS        8648.07\n",
              "\n",
              "[350 rows x 2 columns]"
            ]
          },
          "metadata": {
            "tags": []
          },
          "execution_count": 98
        }
      ]
    },
    {
      "cell_type": "markdown",
      "metadata": {
        "id": "i20RY7ttPOLv"
      },
      "source": [
        "## Q7\r\n",
        "Find the number of sales reps in each region. Your final table should have two columns - the region and the number of sales_reps. Order from fewest reps to most reps."
      ]
    },
    {
      "cell_type": "code",
      "metadata": {
        "colab": {
          "base_uri": "https://localhost:8080/",
          "height": 182
        },
        "id": "s_eGMm4kPQA9",
        "outputId": "ed9f0623-5b2c-4acf-8637-38fef6a4dfb6"
      },
      "source": [
        "query_to_df(\r\n",
        "    'SELECT r.name region, COUNT(s.name) sales_reps_count FROM region r JOIN \\\r\n",
        "    sales_reps s ON r.id = s.region_id GROUP BY region ORDER BY sales_reps_count;'\r\n",
        ")"
      ],
      "execution_count": 99,
      "outputs": [
        {
          "output_type": "stream",
          "text": [
            "Query ran for 0.03940606117248535 secs!\n"
          ],
          "name": "stdout"
        },
        {
          "output_type": "execute_result",
          "data": {
            "text/html": [
              "<div>\n",
              "<style scoped>\n",
              "    .dataframe tbody tr th:only-of-type {\n",
              "        vertical-align: middle;\n",
              "    }\n",
              "\n",
              "    .dataframe tbody tr th {\n",
              "        vertical-align: top;\n",
              "    }\n",
              "\n",
              "    .dataframe thead th {\n",
              "        text-align: right;\n",
              "    }\n",
              "</style>\n",
              "<table border=\"1\" class=\"dataframe\">\n",
              "  <thead>\n",
              "    <tr style=\"text-align: right;\">\n",
              "      <th></th>\n",
              "      <th>region</th>\n",
              "      <th>sales_reps_count</th>\n",
              "    </tr>\n",
              "  </thead>\n",
              "  <tbody>\n",
              "    <tr>\n",
              "      <th>0</th>\n",
              "      <td>Midwest</td>\n",
              "      <td>9</td>\n",
              "    </tr>\n",
              "    <tr>\n",
              "      <th>1</th>\n",
              "      <td>Southeast</td>\n",
              "      <td>10</td>\n",
              "    </tr>\n",
              "    <tr>\n",
              "      <th>2</th>\n",
              "      <td>West</td>\n",
              "      <td>10</td>\n",
              "    </tr>\n",
              "    <tr>\n",
              "      <th>3</th>\n",
              "      <td>Northeast</td>\n",
              "      <td>21</td>\n",
              "    </tr>\n",
              "  </tbody>\n",
              "</table>\n",
              "</div>"
            ],
            "text/plain": [
              "      region  sales_reps_count\n",
              "0    Midwest                 9\n",
              "1  Southeast                10\n",
              "2       West                10\n",
              "3  Northeast                21"
            ]
          },
          "metadata": {
            "tags": []
          },
          "execution_count": 99
        }
      ]
    },
    {
      "cell_type": "markdown",
      "metadata": {
        "id": "GkwGmOn3T8Oj"
      },
      "source": [
        "I need to reconfirm the distinct channels in web_evnts again..."
      ]
    },
    {
      "cell_type": "code",
      "metadata": {
        "colab": {
          "base_uri": "https://localhost:8080/",
          "height": 242
        },
        "id": "C63ZPrCUTFQ8",
        "outputId": "68c9b8ae-c130-4dfb-c981-ee213e46a0e9"
      },
      "source": [
        "query_to_df(\r\n",
        "    'SELECT DISTINCT(w.channel) distinct_channels FROM web_events w ORDER BY \\\r\n",
        "    distinct_channels;'\r\n",
        ")"
      ],
      "execution_count": 104,
      "outputs": [
        {
          "output_type": "stream",
          "text": [
            "Query ran for 0.04734396934509277 secs!\n"
          ],
          "name": "stdout"
        },
        {
          "output_type": "execute_result",
          "data": {
            "text/html": [
              "<div>\n",
              "<style scoped>\n",
              "    .dataframe tbody tr th:only-of-type {\n",
              "        vertical-align: middle;\n",
              "    }\n",
              "\n",
              "    .dataframe tbody tr th {\n",
              "        vertical-align: top;\n",
              "    }\n",
              "\n",
              "    .dataframe thead th {\n",
              "        text-align: right;\n",
              "    }\n",
              "</style>\n",
              "<table border=\"1\" class=\"dataframe\">\n",
              "  <thead>\n",
              "    <tr style=\"text-align: right;\">\n",
              "      <th></th>\n",
              "      <th>distinct_channels</th>\n",
              "    </tr>\n",
              "  </thead>\n",
              "  <tbody>\n",
              "    <tr>\n",
              "      <th>0</th>\n",
              "      <td>adwords</td>\n",
              "    </tr>\n",
              "    <tr>\n",
              "      <th>1</th>\n",
              "      <td>banner</td>\n",
              "    </tr>\n",
              "    <tr>\n",
              "      <th>2</th>\n",
              "      <td>direct</td>\n",
              "    </tr>\n",
              "    <tr>\n",
              "      <th>3</th>\n",
              "      <td>facebook</td>\n",
              "    </tr>\n",
              "    <tr>\n",
              "      <th>4</th>\n",
              "      <td>organic</td>\n",
              "    </tr>\n",
              "    <tr>\n",
              "      <th>5</th>\n",
              "      <td>twitter</td>\n",
              "    </tr>\n",
              "  </tbody>\n",
              "</table>\n",
              "</div>"
            ],
            "text/plain": [
              "  distinct_channels\n",
              "0           adwords\n",
              "1            banner\n",
              "2            direct\n",
              "3          facebook\n",
              "4           organic\n",
              "5           twitter"
            ]
          },
          "metadata": {
            "tags": []
          },
          "execution_count": 104
        }
      ]
    },
    {
      "cell_type": "markdown",
      "metadata": {
        "id": "Os6BBZhMZafk"
      },
      "source": [
        "### **GROUP BY PART 2**\r\n",
        "\r\n",
        "* We can `GROUP BY` multiple columns at once. This is often useful to aggregate across a number of different segments.\r\n",
        "\r\n",
        "* The order of columns listed in the `ORDER BY` clause does make a difference. You are ordering the columns from left to right. But it makes no difference in `GROUP BY` Clause\r\n",
        "\r\n",
        "**GROUP BY - Expert Tips**\r\n",
        "\r\n",
        "* The order of column names in your `GROUP BY` clause doesn’t matter—the results will be the same regardless. If we run the same query and reverse the order in the `GROUP BY` clause, you can see we get the same results.\r\n",
        "\r\n",
        "\r\n",
        "* As with `ORDER BY`, we can substitute numbers for column names in the `GROUP BY` clause. It’s generally recommended to do this only when you’re grouping many columns, or if something else is causing the text in the `GROUP BY` clause to be excessively long.\r\n",
        "\r\n",
        "\r\n",
        "* A reminder here that any column that is not within an aggregation must show up in your `GROUP BY` statement. If you forget, you will likely get an error. However, in the off chance that your query does work, you might not like the results!"
      ]
    },
    {
      "cell_type": "markdown",
      "metadata": {
        "id": "Hx4eZNN4argT"
      },
      "source": [
        "## GROUP BY Part II"
      ]
    },
    {
      "cell_type": "markdown",
      "metadata": {
        "id": "Ofue4Q5Saysn"
      },
      "source": [
        "### Q1\r\n",
        "For each account, determine the average amount of each type of paper they purchased across their orders. Your result should have four columns - one for the account name and one for the average quantity purchased for each of the paper types for each account."
      ]
    },
    {
      "cell_type": "code",
      "metadata": {
        "colab": {
          "base_uri": "https://localhost:8080/",
          "height": 418
        },
        "id": "qLyAefKEZdSt",
        "outputId": "15f4ed10-9b32-4b77-8093-a67a03c6e3c8"
      },
      "source": [
        "query_to_df(\r\n",
        "    'SELECT a.name acct_name, AVG(o.standard_qty) ave_standard_qty, AVG(o.poster_qty) \\\r\n",
        "    ave_poster_qty, AVG(o.gloss_qty) ave_gloss_qty FROM accounts a JOIN orders o ON a.id \\\r\n",
        "    = o.account_id GROUP BY acct_name;'\r\n",
        ")"
      ],
      "execution_count": 111,
      "outputs": [
        {
          "output_type": "stream",
          "text": [
            "Query ran for 0.5726625919342041 secs!\n"
          ],
          "name": "stdout"
        },
        {
          "output_type": "execute_result",
          "data": {
            "text/html": [
              "<div>\n",
              "<style scoped>\n",
              "    .dataframe tbody tr th:only-of-type {\n",
              "        vertical-align: middle;\n",
              "    }\n",
              "\n",
              "    .dataframe tbody tr th {\n",
              "        vertical-align: top;\n",
              "    }\n",
              "\n",
              "    .dataframe thead th {\n",
              "        text-align: right;\n",
              "    }\n",
              "</style>\n",
              "<table border=\"1\" class=\"dataframe\">\n",
              "  <thead>\n",
              "    <tr style=\"text-align: right;\">\n",
              "      <th></th>\n",
              "      <th>acct_name</th>\n",
              "      <th>ave_standard_qty</th>\n",
              "      <th>ave_poster_qty</th>\n",
              "      <th>ave_gloss_qty</th>\n",
              "    </tr>\n",
              "  </thead>\n",
              "  <tbody>\n",
              "    <tr>\n",
              "      <th>0</th>\n",
              "      <td>3M</td>\n",
              "      <td>313.3929</td>\n",
              "      <td>112.1071</td>\n",
              "      <td>279.7500</td>\n",
              "    </tr>\n",
              "    <tr>\n",
              "      <th>1</th>\n",
              "      <td>Abbott Laboratories</td>\n",
              "      <td>201.1000</td>\n",
              "      <td>92.4333</td>\n",
              "      <td>196.7000</td>\n",
              "    </tr>\n",
              "    <tr>\n",
              "      <th>2</th>\n",
              "      <td>AbbVie</td>\n",
              "      <td>238.3333</td>\n",
              "      <td>58.6667</td>\n",
              "      <td>278.0000</td>\n",
              "    </tr>\n",
              "    <tr>\n",
              "      <th>3</th>\n",
              "      <td>ADP</td>\n",
              "      <td>354.6333</td>\n",
              "      <td>61.9833</td>\n",
              "      <td>60.5333</td>\n",
              "    </tr>\n",
              "    <tr>\n",
              "      <th>4</th>\n",
              "      <td>Advance Auto Parts</td>\n",
              "      <td>274.0000</td>\n",
              "      <td>27.7500</td>\n",
              "      <td>19.7500</td>\n",
              "    </tr>\n",
              "    <tr>\n",
              "      <th>...</th>\n",
              "      <td>...</td>\n",
              "      <td>...</td>\n",
              "      <td>...</td>\n",
              "      <td>...</td>\n",
              "    </tr>\n",
              "    <tr>\n",
              "      <th>345</th>\n",
              "      <td>Whole Foods Market</td>\n",
              "      <td>392.1111</td>\n",
              "      <td>13.5556</td>\n",
              "      <td>24.3333</td>\n",
              "    </tr>\n",
              "    <tr>\n",
              "      <th>346</th>\n",
              "      <td>World Fuel Services</td>\n",
              "      <td>208.0000</td>\n",
              "      <td>15.0000</td>\n",
              "      <td>206.7500</td>\n",
              "    </tr>\n",
              "    <tr>\n",
              "      <th>347</th>\n",
              "      <td>Xcel Energy</td>\n",
              "      <td>417.1667</td>\n",
              "      <td>8.8333</td>\n",
              "      <td>157.0000</td>\n",
              "    </tr>\n",
              "    <tr>\n",
              "      <th>348</th>\n",
              "      <td>Xerox</td>\n",
              "      <td>266.7500</td>\n",
              "      <td>88.2500</td>\n",
              "      <td>19.0000</td>\n",
              "    </tr>\n",
              "    <tr>\n",
              "      <th>349</th>\n",
              "      <td>Yum Brands</td>\n",
              "      <td>280.7333</td>\n",
              "      <td>24.1333</td>\n",
              "      <td>38.6667</td>\n",
              "    </tr>\n",
              "  </tbody>\n",
              "</table>\n",
              "<p>350 rows × 4 columns</p>\n",
              "</div>"
            ],
            "text/plain": [
              "               acct_name ave_standard_qty ave_poster_qty ave_gloss_qty\n",
              "0                     3M         313.3929       112.1071      279.7500\n",
              "1    Abbott Laboratories         201.1000        92.4333      196.7000\n",
              "2                 AbbVie         238.3333        58.6667      278.0000\n",
              "3                    ADP         354.6333        61.9833       60.5333\n",
              "4     Advance Auto Parts         274.0000        27.7500       19.7500\n",
              "..                   ...              ...            ...           ...\n",
              "345   Whole Foods Market         392.1111        13.5556       24.3333\n",
              "346  World Fuel Services         208.0000        15.0000      206.7500\n",
              "347          Xcel Energy         417.1667         8.8333      157.0000\n",
              "348                Xerox         266.7500        88.2500       19.0000\n",
              "349           Yum Brands         280.7333        24.1333       38.6667\n",
              "\n",
              "[350 rows x 4 columns]"
            ]
          },
          "metadata": {
            "tags": []
          },
          "execution_count": 111
        }
      ]
    },
    {
      "cell_type": "markdown",
      "metadata": {
        "id": "Tudair67dpUc"
      },
      "source": [
        "### Q2\r\n",
        "For each account, determine the average amount spent per order on each paper type. Your result should have four columns - one for the account name and one for the average amount spent on each paper type."
      ]
    },
    {
      "cell_type": "code",
      "metadata": {
        "colab": {
          "base_uri": "https://localhost:8080/",
          "height": 418
        },
        "id": "phxvxX-Ldqsd",
        "outputId": "0deea3ca-6793-4a47-9603-f3ca25ad7c0d"
      },
      "source": [
        "query_to_df(\r\n",
        "    'SELECT a.name acct_name, AVG(o.standard_amt_usd) ave_standard_usd, AVG(o.poster_amt_usd) \\\r\n",
        "    ave_poster_usd, AVG(o.gloss_amt_usd) ave_gloss_usd FROM accounts a JOIN orders o ON a.id \\\r\n",
        "    = o.account_id GROUP BY acct_name;'\r\n",
        ")"
      ],
      "execution_count": 115,
      "outputs": [
        {
          "output_type": "stream",
          "text": [
            "Query ran for 0.6509885787963867 secs!\n"
          ],
          "name": "stdout"
        },
        {
          "output_type": "execute_result",
          "data": {
            "text/html": [
              "<div>\n",
              "<style scoped>\n",
              "    .dataframe tbody tr th:only-of-type {\n",
              "        vertical-align: middle;\n",
              "    }\n",
              "\n",
              "    .dataframe tbody tr th {\n",
              "        vertical-align: top;\n",
              "    }\n",
              "\n",
              "    .dataframe thead th {\n",
              "        text-align: right;\n",
              "    }\n",
              "</style>\n",
              "<table border=\"1\" class=\"dataframe\">\n",
              "  <thead>\n",
              "    <tr style=\"text-align: right;\">\n",
              "      <th></th>\n",
              "      <th>acct_name</th>\n",
              "      <th>ave_standard_usd</th>\n",
              "      <th>ave_poster_usd</th>\n",
              "      <th>ave_gloss_usd</th>\n",
              "    </tr>\n",
              "  </thead>\n",
              "  <tbody>\n",
              "    <tr>\n",
              "      <th>0</th>\n",
              "      <td>3M</td>\n",
              "      <td>1563.830366</td>\n",
              "      <td>910.310014</td>\n",
              "      <td>2095.327496</td>\n",
              "    </tr>\n",
              "    <tr>\n",
              "      <th>1</th>\n",
              "      <td>Abbott Laboratories</td>\n",
              "      <td>1003.488997</td>\n",
              "      <td>750.558664</td>\n",
              "      <td>1473.282993</td>\n",
              "    </tr>\n",
              "    <tr>\n",
              "      <th>2</th>\n",
              "      <td>AbbVie</td>\n",
              "      <td>1189.283376</td>\n",
              "      <td>476.373342</td>\n",
              "      <td>2082.220067</td>\n",
              "    </tr>\n",
              "    <tr>\n",
              "      <th>3</th>\n",
              "      <td>ADP</td>\n",
              "      <td>1769.620329</td>\n",
              "      <td>503.304666</td>\n",
              "      <td>453.394658</td>\n",
              "    </tr>\n",
              "    <tr>\n",
              "      <th>4</th>\n",
              "      <td>Advance Auto Parts</td>\n",
              "      <td>1367.259979</td>\n",
              "      <td>225.329998</td>\n",
              "      <td>147.927502</td>\n",
              "    </tr>\n",
              "    <tr>\n",
              "      <th>...</th>\n",
              "      <td>...</td>\n",
              "      <td>...</td>\n",
              "      <td>...</td>\n",
              "      <td>...</td>\n",
              "    </tr>\n",
              "    <tr>\n",
              "      <th>345</th>\n",
              "      <td>Whole Foods Market</td>\n",
              "      <td>1956.634456</td>\n",
              "      <td>110.071112</td>\n",
              "      <td>182.256664</td>\n",
              "    </tr>\n",
              "    <tr>\n",
              "      <th>346</th>\n",
              "      <td>World Fuel Services</td>\n",
              "      <td>1037.920021</td>\n",
              "      <td>121.800003</td>\n",
              "      <td>1548.557495</td>\n",
              "    </tr>\n",
              "    <tr>\n",
              "      <th>347</th>\n",
              "      <td>Xcel Energy</td>\n",
              "      <td>2081.661649</td>\n",
              "      <td>71.726667</td>\n",
              "      <td>1175.930013</td>\n",
              "    </tr>\n",
              "    <tr>\n",
              "      <th>348</th>\n",
              "      <td>Xerox</td>\n",
              "      <td>1331.082495</td>\n",
              "      <td>716.589991</td>\n",
              "      <td>142.310001</td>\n",
              "    </tr>\n",
              "    <tr>\n",
              "      <th>349</th>\n",
              "      <td>Yum Brands</td>\n",
              "      <td>1400.859340</td>\n",
              "      <td>195.962666</td>\n",
              "      <td>289.613330</td>\n",
              "    </tr>\n",
              "  </tbody>\n",
              "</table>\n",
              "<p>350 rows × 4 columns</p>\n",
              "</div>"
            ],
            "text/plain": [
              "               acct_name  ave_standard_usd  ave_poster_usd  ave_gloss_usd\n",
              "0                     3M       1563.830366      910.310014    2095.327496\n",
              "1    Abbott Laboratories       1003.488997      750.558664    1473.282993\n",
              "2                 AbbVie       1189.283376      476.373342    2082.220067\n",
              "3                    ADP       1769.620329      503.304666     453.394658\n",
              "4     Advance Auto Parts       1367.259979      225.329998     147.927502\n",
              "..                   ...               ...             ...            ...\n",
              "345   Whole Foods Market       1956.634456      110.071112     182.256664\n",
              "346  World Fuel Services       1037.920021      121.800003    1548.557495\n",
              "347          Xcel Energy       2081.661649       71.726667    1175.930013\n",
              "348                Xerox       1331.082495      716.589991     142.310001\n",
              "349           Yum Brands       1400.859340      195.962666     289.613330\n",
              "\n",
              "[350 rows x 4 columns]"
            ]
          },
          "metadata": {
            "tags": []
          },
          "execution_count": 115
        }
      ]
    },
    {
      "cell_type": "markdown",
      "metadata": {
        "id": "HijSsgCxflz3"
      },
      "source": [
        "## Q3\r\n",
        "Determine the number of times a particular channel was used in the web_events table for each sales rep. Your final table should have three columns - the name of the sales rep, the channel, and the number of occurrences. Order your table with the highest number of occurrences first."
      ]
    },
    {
      "cell_type": "code",
      "metadata": {
        "colab": {
          "base_uri": "https://localhost:8080/",
          "height": 418
        },
        "id": "ExP-tuvIfnSI",
        "outputId": "37ad3bdc-d6c8-4291-f93f-341296c20187"
      },
      "source": [
        "query_to_df(\r\n",
        "    'SELECT s.name sales_rep, w.channel channels, COUNT(w.channel) count FROM \\\r\n",
        "    sales_reps s JOIN accounts a ON s.id = a.sales_rep_id JOIN web_events w ON \\\r\n",
        "    w.account_id = a.id GROUP BY sales_rep, channels ORDER BY sales_rep, count DESC;'\r\n",
        ")"
      ],
      "execution_count": 127,
      "outputs": [
        {
          "output_type": "stream",
          "text": [
            "Query ran for 0.7283234596252441 secs!\n"
          ],
          "name": "stdout"
        },
        {
          "output_type": "execute_result",
          "data": {
            "text/html": [
              "<div>\n",
              "<style scoped>\n",
              "    .dataframe tbody tr th:only-of-type {\n",
              "        vertical-align: middle;\n",
              "    }\n",
              "\n",
              "    .dataframe tbody tr th {\n",
              "        vertical-align: top;\n",
              "    }\n",
              "\n",
              "    .dataframe thead th {\n",
              "        text-align: right;\n",
              "    }\n",
              "</style>\n",
              "<table border=\"1\" class=\"dataframe\">\n",
              "  <thead>\n",
              "    <tr style=\"text-align: right;\">\n",
              "      <th></th>\n",
              "      <th>sales_rep</th>\n",
              "      <th>channels</th>\n",
              "      <th>count</th>\n",
              "    </tr>\n",
              "  </thead>\n",
              "  <tbody>\n",
              "    <tr>\n",
              "      <th>0</th>\n",
              "      <td>Akilah Drinkard</td>\n",
              "      <td>direct</td>\n",
              "      <td>53</td>\n",
              "    </tr>\n",
              "    <tr>\n",
              "      <th>1</th>\n",
              "      <td>Akilah Drinkard</td>\n",
              "      <td>organic</td>\n",
              "      <td>15</td>\n",
              "    </tr>\n",
              "    <tr>\n",
              "      <th>2</th>\n",
              "      <td>Akilah Drinkard</td>\n",
              "      <td>banner</td>\n",
              "      <td>9</td>\n",
              "    </tr>\n",
              "    <tr>\n",
              "      <th>3</th>\n",
              "      <td>Akilah Drinkard</td>\n",
              "      <td>facebook</td>\n",
              "      <td>9</td>\n",
              "    </tr>\n",
              "    <tr>\n",
              "      <th>4</th>\n",
              "      <td>Akilah Drinkard</td>\n",
              "      <td>adwords</td>\n",
              "      <td>5</td>\n",
              "    </tr>\n",
              "    <tr>\n",
              "      <th>...</th>\n",
              "      <td>...</td>\n",
              "      <td>...</td>\n",
              "      <td>...</td>\n",
              "    </tr>\n",
              "    <tr>\n",
              "      <th>290</th>\n",
              "      <td>Vernita Plump</td>\n",
              "      <td>adwords</td>\n",
              "      <td>43</td>\n",
              "    </tr>\n",
              "    <tr>\n",
              "      <th>291</th>\n",
              "      <td>Vernita Plump</td>\n",
              "      <td>organic</td>\n",
              "      <td>40</td>\n",
              "    </tr>\n",
              "    <tr>\n",
              "      <th>292</th>\n",
              "      <td>Vernita Plump</td>\n",
              "      <td>facebook</td>\n",
              "      <td>36</td>\n",
              "    </tr>\n",
              "    <tr>\n",
              "      <th>293</th>\n",
              "      <td>Vernita Plump</td>\n",
              "      <td>twitter</td>\n",
              "      <td>16</td>\n",
              "    </tr>\n",
              "    <tr>\n",
              "      <th>294</th>\n",
              "      <td>Vernita Plump</td>\n",
              "      <td>banner</td>\n",
              "      <td>15</td>\n",
              "    </tr>\n",
              "  </tbody>\n",
              "</table>\n",
              "<p>295 rows × 3 columns</p>\n",
              "</div>"
            ],
            "text/plain": [
              "           sales_rep  channels  count\n",
              "0    Akilah Drinkard    direct     53\n",
              "1    Akilah Drinkard   organic     15\n",
              "2    Akilah Drinkard    banner      9\n",
              "3    Akilah Drinkard  facebook      9\n",
              "4    Akilah Drinkard   adwords      5\n",
              "..               ...       ...    ...\n",
              "290    Vernita Plump   adwords     43\n",
              "291    Vernita Plump   organic     40\n",
              "292    Vernita Plump  facebook     36\n",
              "293    Vernita Plump   twitter     16\n",
              "294    Vernita Plump    banner     15\n",
              "\n",
              "[295 rows x 3 columns]"
            ]
          },
          "metadata": {
            "tags": []
          },
          "execution_count": 127
        }
      ]
    },
    {
      "cell_type": "markdown",
      "metadata": {
        "id": "UPfWNe_Zjsfr"
      },
      "source": [
        "### Q4\r\n",
        "Determine the number of times a particular channel was used in the web_events table for each region. Your final table should have three columns - the region name, the channel, and the number of occurrences. Order your table with the highest number of occurrences first.\r\n"
      ]
    },
    {
      "cell_type": "code",
      "metadata": {
        "colab": {
          "base_uri": "https://localhost:8080/",
          "height": 418
        },
        "id": "uZAM1JLLjt8y",
        "outputId": "b58a5da3-4c0e-4a5e-b641-022a752483ce"
      },
      "source": [
        "query_to_df(\r\n",
        "    'SELECT r.name region, w.channel channels, COUNT(w.channel) count FROM \\\r\n",
        "    region r JOIN sales_reps s ON r.id = s.region_id JOIN accounts a ON s.id = \\\r\n",
        "    a.sales_rep_id JOIN web_events w ON w.account_id = a.id GROUP BY region, \\\r\n",
        "    channels ORDER BY region, count DESC;'\r\n",
        ")"
      ],
      "execution_count": 128,
      "outputs": [
        {
          "output_type": "stream",
          "text": [
            "Query ran for 0.44440221786499023 secs!\n"
          ],
          "name": "stdout"
        },
        {
          "output_type": "execute_result",
          "data": {
            "text/html": [
              "<div>\n",
              "<style scoped>\n",
              "    .dataframe tbody tr th:only-of-type {\n",
              "        vertical-align: middle;\n",
              "    }\n",
              "\n",
              "    .dataframe tbody tr th {\n",
              "        vertical-align: top;\n",
              "    }\n",
              "\n",
              "    .dataframe thead th {\n",
              "        text-align: right;\n",
              "    }\n",
              "</style>\n",
              "<table border=\"1\" class=\"dataframe\">\n",
              "  <thead>\n",
              "    <tr style=\"text-align: right;\">\n",
              "      <th></th>\n",
              "      <th>region</th>\n",
              "      <th>channels</th>\n",
              "      <th>count</th>\n",
              "    </tr>\n",
              "  </thead>\n",
              "  <tbody>\n",
              "    <tr>\n",
              "      <th>0</th>\n",
              "      <td>Midwest</td>\n",
              "      <td>direct</td>\n",
              "      <td>696</td>\n",
              "    </tr>\n",
              "    <tr>\n",
              "      <th>1</th>\n",
              "      <td>Midwest</td>\n",
              "      <td>facebook</td>\n",
              "      <td>125</td>\n",
              "    </tr>\n",
              "    <tr>\n",
              "      <th>2</th>\n",
              "      <td>Midwest</td>\n",
              "      <td>organic</td>\n",
              "      <td>117</td>\n",
              "    </tr>\n",
              "    <tr>\n",
              "      <th>3</th>\n",
              "      <td>Midwest</td>\n",
              "      <td>adwords</td>\n",
              "      <td>101</td>\n",
              "    </tr>\n",
              "    <tr>\n",
              "      <th>4</th>\n",
              "      <td>Midwest</td>\n",
              "      <td>twitter</td>\n",
              "      <td>71</td>\n",
              "    </tr>\n",
              "    <tr>\n",
              "      <th>...</th>\n",
              "      <td>...</td>\n",
              "      <td>...</td>\n",
              "      <td>...</td>\n",
              "    </tr>\n",
              "    <tr>\n",
              "      <th>19</th>\n",
              "      <td>West</td>\n",
              "      <td>organic</td>\n",
              "      <td>243</td>\n",
              "    </tr>\n",
              "    <tr>\n",
              "      <th>20</th>\n",
              "      <td>West</td>\n",
              "      <td>adwords</td>\n",
              "      <td>241</td>\n",
              "    </tr>\n",
              "    <tr>\n",
              "      <th>21</th>\n",
              "      <td>West</td>\n",
              "      <td>facebook</td>\n",
              "      <td>229</td>\n",
              "    </tr>\n",
              "    <tr>\n",
              "      <th>22</th>\n",
              "      <td>West</td>\n",
              "      <td>twitter</td>\n",
              "      <td>122</td>\n",
              "    </tr>\n",
              "    <tr>\n",
              "      <th>23</th>\n",
              "      <td>West</td>\n",
              "      <td>banner</td>\n",
              "      <td>116</td>\n",
              "    </tr>\n",
              "  </tbody>\n",
              "</table>\n",
              "<p>24 rows × 3 columns</p>\n",
              "</div>"
            ],
            "text/plain": [
              "     region  channels  count\n",
              "0   Midwest    direct    696\n",
              "1   Midwest  facebook    125\n",
              "2   Midwest   organic    117\n",
              "3   Midwest   adwords    101\n",
              "4   Midwest   twitter     71\n",
              "..      ...       ...    ...\n",
              "19     West   organic    243\n",
              "20     West   adwords    241\n",
              "21     West  facebook    229\n",
              "22     West   twitter    122\n",
              "23     West    banner    116\n",
              "\n",
              "[24 rows x 3 columns]"
            ]
          },
          "metadata": {
            "tags": []
          },
          "execution_count": 128
        }
      ]
    }
  ]
}