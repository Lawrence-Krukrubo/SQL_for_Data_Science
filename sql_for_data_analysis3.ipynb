{
  "nbformat": 4,
  "nbformat_minor": 0,
  "metadata": {
    "colab": {
      "name": "sql_for_data_analysis3.ipynb",
      "provenance": [],
      "authorship_tag": "ABX9TyO0Mms9y3Iq7l47EAjVKUhO",
      "include_colab_link": true
    },
    "kernelspec": {
      "name": "python3",
      "display_name": "Python 3"
    }
  },
  "cells": [
    {
      "cell_type": "markdown",
      "metadata": {
        "id": "view-in-github",
        "colab_type": "text"
      },
      "source": [
        "<a href=\"https://colab.research.google.com/github/Lawrence-Krukrubo/SQL_for_Data_Science/blob/main/sql_for_data_analysis3.ipynb\" target=\"_parent\"><img src=\"https://colab.research.google.com/assets/colab-badge.svg\" alt=\"Open In Colab\"/></a>"
      ]
    },
    {
      "cell_type": "markdown",
      "metadata": {
        "id": "D_i0i2skl-qV"
      },
      "source": [
        "## **SQL AGGREGATIONS**"
      ]
    },
    {
      "cell_type": "markdown",
      "metadata": {
        "id": "1O4m1kI7pG1J"
      },
      "source": [
        "We connect to Google CloudSQL and make analysis with the Patch and Posey Database.<br>\r\n",
        "\r\n",
        "Thanks to this [article](https://towardsdatascience.com/sql-on-the-cloud-with-python-c08a30807661) for making the connection process clearer.\r\n",
        "\r\n",
        "If we want to download the parch-and-posey.sql file to maybe upload to a database, use this [link](https://storage.googleapis.com/kaggle1980/parch.sql) to the updated file from cloud-storage."
      ]
    },
    {
      "cell_type": "code",
      "metadata": {
        "colab": {
          "base_uri": "https://localhost:8080/"
        },
        "id": "5-e0MZQql15s",
        "outputId": "2af34d65-c6af-44f4-97e4-b32ecbee8eca"
      },
      "source": [
        "# Next mount gdrive\r\n",
        "from google.colab import drive\r\n",
        "drive.mount('/content/gdrive')"
      ],
      "execution_count": 1,
      "outputs": [
        {
          "output_type": "stream",
          "text": [
            "Mounted at /content/gdrive\n"
          ],
          "name": "stdout"
        }
      ]
    },
    {
      "cell_type": "code",
      "metadata": {
        "colab": {
          "base_uri": "https://localhost:8080/"
        },
        "id": "Ux--LqRzmDMP",
        "outputId": "223b3fbf-a4a5-4524-a127-7b6a82f287ba"
      },
      "source": [
        "# set working directory to Udacity\r\n",
        "%cd /content/gdrive/MyDrive/Colab_Notebooks/Udacity"
      ],
      "execution_count": 2,
      "outputs": [
        {
          "output_type": "stream",
          "text": [
            "/content/gdrive/MyDrive/Colab_Notebooks/Udacity\n"
          ],
          "name": "stdout"
        }
      ]
    },
    {
      "cell_type": "code",
      "metadata": {
        "colab": {
          "base_uri": "https://localhost:8080/"
        },
        "id": "KTMC4mtspjdV",
        "outputId": "f5f06952-298c-464a-fedf-f0caa01297b3"
      },
      "source": [
        "%ls"
      ],
      "execution_count": 3,
      "outputs": [
        {
          "output_type": "stream",
          "text": [
            " \u001b[0m\u001b[01;34maws_machine_learning_foundations\u001b[0m/   linear_algebra_refresher.ipynb\n",
            " client-cert.pem                    'linear-example-data (1).xlsx'\n",
            " client-key.pem                      Problem_Solving_w_Advanced_Analytics.ipynb\n",
            " \u001b[01;34mcomputer_vision\u001b[0m/                    server-ca.pem\n",
            " intro_to_algorithm.ipynb            \u001b[01;34mstatistics\u001b[0m/\n",
            " \u001b[01;34mintro_to_artificial_intelligence\u001b[0m/   time_series_forecasting.ipynb\n",
            " \u001b[01;34mintro_to_data_analysis\u001b[0m/             \u001b[01;34mUdac_Prog_Foundations_Python\u001b[0m/\n",
            " intro_to_machine_learning.ipynb     \u001b[01;34mversion_control_with_git\u001b[0m/\n"
          ],
          "name": "stdout"
        }
      ]
    },
    {
      "cell_type": "code",
      "metadata": {
        "colab": {
          "base_uri": "https://localhost:8080/"
        },
        "id": "PYtMVH8cptIr",
        "outputId": "7f725c6b-a49b-4c7d-f694-6391b55dfad0"
      },
      "source": [
        "# Install mySQL connector\r\n",
        "!pip install mysql-connector-python"
      ],
      "execution_count": 4,
      "outputs": [
        {
          "output_type": "stream",
          "text": [
            "Collecting mysql-connector-python\n",
            "\u001b[?25l  Downloading https://files.pythonhosted.org/packages/cc/ec/102bf59d0cdeb3b8fc82d6669bf96d57d133e44811ff57ad5e941bd8588d/mysql_connector_python-8.0.23-cp36-cp36m-manylinux1_x86_64.whl (18.0MB)\n",
            "\u001b[K     |████████████████████████████████| 18.1MB 74.0MB/s \n",
            "\u001b[?25hRequirement already satisfied: protobuf>=3.0.0 in /usr/local/lib/python3.6/dist-packages (from mysql-connector-python) (3.12.4)\n",
            "Requirement already satisfied: six>=1.9 in /usr/local/lib/python3.6/dist-packages (from protobuf>=3.0.0->mysql-connector-python) (1.15.0)\n",
            "Requirement already satisfied: setuptools in /usr/local/lib/python3.6/dist-packages (from protobuf>=3.0.0->mysql-connector-python) (53.0.0)\n",
            "Installing collected packages: mysql-connector-python\n",
            "Successfully installed mysql-connector-python-8.0.23\n"
          ],
          "name": "stdout"
        }
      ]
    },
    {
      "cell_type": "code",
      "metadata": {
        "colab": {
          "base_uri": "https://localhost:8080/"
        },
        "id": "1yVVsD6gp2C3",
        "outputId": "9b66d5ce-15c7-4c0d-80ed-3d5998b282d9"
      },
      "source": [
        "import mysql.connector\r\n",
        "from mysql.connector.constants import ClientFlag\r\n",
        "import pandas as pd\r\n",
        "import numpy as np\r\n",
        "import matplotlib.pyplot as plt\r\n",
        "import seaborn as sns\r\n",
        "from pprint import pprint\r\n",
        "import time\r\n",
        "from tqdm import tqdm\r\n",
        "print('Imported!')"
      ],
      "execution_count": 5,
      "outputs": [
        {
          "output_type": "stream",
          "text": [
            "Imported!\n"
          ],
          "name": "stdout"
        }
      ]
    },
    {
      "cell_type": "code",
      "metadata": {
        "colab": {
          "base_uri": "https://localhost:8080/"
        },
        "id": "uJyPYRMKqFSN",
        "outputId": "594d914c-871c-4aef-d3d7-fde182cf9090"
      },
      "source": [
        "config = {\r\n",
        "    'user': 'root',\r\n",
        "    'password': 'root',\r\n",
        "    'host': '35.226.26.66',\r\n",
        "    'client_flags': [ClientFlag.SSL],\r\n",
        "    'ssl_ca': 'server-ca.pem',\r\n",
        "    'ssl_cert': 'client-cert.pem',\r\n",
        "    'ssl_key': 'client-key.pem'\r\n",
        "}\r\n",
        "\r\n",
        "# now we establish our connection\r\n",
        "try:\r\n",
        "    cnxn = mysql.connector.connect(**config)\r\n",
        "    print('Connection to CloudSQL Instance Successful!')\r\n",
        "except Exception as e:\r\n",
        "    print(e)"
      ],
      "execution_count": 6,
      "outputs": [
        {
          "output_type": "stream",
          "text": [
            "Connection to CloudSQL Instance Successful!\n"
          ],
          "name": "stdout"
        }
      ]
    },
    {
      "cell_type": "code",
      "metadata": {
        "colab": {
          "base_uri": "https://localhost:8080/"
        },
        "id": "gJ26_yjXqU7v",
        "outputId": "4cd4d6d8-ac35-4dfa-9bda-4066356c9824"
      },
      "source": [
        "config"
      ],
      "execution_count": 7,
      "outputs": [
        {
          "output_type": "execute_result",
          "data": {
            "text/plain": [
              "{'client_flags': [2048],\n",
              " 'host': '35.226.26.66',\n",
              " 'password': 'root',\n",
              " 'ssl_ca': 'server-ca.pem',\n",
              " 'ssl_cert': 'client-cert.pem',\n",
              " 'ssl_key': 'client-key.pem',\n",
              " 'user': 'root'}"
            ]
          },
          "metadata": {
            "tags": []
          },
          "execution_count": 7
        }
      ]
    },
    {
      "cell_type": "markdown",
      "metadata": {
        "id": "dWLOY0vVqabZ"
      },
      "source": [
        "Now we connect to parch_and_posey_db by adding database: parch_and_posey_db to our config dictionary and connecting just like we did before:"
      ]
    },
    {
      "cell_type": "code",
      "metadata": {
        "id": "CWmbAmG3qb0h"
      },
      "source": [
        "config['database'] = 'parch_and_posey_db'  # add new database to config dict\r\n",
        "cnxn = mysql.connector.connect(**config)\r\n",
        "cursor = cnxn.cursor()"
      ],
      "execution_count": 8,
      "outputs": []
    },
    {
      "cell_type": "markdown",
      "metadata": {
        "id": "23u8Jw-Eqo3T"
      },
      "source": [
        "Let's see the first 3 data of the different tables in parch and posey database"
      ]
    },
    {
      "cell_type": "code",
      "metadata": {
        "colab": {
          "base_uri": "https://localhost:8080/"
        },
        "id": "h62d4wTFqqNa",
        "outputId": "6da20d09-8cfe-4ddb-c0d2-70f9a0237dae"
      },
      "source": [
        "# let's run the show tables command \r\n",
        "\r\n",
        "cursor.execute('show tables')\r\n",
        "out = cursor.fetchall()\r\n",
        "out"
      ],
      "execution_count": 9,
      "outputs": [
        {
          "output_type": "execute_result",
          "data": {
            "text/plain": [
              "[('accounts',), ('orders',), ('region',), ('sales_reps',), ('web_events',)]"
            ]
          },
          "metadata": {
            "tags": []
          },
          "execution_count": 9
        }
      ]
    },
    {
      "cell_type": "markdown",
      "metadata": {
        "id": "wCc5jgHhqzk_"
      },
      "source": [
        "Defining a method that converts a select query to a data frame"
      ]
    },
    {
      "cell_type": "code",
      "metadata": {
        "id": "LUeUN1J8q0Ti"
      },
      "source": [
        "def query_to_df(query):\r\n",
        "    st = time.time()\r\n",
        "    # Assert Every Query ends with a semi-colon\r\n",
        "    try:\r\n",
        "        assert query.endswith(';')\r\n",
        "    except AssertionError:\r\n",
        "        return 'ERROR: Query Must End with ;'\r\n",
        "\r\n",
        "    # so we never have more than 20 rows displayed\r\n",
        "    pd.set_option('display.max_rows', 20) \r\n",
        "    df = None\r\n",
        "\r\n",
        "    # Process the query\r\n",
        "    cursor.execute(query)\r\n",
        "    columns = cursor.description\r\n",
        "    result = []\r\n",
        "    for value in cursor.fetchall():\r\n",
        "        tmp = {}\r\n",
        "        for (index,column) in enumerate(value):\r\n",
        "            tmp[columns[index][0]] = [column]\r\n",
        "        result.append(tmp)\r\n",
        "\r\n",
        "    # Create a DataFrame from all results\r\n",
        "    for ind, data in enumerate(result):\r\n",
        "        if ind >= 1:\r\n",
        "            x = pd.DataFrame(data)\r\n",
        "            df = pd.concat([df, x], ignore_index=True)\r\n",
        "        else:\r\n",
        "            df = pd.DataFrame(data)\r\n",
        "    print(f'Query ran for {time.time()-st} secs!')\r\n",
        "    return df"
      ],
      "execution_count": 10,
      "outputs": []
    },
    {
      "cell_type": "code",
      "metadata": {
        "colab": {
          "base_uri": "https://localhost:8080/",
          "height": 153
        },
        "id": "291tQWPirUoH",
        "outputId": "1957efbd-bf72-419e-f7ee-c37a1441adfb"
      },
      "source": [
        "# 1. For the accounts table\r\n",
        "query = 'SELECT * FROM accounts LIMIT 3;'\r\n",
        "query_to_df(query)"
      ],
      "execution_count": 11,
      "outputs": [
        {
          "output_type": "stream",
          "text": [
            "Query ran for 0.05814862251281738 secs!\n"
          ],
          "name": "stdout"
        },
        {
          "output_type": "execute_result",
          "data": {
            "text/html": [
              "<div>\n",
              "<style scoped>\n",
              "    .dataframe tbody tr th:only-of-type {\n",
              "        vertical-align: middle;\n",
              "    }\n",
              "\n",
              "    .dataframe tbody tr th {\n",
              "        vertical-align: top;\n",
              "    }\n",
              "\n",
              "    .dataframe thead th {\n",
              "        text-align: right;\n",
              "    }\n",
              "</style>\n",
              "<table border=\"1\" class=\"dataframe\">\n",
              "  <thead>\n",
              "    <tr style=\"text-align: right;\">\n",
              "      <th></th>\n",
              "      <th>id</th>\n",
              "      <th>name</th>\n",
              "      <th>website</th>\n",
              "      <th>lats</th>\n",
              "      <th>longs</th>\n",
              "      <th>primary_poc</th>\n",
              "      <th>sales_rep_id</th>\n",
              "    </tr>\n",
              "  </thead>\n",
              "  <tbody>\n",
              "    <tr>\n",
              "      <th>0</th>\n",
              "      <td>1001</td>\n",
              "      <td>Walmart</td>\n",
              "      <td>www.walmart.com</td>\n",
              "      <td>40.238496</td>\n",
              "      <td>-75.103297</td>\n",
              "      <td>Tamara Tuma</td>\n",
              "      <td>321500</td>\n",
              "    </tr>\n",
              "    <tr>\n",
              "      <th>1</th>\n",
              "      <td>1011</td>\n",
              "      <td>Exxon Mobil</td>\n",
              "      <td>www.exxonmobil.com</td>\n",
              "      <td>41.169156</td>\n",
              "      <td>-73.849374</td>\n",
              "      <td>Sung Shields</td>\n",
              "      <td>321510</td>\n",
              "    </tr>\n",
              "    <tr>\n",
              "      <th>2</th>\n",
              "      <td>1021</td>\n",
              "      <td>Apple</td>\n",
              "      <td>www.apple.com</td>\n",
              "      <td>42.290495</td>\n",
              "      <td>-76.084009</td>\n",
              "      <td>Jodee Lupo</td>\n",
              "      <td>321520</td>\n",
              "    </tr>\n",
              "  </tbody>\n",
              "</table>\n",
              "</div>"
            ],
            "text/plain": [
              "     id         name             website  ...      longs   primary_poc sales_rep_id\n",
              "0  1001      Walmart     www.walmart.com  ... -75.103297   Tamara Tuma       321500\n",
              "1  1011  Exxon Mobil  www.exxonmobil.com  ... -73.849374  Sung Shields       321510\n",
              "2  1021        Apple       www.apple.com  ... -76.084009    Jodee Lupo       321520\n",
              "\n",
              "[3 rows x 7 columns]"
            ]
          },
          "metadata": {
            "tags": []
          },
          "execution_count": 11
        }
      ]
    },
    {
      "cell_type": "code",
      "metadata": {
        "colab": {
          "base_uri": "https://localhost:8080/",
          "height": 153
        },
        "id": "5-rCQwfJrXZn",
        "outputId": "260b9aed-2330-4743-87b0-88a391c82e4d"
      },
      "source": [
        "# 2. For the orders table\r\n",
        "query = 'SELECT * FROM orders LIMIT 3;'\r\n",
        "query_to_df(query)"
      ],
      "execution_count": 12,
      "outputs": [
        {
          "output_type": "stream",
          "text": [
            "Query ran for 0.04595661163330078 secs!\n"
          ],
          "name": "stdout"
        },
        {
          "output_type": "execute_result",
          "data": {
            "text/html": [
              "<div>\n",
              "<style scoped>\n",
              "    .dataframe tbody tr th:only-of-type {\n",
              "        vertical-align: middle;\n",
              "    }\n",
              "\n",
              "    .dataframe tbody tr th {\n",
              "        vertical-align: top;\n",
              "    }\n",
              "\n",
              "    .dataframe thead th {\n",
              "        text-align: right;\n",
              "    }\n",
              "</style>\n",
              "<table border=\"1\" class=\"dataframe\">\n",
              "  <thead>\n",
              "    <tr style=\"text-align: right;\">\n",
              "      <th></th>\n",
              "      <th>id</th>\n",
              "      <th>account_id</th>\n",
              "      <th>occurred_at</th>\n",
              "      <th>standard_qty</th>\n",
              "      <th>gloss_qty</th>\n",
              "      <th>poster_qty</th>\n",
              "      <th>total</th>\n",
              "      <th>standard_amt_usd</th>\n",
              "      <th>gloss_amt_usd</th>\n",
              "      <th>poster_amt_usd</th>\n",
              "      <th>total_amt_usd</th>\n",
              "    </tr>\n",
              "  </thead>\n",
              "  <tbody>\n",
              "    <tr>\n",
              "      <th>0</th>\n",
              "      <td>1</td>\n",
              "      <td>1001</td>\n",
              "      <td>2015-10-06 17:31:14</td>\n",
              "      <td>123</td>\n",
              "      <td>22</td>\n",
              "      <td>24</td>\n",
              "      <td>169</td>\n",
              "      <td>613.77</td>\n",
              "      <td>164.78</td>\n",
              "      <td>194.88</td>\n",
              "      <td>973.43</td>\n",
              "    </tr>\n",
              "    <tr>\n",
              "      <th>1</th>\n",
              "      <td>2</td>\n",
              "      <td>1001</td>\n",
              "      <td>2015-11-05 03:34:33</td>\n",
              "      <td>190</td>\n",
              "      <td>41</td>\n",
              "      <td>57</td>\n",
              "      <td>288</td>\n",
              "      <td>948.10</td>\n",
              "      <td>307.09</td>\n",
              "      <td>462.84</td>\n",
              "      <td>1718.03</td>\n",
              "    </tr>\n",
              "    <tr>\n",
              "      <th>2</th>\n",
              "      <td>3</td>\n",
              "      <td>1001</td>\n",
              "      <td>2015-12-04 04:21:55</td>\n",
              "      <td>85</td>\n",
              "      <td>47</td>\n",
              "      <td>0</td>\n",
              "      <td>132</td>\n",
              "      <td>424.15</td>\n",
              "      <td>352.03</td>\n",
              "      <td>0.00</td>\n",
              "      <td>776.18</td>\n",
              "    </tr>\n",
              "  </tbody>\n",
              "</table>\n",
              "</div>"
            ],
            "text/plain": [
              "   id  account_id  ... poster_amt_usd  total_amt_usd\n",
              "0   1        1001  ...         194.88         973.43\n",
              "1   2        1001  ...         462.84        1718.03\n",
              "2   3        1001  ...           0.00         776.18\n",
              "\n",
              "[3 rows x 11 columns]"
            ]
          },
          "metadata": {
            "tags": []
          },
          "execution_count": 12
        }
      ]
    },
    {
      "cell_type": "code",
      "metadata": {
        "colab": {
          "base_uri": "https://localhost:8080/",
          "height": 153
        },
        "id": "LzQgEHqjrhkj",
        "outputId": "43d3d089-83ce-423f-bf9e-9e76a500c509"
      },
      "source": [
        "# 3. For the sales_reps table\r\n",
        "query = 'SELECT * FROM sales_reps LIMIT 3;'\r\n",
        "query_to_df(query)"
      ],
      "execution_count": 13,
      "outputs": [
        {
          "output_type": "stream",
          "text": [
            "Query ran for 0.03916454315185547 secs!\n"
          ],
          "name": "stdout"
        },
        {
          "output_type": "execute_result",
          "data": {
            "text/html": [
              "<div>\n",
              "<style scoped>\n",
              "    .dataframe tbody tr th:only-of-type {\n",
              "        vertical-align: middle;\n",
              "    }\n",
              "\n",
              "    .dataframe tbody tr th {\n",
              "        vertical-align: top;\n",
              "    }\n",
              "\n",
              "    .dataframe thead th {\n",
              "        text-align: right;\n",
              "    }\n",
              "</style>\n",
              "<table border=\"1\" class=\"dataframe\">\n",
              "  <thead>\n",
              "    <tr style=\"text-align: right;\">\n",
              "      <th></th>\n",
              "      <th>id</th>\n",
              "      <th>name</th>\n",
              "      <th>region_id</th>\n",
              "    </tr>\n",
              "  </thead>\n",
              "  <tbody>\n",
              "    <tr>\n",
              "      <th>0</th>\n",
              "      <td>321500</td>\n",
              "      <td>Samuel Racine</td>\n",
              "      <td>1</td>\n",
              "    </tr>\n",
              "    <tr>\n",
              "      <th>1</th>\n",
              "      <td>321510</td>\n",
              "      <td>Eugena Esser</td>\n",
              "      <td>1</td>\n",
              "    </tr>\n",
              "    <tr>\n",
              "      <th>2</th>\n",
              "      <td>321520</td>\n",
              "      <td>Michel Averette</td>\n",
              "      <td>1</td>\n",
              "    </tr>\n",
              "  </tbody>\n",
              "</table>\n",
              "</div>"
            ],
            "text/plain": [
              "       id             name  region_id\n",
              "0  321500    Samuel Racine          1\n",
              "1  321510     Eugena Esser          1\n",
              "2  321520  Michel Averette          1"
            ]
          },
          "metadata": {
            "tags": []
          },
          "execution_count": 13
        }
      ]
    },
    {
      "cell_type": "code",
      "metadata": {
        "colab": {
          "base_uri": "https://localhost:8080/",
          "height": 153
        },
        "id": "s7qUlK52rhhi",
        "outputId": "67d29436-07d0-4c9b-8d39-98784123d09a"
      },
      "source": [
        "# 4. For the web_events table\r\n",
        "query = 'SELECT * FROM web_events LIMIT 3;'\r\n",
        "query_to_df(query)"
      ],
      "execution_count": 14,
      "outputs": [
        {
          "output_type": "stream",
          "text": [
            "Query ran for 0.04044938087463379 secs!\n"
          ],
          "name": "stdout"
        },
        {
          "output_type": "execute_result",
          "data": {
            "text/html": [
              "<div>\n",
              "<style scoped>\n",
              "    .dataframe tbody tr th:only-of-type {\n",
              "        vertical-align: middle;\n",
              "    }\n",
              "\n",
              "    .dataframe tbody tr th {\n",
              "        vertical-align: top;\n",
              "    }\n",
              "\n",
              "    .dataframe thead th {\n",
              "        text-align: right;\n",
              "    }\n",
              "</style>\n",
              "<table border=\"1\" class=\"dataframe\">\n",
              "  <thead>\n",
              "    <tr style=\"text-align: right;\">\n",
              "      <th></th>\n",
              "      <th>id</th>\n",
              "      <th>account_id</th>\n",
              "      <th>occurred_at</th>\n",
              "      <th>channel</th>\n",
              "    </tr>\n",
              "  </thead>\n",
              "  <tbody>\n",
              "    <tr>\n",
              "      <th>0</th>\n",
              "      <td>1</td>\n",
              "      <td>1001</td>\n",
              "      <td>2015-10-06 17:13:58</td>\n",
              "      <td>direct</td>\n",
              "    </tr>\n",
              "    <tr>\n",
              "      <th>1</th>\n",
              "      <td>2</td>\n",
              "      <td>1001</td>\n",
              "      <td>2015-11-05 03:08:26</td>\n",
              "      <td>direct</td>\n",
              "    </tr>\n",
              "    <tr>\n",
              "      <th>2</th>\n",
              "      <td>3</td>\n",
              "      <td>1001</td>\n",
              "      <td>2015-12-04 03:57:24</td>\n",
              "      <td>direct</td>\n",
              "    </tr>\n",
              "  </tbody>\n",
              "</table>\n",
              "</div>"
            ],
            "text/plain": [
              "   id  account_id         occurred_at channel\n",
              "0   1        1001 2015-10-06 17:13:58  direct\n",
              "1   2        1001 2015-11-05 03:08:26  direct\n",
              "2   3        1001 2015-12-04 03:57:24  direct"
            ]
          },
          "metadata": {
            "tags": []
          },
          "execution_count": 14
        }
      ]
    },
    {
      "cell_type": "code",
      "metadata": {
        "colab": {
          "base_uri": "https://localhost:8080/",
          "height": 153
        },
        "id": "R__FSZmBrzfm",
        "outputId": "4663bc82-e034-4d80-f123-ac213b22bbae"
      },
      "source": [
        "# 5. For the region table\r\n",
        "query = 'SELECT * FROM region LIMIT 3;'\r\n",
        "query_to_df(query)"
      ],
      "execution_count": 15,
      "outputs": [
        {
          "output_type": "stream",
          "text": [
            "Query ran for 0.037413597106933594 secs!\n"
          ],
          "name": "stdout"
        },
        {
          "output_type": "execute_result",
          "data": {
            "text/html": [
              "<div>\n",
              "<style scoped>\n",
              "    .dataframe tbody tr th:only-of-type {\n",
              "        vertical-align: middle;\n",
              "    }\n",
              "\n",
              "    .dataframe tbody tr th {\n",
              "        vertical-align: top;\n",
              "    }\n",
              "\n",
              "    .dataframe thead th {\n",
              "        text-align: right;\n",
              "    }\n",
              "</style>\n",
              "<table border=\"1\" class=\"dataframe\">\n",
              "  <thead>\n",
              "    <tr style=\"text-align: right;\">\n",
              "      <th></th>\n",
              "      <th>id</th>\n",
              "      <th>name</th>\n",
              "    </tr>\n",
              "  </thead>\n",
              "  <tbody>\n",
              "    <tr>\n",
              "      <th>0</th>\n",
              "      <td>1</td>\n",
              "      <td>Northeast</td>\n",
              "    </tr>\n",
              "    <tr>\n",
              "      <th>1</th>\n",
              "      <td>2</td>\n",
              "      <td>Midwest</td>\n",
              "    </tr>\n",
              "    <tr>\n",
              "      <th>2</th>\n",
              "      <td>3</td>\n",
              "      <td>Southeast</td>\n",
              "    </tr>\n",
              "  </tbody>\n",
              "</table>\n",
              "</div>"
            ],
            "text/plain": [
              "   id       name\n",
              "0   1  Northeast\n",
              "1   2    Midwest\n",
              "2   3  Southeast"
            ]
          },
          "metadata": {
            "tags": []
          },
          "execution_count": 15
        }
      ]
    },
    {
      "cell_type": "code",
      "metadata": {
        "colab": {
          "base_uri": "https://localhost:8080/",
          "height": 153
        },
        "id": "ViqZHglgsClU",
        "outputId": "839e5790-e08e-47ae-b881-f204a5a32b25"
      },
      "source": [
        "region = query_to_df(query)\r\n",
        "region.head()"
      ],
      "execution_count": 16,
      "outputs": [
        {
          "output_type": "stream",
          "text": [
            "Query ran for 0.036028146743774414 secs!\n"
          ],
          "name": "stdout"
        },
        {
          "output_type": "execute_result",
          "data": {
            "text/html": [
              "<div>\n",
              "<style scoped>\n",
              "    .dataframe tbody tr th:only-of-type {\n",
              "        vertical-align: middle;\n",
              "    }\n",
              "\n",
              "    .dataframe tbody tr th {\n",
              "        vertical-align: top;\n",
              "    }\n",
              "\n",
              "    .dataframe thead th {\n",
              "        text-align: right;\n",
              "    }\n",
              "</style>\n",
              "<table border=\"1\" class=\"dataframe\">\n",
              "  <thead>\n",
              "    <tr style=\"text-align: right;\">\n",
              "      <th></th>\n",
              "      <th>id</th>\n",
              "      <th>name</th>\n",
              "    </tr>\n",
              "  </thead>\n",
              "  <tbody>\n",
              "    <tr>\n",
              "      <th>0</th>\n",
              "      <td>1</td>\n",
              "      <td>Northeast</td>\n",
              "    </tr>\n",
              "    <tr>\n",
              "      <th>1</th>\n",
              "      <td>2</td>\n",
              "      <td>Midwest</td>\n",
              "    </tr>\n",
              "    <tr>\n",
              "      <th>2</th>\n",
              "      <td>3</td>\n",
              "      <td>Southeast</td>\n",
              "    </tr>\n",
              "  </tbody>\n",
              "</table>\n",
              "</div>"
            ],
            "text/plain": [
              "   id       name\n",
              "0   1  Northeast\n",
              "1   2    Midwest\n",
              "2   3  Southeast"
            ]
          },
          "metadata": {
            "tags": []
          },
          "execution_count": 16
        }
      ]
    },
    {
      "cell_type": "markdown",
      "metadata": {
        "id": "FUxKsZzYtF01"
      },
      "source": [
        "**In essential, row-level data are useful for initial exploratory data analysis, when we're trying to get a feel of the data... But as we search for answers, aggregate-data which are often done along columns, become more useful...**"
      ]
    },
    {
      "cell_type": "markdown",
      "metadata": {
        "id": "GMMMbDgNv19o"
      },
      "source": [
        "## Nulls:\r\n",
        "\r\n",
        "NULLs are a datatype that specifies where no data exists in SQL. They are often ignored in our aggregation functions\r\n",
        "\r\n",
        "* Notice that NULLs are different than a zero - they are cells where data does not exist.\r\n",
        "\r\n",
        "* When identifying NULLs in a WHERE clause, we write IS NULL or IS NOT NULL. We don't use =, because NULL isn't considered a value in SQL. Rather, it is a property of the data.\r\n",
        "\r\n",
        "**NULLs - Expert Tip**\r\n",
        "* There are two common ways in which you are likely to encounter NULLs:\r\n",
        "\r\n",
        "* NULLs frequently occur when performing a LEFT or RIGHT JOIN. You saw in the last lesson - when some rows in the left table of a left join are not matched with rows in the right table, those rows will contain some NULL values in the result set.\r\n",
        "\r\n",
        "* NULLs can also occur from simply missing data in our database."
      ]
    },
    {
      "cell_type": "markdown",
      "metadata": {
        "id": "JB8MZsFhyFc8"
      },
      "source": [
        "**COUNT the Number of Rows in each Table**\r\n",
        "\r\n",
        "Try your hand at finding the number of rows in each table."
      ]
    },
    {
      "cell_type": "code",
      "metadata": {
        "colab": {
          "base_uri": "https://localhost:8080/"
        },
        "id": "vaEaQC4_tbny",
        "outputId": "523222b2-1a67-4e11-ffbf-e90ebbcb8935"
      },
      "source": [
        "for table in ['orders','accounts','web_events','region','sales_reps']:\r\n",
        "    query = f'SELECT COUNT(*) AS row_count FROM {table};'\r\n",
        "    ans = query_to_df(query)\r\n",
        "    print(f'Table {table}:')\r\n",
        "    print(ans)\r\n",
        "    print()"
      ],
      "execution_count": 29,
      "outputs": [
        {
          "output_type": "stream",
          "text": [
            "Query ran for 0.03824758529663086 secs!\n",
            "Table orders:\n",
            "   row_count\n",
            "0       6912\n",
            "\n",
            "Query ran for 0.03505396842956543 secs!\n",
            "Table accounts:\n",
            "   row_count\n",
            "0        351\n",
            "\n",
            "Query ran for 0.03638911247253418 secs!\n",
            "Table web_events:\n",
            "   row_count\n",
            "0       9073\n",
            "\n",
            "Query ran for 0.03323507308959961 secs!\n",
            "Table region:\n",
            "   row_count\n",
            "0          4\n",
            "\n",
            "Query ran for 0.03325486183166504 secs!\n",
            "Table sales_reps:\n",
            "   row_count\n",
            "0         50\n",
            "\n"
          ],
          "name": "stdout"
        }
      ]
    },
    {
      "cell_type": "markdown",
      "metadata": {
        "id": "av1i5vS89jeN"
      },
      "source": [
        "### COUNT:\r\n",
        "\r\n",
        "* Note that unlike other aggregations, `COUNT` can be used in columns of Non-Numerical values. Same too for `MIN` and `MAX` clauses.\r\n",
        "\r\n",
        "* Notice that `COUNT` does not consider rows that have `NULL` values. Therefore, this can be useful for quickly identifying which rows have missing data. "
      ]
    },
    {
      "cell_type": "markdown",
      "metadata": {
        "id": "yYHqRnSq-e-H"
      },
      "source": [
        "### SUM:\r\n",
        "\r\n",
        "* Unlike `COUNT`, you can only use `SUM` on numeric columns. However, `SUM` will ignore NULL values, as do the other aggregation functions you will see in the upcoming lessons.\r\n",
        "\r\n",
        "### Aggregation Reminder:\r\n",
        "\r\n",
        "An important thing to remember: aggregators only aggregate vertically - the values of a column. If you want to perform a calculation across rows, you would do this with simple arithmetic."
      ]
    },
    {
      "cell_type": "markdown",
      "metadata": {
        "id": "B0MCLjwk_Gw2"
      },
      "source": [
        "##Aggregation Question\r\n",
        "\r\n",
        "find the solution for each of the following questions. If you get stuck or want to check your answers, you can find the answers at the top of the next concept."
      ]
    },
    {
      "cell_type": "markdown",
      "metadata": {
        "id": "a_UEaQEM_O7R"
      },
      "source": [
        "#### Q1: Find the total amount of poster_qty paper ordered in the orders table."
      ]
    },
    {
      "cell_type": "code",
      "metadata": {
        "colab": {
          "base_uri": "https://localhost:8080/",
          "height": 94
        },
        "id": "oPJG95SD-Fp3",
        "outputId": "e991993a-8f4c-4696-db6b-9b540f93af59"
      },
      "source": [
        "query = 'SELECT SUM(poster_qty) FROM orders;'\r\n",
        "query_to_df(query)"
      ],
      "execution_count": 18,
      "outputs": [
        {
          "output_type": "stream",
          "text": [
            "Query ran for 0.05653810501098633 secs!\n"
          ],
          "name": "stdout"
        },
        {
          "output_type": "execute_result",
          "data": {
            "text/html": [
              "<div>\n",
              "<style scoped>\n",
              "    .dataframe tbody tr th:only-of-type {\n",
              "        vertical-align: middle;\n",
              "    }\n",
              "\n",
              "    .dataframe tbody tr th {\n",
              "        vertical-align: top;\n",
              "    }\n",
              "\n",
              "    .dataframe thead th {\n",
              "        text-align: right;\n",
              "    }\n",
              "</style>\n",
              "<table border=\"1\" class=\"dataframe\">\n",
              "  <thead>\n",
              "    <tr style=\"text-align: right;\">\n",
              "      <th></th>\n",
              "      <th>SUM(poster_qty)</th>\n",
              "    </tr>\n",
              "  </thead>\n",
              "  <tbody>\n",
              "    <tr>\n",
              "      <th>0</th>\n",
              "      <td>723646</td>\n",
              "    </tr>\n",
              "  </tbody>\n",
              "</table>\n",
              "</div>"
            ],
            "text/plain": [
              "  SUM(poster_qty)\n",
              "0          723646"
            ]
          },
          "metadata": {
            "tags": []
          },
          "execution_count": 18
        }
      ]
    },
    {
      "cell_type": "markdown",
      "metadata": {
        "id": "ZdgN65tGABD9"
      },
      "source": [
        "#### Q2: Find the total amount of standard_qty paper ordered in the orders table."
      ]
    },
    {
      "cell_type": "code",
      "metadata": {
        "colab": {
          "base_uri": "https://localhost:8080/",
          "height": 94
        },
        "id": "gUnQ5rEiAJED",
        "outputId": "d3ac6625-d254-4cb3-8972-4a324ee6c045"
      },
      "source": [
        "query = 'SELECT SUM(standard_qty) FROM orders;'\r\n",
        "query_to_df(query)"
      ],
      "execution_count": 19,
      "outputs": [
        {
          "output_type": "stream",
          "text": [
            "Query ran for 0.03706026077270508 secs!\n"
          ],
          "name": "stdout"
        },
        {
          "output_type": "execute_result",
          "data": {
            "text/html": [
              "<div>\n",
              "<style scoped>\n",
              "    .dataframe tbody tr th:only-of-type {\n",
              "        vertical-align: middle;\n",
              "    }\n",
              "\n",
              "    .dataframe tbody tr th {\n",
              "        vertical-align: top;\n",
              "    }\n",
              "\n",
              "    .dataframe thead th {\n",
              "        text-align: right;\n",
              "    }\n",
              "</style>\n",
              "<table border=\"1\" class=\"dataframe\">\n",
              "  <thead>\n",
              "    <tr style=\"text-align: right;\">\n",
              "      <th></th>\n",
              "      <th>SUM(standard_qty)</th>\n",
              "    </tr>\n",
              "  </thead>\n",
              "  <tbody>\n",
              "    <tr>\n",
              "      <th>0</th>\n",
              "      <td>1938346</td>\n",
              "    </tr>\n",
              "  </tbody>\n",
              "</table>\n",
              "</div>"
            ],
            "text/plain": [
              "  SUM(standard_qty)\n",
              "0           1938346"
            ]
          },
          "metadata": {
            "tags": []
          },
          "execution_count": 19
        }
      ]
    },
    {
      "cell_type": "markdown",
      "metadata": {
        "id": "5AJlenEjA2_1"
      },
      "source": [
        "#### Q4. Find the total dollar amount of sales using the total_amt_usd in the orders table."
      ]
    },
    {
      "cell_type": "code",
      "metadata": {
        "colab": {
          "base_uri": "https://localhost:8080/",
          "height": 94
        },
        "id": "Ia_qy5oTA6VJ",
        "outputId": "e552386c-ac9a-486b-947a-4d51b13e1507"
      },
      "source": [
        "query_to_df('SELECT SUM(total_amt_usd) FROM orders;')"
      ],
      "execution_count": 20,
      "outputs": [
        {
          "output_type": "stream",
          "text": [
            "Query ran for 0.03670692443847656 secs!\n"
          ],
          "name": "stdout"
        },
        {
          "output_type": "execute_result",
          "data": {
            "text/html": [
              "<div>\n",
              "<style scoped>\n",
              "    .dataframe tbody tr th:only-of-type {\n",
              "        vertical-align: middle;\n",
              "    }\n",
              "\n",
              "    .dataframe tbody tr th {\n",
              "        vertical-align: top;\n",
              "    }\n",
              "\n",
              "    .dataframe thead th {\n",
              "        text-align: right;\n",
              "    }\n",
              "</style>\n",
              "<table border=\"1\" class=\"dataframe\">\n",
              "  <thead>\n",
              "    <tr style=\"text-align: right;\">\n",
              "      <th></th>\n",
              "      <th>SUM(total_amt_usd)</th>\n",
              "    </tr>\n",
              "  </thead>\n",
              "  <tbody>\n",
              "    <tr>\n",
              "      <th>0</th>\n",
              "      <td>23141511.82</td>\n",
              "    </tr>\n",
              "  </tbody>\n",
              "</table>\n",
              "</div>"
            ],
            "text/plain": [
              "   SUM(total_amt_usd)\n",
              "0         23141511.82"
            ]
          },
          "metadata": {
            "tags": []
          },
          "execution_count": 20
        }
      ]
    },
    {
      "cell_type": "markdown",
      "metadata": {
        "id": "OJvGf-klBaWk"
      },
      "source": [
        "#### Q5. Find the total amount spent on standard_amt_usd and gloss_amt_usd paper for each order in the orders table. This should give a dollar amount for each order in the table."
      ]
    },
    {
      "cell_type": "code",
      "metadata": {
        "colab": {
          "base_uri": "https://localhost:8080/",
          "height": 418
        },
        "id": "WjIj2WjNBd4u",
        "outputId": "1711a7de-3fe2-41bb-819e-9506433c0aab"
      },
      "source": [
        "query_to_df(\r\n",
        "    'SELECT id, (standard_amt_usd + gloss_amt_usd) tot_amt_usd FROM orders;'\r\n",
        ")"
      ],
      "execution_count": 21,
      "outputs": [
        {
          "output_type": "stream",
          "text": [
            "Query ran for 7.3920910358428955 secs!\n"
          ],
          "name": "stdout"
        },
        {
          "output_type": "execute_result",
          "data": {
            "text/html": [
              "<div>\n",
              "<style scoped>\n",
              "    .dataframe tbody tr th:only-of-type {\n",
              "        vertical-align: middle;\n",
              "    }\n",
              "\n",
              "    .dataframe tbody tr th {\n",
              "        vertical-align: top;\n",
              "    }\n",
              "\n",
              "    .dataframe thead th {\n",
              "        text-align: right;\n",
              "    }\n",
              "</style>\n",
              "<table border=\"1\" class=\"dataframe\">\n",
              "  <thead>\n",
              "    <tr style=\"text-align: right;\">\n",
              "      <th></th>\n",
              "      <th>id</th>\n",
              "      <th>tot_amt_usd</th>\n",
              "    </tr>\n",
              "  </thead>\n",
              "  <tbody>\n",
              "    <tr>\n",
              "      <th>0</th>\n",
              "      <td>1</td>\n",
              "      <td>778.55</td>\n",
              "    </tr>\n",
              "    <tr>\n",
              "      <th>1</th>\n",
              "      <td>2</td>\n",
              "      <td>1255.19</td>\n",
              "    </tr>\n",
              "    <tr>\n",
              "      <th>2</th>\n",
              "      <td>3</td>\n",
              "      <td>776.18</td>\n",
              "    </tr>\n",
              "    <tr>\n",
              "      <th>3</th>\n",
              "      <td>4</td>\n",
              "      <td>958.24</td>\n",
              "    </tr>\n",
              "    <tr>\n",
              "      <th>4</th>\n",
              "      <td>5</td>\n",
              "      <td>756.13</td>\n",
              "    </tr>\n",
              "    <tr>\n",
              "      <th>...</th>\n",
              "      <td>...</td>\n",
              "      <td>...</td>\n",
              "    </tr>\n",
              "    <tr>\n",
              "      <th>6907</th>\n",
              "      <td>6908</td>\n",
              "      <td>1545.40</td>\n",
              "    </tr>\n",
              "    <tr>\n",
              "      <th>6908</th>\n",
              "      <td>6909</td>\n",
              "      <td>706.54</td>\n",
              "    </tr>\n",
              "    <tr>\n",
              "      <th>6909</th>\n",
              "      <td>6910</td>\n",
              "      <td>783.90</td>\n",
              "    </tr>\n",
              "    <tr>\n",
              "      <th>6910</th>\n",
              "      <td>6911</td>\n",
              "      <td>816.20</td>\n",
              "    </tr>\n",
              "    <tr>\n",
              "      <th>6911</th>\n",
              "      <td>6912</td>\n",
              "      <td>1427.89</td>\n",
              "    </tr>\n",
              "  </tbody>\n",
              "</table>\n",
              "<p>6912 rows × 2 columns</p>\n",
              "</div>"
            ],
            "text/plain": [
              "        id  tot_amt_usd\n",
              "0        1       778.55\n",
              "1        2      1255.19\n",
              "2        3       776.18\n",
              "3        4       958.24\n",
              "4        5       756.13\n",
              "...    ...          ...\n",
              "6907  6908      1545.40\n",
              "6908  6909       706.54\n",
              "6909  6910       783.90\n",
              "6910  6911       816.20\n",
              "6911  6912      1427.89\n",
              "\n",
              "[6912 rows x 2 columns]"
            ]
          },
          "metadata": {
            "tags": []
          },
          "execution_count": 21
        }
      ]
    },
    {
      "cell_type": "markdown",
      "metadata": {
        "id": "x3ibPY4LDkxz"
      },
      "source": [
        "#### Q6. Find the standard_amt_usd per unit of standard_qty paper. Your solution should use both an aggregation and a mathematical operator."
      ]
    },
    {
      "cell_type": "code",
      "metadata": {
        "colab": {
          "base_uri": "https://localhost:8080/",
          "height": 94
        },
        "id": "yztqlpvIDocz",
        "outputId": "1a0e6ac1-acd8-4252-96cd-5685708b275d"
      },
      "source": [
        "query_to_df(\r\n",
        " 'SELECT (SUM(standard_amt_usd)  / SUM(standard_qty)) \\\r\n",
        " standard_unit_usd FROM orders;'   \r\n",
        ")"
      ],
      "execution_count": 22,
      "outputs": [
        {
          "output_type": "stream",
          "text": [
            "Query ran for 0.039717674255371094 secs!\n"
          ],
          "name": "stdout"
        },
        {
          "output_type": "execute_result",
          "data": {
            "text/html": [
              "<div>\n",
              "<style scoped>\n",
              "    .dataframe tbody tr th:only-of-type {\n",
              "        vertical-align: middle;\n",
              "    }\n",
              "\n",
              "    .dataframe tbody tr th {\n",
              "        vertical-align: top;\n",
              "    }\n",
              "\n",
              "    .dataframe thead th {\n",
              "        text-align: right;\n",
              "    }\n",
              "</style>\n",
              "<table border=\"1\" class=\"dataframe\">\n",
              "  <thead>\n",
              "    <tr style=\"text-align: right;\">\n",
              "      <th></th>\n",
              "      <th>standard_unit_usd</th>\n",
              "    </tr>\n",
              "  </thead>\n",
              "  <tbody>\n",
              "    <tr>\n",
              "      <th>0</th>\n",
              "      <td>4.99</td>\n",
              "    </tr>\n",
              "  </tbody>\n",
              "</table>\n",
              "</div>"
            ],
            "text/plain": [
              "   standard_unit_usd\n",
              "0               4.99"
            ]
          },
          "metadata": {
            "tags": []
          },
          "execution_count": 22
        }
      ]
    },
    {
      "cell_type": "markdown",
      "metadata": {
        "id": "ZpfedkGMH09Y"
      },
      "source": [
        "### Min and Max\r\n",
        "\r\n",
        "Notice that `MIN` and `MAX` are aggregators that again ignore `NULL` values.\r\n",
        "\r\n",
        "#### Expert Tip\r\n",
        "Functionally, MIN and MAX are similar to COUNT in that they can be used on non-numerical columns. Depending on the column type, MIN will return the lowest number, earliest date, or non-numerical value as early in the alphabet as possible. As you might suspect, MAX does the opposite—it returns the highest number, the latest date, or the non-numerical value closest alphabetically to “Z.”"
      ]
    },
    {
      "cell_type": "markdown",
      "metadata": {
        "id": "Rqv1X_9lJGEX"
      },
      "source": [
        "### AVG:\r\n",
        "\r\n",
        "Similar to other software `AVG` returns the mean of the data - that is the sum of all of the values in the column divided by the number of values in a column. This aggregate function again ignores the `NULL` values in both the numerator and the denominator.\r\n",
        "\r\n",
        "If you want to count NULLs as zero, you will need to use SUM and COUNT. However, this is probably not a good idea if the NULL values truly just represent unknown values for a cell.\r\n",
        "\r\n",
        "####MEDIAN - Expert Tip\r\n",
        "\r\n",
        "One quick note that a median might be a more appropriate measure of center for this data, but finding the median happens to be a pretty difficult thing to get using SQL alone — so difficult that finding a median is occasionally asked as an interview question."
      ]
    },
    {
      "cell_type": "markdown",
      "metadata": {
        "id": "fxXoepK1J9V9"
      },
      "source": [
        "##Questions: MIN, MAX, & AVERAGE\r\n",
        "Answer the following questions."
      ]
    },
    {
      "cell_type": "markdown",
      "metadata": {
        "id": "PcLFehJOKLRv"
      },
      "source": [
        "#### 1. When was the earliest order ever placed? You only need to return the date."
      ]
    },
    {
      "cell_type": "code",
      "metadata": {
        "colab": {
          "base_uri": "https://localhost:8080/",
          "height": 94
        },
        "id": "MjG5OAPgIM18",
        "outputId": "a14a65f4-7b94-4a9f-a5d1-ecbe7cf52037"
      },
      "source": [
        "query_to_df(\r\n",
        "    'SELECT MIN(occurred_at) earliest_order FROM orders;'\r\n",
        ")"
      ],
      "execution_count": 23,
      "outputs": [
        {
          "output_type": "stream",
          "text": [
            "Query ran for 0.03742265701293945 secs!\n"
          ],
          "name": "stdout"
        },
        {
          "output_type": "execute_result",
          "data": {
            "text/html": [
              "<div>\n",
              "<style scoped>\n",
              "    .dataframe tbody tr th:only-of-type {\n",
              "        vertical-align: middle;\n",
              "    }\n",
              "\n",
              "    .dataframe tbody tr th {\n",
              "        vertical-align: top;\n",
              "    }\n",
              "\n",
              "    .dataframe thead th {\n",
              "        text-align: right;\n",
              "    }\n",
              "</style>\n",
              "<table border=\"1\" class=\"dataframe\">\n",
              "  <thead>\n",
              "    <tr style=\"text-align: right;\">\n",
              "      <th></th>\n",
              "      <th>earliest_order</th>\n",
              "    </tr>\n",
              "  </thead>\n",
              "  <tbody>\n",
              "    <tr>\n",
              "      <th>0</th>\n",
              "      <td>2013-12-04 04:22:44</td>\n",
              "    </tr>\n",
              "  </tbody>\n",
              "</table>\n",
              "</div>"
            ],
            "text/plain": [
              "       earliest_order\n",
              "0 2013-12-04 04:22:44"
            ]
          },
          "metadata": {
            "tags": []
          },
          "execution_count": 23
        }
      ]
    },
    {
      "cell_type": "markdown",
      "metadata": {
        "id": "88xJGqbBKjx7"
      },
      "source": [
        "#### 2. Try performing the same query as in question 1 without using an aggregation function."
      ]
    },
    {
      "cell_type": "code",
      "metadata": {
        "colab": {
          "base_uri": "https://localhost:8080/",
          "height": 94
        },
        "id": "gcJ4lRfyKlQH",
        "outputId": "9820cbc4-b0cc-4144-ff80-3223c501f86f"
      },
      "source": [
        "query_to_df(\r\n",
        "    'SELECT occurred_at earliest_order FROM orders ORDER BY occurred_at LIMIT 1;'\r\n",
        ")"
      ],
      "execution_count": 24,
      "outputs": [
        {
          "output_type": "stream",
          "text": [
            "Query ran for 0.03635287284851074 secs!\n"
          ],
          "name": "stdout"
        },
        {
          "output_type": "execute_result",
          "data": {
            "text/html": [
              "<div>\n",
              "<style scoped>\n",
              "    .dataframe tbody tr th:only-of-type {\n",
              "        vertical-align: middle;\n",
              "    }\n",
              "\n",
              "    .dataframe tbody tr th {\n",
              "        vertical-align: top;\n",
              "    }\n",
              "\n",
              "    .dataframe thead th {\n",
              "        text-align: right;\n",
              "    }\n",
              "</style>\n",
              "<table border=\"1\" class=\"dataframe\">\n",
              "  <thead>\n",
              "    <tr style=\"text-align: right;\">\n",
              "      <th></th>\n",
              "      <th>earliest_order</th>\n",
              "    </tr>\n",
              "  </thead>\n",
              "  <tbody>\n",
              "    <tr>\n",
              "      <th>0</th>\n",
              "      <td>2013-12-04 04:22:44</td>\n",
              "    </tr>\n",
              "  </tbody>\n",
              "</table>\n",
              "</div>"
            ],
            "text/plain": [
              "       earliest_order\n",
              "0 2013-12-04 04:22:44"
            ]
          },
          "metadata": {
            "tags": []
          },
          "execution_count": 24
        }
      ]
    },
    {
      "cell_type": "markdown",
      "metadata": {
        "id": "XUvcES0fLgy2"
      },
      "source": [
        "#### 3. When did the most recent (latest) web_event occur?"
      ]
    },
    {
      "cell_type": "code",
      "metadata": {
        "colab": {
          "base_uri": "https://localhost:8080/",
          "height": 94
        },
        "id": "YcBurfcgLkuk",
        "outputId": "20c3b9be-293e-4d46-dd42-6b0f649d3dd0"
      },
      "source": [
        "query_to_df(\r\n",
        "    'SELECT MAX(occurred_at) latest_event FROM web_events;'\r\n",
        ")"
      ],
      "execution_count": 25,
      "outputs": [
        {
          "output_type": "stream",
          "text": [
            "Query ran for 0.0563657283782959 secs!\n"
          ],
          "name": "stdout"
        },
        {
          "output_type": "execute_result",
          "data": {
            "text/html": [
              "<div>\n",
              "<style scoped>\n",
              "    .dataframe tbody tr th:only-of-type {\n",
              "        vertical-align: middle;\n",
              "    }\n",
              "\n",
              "    .dataframe tbody tr th {\n",
              "        vertical-align: top;\n",
              "    }\n",
              "\n",
              "    .dataframe thead th {\n",
              "        text-align: right;\n",
              "    }\n",
              "</style>\n",
              "<table border=\"1\" class=\"dataframe\">\n",
              "  <thead>\n",
              "    <tr style=\"text-align: right;\">\n",
              "      <th></th>\n",
              "      <th>latest_event</th>\n",
              "    </tr>\n",
              "  </thead>\n",
              "  <tbody>\n",
              "    <tr>\n",
              "      <th>0</th>\n",
              "      <td>2017-01-01 23:51:09</td>\n",
              "    </tr>\n",
              "  </tbody>\n",
              "</table>\n",
              "</div>"
            ],
            "text/plain": [
              "         latest_event\n",
              "0 2017-01-01 23:51:09"
            ]
          },
          "metadata": {
            "tags": []
          },
          "execution_count": 25
        }
      ]
    },
    {
      "cell_type": "markdown",
      "metadata": {
        "id": "KksvrdTrMKYm"
      },
      "source": [
        "#### 4. Try to perform the result of the previous query without using an aggregation function."
      ]
    },
    {
      "cell_type": "code",
      "metadata": {
        "colab": {
          "base_uri": "https://localhost:8080/",
          "height": 94
        },
        "id": "0dM1ZC-3MM2p",
        "outputId": "186584fe-1703-4881-d979-ca4c4d6ca8c0"
      },
      "source": [
        "query_to_df(\r\n",
        "    'SELECT occurred_at FROM web_events ORDER BY occurred_at DESC LIMIT 1;'\r\n",
        ")"
      ],
      "execution_count": 26,
      "outputs": [
        {
          "output_type": "stream",
          "text": [
            "Query ran for 0.037081003189086914 secs!\n"
          ],
          "name": "stdout"
        },
        {
          "output_type": "execute_result",
          "data": {
            "text/html": [
              "<div>\n",
              "<style scoped>\n",
              "    .dataframe tbody tr th:only-of-type {\n",
              "        vertical-align: middle;\n",
              "    }\n",
              "\n",
              "    .dataframe tbody tr th {\n",
              "        vertical-align: top;\n",
              "    }\n",
              "\n",
              "    .dataframe thead th {\n",
              "        text-align: right;\n",
              "    }\n",
              "</style>\n",
              "<table border=\"1\" class=\"dataframe\">\n",
              "  <thead>\n",
              "    <tr style=\"text-align: right;\">\n",
              "      <th></th>\n",
              "      <th>occurred_at</th>\n",
              "    </tr>\n",
              "  </thead>\n",
              "  <tbody>\n",
              "    <tr>\n",
              "      <th>0</th>\n",
              "      <td>2017-01-01 23:51:09</td>\n",
              "    </tr>\n",
              "  </tbody>\n",
              "</table>\n",
              "</div>"
            ],
            "text/plain": [
              "          occurred_at\n",
              "0 2017-01-01 23:51:09"
            ]
          },
          "metadata": {
            "tags": []
          },
          "execution_count": 26
        }
      ]
    },
    {
      "cell_type": "markdown",
      "metadata": {
        "id": "u0cmK8tXOcbi"
      },
      "source": [
        "#### 5. Find the mean (AVERAGE) amount spent per order on each paper type, as well as the mean amount of each paper type purchased per order. Your final answer should have 6 values - one for each paper type for the average number of sales, as well as the average amount."
      ]
    },
    {
      "cell_type": "code",
      "metadata": {
        "colab": {
          "base_uri": "https://localhost:8080/",
          "height": 94
        },
        "id": "Z8oShKsROeam",
        "outputId": "f1c7f3f9-0ab7-4d9c-fa45-b4c4be3f00f0"
      },
      "source": [
        "query_to_df(\r\n",
        "    'SELECT SUM(standard_amt_usd) / SUM(standard_qty) avg_standard_usd, \\\r\n",
        "    SUM(total) / SUM(standard_qty) avg_standard_qty, \\\r\n",
        "    SUM(gloss_amt_usd) / SUM(gloss_qty) avg_gloss_usd, \\\r\n",
        "    SUM(total) / SUM(gloss_qty) avg_gloss_qty, \\\r\n",
        "    SUM(poster_amt_usd) / SUM(poster_qty) avg_poster_usd, \\\r\n",
        "    SUM(total) / SUM(poster_qty) avg_poster_qty\\\r\n",
        "    FROM orders;'\r\n",
        ")"
      ],
      "execution_count": 27,
      "outputs": [
        {
          "output_type": "stream",
          "text": [
            "Query ran for 0.041762590408325195 secs!\n"
          ],
          "name": "stdout"
        },
        {
          "output_type": "execute_result",
          "data": {
            "text/html": [
              "<div>\n",
              "<style scoped>\n",
              "    .dataframe tbody tr th:only-of-type {\n",
              "        vertical-align: middle;\n",
              "    }\n",
              "\n",
              "    .dataframe tbody tr th {\n",
              "        vertical-align: top;\n",
              "    }\n",
              "\n",
              "    .dataframe thead th {\n",
              "        text-align: right;\n",
              "    }\n",
              "</style>\n",
              "<table border=\"1\" class=\"dataframe\">\n",
              "  <thead>\n",
              "    <tr style=\"text-align: right;\">\n",
              "      <th></th>\n",
              "      <th>avg_standard_usd</th>\n",
              "      <th>avg_standard_qty</th>\n",
              "      <th>avg_gloss_usd</th>\n",
              "      <th>avg_gloss_qty</th>\n",
              "      <th>avg_poster_usd</th>\n",
              "      <th>avg_poster_qty</th>\n",
              "    </tr>\n",
              "  </thead>\n",
              "  <tbody>\n",
              "    <tr>\n",
              "      <th>0</th>\n",
              "      <td>4.99</td>\n",
              "      <td>1.8963</td>\n",
              "      <td>7.49</td>\n",
              "      <td>3.6258</td>\n",
              "      <td>8.12</td>\n",
              "      <td>5.0795</td>\n",
              "    </tr>\n",
              "  </tbody>\n",
              "</table>\n",
              "</div>"
            ],
            "text/plain": [
              "   avg_standard_usd avg_standard_qty  ...  avg_poster_usd avg_poster_qty\n",
              "0              4.99           1.8963  ...            8.12         5.0795\n",
              "\n",
              "[1 rows x 6 columns]"
            ]
          },
          "metadata": {
            "tags": []
          },
          "execution_count": 27
        }
      ]
    },
    {
      "cell_type": "markdown",
      "metadata": {
        "id": "He9z17naXhgs"
      },
      "source": [
        "#### 6: Via the video, you might be interested in how to calculate the MEDIAN. Though this is more advanced than what we have covered so far try finding - what is the MEDIAN total_usd spent on all orders?"
      ]
    },
    {
      "cell_type": "code",
      "metadata": {
        "colab": {
          "base_uri": "https://localhost:8080/",
          "height": 123
        },
        "id": "DOBx0HGrXliZ",
        "outputId": "5b7d8124-6745-476e-df29-a3635cac2f03"
      },
      "source": [
        "query_to_df(\r\n",
        "    'SELECT * FROM \\\r\n",
        "    (SELECT total_amt_usd FROM orders ORDER BY total_amt_usd LIMIT 3457) \\\r\n",
        "    AS tot_amt ORDER BY total_amt_usd DESC LIMIT 2;'\r\n",
        ")"
      ],
      "execution_count": 28,
      "outputs": [
        {
          "output_type": "stream",
          "text": [
            "Query ran for 0.039069414138793945 secs!\n"
          ],
          "name": "stdout"
        },
        {
          "output_type": "execute_result",
          "data": {
            "text/html": [
              "<div>\n",
              "<style scoped>\n",
              "    .dataframe tbody tr th:only-of-type {\n",
              "        vertical-align: middle;\n",
              "    }\n",
              "\n",
              "    .dataframe tbody tr th {\n",
              "        vertical-align: top;\n",
              "    }\n",
              "\n",
              "    .dataframe thead th {\n",
              "        text-align: right;\n",
              "    }\n",
              "</style>\n",
              "<table border=\"1\" class=\"dataframe\">\n",
              "  <thead>\n",
              "    <tr style=\"text-align: right;\">\n",
              "      <th></th>\n",
              "      <th>total_amt_usd</th>\n",
              "    </tr>\n",
              "  </thead>\n",
              "  <tbody>\n",
              "    <tr>\n",
              "      <th>0</th>\n",
              "      <td>2483.16</td>\n",
              "    </tr>\n",
              "    <tr>\n",
              "      <th>1</th>\n",
              "      <td>2482.55</td>\n",
              "    </tr>\n",
              "  </tbody>\n",
              "</table>\n",
              "</div>"
            ],
            "text/plain": [
              "   total_amt_usd\n",
              "0        2483.16\n",
              "1        2482.55"
            ]
          },
          "metadata": {
            "tags": []
          },
          "execution_count": 28
        }
      ]
    }
  ]
}